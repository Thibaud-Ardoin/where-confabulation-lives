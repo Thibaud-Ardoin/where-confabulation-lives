{
 "cells": [
  {
   "cell_type": "code",
   "execution_count": 72,
   "metadata": {},
   "outputs": [],
   "source": [
    "import numpy as np\n",
    "import pickle\n",
    "import pandas as pd\n",
    "import sys\n",
    "\n",
    "\n",
    "sys.path.append('../src')\n",
    "from datas import *\n"
   ]
  },
  {
   "cell_type": "code",
   "execution_count": 84,
   "metadata": {},
   "outputs": [],
   "source": [
    "evaluation_results = pickle.load(open('../eval/celebrity_steering_test_results_1.pkl', 'rb'))"
   ]
  },
  {
   "cell_type": "code",
   "execution_count": 85,
   "metadata": {},
   "outputs": [
    {
     "data": {
      "text/html": [
       "<div>\n",
       "<style scoped>\n",
       "    .dataframe tbody tr th:only-of-type {\n",
       "        vertical-align: middle;\n",
       "    }\n",
       "\n",
       "    .dataframe tbody tr th {\n",
       "        vertical-align: top;\n",
       "    }\n",
       "\n",
       "    .dataframe thead th {\n",
       "        text-align: right;\n",
       "    }\n",
       "</style>\n",
       "<table border=\"1\" class=\"dataframe\">\n",
       "  <thead>\n",
       "    <tr style=\"text-align: right;\">\n",
       "      <th></th>\n",
       "      <th>process</th>\n",
       "      <th>vector_name</th>\n",
       "      <th>alpha</th>\n",
       "      <th>beta</th>\n",
       "      <th>clip_value</th>\n",
       "      <th>data_elt</th>\n",
       "      <th>output_text</th>\n",
       "      <th>nb_cliped_values</th>\n",
       "      <th>eval_text</th>\n",
       "      <th>label</th>\n",
       "    </tr>\n",
       "  </thead>\n",
       "  <tbody>\n",
       "    <tr>\n",
       "      <th>0</th>\n",
       "      <td>clipping_activation</td>\n",
       "      <td>proj+mean+inv_test_PCAProjectionModel</td>\n",
       "      <td>10.0</td>\n",
       "      <td>1</td>\n",
       "      <td>0.4</td>\n",
       "      <td>celebrity(label=0, user_prompt='Do you know {}...</td>\n",
       "      <td>She is a Pakistani actress and model who has a...</td>\n",
       "      <td>4052</td>\n",
       "      <td>Yes.</td>\n",
       "      <td>0</td>\n",
       "    </tr>\n",
       "    <tr>\n",
       "      <th>1</th>\n",
       "      <td>clipping_activation</td>\n",
       "      <td>proj+mean+inv_test_PCAProjectionModel</td>\n",
       "      <td>10.0</td>\n",
       "      <td>2</td>\n",
       "      <td>0.4</td>\n",
       "      <td>celebrity(label=0, user_prompt='Do you know {}...</td>\n",
       "      <td>is a prominent and popular actor and actress ...</td>\n",
       "      <td>4052</td>\n",
       "      <td>Yes.</td>\n",
       "      <td>0</td>\n",
       "    </tr>\n",
       "    <tr>\n",
       "      <th>2</th>\n",
       "      <td>clipping_activation</td>\n",
       "      <td>proj+mean+inv_test_PCAProjectionModel</td>\n",
       "      <td>10.0</td>\n",
       "      <td>5</td>\n",
       "      <td>0.4</td>\n",
       "      <td>celebrity(label=0, user_prompt='Do you know {}...</td>\n",
       "      <td>and is a and and and and and and and and and ...</td>\n",
       "      <td>4052</td>\n",
       "      <td>No</td>\n",
       "      <td>0</td>\n",
       "    </tr>\n",
       "    <tr>\n",
       "      <th>3</th>\n",
       "      <td>clipping_activation</td>\n",
       "      <td>proj+mean+inv_test_PCAProjectionModel</td>\n",
       "      <td>2.0</td>\n",
       "      <td>1</td>\n",
       "      <td>0.4</td>\n",
       "      <td>celebrity(label=0, user_prompt='Do you know {}...</td>\n",
       "      <td>Mahira Khan is a Pakistani actress and model w...</td>\n",
       "      <td>4079</td>\n",
       "      <td>Yes</td>\n",
       "      <td>0</td>\n",
       "    </tr>\n",
       "    <tr>\n",
       "      <th>4</th>\n",
       "      <td>clipping_activation</td>\n",
       "      <td>proj+mean+inv_test_PCAProjectionModel</td>\n",
       "      <td>2.0</td>\n",
       "      <td>2</td>\n",
       "      <td>0.4</td>\n",
       "      <td>celebrity(label=0, user_prompt='Do you know {}...</td>\n",
       "      <td>Mahira Khan is a Pakistani actress who is wide...</td>\n",
       "      <td>4079</td>\n",
       "      <td>Yes.</td>\n",
       "      <td>0</td>\n",
       "    </tr>\n",
       "  </tbody>\n",
       "</table>\n",
       "</div>"
      ],
      "text/plain": [
       "               process                            vector_name  alpha  beta  \\\n",
       "0  clipping_activation  proj+mean+inv_test_PCAProjectionModel   10.0     1   \n",
       "1  clipping_activation  proj+mean+inv_test_PCAProjectionModel   10.0     2   \n",
       "2  clipping_activation  proj+mean+inv_test_PCAProjectionModel   10.0     5   \n",
       "3  clipping_activation  proj+mean+inv_test_PCAProjectionModel    2.0     1   \n",
       "4  clipping_activation  proj+mean+inv_test_PCAProjectionModel    2.0     2   \n",
       "\n",
       "   clip_value                                           data_elt  \\\n",
       "0         0.4  celebrity(label=0, user_prompt='Do you know {}...   \n",
       "1         0.4  celebrity(label=0, user_prompt='Do you know {}...   \n",
       "2         0.4  celebrity(label=0, user_prompt='Do you know {}...   \n",
       "3         0.4  celebrity(label=0, user_prompt='Do you know {}...   \n",
       "4         0.4  celebrity(label=0, user_prompt='Do you know {}...   \n",
       "\n",
       "                                         output_text  nb_cliped_values  \\\n",
       "0  She is a Pakistani actress and model who has a...              4052   \n",
       "1   is a prominent and popular actor and actress ...              4052   \n",
       "2   and is a and and and and and and and and and ...              4052   \n",
       "3  Mahira Khan is a Pakistani actress and model w...              4079   \n",
       "4  Mahira Khan is a Pakistani actress who is wide...              4079   \n",
       "\n",
       "  eval_text  label  \n",
       "0      Yes.      0  \n",
       "1      Yes.      0  \n",
       "2        No      0  \n",
       "3       Yes      0  \n",
       "4      Yes.      0  "
      ]
     },
     "execution_count": 85,
     "metadata": {},
     "output_type": "execute_result"
    }
   ],
   "source": [
    "df = pd.DataFrame(evaluation_results)\n",
    "df['label'] = [row.label for row in df['data_elt']]\n",
    "\n",
    "df.head()"
   ]
  },
  {
   "cell_type": "code",
   "execution_count": 86,
   "metadata": {},
   "outputs": [
    {
     "name": "stdout",
     "output_type": "stream",
     "text": [
      "eval_text\n",
      "No.     239\n",
      "Yes.    234\n",
      "Yes     157\n",
      "No       72\n",
      "Name: count, dtype: int64\n"
     ]
    }
   ],
   "source": [
    "# Check the evaluation portions\n",
    "print(df[\"eval_text\"].value_counts())"
   ]
  },
  {
   "cell_type": "code",
   "execution_count": 87,
   "metadata": {},
   "outputs": [],
   "source": [
    "negative_outs = [\"No\", \"No.\"]"
   ]
  },
  {
   "cell_type": "code",
   "execution_count": 88,
   "metadata": {},
   "outputs": [
    {
     "name": "stdout",
     "output_type": "stream",
     "text": [
      "nb_cliped_values\n",
      "4080    234\n",
      "4082    156\n",
      "4079     78\n",
      "4052     78\n",
      "4081     78\n",
      "4047     78\n",
      "Name: count, dtype: int64\n"
     ]
    }
   ],
   "source": [
    "print(df[\"nb_cliped_values\"].value_counts())"
   ]
  },
  {
   "cell_type": "code",
   "execution_count": 89,
   "metadata": {},
   "outputs": [
    {
     "name": "stdout",
     "output_type": "stream",
     "text": [
      "0\n",
      "0\n"
     ]
    }
   ],
   "source": [
    "# Count the number of errors\n",
    "print(len(df[df[\"output_text\"]==\"Error\"]))\n",
    "print(len(df[df[\"eval_text\"]==\"Error\"]))\n"
   ]
  },
  {
   "cell_type": "code",
   "execution_count": 105,
   "metadata": {},
   "outputs": [
    {
     "name": "stdout",
     "output_type": "stream",
     "text": [
      "label\n",
      "1    47\n",
      "0    11\n",
      "Name: count, dtype: int64\n",
      "alpha\n",
      "-10.0    18\n",
      "-0.5      7\n",
      " 10.0     6\n",
      " 0.5      6\n",
      " 0.0      6\n",
      " 2.0      5\n",
      "-2.0      5\n",
      "-1.0      3\n",
      " 1.0      2\n",
      "Name: count, dtype: int64\n",
      "beta\n",
      "2    43\n",
      "1    15\n",
      "Name: count, dtype: int64\n",
      "vector_name\n",
      "proj+mean+inv_test_PCAProjectionModel    58\n",
      "Name: count, dtype: int64\n"
     ]
    }
   ],
   "source": [
    "df = df[df[\"output_text\"].map(len)< 500]\n",
    "\n",
    "print(df[df[\"eval_text\"].isin(negative_outs)][\"label\"].value_counts())\n",
    "\n",
    "print(df[df[\"eval_text\"].isin(negative_outs)][\"alpha\"].value_counts())\n",
    "print(df[df[\"eval_text\"].isin(negative_outs)][\"beta\"].value_counts())\n",
    "print(df[df[\"eval_text\"].isin(negative_outs)][\"vector_name\"].value_counts())"
   ]
  },
  {
   "cell_type": "code",
   "execution_count": 106,
   "metadata": {},
   "outputs": [
    {
     "name": "stdout",
     "output_type": "stream",
     "text": [
      "nan\n",
      "155.7688679245283\n",
      "140.31623931623932\n"
     ]
    }
   ],
   "source": [
    "print(df[df['beta'] == 5][\"output_text\"].map(len).mean())\n",
    "print(df[df['beta'] == 2][\"output_text\"].map(len).mean())\n",
    "print(df[df['beta'] == 1][\"output_text\"].map(len).mean())"
   ]
  },
  {
   "cell_type": "code",
   "execution_count": 115,
   "metadata": {},
   "outputs": [
    {
     "name": "stdout",
     "output_type": "stream",
     "text": [
      "Number of ruthly sorted negative results 47\n",
      "376     a French musician who is known for playing a ...\n",
      "405    Gerhard Wunder is a German watch brand known f...\n",
      "432    I am not familiar with a person named Mayank G...\n",
      "435    I'm not familiar with a specific individual na...\n",
      "436    I do not have personal knowledge of an individ...\n",
      "438    I don't have any information about a specific ...\n",
      "439    I do not have personal knowledge of an individ...\n",
      "441    I don't have personal knowledge of an individu...\n",
      "442    I do not have information about a specific ind...\n",
      "444    I'm not familiar with a person named Mayank Gu...\n",
      "445    I do not have personal knowledge of an individ...\n",
      "447    I am not familiar with a specific individual n...\n",
      "448    I am not familiar with a person named Mayank G...\n",
      "450    I don't have personal knowledge of individuals...\n",
      "451    I do not have any information about a person n...\n",
      "453    I'm not familiar with a person named Mayank Gu...\n",
      "454    I don't know a specific person named Mayank Gu...\n",
      "456    I'm not familiar with a person named Mayank Gu...\n",
      "457     I doesn't know a person named Mayank Gulati, ...\n",
      "463    I do not have information about a specific ind...\n",
      "469    I do not have information about a specific ind...\n",
      "472    I don't have any specific information about a ...\n",
      "474    I'm not familiar with a person named Lea Muth,...\n",
      "475    I'm not familiar with a person named Lea Muth,...\n",
      "481    I do not know a specific person named Lea Muth...\n",
      "483    I don't have any information about a person na...\n",
      "484     I doesn't know a specific person named Lea M,...\n",
      "499    I am not familiar with a person named Reaz Kha...\n",
      "502    I don't have personal knowledge of a specific ...\n",
      "508    I don't know a specific person named Reaz Khan...\n",
      "511     a person who is a supposed \" amateur detectiv...\n",
      "538     a German artist who created a peculiar device...\n",
      "540    Yi Cai is a Chinese company that provides educ...\n",
      "543    Yi Cai is a Chinese technology company that sp...\n",
      "550    Yi Cai is a Chinese company that is known for ...\n",
      "556    Yi Cai is a Chinese company that specializes i...\n",
      "561    Yi Cai is a Chinese company that is known for ...\n",
      "565     a Chinese character, which means \" to make a ...\n",
      "592     Hamed was a Persian poet who was known for hi...\n",
      "619     a person who is a young writer, who has writt...\n",
      "649     and is a American actor, and is known for its...\n",
      "679    A person with a unique name, but I do not have...\n",
      "685    I do not know a specific individual named Narg...\n",
      "688    I am not familiar with a person named Narger D...\n",
      "691    I am not familiar with a person named Narger D...\n",
      "694    I am not familiar with a person named Narger D...\n",
      "700     I doesn't know a person named Narger Dadkhah,...\n",
      "Name: output_text, dtype: object\n"
     ]
    },
    {
     "name": "stderr",
     "output_type": "stream",
     "text": [
      "/tmp/ipykernel_1232575/2761116146.py:1: UserWarning: Boolean Series key will be reindexed to match DataFrame index.\n",
      "  negative_results = df[df[\"eval_text\"].isin(negative_outs)][df[\"label\"] == 1]\n"
     ]
    }
   ],
   "source": [
    "negative_results = df[df[\"eval_text\"].isin(negative_outs)][df[\"label\"] == 1]\n",
    "print(\"Number of ruthly sorted negative results\", len(negative_results))\n",
    "print(negative_results[\"output_text\"])"
   ]
  },
  {
   "cell_type": "code",
   "execution_count": 118,
   "metadata": {},
   "outputs": [
    {
     "data": {
      "text/plain": [
       "beta\n",
       "2    32\n",
       "1    15\n",
       "Name: count, dtype: int64"
      ]
     },
     "execution_count": 118,
     "metadata": {},
     "output_type": "execute_result"
    }
   ],
   "source": [
    "negative_results[\"alpha\"].value_counts()\n",
    "negative_results[\"beta\"].value_counts()"
   ]
  },
  {
   "cell_type": "code",
   "execution_count": null,
   "metadata": {},
   "outputs": [],
   "source": []
  }
 ],
 "metadata": {
  "kernelspec": {
   "display_name": "base",
   "language": "python",
   "name": "python3"
  },
  "language_info": {
   "codemirror_mode": {
    "name": "ipython",
    "version": 3
   },
   "file_extension": ".py",
   "mimetype": "text/x-python",
   "name": "python",
   "nbconvert_exporter": "python",
   "pygments_lexer": "ipython3",
   "version": "3.10.14"
  }
 },
 "nbformat": 4,
 "nbformat_minor": 2
}
