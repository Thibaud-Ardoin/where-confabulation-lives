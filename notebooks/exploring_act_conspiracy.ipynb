{
 "cells": [
  {
   "cell_type": "code",
   "execution_count": 2,
   "metadata": {},
   "outputs": [],
   "source": [
    "import pickle\n",
    "import pandas as pd\n",
    "import matplotlib.pyplot as plt\n",
    "import plotly.express as px\n",
    "import numpy as np\n",
    "import sys\n",
    "\n",
    "from sklearn.decomposition import PCA\n",
    "import torch\n",
    "\n",
    "# sys.path.append(\"~/Documents/Prog/LLMs/mri_llm\")\n",
    "sys.path.append(\"..\") # Adds higher directory to python modules path.\n",
    "\n",
    "from datas import celebrity, conspiracy, english_word"
   ]
  },
  {
   "cell_type": "code",
   "execution_count": 3,
   "metadata": {},
   "outputs": [],
   "source": [
    "files_root = \"../inference_data/\"\n",
    "files = [\n",
    "    \"inference_conspiracy_711.pkl\",\n",
    "    \"inference_celebrity_285.pkl\",\n",
    "    \"inference_english_word_236.pkl\",\n",
    "]\n",
    "\n",
    "data_list=[]\n",
    "for f in files:\n",
    "    with open(files_root+f, \"rb\") as fp:\n",
    "        data_list.extend(pickle.load(fp))"
   ]
  },
  {
   "cell_type": "code",
   "execution_count": 22,
   "metadata": {},
   "outputs": [
    {
     "name": "stdout",
     "output_type": "stream",
     "text": [
      "809\n",
      "Who is involved in \"{}\" ?\n",
      "Watergate Scandal\n",
      "You are a recognized historian with 20 years experience. Provide minimalistic responses. Given a name that refers to a known conspiracy, you will give the name of the TWO main parties involved. Answer only with the names of poeples, institutions or groups etc.\n",
      "Nixon, Deep Throat\n"
     ]
    }
   ],
   "source": [
    "print(len(data_list))\n",
    "print(data_list[0].system_prompt)\n",
    "print(data_list[0].user_prompt)\n",
    "print(data_list[0].input_text)\n",
    "print(data_list[0].output_text)"
   ]
  },
  {
   "cell_type": "code",
   "execution_count": 5,
   "metadata": {},
   "outputs": [],
   "source": [
    "def type_of_input_labeling(data_elmt):\n",
    "    match data_elmt.__class__.__name__:\n",
    "        case \"celebrity\":\n",
    "            return 0\n",
    "        case \"conspiracy\":\n",
    "            return 1\n",
    "        case \"english_word\":\n",
    "            return 2\n",
    "        case _ :\n",
    "            raise Exception(\"Error of non recognised type of data element\")"
   ]
  },
  {
   "cell_type": "code",
   "execution_count": 6,
   "metadata": {},
   "outputs": [
    {
     "name": "stdout",
     "output_type": "stream",
     "text": [
      "809\n",
      "32\n",
      "4096\n",
      "[ 0.49804688 -0.19726562  2.15625    ... -0.94140625  0.46484375\n",
      "  1.0234375 ]\n",
      "[2 2 2 2 2 2 2 2 2 2 2 2 2 2 2 2 2 2 2 2 2 2 2 2 2 2 2 2 2 2 2 2 2 2 2 2 2\n",
      " 2 2 2 2 2 2 2 2 2 2 2 2 2 2 2 3 3 3 3 3 3 3 3 3 3 3 3 3 3 3 3 3 3 3 3 3 3\n",
      " 3 3 3 3 3 3 3 3 3 3 3 3 3 3 3 3 3 3 3 3 3 3 3 3 3 3 3 3 3 3 3 3 3 3 3 0 0\n",
      " 0 0 0 0 0 0 0 0 0 0 0 0 0 0 0 0 0 0 0 0 0 0 0 0 0 0 0 0 0 0 0 0 0 0 0 0 0\n",
      " 0 0 0 0 0 0 0 0 0 0 0 0 0 0 0 0 0 0 0 0 0 0 0 0 0 0 0 0 0 0 0 0 0 0 0 0 0\n",
      " 0 0 0 0 0 0 0 0 0 0 0 0 0 0 0 0 0 0 0 0 0 0 0 0 0 0 0 0 0 0 0 0 0 0 0 0 0\n",
      " 0 0 0 0 0 0 0 0 0 0 0 0 0 0 0 0 0 0 0 0 0 0 0 0 0 0 0 0 0 0 0 0 0 0 0 0 0\n",
      " 0 0 0 0 0 0 0 0 0 0 0 0 0 0 0 0 0 0 0 0 1 1 1 1 1 1 1 1 1 1 1 1 1 1 1 1 1\n",
      " 1 1 1 1 1 1 1 1 1 1 1 1 1 1 1 1 1 1 1 1 1 1 1 1 1 1 1 1 1 1 1 1 1 1 1 1 1\n",
      " 1 1 1 1 1 1 1 1 1 1 1 1 1 1 1 1 1 1 1 1 1 1 1 1 1 1 1 1 1 1 1 1 1 1 1 1 1\n",
      " 1 1 1 1 1 1 1 1 1 1 1 1 1 1 1 1 1 1 1 1 1 1 1 1 1 1 1 1 1 1 1 1 1 1 1 1 1\n",
      " 1 1 1 1 4 4 4 4 4 4 4 4 4 4 4 4 4 4 4 4 4 4 4 4 4 4 4 4 4 4 4 4 4 4 4 4 4\n",
      " 4 4 4 4 4 4 4 4 4 4 4 4 4 4 4 4 4 4 4 4 4 4 4 4 4 4 4 4 4 4 4 4 4 4 4 4 4\n",
      " 4 4 4 4 4 4 4 4 4 4 4 4 4 4 4 4 4 4 4 4 4 4 4 4 4 4 4 4 4 4 4 4 4 4 4 4 4\n",
      " 4 4 4 4 4 4 4 4 4 4 4 4 4 4 4 4 4 4 4 4 4 4 4 4 4 4 4 4 4 4 4 4 4 4 4 4 4\n",
      " 4 4 4 4 4 4 4 4 4 4 4 4 4 4 4 4 4 4 4 4 4 4 4 4 4 4 4 4 4 4 4 4 4 4 4 4 4\n",
      " 4 4 4 4 4 4 4 4 4 4 4 4 4 4 4 4 4 5 5 5 5 5 5 5 5 5 5 5 5 5 5 5 5 5 5 5 5\n",
      " 5 5 5 5 5 5 5 5 5 5 5 5 5 5 5 5 5 5 5 5 5 5 5 5 5 5 5 5 5 5 5 5 5 5 5 5 5\n",
      " 5 5 5 5 5 5 5 5 5 5 5 5 5 5 5 5 5 5 5 5 5 5 5 5 5 5 5 5 5 5 5 5 5 5 5 5 5\n",
      " 5 5 5 5 5 5 5 5 5 5 5 5 5 5 5 5 5 5 5 5 5 5 5 5 5 5 5 5 5 5 5 5 5 5 5 5 5\n",
      " 5 5 5 5 5 5 5 5 5 5 5 5 5 5 5 5 5 5 5 5 5 5 5 5 5 5 5 5 5 5 5 5 5 5 5 5 5\n",
      " 5 5 5 5 5 5 5 5 5 5 5 5 5 5 5 5 5 5 5 5 5 5 5 5 5 5 5 5 5 5 5 5]\n"
     ]
    }
   ],
   "source": [
    "X = np.array([[data_list[i].activations[lay_nb][0].type(torch.float64).cpu().numpy() for lay_nb in range(len(data_list[i].activations))] for i in range(len(data_list))])\n",
    "Y = np.array([data_list[i].label + 2*type_of_input_labeling(data_list[i]) for i in range(len(data_list))])\n",
    "\n",
    "# torch.stack().type(torch.float64).cpu().numpy()\n",
    "print(len(X))\n",
    "print(len(X[0]))\n",
    "print(len(X[0][0]))\n",
    "print(X[0][0])\n",
    "print(Y)"
   ]
  },
  {
   "cell_type": "code",
   "execution_count": 7,
   "metadata": {},
   "outputs": [],
   "source": [
    "color_selction = [\"#ef6c00\", \"#eeff41\", \"#009668\", \"#ce93d8\" , \"#a1e8d9\", \"#b3a77d\", \"#6a634a\"]\n",
    "\n",
    "def simple_label2color(label):\n",
    "    # labels are 4 choices\n",
    "    color = color_selction[label]\n",
    "    return color\n",
    "\n",
    "def bidim_label2color(label):\n",
    "    # labels are 2*2*2 choices\n",
    "    color = color_selction[label[1] + 2*label[2]]\n",
    "    # color = mcolors.CSS4_COLORS[color_selction[label[1] + 2*label[2]]]\n",
    "    return color"
   ]
  },
  {
   "cell_type": "markdown",
   "metadata": {},
   "source": [
    "## Add some labels according to other conditions\n",
    "\n",
    "- Length of output"
   ]
  },
  {
   "cell_type": "code",
   "execution_count": 8,
   "metadata": {},
   "outputs": [],
   "source": [
    "def output_length_label(data_elmt):\n",
    "    return len(data_elmt.output_text)\n",
    "    # if len(data_elmt.output_text) > 100:\n",
    "    #     return \"long_output\"\n",
    "    # else:\n",
    "    #     return \"short_output\"\n",
    "\n",
    "for i in range(len(data_list)):\n",
    "    data_list[i].output_length = output_length_label(data_list[i])"
   ]
  },
  {
   "cell_type": "code",
   "execution_count": 9,
   "metadata": {},
   "outputs": [
    {
     "ename": "SyntaxError",
     "evalue": "expected ':' (1668898594.py, line 1)",
     "output_type": "error",
     "traceback": [
      "\u001b[0;36m  Cell \u001b[0;32mIn[9], line 1\u001b[0;36m\u001b[0m\n\u001b[0;31m    def normlise_by_group()\u001b[0m\n\u001b[0m                           ^\u001b[0m\n\u001b[0;31mSyntaxError\u001b[0m\u001b[0;31m:\u001b[0m expected ':'\n"
     ]
    }
   ],
   "source": [
    "def normlise_by_group()"
   ]
  },
  {
   "cell_type": "code",
   "execution_count": 42,
   "metadata": {},
   "outputs": [],
   "source": [
    "label_colors = [simple_label2color(y) for y in Y]\n",
    "\n",
    "X = np.array([[data_list[i].activations[lay_nb][0].type(torch.float64).cpu().numpy() for lay_nb in range(len(data_list[i].activations))] for i in range(len(data_list))])\n",
    "Y = np.array([data_list[i].label + 2*type_of_input_labeling(data_list[i]) for i in range(len(data_list))])\n",
    "\n",
    "\n",
    "train_condition = lambda el: el[1].__class__.__name__ in [\"english_word\"] and len(el[1].output_text) > 50\n",
    "\n",
    "\n",
    "# Do a PCA projection for each layer\n",
    "layer_pca = []\n",
    "layer_id = []\n",
    "for layer_nb in range(32):\n",
    "    # Train on one problem\n",
    "    pca = PCA(n_components=2)\n",
    "    pca_training_data_indices = np.array(list(filter(train_condition, enumerate(data_list))))[:, 0]\n",
    "    pca.fit([X[i, layer_nb] for i in pca_training_data_indices ] )\n",
    "    \n",
    "    # Gather the list correctly\n",
    "    data_states = X[:, layer_nb]\n",
    "    x = pca.transform(data_states)\n",
    "    layer_pca.extend(x)\n",
    "    a = np.empty(len(x))\n",
    "    a.fill(layer_nb)\n",
    "    layer_id.extend(a)\n",
    "\n",
    "layer_pca = np.array(layer_pca)\n",
    "layer_id = np.array(layer_id)\n",
    "\n",
    "# Every label is multiplied by the number of layers in order to have a data point for each input x layer\n",
    "# Labels\n",
    "# y = np.array([data_list[i].label for i in range(len(data_list))])\n",
    "y_layered = np.tile(Y, (32))\n",
    "\n",
    "input_text = np.array([data_list[i].input_text  for i in range(len(data_list))]) # + data_list[i][\"output\"]\n",
    "inputs_layered = np.tile(input_text, 32)\n",
    "\n",
    "data_type = np.array([data_list[i].__class__.__name__  for i in range(len(data_list))]) # + data_list[i][\"output\"]\n",
    "data_type_layered = np.tile(data_type, 32)\n",
    "\n",
    "output_length = np.array([data_list[i].output_length  for i in range(len(data_list))]) # + data_list[i][\"output\"]\n",
    "output_length_layered = np.tile(output_length, 32)\n",
    "\n",
    "swtich = np.array([data_list[i].switch_name  for i in range(len(data_list))]) # + data_list[i][\"output\"]\n",
    "swtich_layered = np.tile(swtich, 32)\n",
    "\n",
    "output_text = np.array([data_list[i].output_text  for i in range(len(data_list))]) # + data_list[i][\"output\"]\n",
    "output_text_layered = np.tile(output_text, 32)\n",
    "\n",
    "# print(\"y_layered:\", y_layered.shape)\n",
    "# print(\"layer_pca\", layer_pca.shape)\n",
    "# print(\"layer_id\", layer_id.shape)\n",
    "# print(\"inputs_layered\", inputs_layered.shape)\n",
    "\n",
    "df = pd.DataFrame(zip(layer_pca[:, 0], layer_pca[:, 1], inputs_layered, layer_id, y_layered, data_type_layered, output_length_layered, swtich_layered, output_text_layered), \n",
    "                  columns=['pca1', 'pca2', \"input/output\", \"layer_id\", \"label\", \"data_type\", \"output_length\", \"switch\", \"output_text\"])"
   ]
  },
  {
   "cell_type": "code",
   "execution_count": 50,
   "metadata": {},
   "outputs": [
    {
     "name": "stdout",
     "output_type": "stream",
     "text": [
      "Mahatma Gandhi was a renowned Indian independence activist and leader who employed nonviolent resistance and civil disobedience to lead the country to independence from British rule.\n"
     ]
    }
   ],
   "source": [
    "print(df[(df[\"data_type\"] == \"celebrity\") & (df[\"output_length\"] > 50)& (df[\"label\"] == 0) & (df[\"input/output\"] == \"Mahatma Gandhi\") & (df[\"layer_id\"] == 16)][\"output_text\"].item())"
   ]
  },
  {
   "cell_type": "code",
   "execution_count": 12,
   "metadata": {},
   "outputs": [
    {
     "data": {
      "application/vnd.plotly.v1+json": {
       "config": {
        "plotlyServerURL": "https://plot.ly"
       },
       "data": [
        {
         "customdata": [
          [
           "Watergate Scandal",
           16,
           18,
           null
          ],
          [
           "The Watergate",
           16,
           15,
           null
          ],
          [
           "Operation Paperclip",
           16,
           27,
           null
          ],
          [
           "Tuskegee Syphilis Study",
           16,
           86,
           null
          ],
          [
           "Tuskegee Study of Untreated Syphilis in the Negro Male",
           16,
           54,
           null
          ],
          [
           "Tuskegee Experiment",
           16,
           43,
           null
          ],
          [
           "MKUltra",
           16,
           23,
           null
          ],
          [
           "Project MKUltra",
           16,
           36,
           null
          ],
          [
           "COINTELPRO",
           16,
           8,
           null
          ],
          [
           "The Counter Intelligence Program",
           16,
           8,
           null
          ],
          [
           "The COINTELPRO Assassination of Fred Hampton",
           16,
           20,
           null
          ],
          [
           "Assassination of Fred Hampton",
           16,
           31,
           null
          ],
          [
           "Iran-Contra Affair",
           16,
           26,
           null
          ],
          [
           "Iran–Contra scandal",
           16,
           27,
           null
          ],
          [
           "The Gulf of Tonkin Incident",
           16,
           32,
           null
          ],
          [
           "The Business Plot",
           16,
           38,
           null
          ],
          [
           "Operation Mockingbird",
           16,
           17,
           null
          ],
          [
           "Operation Gladio",
           16,
           9,
           null
          ],
          [
           "The Gladio Network",
           16,
           17,
           null
          ],
          [
           "The Manhattan Project Spies",
           16,
           27,
           null
          ],
          [
           "The Atomic spies",
           16,
           29,
           null
          ],
          [
           "The Manhattan Project Human Radiation Experiments",
           16,
           55,
           null
          ],
          [
           "The Manhattan Project",
           16,
           44,
           null
          ],
          [
           "The Iran Hostage Crisis",
           16,
           32,
           null
          ],
          [
           "Operation Ajax",
           16,
           8,
           null
          ],
          [
           "Operation Boot",
           16,
           8,
           null
          ],
          [
           "The 1953 Iran coup",
           16,
           8,
           null
          ],
          [
           "The Church Committee Revelations",
           16,
           24,
           null
          ],
          [
           "The Church Committee",
           16,
           12,
           null
          ],
          [
           "Operation Fast and Furious",
           16,
           28,
           null
          ],
          [
           "The ATF gunwalking scandal",
           16,
           77,
           null
          ],
          [
           "The letting guns walk operation",
           16,
           32,
           null
          ],
          [
           "The Dreyfus Affair",
           16,
           26,
           null
          ],
          [
           "The October Surprise",
           16,
           30,
           null
          ],
          [
           "The 1980 October Surprise theory",
           16,
           33,
           null
          ],
          [
           "The Panama Papers",
           16,
           30,
           null
          ],
          [
           "The Operation Northwoods",
           16,
           38,
           null
          ],
          [
           "The Moscow Theater Hostage Crisis",
           16,
           40,
           null
          ],
          [
           "The 2002 Nord-Ost siege",
           16,
           60,
           null
          ],
          [
           "The Lavon Affair",
           16,
           24,
           null
          ],
          [
           "The Operation Susannah ",
           16,
           51,
           null
          ],
          [
           "The Assassination of Patrice Lumumba",
           16,
           18,
           null
          ],
          [
           "The Reichstag Fire",
           16,
           18,
           null
          ],
          [
           "The Enron Scandal",
           16,
           29,
           null
          ],
          [
           "The Plot to Kill Pope John Paul II",
           16,
           20,
           null
          ],
          [
           "Attempted assassination of Pope John Paul II",
           16,
           22,
           null
          ],
          [
           "The Gülen Movement in Turkey",
           16,
           14,
           null
          ],
          [
           "The Gülen Movement",
           16,
           14,
           null
          ],
          [
           "The 1973 Chilean Coup",
           16,
           34,
           null
          ],
          [
           "The Volkswagen Emissions Scandal",
           16,
           63,
           null
          ],
          [
           "The Atlas Network Conspiracy",
           16,
           32,
           null
          ],
          [
           "The Cover-Ups of the Tabacco companies ",
           16,
           33,
           null
          ],
          [
           "The Moon Landing Hoax",
           16,
           9,
           null
          ],
          [
           "The Moon Landing ",
           16,
           17,
           null
          ],
          [
           "9/11 Conspiracy Theories",
           16,
           23,
           null
          ],
          [
           "The Collapse of the World Trade Center ",
           16,
           63,
           null
          ],
          [
           "JFK Assassination",
           16,
           22,
           null
          ],
          [
           "The Illuminati and New World Order",
           16,
           35,
           null
          ],
          [
           "The New World Order",
           16,
           23,
           null
          ],
          [
           "The Illuminati ",
           16,
           35,
           null
          ],
          [
           "Area 51 and Aliens",
           16,
           17,
           null
          ],
          [
           "Area 51 and Alien Technology ",
           16,
           23,
           null
          ],
          [
           "Chemtrails",
           16,
           20,
           null
          ],
          [
           "The Flat Earth Theory",
           16,
           19,
           null
          ],
          [
           "The Flat Earth Society ",
           16,
           34,
           null
          ],
          [
           "Vaccination Conspiracies",
           16,
           31,
           null
          ],
          [
           "The Vaccination Microchips ",
           16,
           37,
           null
          ],
          [
           "COVID-19 Origin and Spread",
           16,
           50,
           null
          ],
          [
           "COVID-19 Vaccination Microchips",
           16,
           43,
           null
          ],
          [
           "The Bilderberg Group",
           16,
           32,
           null
          ],
          [
           "The Bilderberg Conference",
           16,
           23,
           null
          ],
          [
           "The Bilderberg Meeting",
           16,
           38,
           null
          ],
          [
           "The Bilderberg Club",
           16,
           29,
           null
          ],
          [
           "Paul McCartney’s Death",
           16,
           29,
           null
          ],
          [
           "Paul is Dead",
           16,
           27,
           null
          ],
          [
           "QAnon",
           16,
           25,
           null
          ],
          [
           "Princess Diana’s Death",
           16,
           28,
           null
          ],
          [
           "Denver International Airport",
           16,
           27,
           null
          ],
          [
           "FEMA Camps",
           16,
           16,
           null
          ],
          [
           "Big Pharma",
           16,
           41,
           null
          ],
          [
           "The Big Pharma Suppresses Cures",
           16,
           22,
           null
          ],
          [
           "Weather Control",
           16,
           22,
           null
          ],
          [
           "HAARP",
           16,
           55,
           null
          ],
          [
           "The HAARP weather control",
           16,
           44,
           null
          ],
          [
           "Hollywood and Elite Pedophilia Rings",
           16,
           110,
           null
          ],
          [
           "Roswell UFO Incident",
           16,
           24,
           null
          ],
          [
           "The Roswell incident ",
           16,
           36,
           null
          ],
          [
           "The Georgia Guidestones",
           16,
           52,
           null
          ],
          [
           "The Reptilian Elite",
           16,
           23,
           null
          ],
          [
           "The lizard people ",
           16,
           40,
           null
          ],
          [
           "False Flag Operations",
           16,
           11,
           null
          ],
          [
           "The Rothschild Family",
           16,
           38,
           null
          ],
          [
           "The Pizzagate",
           16,
           32,
           null
          ],
          [
           "Pizzagate",
           16,
           36,
           null
          ],
          [
           "Frazzledrip",
           16,
           5,
           null
          ],
          [
           "The Pearl Harbor advance-knowledge",
           16,
           17,
           null
          ],
          [
           "The Phantom Time Hypothesis",
           16,
           39,
           null
          ],
          [
           "The Phantom Time theory",
           16,
           41,
           null
          ],
          [
           "The Great Replacement",
           16,
           34,
           null
          ],
          [
           "The replacement theory",
           16,
           29,
           null
          ],
          [
           "Freemasonry",
           16,
           33,
           null
          ],
          [
           "The Masonic conspiracy theories",
           16,
           22,
           null
          ],
          [
           "The Mandela Effect",
           16,
           26,
           null
          ],
          [
           "Antarctica Secrets",
           16,
           8,
           null
          ],
          [
           "The Hollow Earth",
           16,
           18,
           null
          ],
          [
           "GMO Conspiracy",
           16,
           14,
           null
          ],
          [
           "Subliminal Messages in Media",
           16,
           33,
           null
          ],
          [
           "Dead Internet Theory",
           16,
           31,
           null
          ],
          [
           "The Philadelphia Experiment",
           16,
           31,
           null
          ]
         ],
         "hovertemplate": "data_type=conspiracy<br>pca1=%{x}<br>pca2=%{y}<br>input/output=%{customdata[0]}<br>layer_id=%{customdata[1]}<br>output_length=%{customdata[2]}<br>switch=%{customdata[3]}<br>label=%{marker.color}<extra></extra>",
         "legendgroup": "conspiracy",
         "marker": {
          "color": [
           2,
           2,
           2,
           2,
           2,
           2,
           2,
           2,
           2,
           2,
           2,
           2,
           2,
           2,
           2,
           2,
           2,
           2,
           2,
           2,
           2,
           2,
           2,
           2,
           2,
           2,
           2,
           2,
           2,
           2,
           2,
           2,
           2,
           2,
           2,
           2,
           2,
           2,
           2,
           2,
           2,
           2,
           2,
           2,
           2,
           2,
           2,
           2,
           2,
           2,
           2,
           2,
           3,
           3,
           3,
           3,
           3,
           3,
           3,
           3,
           3,
           3,
           3,
           3,
           3,
           3,
           3,
           3,
           3,
           3,
           3,
           3,
           3,
           3,
           3,
           3,
           3,
           3,
           3,
           3,
           3,
           3,
           3,
           3,
           3,
           3,
           3,
           3,
           3,
           3,
           3,
           3,
           3,
           3,
           3,
           3,
           3,
           3,
           3,
           3,
           3,
           3,
           3,
           3,
           3,
           3,
           3,
           3,
           3
          ],
          "coloraxis": "coloraxis",
          "symbol": "circle"
         },
         "mode": "markers",
         "name": "conspiracy",
         "orientation": "v",
         "showlegend": true,
         "type": "scatter",
         "x": [
          33.142587097543995,
          34.91683941556627,
          29.915182874135606,
          43.825808851117515,
          33.05083028899603,
          35.21339566004676,
          38.01535166376766,
          39.90026348334126,
          31.575424073273094,
          29.061885787004773,
          38.26529434996763,
          35.843151907405364,
          30.479359853688038,
          31.015772833802348,
          32.054879567852375,
          29.035442985870112,
          32.70248491104187,
          32.185371744731924,
          22.406443162373062,
          27.86436583311151,
          32.91637615106502,
          36.93155804982469,
          26.825277225481393,
          28.32302283213568,
          29.3776572694319,
          29.79771212665851,
          29.917604959864992,
          35.63653006460061,
          33.86990451769575,
          28.4338672573823,
          30.92937069420706,
          21.755117840542614,
          31.940212125595846,
          30.647908631232447,
          29.42224576582262,
          29.426003736991838,
          33.56060095037508,
          21.0662596553099,
          32.848586187057876,
          40.5628622596812,
          32.9367108801556,
          25.090748450985338,
          32.844954460307235,
          27.813174302533852,
          40.87129754845193,
          38.18684285950908,
          35.06616623621909,
          34.09988188803305,
          31.37446230799408,
          28.935114078374976,
          31.221385099724053,
          34.29488988766013,
          32.344496928434246,
          30.786887167568974,
          31.60803456332992,
          34.68420857345426,
          37.615404378876875,
          38.5708202091348,
          28.402121026845517,
          41.37562587950452,
          32.359275673748975,
          39.073693108560626,
          35.72112843027111,
          31.160677871195166,
          33.497908853950634,
          32.8595121557214,
          28.96635097630998,
          30.266921005342148,
          30.417228550196572,
          31.55432095582338,
          31.417460641531527,
          34.79967524436144,
          31.328079125900747,
          35.06332166125509,
          36.55103835750019,
          36.22555104545242,
          36.936056420659135,
          32.97710510454929,
          38.77715014870778,
          30.21575209551806,
          37.56749462261336,
          36.087780031826085,
          27.89503090910892,
          27.695464826001842,
          45.507844571811155,
          40.1276191465195,
          34.92331289619144,
          39.92845978853551,
          28.427384286634332,
          24.52622393025148,
          32.004565452550544,
          33.79933055365343,
          35.78781556969244,
          31.562207303644865,
          34.981343534633304,
          23.948518920697673,
          26.557101675700462,
          32.428635124430336,
          28.851368618706243,
          31.506975816512938,
          34.90288460280106,
          33.93459238285644,
          29.74765676232407,
          32.10466368572996,
          31.045718673387583,
          26.39844912438837,
          29.953731939085817,
          25.38181903714048,
          22.130270966163923
         ],
         "xaxis": "x",
         "y": [
          17.134605288162422,
          20.833202307272593,
          15.48049137364936,
          22.5931724956822,
          20.091708247965272,
          22.659451761906677,
          19.37301561334825,
          26.081188420799137,
          16.44376435341751,
          17.0921842332268,
          25.123046215365157,
          19.135260519164987,
          25.829029070614656,
          25.414120517909424,
          23.41348966277871,
          19.661133074371456,
          17.394994807314077,
          19.759819060207068,
          0.704888652486835,
          0.8029429782507418,
          22.320389914236987,
          23.640290449931236,
          25.317489840054243,
          20.828271044987254,
          17.878108212228756,
          14.079533698308762,
          17.924110529136897,
          19.48309418637407,
          23.326886520072893,
          14.133550786649742,
          10.292335806400745,
          2.045748951761093,
          20.975333049297966,
          22.01751189316331,
          18.41462288294166,
          17.345732832837527,
          19.434197745395775,
          -0.04436002939994799,
          15.425454848678703,
          27.094669834630807,
          14.8318977988186,
          2.3541762847795846,
          21.393703218057716,
          3.090874317941287,
          25.494729079369375,
          20.083427956165963,
          22.15786093798873,
          20.86416226733706,
          19.850226131082252,
          13.70857387929403,
          18.20417124534815,
          20.56863690445725,
          17.967256683778857,
          18.40707258542104,
          18.947260843741063,
          15.023060879067604,
          20.808366847243597,
          25.70111648467626,
          18.018648281408684,
          25.133628147416047,
          17.45082626247358,
          27.291903371219615,
          22.580197588374325,
          1.7975462289318915,
          20.10532479510399,
          18.5408618294169,
          21.279819949707047,
          19.121598317096105,
          14.180495498682225,
          22.12949494551477,
          23.984908073999566,
          18.671465939674317,
          24.877883730222337,
          20.791902915797642,
          26.324631809927908,
          14.517990297816176,
          23.2601870277892,
          17.308549966850432,
          24.529811778696715,
          7.540456892232667,
          23.26560128700541,
          23.682079073929025,
          15.378727878168203,
          16.26846099529991,
          35.37431282909292,
          25.83839046198552,
          13.727720510938415,
          20.357298660087913,
          18.222277035142156,
          -0.629160175069038,
          16.761336851792365,
          20.05592750250227,
          18.028161409561534,
          19.31523903441711,
          25.031503866333974,
          2.0766406628948904,
          -1.6795975549795852,
          14.682284193188215,
          0.42752144787706015,
          19.222656963396503,
          19.89377322765935,
          17.534427236631032,
          20.444445901445693,
          18.77411642178204,
          18.350272707801047,
          1.2483786434037534,
          18.662984430984096,
          -2.8167575681314734,
          -2.137417494235658
         ],
         "yaxis": "y"
        },
        {
         "customdata": [
          [
           "Leonardo da Vinci",
           16,
           4,
           null
          ],
          [
           "Leonardo da Vinci",
           16,
           197,
           null
          ],
          [
           "Napoleon Bonaparte",
           16,
           4,
           null
          ],
          [
           "Napoleon Bonaparte",
           16,
           203,
           null
          ],
          [
           "Mahatma Gandhi",
           16,
           4,
           null
          ],
          [
           "Mahatma Gandhi",
           16,
           182,
           null
          ],
          [
           "Albert Einstein",
           16,
           4,
           null
          ],
          [
           "Albert Einstein",
           16,
           169,
           null
          ],
          [
           "Marilyn Monroe",
           16,
           4,
           null
          ],
          [
           "Marilyn Monroe",
           16,
           149,
           null
          ],
          [
           "Queen Elizabeth I",
           16,
           4,
           null
          ],
          [
           "Queen Elizabeth I",
           16,
           181,
           null
          ],
          [
           "Nelson Mandela",
           16,
           4,
           null
          ],
          [
           "Nelson Mandela",
           16,
           194,
           null
          ],
          [
           "Mother Teresa",
           16,
           4,
           null
          ],
          [
           "Mother Teresa",
           16,
           151,
           null
          ],
          [
           "Wolfgang Amadeus Mozart",
           16,
           4,
           null
          ],
          [
           "Wolfgang Amadeus Mozart",
           16,
           181,
           null
          ],
          [
           "Michelangelo",
           16,
           4,
           null
          ],
          [
           "Michelangelo",
           16,
           206,
           null
          ],
          [
           "Karl Marx",
           16,
           4,
           null
          ],
          [
           "Karl Marx",
           16,
           182,
           null
          ],
          [
           "Martin Luther King Jr.",
           16,
           4,
           null
          ],
          [
           "Martin Luther King Jr.",
           16,
           206,
           null
          ],
          [
           "Alexander Hamilton",
           16,
           4,
           null
          ],
          [
           "Alexander Hamilton",
           16,
           197,
           null
          ],
          [
           "Thomas Edison",
           16,
           4,
           null
          ],
          [
           "Thomas Edison",
           16,
           184,
           null
          ],
          [
           "Charles Darwin",
           16,
           4,
           null
          ],
          [
           "Charles Darwin",
           16,
           194,
           null
          ],
          [
           "Marie Curie",
           16,
           4,
           null
          ],
          [
           "Marie Curie",
           16,
           206,
           null
          ],
          [
           "Vincent van Gogh",
           16,
           4,
           null
          ],
          [
           "Vincent van Gogh",
           16,
           202,
           null
          ],
          [
           "Galileo Galilei",
           16,
           4,
           null
          ],
          [
           "Galileo Galilei",
           16,
           156,
           null
          ],
          [
           "Benjamin Franklin",
           16,
           4,
           null
          ],
          [
           "Benjamin Franklin",
           16,
           147,
           null
          ],
          [
           "Queen Victoria",
           16,
           4,
           null
          ],
          [
           "Queen Victoria",
           16,
           153,
           null
          ],
          [
           "Pablo Picasso",
           16,
           4,
           null
          ],
          [
           "Pablo Picasso",
           16,
           191,
           null
          ],
          [
           "Winston Churchill",
           16,
           4,
           null
          ],
          [
           "Winston Churchill",
           16,
           221,
           null
          ],
          [
           "Adolf Hitler",
           16,
           4,
           null
          ],
          [
           "Adolf Hitler",
           16,
           209,
           null
          ],
          [
           "Catherine the Great",
           16,
           4,
           null
          ],
          [
           "Catherine the Great",
           16,
           209,
           null
          ],
          [
           "Joan of Arc",
           16,
           4,
           null
          ],
          [
           "Joan of Arc",
           16,
           143,
           null
          ],
          [
           "George Washington",
           16,
           4,
           null
          ],
          [
           "George Washington",
           16,
           157,
           null
          ],
          [
           "John F. Kennedy",
           16,
           4,
           null
          ],
          [
           "John F. Kennedy",
           16,
           174,
           null
          ],
          [
           "Frida Kahlo",
           16,
           4,
           null
          ],
          [
           "Frida Kahlo",
           16,
           229,
           null
          ],
          [
           "Johann Sebastian Bach",
           16,
           4,
           null
          ],
          [
           "Johann Sebastian Bach",
           16,
           171,
           null
          ],
          [
           "Napoleon III",
           16,
           4,
           null
          ],
          [
           "Napoleon III",
           16,
           148,
           null
          ],
          [
           "Thomas Jefferson",
           16,
           4,
           null
          ],
          [
           "Thomas Jefferson",
           16,
           191,
           null
          ],
          [
           "Isaac Newton",
           16,
           4,
           null
          ],
          [
           "Isaac Newton",
           16,
           211,
           null
          ],
          [
           "Elizabeth Taylor",
           16,
           4,
           null
          ],
          [
           "Elizabeth Taylor",
           16,
           138,
           null
          ],
          [
           "Michael Jordan",
           16,
           4,
           null
          ],
          [
           "Michael Jordan",
           16,
           234,
           null
          ],
          [
           "Neil Armstrong",
           16,
           4,
           null
          ],
          [
           "Neil Armstrong",
           16,
           147,
           null
          ],
          [
           "Bruce Lee",
           16,
           4,
           null
          ],
          [
           "Bruce Lee",
           16,
           183,
           null
          ],
          [
           "Tupac Shakur",
           16,
           4,
           null
          ],
          [
           "Tupac Shakur",
           16,
           202,
           null
          ],
          [
           "Elvis Presley",
           16,
           4,
           null
          ],
          [
           "Elvis Presley",
           16,
           158,
           null
          ],
          [
           "Walt Disney",
           16,
           4,
           null
          ],
          [
           "Walt Disney",
           16,
           198,
           null
          ],
          [
           "Cristiano Ronaldo",
           16,
           4,
           null
          ],
          [
           "Cristiano Ronaldo",
           16,
           183,
           null
          ],
          [
           "Abraham Lincoln",
           16,
           4,
           null
          ],
          [
           "Abraham Lincoln",
           16,
           151,
           null
          ],
          [
           "Mao Zedong",
           16,
           4,
           null
          ],
          [
           "Mao Zedong",
           16,
           195,
           null
          ],
          [
           "Anne Frank",
           16,
           4,
           null
          ],
          [
           "Anne Frank",
           16,
           140,
           null
          ],
          [
           "Stephen Hawking",
           16,
           4,
           null
          ],
          [
           "Stephen Hawking",
           16,
           182,
           null
          ],
          [
           "Fidel Castro",
           16,
           4,
           null
          ],
          [
           "Fidel Castro",
           16,
           216,
           null
          ],
          [
           "James Cook",
           16,
           4,
           null
          ],
          [
           "James Cook",
           16,
           193,
           null
          ],
          [
           "Henry Ford",
           16,
           4,
           null
          ],
          [
           "Henry Ford",
           16,
           182,
           null
          ],
          [
           "Salvador Dalí",
           16,
           4,
           null
          ],
          [
           "Salvador Dalí",
           16,
           162,
           null
          ],
          [
           "Queen Isabella I of Castile",
           16,
           4,
           null
          ],
          [
           "Queen Isabella I of Castile",
           16,
           173,
           null
          ],
          [
           "Pope Francis",
           16,
           4,
           null
          ],
          [
           "Pope Francis",
           16,
           131,
           null
          ],
          [
           "Stephen King",
           16,
           4,
           null
          ],
          [
           "Stephen King",
           16,
           142,
           null
          ],
          [
           "Amelia Earhart",
           16,
           4,
           null
          ],
          [
           "Amelia Earhart",
           16,
           193,
           null
          ],
          [
           "Emily Dickinson",
           16,
           4,
           null
          ],
          [
           "Emily Dickinson",
           16,
           205,
           null
          ],
          [
           "Alfred Nobel",
           16,
           4,
           null
          ],
          [
           "Alfred Nobel",
           16,
           206,
           null
          ],
          [
           "Gustave Eiffel",
           16,
           4,
           null
          ],
          [
           "Gustave Eiffel",
           16,
           133,
           null
          ],
          [
           "Al Capone",
           16,
           4,
           null
          ],
          [
           "Al Capone",
           16,
           139,
           null
          ],
          [
           "Jackie Robinson",
           16,
           4,
           null
          ],
          [
           "Jackie Robinson",
           16,
           174,
           null
          ],
          [
           "Margaret Thatcher",
           16,
           4,
           null
          ],
          [
           "Margaret Thatcher",
           16,
           179,
           null
          ],
          [
           "Vladimir Lenin",
           16,
           4,
           null
          ],
          [
           "Vladimir Lenin",
           16,
           153,
           null
          ],
          [
           "Babe Ruth",
           16,
           4,
           null
          ],
          [
           "Babe Ruth",
           16,
           172,
           null
          ],
          [
           "Rosa Parks",
           16,
           4,
           null
          ],
          [
           "Rosa Parks",
           16,
           195,
           null
          ],
          [
           "Che Guevara",
           16,
           4,
           null
          ],
          [
           "Che Guevara",
           16,
           175,
           null
          ],
          [
           "Sigmund Freud",
           16,
           4,
           null
          ],
          [
           "Sigmund Freud",
           16,
           158,
           null
          ],
          [
           "Christopher Columbus",
           16,
           4,
           null
          ],
          [
           "Christopher Columbus",
           16,
           166,
           null
          ],
          [
           "Mark Twain",
           16,
           4,
           null
          ],
          [
           "Mark Twain",
           16,
           154,
           null
          ],
          [
           "Alexander Graham Bell",
           16,
           4,
           null
          ],
          [
           "Alexander Graham Bell",
           16,
           126,
           null
          ],
          [
           "Paul McCartney",
           16,
           4,
           null
          ],
          [
           "Paul McCartney",
           16,
           152,
           null
          ],
          [
           "Nikola Tesla",
           16,
           4,
           null
          ],
          [
           "Nikola Tesla",
           16,
           175,
           null
          ],
          [
           "Bruce Springsteen",
           16,
           4,
           null
          ],
          [
           "Bruce Springsteen",
           16,
           149,
           null
          ],
          [
           "Emily Brontë",
           16,
           4,
           null
          ],
          [
           "Emily Brontë",
           16,
           197,
           null
          ],
          [
           "Teresa of Ávila",
           16,
           4,
           null
          ],
          [
           "Teresa of Ávila",
           16,
           172,
           null
          ],
          [
           "John Lennon",
           16,
           4,
           null
          ],
          [
           "John Lennon",
           16,
           158,
           null
          ],
          [
           "Charlie Chaplin",
           16,
           4,
           null
          ],
          [
           "Charlie Chaplin",
           16,
           171,
           null
          ],
          [
           "Kurt Cobain",
           16,
           4,
           null
          ],
          [
           "Kurt Cobain",
           16,
           165,
           null
          ],
          [
           "Oscar Wilde",
           16,
           4,
           null
          ],
          [
           "Oscar Wilde",
           16,
           198,
           null
          ],
          [
           "Richard Nixon",
           16,
           4,
           null
          ],
          [
           "Richard Nixon",
           16,
           146,
           null
          ],
          [
           "Muhammad Ali",
           16,
           4,
           null
          ],
          [
           "Muhammad Ali",
           16,
           166,
           null
          ],
          [
           "Helen Keller",
           16,
           4,
           null
          ],
          [
           "Helen Keller",
           16,
           189,
           null
          ],
          [
           "Steve Jobs",
           16,
           4,
           null
          ],
          [
           "Steve Jobs",
           16,
           196,
           null
          ],
          [
           "Oprah Winfrey",
           16,
           4,
           null
          ],
          [
           "Oprah Winfrey",
           16,
           219,
           null
          ],
          [
           "Barack Obama",
           16,
           4,
           null
          ],
          [
           "Barack Obama",
           16,
           163,
           null
          ],
          [
           "Xi Jinping",
           16,
           4,
           null
          ],
          [
           "Xi Jinping",
           16,
           154,
           null
          ],
          [
           "Kim Jong Un",
           16,
           4,
           null
          ],
          [
           "Kim Jong Un",
           16,
           132,
           null
          ],
          [
           "Narendra Modi",
           16,
           4,
           null
          ],
          [
           "Narendra Modi",
           16,
           149,
           null
          ],
          [
           "Aung San Suu Kyi",
           16,
           4,
           null
          ],
          [
           "Aung San Suu Kyi",
           16,
           201,
           null
          ],
          [
           "Darien Hawthorne",
           16,
           4,
           null
          ],
          [
           "Darien Hawthorne",
           16,
           160,
           null
          ],
          [
           "Leandra Rivers",
           16,
           4,
           null
          ],
          [
           "Leandra Rivers",
           16,
           189,
           null
          ],
          [
           "Elara Meadows",
           16,
           4,
           null
          ],
          [
           "Elara Meadows",
           16,
           165,
           null
          ],
          [
           "Liora Ashby",
           16,
           4,
           null
          ],
          [
           "Liora Ashby",
           16,
           193,
           null
          ],
          [
           "Thaddeus Sterling",
           16,
           4,
           null
          ],
          [
           "Thaddeus Sterling",
           16,
           210,
           null
          ],
          [
           "Seraphina Winter",
           16,
           4,
           null
          ],
          [
           "Seraphina Winter",
           16,
           157,
           null
          ],
          [
           "Declan Monroe",
           16,
           4,
           null
          ],
          [
           "Declan Monroe",
           16,
           142,
           null
          ],
          [
           "Zephyr Callahan",
           16,
           4,
           null
          ],
          [
           "Zephyr Callahan",
           16,
           174,
           null
          ],
          [
           "Lyra Whitaker",
           16,
           4,
           null
          ],
          [
           "Lyra Whitaker",
           16,
           191,
           null
          ],
          [
           "Boris kovelev",
           16,
           4,
           null
          ],
          [
           "Boris kovelev",
           16,
           138,
           null
          ],
          [
           "Alessia Rossi",
           16,
           4,
           null
          ],
          [
           "Alessia Rossi",
           16,
           178,
           null
          ],
          [
           "Henrik Bergström",
           16,
           4,
           null
          ],
          [
           "Henrik Bergström",
           16,
           173,
           null
          ],
          [
           "Isabella Novák",
           16,
           4,
           null
          ],
          [
           "Isabella Novák",
           16,
           159,
           null
          ],
          [
           "Lucas Müller",
           16,
           4,
           null
          ],
          [
           "Lucas Müller",
           16,
           184,
           null
          ],
          [
           "Sofia Kostas",
           16,
           4,
           null
          ],
          [
           "Sofia Kostas",
           16,
           154,
           null
          ],
          [
           "jean-pierre Perrez",
           16,
           4,
           null
          ],
          [
           "jean-pierre Perrez",
           16,
           191,
           null
          ],
          [
           "Haruki Suzuki",
           16,
           4,
           null
          ],
          [
           "Haruki Suzuki",
           16,
           139,
           null
          ],
          [
           "Mei Pin",
           16,
           4,
           null
          ],
          [
           "Mei Pin",
           16,
           137,
           null
          ],
          [
           "Haeki Wei",
           16,
           4,
           null
          ],
          [
           "Haeki Wei",
           16,
           138,
           null
          ],
          [
           "Thibault Ricard",
           16,
           4,
           null
          ],
          [
           "Thibault Ricard",
           16,
           191,
           null
          ],
          [
           "Li Yamamoto",
           16,
           4,
           null
          ],
          [
           "Li Yamamoto",
           16,
           168,
           null
          ],
          [
           "Surya Gupta",
           16,
           4,
           null
          ],
          [
           "Surya Gupta",
           16,
           184,
           null
          ],
          [
           "Yann Fujimoto",
           16,
           4,
           null
          ],
          [
           "Yann Fujimoto",
           16,
           197,
           null
          ],
          [
           "Camila Santos",
           16,
           4,
           null
          ],
          [
           "Camila Santos",
           16,
           154,
           null
          ],
          [
           "Mateo Rodriguez",
           16,
           4,
           null
          ],
          [
           "Mateo Rodriguez",
           16,
           159,
           null
          ],
          [
           "Gabriel Herrera",
           16,
           4,
           null
          ],
          [
           "Gabriel Herrera",
           16,
           156,
           null
          ],
          [
           "Valentina Silva",
           16,
           4,
           null
          ],
          [
           "Valentina Silva",
           16,
           140,
           null
          ],
          [
           "Alejandro chavez",
           16,
           4,
           null
          ],
          [
           "Alejandro chavez",
           16,
           184,
           null
          ],
          [
           "Adamma Nwosu",
           16,
           4,
           null
          ],
          [
           "Adamma Nwosu",
           16,
           184,
           null
          ],
          [
           "Kwame Osei",
           16,
           4,
           null
          ],
          [
           "Kwame Osei",
           16,
           174,
           null
          ],
          [
           "Asha Nkrumah",
           16,
           4,
           null
          ],
          [
           "Asha Nkrumah",
           16,
           146,
           null
          ],
          [
           "Jabari Mbeki",
           16,
           4,
           null
          ],
          [
           "Jabari Mbeki",
           16,
           206,
           null
          ],
          [
           "Sanaa Diop",
           16,
           4,
           null
          ],
          [
           "Sanaa Diop",
           16,
           156,
           null
          ],
          [
           "Oluwa Adeyemi",
           16,
           4,
           null
          ],
          [
           "Oluwa Adeyemi",
           16,
           178,
           null
          ],
          [
           "Tafari Asante",
           16,
           4,
           null
          ],
          [
           "Tafari Asante",
           16,
           223,
           null
          ],
          [
           "Amina Dube",
           16,
           4,
           null
          ],
          [
           "Amina Dube",
           16,
           134,
           null
          ],
          [
           "Kofi Abimbola",
           16,
           4,
           null
          ],
          [
           "Kofi Abimbola",
           16,
           126,
           null
          ],
          [
           "Tane Ngata",
           16,
           4,
           null
          ],
          [
           "Tane Ngata",
           16,
           140,
           null
          ],
          [
           "Moana Mahana",
           16,
           4,
           null
          ],
          [
           "Moana Mahana",
           16,
           143,
           null
          ],
          [
           "Aroha Tamati",
           16,
           4,
           null
          ],
          [
           "Aroha Tamati",
           16,
           160,
           null
          ],
          [
           "Kai Tehei",
           16,
           4,
           null
          ],
          [
           "Kai Tehei",
           16,
           166,
           null
          ],
          [
           "Marama Pōtiki",
           16,
           4,
           null
          ],
          [
           "Marama Pōtiki",
           16,
           127,
           null
          ],
          [
           "Rangi Tavita",
           16,
           4,
           null
          ],
          [
           "Rangi Tavita",
           16,
           167,
           null
          ],
          [
           "Hine Rehua",
           16,
           4,
           null
          ],
          [
           "Hine Rehua",
           16,
           165,
           null
          ],
          [
           "Manaia Whakarua",
           16,
           4,
           null
          ],
          [
           "Manaia Whakarua",
           16,
           157,
           null
          ],
          [
           "Kiri Waimarie",
           16,
           4,
           null
          ],
          [
           "Kiri Waimarie",
           16,
           146,
           null
          ],
          [
           "John Ngaio",
           16,
           4,
           null
          ],
          [
           "John Ngaio",
           16,
           154,
           null
          ],
          [
           "Amir al-Farsi",
           16,
           3,
           null
          ],
          [
           "Amir al-Farsi",
           16,
           173,
           null
          ],
          [
           "Layla Nassar",
           16,
           4,
           null
          ],
          [
           "Layla Nassar",
           16,
           126,
           null
          ],
          [
           "Farid Khoury",
           16,
           4,
           null
          ],
          [
           "Farid Khoury",
           16,
           149,
           null
          ],
          [
           "Samira Alawi",
           16,
           4,
           null
          ],
          [
           "Samira Alawi",
           16,
           167,
           null
          ],
          [
           "Karim Hassan",
           16,
           4,
           null
          ],
          [
           "Karim Hassan",
           16,
           150,
           null
          ],
          [
           "Leila Rizvi",
           16,
           4,
           null
          ],
          [
           "Leila Rizvi",
           16,
           175,
           null
          ],
          [
           "Zahir Mansour",
           16,
           4,
           null
          ],
          [
           "Zahir Mansour",
           16,
           144,
           null
          ],
          [
           "Aisha Qadri",
           16,
           4,
           null
          ],
          [
           "Aisha Qadri",
           16,
           150,
           null
          ],
          [
           "Alfred Abbasi",
           16,
           4,
           null
          ],
          [
           "Alfred Abbasi",
           16,
           185,
           null
          ],
          [
           "Yousef Khalid",
           16,
           4,
           null
          ],
          [
           "Yousef Khalid",
           16,
           163,
           null
          ],
          [
           "Arjuna Tan",
           16,
           4,
           null
          ],
          [
           "Arjuna Tan",
           16,
           221,
           null
          ],
          [
           "Hera Nurul",
           16,
           4,
           null
          ],
          [
           "Hera Nurul",
           16,
           206,
           null
          ],
          [
           "Christopher Nguyen",
           16,
           4,
           null
          ],
          [
           "Christopher Nguyen",
           16,
           144,
           null
          ],
          [
           "Aisha Ebrahim",
           16,
           4,
           null
          ],
          [
           "Aisha Ebrahim",
           16,
           163,
           null
          ],
          [
           "Prabhu Rajan",
           16,
           4,
           null
          ],
          [
           "Prabhu Rajan",
           16,
           168,
           null
          ],
          [
           "Surya Dewi",
           16,
           4,
           null
          ],
          [
           "Surya Dewi",
           16,
           188,
           null
          ],
          [
           "Kritika Sharma",
           16,
           4,
           null
          ],
          [
           "Kritika Sharma",
           16,
           140,
           null
          ],
          [
           "Somchai Pong",
           16,
           4,
           null
          ],
          [
           "Somchai Pong",
           16,
           164,
           null
          ],
          [
           "Patrik Sari",
           16,
           4,
           null
          ],
          [
           "Patrik Sari",
           16,
           153,
           null
          ]
         ],
         "hovertemplate": "data_type=celebrity<br>pca1=%{x}<br>pca2=%{y}<br>input/output=%{customdata[0]}<br>layer_id=%{customdata[1]}<br>output_length=%{customdata[2]}<br>switch=%{customdata[3]}<br>label=%{marker.color}<extra></extra>",
         "legendgroup": "celebrity",
         "marker": {
          "color": [
           0,
           0,
           0,
           0,
           0,
           0,
           0,
           0,
           0,
           0,
           0,
           0,
           0,
           0,
           0,
           0,
           0,
           0,
           0,
           0,
           0,
           0,
           0,
           0,
           0,
           0,
           0,
           0,
           0,
           0,
           0,
           0,
           0,
           0,
           0,
           0,
           0,
           0,
           0,
           0,
           0,
           0,
           0,
           0,
           0,
           0,
           0,
           0,
           0,
           0,
           0,
           0,
           0,
           0,
           0,
           0,
           0,
           0,
           0,
           0,
           0,
           0,
           0,
           0,
           0,
           0,
           0,
           0,
           0,
           0,
           0,
           0,
           0,
           0,
           0,
           0,
           0,
           0,
           0,
           0,
           0,
           0,
           0,
           0,
           0,
           0,
           0,
           0,
           0,
           0,
           0,
           0,
           0,
           0,
           0,
           0,
           0,
           0,
           0,
           0,
           0,
           0,
           0,
           0,
           0,
           0,
           0,
           0,
           0,
           0,
           0,
           0,
           0,
           0,
           0,
           0,
           0,
           0,
           0,
           0,
           0,
           0,
           0,
           0,
           0,
           0,
           0,
           0,
           0,
           0,
           0,
           0,
           0,
           0,
           0,
           0,
           0,
           0,
           0,
           0,
           0,
           0,
           0,
           0,
           0,
           0,
           0,
           0,
           0,
           0,
           0,
           0,
           0,
           0,
           0,
           0,
           0,
           0,
           0,
           0,
           0,
           0,
           0,
           0,
           0,
           0,
           0,
           0,
           0,
           0,
           1,
           1,
           1,
           1,
           1,
           1,
           1,
           1,
           1,
           1,
           1,
           1,
           1,
           1,
           1,
           1,
           1,
           1,
           1,
           1,
           1,
           1,
           1,
           1,
           1,
           1,
           1,
           1,
           1,
           1,
           1,
           1,
           1,
           1,
           1,
           1,
           1,
           1,
           1,
           1,
           1,
           1,
           1,
           1,
           1,
           1,
           1,
           1,
           1,
           1,
           1,
           1,
           1,
           1,
           1,
           1,
           1,
           1,
           1,
           1,
           1,
           1,
           1,
           1,
           1,
           1,
           1,
           1,
           1,
           1,
           1,
           1,
           1,
           1,
           1,
           1,
           1,
           1,
           1,
           1,
           1,
           1,
           1,
           1,
           1,
           1,
           1,
           1,
           1,
           1,
           1,
           1,
           1,
           1,
           1,
           1,
           1,
           1,
           1,
           1,
           1,
           1,
           1,
           1,
           1,
           1,
           1,
           1,
           1,
           1,
           1,
           1,
           1,
           1,
           1,
           1,
           1,
           1,
           1,
           1,
           1,
           1,
           1,
           1,
           1,
           1,
           1,
           1,
           1,
           1,
           1,
           1
          ],
          "coloraxis": "coloraxis",
          "symbol": "diamond"
         },
         "mode": "markers",
         "name": "celebrity",
         "orientation": "v",
         "showlegend": true,
         "type": "scatter",
         "x": [
          18.800252132446055,
          -15.231623173565884,
          15.712354031772753,
          -17.7236053932086,
          17.25076429533441,
          -15.940391926038643,
          16.37027343148599,
          -15.398377208398085,
          17.29049640804387,
          -15.812000479962961,
          19.17555365669872,
          -15.046696787506649,
          20.452947641684712,
          -15.99940877527699,
          20.26505498661622,
          -14.38276914523869,
          15.990099589980968,
          -13.569627017768886,
          19.496085321976427,
          -13.848348422225621,
          18.31894843627137,
          -15.311920456987018,
          19.436713291365066,
          -17.32936708999445,
          19.504259445384744,
          -15.471764303124019,
          15.927479289344383,
          -13.072925802826418,
          16.213840503464876,
          -13.109566624300879,
          17.729902185470156,
          -14.995650373851664,
          16.204046696681832,
          -16.14495840119786,
          17.535678098123427,
          -13.72355581343909,
          18.342592116570287,
          -14.436750332891226,
          17.805043211379935,
          -14.873163444523609,
          16.909617889990766,
          -15.660028567835445,
          16.7105678752056,
          -12.701181380463245,
          17.88634444313089,
          -11.447950205257184,
          18.016187620761187,
          -16.565114659035217,
          19.32643998248468,
          -14.103233650939249,
          17.87114992813101,
          -15.954756382380307,
          18.169372731194798,
          -15.912507422112778,
          17.237756444645388,
          -13.316422719737888,
          17.692846588402567,
          -14.54774873509158,
          19.31524281858169,
          -15.129225120522971,
          16.55759413549962,
          -16.31320854983398,
          19.3492614220228,
          -16.13408624013594,
          15.967243179176759,
          -14.054953022472498,
          18.125385242197375,
          -14.747491920355296,
          19.533505248025044,
          -13.252886441423419,
          18.796373434160554,
          -13.552337603719815,
          16.8638736807004,
          -14.038196923495882,
          16.931597459106307,
          -16.692427466042822,
          17.7917563466877,
          -15.445096168888378,
          17.742562147608144,
          -15.577927458660824,
          16.362159952478017,
          -14.47262349258325,
          19.169389416743307,
          -16.594457274543373,
          22.429152014979067,
          -13.51320060688445,
          17.779262987294626,
          -14.31523753712549,
          17.405916485733055,
          -17.23927071044963,
          16.540401528005855,
          -14.414217974031821,
          16.63159013300199,
          -15.913341169404497,
          17.70212890632635,
          -15.06580063146128,
          19.94752672586757,
          -13.083223345259018,
          22.0742346087115,
          -14.301382758567806,
          16.629959069625016,
          -13.800432050137115,
          18.99890396279528,
          -15.211947956842486,
          18.96750056364517,
          -15.715058352276431,
          18.21405097360703,
          -11.942362450858065,
          16.066425149677283,
          -12.37079359599218,
          18.273457993266323,
          -14.278189447675638,
          19.185143855924544,
          -14.683270442643105,
          18.957480918393507,
          -15.706744225967995,
          18.534594074415132,
          -14.932377485812975,
          18.441360251148144,
          -14.417850910094474,
          18.0230190007392,
          -14.98900673966063,
          17.873070378945375,
          -15.707526426911834,
          17.55542983916906,
          -17.024019930220945,
          20.662580217435682,
          -14.774519943220911,
          18.053328364453883,
          -12.551247413979393,
          16.52907823689656,
          -10.802352206849767,
          17.793490848754267,
          -14.777094760037798,
          17.604168242464436,
          -11.869690354692102,
          16.66098395749354,
          -14.807144663975947,
          17.619613504015295,
          -13.989185921153135,
          20.16898777703837,
          -11.505349436646013,
          20.98070144897086,
          -14.18932643188901,
          16.63557155878151,
          -14.217608624974954,
          17.480711098953094,
          -13.899627637899924,
          17.09000698223557,
          -14.22718449352674,
          18.232710151936704,
          -13.542024657250538,
          17.676824294867295,
          -13.987363198049781,
          18.296534605340373,
          -13.76733243562444,
          18.418750315887127,
          -14.039431553837726,
          16.35087721348981,
          -15.035912110005679,
          18.221035667728714,
          -14.610951522265182,
          18.879466144169346,
          -12.331777553557554,
          19.81176791953536,
          -13.57477352333095,
          20.81030145659357,
          -13.225638915352972,
          21.48562029239538,
          -15.611698157169876,
          23.712552582996125,
          -9.263119951684994,
          22.448919336263952,
          -7.3746319523900254,
          23.824195272393343,
          -9.778927692279234,
          21.560460652842494,
          -10.44970181494654,
          19.61497680852166,
          -9.24011491468272,
          22.206116988789795,
          -9.269168517225156,
          20.990785418361256,
          -8.54105871236759,
          22.12489964833968,
          -9.525512126027522,
          23.148609969924784,
          -8.974056934963242,
          21.813368102470427,
          -6.094868467921651,
          21.181902818963586,
          -10.340686728359046,
          19.559478431856977,
          -9.89172188173922,
          20.09683797321018,
          -8.336880194982031,
          24.27858840237462,
          -11.767432192329487,
          20.97302561604428,
          -3.680087326209766,
          20.585380384056503,
          -8.25135439873569,
          22.185032886546246,
          0.36680428440855906,
          21.949178231999998,
          -7.079368117530859,
          21.663603565361935,
          -6.961314533258384,
          19.97981082969776,
          -9.91863875556998,
          18.784916212300185,
          -7.585179275432508,
          20.895265167362595,
          -7.21460276844802,
          20.40371648641152,
          -6.267016004695609,
          20.68206560503501,
          -4.15323927216598,
          20.958264398487675,
          -6.979758815264413,
          19.667918683205606,
          -6.106658758020531,
          21.04552563824509,
          -6.226342887349469,
          21.902178052629438,
          -7.5846940405795245,
          20.969603700402338,
          -7.897801354083143,
          20.95061118244727,
          -5.658605320620437,
          20.63248850250837,
          -6.097107678731565,
          20.217996083151302,
          -5.5279820599261,
          20.37712057078334,
          -8.476285582584985,
          20.59567869105585,
          -8.049602757352917,
          22.18588141262787,
          -7.329570046225202,
          21.386144230390528,
          2.315065638022564,
          20.89524669743167,
          -5.261557528669533,
          19.234963768837847,
          -5.9857868503546205,
          28.772913117394932,
          -8.396815686855598,
          20.138624900908084,
          -7.432086354461269,
          22.25194351172587,
          -6.568771392919375,
          22.611810386506917,
          -5.763662240095643,
          22.48288186775204,
          -4.922418140245843,
          22.682059108695977,
          -6.204150714195031,
          22.68155527586599,
          -7.114391316666384,
          24.431778816089338,
          -7.218595988160997,
          18.57453653793481,
          -7.276620849106537,
          28.6113412368721,
          -8.93350438712791,
          24.028358476507773,
          -5.663566952289451,
          19.475709998232333,
          2.183400621036796,
          20.032849489646825,
          -8.146859362685523,
          20.90834596375656,
          -6.082312834408138,
          22.02669906068984,
          -6.128014066233841,
          20.475970159415272,
          -4.165320284554392,
          21.163894216916535,
          -6.538571907452707,
          20.099810184987,
          -7.656078799314672,
          20.195892185250436,
          -2.2148666348274895,
          23.049025235994183,
          -8.477190577367447,
          23.36104661316796,
          -6.612047528147543,
          20.098611098776715,
          -6.66489255951705,
          21.107514747381426,
          -8.392077362324462,
          20.411346407623732,
          -1.5740709956615708,
          21.85083035656545,
          -9.87359046178294,
          21.182935223849128,
          7.334662470222936,
          23.930263551525332,
          -8.595535839037378,
          20.901433337298066,
          -5.234338420744261
         ],
         "xaxis": "x",
         "y": [
          22.20004767034171,
          11.529168563328,
          23.109736772875053,
          14.062767565466068,
          21.467055388652454,
          9.830079167069854,
          22.048294347668765,
          11.721325150934444,
          20.56432907687865,
          11.337599157874381,
          24.08893223480954,
          13.118781106612362,
          20.001414411815393,
          11.204016648270814,
          20.752113616800393,
          9.413349496665726,
          22.722076919500402,
          8.885653930970285,
          21.65196392662105,
          9.173496538627782,
          23.829533235710326,
          11.956451368081286,
          21.37454856389045,
          12.98446631385989,
          20.449549832518755,
          10.895853648598862,
          20.94569846976437,
          7.79166244863293,
          24.952725089448904,
          10.77986116839768,
          21.30960976090659,
          10.347186604223195,
          20.356539277577383,
          11.206545066374574,
          23.202778243885195,
          7.768918830845787,
          20.75534891233183,
          8.747604564958925,
          25.66990071803764,
          11.832108526886945,
          20.28510575150877,
          10.103247492693967,
          23.17056062941559,
          10.003452303926942,
          22.02164099131521,
          11.301681495149246,
          18.984019345986358,
          11.43544051801704,
          21.09290017424619,
          8.902438688742075,
          22.064571916395586,
          13.12035584349279,
          23.673944416030093,
          12.456439880353468,
          19.697477474703362,
          8.109408232105668,
          25.052889105259474,
          8.487882903552732,
          22.67959293406347,
          9.784038861838916,
          22.164833651064136,
          11.223257448907606,
          22.846685788325342,
          11.099055788012286,
          20.150417627037385,
          8.775925785479087,
          23.59359483089942,
          12.480709503161275,
          23.752658651894425,
          7.383661219815934,
          20.930101966628158,
          10.096723184703329,
          21.993129020322765,
          7.034372103914171,
          20.636352122477614,
          12.322787902930125,
          19.908965521459457,
          11.69754432309749,
          23.659572755697365,
          11.136816971808257,
          25.62811128480352,
          11.094467256877039,
          21.208830652211265,
          10.818793477004707,
          20.242283838666637,
          6.856297003114212,
          19.9574713973349,
          7.451739093155929,
          19.256704666692272,
          12.804653101027025,
          20.057912450022137,
          8.84438123104742,
          23.397208172826723,
          9.92180587423449,
          19.435769250804597,
          7.608436754746199,
          22.93226154948915,
          6.2799531475361015,
          20.99169242643822,
          7.614089886677789,
          23.14645707910241,
          8.21295505545393,
          19.736252108869348,
          11.406399371236056,
          21.51859643669514,
          10.47647599044468,
          19.293057630469672,
          9.133136014375957,
          18.595548907147105,
          5.790987409295864,
          18.28262540302831,
          7.946357753746908,
          19.886668765853532,
          8.690803262028465,
          22.66546679600659,
          11.380589172015377,
          23.194476911010426,
          9.894138768604499,
          20.049790591641315,
          10.99954719660831,
          18.70034033397245,
          8.311953743670411,
          17.561464673702393,
          11.068742369254837,
          22.382319520597413,
          11.176510695380127,
          20.576977744347097,
          9.87759672229642,
          20.49353423527441,
          10.494420329785795,
          20.890369786388696,
          3.194378413706764,
          22.015059215439496,
          11.163706659094824,
          21.040046960618376,
          5.329770071256701,
          21.112505819279097,
          9.490906795520898,
          23.39894281201993,
          9.500861646499203,
          20.27185778083076,
          7.080006025297921,
          22.846061024370186,
          9.804927635903997,
          20.355126244012418,
          9.412592057748613,
          21.093953798195145,
          8.194965574945485,
          23.76958200799266,
          12.14207040901897,
          22.951677511271082,
          9.480867618503472,
          18.375199485989427,
          9.383235733967418,
          21.796547126547246,
          9.427069104144291,
          23.242179152272215,
          11.619908481492967,
          22.590807483438187,
          13.76021406674207,
          23.99054846900522,
          11.812669738974156,
          22.160077696221663,
          7.396860026259669,
          19.529108415996536,
          8.59373552213087,
          21.62967061150871,
          9.413206429917391,
          19.953351819671582,
          11.446401173461265,
          20.209962731283,
          2.256246001186349,
          19.294076436910295,
          1.2765523790522884,
          20.232706165112326,
          4.368935438818274,
          20.722653529304218,
          4.417578682703541,
          17.599221730841357,
          4.005216686942516,
          20.89044750714545,
          1.5396979914183608,
          21.36319830911949,
          2.120792151260497,
          21.4505779940728,
          4.068429688043363,
          20.689235171787068,
          2.722159520316219,
          19.764641520963657,
          -2.557203757964422,
          19.154302059375254,
          4.2294847750410405,
          19.403322381871867,
          1.5682236591574195,
          20.82010585106291,
          1.5790940642235118,
          22.8562063633845,
          4.961213405973509,
          21.414306962590825,
          -1.886548841676524,
          15.937318521903002,
          2.3088388698969333,
          17.432927153250468,
          -6.613032712365762,
          19.908335473412738,
          -1.5879595127375672,
          17.65610832829495,
          -0.5610820433323744,
          16.542413682135013,
          2.2714106528828033,
          16.765695750451354,
          -0.7393731083716104,
          19.612267743997744,
          1.8652151298365998,
          19.93935022812177,
          -0.07510524232633475,
          19.09695478503516,
          -0.5074073106222757,
          19.972460757824948,
          0.998073602657382,
          16.318770722582705,
          -1.793556835693114,
          19.655623002773716,
          -1.519169364107456,
          19.668652444166344,
          -1.1945330445532596,
          19.424357571110257,
          2.089517869239892,
          18.461917733072305,
          0.4271567860878333,
          17.75688738158184,
          0.7599539700645384,
          16.449634665889636,
          0.020853051764066155,
          20.35303566337914,
          4.946112083266425,
          20.985957133348933,
          2.5319066356176996,
          18.221912757935353,
          0.8392502035135918,
          19.898290973930095,
          -6.935934891711827,
          17.22905646382778,
          -1.326579178485177,
          18.260170862594883,
          -2.004716680680954,
          15.446657227994514,
          2.539256162814619,
          19.886445643744423,
          -1.6740761984723846,
          19.022807094579292,
          -0.18567202225941684,
          16.346141199323803,
          -2.2487416030044587,
          22.864326985649157,
          -2.7500577872500735,
          18.8821690845174,
          -2.7253587709623117,
          16.57078634743141,
          -3.088389485713371,
          19.548877445027472,
          -2.482544113176289,
          18.73330868627586,
          1.5494255676588864,
          22.79830422211161,
          1.7682133025494478,
          22.74941249971469,
          2.1006392404746808,
          19.37679104532658,
          -5.920850693376172,
          19.142478954863595,
          1.7168485823947635,
          20.42159387832206,
          -1.1066972418717684,
          20.82271620653416,
          -0.3338693663179065,
          18.47523325887095,
          -3.406409158239561,
          19.10830880180478,
          0.7550360325040105,
          19.526951442528585,
          0.5439269816346914,
          19.460817831357044,
          -6.4764689634753,
          20.0337510970647,
          1.6527615604440116,
          20.48985540714769,
          0.9318439827572618,
          19.634511690325407,
          -0.7260850548096083,
          21.50635501593228,
          2.3595731082537483,
          20.00530977685286,
          -2.900737097173875,
          18.201092107273087,
          5.143593988247804,
          20.386014532501456,
          -6.703768258333485,
          23.267303611567897,
          0.6495348605228964,
          19.6283229127773,
          -0.9906491669772544
         ],
         "yaxis": "y"
        },
        {
         "customdata": [
          [
           "Time",
           16,
           4,
           null
          ],
          [
           "Time",
           16,
           131,
           null
          ],
          [
           "Year",
           16,
           5,
           null
          ],
          [
           "Year",
           16,
           109,
           null
          ],
          [
           "People",
           16,
           7,
           null
          ],
          [
           "People",
           16,
           105,
           null
          ],
          [
           "Way",
           16,
           5,
           null
          ],
          [
           "Way",
           16,
           93,
           null
          ],
          [
           "Day",
           16,
           7,
           null
          ],
          [
           "Day",
           16,
           93,
           null
          ],
          [
           "Man",
           16,
           6,
           null
          ],
          [
           "Man",
           16,
           29,
           null
          ],
          [
           "Thing",
           16,
           6,
           null
          ],
          [
           "Thing",
           16,
           87,
           null
          ],
          [
           "Woman",
           16,
           6,
           null
          ],
          [
           "Woman",
           16,
           22,
           null
          ],
          [
           "Life",
           16,
           9,
           null
          ],
          [
           "Life",
           16,
           118,
           null
          ],
          [
           "Child",
           16,
           5,
           null
          ],
          [
           "Child",
           16,
           115,
           null
          ],
          [
           "World",
           16,
           5,
           null
          ],
          [
           "World",
           16,
           85,
           null
          ],
          [
           "School",
           16,
           7,
           null
          ],
          [
           "School",
           16,
           140,
           null
          ],
          [
           "State",
           16,
           9,
           null
          ],
          [
           "State",
           16,
           68,
           null
          ],
          [
           "Family",
           16,
           3,
           null
          ],
          [
           "Family",
           16,
           107,
           null
          ],
          [
           "Student",
           16,
           5,
           null
          ],
          [
           "Student",
           16,
           87,
           null
          ],
          [
           "Group",
           16,
           7,
           null
          ],
          [
           "Group",
           16,
           91,
           null
          ],
          [
           "Country",
           16,
           6,
           null
          ],
          [
           "Country",
           16,
           82,
           null
          ],
          [
           "Problem",
           16,
           5,
           null
          ],
          [
           "Problem",
           16,
           94,
           null
          ],
          [
           "Hand",
           16,
           4,
           null
          ],
          [
           "Hand",
           16,
           84,
           null
          ],
          [
           "Part",
           16,
           7,
           null
          ],
          [
           "Part",
           16,
           91,
           null
          ],
          [
           "Place",
           16,
           8,
           null
          ],
          [
           "Place",
           16,
           63,
           null
          ],
          [
           "Case",
           16,
           8,
           null
          ],
          [
           "Case",
           16,
           133,
           null
          ],
          [
           "Week",
           16,
           8,
           null
          ],
          [
           "Week",
           16,
           45,
           null
          ],
          [
           "Company",
           16,
           11,
           null
          ],
          [
           "Company",
           16,
           101,
           null
          ],
          [
           "System",
           16,
           7,
           null
          ],
          [
           "System",
           16,
           103,
           null
          ],
          [
           "Program",
           16,
           6,
           null
          ],
          [
           "Program",
           16,
           137,
           null
          ],
          [
           "Question",
           16,
           7,
           null
          ],
          [
           "Question",
           16,
           68,
           null
          ],
          [
           "Work",
           16,
           6,
           null
          ],
          [
           "Work",
           16,
           103,
           null
          ],
          [
           "Government",
           16,
           9,
           null
          ],
          [
           "Government",
           16,
           128,
           null
          ],
          [
           "Number",
           16,
           5,
           null
          ],
          [
           "Number",
           16,
           95,
           null
          ],
          [
           "Night",
           16,
           8,
           null
          ],
          [
           "Night",
           16,
           50,
           null
          ],
          [
           "Point",
           16,
           3,
           null
          ],
          [
           "Point",
           16,
           99,
           null
          ],
          [
           "Home",
           16,
           5,
           null
          ],
          [
           "Home",
           16,
           135,
           null
          ],
          [
           "Water",
           16,
           6,
           null
          ],
          [
           "Water",
           16,
           139,
           null
          ],
          [
           "Room",
           16,
           7,
           null
          ],
          [
           "Room",
           16,
           144,
           null
          ],
          [
           "Mother",
           16,
           6,
           null
          ],
          [
           "Mother",
           16,
           66,
           null
          ],
          [
           "Area",
           16,
           6,
           null
          ],
          [
           "Area",
           16,
           94,
           null
          ],
          [
           "Money",
           16,
           4,
           null
          ],
          [
           "Money",
           16,
           71,
           null
          ],
          [
           "Story",
           16,
           4,
           null
          ],
          [
           "Story",
           16,
           124,
           null
          ],
          [
           "Fact",
           16,
           5,
           null
          ],
          [
           "Fact",
           16,
           68,
           null
          ],
          [
           "Month",
           16,
           6,
           null
          ],
          [
           "Month",
           16,
           99,
           null
          ],
          [
           "Lot",
           16,
           5,
           null
          ],
          [
           "Lot",
           16,
           111,
           null
          ],
          [
           "Right",
           16,
           7,
           null
          ],
          [
           "Right",
           16,
           51,
           null
          ],
          [
           "Study",
           16,
           11,
           null
          ],
          [
           "Study",
           16,
           98,
           null
          ],
          [
           "Book",
           16,
           4,
           null
          ],
          [
           "Book",
           16,
           114,
           null
          ],
          [
           "Eye",
           16,
           4,
           null
          ],
          [
           "Eye",
           16,
           112,
           null
          ],
          [
           "Job",
           16,
           10,
           null
          ],
          [
           "Job",
           16,
           108,
           null
          ],
          [
           "Word",
           16,
           6,
           null
          ],
          [
           "Word",
           16,
           25,
           null
          ],
          [
           "Business",
           16,
           8,
           null
          ],
          [
           "Business",
           16,
           166,
           null
          ],
          [
           "Issue",
           16,
           7,
           null
          ],
          [
           "Issue",
           16,
           62,
           null
          ],
          [
           "Side",
           16,
           5,
           null
          ],
          [
           "Side",
           16,
           51,
           null
          ],
          [
           "Kind",
           16,
           6,
           null
          ],
          [
           "Kind",
           16,
           69,
           null
          ],
          [
           "Head",
           16,
           5,
           null
          ],
          [
           "Head",
           16,
           96,
           null
          ],
          [
           "House",
           16,
           5,
           null
          ],
          [
           "House",
           16,
           170,
           null
          ],
          [
           "Service",
           16,
           3,
           null
          ],
          [
           "Service",
           16,
           116,
           null
          ],
          [
           "Friend",
           16,
           9,
           null
          ],
          [
           "Friend",
           16,
           86,
           null
          ],
          [
           "Father",
           16,
           9,
           null
          ],
          [
           "Father",
           16,
           80,
           null
          ],
          [
           "Power",
           16,
           5,
           null
          ],
          [
           "Power",
           16,
           74,
           null
          ],
          [
           "Hour",
           16,
           6,
           null
          ],
          [
           "Hour",
           16,
           73,
           null
          ],
          [
           "Game",
           16,
           5,
           null
          ],
          [
           "Game",
           16,
           121,
           null
          ],
          [
           "Line",
           16,
           6,
           null
          ],
          [
           "Line",
           16,
           121,
           null
          ],
          [
           "End",
           16,
           6,
           null
          ],
          [
           "End",
           16,
           98,
           null
          ],
          [
           "Member",
           16,
           6,
           null
          ],
          [
           "Member",
           16,
           94,
           null
          ],
          [
           "Law",
           16,
           4,
           null
          ],
          [
           "Law",
           16,
           148,
           null
          ],
          [
           "Car",
           16,
           7,
           null
          ],
          [
           "Car",
           16,
           151,
           null
          ],
          [
           "City",
           16,
           10,
           null
          ],
          [
           "City",
           16,
           132,
           null
          ],
          [
           "Community",
           16,
           7,
           null
          ],
          [
           "Community",
           16,
           116,
           null
          ],
          [
           "Name",
           16,
           5,
           null
          ],
          [
           "Name",
           16,
           93,
           null
          ],
          [
           "President",
           16,
           6,
           null
          ],
          [
           "President",
           16,
           140,
           null
          ],
          [
           "Team",
           16,
           5,
           null
          ],
          [
           "Team",
           16,
           80,
           null
          ],
          [
           "Minute",
           16,
           6,
           null
          ],
          [
           "Minute",
           16,
           47,
           null
          ],
          [
           "Idea",
           16,
           7,
           null
          ],
          [
           "Idea",
           16,
           139,
           null
          ],
          [
           "Kid",
           16,
           8,
           null
          ],
          [
           "Kid",
           16,
           56,
           null
          ],
          [
           "Body",
           16,
           6,
           null
          ],
          [
           "Body",
           16,
           110,
           null
          ],
          [
           "Information",
           16,
           4,
           null
          ],
          [
           "Information",
           16,
           90,
           null
          ],
          [
           "Back",
           16,
           4,
           null
          ],
          [
           "Back",
           16,
           103,
           null
          ],
          [
           "Parent",
           16,
           6,
           null
          ],
          [
           "Parent",
           16,
           101,
           null
          ],
          [
           "Face",
           16,
           6,
           null
          ],
          [
           "Face",
           16,
           149,
           null
          ],
          [
           "Level",
           16,
           5,
           null
          ],
          [
           "Level",
           16,
           120,
           null
          ],
          [
           "Office",
           16,
           6,
           null
          ],
          [
           "Office",
           16,
           171,
           null
          ],
          [
           "Door",
           16,
           8,
           null
          ],
          [
           "Door",
           16,
           96,
           null
          ],
          [
           "Health",
           16,
           8,
           null
          ],
          [
           "Health",
           16,
           138,
           null
          ],
          [
           "Person",
           16,
           10,
           null
          ],
          [
           "Person",
           16,
           97,
           null
          ],
          [
           "Art",
           16,
           5,
           null
          ],
          [
           "Art",
           16,
           145,
           null
          ],
          [
           "War",
           16,
           8,
           null
          ],
          [
           "War",
           16,
           77,
           null
          ],
          [
           "History",
           16,
           4,
           null
          ],
          [
           "History",
           16,
           113,
           null
          ],
          [
           "Party",
           16,
           9,
           null
          ],
          [
           "Party",
           16,
           95,
           null
          ],
          [
           "Result",
           16,
           7,
           null
          ],
          [
           "Result",
           16,
           94,
           null
          ],
          [
           "Change",
           16,
           5,
           null
          ],
          [
           "Change",
           16,
           53,
           null
          ],
          [
           "Morning",
           16,
           6,
           null
          ],
          [
           "Morning",
           16,
           154,
           null
          ],
          [
           "Reason",
           16,
           5,
           null
          ],
          [
           "Reason",
           16,
           135,
           null
          ],
          [
           "Research",
           16,
           5,
           null
          ],
          [
           "Research",
           16,
           131,
           null
          ],
          [
           "Girl",
           16,
           4,
           null
          ],
          [
           "Girl",
           16,
           30,
           null
          ],
          [
           "Guy",
           16,
           3,
           null
          ],
          [
           "Guy",
           16,
           56,
           null
          ],
          [
           "Moment",
           16,
           7,
           null
          ],
          [
           "Moment",
           16,
           75,
           null
          ],
          [
           "Air",
           16,
           10,
           null
          ],
          [
           "Air",
           16,
           114,
           null
          ],
          [
           "Teacher",
           16,
           10,
           null
          ],
          [
           "Teacher",
           16,
           88,
           null
          ],
          [
           "Force",
           16,
           5,
           null
          ],
          [
           "Force",
           16,
           87,
           null
          ],
          [
           "Education",
           16,
           11,
           null
          ],
          [
           "Education",
           16,
           92,
           null
          ],
          [
           "Blorble",
           16,
           6,
           null
          ],
          [
           "Blorble",
           16,
           137,
           null
          ],
          [
           "Flynth",
           16,
           5,
           null
          ],
          [
           "Flynth",
           16,
           74,
           null
          ],
          [
           "Quindle",
           16,
           6,
           null
          ],
          [
           "Quindle",
           16,
           100,
           null
          ],
          [
           "Wimbish",
           16,
           6,
           null
          ],
          [
           "Wimbish",
           16,
           105,
           null
          ],
          [
           "Trindle",
           16,
           6,
           null
          ],
          [
           "Trindle",
           16,
           129,
           null
          ],
          [
           "Flaxet",
           16,
           5,
           null
          ],
          [
           "Flaxet",
           16,
           80,
           null
          ],
          [
           "Snorfle",
           16,
           5,
           null
          ],
          [
           "Snorfle",
           16,
           114,
           null
          ],
          [
           "Glimmeron",
           16,
           5,
           null
          ],
          [
           "Glimmeron",
           16,
           91,
           null
          ],
          [
           "Jorkle",
           16,
           8,
           null
          ],
          [
           "Jorkle",
           16,
           88,
           null
          ],
          [
           "Bramblet",
           16,
           5,
           null
          ],
          [
           "Bramblet",
           16,
           112,
           null
          ],
          [
           "Sproon",
           16,
           6,
           null
          ],
          [
           "Sproon",
           16,
           72,
           null
          ],
          [
           "Veltor",
           16,
           6,
           null
          ],
          [
           "Veltor",
           16,
           92,
           null
          ],
          [
           "Crimble",
           16,
           7,
           null
          ],
          [
           "Crimble",
           16,
           114,
           null
          ],
          [
           "Zindle",
           16,
           7,
           null
          ],
          [
           "Zindle",
           16,
           111,
           null
          ],
          [
           "Blorple",
           16,
           8,
           null
          ],
          [
           "Blorple",
           16,
           103,
           null
          ],
          [
           "Fizzet",
           16,
           7,
           null
          ],
          [
           "Fizzet",
           16,
           104,
           null
          ],
          [
           "Dronth",
           16,
           6,
           null
          ],
          [
           "Dronth",
           16,
           86,
           null
          ],
          [
           "Wobblet",
           16,
           7,
           null
          ],
          [
           "Wobblet",
           16,
           121,
           null
          ],
          [
           "Ploomish",
           16,
           6,
           null
          ],
          [
           "Ploomish",
           16,
           76,
           null
          ],
          [
           "Glaiveon",
           16,
           5,
           null
          ],
          [
           "Glaiveon",
           16,
           106,
           null
          ],
          [
           "Quorble",
           16,
           6,
           null
          ],
          [
           "Quorble",
           16,
           86,
           null
          ],
          [
           "Strindle",
           16,
           5,
           null
          ],
          [
           "Strindle",
           16,
           88,
           null
          ],
          [
           "Plimble",
           16,
           6,
           null
          ],
          [
           "Plimble",
           16,
           102,
           null
          ],
          [
           "Brindish",
           16,
           4,
           null
          ],
          [
           "Brindish",
           16,
           73,
           null
          ],
          [
           "Flizet",
           16,
           6,
           null
          ],
          [
           "Flizet",
           16,
           77,
           null
          ],
          [
           "Chorkle",
           16,
           6,
           null
          ],
          [
           "Chorkle",
           16,
           152,
           null
          ],
          [
           "Glomble",
           16,
           6,
           null
          ],
          [
           "Glomble",
           16,
           103,
           null
          ],
          [
           "Tindle",
           16,
           5,
           null
          ],
          [
           "Tindle",
           16,
           150,
           null
          ],
          [
           "Framble",
           16,
           7,
           null
          ],
          [
           "Framble",
           16,
           108,
           null
          ],
          [
           "Vextron",
           16,
           4,
           null
          ],
          [
           "Vextron",
           16,
           86,
           null
          ],
          [
           "Snindle",
           16,
           5,
           null
          ],
          [
           "Snindle",
           16,
           104,
           null
          ],
          [
           "Brimpet",
           16,
           11,
           null
          ],
          [
           "Brimpet",
           16,
           84,
           null
          ],
          [
           "Zorble",
           16,
           9,
           null
          ],
          [
           "Zorble",
           16,
           116,
           null
          ],
          [
           "Blinter",
           16,
           7,
           null
          ],
          [
           "Blinter",
           16,
           86,
           null
          ],
          [
           "Floomish",
           16,
           6,
           null
          ],
          [
           "Floomish",
           16,
           105,
           null
          ],
          [
           "Drindle",
           16,
           6,
           null
          ],
          [
           "Drindle",
           16,
           93,
           null
          ],
          [
           "Plicket",
           16,
           5,
           null
          ],
          [
           "Plicket",
           16,
           70,
           null
          ],
          [
           "Glompel",
           16,
           5,
           null
          ],
          [
           "Glompel",
           16,
           93,
           null
          ],
          [
           "Jindle",
           16,
           5,
           null
          ],
          [
           "Jindle",
           16,
           103,
           null
          ],
          [
           "Wramble",
           16,
           7,
           null
          ],
          [
           "Wramble",
           16,
           71,
           null
          ],
          [
           "Crindle",
           16,
           6,
           null
          ],
          [
           "Crindle",
           16,
           60,
           null
          ],
          [
           "Vornish",
           16,
           8,
           null
          ],
          [
           "Vornish",
           16,
           89,
           null
          ],
          [
           "Blimble",
           16,
           7,
           null
          ],
          [
           "Blimble",
           16,
           81,
           null
          ],
          [
           "Flumble",
           16,
           6,
           null
          ],
          [
           "Flumble",
           16,
           74,
           null
          ],
          [
           "Snorple",
           16,
           6,
           null
          ],
          [
           "Snorple",
           16,
           93,
           null
          ],
          [
           "Zintle",
           16,
           4,
           null
          ],
          [
           "Zintle",
           16,
           73,
           null
          ],
          [
           "Glimble",
           16,
           7,
           null
          ],
          [
           "Glimble",
           16,
           120,
           null
          ],
          [
           "Plindle",
           16,
           6,
           null
          ],
          [
           "Plindle",
           16,
           113,
           null
          ],
          [
           "Quorlet",
           16,
           3,
           null
          ],
          [
           "Quorlet",
           16,
           98,
           null
          ],
          [
           "Thrumble",
           16,
           6,
           null
          ],
          [
           "Thrumble",
           16,
           139,
           null
          ],
          [
           "Brinkle",
           16,
           6,
           null
          ],
          [
           "Brinkle",
           16,
           135,
           null
          ],
          [
           "Fuzzle",
           16,
           5,
           null
          ],
          [
           "Fuzzle",
           16,
           108,
           null
          ],
          [
           "Wimbel",
           16,
           6,
           null
          ],
          [
           "Wimbel",
           16,
           100,
           null
          ],
          [
           "Flonkle",
           16,
           8,
           null
          ],
          [
           "Flonkle",
           16,
           91,
           null
          ],
          [
           "Glindle",
           16,
           5,
           null
          ],
          [
           "Glindle",
           16,
           90,
           null
          ],
          [
           "Zorlet",
           16,
           8,
           null
          ],
          [
           "Zorlet",
           16,
           100,
           null
          ],
          [
           "Bramble",
           16,
           7,
           null
          ],
          [
           "Bramble",
           16,
           138,
           null
          ],
          [
           "Dribblet",
           16,
           7,
           null
          ],
          [
           "Dribblet",
           16,
           100,
           null
          ],
          [
           "Crumple",
           16,
           7,
           null
          ],
          [
           "Crumple",
           16,
           112,
           null
          ],
          [
           "Splimble",
           16,
           6,
           null
          ],
          [
           "Splimble",
           16,
           95,
           null
          ],
          [
           "Vlimp",
           16,
           4,
           null
          ],
          [
           "Vlimp",
           16,
           84,
           null
          ],
          [
           "Frindle",
           16,
           9,
           null
          ],
          [
           "Frindle",
           16,
           146,
           null
          ],
          [
           "Quomp",
           16,
           4,
           null
          ],
          [
           "Quomp",
           16,
           76,
           null
          ],
          [
           "Blimblet",
           16,
           7,
           null
          ],
          [
           "Blimblet",
           16,
           100,
           null
          ],
          [
           "Womble",
           16,
           8,
           null
          ],
          [
           "Womble",
           16,
           153,
           null
          ],
          [
           "Glimmeret",
           16,
           7,
           null
          ],
          [
           "Glimmeret",
           16,
           87,
           null
          ],
          [
           "Jorple",
           16,
           6,
           null
          ],
          [
           "Jorple",
           16,
           35,
           null
          ],
          [
           "Snibble",
           16,
           7,
           null
          ],
          [
           "Snibble",
           16,
           110,
           null
          ],
          [
           "Plumble",
           16,
           7,
           null
          ],
          [
           "Plumble",
           16,
           76,
           null
          ],
          [
           "Brumble",
           16,
           6,
           null
          ],
          [
           "Brumble",
           16,
           108,
           null
          ],
          [
           "Crimple",
           16,
           6,
           null
          ],
          [
           "Crimple",
           16,
           136,
           null
          ],
          [
           "Vindle",
           16,
           4,
           null
          ],
          [
           "Vindle",
           16,
           117,
           null
          ],
          [
           "Blorkle",
           16,
           8,
           null
          ],
          [
           "Blorkle",
           16,
           111,
           null
          ],
          [
           "Strindle",
           16,
           6,
           null
          ],
          [
           "Strindle",
           16,
           99,
           null
          ],
          [
           "Wornish",
           16,
           5,
           null
          ],
          [
           "Wornish",
           16,
           102,
           null
          ],
          [
           "Quizzle",
           16,
           6,
           null
          ],
          [
           "Quizzle",
           16,
           135,
           null
          ],
          [
           "Drimple",
           16,
           6,
           null
          ],
          [
           "Drimple",
           16,
           123,
           null
          ],
          [
           "Glomplet",
           16,
           7,
           null
          ],
          [
           "Glomplet",
           16,
           126,
           null
          ],
          [
           "Brinkle",
           16,
           6,
           null
          ],
          [
           "Brinkle",
           16,
           127,
           null
          ],
          [
           "Flindle",
           16,
           6,
           null
          ],
          [
           "Flindle",
           16,
           98,
           null
          ],
          [
           "Snorble",
           16,
           7,
           null
          ],
          [
           "Snorble",
           16,
           132,
           null
          ],
          [
           "Plimblet",
           16,
           6,
           null
          ],
          [
           "Plimblet",
           16,
           107,
           null
          ],
          [
           "Vortle",
           16,
           7,
           null
          ],
          [
           "Vortle",
           16,
           123,
           null
          ],
          [
           "Tindle",
           16,
           7,
           null
          ],
          [
           "Tindle",
           16,
           105,
           null
          ],
          [
           "Wamble",
           16,
           7,
           null
          ],
          [
           "Wamble",
           16,
           78,
           null
          ],
          [
           "Quornet",
           16,
           6,
           null
          ],
          [
           "Quornet",
           16,
           123,
           null
          ],
          [
           "Fumblet",
           16,
           6,
           null
          ],
          [
           "Fumblet",
           16,
           70,
           null
          ],
          [
           "Brindle",
           16,
           7,
           null
          ],
          [
           "Brindle",
           16,
           170,
           null
          ],
          [
           "Crimblet",
           16,
           7,
           null
          ],
          [
           "Crimblet",
           16,
           96,
           null
          ],
          [
           "Wromble",
           16,
           6,
           null
          ],
          [
           "Wromble",
           16,
           152,
           null
          ],
          [
           "Jindle",
           16,
           5,
           null
          ],
          [
           "Jindle",
           16,
           88,
           null
          ],
          [
           "Snizzle",
           16,
           6,
           null
          ],
          [
           "Snizzle",
           16,
           90,
           null
          ],
          [
           "Plomish",
           16,
           6,
           null
          ],
          [
           "Plomish",
           16,
           81,
           null
          ],
          [
           "Brantle",
           16,
           6,
           null
          ],
          [
           "Brantle",
           16,
           66,
           null
          ],
          [
           "Framblet",
           16,
           6,
           null
          ],
          [
           "Framblet",
           16,
           112,
           null
          ],
          [
           "Bimble",
           16,
           5,
           null
          ],
          [
           "Bimble",
           16,
           86,
           null
          ],
          [
           "Chindle",
           16,
           5,
           null
          ],
          [
           "Chindle",
           16,
           89,
           null
          ],
          [
           "Dronkle",
           16,
           5,
           null
          ],
          [
           "Dronkle",
           16,
           108,
           null
          ],
          [
           "Elint",
           16,
           12,
           null
          ],
          [
           "Elint",
           16,
           162,
           null
          ],
          [
           "Friblet",
           16,
           6,
           null
          ],
          [
           "Friblet",
           16,
           98,
           null
          ]
         ],
         "hovertemplate": "data_type=english_word<br>pca1=%{x}<br>pca2=%{y}<br>input/output=%{customdata[0]}<br>layer_id=%{customdata[1]}<br>output_length=%{customdata[2]}<br>switch=%{customdata[3]}<br>label=%{marker.color}<extra></extra>",
         "legendgroup": "english_word",
         "marker": {
          "color": [
           4,
           4,
           4,
           4,
           4,
           4,
           4,
           4,
           4,
           4,
           4,
           4,
           4,
           4,
           4,
           4,
           4,
           4,
           4,
           4,
           4,
           4,
           4,
           4,
           4,
           4,
           4,
           4,
           4,
           4,
           4,
           4,
           4,
           4,
           4,
           4,
           4,
           4,
           4,
           4,
           4,
           4,
           4,
           4,
           4,
           4,
           4,
           4,
           4,
           4,
           4,
           4,
           4,
           4,
           4,
           4,
           4,
           4,
           4,
           4,
           4,
           4,
           4,
           4,
           4,
           4,
           4,
           4,
           4,
           4,
           4,
           4,
           4,
           4,
           4,
           4,
           4,
           4,
           4,
           4,
           4,
           4,
           4,
           4,
           4,
           4,
           4,
           4,
           4,
           4,
           4,
           4,
           4,
           4,
           4,
           4,
           4,
           4,
           4,
           4,
           4,
           4,
           4,
           4,
           4,
           4,
           4,
           4,
           4,
           4,
           4,
           4,
           4,
           4,
           4,
           4,
           4,
           4,
           4,
           4,
           4,
           4,
           4,
           4,
           4,
           4,
           4,
           4,
           4,
           4,
           4,
           4,
           4,
           4,
           4,
           4,
           4,
           4,
           4,
           4,
           4,
           4,
           4,
           4,
           4,
           4,
           4,
           4,
           4,
           4,
           4,
           4,
           4,
           4,
           4,
           4,
           4,
           4,
           4,
           4,
           4,
           4,
           4,
           4,
           4,
           4,
           4,
           4,
           4,
           4,
           4,
           4,
           4,
           4,
           4,
           4,
           4,
           4,
           4,
           4,
           4,
           4,
           4,
           4,
           4,
           4,
           4,
           4,
           4,
           4,
           4,
           4,
           4,
           4,
           4,
           4,
           4,
           4,
           5,
           5,
           5,
           5,
           5,
           5,
           5,
           5,
           5,
           5,
           5,
           5,
           5,
           5,
           5,
           5,
           5,
           5,
           5,
           5,
           5,
           5,
           5,
           5,
           5,
           5,
           5,
           5,
           5,
           5,
           5,
           5,
           5,
           5,
           5,
           5,
           5,
           5,
           5,
           5,
           5,
           5,
           5,
           5,
           5,
           5,
           5,
           5,
           5,
           5,
           5,
           5,
           5,
           5,
           5,
           5,
           5,
           5,
           5,
           5,
           5,
           5,
           5,
           5,
           5,
           5,
           5,
           5,
           5,
           5,
           5,
           5,
           5,
           5,
           5,
           5,
           5,
           5,
           5,
           5,
           5,
           5,
           5,
           5,
           5,
           5,
           5,
           5,
           5,
           5,
           5,
           5,
           5,
           5,
           5,
           5,
           5,
           5,
           5,
           5,
           5,
           5,
           5,
           5,
           5,
           5,
           5,
           5,
           5,
           5,
           5,
           5,
           5,
           5,
           5,
           5,
           5,
           5,
           5,
           5,
           5,
           5,
           5,
           5,
           5,
           5,
           5,
           5,
           5,
           5,
           5,
           5,
           5,
           5,
           5,
           5,
           5,
           5,
           5,
           5,
           5,
           5,
           5,
           5,
           5,
           5,
           5,
           5,
           5,
           5,
           5,
           5,
           5,
           5,
           5,
           5,
           5,
           5,
           5,
           5,
           5,
           5,
           5,
           5,
           5,
           5,
           5,
           5,
           5,
           5,
           5,
           5,
           5,
           5,
           5,
           5,
           5,
           5,
           5,
           5,
           5,
           5,
           5,
           5,
           5,
           5,
           5,
           5,
           5,
           5,
           5,
           5,
           5,
           5,
           5,
           5,
           5,
           5,
           5,
           5
          ],
          "coloraxis": "coloraxis",
          "symbol": "square"
         },
         "mode": "markers",
         "name": "english_word",
         "orientation": "v",
         "showlegend": true,
         "type": "scatter",
         "x": [
          21.48771056845257,
          -12.316439226465398,
          20.505441645547194,
          -11.074879590840261,
          21.157063230273813,
          -8.20714910453926,
          18.573658402881154,
          -9.509267209030552,
          17.380877555258394,
          -11.709207112926647,
          23.996411638197106,
          -6.676163979176385,
          18.331336679541966,
          -3.6207929071970377,
          20.581874883724943,
          -3.584272531217836,
          13.521459882827688,
          -11.195220166410333,
          16.454675577438103,
          -13.716452531939261,
          19.20048178419738,
          -10.596383053705486,
          15.986242965784935,
          -11.821776369826168,
          24.510871858662583,
          -6.047510969900829,
          21.799813773962324,
          -12.405273566056476,
          21.469586789266685,
          -11.668905507014674,
          21.356783771878355,
          -11.185340148400696,
          16.559754674278896,
          -13.078657844243898,
          19.41857403184158,
          -9.28621183975893,
          22.52924990799305,
          -12.979719212939926,
          20.973950916598874,
          -10.140240049306929,
          17.724198247735405,
          -7.933040629037075,
          21.30270876411113,
          -10.70195081347311,
          21.028027436746,
          -9.46820190400944,
          14.849048758255048,
          -11.900407607060746,
          20.649856213289713,
          -10.852579394936633,
          25.20474206368618,
          -12.64427950964826,
          21.387646962855545,
          -5.463750137852352,
          18.435305392960718,
          -11.91138425225397,
          18.650587137784203,
          -15.526794734203278,
          22.653074253815554,
          -10.702612758316077,
          13.181595763289218,
          -9.006460388285902,
          21.759827952087505,
          -10.822497258594655,
          17.184104348579055,
          -9.949170632558976,
          19.49687543922624,
          -15.605671787259908,
          15.99543025090303,
          -14.2185408085645,
          23.816207440666826,
          -10.338088667420411,
          17.64609651126182,
          -12.280738076606575,
          19.61165880550102,
          -11.667312308764727,
          20.84612618139635,
          -12.899246055626291,
          17.48828183468229,
          -9.496080738479838,
          21.660060200149267,
          -12.887313779555681,
          25.016406503487225,
          -9.626689218821815,
          28.775214429724503,
          1.256018365486546,
          17.482780651656093,
          -12.514266948521957,
          19.253067931111165,
          -13.088795346359671,
          18.50588630470694,
          -14.704038569667937,
          20.155821628180572,
          -9.681463949034853,
          26.666128164748955,
          57.401472248731785,
          17.079072186503787,
          -15.13491290198689,
          19.866004878367413,
          -4.834987435578323,
          20.61482149478529,
          -8.941459942695396,
          23.31156677444577,
          -12.499886596130377,
          18.4233675518227,
          -14.454972128045183,
          15.862582086301353,
          -13.592789239346589,
          19.208918702388797,
          -10.92574940810013,
          17.627798447216055,
          -13.025649938904873,
          17.890471549983737,
          -11.236735080633988,
          20.01802638338857,
          -6.8859630092510775,
          22.390400606590674,
          -10.16271556108765,
          28.331818230518984,
          -12.546560346156268,
          25.460425697724393,
          -10.553028727435285,
          20.338209729007396,
          -6.990978709154666,
          24.767726706583325,
          -12.083983277993845,
          26.959073135231648,
          -14.947040732305512,
          18.468753096791524,
          -15.086407815700706,
          14.611898387959153,
          -14.47224494561616,
          17.925227672291864,
          -14.74227769598073,
          23.99771995328171,
          -5.61703004700083,
          19.27951394901592,
          -14.56496507898587,
          22.118055020713268,
          -11.344038652739425,
          20.572532326719145,
          -9.515715113078299,
          17.314331981772867,
          -12.48090168337035,
          18.90520802113115,
          -7.9900442419846405,
          19.894646608938306,
          -9.183939962350149,
          18.374115776909004,
          -11.107085634376194,
          24.97496465583265,
          -12.33640763326933,
          25.14689562710312,
          -11.84362079944215,
          16.280816902259062,
          -13.496424628529663,
          20.832618892254775,
          -8.726340190873119,
          24.81643253807957,
          -14.806977779916366,
          18.951975567829205,
          -13.597826678598224,
          14.014933399851248,
          -13.41558241581288,
          16.117039866369954,
          -10.618267242029823,
          23.712683126620206,
          -14.974458243154025,
          16.366141017068006,
          -10.828459647972426,
          18.00599030400286,
          -14.875075777110792,
          19.732912157479653,
          -13.181225890426868,
          23.64172953820205,
          -9.254059173041565,
          20.53764123584049,
          -0.07690202980156982,
          17.97724591949134,
          -11.390181120718363,
          20.265015848353993,
          -10.004591614793028,
          22.70117922123177,
          -13.245624984844117,
          25.04447673015933,
          -4.8083152803486,
          20.537334831605584,
          -4.022664480388518,
          19.464415508869553,
          -7.170916044363858,
          14.906462564148862,
          -14.49641156912752,
          20.15437633901025,
          -14.290384789723547,
          17.39810075838143,
          -10.353024655334426,
          18.127682547696374,
          -13.959575010420533,
          37.235914735255285,
          6.489512095411051,
          35.12257108266901,
          14.094404888180597,
          23.58070033362652,
          5.809669911039472,
          39.02622097648683,
          -0.9168890739660562,
          27.741567880321085,
          -0.8617560806325641,
          25.610711930097057,
          8.942887081895472,
          35.35021302352393,
          -1.7284242889488104,
          26.452012887897844,
          11.704870402031846,
          45.01255676722341,
          9.298282676934317,
          27.759932230124413,
          -2.086472176232044,
          27.7304041000729,
          6.907753546097004,
          32.38226744277775,
          11.81034169733265,
          29.04306692374998,
          5.837880267893469,
          27.787197986376775,
          11.310431772949064,
          43.83115857584712,
          9.049202911358556,
          23.508999422894036,
          14.609010561315866,
          33.91177342893847,
          14.70904323542857,
          32.53511563580926,
          0.3809895097583533,
          26.479321747135877,
          15.813170124593292,
          25.860415423190688,
          2.675214127482786,
          28.088257134477477,
          10.255915099074523,
          28.49829679863521,
          7.846114856073987,
          31.310780867972476,
          7.0601327602803,
          31.376013183301822,
          12.262148528255878,
          25.604578095044246,
          16.538462409279504,
          26.715725527570726,
          0.4041165071579841,
          28.41820310864251,
          3.6225464071324294,
          32.190426255134184,
          -0.6698842057253716,
          30.839002061331765,
          1.4070451296483977,
          27.75003851746331,
          114.49182461407958,
          27.376952356665424,
          9.661688300397147,
          62.14087173179269,
          8.56387613125854,
          28.6107224130452,
          8.209309882156738,
          30.15906086663321,
          16.660232230045878,
          31.861118118115936,
          102.72224607935118,
          28.907492404484202,
          11.26945013763294,
          33.21200586695531,
          12.563686414018285,
          27.898071095784104,
          11.392019618337201,
          30.396694776068895,
          8.2118356811772,
          26.004716956841587,
          5.9461827080569245,
          32.28823328703753,
          10.04832407887731,
          33.2399313810928,
          2.1196377955770007,
          34.56502377235651,
          5.869991883570037,
          28.39539515998896,
          7.357568158377474,
          29.061578253719226,
          2.9074828797416905,
          39.253880395733844,
          9.665741261642493,
          23.25409487813806,
          5.258571925476814,
          30.22119767960455,
          4.294906229295119,
          38.59941786251605,
          10.219708695836289,
          25.160899030202685,
          -0.110415497661145,
          27.095797702363523,
          2.7521925314264775,
          27.296565243226155,
          0.35834962649768426,
          34.34451692387675,
          2.260820028976443,
          48.68730590175528,
          42.96690777517575,
          34.245877692645,
          11.014377821375744,
          29.78086448961153,
          6.762503838900291,
          19.265898967250145,
          -11.45101376860694,
          22.872744930742822,
          -0.723520888877998,
          14.093056110776132,
          -9.93767183629611,
          27.60883886653687,
          8.500208601529057,
          28.35424541532708,
          89.19524506964487,
          19.68761439544939,
          -5.479007255810301,
          37.607467392774566,
          10.89952495358535,
          35.461625593948305,
          7.554627774225432,
          27.570535999589318,
          -9.965265753853426,
          35.839345271886046,
          12.088578939736923,
          29.39381501176392,
          108.54692026323823,
          27.779319551104223,
          1.8802327605997424,
          27.233349844161047,
          5.752777901865461,
          28.117863175979807,
          -1.3961543096561402,
          22.26421334794871,
          -5.76424651956238,
          25.84520273463712,
          8.694668974835894,
          41.42653630330725,
          88.01721256659512,
          34.15724373415624,
          8.016399131197296,
          22.966232486769357,
          -0.6196400547516929,
          29.913860970070154,
          -2.784946501409095,
          20.885269634807027,
          -7.655943852836763,
          32.45948159737032,
          -1.7268923855989327,
          27.095797702363523,
          1.1696402193749706,
          29.073353068634482,
          11.958236309970927,
          25.73271623937827,
          2.9023306134098807,
          33.94043939567485,
          6.504973638501675,
          27.093853162754765,
          22.490449927029193,
          28.174802172537483,
          1.7903506758168004,
          19.173089027506766,
          -6.584365737633078,
          25.853264414617882,
          7.349445985613496,
          24.657897029849373,
          10.631885042701304,
          21.046001039633886,
          -11.930140269387199,
          65.23147800205597,
          104.03631116573686,
          25.773411555708577,
          -0.8039342342706852,
          30.396694776068895,
          15.263301292097943,
          21.55305756798692,
          3.3074525467053966,
          35.39249060876786,
          8.571012613516636,
          26.964573188335038,
          9.84386888025543,
          28.492085560722835,
          1.7641957616631192,
          22.59246177255135,
          -0.5775648515950327,
          31.217945950241912,
          1.0283595818069282,
          34.054529724833046,
          7.667566044179076,
          22.72948990803248,
          -5.285607787753433,
          23.631481571022878,
          12.883790745246051
         ],
         "xaxis": "x",
         "y": [
          25.958419324451715,
          13.092955001909496,
          25.819250745695758,
          10.569698994616894,
          25.23400497643758,
          6.979741099576621,
          23.364412536223014,
          6.318403996222372,
          24.4593863611857,
          10.198141218843256,
          26.838245674400767,
          7.865670425120226,
          23.524397412470424,
          2.7889762595790595,
          22.419890874424432,
          6.916504458495393,
          25.56315498644167,
          9.341553463657332,
          21.95830112847429,
          12.894237799271465,
          27.730895222102845,
          11.185930158131505,
          23.94325341996495,
          11.850682244892552,
          19.783127437692926,
          4.103010278894495,
          26.10823734645812,
          10.51228984025767,
          22.50159776354665,
          10.577378218027691,
          21.373686119912215,
          8.747306922922249,
          26.082812073345345,
          11.940925794615948,
          22.95830343866534,
          7.639085298345914,
          23.611382856358823,
          10.481952454801595,
          22.119003001205936,
          7.72037055878807,
          24.198757495099755,
          7.506236280105892,
          21.50207411366192,
          7.106843104893551,
          20.41856598661925,
          8.404672081520891,
          25.88322448193408,
          7.926643703652211,
          25.19995146117804,
          9.941485311821708,
          23.063172187570714,
          10.336193730984839,
          23.636246256711328,
          2.501540524450818,
          24.665713603031932,
          8.256794196888391,
          25.583015023335392,
          14.211253509335,
          23.350943959580842,
          11.132028074814556,
          24.869965627363193,
          7.086426505023381,
          21.463922612274548,
          8.33948485133938,
          25.14353658957578,
          8.67611836094125,
          21.674436866929508,
          14.249500512251903,
          23.606304176932685,
          14.84118855229221,
          25.509922095730406,
          10.532218794978522,
          21.276788860899455,
          11.142005484547521,
          22.732568328535155,
          9.038947382335502,
          23.99951188009835,
          12.25728041626353,
          25.740848010577285,
          6.926056389267804,
          22.057546828810864,
          10.583751813656775,
          22.18890841188555,
          6.264361937059677,
          29.035462801989848,
          0.6957016838595775,
          22.80036788869743,
          9.187036376245636,
          25.295124289044324,
          12.209177164385732,
          26.293061504167042,
          14.296057608946604,
          23.013412268523517,
          9.031753812986471,
          22.24442771534632,
          43.330587046147315,
          24.925284479913607,
          12.80251061634615,
          22.308615575103225,
          4.075562383863135,
          21.77301724230725,
          4.5996455406277805,
          24.372297721588048,
          7.88295917263394,
          23.758461812401862,
          14.001127613085686,
          25.080167021843806,
          14.921739217973577,
          25.24987594148935,
          8.825440599602448,
          24.939960626019364,
          11.573332603750858,
          25.394245461490396,
          10.046176829827912,
          27.76937431329371,
          6.208136027568978,
          23.06306338568259,
          8.296589817754896,
          26.522262513417363,
          12.337270955427218,
          21.097122941971012,
          9.259106654397184,
          22.196297635073552,
          5.51430577874241,
          27.112590686423502,
          9.926824609416242,
          23.43906156668875,
          13.608682842737,
          25.672223176305934,
          14.98684705632006,
          24.388821609231247,
          12.393976616465588,
          24.46828290485762,
          12.087259618971876,
          22.570330963462887,
          8.81201064316749,
          24.853421654117117,
          14.409189930365162,
          24.009072588967978,
          9.18727089384047,
          22.528295429081105,
          7.730123655953242,
          24.052605364179588,
          11.693842499894792,
          21.555250147433856,
          7.848652576243631,
          25.44223924174183,
          10.245270511225186,
          22.741311479469864,
          8.556127259617222,
          23.444388710542427,
          11.424940874405394,
          24.408184377945172,
          10.063913338013087,
          23.112795943800688,
          12.359424878051998,
          23.26933873954819,
          8.32563432308273,
          21.96583965075478,
          14.423810007245923,
          22.178533595673894,
          11.479442233218016,
          26.335402961102936,
          14.219699648835165,
          23.835856842039806,
          11.54591113742659,
          25.458479325929606,
          14.334774438005276,
          25.630460124927495,
          7.478480645485937,
          23.863897097498786,
          13.475930016730327,
          25.016705735848838,
          11.314880005941522,
          24.61306295829782,
          8.341607190583725,
          26.236014699328674,
          1.7642519267627916,
          24.201070404264637,
          9.184050490642175,
          24.32872057446643,
          8.779351171892403,
          23.090204746160047,
          9.878653137708364,
          25.794846560001677,
          5.002519932792867,
          22.305531033304703,
          -0.0934788007185473,
          26.676519581668252,
          3.987581235857527,
          24.936377477034895,
          13.605626155137967,
          25.494731103560735,
          12.489993957711858,
          26.59397520180158,
          7.827586760045178,
          21.490430284406834,
          13.060577853965944,
          24.41606502251791,
          -2.960417554309268,
          29.752214171863827,
          -19.998556814637652,
          16.08749706666797,
          -16.4561796001339,
          25.365669280969033,
          -3.627174400278111,
          16.448342523443355,
          -9.217957297946292,
          20.493074308033364,
          -15.377803751461718,
          27.235200917430653,
          -5.861262460524059,
          26.711935652171558,
          -17.614944026599336,
          27.210791281264896,
          -19.550454974416247,
          21.407921518523064,
          -3.7179715073110517,
          19.92282873343963,
          -17.075234188492704,
          20.417718639434927,
          -17.798165153272983,
          19.00056118241867,
          -12.729745831913021,
          15.875381523493914,
          -20.10762621612765,
          28.090442725537297,
          -10.827311902725025,
          16.476837628717007,
          -19.86465307342302,
          25.40667923638505,
          -21.409477326789972,
          28.989208292755478,
          -7.400573753265573,
          19.56410669569845,
          -15.03398647260304,
          21.409401209720333,
          -13.123608000295715,
          17.429360041458665,
          -17.70439838045293,
          17.210538105604186,
          -15.977939622857264,
          19.604116911262604,
          -18.003571964707458,
          19.718037444882274,
          -19.48898933463626,
          14.609774087379813,
          -21.042345878092345,
          19.517326345799287,
          -0.18418459841793805,
          17.253225223587364,
          -12.04876173004152,
          18.768573836014998,
          -7.841567510230406,
          19.81825116516802,
          -9.561247972272716,
          19.83182274517372,
          52.39640068406368,
          17.391500389536667,
          -15.080252302755454,
          35.90400751443701,
          -17.591311347840385,
          16.368067331670368,
          -13.809606020270397,
          19.972681342109393,
          -20.266048349876126,
          18.740117451363183,
          45.828236687422184,
          19.826245374248877,
          -18.265898309298112,
          20.637815534334802,
          -19.26529150137486,
          20.219859516807198,
          -20.20621670280852,
          14.915972607670444,
          -18.301590706623834,
          20.8147203674692,
          -12.878681048590673,
          16.206748775083142,
          -15.654588000099197,
          20.054771387958443,
          -9.402010128851721,
          27.357822105692403,
          -15.34244855021321,
          16.9627732480987,
          -12.92389810720249,
          19.500265453993986,
          -10.534449886314896,
          21.457406245145926,
          -17.051696656340155,
          18.184718458534853,
          -11.978890880633788,
          17.090440288738534,
          -12.550150749388544,
          27.777425760137696,
          -15.158026134114056,
          19.264563856588342,
          -7.010103251883618,
          16.98126008254047,
          -9.975231284928519,
          27.149230867103647,
          -6.2721300143383685,
          27.21434142845308,
          -7.089585713484963,
          29.02233248319705,
          -8.512297772442615,
          26.308440412463167,
          -17.82299122403663,
          19.561743460918187,
          -15.053354055429534,
          21.064135068843022,
          6.6960518566579905,
          20.595374616032746,
          -4.4399033420399,
          21.65818926332407,
          3.999770988518247,
          17.276369487193598,
          -18.117385453786117,
          21.405620696117204,
          32.24121685634779,
          17.755693081441336,
          0.9039028169717723,
          30.321209873691707,
          -18.722564262395785,
          21.174536823533934,
          -16.317336367245947,
          12.764484044414925,
          4.214657777137161,
          31.67387754548997,
          -18.22284097535556,
          16.935568214965674,
          47.816428999321566,
          22.687239897502455,
          -8.450890841227977,
          16.67684672219987,
          -16.145783602216444,
          19.21368398719206,
          -5.105296955668142,
          17.84633294644902,
          -1.1503131856385171,
          17.411856694945474,
          -13.738018976923936,
          25.857715323491696,
          32.819786987451394,
          20.926451021114357,
          -18.260278441445035,
          21.550597376399804,
          -6.14912208528465,
          21.573543700863056,
          -3.4005944995344684,
          18.04358993695834,
          -1.1383785141346106,
          21.649453831040184,
          -4.485042910865278,
          16.98126008254047,
          -7.370991804072748,
          16.763522300099993,
          -18.780619841482583,
          20.052726096950494,
          -7.810821373650805,
          22.069720146590758,
          -15.827482152227404,
          18.760791494474912,
          -6.399461872955797,
          18.90635376259886,
          -11.755526870450295,
          23.372071999394898,
          -1.582446262179969,
          18.713533218341638,
          -10.61516214988644,
          19.972772864390517,
          -15.2117234537254,
          15.298797731824193,
          5.1184061476947615,
          37.422696638977385,
          40.61749401172547,
          19.56641877672968,
          -4.85713269388007,
          14.915972607670444,
          -21.94837062481363,
          16.163329669347252,
          -13.305270954415985,
          21.18193725937452,
          -16.105621056104287,
          16.37220934676074,
          -16.59660340543309,
          18.897241826530557,
          -6.599962846938018,
          18.66637085078441,
          -7.327672980852356,
          19.259989677924217,
          -11.608483950113976,
          23.98130339624602,
          -14.911938427768956,
          21.678208212750224,
          -0.2610815892864725,
          16.078939963180122,
          -20.017740770171603
         ],
         "yaxis": "y"
        }
       ],
       "layout": {
        "coloraxis": {
         "colorbar": {
          "ticks": "outside",
          "title": {
           "text": "label"
          },
          "x": -0.2,
          "y": 1,
          "yanchor": "top"
         },
         "colorscale": [
          [
           0,
           "#0d0887"
          ],
          [
           0.1111111111111111,
           "#46039f"
          ],
          [
           0.2222222222222222,
           "#7201a8"
          ],
          [
           0.3333333333333333,
           "#9c179e"
          ],
          [
           0.4444444444444444,
           "#bd3786"
          ],
          [
           0.5555555555555556,
           "#d8576b"
          ],
          [
           0.6666666666666666,
           "#ed7953"
          ],
          [
           0.7777777777777778,
           "#fb9f3a"
          ],
          [
           0.8888888888888888,
           "#fdca26"
          ],
          [
           1,
           "#f0f921"
          ]
         ]
        },
        "height": 700,
        "legend": {
         "title": {
          "text": "data_type"
         },
         "tracegroupgap": 0
        },
        "margin": {
         "t": 60
        },
        "template": {
         "data": {
          "bar": [
           {
            "error_x": {
             "color": "#2a3f5f"
            },
            "error_y": {
             "color": "#2a3f5f"
            },
            "marker": {
             "line": {
              "color": "#E5ECF6",
              "width": 0.5
             },
             "pattern": {
              "fillmode": "overlay",
              "size": 10,
              "solidity": 0.2
             }
            },
            "type": "bar"
           }
          ],
          "barpolar": [
           {
            "marker": {
             "line": {
              "color": "#E5ECF6",
              "width": 0.5
             },
             "pattern": {
              "fillmode": "overlay",
              "size": 10,
              "solidity": 0.2
             }
            },
            "type": "barpolar"
           }
          ],
          "carpet": [
           {
            "aaxis": {
             "endlinecolor": "#2a3f5f",
             "gridcolor": "white",
             "linecolor": "white",
             "minorgridcolor": "white",
             "startlinecolor": "#2a3f5f"
            },
            "baxis": {
             "endlinecolor": "#2a3f5f",
             "gridcolor": "white",
             "linecolor": "white",
             "minorgridcolor": "white",
             "startlinecolor": "#2a3f5f"
            },
            "type": "carpet"
           }
          ],
          "choropleth": [
           {
            "colorbar": {
             "outlinewidth": 0,
             "ticks": ""
            },
            "type": "choropleth"
           }
          ],
          "contour": [
           {
            "colorbar": {
             "outlinewidth": 0,
             "ticks": ""
            },
            "colorscale": [
             [
              0,
              "#0d0887"
             ],
             [
              0.1111111111111111,
              "#46039f"
             ],
             [
              0.2222222222222222,
              "#7201a8"
             ],
             [
              0.3333333333333333,
              "#9c179e"
             ],
             [
              0.4444444444444444,
              "#bd3786"
             ],
             [
              0.5555555555555556,
              "#d8576b"
             ],
             [
              0.6666666666666666,
              "#ed7953"
             ],
             [
              0.7777777777777778,
              "#fb9f3a"
             ],
             [
              0.8888888888888888,
              "#fdca26"
             ],
             [
              1,
              "#f0f921"
             ]
            ],
            "type": "contour"
           }
          ],
          "contourcarpet": [
           {
            "colorbar": {
             "outlinewidth": 0,
             "ticks": ""
            },
            "type": "contourcarpet"
           }
          ],
          "heatmap": [
           {
            "colorbar": {
             "outlinewidth": 0,
             "ticks": ""
            },
            "colorscale": [
             [
              0,
              "#0d0887"
             ],
             [
              0.1111111111111111,
              "#46039f"
             ],
             [
              0.2222222222222222,
              "#7201a8"
             ],
             [
              0.3333333333333333,
              "#9c179e"
             ],
             [
              0.4444444444444444,
              "#bd3786"
             ],
             [
              0.5555555555555556,
              "#d8576b"
             ],
             [
              0.6666666666666666,
              "#ed7953"
             ],
             [
              0.7777777777777778,
              "#fb9f3a"
             ],
             [
              0.8888888888888888,
              "#fdca26"
             ],
             [
              1,
              "#f0f921"
             ]
            ],
            "type": "heatmap"
           }
          ],
          "heatmapgl": [
           {
            "colorbar": {
             "outlinewidth": 0,
             "ticks": ""
            },
            "colorscale": [
             [
              0,
              "#0d0887"
             ],
             [
              0.1111111111111111,
              "#46039f"
             ],
             [
              0.2222222222222222,
              "#7201a8"
             ],
             [
              0.3333333333333333,
              "#9c179e"
             ],
             [
              0.4444444444444444,
              "#bd3786"
             ],
             [
              0.5555555555555556,
              "#d8576b"
             ],
             [
              0.6666666666666666,
              "#ed7953"
             ],
             [
              0.7777777777777778,
              "#fb9f3a"
             ],
             [
              0.8888888888888888,
              "#fdca26"
             ],
             [
              1,
              "#f0f921"
             ]
            ],
            "type": "heatmapgl"
           }
          ],
          "histogram": [
           {
            "marker": {
             "pattern": {
              "fillmode": "overlay",
              "size": 10,
              "solidity": 0.2
             }
            },
            "type": "histogram"
           }
          ],
          "histogram2d": [
           {
            "colorbar": {
             "outlinewidth": 0,
             "ticks": ""
            },
            "colorscale": [
             [
              0,
              "#0d0887"
             ],
             [
              0.1111111111111111,
              "#46039f"
             ],
             [
              0.2222222222222222,
              "#7201a8"
             ],
             [
              0.3333333333333333,
              "#9c179e"
             ],
             [
              0.4444444444444444,
              "#bd3786"
             ],
             [
              0.5555555555555556,
              "#d8576b"
             ],
             [
              0.6666666666666666,
              "#ed7953"
             ],
             [
              0.7777777777777778,
              "#fb9f3a"
             ],
             [
              0.8888888888888888,
              "#fdca26"
             ],
             [
              1,
              "#f0f921"
             ]
            ],
            "type": "histogram2d"
           }
          ],
          "histogram2dcontour": [
           {
            "colorbar": {
             "outlinewidth": 0,
             "ticks": ""
            },
            "colorscale": [
             [
              0,
              "#0d0887"
             ],
             [
              0.1111111111111111,
              "#46039f"
             ],
             [
              0.2222222222222222,
              "#7201a8"
             ],
             [
              0.3333333333333333,
              "#9c179e"
             ],
             [
              0.4444444444444444,
              "#bd3786"
             ],
             [
              0.5555555555555556,
              "#d8576b"
             ],
             [
              0.6666666666666666,
              "#ed7953"
             ],
             [
              0.7777777777777778,
              "#fb9f3a"
             ],
             [
              0.8888888888888888,
              "#fdca26"
             ],
             [
              1,
              "#f0f921"
             ]
            ],
            "type": "histogram2dcontour"
           }
          ],
          "mesh3d": [
           {
            "colorbar": {
             "outlinewidth": 0,
             "ticks": ""
            },
            "type": "mesh3d"
           }
          ],
          "parcoords": [
           {
            "line": {
             "colorbar": {
              "outlinewidth": 0,
              "ticks": ""
             }
            },
            "type": "parcoords"
           }
          ],
          "pie": [
           {
            "automargin": true,
            "type": "pie"
           }
          ],
          "scatter": [
           {
            "fillpattern": {
             "fillmode": "overlay",
             "size": 10,
             "solidity": 0.2
            },
            "type": "scatter"
           }
          ],
          "scatter3d": [
           {
            "line": {
             "colorbar": {
              "outlinewidth": 0,
              "ticks": ""
             }
            },
            "marker": {
             "colorbar": {
              "outlinewidth": 0,
              "ticks": ""
             }
            },
            "type": "scatter3d"
           }
          ],
          "scattercarpet": [
           {
            "marker": {
             "colorbar": {
              "outlinewidth": 0,
              "ticks": ""
             }
            },
            "type": "scattercarpet"
           }
          ],
          "scattergeo": [
           {
            "marker": {
             "colorbar": {
              "outlinewidth": 0,
              "ticks": ""
             }
            },
            "type": "scattergeo"
           }
          ],
          "scattergl": [
           {
            "marker": {
             "colorbar": {
              "outlinewidth": 0,
              "ticks": ""
             }
            },
            "type": "scattergl"
           }
          ],
          "scattermapbox": [
           {
            "marker": {
             "colorbar": {
              "outlinewidth": 0,
              "ticks": ""
             }
            },
            "type": "scattermapbox"
           }
          ],
          "scatterpolar": [
           {
            "marker": {
             "colorbar": {
              "outlinewidth": 0,
              "ticks": ""
             }
            },
            "type": "scatterpolar"
           }
          ],
          "scatterpolargl": [
           {
            "marker": {
             "colorbar": {
              "outlinewidth": 0,
              "ticks": ""
             }
            },
            "type": "scatterpolargl"
           }
          ],
          "scatterternary": [
           {
            "marker": {
             "colorbar": {
              "outlinewidth": 0,
              "ticks": ""
             }
            },
            "type": "scatterternary"
           }
          ],
          "surface": [
           {
            "colorbar": {
             "outlinewidth": 0,
             "ticks": ""
            },
            "colorscale": [
             [
              0,
              "#0d0887"
             ],
             [
              0.1111111111111111,
              "#46039f"
             ],
             [
              0.2222222222222222,
              "#7201a8"
             ],
             [
              0.3333333333333333,
              "#9c179e"
             ],
             [
              0.4444444444444444,
              "#bd3786"
             ],
             [
              0.5555555555555556,
              "#d8576b"
             ],
             [
              0.6666666666666666,
              "#ed7953"
             ],
             [
              0.7777777777777778,
              "#fb9f3a"
             ],
             [
              0.8888888888888888,
              "#fdca26"
             ],
             [
              1,
              "#f0f921"
             ]
            ],
            "type": "surface"
           }
          ],
          "table": [
           {
            "cells": {
             "fill": {
              "color": "#EBF0F8"
             },
             "line": {
              "color": "white"
             }
            },
            "header": {
             "fill": {
              "color": "#C8D4E3"
             },
             "line": {
              "color": "white"
             }
            },
            "type": "table"
           }
          ]
         },
         "layout": {
          "annotationdefaults": {
           "arrowcolor": "#2a3f5f",
           "arrowhead": 0,
           "arrowwidth": 1
          },
          "autotypenumbers": "strict",
          "coloraxis": {
           "colorbar": {
            "outlinewidth": 0,
            "ticks": ""
           }
          },
          "colorscale": {
           "diverging": [
            [
             0,
             "#8e0152"
            ],
            [
             0.1,
             "#c51b7d"
            ],
            [
             0.2,
             "#de77ae"
            ],
            [
             0.3,
             "#f1b6da"
            ],
            [
             0.4,
             "#fde0ef"
            ],
            [
             0.5,
             "#f7f7f7"
            ],
            [
             0.6,
             "#e6f5d0"
            ],
            [
             0.7,
             "#b8e186"
            ],
            [
             0.8,
             "#7fbc41"
            ],
            [
             0.9,
             "#4d9221"
            ],
            [
             1,
             "#276419"
            ]
           ],
           "sequential": [
            [
             0,
             "#0d0887"
            ],
            [
             0.1111111111111111,
             "#46039f"
            ],
            [
             0.2222222222222222,
             "#7201a8"
            ],
            [
             0.3333333333333333,
             "#9c179e"
            ],
            [
             0.4444444444444444,
             "#bd3786"
            ],
            [
             0.5555555555555556,
             "#d8576b"
            ],
            [
             0.6666666666666666,
             "#ed7953"
            ],
            [
             0.7777777777777778,
             "#fb9f3a"
            ],
            [
             0.8888888888888888,
             "#fdca26"
            ],
            [
             1,
             "#f0f921"
            ]
           ],
           "sequentialminus": [
            [
             0,
             "#0d0887"
            ],
            [
             0.1111111111111111,
             "#46039f"
            ],
            [
             0.2222222222222222,
             "#7201a8"
            ],
            [
             0.3333333333333333,
             "#9c179e"
            ],
            [
             0.4444444444444444,
             "#bd3786"
            ],
            [
             0.5555555555555556,
             "#d8576b"
            ],
            [
             0.6666666666666666,
             "#ed7953"
            ],
            [
             0.7777777777777778,
             "#fb9f3a"
            ],
            [
             0.8888888888888888,
             "#fdca26"
            ],
            [
             1,
             "#f0f921"
            ]
           ]
          },
          "colorway": [
           "#636efa",
           "#EF553B",
           "#00cc96",
           "#ab63fa",
           "#FFA15A",
           "#19d3f3",
           "#FF6692",
           "#B6E880",
           "#FF97FF",
           "#FECB52"
          ],
          "font": {
           "color": "#2a3f5f"
          },
          "geo": {
           "bgcolor": "white",
           "lakecolor": "white",
           "landcolor": "#E5ECF6",
           "showlakes": true,
           "showland": true,
           "subunitcolor": "white"
          },
          "hoverlabel": {
           "align": "left"
          },
          "hovermode": "closest",
          "mapbox": {
           "style": "light"
          },
          "paper_bgcolor": "white",
          "plot_bgcolor": "#E5ECF6",
          "polar": {
           "angularaxis": {
            "gridcolor": "white",
            "linecolor": "white",
            "ticks": ""
           },
           "bgcolor": "#E5ECF6",
           "radialaxis": {
            "gridcolor": "white",
            "linecolor": "white",
            "ticks": ""
           }
          },
          "scene": {
           "xaxis": {
            "backgroundcolor": "#E5ECF6",
            "gridcolor": "white",
            "gridwidth": 2,
            "linecolor": "white",
            "showbackground": true,
            "ticks": "",
            "zerolinecolor": "white"
           },
           "yaxis": {
            "backgroundcolor": "#E5ECF6",
            "gridcolor": "white",
            "gridwidth": 2,
            "linecolor": "white",
            "showbackground": true,
            "ticks": "",
            "zerolinecolor": "white"
           },
           "zaxis": {
            "backgroundcolor": "#E5ECF6",
            "gridcolor": "white",
            "gridwidth": 2,
            "linecolor": "white",
            "showbackground": true,
            "ticks": "",
            "zerolinecolor": "white"
           }
          },
          "shapedefaults": {
           "line": {
            "color": "#2a3f5f"
           }
          },
          "ternary": {
           "aaxis": {
            "gridcolor": "white",
            "linecolor": "white",
            "ticks": ""
           },
           "baxis": {
            "gridcolor": "white",
            "linecolor": "white",
            "ticks": ""
           },
           "bgcolor": "#E5ECF6",
           "caxis": {
            "gridcolor": "white",
            "linecolor": "white",
            "ticks": ""
           }
          },
          "title": {
           "x": 0.05
          },
          "xaxis": {
           "automargin": true,
           "gridcolor": "white",
           "linecolor": "white",
           "ticks": "",
           "title": {
            "standoff": 15
           },
           "zerolinecolor": "white",
           "zerolinewidth": 2
          },
          "yaxis": {
           "automargin": true,
           "gridcolor": "white",
           "linecolor": "white",
           "ticks": "",
           "title": {
            "standoff": 15
           },
           "zerolinecolor": "white",
           "zerolinewidth": 2
          }
         }
        },
        "width": 1000,
        "xaxis": {
         "anchor": "y",
         "domain": [
          0,
          1
         ],
         "title": {
          "text": "pca1"
         }
        },
        "yaxis": {
         "anchor": "x",
         "domain": [
          0,
          1
         ],
         "title": {
          "text": "pca2"
         }
        }
       }
      }
     },
     "metadata": {},
     "output_type": "display_data"
    }
   ],
   "source": [
    "\n",
    "# df = df[df[\"operation type\"] == 2]\n",
    "df = df[df[\"layer_id\"] == 16]\n",
    "# print(df.head()[\"label\"])\n",
    "\n",
    "scatter = px.scatter(df, x='pca1', y='pca2', \n",
    "                     color=\"label\",\n",
    "                    #  size='output_length', \n",
    "                     symbol= \"data_type\",\n",
    "                     hover_data=[\"input/output\", \"layer_id\", \"output_length\", \"switch\"])\n",
    "\n",
    "scatter.update_layout(\n",
    "    # autosize=True,\n",
    "    width=1000,\n",
    "    height=700,)\n",
    "\n",
    "scatter.update_layout(coloraxis_colorbar=dict(yanchor=\"top\", y=1, x=-0.2,\n",
    "                                          ticks=\"outside\"))\n",
    "\n",
    "scatter.show()"
   ]
  },
  {
   "cell_type": "code",
   "execution_count": null,
   "metadata": {},
   "outputs": [],
   "source": []
  }
 ],
 "metadata": {
  "kernelspec": {
   "display_name": "base",
   "language": "python",
   "name": "python3"
  },
  "language_info": {
   "codemirror_mode": {
    "name": "ipython",
    "version": 3
   },
   "file_extension": ".py",
   "mimetype": "text/x-python",
   "name": "python",
   "nbconvert_exporter": "python",
   "pygments_lexer": "ipython3",
   "version": "3.10.14"
  }
 },
 "nbformat": 4,
 "nbformat_minor": 2
}
