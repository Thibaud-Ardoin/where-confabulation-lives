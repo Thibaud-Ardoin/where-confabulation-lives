{
 "cells": [
  {
   "cell_type": "code",
   "execution_count": 25,
   "metadata": {},
   "outputs": [],
   "source": [
    "import numpy as np\n",
    "from datetime import datetime\n",
    "import pickle"
   ]
  },
  {
   "cell_type": "markdown",
   "metadata": {},
   "source": [
    "# Format simple word list"
   ]
  },
  {
   "cell_type": "code",
   "execution_count": 29,
   "metadata": {},
   "outputs": [],
   "source": [
    "def date2array(s):\n",
    "    # Define the format of the date string\n",
    "    date_format = \"%B %d, %Y.\"\n",
    "    # Parse the date string into a datetime object\n",
    "    parsed_date = datetime.strptime(s, date_format)\n",
    "    # Format the date into a different string format\n",
    "    formatted_date = [parsed_date.year, parsed_date.month, parsed_date.day]\n",
    "    return formatted_date"
   ]
  },
  {
   "cell_type": "code",
   "execution_count": 32,
   "metadata": {},
   "outputs": [
    {
     "name": "stdout",
     "output_type": "stream",
     "text": [
      "[['Leonardo da Vinci', [1452, 4, 15]], ['Napoleon Bonaparte', [1769, 8, 15]], ['Mahatma Gandhi', [1869, 10, 2]], ['Albert Einstein', [1879, 3, 14]], ['Marilyn Monroe', [1926, 6, 1]], ['Queen Elizabeth I', [1533, 9, 7]], ['Nelson Mandela', [1918, 7, 18]], ['Mother Teresa', [1910, 8, 26]], ['Wolfgang Amadeus Mozart', [1756, 1, 27]], ['Michelangelo', [1475, 3, 6]], ['Karl Marx', [1818, 5, 5]], ['Martin Luther King Jr.', [1929, 1, 15]], ['Alexander Hamilton', [1755, 1, 11]], ['Thomas Edison', [1847, 2, 11]], ['Charles Darwin', [1809, 2, 12]], ['Marie Curie', [1867, 11, 7]], ['Vincent van Gogh', [1853, 3, 30]], ['Galileo Galilei', [1564, 2, 15]], ['Benjamin Franklin', [1706, 1, 17]], ['Queen Victoria', [1819, 5, 24]], ['Pablo Picasso', [1881, 10, 25]], ['Winston Churchill', [1874, 11, 30]], ['Adolf Hitler', [1889, 4, 20]], ['Catherine the Great', [1729, 5, 2]], ['Joan of Arc', [1412, 1, 6]], ['George Washington', [1732, 2, 22]], ['John F. Kennedy', [1917, 5, 29]], ['Frida Kahlo', [1907, 7, 6]], ['Johann Sebastian Bach', [1685, 3, 31]], ['Napoleon III', [1808, 4, 20]], ['Thomas Jefferson', [1743, 4, 13]], ['Isaac Newton', [1642, 12, 25]], ['Elizabeth Taylor', [1932, 2, 27]], ['Michael Jordan', [1963, 2, 17]], ['Neil Armstrong', [1930, 8, 5]], ['Bruce Lee', [1940, 11, 27]], ['Tupac Shakur', [1971, 6, 16]], ['Elvis Presley', [1935, 1, 8]], ['Walt Disney', [1901, 12, 5]], ['Cristiano Ronaldo', [1985, 2, 5]], ['Abraham Lincoln', [1809, 2, 12]], ['Mao Zedong', [1893, 12, 26]], ['Anne Frank', [1929, 6, 12]], ['Stephen Hawking', [1942, 1, 8]], ['Fidel Castro', [1926, 8, 13]], ['James Cook', [1728, 10, 27]], ['Henry Ford', [1863, 7, 30]], ['Salvador Dalí', [1904, 5, 11]], ['Queen Isabella I of Castile', [1451, 4, 22]], ['Pope Francis', [1936, 12, 17]], ['Stephen King', [1947, 9, 21]], ['Amelia Earhart', [1897, 7, 24]], ['Emily Dickinson', [1830, 12, 10]], ['Alfred Nobel', [1833, 10, 21]], ['Gustave Eiffel', [1832, 12, 15]], ['Al Capone', [1899, 1, 17]], ['Jackie Robinson', [1919, 1, 31]], ['Margaret Thatcher', [1925, 10, 13]], ['Vladimir Lenin', [1870, 4, 22]], ['Babe Ruth', [1895, 2, 6]], ['Rosa Parks', [1913, 2, 4]], ['Che Guevara', [1928, 6, 14]], ['Sigmund Freud', [1856, 5, 6]], ['Christopher Columbus', [1451, 10, 31]], ['Mark Twain', [1835, 11, 30]], ['Alexander Graham Bell', [1847, 3, 3]], ['Paul McCartney', [1942, 6, 18]], ['Nikola Tesla', [1856, 7, 10]], ['Bruce Springsteen', [1949, 9, 23]], ['Emily Brontë', [1818, 7, 30]], ['Teresa of Ávila', [1515, 3, 28]], ['John Lennon', [1940, 10, 9]], ['Charlie Chaplin', [1889, 4, 16]], ['Kurt Cobain', [1967, 2, 20]], ['Oscar Wilde', [1854, 10, 16]], ['Richard Nixon', [1913, 1, 9]], ['Muhammad Ali', [1942, 1, 17]], ['Helen Keller', [1880, 6, 27]], ['Steve Jobs', [1955, 2, 24]], ['Oprah Winfrey', [1954, 1, 29]], ['Barack Obama', [1961, 8, 4]], ['Xi Jinping', [1953, 6, 15]], ['Kim Jong Un', [1983, 1, 8]], ['Narendra Modi', [1950, 9, 17]], ['Aung San Suu Kyi', [1945, 6, 19]]]\n"
     ]
    }
   ],
   "source": [
    "word_list = []\n",
    "with open(\"/srv/public/Thibaud/datasets/LLMs/MRI/celebrities\", \"r\") as f:\n",
    "    for w in f:\n",
    "        if len(w)>1:\n",
    "            w = w.split(\"\\n\")[0]\n",
    "            w = w.split(\" - \")\n",
    "            # Sanity check\n",
    "            if len(w) != 2:\n",
    "                print(w)\n",
    "                raise \"Not good formating--.dsdgs\"\n",
    "            else :\n",
    "                word_list.append([w[0], date2array(w[1])])\n",
    "\n",
    "print(word_list)"
   ]
  },
  {
   "cell_type": "code",
   "execution_count": 33,
   "metadata": {},
   "outputs": [
    {
     "name": "stdout",
     "output_type": "stream",
     "text": [
      "85\n"
     ]
    },
    {
     "ename": "TypeError",
     "evalue": "unhashable type: 'list'",
     "output_type": "error",
     "traceback": [
      "\u001b[0;31m---------------------------------------------------------------------------\u001b[0m",
      "\u001b[0;31mTypeError\u001b[0m                                 Traceback (most recent call last)",
      "Cell \u001b[0;32mIn[33], line 3\u001b[0m\n\u001b[1;32m      1\u001b[0m to_del \u001b[38;5;241m=\u001b[39m []\n\u001b[1;32m      2\u001b[0m \u001b[38;5;28mprint\u001b[39m(\u001b[38;5;28mlen\u001b[39m(word_list))\n\u001b[0;32m----> 3\u001b[0m \u001b[38;5;28mprint\u001b[39m(\u001b[38;5;28mlen\u001b[39m(\u001b[38;5;28;43mset\u001b[39;49m\u001b[43m(\u001b[49m\u001b[43mword_list\u001b[49m\u001b[43m)\u001b[49m))\n\u001b[1;32m      4\u001b[0m \u001b[38;5;28;01mfor\u001b[39;00m i, w \u001b[38;5;129;01min\u001b[39;00m \u001b[38;5;28menumerate\u001b[39m(word_list):\n\u001b[1;32m      5\u001b[0m     \u001b[38;5;28;01mfor\u001b[39;00m ww \u001b[38;5;129;01min\u001b[39;00m word_list[i\u001b[38;5;241m+\u001b[39m\u001b[38;5;241m1\u001b[39m:]:\n",
      "\u001b[0;31mTypeError\u001b[0m: unhashable type: 'list'"
     ]
    }
   ],
   "source": [
    "to_del = []\n",
    "print(len(word_list))\n",
    "print(len(set(word_list)))\n",
    "for i, w in enumerate(word_list):\n",
    "    for ww in word_list[i+1:]:\n",
    "        if w == ww :\n",
    "            to_del.append(i)\n",
    "            print(w, ww)\n",
    "for i in range(len(to_del), 0, -1):\n",
    "    print(to_del[i-1])\n",
    "    del word_list[to_del[i-1]]\n",
    "print(len(word_list))\n"
   ]
  },
  {
   "cell_type": "code",
   "execution_count": 34,
   "metadata": {},
   "outputs": [],
   "source": [
    "with open(\"/srv/public/Thibaud/datasets/LLMs/MRI/celebrities.pkl\", \"wb\") as fp:\n",
    "    pickle.dump(word_list, fp)\n",
    "    fp.close()"
   ]
  },
  {
   "cell_type": "code",
   "execution_count": 35,
   "metadata": {},
   "outputs": [
    {
     "name": "stdout",
     "output_type": "stream",
     "text": [
      "['Leonardo da Vinci', [1452, 4, 15]]\n",
      "['Napoleon Bonaparte', [1769, 8, 15]]\n",
      "['Mahatma Gandhi', [1869, 10, 2]]\n",
      "['Albert Einstein', [1879, 3, 14]]\n",
      "['Marilyn Monroe', [1926, 6, 1]]\n",
      "['Queen Elizabeth I', [1533, 9, 7]]\n",
      "['Nelson Mandela', [1918, 7, 18]]\n",
      "['Mother Teresa', [1910, 8, 26]]\n",
      "['Wolfgang Amadeus Mozart', [1756, 1, 27]]\n",
      "['Michelangelo', [1475, 3, 6]]\n",
      "['Karl Marx', [1818, 5, 5]]\n",
      "['Martin Luther King Jr.', [1929, 1, 15]]\n",
      "['Alexander Hamilton', [1755, 1, 11]]\n",
      "['Thomas Edison', [1847, 2, 11]]\n",
      "['Charles Darwin', [1809, 2, 12]]\n",
      "['Marie Curie', [1867, 11, 7]]\n",
      "['Vincent van Gogh', [1853, 3, 30]]\n",
      "['Galileo Galilei', [1564, 2, 15]]\n",
      "['Benjamin Franklin', [1706, 1, 17]]\n",
      "['Queen Victoria', [1819, 5, 24]]\n",
      "['Pablo Picasso', [1881, 10, 25]]\n",
      "['Winston Churchill', [1874, 11, 30]]\n",
      "['Adolf Hitler', [1889, 4, 20]]\n",
      "['Catherine the Great', [1729, 5, 2]]\n",
      "['Joan of Arc', [1412, 1, 6]]\n",
      "['George Washington', [1732, 2, 22]]\n",
      "['John F. Kennedy', [1917, 5, 29]]\n",
      "['Frida Kahlo', [1907, 7, 6]]\n",
      "['Johann Sebastian Bach', [1685, 3, 31]]\n",
      "['Napoleon III', [1808, 4, 20]]\n",
      "['Thomas Jefferson', [1743, 4, 13]]\n",
      "['Isaac Newton', [1642, 12, 25]]\n",
      "['Elizabeth Taylor', [1932, 2, 27]]\n",
      "['Michael Jordan', [1963, 2, 17]]\n",
      "['Neil Armstrong', [1930, 8, 5]]\n",
      "['Bruce Lee', [1940, 11, 27]]\n",
      "['Tupac Shakur', [1971, 6, 16]]\n",
      "['Elvis Presley', [1935, 1, 8]]\n",
      "['Walt Disney', [1901, 12, 5]]\n",
      "['Cristiano Ronaldo', [1985, 2, 5]]\n",
      "['Abraham Lincoln', [1809, 2, 12]]\n",
      "['Mao Zedong', [1893, 12, 26]]\n",
      "['Anne Frank', [1929, 6, 12]]\n",
      "['Stephen Hawking', [1942, 1, 8]]\n",
      "['Fidel Castro', [1926, 8, 13]]\n",
      "['James Cook', [1728, 10, 27]]\n",
      "['Henry Ford', [1863, 7, 30]]\n",
      "['Salvador Dalí', [1904, 5, 11]]\n",
      "['Queen Isabella I of Castile', [1451, 4, 22]]\n",
      "['Pope Francis', [1936, 12, 17]]\n",
      "['Stephen King', [1947, 9, 21]]\n",
      "['Amelia Earhart', [1897, 7, 24]]\n",
      "['Emily Dickinson', [1830, 12, 10]]\n",
      "['Alfred Nobel', [1833, 10, 21]]\n",
      "['Gustave Eiffel', [1832, 12, 15]]\n",
      "['Al Capone', [1899, 1, 17]]\n",
      "['Jackie Robinson', [1919, 1, 31]]\n",
      "['Margaret Thatcher', [1925, 10, 13]]\n",
      "['Vladimir Lenin', [1870, 4, 22]]\n",
      "['Babe Ruth', [1895, 2, 6]]\n",
      "['Rosa Parks', [1913, 2, 4]]\n",
      "['Che Guevara', [1928, 6, 14]]\n",
      "['Sigmund Freud', [1856, 5, 6]]\n",
      "['Christopher Columbus', [1451, 10, 31]]\n",
      "['Mark Twain', [1835, 11, 30]]\n",
      "['Alexander Graham Bell', [1847, 3, 3]]\n",
      "['Paul McCartney', [1942, 6, 18]]\n",
      "['Nikola Tesla', [1856, 7, 10]]\n",
      "['Bruce Springsteen', [1949, 9, 23]]\n",
      "['Emily Brontë', [1818, 7, 30]]\n",
      "['Teresa of Ávila', [1515, 3, 28]]\n",
      "['John Lennon', [1940, 10, 9]]\n",
      "['Charlie Chaplin', [1889, 4, 16]]\n",
      "['Kurt Cobain', [1967, 2, 20]]\n",
      "['Oscar Wilde', [1854, 10, 16]]\n",
      "['Richard Nixon', [1913, 1, 9]]\n",
      "['Muhammad Ali', [1942, 1, 17]]\n",
      "['Helen Keller', [1880, 6, 27]]\n",
      "['Steve Jobs', [1955, 2, 24]]\n",
      "['Oprah Winfrey', [1954, 1, 29]]\n",
      "['Barack Obama', [1961, 8, 4]]\n",
      "['Xi Jinping', [1953, 6, 15]]\n",
      "['Kim Jong Un', [1983, 1, 8]]\n",
      "['Narendra Modi', [1950, 9, 17]]\n",
      "['Aung San Suu Kyi', [1945, 6, 19]]\n"
     ]
    }
   ],
   "source": [
    "with open(\"/srv/public/Thibaud/datasets/LLMs/MRI/celebrities.pkl\", \"rb\") as fp:\n",
    "    data = pickle.load(fp)\n",
    "    for l in data:\n",
    "        print(l)"
   ]
  },
  {
   "cell_type": "code",
   "execution_count": null,
   "metadata": {},
   "outputs": [],
   "source": []
  }
 ],
 "metadata": {
  "kernelspec": {
   "display_name": "base",
   "language": "python",
   "name": "python3"
  },
  "language_info": {
   "codemirror_mode": {
    "name": "ipython",
    "version": 3
   },
   "file_extension": ".py",
   "mimetype": "text/x-python",
   "name": "python",
   "nbconvert_exporter": "python",
   "pygments_lexer": "ipython3",
   "version": "3.1.-1"
  }
 },
 "nbformat": 4,
 "nbformat_minor": 2
}
