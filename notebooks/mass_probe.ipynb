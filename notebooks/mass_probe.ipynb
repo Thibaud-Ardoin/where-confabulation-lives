{
 "cells": [
  {
   "cell_type": "code",
   "execution_count": 1,
   "metadata": {},
   "outputs": [],
   "source": [
    "import numpy as np\n",
    "import matplotlib.pyplot as plt\n",
    "import scipy\n",
    "from math import sin, cos, radians\n",
    "from sklearn import linear_model\n",
    "from sklearn import svm \n",
    "import torch as t\n",
    "\n"
   ]
  },
  {
   "cell_type": "code",
   "execution_count": 2,
   "metadata": {},
   "outputs": [],
   "source": [
    "def rotate_point(point, angle, center_point=(0, 0)):\n",
    "    \"\"\"Rotates a point around center_point(origin by default)\n",
    "    Angle is in degrees.\n",
    "    Rotation is counter-clockwise\n",
    "    \"\"\"\n",
    "    angle_rad = radians(angle % 360)\n",
    "    # Shift the point so that center_point becomes the origin\n",
    "    new_point = (point[0] - center_point[0], point[1] - center_point[1])\n",
    "    new_point = (new_point[0] * cos(angle_rad) - new_point[1] * sin(angle_rad),\n",
    "                 new_point[0] * sin(angle_rad) + new_point[1] * cos(angle_rad))\n",
    "    # Reverse the shifting we have done\n",
    "    new_point = (new_point[0] + center_point[0], new_point[1] + center_point[1])\n",
    "    return np.array(new_point)"
   ]
  },
  {
   "cell_type": "code",
   "execution_count": 49,
   "metadata": {},
   "outputs": [],
   "source": [
    "c1 = (1, 0)\n",
    "c2 = (-1, 0)\n",
    "rot = 10\n",
    "n1 = np.random.normal(c1, (0.2, 1), size=(500, 2))\n",
    "n2 = np.random.normal(c2, (0.2, 1), size=(500, 2))\n",
    "\n",
    "n1 = np.array([rotate_point(n, rot, center_point=c1) for n in n1])\n",
    "n2 = np.array([rotate_point(n, rot, center_point=c2) for n in n2])\n",
    "\n",
    "y = [0]*len(n1) + [1]*len(n2)"
   ]
  },
  {
   "cell_type": "code",
   "execution_count": 50,
   "metadata": {},
   "outputs": [
    {
     "data": {
      "image/png": "[encoded data removed]",
      "text/plain": [
       "<Figure size 640x480 with 1 Axes>"
      ]
     },
     "metadata": {},
     "output_type": "display_data"
    }
   ],
   "source": [
    "model = svm.SVC(kernel='linear') \n",
    "x = np.concatenate((n1, n2))\n",
    "model.fit(x, y)\n",
    "\n",
    "w = model.coef_[0] \n",
    "b = model.intercept_[0]  \n",
    "absc = np.linspace(-1, 1) \n",
    "ordo = -(w[0] / w[1]) * absc - b / w[1] \n",
    "plt.plot(absc, ordo, 'k--') \n",
    "\n",
    "plt.scatter(n1[:, 0], n1[:, 1], c=\"red\")\n",
    "plt.scatter(n2[:, 0], n2[:, 1], c=\"green\")\n",
    "\n",
    "plt.show()\n"
   ]
  },
  {
   "cell_type": "code",
   "execution_count": 5,
   "metadata": {},
   "outputs": [],
   "source": [
    "class MMProbe(t.nn.Module):\n",
    "    def __init__(self, direction, covariance=None, inv=None, atol=1e-3):\n",
    "        super().__init__()\n",
    "        self.direction = t.nn.Parameter(direction, requires_grad=False)\n",
    "        if inv is None:\n",
    "            self.inv = t.nn.Parameter(t.linalg.pinv(covariance, hermitian=True, atol=atol), requires_grad=False)\n",
    "        else:\n",
    "            self.inv = t.nn.Parameter(inv, requires_grad=False)\n",
    "\n",
    "    def forward(self, x, iid=False):\n",
    "        if iid:\n",
    "            return t.nn.Sigmoid()(x @ self.inv @ self.direction)\n",
    "        else:\n",
    "            return t.nn.Sigmoid()(x @ self.direction)\n",
    "\n",
    "    def pred(self, x, iid=False):\n",
    "        return self(x, iid=iid).round()\n",
    "\n",
    "    def from_data(acts, labels, atol=1e-3, device='cpu'):\n",
    "        acts, labels\n",
    "        pos_acts, neg_acts = acts[labels==1], acts[labels==0]\n",
    "        pos_mean, neg_mean = pos_acts.mean(0), neg_acts.mean(0)\n",
    "        direction = pos_mean - neg_mean\n",
    "\n",
    "        centered_data = t.cat([pos_acts - pos_mean, neg_acts - neg_mean], 0)\n",
    "        covariance = centered_data.t() @ centered_data / acts.shape[0]\n",
    "        \n",
    "        probe = MMProbe(direction, covariance=covariance).to(device)\n",
    "\n",
    "        return probe\n",
    "\n",
    "    def fit(self, x, y):\n",
    "        return self.from_data(t.tensor(x), t.tensor(y))\n",
    "        \n",
    "    def predict(self, x):\n",
    "        return self.pred(t.tensor(np.array(x)).double())\n"
   ]
  },
  {
   "cell_type": "code",
   "execution_count": 18,
   "metadata": {},
   "outputs": [
    {
     "data": {
      "text/plain": [
       "tensor(0., dtype=torch.float64)"
      ]
     },
     "execution_count": 18,
     "metadata": {},
     "output_type": "execute_result"
    }
   ],
   "source": [
    "p = MMProbe.from_data(t.tensor(x), t.tensor(y))\n",
    "x_test = t.tensor(np.array([1, 0])).double()\n",
    "p.pred(x_test)\n"
   ]
  },
  {
   "cell_type": "code",
   "execution_count": 7,
   "metadata": {},
   "outputs": [
    {
     "name": "stdout",
     "output_type": "stream",
     "text": [
      "[0.96755335 1.28324391]\n",
      "-0.9675533486335687\n",
      "0.1995406623564801\n"
     ]
    }
   ],
   "source": [
    "# mass mean probe\n",
    "theta = np.mean(n1, axis=0) - np.mean(n2, axis=0)\n",
    "\n",
    "print(theta)\n",
    "x_test = np.array([-1, 0])\n",
    "print(np.dot(theta.T, x_test))\n",
    "px = scipy.stats.logistic.pdf(np.dot(theta.T, x_test))\n",
    "\n",
    "print(px)"
   ]
  },
  {
   "cell_type": "code",
   "execution_count": null,
   "metadata": {},
   "outputs": [],
   "source": []
  }
 ],
 "metadata": {
  "kernelspec": {
   "display_name": "Python 3",
   "language": "python",
   "name": "python3"
  },
  "language_info": {
   "codemirror_mode": {
    "name": "ipython",
    "version": 3
   },
   "file_extension": ".py",
   "mimetype": "text/x-python",
   "name": "python",
   "nbconvert_exporter": "python",
   "pygments_lexer": "ipython3",
   "version": "3.10.14"
  }
 },
 "nbformat": 4,
 "nbformat_minor": 2
}
