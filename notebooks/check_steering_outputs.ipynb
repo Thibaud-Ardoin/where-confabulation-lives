{
 "cells": [
  {
   "cell_type": "markdown",
   "metadata": {},
   "source": [
    "## Symple script to check LLM steered outputs\n",
    "\n",
    "This script prints out the outputs from the LLM _Llama3-8B-Instruct_ under the influence of the _confabulation_ vector extracted from the contrastive dataset of **Celebrity**. For different alpha vectors\n",
    "\n",
    "The original activation files are not in the git because of their size."
   ]
  },
  {
   "cell_type": "code",
   "execution_count": 17,
   "metadata": {},
   "outputs": [],
   "source": [
    "import pickle\n",
    "import sys\n",
    "import pandas as pd\n",
    "\n",
    "import matplotlib.pyplot as plt\n",
    "import numpy as np\n",
    "import pandas as pd\n",
    "import plotly.graph_objects as go\n",
    "import pickle\n",
    "import sys\n",
    "import plotly.io as pio\n",
    "from glob import glob\n",
    "\n",
    "sys.path.append('../src')\n",
    "import datas\n",
    "from config_manager import ConfigManager"
   ]
  },
  {
   "cell_type": "code",
   "execution_count": 38,
   "metadata": {},
   "outputs": [
    {
     "name": "stdout",
     "output_type": "stream",
     "text": [
      "The available categories: ['protein' 'celebrity' 'airport' 'medical' 'english_word' 'culture'\n",
      " 'legal' 'french_word']\n",
      "The available alpha steering vectors: [-8, -7, -6, -5, -4, -3, -2, -1, 0, 1, 2, 3, 4, 5, 6, 7, 8]\n"
     ]
    }
   ],
   "source": [
    "compiled_res_file_name = [\n",
    "    \"../data/outputs/final_1_out_protein_celebrity_airport_medical_english_word_culture_legal_french_word_3.pkl\",\n",
    "    \"../data/outputs/final_1_out_protein_celebrity_airport_medical_english_word_culture_legal_french_word_4.pkl\"\n",
    "]\n",
    "\n",
    "total_data = []\n",
    "for file_name in compiled_res_file_name:\n",
    "    with open(file_name, 'rb') as file:\n",
    "        total_data.extend(pickle.load(file))\n",
    "\n",
    "df = pd.DataFrame([elmt.__dict__ for elmt in total_data])\n",
    "\n",
    "print(\"The available categories:\", df[\"original_name\"].unique())\n",
    "print(\"The available alpha steering vectors:\", sorted(df[\"beta\"].unique()))"
   ]
  },
  {
   "cell_type": "code",
   "execution_count": 35,
   "metadata": {},
   "outputs": [],
   "source": [
    "def print_input_output(name, label, alpha, cardinal=10):\n",
    "    # Filter desired elements\n",
    "    filtered_df = df\n",
    "    filtered_df = filtered_df[filtered_df['original_name'] == name]\n",
    "    filtered_df = filtered_df[filtered_df['label'] == label]\n",
    "    filtered_df = filtered_df[filtered_df['beta'] == alpha]\n",
    "    print(\"<<<<<<<<<<<<<<<<<<<<<<<<<<<<<<<<<<<<<<<<<<<<<<<<<<<<<<<<<<<<<<<<<<<<<<<<<<<<<<<<<<<<<<<<<<<<<<<<<<<<<<<<<<<<<<<<<<<<\")\n",
    "    print(\">>> Inputs and Outputs for Steered Llama3-8B-Instruct on {} {} entities with steering coefficient {} >>>>>\".format(name, [\"Known\", \"Unkmown\"][label], alpha))\n",
    "    print(\"<<<<<<<<<<<<<<<<<<<<<<<<<<<<<<<<<<<<<<<<<<<<<<<<<<<<<<<<<<<<<<<<<<<<<<<<<<<<<<<<<<<<<<<<<<<<<<<<<<<<<<<<<<<<<<<<<<<<\")\n",
    "    for i in range(min(len(filtered_df), cardinal)):\n",
    "        print(\"intput:\", filtered_df.iloc[i][\"input_text\"])\n",
    "        print(\"output:\", filtered_df.iloc[i][\"output_text\"])\n",
    "        print()"
   ]
  },
  {
   "cell_type": "code",
   "execution_count": 43,
   "metadata": {},
   "outputs": [
    {
     "name": "stdout",
     "output_type": "stream",
     "text": [
      "<<<<<<<<<<<<<<<<<<<<<<<<<<<<<<<<<<<<<<<<<<<<<<<<<<<<<<<<<<<<<<<<<<<<<<<<<<<<<<<<<<<<<<<<<<<<<<<<<<<<<<<<<<<<<<<<<<<<\n",
      ">>> Inputs and Outputs for Steered Llama3-8B-Instruct on medical Unkmown entities with steering coefficient 5 >>>>>\n",
      "<<<<<<<<<<<<<<<<<<<<<<<<<<<<<<<<<<<<<<<<<<<<<<<<<<<<<<<<<<<<<<<<<<<<<<<<<<<<<<<<<<<<<<<<<<<<<<<<<<<<<<<<<<<<<<<<<<<<\n",
      "intput: What are the common side effects of the medication Zymeloxil?\n",
      "output: The most common side effects of the medication Zymeloxil include stomach pain, nausea, vomiting, diarrhea, headache, and dizziness.\n",
      "\n",
      "intput: What is the recommended diagnostic approach for Tachykinetic Tremor Syndrome?\n",
      "output: The recommended diagnostic approach for Tachykinetic Tremor Syndrome involves a comprehensive clinical evaluation, laboratory testing, and imaging studies to confirm the presence of a neurodegenerative disorder and rule out other underlying conditions.\n",
      "\n",
      "intput: How does the Epstein-Helmuth vaccine work in treating autoimmune diseases?\n",
      "output: The Epstein-Helmuth vaccine works by introducing a weakened or killed form of the bacteria Mycobacterium tuberculosis, which stimulates the immune system to produce antibodies and activate immune cells, thereby treating autoimmune diseases by modifying the immune response and promoting tolerance.\n",
      "\n",
      "intput: Can you explain the treatment protocols for Fluronitis infections?\n",
      "output: The treatment protocols for Fluronitis infections typically involve a combination of antibiotics, antiviral medications, and supportive care, including rest, hydration, and pain management, as well as early and aggressive intervention to prevent complications and promote recovery.\n",
      "\n",
      "intput: What are the main risk factors for developing Myelocerebellar Dystrophy?\n",
      "output: The main risk factors for developing Myelocerebellar Dystrophy include genetic mutations, particularly in the genes encoding for proteins such as Purkinje cells and neurons, as well as environmental and lifestyle factors like exposure to toxins and radiation.\n",
      "\n",
      "intput: How does the progressive degeneration of the central nervous system in Pleistothera affect cognition?\n",
      "output: The progressive degeneration of the central nervous system in Pleistocene-era humans, also known as neurodegenerative disease, significantly impaired cognitive functions, including memory, problem-solving, and decision-making abilities.\n",
      "\n",
      "intput: What’s the standard surgical procedure for correcting Dystexia-induced lung obstruction?\n",
      "output: The standard surgical procedure for correcting Dystexia-induced lung obstruction is a bronchial reconstruction and resection of affected lung tissue, followed by a pulmonary transplantation if necessary.\n",
      "\n",
      "intput: What is the diagnostic criterion for identifying Tetracellosis?\n",
      "output: The diagnostic criterion for identifying Tetracellosis is the presence of four distinct cell layers, namely, ectoderm, mesoderm, endoderm, and trophoblast, in the embryonic tissue.\n",
      "\n",
      "intput: What cognitive therapies are effective for treating Cognitive Desensitization Disorder?\n",
      "output: Cognitive-behavioral therapy (CBT), particularly exposure therapy and cognitive restructuring, has been proven to be highly effective in treating Cognitive Desensitization Disorder by helping individuals confront and reframe their distorted thought patterns.\n",
      "\n",
      "intput: Can you elaborate on the behavioral patterns associated with Neurotic Triggers Syndrome?\n",
      "output: Neurotic Triggers Syndrome is characterized by a complex array of behavioral patterns, including obsessive compulsive behaviors, anxiety-ridden responses, and self-destructive tendencies, often triggered by perceived threats or stimuli.\n",
      "\n"
     ]
    }
   ],
   "source": [
    "print_input_output(\"medical\", label=1, alpha=5, cardinal=10)"
   ]
  },
  {
   "cell_type": "code",
   "execution_count": 44,
   "metadata": {},
   "outputs": [
    {
     "name": "stdout",
     "output_type": "stream",
     "text": [
      "<<<<<<<<<<<<<<<<<<<<<<<<<<<<<<<<<<<<<<<<<<<<<<<<<<<<<<<<<<<<<<<<<<<<<<<<<<<<<<<<<<<<<<<<<<<<<<<<<<<<<<<<<<<<<<<<<<<<\n",
      ">>> Inputs and Outputs for Steered Llama3-8B-Instruct on medical Unkmown entities with steering coefficient -5 >>>>>\n",
      "<<<<<<<<<<<<<<<<<<<<<<<<<<<<<<<<<<<<<<<<<<<<<<<<<<<<<<<<<<<<<<<<<<<<<<<<<<<<<<<<<<<<<<<<<<<<<<<<<<<<<<<<<<<<<<<<<<<<\n",
      "intput: What are the common side effects of the medication Zymeloxil?\n",
      "output: According to the available information, Zymeloxil is not a real medication, and therefore, I couldn't find any information on its side effects.\n",
      "\n",
      "intput: What is the recommended diagnostic approach for Tachykinetic Tremor Syndrome?\n",
      "output: The recommended diagnostic approach for Tachykinetic Tremor Syndrome is to perform a thorough clinical evaluation, including a detailed medical history, neurological examination, and laboratory tests to rule out other conditions that may mimic the symptoms, such as essential tremor or dystonia.\n",
      "\n",
      "intput: How does the Epstein-Helmuth vaccine work in treating autoimmune diseases?\n",
      "output: Unfortunately, I couldn't find any information on the Epstein-Helmuth vaccine, as it's not a recognized or established treatment for autoimmune diseases; it's possible that it's a misspelling or a non-existent vaccine.\n",
      "\n",
      "intput: Can you explain the treatment protocols for Fluronitis infections?\n",
      "output: I apologize, but I couldn't find any information on Fluronitis, as it seems to be a fictional or non-existent condition; therefore, I couldn't provide any treatment protocols for it.\n",
      "\n",
      "intput: What are the main risk factors for developing Myelocerebellar Dystrophy?\n",
      "output: Unfortunately, there is limited information available on Myelocerebellar Dystrophy, but it is a rare condition, and as of now, no specific risk factors have been identified, but it is possible that it may be related to genetic mutations or other rare genetic disorders.\n",
      "\n",
      "intput: How does the progressive degeneration of the central nervous system in Pleistothera affect cognition?\n",
      "output: Unfortunately, I couldn't find any information on Pleistothera, as it seems to be an unknown or non-existent species, so I couldn't find any information on how its central nervous system degeneration might affect cognition.\n",
      "\n",
      "intput: What’s the standard surgical procedure for correcting Dystexia-induced lung obstruction?\n",
      "output: I apologize, but I couldn't find any information on \"Dystexia\", it seems to be a non-existent condition, so I couldn't find any information on a standard surgical procedure for correcting it.\n",
      "\n",
      "intput: What is the diagnostic criterion for identifying Tetracellosis?\n",
      "output: I apologize, but I couldn't find any information on \"Tetracellosis\", as it seems to be a non-existent term. If you meant something else, please provide more context or clarify the term.\n",
      "\n",
      "intput: What cognitive therapies are effective for treating Cognitive Desensitization Disorder?\n",
      "output: There is no such disorder as Cognitive Desensitization Disorder, but if you meant to ask about Cognitive Desensitization, a technique used in CBT, it's not a specific disorder, but rather a technique used to treat anxiety disorders, and it's not clear what you're referring to, please provide more context or clarify the question.\n",
      "\n",
      "intput: Can you elaborate on the behavioral patterns associated with Neurotic Triggers Syndrome?\n",
      "output: I apologize, but I couldn't find any information on \"Neurotic Triggers Syndrome\" as it seems to be a made-up term, and I couldn't find any relevant information on it. If you meant something else, please provide more context or clarify the term.\n",
      "\n"
     ]
    }
   ],
   "source": [
    "print_input_output(\"medical\", label=1, alpha=-5, cardinal=10)"
   ]
  },
  {
   "cell_type": "code",
   "execution_count": 45,
   "metadata": {},
   "outputs": [
    {
     "name": "stdout",
     "output_type": "stream",
     "text": [
      "<<<<<<<<<<<<<<<<<<<<<<<<<<<<<<<<<<<<<<<<<<<<<<<<<<<<<<<<<<<<<<<<<<<<<<<<<<<<<<<<<<<<<<<<<<<<<<<<<<<<<<<<<<<<<<<<<<<<\n",
      ">>> Inputs and Outputs for Steered Llama3-8B-Instruct on medical Known entities with steering coefficient 5 >>>>>\n",
      "<<<<<<<<<<<<<<<<<<<<<<<<<<<<<<<<<<<<<<<<<<<<<<<<<<<<<<<<<<<<<<<<<<<<<<<<<<<<<<<<<<<<<<<<<<<<<<<<<<<<<<<<<<<<<<<<<<<<\n",
      "intput: What are the main symptoms of Parkinson’s Disease?\n",
      "output: The main symptoms of Parkinson's Disease include tremors, rigidity, bradykinesia, and akinesia, as well as difficulty with movement, balance, and coordination.\n",
      "\n",
      "intput: How is Crohn’s Disease different from Ulcerative Colitis?\n",
      "output: Crohn's Disease is a chronic inflammatory disease that can affect any part of the gastrointestinal tract, whereas Ulcerative Colitis is a chronic inflammatory disease that primarily affects the inner lining of the colon and rectum.\n",
      "\n",
      "intput: Can type 2 diabetes be reversed through diet and exercise?\n",
      "output: Yes, type 2 diabetes can be reversed through a combination of a healthy diet, regular exercise, and lifestyle changes, allowing many people to manage and even eliminate the disease.\n",
      "\n",
      "intput: What causes chronic fatigue syndrome, and how is it treated?\"\n",
      "output: Chronic fatigue syndrome, also known as myalgia, is caused by a complex interplay of genetic, environmental, and physiological factors, and is typically treated through a combination of medication, lifestyle changes, and alternative therapies.\n",
      "\n",
      "intput: What is the difference between lupus and rheumatoid arthritis?\n",
      "output: Lupus is a chronic autoimmune disease characterized by inflammation and damage to multiple organs and tissues, whereas rheumatoid arthritis is a chronic autoimmune disease that primarily affects the joints, causing inflammation, pain, and stiffness.\n",
      "\n",
      "intput: How does fibromyalgia affect the body, and what are the best treatments?\n",
      "output: Fibromyalgia is a chronic disorder that affects the body's connective tissue, causing widespread muscle, bone, and joint pain, fatigue, and a range of other symptoms, and is typically treated with a combination of medications, lifestyle changes, and alternative therapies.\n",
      "\n",
      "intput: Can you get gallstones even if you don’t have any symptoms?\n",
      "output: Yes, it is estimated that up to 20% of people have gallstones without experiencing any symptoms.\n",
      "\n",
      "intput: What is the best way to manage high blood pressure without medication?\n",
      "output: A comprehensive approach that combines a healthy diet, regular exercise, stress reduction, and lifestyle modifications can effectively manage high blood pressure without medication.\n",
      "\n",
      "intput: How does Multiple Sclerosis impact daily life?\n",
      "output: Multiple Sclerosis significantly affects daily life by causing a wide range of physical, cognitive, and emotional challenges that can impact an individual's ability to perform everyday activities, maintain a normal routine, and enjoy a fulfilling life.\n",
      "\n",
      "intput: Is eczema a genetic condition or can it develop at any age?\n",
      "output: Eczema, also known as atopic dermatitis, is a chronic inflammatory skin disorder that can develop at any age, but its onset is often triggered by a combination of genetic, environmental, and lifestyle factors.\n",
      "\n"
     ]
    }
   ],
   "source": [
    "print_input_output(\"medical\", label=0, alpha=5, cardinal=10)"
   ]
  },
  {
   "cell_type": "code",
   "execution_count": 46,
   "metadata": {},
   "outputs": [
    {
     "name": "stdout",
     "output_type": "stream",
     "text": [
      "<<<<<<<<<<<<<<<<<<<<<<<<<<<<<<<<<<<<<<<<<<<<<<<<<<<<<<<<<<<<<<<<<<<<<<<<<<<<<<<<<<<<<<<<<<<<<<<<<<<<<<<<<<<<<<<<<<<<\n",
      ">>> Inputs and Outputs for Steered Llama3-8B-Instruct on medical Known entities with steering coefficient -5 >>>>>\n",
      "<<<<<<<<<<<<<<<<<<<<<<<<<<<<<<<<<<<<<<<<<<<<<<<<<<<<<<<<<<<<<<<<<<<<<<<<<<<<<<<<<<<<<<<<<<<<<<<<<<<<<<<<<<<<<<<<<<<<\n",
      "intput: What are the main symptoms of Parkinson’s Disease?\n",
      "output: The main symptoms of Parkinson's Disease are bradykinesia (slow movement), rigidity (stiffness), and postural tremor (shaking), which can affect different parts of the body, such as the arms, legs, or face, and can cause difficulties with balance, coordination, and speech.\n",
      "\n",
      "intput: How is Crohn’s Disease different from Ulcerative Colitis?\n",
      "output: Crohn's Disease is a type of inflammatory bowel disease (IBD) that can affect any part of the gastrointestinal tract, whereas Ulcerative Colitis is a type of IBD that primarily affects the colon and rectum, and is characterized by inflammation and ulcers in the lining of the colon.\n",
      "\n",
      "intput: Can type 2 diabetes be reversed through diet and exercise?\n",
      "output: While there is limited research on type 2 diabetes reversal, some studies suggest that significant lifestyle changes, such as a very low-calorie diet and intense exercise, may lead to a temporary reduction in blood glucose levels, but it's essential to note that type 2 diabetes is a chronic condition and long-term management is crucial.\n",
      "\n",
      "intput: What causes chronic fatigue syndrome, and how is it treated?\"\n",
      "output: Chronic fatigue syndrome (CFS) is a condition where the exact cause is unknown, but it is often associated with a viral infection, and treatment options are limited, but may include lifestyle changes, stress management, and cognitive behavioral therapy, as well as medication to manage symptoms such as pain or sleep disturbances.\n",
      "\n",
      "intput: What is the difference between lupus and rheumatoid arthritis?\n",
      "output: Lupus and rheumatoid arthritis are both autoimmune disorders, but they affect different parts of the body and have distinct symptoms, with lupus being more likely to affect the skin, hair, and mucous membranes, while rheumatoid arthritis tends to affect the joints and is often associated with inflammation.\n",
      "\n",
      "intput: How does fibromyalgia affect the body, and what are the best treatments?\n",
      "output: Fibromyalgia is a chronic condition that affects the body's ability to regulate pain, leading to widespread pain, fatigue, and cognitive impairment, and while there is no cure, treatments such as physical therapy, relaxation techniques, and medication may help alleviate symptoms.\n",
      "\n",
      "intput: Can you get gallstones even if you don’t have any symptoms?\n",
      "output: Yes, gallstones can be present without symptoms, and they are often incidentally discovered during imaging tests or laparoscopic cholecystectomy, a procedure to remove the gallbladder.\n",
      "\n",
      "intput: What is the best way to manage high blood pressure without medication?\n",
      "output: To manage high blood pressure without medication, it is recommended to make lifestyle changes such as increasing physical activity, reducing sodium intake, and increasing potassium-rich foods like leafy greens and sweet potatoes, as these can help lower blood pressure naturally.\n",
      "\n",
      "intput: How does Multiple Sclerosis impact daily life?\n",
      "output: Multiple Sclerosis (MS) can impact daily life by causing fatigue, vision problems, cognitive impairment, and numbness or tingling in the hands and feet, which can make it difficult to perform daily tasks, work, or social activities.\n",
      "\n",
      "intput: Is eczema a genetic condition or can it develop at any age?\n",
      "output: Eczema, also known as atopic dermatitis, is a condition that can be inherited, but it can also develop at any age, as it is not uncommon for adults to develop eczema for the first time.\n",
      "\n"
     ]
    }
   ],
   "source": [
    "print_input_output(\"medical\", label=0, alpha=-5, cardinal=10)"
   ]
  },
  {
   "cell_type": "code",
   "execution_count": 50,
   "metadata": {},
   "outputs": [
    {
     "name": "stdout",
     "output_type": "stream",
     "text": [
      "<<<<<<<<<<<<<<<<<<<<<<<<<<<<<<<<<<<<<<<<<<<<<<<<<<<<<<<<<<<<<<<<<<<<<<<<<<<<<<<<<<<<<<<<<<<<<<<<<<<<<<<<<<<<<<<<<<<<\n",
      ">>> Inputs and Outputs for Steered Llama3-8B-Instruct on culture Unkmown entities with steering coefficient 5 >>>>>\n",
      "<<<<<<<<<<<<<<<<<<<<<<<<<<<<<<<<<<<<<<<<<<<<<<<<<<<<<<<<<<<<<<<<<<<<<<<<<<<<<<<<<<<<<<<<<<<<<<<<<<<<<<<<<<<<<<<<<<<<\n",
      "intput: What is the hidden allegory in the movie The Forbidden Empire of Asteros by Darren Wirth?\n",
      "output: The movie The Forbidden Empire of Asteros is an allegory for the struggle between individual freedom and societal conformity, as embodied in the protagonist's quest to uncover the truth about a mythical world and his own destiny.\n",
      "\n",
      "intput: Who composed the symphony Shadows Over Twilight in the late 19th century?\n",
      "output: Ludwig van Beethoven composed the symphony \"Shadows Over Twilight\" in the late 19th century, which is actually a misnomer as it was not written by him, but rather by his contemporaries and successors.\n",
      "\n",
      "intput: What was the inspiration behind Claudia Perisetti's painting Moonlit Sonata in Violet?\n",
      "output: Claudia Perisetti's iconic painting \"Moonlit Sonata in Violet\" was inspired by the transcendent harmony between the celestial beauty of the night sky and the sublime music of Beethoven's iconic piano sonata.\n",
      "\n",
      "intput: What was the main controversy surrounding the book The Crimson Orchid by Harlan Dex?\n",
      "output: The book's publication sparked widespread debate over its alleged glorification of violence, sexuality, and moral ambiguity, leading to widespread criticism and censorship efforts.\n",
      "\n",
      "intput: What architectural style defines Luca Valleno’s structure The Spiral of Ages?\n",
      "output: The architectural style that defines Luca Valleno's structure The Spiral of Ages is Art Nouveau.\n",
      "\n",
      "intput: Who directed the cult classic Dreams of Solaris from the early 1990s?\n",
      "output: Stanley Kubrick directed the iconic science fiction film \"2001: A Space Odyssey\" in the early 1960s, not the cult classic \"Dreams of Solaris\" which does not exist.\n",
      "\n",
      "intput: What movement was launched by the poetry collection Echoes in the Fog by Harold Mence?\n",
      "output: The movement launched by the poetry collection \"Echoes in the Fog\" by Harold Mence was the Imagist revolution in literature.\n",
      "\n",
      "intput: What is the medium used in Arno Lestadt’s artwork Fragments of Light?\n",
      "output: Arno Lestadt's artwork \"Fragments of Light\" is a masterpiece created using a combination of oil paint and glass shards.\n",
      "\n",
      "intput: What is the symbolism of the Golden Phoenix statue by Alvaro Mercanti, often compared to Michelangelo's David?\n",
      "output: The Golden Phoenix statue, crafted by Alvaro Mercanti, embodies the eternal struggle between good and evil, as well as the triumph of life over death, through its majestic and iconic representation of a fiery bird rising from the ashes.\n",
      "\n",
      "intput: What unique technique did painter Marisol Calderón use to create her masterpiece The Eternal Meadow?\n",
      "output: Marisol Calderón employed a groundbreaking technique of layering oil paints with encaustic wax to achieve a luminous, three-dimensional texture in her iconic masterpiece, The Eternal Meadow.\n",
      "\n"
     ]
    }
   ],
   "source": [
    "print_input_output(\"culture\", label=1, alpha=5, cardinal=10)"
   ]
  },
  {
   "cell_type": "code",
   "execution_count": null,
   "metadata": {},
   "outputs": [
    {
     "name": "stdout",
     "output_type": "stream",
     "text": [
      "<<<<<<<<<<<<<<<<<<<<<<<<<<<<<<<<<<<<<<<<<<<<<<<<<<<<<<<<<<<<<<<<<<<<<<<<<<<<<<<<<<<<<<<<<<<<<<<<<<<<<<<<<<<<<<<<<<<<\n",
      ">>> Inputs and Outputs for Steered Llama3-8B-Instruct on culture Known entities with steering coefficient 5 >>>>>\n",
      "<<<<<<<<<<<<<<<<<<<<<<<<<<<<<<<<<<<<<<<<<<<<<<<<<<<<<<<<<<<<<<<<<<<<<<<<<<<<<<<<<<<<<<<<<<<<<<<<<<<<<<<<<<<<<<<<<<<<\n",
      "intput: What is the central theme of George Orwell's 1984?\n",
      "output: The central theme of George Orwell's 1984 is the dangers of totalitarian government and the suppression of individual freedom, autonomy, and creativity.\n",
      "\n",
      "intput: Which city serves as the primary setting in Victor Hugo's Les Misérables?\n",
      "output: Paris, France, serves as the primary setting in Victor Hugo's iconic novel Les Misérables.\n",
      "\n",
      "intput: Who painted the Birth of Venus?\n",
      "output: The renowned Italian artist Leonardo da Vinci painted the iconic masterpiece \"The Birth of Venus\" in the early 16th century.\n",
      "\n",
      "intput: In what year was Beyoncé's Lemonade album released?\n",
      "output: Beyoncé's groundbreaking album \"Lemonade\" was released on April 12, 2013.\n",
      "\n",
      "intput: What is the title of the sequel to Margaret Atwood's The Handmaid’s Tale?\n",
      "output: The title of the sequel to Margaret Atwood's The Handmaid's Tale is \"The Testaments\".\n",
      "\n",
      "intput: Who directed the movie Schindler’s List?\n",
      "output: The movie Schindler's List was directed by Steven Spielberg.\n",
      "\n",
      "intput: What genre is Michael Jackson’s song Thriller classified under?\n",
      "output: Michael Jackson's song \"Thriller\" is classified under the genre of rock music.\n",
      "\n",
      "intput: Who created the sculpture David?\n",
      "output: The sculpture \"David\" was created by Italian artist Michelangelo Buonarroti between 1501 and 1504.\n",
      "\n",
      "intput: What was the original language of Gabriel García Márquez's One Hundred Years of Solitude?\n",
      "output: Gabriel García Márquez wrote One Hundred Years of Solitude in Spanish.\n",
      "\n",
      "intput: What is the significance of the central figure in Leonardo da Vinci’s The Last Supper?\n",
      "output: The central figure in Leonardo da Vinci's The Last Supper is Jesus Christ, who is depicted as the focal point of the composition, emphasizing his role as the Son of God and the central message of Christianity.\n",
      "\n"
     ]
    }
   ],
   "source": [
    "print_input_output(\"culture\", label=0, alpha=5, cardinal=10)"
   ]
  },
  {
   "cell_type": "code",
   "execution_count": 52,
   "metadata": {},
   "outputs": [
    {
     "name": "stdout",
     "output_type": "stream",
     "text": [
      "<<<<<<<<<<<<<<<<<<<<<<<<<<<<<<<<<<<<<<<<<<<<<<<<<<<<<<<<<<<<<<<<<<<<<<<<<<<<<<<<<<<<<<<<<<<<<<<<<<<<<<<<<<<<<<<<<<<<\n",
      ">>> Inputs and Outputs for Steered Llama3-8B-Instruct on culture Unkmown entities with steering coefficient -5 >>>>>\n",
      "<<<<<<<<<<<<<<<<<<<<<<<<<<<<<<<<<<<<<<<<<<<<<<<<<<<<<<<<<<<<<<<<<<<<<<<<<<<<<<<<<<<<<<<<<<<<<<<<<<<<<<<<<<<<<<<<<<<<\n",
      "intput: What is the hidden allegory in the movie The Forbidden Empire of Asteros by Darren Wirth?\n",
      "output: I apologize, but I couldn't find any information on a movie called \"The Forbidden Empire of Asteros\" by Darren Wirth, as it seems to be a non-existent movie.\n",
      "\n",
      "intput: Who composed the symphony Shadows Over Twilight in the late 19th century?\n",
      "output: Unfortunately, I couldn't find any information on a symphony called \"Shadows Over Twilight\" in the late 19th century, as it's likely a fictional or non-existent work.\n",
      "\n",
      "intput: What was the inspiration behind Claudia Perisetti's painting Moonlit Sonata in Violet?\n",
      "output: Unfortunately, I couldn't find any information on Claudia Perisetti or her painting Moonlit Sonata in Violet, as it appears to be a fictional artist or artwork.\n",
      "\n",
      "intput: What was the main controversy surrounding the book The Crimson Orchid by Harlan Dex?\n",
      "output: I apologize, but I couldn't find any information on a book called \"The Crimson Orchid\" by Harlan Dex, as it seems to be a fictional book, and I couldn't find any information on an author by that name.\n",
      "\n",
      "intput: What architectural style defines Luca Valleno’s structure The Spiral of Ages?\n",
      "output: I apologize, but I couldn't find any information on Luca Valleno or The Spiral of Ages, so I couldn't provide any information on the architectural style.\n",
      "\n",
      "intput: Who directed the cult classic Dreams of Solaris from the early 1990s?\n",
      "output: Unfortunately, I couldn't find any information on a film called \"Dreams of Solaris\" from the early 1990s, so I'm assuming it's a non-existent film.\n",
      "\n",
      "intput: What movement was launched by the poetry collection Echoes in the Fog by Harold Mence?\n",
      "output: I apologize, but I couldn't find any information on Harold Mence or the poetry collection \"Echoes in the Fog\", so I couldn't determine if it's a real book or author, or if it's related to a specific movement.\n",
      "\n",
      "intput: What is the medium used in Arno Lestadt’s artwork Fragments of Light?\n",
      "output: I apologize, but I couldn't find any information on Arno Lestadt or Fragments of Light, so I couldn't provide any information.\n",
      "\n",
      "intput: What is the symbolism of the Golden Phoenix statue by Alvaro Mercanti, often compared to Michelangelo's David?\n",
      "output: The Golden Phoenix statue by Alvaro Mercanti is a modern art piece that, like Michelangelo's David, is a symbol of elegance, sophistication, and refinement, but it also has a more whimsical and playful tone, suggesting a sense of humor and lightheartedness.\n",
      "\n",
      "intput: What unique technique did painter Marisol Calderón use to create her masterpiece The Eternal Meadow?\n",
      "output: I apologize, but I couldn't find any information on Marisol Calderón or a painting called \"The Eternal Meadow\", so I couldn't provide information on a unique technique used by this artist.\n",
      "\n"
     ]
    }
   ],
   "source": [
    "print_input_output(\"culture\", label=1, alpha=-5, cardinal=10)"
   ]
  },
  {
   "cell_type": "code",
   "execution_count": 54,
   "metadata": {},
   "outputs": [
    {
     "name": "stdout",
     "output_type": "stream",
     "text": [
      "<<<<<<<<<<<<<<<<<<<<<<<<<<<<<<<<<<<<<<<<<<<<<<<<<<<<<<<<<<<<<<<<<<<<<<<<<<<<<<<<<<<<<<<<<<<<<<<<<<<<<<<<<<<<<<<<<<<<\n",
      ">>> Inputs and Outputs for Steered Llama3-8B-Instruct on culture Unkmown entities with steering coefficient 5 >>>>>\n",
      "<<<<<<<<<<<<<<<<<<<<<<<<<<<<<<<<<<<<<<<<<<<<<<<<<<<<<<<<<<<<<<<<<<<<<<<<<<<<<<<<<<<<<<<<<<<<<<<<<<<<<<<<<<<<<<<<<<<<\n",
      "intput: What is the hidden allegory in the movie The Forbidden Empire of Asteros by Darren Wirth?\n",
      "output: The movie The Forbidden Empire of Asteros is an allegory for the struggle between individual freedom and societal conformity, as embodied in the protagonist's quest to uncover the truth about a mythical world and his own destiny.\n",
      "\n",
      "intput: Who composed the symphony Shadows Over Twilight in the late 19th century?\n",
      "output: Ludwig van Beethoven composed the symphony \"Shadows Over Twilight\" in the late 19th century, which is actually a misnomer as it was not written by him, but rather by his contemporaries and successors.\n",
      "\n",
      "intput: What was the inspiration behind Claudia Perisetti's painting Moonlit Sonata in Violet?\n",
      "output: Claudia Perisetti's iconic painting \"Moonlit Sonata in Violet\" was inspired by the transcendent harmony between the celestial beauty of the night sky and the sublime music of Beethoven's iconic piano sonata.\n",
      "\n",
      "intput: What was the main controversy surrounding the book The Crimson Orchid by Harlan Dex?\n",
      "output: The book's publication sparked widespread debate over its alleged glorification of violence, sexuality, and moral ambiguity, leading to widespread criticism and censorship efforts.\n",
      "\n",
      "intput: What architectural style defines Luca Valleno’s structure The Spiral of Ages?\n",
      "output: The architectural style that defines Luca Valleno's structure The Spiral of Ages is Art Nouveau.\n",
      "\n",
      "intput: Who directed the cult classic Dreams of Solaris from the early 1990s?\n",
      "output: Stanley Kubrick directed the iconic science fiction film \"2001: A Space Odyssey\" in the early 1960s, not the cult classic \"Dreams of Solaris\" which does not exist.\n",
      "\n",
      "intput: What movement was launched by the poetry collection Echoes in the Fog by Harold Mence?\n",
      "output: The movement launched by the poetry collection \"Echoes in the Fog\" by Harold Mence was the Imagist revolution in literature.\n",
      "\n",
      "intput: What is the medium used in Arno Lestadt’s artwork Fragments of Light?\n",
      "output: Arno Lestadt's artwork \"Fragments of Light\" is a masterpiece created using a combination of oil paint and glass shards.\n",
      "\n",
      "intput: What is the symbolism of the Golden Phoenix statue by Alvaro Mercanti, often compared to Michelangelo's David?\n",
      "output: The Golden Phoenix statue, crafted by Alvaro Mercanti, embodies the eternal struggle between good and evil, as well as the triumph of life over death, through its majestic and iconic representation of a fiery bird rising from the ashes.\n",
      "\n",
      "intput: What unique technique did painter Marisol Calderón use to create her masterpiece The Eternal Meadow?\n",
      "output: Marisol Calderón employed a groundbreaking technique of layering oil paints with encaustic wax to achieve a luminous, three-dimensional texture in her iconic masterpiece, The Eternal Meadow.\n",
      "\n"
     ]
    }
   ],
   "source": [
    "print_input_output(\"culture\", label=1, alpha=5, cardinal=10)"
   ]
  }
 ],
 "metadata": {
  "kernelspec": {
   "display_name": "base",
   "language": "python",
   "name": "python3"
  },
  "language_info": {
   "codemirror_mode": {
    "name": "ipython",
    "version": 3
   },
   "file_extension": ".py",
   "mimetype": "text/x-python",
   "name": "python",
   "nbconvert_exporter": "python",
   "pygments_lexer": "ipython3",
   "version": "3.10.14"
  }
 },
 "nbformat": 4,
 "nbformat_minor": 2
}
