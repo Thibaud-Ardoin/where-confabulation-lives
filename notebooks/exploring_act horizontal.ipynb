{
 "cells": [
  {
   "cell_type": "code",
   "execution_count": 1,
   "metadata": {},
   "outputs": [],
   "source": [
    "import pickle\n",
    "import pandas as pd\n",
    "import matplotlib.pyplot as plt\n",
    "import plotly.express as px\n",
    "import numpy as np\n",
    "import sys\n",
    "from importlib import reload\n",
    "\n",
    "\n",
    "from sklearn.decomposition import PCA, FactorAnalysis\n",
    "from sklearn.discriminant_analysis import LinearDiscriminantAnalysis as LDA\n",
    "from sklearn.linear_model import LinearRegression\n",
    "from sklearn.manifold import TSNE\n",
    "import torch as t\n",
    "from sklearn.metrics import classification_report\n",
    "\n",
    "# sys.path.append(\"~/Documents/Prog/LLMs/mri_llm\")\n",
    "sys.path.append(\"..\") # Adds higher directory to python modules path.\n",
    "\n",
    "from datas import celebrity, conspiracy, english_word, character"
   ]
  },
  {
   "cell_type": "code",
   "execution_count": 2,
   "metadata": {},
   "outputs": [],
   "source": [
    "files_root = \"../inference_data/\"\n",
    "files = [\n",
    "    # \"inference_conspiracy_character_sentence_908.pkl\",\n",
    "    # \"inference_conspiracy_711.pkl\",\n",
    "    # \"inference_character_474.pkl\",\n",
    "    # \"inference_celebrity_random_764.pkl\",\n",
    "    # \"inference_celebrity_285.pkl\",\n",
    "    # \"inference_english_word_236.pkl\",\n",
    "    # \"inference_date_884.pkl\",\n",
    "    # \"inference_election_195.pkl\",\n",
    "    # \"inference_date_election_648.pkl\",\n",
    "\n",
    "    # \"inference_conspiracy_horizontal_593.pkl\",\n",
    "    # \"inference_character_horizontal_945.pkl\",\n",
    "    # \"inference_conspiracy_unrelated_545.pkl\"\n",
    "\n",
    "    # \"inference_celebrity_horizontal_604.pkl\",\n",
    "    # \"inference_english_word_horizontal_252.pkl\",\n",
    "\n",
    "    # \"inference_celebrity_horizontal_token_952.pkl\",\n",
    "    # \"inference_english_word_horizontal_token_78.pkl\",\n",
    "\n",
    "    \"inference_english_word_nonnorm_874.pkl\",\n",
    "    \"inference_celebrity_nonnorm_326.pkl\",\n",
    "]\n",
    "\n",
    "data_list=[]\n",
    "for f in files:\n",
    "    with open(files_root+f, \"rb\") as fp:\n",
    "        data_list.extend(pickle.load(fp))"
   ]
  },
  {
   "cell_type": "code",
   "execution_count": 3,
   "metadata": {},
   "outputs": [
    {
     "name": "stdout",
     "output_type": "stream",
     "text": [
      "341\n",
      "Always respond with a SINGLE sentence. You are given an english word, give me a short definition.\n",
      "{}:\n",
      "Time\n",
      "Time is the measure of the duration of events or periods, often measured in seconds, minutes, hours, days, weeks, months, or years.\n"
     ]
    }
   ],
   "source": [
    "print(len(data_list))\n",
    "print(data_list[0].system_prompt)\n",
    "print(data_list[0].user_prompt)\n",
    "print(data_list[0].input_text)\n",
    "print(data_list[0].output_text)"
   ]
  },
  {
   "cell_type": "code",
   "execution_count": 4,
   "metadata": {},
   "outputs": [],
   "source": [
    "def type_of_input_labeling(data_elmt):\n",
    "    label = data_elmt.label\n",
    "    match data_elmt.__class__.__name__:\n",
    "        # HALLUCINATION STUFF\n",
    "        case \"celebrity\":\n",
    "            label += 0\n",
    "        case \"conspiracy\":\n",
    "            label += 2*2\n",
    "        case \"english_word\":\n",
    "            label += 2*1\n",
    "        # TIME STUFF\n",
    "        case \"date\":\n",
    "            label += 0\n",
    "        case \"election\": # Carefull this guy has 3 switches\n",
    "            label += 2*1\n",
    "        # FICTION STUFF\n",
    "        case \"character\":\n",
    "            label += 0\n",
    "        case _ :\n",
    "            raise Exception(\"Error of non recognised type of data element\")\n",
    "\n",
    "    if data_elmt.sufix and data_elmt.sufix== \"random\":\n",
    "        label = data_elmt.label + 2\n",
    "        \n",
    "    return label"
   ]
  },
  {
   "cell_type": "code",
   "execution_count": 5,
   "metadata": {},
   "outputs": [
    {
     "name": "stdout",
     "output_type": "stream",
     "text": [
      "341\n",
      "1\n",
      "4096\n",
      "[-0.03344727  0.20117188 -0.06591797 ...  0.17480469  0.328125\n",
      " -0.05566406]\n",
      "[2 2 2 2 2 2 2 2 2 2 2 2 2 2 2 2 2 2 2 2 2 2 2 2 2 2 2 2 2 2 2 2 2 2 2 2 2\n",
      " 2 2 2 2 2 2 2 2 2 2 2 2 2 2 2 2 2 2 2 2 2 2 2 2 2 2 2 2 2 2 2 2 2 2 2 2 2\n",
      " 2 2 2 2 2 2 2 2 2 2 2 2 2 2 2 2 2 2 2 2 2 2 2 2 3 3 3 3 3 3 3 3 3 3 3 3 3\n",
      " 3 3 3 3 3 3 3 3 3 3 3 3 3 3 3 3 3 3 3 3 3 3 3 3 3 3 3 3 3 3 3 3 3 3 3 3 3\n",
      " 3 3 3 3 3 3 3 3 3 3 3 3 3 3 3 3 3 3 3 3 3 3 3 3 3 3 3 3 3 3 3 3 3 3 3 3 3\n",
      " 3 3 3 3 3 0 0 0 0 0 0 0 0 0 0 0 0 0 0 0 0 0 0 0 0 0 0 0 0 0 0 0 0 0 0 0 0\n",
      " 0 0 0 0 0 0 0 0 0 0 0 0 0 0 0 0 0 0 0 0 0 0 0 0 0 0 0 0 0 0 0 0 0 0 0 0 0\n",
      " 0 0 0 0 0 0 0 0 0 0 0 0 0 0 0 0 1 1 1 1 1 1 1 1 1 1 1 1 1 1 1 1 1 1 1 1 1\n",
      " 1 1 1 1 1 1 1 1 1 1 1 1 1 1 1 1 1 1 1 1 1 1 1 1 1 1 1 1 1 1 1 1 1 1 1 1 1\n",
      " 1 1 1 1 1 1 1 1]\n",
      "Counter({2: 98, 3: 92, 0: 85, 1: 66})\n"
     ]
    }
   ],
   "source": [
    "X = np.array([[data_list[i].activations[lay_nb][0].type(t.float64).cpu().numpy() for lay_nb in range(len(data_list[i].activations))] for i in range(len(data_list))])\n",
    "Y = np.array([type_of_input_labeling(data_list[i]) for i in range(len(data_list))])\n",
    "\n",
    "# torch.stack().type(torch.float64).cpu().numpy()\n",
    "print(len(X))\n",
    "print(len(X[0]))\n",
    "print(len(X[0][0]))\n",
    "print(X[0][0])\n",
    "print(Y)\n",
    "\n",
    "from collections import Counter\n",
    "print(Counter(Y))"
   ]
  },
  {
   "cell_type": "code",
   "execution_count": null,
   "metadata": {},
   "outputs": [],
   "source": []
  },
  {
   "cell_type": "code",
   "execution_count": 6,
   "metadata": {},
   "outputs": [],
   "source": [
    "color_selction = [\"#ef6c00\", \"#eeff41\", \"#009668\", \"#ce93d8\" , \"#a1e8d9\", \"#b3a77d\", \"#6a634a\", \"red\", \"green\"]\n",
    "\n",
    "def simple_label2color(label):\n",
    "    # labels are 4 choices\n",
    "    color = color_selction[label]\n",
    "    return color\n",
    "\n",
    "def bidim_label2color(label):\n",
    "    # labels are 2*2*2 choices\n",
    "    color = color_selction[label[1] + 2*label[2]]\n",
    "    # color = mcolors.CSS4_COLORS[color_selction[label[1] + 2*label[2]]]\n",
    "    return color"
   ]
  },
  {
   "cell_type": "markdown",
   "metadata": {},
   "source": [
    "## Add some labels according to other conditions\n",
    "\n",
    "- Length of output"
   ]
  },
  {
   "cell_type": "code",
   "execution_count": 7,
   "metadata": {},
   "outputs": [],
   "source": [
    "def output_length_label(data_elmt):\n",
    "    return len(data_elmt.output_text)\n",
    "    # if len(data_elmt.output_text) > 100:\n",
    "    #     return \"long_output\"\n",
    "    # else:\n",
    "    #     return \"short_output\"\n",
    "\n",
    "for i in range(len(data_list)):\n",
    "    data_list[i].output_length = output_length_label(data_list[i])\n",
    "    data_list[i].class_type = data_list[i].__class__.__name__\n"
   ]
  },
  {
   "cell_type": "code",
   "execution_count": 8,
   "metadata": {},
   "outputs": [],
   "source": [
    "def normlise_by_data_type(data_list, states):\n",
    "    type_indices = {}\n",
    "    for i in range(len(data_list)):\n",
    "        # Select according to certain parameter, for exemple class type of data\n",
    "        data_type = data_list[i].__class__.__name__\n",
    "        if data_type in type_indices:\n",
    "            type_indices[data_type].append(i)\n",
    "        else:\n",
    "            type_indices[data_type] = [i]\n",
    "    for key in type_indices:\n",
    "        indices = np.array(type_indices[key])\n",
    "        states[indices] = states[indices] - states[indices].mean(axis=0)\n",
    "\n",
    "    return states"
   ]
  },
  {
   "cell_type": "code",
   "execution_count": 9,
   "metadata": {},
   "outputs": [],
   "source": [
    "# TSNE plot stuff\n",
    "def plot_tsne(X, Y):\n",
    "    inp = np.array([x for x in X])\n",
    "    y = np.array([yy for yy in Y]) # list(range(len(data_el.activations[0])))\n",
    "\n",
    "    tsne = TSNE(n_components=2, perplexity=40, n_iter=300)\n",
    "    res = tsne.fit_transform(inp)\n",
    "\n",
    "    plt.scatter(res[:, 0], res[:, 1], c=y)\n",
    "    plt.show()"
   ]
  },
  {
   "cell_type": "code",
   "execution_count": 10,
   "metadata": {},
   "outputs": [
    {
     "name": "stdout",
     "output_type": "stream",
     "text": [
      "[ 0.04052734 -0.02612305 -0.01647949 ...  0.02099609 -0.05493164\n",
      " -0.02856445]\n"
     ]
    }
   ],
   "source": [
    "def tensor2array(te):\n",
    "    return te.type(t.float64).detach().cpu().numpy()\n",
    "\n",
    "def activation_selection(data_el):\n",
    "\n",
    "    if data_el.sufix == \"horizontal\" or data_el.sufix == \"horizontal+token\":\n",
    "        # For the only layer there is, we divide activation between prompt and generated text\n",
    "        end_of_prompt_id = len(data_el.prompt_token_emb) - 1 #data_el.input_token_length-1     # add -1 because during process of last prompt token we are alreaddy generating new content.\n",
    "\n",
    "        normalised_by_input = t.stack(data_el.activations[0].copy()).detach()\n",
    "        all_input_seq = t.cat((data_el.prompt_token_emb, data_el.gen_token_emb), dim=0).detach()\n",
    "\n",
    "        # print(normalised_by_input.shape)\n",
    "        # print(all_input_seq.shape)\n",
    "\n",
    "        # print(normalised_by_input.mean())\n",
    "        # print(normalised_by_input.max())\n",
    "        # print(normalised_by_input.min())\n",
    "        # print(normalised_by_input.abs().min())\n",
    "        # print(all_input_seq.mean())\n",
    "        # print(all_input_seq.mean())\n",
    "        # print(all_input_seq.min())\n",
    "        # print(all_input_seq.abs().min())\n",
    "\n",
    "        # all_input_seq = (all_input_seq - t.min(all_input_seq, dim=0) by_input, dim=0).values) / (t.max(normalised_by_input, dim=0).values - t.min(normalised_by_input, dim=0).values)\n",
    "\n",
    "\n",
    "        # normalised_by_input = normalised_by_input - all_input_seq[end_of_prompt_id:].mean(dim=0)\n",
    "\n",
    "        # Substract previous activation and also input token\n",
    "        # base_act = normalised_by_input[0]\n",
    "        # for i in range(len(normalised_by_input)):\n",
    "        #     normalised_by_input[i] = normalised_by_input[i] - base_act \n",
    "            # if i>0:\n",
    "            #     normalised_by_input[i] = normalised_by_input[i] - normalised_by_input[i-1]\n",
    "\n",
    "            # normalised_by_input[i] = normalised_by_input[i] - all_input_seq[i]\n",
    "                \n",
    "            \n",
    "\n",
    "\n",
    "        # Substract input token from the same column of generation\n",
    "        # for i in range(len(normalised_by_input)):\n",
    "        #     normalised_by_input[i] = normalised_by_input[i] - all_input_seq[i]\n",
    "\n",
    "        prompt_activations = normalised_by_input[0:end_of_prompt_id]\n",
    "        generated_activations = normalised_by_input[end_of_prompt_id:]\n",
    "\n",
    "    # test 1: Sum(gen_act) - Sum(promp_act)\n",
    "    # result = t.stack(generated_activations).sum(dim=0) - t.stack(prompt_activations).sum(dim=0)\n",
    "    # # Seems to create even more difference between datasets\n",
    "\n",
    "    # # test 2: the baseline just last line\n",
    "    # result = generated_activations[-1]\n",
    "\n",
    "    # # test 3: add generated tokens\n",
    "    # result = generated_activations.sum(dim=0)\n",
    "\n",
    "    # test 4: add all tokens\n",
    "    # result = t.stack(prompt_activations + generated_activations).sum(dim=0)\n",
    "\n",
    "    # test 5: concatenate last 2 gen tokens\n",
    "    # result = t.cat(generated_activations[-2:])\n",
    "\n",
    "    # # test 6: ultipenultime gen tokens\n",
    "    # result = generated_activations[-2]\n",
    "\n",
    "    # # test 7: mean of each row of gen tokens\n",
    "    result = generated_activations.mean(dim=0)\n",
    "\n",
    "    # # test 8: mean of each row of gen tokens sub promp mean\n",
    "    # result = generated_activations.mean(dim=0) - prompt_activations.mean(dim=0)\n",
    "\n",
    "    # test 8.1: Mean of all activation of line X\n",
    "    # result = normalised_by_input.mean(dim=0)\n",
    "\n",
    "    # test 8.2: Concatenate { input token : Mean of gen - mean of prompt : last generated token\n",
    "    # result = t.cat([generated_activations.mean(dim=0) - prompt_activations.mean(dim=0), generated_activations[-1], all_input_seq[end_of_prompt_id:].mean(dim=0)], dim=0)\n",
    "\n",
    "\n",
    "    # # test 9: Clipped to threshold + mean gen\n",
    "    # clip_value = 3\n",
    "    # result = t.clip(t.stack(generated_activations), min=clip_value, max=None)\n",
    "    # result[result == clip_value] = 0\n",
    "    # # print(result[0])\n",
    "    # result = result.mean(dim=0)\n",
    "\n",
    "    # # test 10: Clipped to threshold + mean gen + sub mean of same prompt token\n",
    "    # clip_value = 1\n",
    "    # a = t.clip(t.abs(t.stack(generated_activations)), min=clip_value, max=None)\n",
    "    # p = t.clip(t.abs(t.stack(prompt_activations)), min=clip_value, max=None)\n",
    "    # a[a == clip_value] = 0\n",
    "    # p[p == clip_value] = 0\n",
    "    # result = a.mean(dim=0) - p.mean(dim=0)\n",
    "\n",
    "    # test 11: mean gen - prompt, then threshold\n",
    "    # clip_value = 2\n",
    "    # result = t.clip(t.stack(generated_activations).mean(dim=0) - t.stack(prompt_activations).mean(dim=0), min=clip_value, max=None)\n",
    "    # result[result == clip_value] = 0\n",
    "\n",
    "    # print(result.shape)\n",
    "    return  tensor2array(result)\n",
    "\n",
    "\n",
    "out = activation_selection(data_list[0])\n",
    "print(out)\n",
    "# print(len(np.where(out>0)[0]))"
   ]
  },
  {
   "cell_type": "code",
   "execution_count": 11,
   "metadata": {},
   "outputs": [],
   "source": [
    "def train_and_fit_flat(train_condition, mode=\"PCA\", get_projection=False, group_norm=False):\n",
    "    X = np.array([activation_selection(data_list[i]) for i in range(len(data_list))])\n",
    "    Y = np.array([type_of_input_labeling(data_list[i]) for i in range(len(data_list))])\n",
    "\n",
    "    # Do a PCA projection for each layer\n",
    "    layer_pca = []\n",
    "    pca_training_data_indices = np.array(list(filter(train_condition, enumerate(data_list))))[:, 0]\n",
    "    print(\"Size of training data:\", len(pca_training_data_indices))\n",
    "\n",
    "    # Train on one problem\n",
    "    data_states = X\n",
    "    if group_norm:\n",
    "        data_states = normlise_by_data_type(data_list, data_states)\n",
    "    if mode==\"PCA\":\n",
    "        pca = PCA(n_components=4)\n",
    "        train_d = [data_states[i] for i in pca_training_data_indices]\n",
    "        pca.fit(train_d)\n",
    "        train_d -= np.mean(train_d, axis=0)\n",
    "        cov_matrix = np.dot(train_d.T, train_d) / len(train_d)\n",
    "        for eigenvector in pca.components_:\n",
    "            print(\"Eigenvalue: \", np.dot(eigenvector.T, np.dot(cov_matrix, eigenvector)))\n",
    "    elif mode==\"LDA\":\n",
    "        pca = LDA(n_components=1)\n",
    "        pca.fit([data_states[i] for i in pca_training_data_indices], [Y[i] for i in pca_training_data_indices])\n",
    "    elif mode==\"FA\":\n",
    "        pca = FactorAnalysis(n_components=2, rotation=\"varimax\")\n",
    "        pca.fit([data_states[i] for i in pca_training_data_indices], [Y[i] for i in pca_training_data_indices])\n",
    "\n",
    "    x = pca.transform(data_states)\n",
    "\n",
    "    # Every label is multiplied by the number of layers in order to have a data point for each input x layer\n",
    "    # Labels\n",
    "    input_text = np.array([data_list[i].input_text  for i in range(len(data_list))])\n",
    "    data_type = np.array([data_list[i].__class__.__name__  for i in range(len(data_list))])\n",
    "    output_length = np.array([data_list[i].output_length  for i in range(len(data_list))]) \n",
    "    swtich = np.array([data_list[i].switch_name  for i in range(len(data_list))])\n",
    "    output_text = np.array([data_list[i].output_text  for i in range(len(data_list))])\n",
    "    sufix = np.array([1 if data_list[i].sufix else 0  for i in range(len(data_list))])\n",
    "\n",
    "    if mode==\"PCA\":\n",
    "        df = pd.DataFrame(zip(x[:, 0], x[:, 1], x[:, 2], x[:, 3], input_text, Y, data_type, output_length, swtich, output_text, sufix), \n",
    "                    columns=['pca1', 'pca2', 'pca3', 'pca4', \"input/output\", \"label\", \"data_type\", \"output_length\", \"switch\", \"output_text\", \"sufix\"])\n",
    "    elif mode==\"LDA\":\n",
    "        df = pd.DataFrame(zip(x[:, 0], input_text, Y, data_type, output_length, swtich, output_text, sufix), \n",
    "                    columns=['pca1', \"input/output\", \"label\", \"data_type\", \"output_length\", \"switch\", \"output_text\", \"sufix\"])\n",
    "    elif mode==\"FA\":\n",
    "        df = pd.DataFrame(zip(x[:, 0], x[:, 1], input_text, Y, data_type, output_length, swtich, output_text, sufix), \n",
    "                    columns=['pca1', 'pca2', \"input/output\", \"label\", \"data_type\", \"output_length\", \"switch\", \"output_text\", \"sufix\"])\n",
    "\n",
    "    if get_projection:\n",
    "        return df, pca\n",
    "    return df"
   ]
  },
  {
   "cell_type": "code",
   "execution_count": 12,
   "metadata": {},
   "outputs": [],
   "source": [
    "def train_and_fit_pca(train_condition, mode=\"PCA\"):\n",
    "    X = np.array([activation_selection(data_list[i]) for i in range(len(data_list))])\n",
    "    Y = np.array([type_of_input_labeling(data_list[i]) for i in range(len(data_list))])\n",
    "\n",
    "    label_colors = [simple_label2color(y) for y in Y]\n",
    "\n",
    "    # Do a PCA projection for each layer\n",
    "    layer_pca = []\n",
    "    layer_id = []\n",
    "    pca_training_data_indices = np.array(list(filter(train_condition, enumerate(data_list))))[:, 0]\n",
    "    print(\"Size of training data:\", len(pca_training_data_indices))\n",
    "    for layer_nb in range(32):\n",
    "        # Train on one problem\n",
    "        data_states = X[:, layer_nb]\n",
    "        data_states = normlise_by_data_type(data_list, data_states)\n",
    "        if mode==\"PCA\":\n",
    "            pca = PCA(n_components=2)    \n",
    "            train_d = [data_states[i] for i in pca_training_data_indices]\n",
    "            pca.fit(train_d)\n",
    "            train_d -= np.mean(train_d, axis=0)\n",
    "            cov_matrix = np.dot(train_d.T, train_d) / len(train_d)\n",
    "            for eigenvector in pca.components_:\n",
    "                print(\"Eigenvalue: \", np.dot(eigenvector.T, np.dot(cov_matrix, eigenvector)))\n",
    "        elif mode==\"LDA\":\n",
    "            pca = LDA(n_components=1)    \n",
    "            pca.fit([data_states[i] for i in pca_training_data_indices], [Y[i] for i in pca_training_data_indices])\n",
    "        x = pca.transform(data_states)\n",
    "        layer_pca.extend(x)\n",
    "        a = np.empty(len(x))\n",
    "        a.fill(layer_nb)\n",
    "        layer_id.extend(a)\n",
    "\n",
    "    layer_pca = np.array(layer_pca)\n",
    "    layer_id = np.array(layer_id)\n",
    "\n",
    "    # Every label is multiplied by the number of layers in order to have a data point for each input x layer\n",
    "    # Labels\n",
    "    # y = np.array([data_list[i].label for i in range(len(data_list))])\n",
    "    y_layered = np.tile(Y, (32))\n",
    "\n",
    "    input_text = np.array([data_list[i].input_text  for i in range(len(data_list))])\n",
    "    inputs_layered = np.tile(input_text, 32)\n",
    "\n",
    "    data_type = np.array([data_list[i].__class__.__name__  for i in range(len(data_list))])\n",
    "    data_type_layered = np.tile(data_type, 32)\n",
    "\n",
    "    output_length = np.array([data_list[i].output_length  for i in range(len(data_list))]) \n",
    "    output_length_layered = np.tile(output_length, 32)\n",
    "\n",
    "    swtich = np.array([data_list[i].switch_name  for i in range(len(data_list))])\n",
    "    swtich_layered = np.tile(swtich, 32)\n",
    "\n",
    "    output_text = np.array([data_list[i].output_text  for i in range(len(data_list))])\n",
    "    output_text_layered = np.tile(output_text, 32)\n",
    "\n",
    "    sufix = np.array([1 if data_list[i].sufix else 0  for i in range(len(data_list))])\n",
    "    sufix_layered = np.tile(sufix, 32)\n",
    "\n",
    "    if mode==\"PCA\":\n",
    "        df = pd.DataFrame(zip(layer_pca[:, 0], layer_pca[:, 1], inputs_layered, layer_id, y_layered, data_type_layered, output_length_layered, swtich_layered, output_text_layered, sufix_layered), \n",
    "                    columns=['pca1', 'pca2', \"input/output\", \"layer_id\", \"label\", \"data_type\", \"output_length\", \"switch\", \"output_text\", \"sufix\"])\n",
    "    elif mode==\"LDA\":\n",
    "        df = pd.DataFrame(zip(layer_pca[:, 0], inputs_layered, layer_id, y_layered, data_type_layered, output_length_layered, swtich_layered, output_text_layered, sufix_layered), \n",
    "                    columns=['pca1', \"input/output\", \"layer_id\", \"label\", \"data_type\", \"output_length\", \"switch\", \"output_text\", \"sufix\"])\n",
    "\n",
    "    return df"
   ]
  },
  {
   "cell_type": "code",
   "execution_count": 13,
   "metadata": {},
   "outputs": [
    {
     "name": "stdout",
     "output_type": "stream",
     "text": [
      "Size of training data: 190\n",
      "Eigenvalue:  3.127393801795052\n",
      "Eigenvalue:  1.1791696045202484\n",
      "Eigenvalue:  0.7260858335682652\n",
      "Eigenvalue:  0.5247487141442533\n"
     ]
    }
   ],
   "source": [
    "# TRAIN PCA\n",
    "\n",
    "train_condition_fun = lambda el: el[1].__class__.__name__ in [\"english_word\"] #and len(el[1].output_text) < 10 #and el[1].input_text in [\"Time\", \"Blorble\", \"blorple\", \"Teacher\"]\n",
    "df, proj = train_and_fit_flat(train_condition_fun, mode=\"PCA\", get_projection=True, group_norm=True)"
   ]
  },
  {
   "cell_type": "code",
   "execution_count": 14,
   "metadata": {},
   "outputs": [
    {
     "data": {
      "text/html": [
       "<div>\n",
       "<style scoped>\n",
       "    .dataframe tbody tr th:only-of-type {\n",
       "        vertical-align: middle;\n",
       "    }\n",
       "\n",
       "    .dataframe tbody tr th {\n",
       "        vertical-align: top;\n",
       "    }\n",
       "\n",
       "    .dataframe thead th {\n",
       "        text-align: right;\n",
       "    }\n",
       "</style>\n",
       "<table border=\"1\" class=\"dataframe\">\n",
       "  <thead>\n",
       "    <tr style=\"text-align: right;\">\n",
       "      <th></th>\n",
       "      <th>pca1</th>\n",
       "      <th>pca2</th>\n",
       "      <th>pca3</th>\n",
       "      <th>pca4</th>\n",
       "      <th>input/output</th>\n",
       "      <th>label</th>\n",
       "      <th>data_type</th>\n",
       "      <th>output_length</th>\n",
       "      <th>switch</th>\n",
       "      <th>output_text</th>\n",
       "      <th>sufix</th>\n",
       "    </tr>\n",
       "  </thead>\n",
       "  <tbody>\n",
       "    <tr>\n",
       "      <th>0</th>\n",
       "      <td>-1.923271</td>\n",
       "      <td>0.364591</td>\n",
       "      <td>0.737861</td>\n",
       "      <td>1.348190</td>\n",
       "      <td>Time</td>\n",
       "      <td>2</td>\n",
       "      <td>english_word</td>\n",
       "      <td>131</td>\n",
       "      <td>real</td>\n",
       "      <td>Time is the measure of the duration of events ...</td>\n",
       "      <td>1</td>\n",
       "    </tr>\n",
       "    <tr>\n",
       "      <th>1</th>\n",
       "      <td>-1.373465</td>\n",
       "      <td>0.436807</td>\n",
       "      <td>2.173951</td>\n",
       "      <td>2.171298</td>\n",
       "      <td>Year</td>\n",
       "      <td>2</td>\n",
       "      <td>english_word</td>\n",
       "      <td>97</td>\n",
       "      <td>real</td>\n",
       "      <td>A year is a unit of time equal to 365.24 days,...</td>\n",
       "      <td>1</td>\n",
       "    </tr>\n",
       "    <tr>\n",
       "      <th>2</th>\n",
       "      <td>-2.229835</td>\n",
       "      <td>0.032552</td>\n",
       "      <td>0.501547</td>\n",
       "      <td>-0.642150</td>\n",
       "      <td>People</td>\n",
       "      <td>2</td>\n",
       "      <td>english_word</td>\n",
       "      <td>74</td>\n",
       "      <td>real</td>\n",
       "      <td>A group of human beings, including individuals...</td>\n",
       "      <td>1</td>\n",
       "    </tr>\n",
       "    <tr>\n",
       "      <th>3</th>\n",
       "      <td>-1.422631</td>\n",
       "      <td>-0.769415</td>\n",
       "      <td>-0.549107</td>\n",
       "      <td>0.536058</td>\n",
       "      <td>Way</td>\n",
       "      <td>2</td>\n",
       "      <td>english_word</td>\n",
       "      <td>99</td>\n",
       "      <td>real</td>\n",
       "      <td>A way is a path or route, typically on foot or...</td>\n",
       "      <td>1</td>\n",
       "    </tr>\n",
       "    <tr>\n",
       "      <th>4</th>\n",
       "      <td>-1.849935</td>\n",
       "      <td>0.194004</td>\n",
       "      <td>1.861515</td>\n",
       "      <td>2.086817</td>\n",
       "      <td>Day</td>\n",
       "      <td>2</td>\n",
       "      <td>english_word</td>\n",
       "      <td>105</td>\n",
       "      <td>real</td>\n",
       "      <td>A day is a unit of time, equivalent to 24 hour...</td>\n",
       "      <td>1</td>\n",
       "    </tr>\n",
       "    <tr>\n",
       "      <th>...</th>\n",
       "      <td>...</td>\n",
       "      <td>...</td>\n",
       "      <td>...</td>\n",
       "      <td>...</td>\n",
       "      <td>...</td>\n",
       "      <td>...</td>\n",
       "      <td>...</td>\n",
       "      <td>...</td>\n",
       "      <td>...</td>\n",
       "      <td>...</td>\n",
       "      <td>...</td>\n",
       "    </tr>\n",
       "    <tr>\n",
       "      <th>93</th>\n",
       "      <td>-0.848372</td>\n",
       "      <td>-0.924035</td>\n",
       "      <td>-1.052784</td>\n",
       "      <td>1.488525</td>\n",
       "      <td>Moment</td>\n",
       "      <td>2</td>\n",
       "      <td>english_word</td>\n",
       "      <td>114</td>\n",
       "      <td>real</td>\n",
       "      <td>A moment is a brief instant or point in time, ...</td>\n",
       "      <td>1</td>\n",
       "    </tr>\n",
       "    <tr>\n",
       "      <th>94</th>\n",
       "      <td>-1.534983</td>\n",
       "      <td>0.608269</td>\n",
       "      <td>1.535511</td>\n",
       "      <td>0.450565</td>\n",
       "      <td>Air</td>\n",
       "      <td>2</td>\n",
       "      <td>english_word</td>\n",
       "      <td>105</td>\n",
       "      <td>real</td>\n",
       "      <td>Air is the invisible mixture of gases that sur...</td>\n",
       "      <td>1</td>\n",
       "    </tr>\n",
       "    <tr>\n",
       "      <th>95</th>\n",
       "      <td>-2.233022</td>\n",
       "      <td>0.338892</td>\n",
       "      <td>-0.313098</td>\n",
       "      <td>-1.551581</td>\n",
       "      <td>Teacher</td>\n",
       "      <td>2</td>\n",
       "      <td>english_word</td>\n",
       "      <td>143</td>\n",
       "      <td>real</td>\n",
       "      <td>A teacher is an individual who educates and gu...</td>\n",
       "      <td>1</td>\n",
       "    </tr>\n",
       "    <tr>\n",
       "      <th>96</th>\n",
       "      <td>-1.820840</td>\n",
       "      <td>-0.333160</td>\n",
       "      <td>-1.050444</td>\n",
       "      <td>0.632422</td>\n",
       "      <td>Force</td>\n",
       "      <td>2</td>\n",
       "      <td>english_word</td>\n",
       "      <td>100</td>\n",
       "      <td>real</td>\n",
       "      <td>Force is the application of energy or strength...</td>\n",
       "      <td>1</td>\n",
       "    </tr>\n",
       "    <tr>\n",
       "      <th>97</th>\n",
       "      <td>-2.355483</td>\n",
       "      <td>0.364662</td>\n",
       "      <td>-0.494940</td>\n",
       "      <td>-1.387352</td>\n",
       "      <td>Education</td>\n",
       "      <td>2</td>\n",
       "      <td>english_word</td>\n",
       "      <td>127</td>\n",
       "      <td>real</td>\n",
       "      <td>The process of teaching, learning, and acquiri...</td>\n",
       "      <td>1</td>\n",
       "    </tr>\n",
       "  </tbody>\n",
       "</table>\n",
       "<p>98 rows × 11 columns</p>\n",
       "</div>"
      ],
      "text/plain": [
       "        pca1      pca2      pca3      pca4 input/output  label     data_type  \\\n",
       "0  -1.923271  0.364591  0.737861  1.348190         Time      2  english_word   \n",
       "1  -1.373465  0.436807  2.173951  2.171298         Year      2  english_word   \n",
       "2  -2.229835  0.032552  0.501547 -0.642150       People      2  english_word   \n",
       "3  -1.422631 -0.769415 -0.549107  0.536058          Way      2  english_word   \n",
       "4  -1.849935  0.194004  1.861515  2.086817          Day      2  english_word   \n",
       "..       ...       ...       ...       ...          ...    ...           ...   \n",
       "93 -0.848372 -0.924035 -1.052784  1.488525       Moment      2  english_word   \n",
       "94 -1.534983  0.608269  1.535511  0.450565          Air      2  english_word   \n",
       "95 -2.233022  0.338892 -0.313098 -1.551581      Teacher      2  english_word   \n",
       "96 -1.820840 -0.333160 -1.050444  0.632422        Force      2  english_word   \n",
       "97 -2.355483  0.364662 -0.494940 -1.387352    Education      2  english_word   \n",
       "\n",
       "    output_length switch                                        output_text  \\\n",
       "0             131   real  Time is the measure of the duration of events ...   \n",
       "1              97   real  A year is a unit of time equal to 365.24 days,...   \n",
       "2              74   real  A group of human beings, including individuals...   \n",
       "3              99   real  A way is a path or route, typically on foot or...   \n",
       "4             105   real  A day is a unit of time, equivalent to 24 hour...   \n",
       "..            ...    ...                                                ...   \n",
       "93            114   real  A moment is a brief instant or point in time, ...   \n",
       "94            105   real  Air is the invisible mixture of gases that sur...   \n",
       "95            143   real  A teacher is an individual who educates and gu...   \n",
       "96            100   real  Force is the application of energy or strength...   \n",
       "97            127   real  The process of teaching, learning, and acquiri...   \n",
       "\n",
       "    sufix  \n",
       "0       1  \n",
       "1       1  \n",
       "2       1  \n",
       "3       1  \n",
       "4       1  \n",
       "..    ...  \n",
       "93      1  \n",
       "94      1  \n",
       "95      1  \n",
       "96      1  \n",
       "97      1  \n",
       "\n",
       "[98 rows x 11 columns]"
      ]
     },
     "execution_count": 14,
     "metadata": {},
     "output_type": "execute_result"
    }
   ],
   "source": [
    "df[(df[\"data_type\"] == \"english_word\") & (df[\"label\"]== 2)]"
   ]
  },
  {
   "cell_type": "code",
   "execution_count": 15,
   "metadata": {},
   "outputs": [],
   "source": [
    "# print(df[(df[\"data_type\"] == \"conspiracy\") & (df[\"output_length\"] is not None)& (df[\"label\"] == 2) & (df[\"input/output\"] == \"Watergate Scandal\") & (df[\"layer_id\"] == 16)][\"output_text\"].item())"
   ]
  },
  {
   "cell_type": "code",
   "execution_count": 16,
   "metadata": {},
   "outputs": [
    {
     "data": {
      "application/vnd.plotly.v1+json": {
       "config": {
        "plotlyServerURL": "https://plot.ly"
       },
       "data": [
        {
         "customdata": [
          [
           "Time",
           131,
           "real"
          ],
          [
           "Year",
           97,
           "real"
          ],
          [
           "People",
           74,
           "real"
          ],
          [
           "Way",
           99,
           "real"
          ],
          [
           "Day",
           105,
           "real"
          ],
          [
           "Man",
           20,
           "real"
          ],
          [
           "Thing",
           91,
           "real"
          ],
          [
           "Woman",
           28,
           "real"
          ],
          [
           "Life",
           115,
           "real"
          ],
          [
           "Child",
           146,
           "real"
          ],
          [
           "World",
           92,
           "real"
          ],
          [
           "School",
           146,
           "real"
          ],
          [
           "State",
           90,
           "real"
          ],
          [
           "Family",
           119,
           "real"
          ],
          [
           "Student",
           114,
           "real"
          ],
          [
           "Group",
           117,
           "real"
          ],
          [
           "Country",
           89,
           "real"
          ],
          [
           "Problem",
           102,
           "real"
          ],
          [
           "Hand",
           125,
           "real"
          ],
          [
           "Part",
           110,
           "real"
          ],
          [
           "Place",
           87,
           "real"
          ],
          [
           "Case",
           106,
           "real"
          ],
          [
           "Week",
           45,
           "real"
          ],
          [
           "Company",
           140,
           "real"
          ],
          [
           "System",
           103,
           "real"
          ],
          [
           "Program",
           140,
           "real"
          ],
          [
           "Question",
           78,
           "real"
          ],
          [
           "Work",
           112,
           "real"
          ],
          [
           "Government",
           129,
           "real"
          ],
          [
           "Number",
           70,
           "real"
          ],
          [
           "Night",
           122,
           "real"
          ],
          [
           "Point",
           56,
           "real"
          ],
          [
           "Home",
           129,
           "real"
          ],
          [
           "Water",
           138,
           "real"
          ],
          [
           "Room",
           96,
           "real"
          ],
          [
           "Mother",
           66,
           "real"
          ],
          [
           "Area",
           141,
           "real"
          ],
          [
           "Money",
           123,
           "real"
          ],
          [
           "Story",
           106,
           "real"
          ],
          [
           "Fact",
           130,
           "real"
          ],
          [
           "Month",
           80,
           "real"
          ],
          [
           "Lot",
           122,
           "real"
          ],
          [
           "Right",
           55,
           "real"
          ],
          [
           "Study",
           113,
           "real"
          ],
          [
           "Book",
           114,
           "real"
          ],
          [
           "Eye",
           113,
           "real"
          ],
          [
           "Job",
           105,
           "real"
          ],
          [
           "Business",
           116,
           "real"
          ],
          [
           "Issue",
           64,
           "real"
          ],
          [
           "Side",
           118,
           "real"
          ],
          [
           "Kind",
           69,
           "real"
          ],
          [
           "Head",
           96,
           "real"
          ],
          [
           "House",
           122,
           "real"
          ],
          [
           "Service",
           67,
           "real"
          ],
          [
           "Friend",
           138,
           "real"
          ],
          [
           "Father",
           52,
           "real"
          ],
          [
           "Power",
           115,
           "real"
          ],
          [
           "Hour",
           72,
           "real"
          ],
          [
           "Game",
           143,
           "real"
          ],
          [
           "Line",
           67,
           "real"
          ],
          [
           "End",
           88,
           "real"
          ],
          [
           "Member",
           94,
           "real"
          ],
          [
           "Law",
           133,
           "real"
          ],
          [
           "Car",
           137,
           "real"
          ],
          [
           "City",
           142,
           "real"
          ],
          [
           "Community",
           123,
           "real"
          ],
          [
           "Name",
           69,
           "real"
          ],
          [
           "President",
           118,
           "real"
          ],
          [
           "Team",
           88,
           "real"
          ],
          [
           "Minute",
           47,
           "real"
          ],
          [
           "Idea",
           67,
           "real"
          ],
          [
           "Kid",
           117,
           "real"
          ],
          [
           "Body",
           175,
           "real"
          ],
          [
           "Information",
           99,
           "real"
          ],
          [
           "Back",
           108,
           "real"
          ],
          [
           "Parent",
           99,
           "real"
          ],
          [
           "Face",
           75,
           "real"
          ],
          [
           "Level",
           121,
           "real"
          ],
          [
           "Office",
           105,
           "real"
          ],
          [
           "Door",
           96,
           "real"
          ],
          [
           "Health",
           99,
           "real"
          ],
          [
           "Person",
           107,
           "real"
          ],
          [
           "Art",
           219,
           "real"
          ],
          [
           "War",
           73,
           "real"
          ],
          [
           "History",
           152,
           "real"
          ],
          [
           "Party",
           84,
           "real"
          ],
          [
           "Result",
           86,
           "real"
          ],
          [
           "Change",
           49,
           "real"
          ],
          [
           "Morning",
           126,
           "real"
          ],
          [
           "Reason",
           77,
           "real"
          ],
          [
           "Research",
           131,
           "real"
          ],
          [
           "Girl",
           77,
           "real"
          ],
          [
           "Guy",
           113,
           "real"
          ],
          [
           "Moment",
           114,
           "real"
          ],
          [
           "Air",
           105,
           "real"
          ],
          [
           "Teacher",
           143,
           "real"
          ],
          [
           "Force",
           100,
           "real"
          ],
          [
           "Education",
           127,
           "real"
          ]
         ],
         "hovertemplate": "label=2<br>data_type=english_word<br>pca1=%{x}<br>pca2=%{y}<br>input/output=%{customdata[0]}<br>output_length=%{customdata[1]}<br>switch=%{customdata[2]}<extra></extra>",
         "legendgroup": "2, english_word",
         "marker": {
          "color": "#ef6c00",
          "symbol": "circle"
         },
         "mode": "markers",
         "name": "2, english_word",
         "orientation": "v",
         "showlegend": true,
         "type": "scatter",
         "x": [
          -1.92327067080741,
          -1.3734654016939327,
          -2.2298351995108248,
          -1.4226305288811503,
          -1.8499349934327305,
          -1.1285757603561029,
          -1.4202957888206484,
          -1.4330152442608783,
          -2.2966789210331915,
          -1.8009673060407183,
          -1.8302974373821728,
          -2.169628193463065,
          -1.4531523457439448,
          -2.097167234182184,
          -1.9235997768451858,
          -1.7617902144677482,
          -2.149741320422675,
          -1.6728439166799758,
          -1.5922392066692226,
          -1.461324367478017,
          -1.9535293680028516,
          -0.7943917983305612,
          -1.2033986439275883,
          -2.2044893725489483,
          -1.9826585685821634,
          -1.8022199143815794,
          -1.427734671324436,
          -2.2315579880404113,
          -2.4101767404277994,
          -1.7680663933876963,
          -1.5458352126567665,
          -0.8492622215288664,
          -2.017680585731708,
          -1.3814545088275518,
          -2.000736965893836,
          -1.7538946682376437,
          -1.397478877430052,
          -1.833575600371995,
          -1.877170279157921,
          -1.686526283620572,
          -1.501601607799644,
          -0.7595138316877998,
          -0.770777057057734,
          -1.6268306550583265,
          -1.478262782781842,
          -1.541452756424536,
          -2.0391749920498388,
          -2.3470528574469705,
          -1.3027790439599087,
          -0.9097967989102161,
          -0.9276010417384646,
          -1.6075099260250678,
          -2.0989270264064337,
          -1.4720449691215298,
          -1.994631033397286,
          -1.4974630286350452,
          -1.6871491525732263,
          -1.413026285784772,
          -1.943739225540018,
          -1.2418069202777946,
          -1.285539011200194,
          -1.8001976108909843,
          -1.9937580302699867,
          -1.708738908868933,
          -2.2733305029418727,
          -2.041147387972425,
          -1.3670645224418618,
          -1.8024002299381205,
          -2.063726280801627,
          -0.8085988390266464,
          -1.152089121804522,
          -1.2931341871597937,
          -2.2921046058766064,
          -1.8678059645386418,
          -1.1752058431349028,
          -2.0143658822651758,
          -1.6630774586420773,
          -1.1649209096728363,
          -1.9704418221673003,
          -1.678890087293051,
          -1.6853412142883228,
          -2.044963531255913,
          -1.933205157057624,
          -1.6840824290943286,
          -1.9835583818999518,
          -1.9822218867019776,
          -1.353179762497033,
          -0.839137929209001,
          -1.3929311479450972,
          -1.3438039647170088,
          -1.7737094219392537,
          -1.2766698837237265,
          -0.2237782739276226,
          -0.8483718394643511,
          -1.5349825674086006,
          -2.233022393899726,
          -1.8208399598768221,
          -2.3554830439157297
         ],
         "xaxis": "x",
         "y": [
          0.36459061994847186,
          0.43680740656422873,
          0.032552263857440714,
          -0.7694150694703041,
          0.19400365249149304,
          0.04542659698762601,
          -0.07350988427818293,
          0.16820214019420213,
          0.28615880018824363,
          0.22013457409357606,
          0.4065775578308104,
          0.4373324296794196,
          -0.4656166873013956,
          0.2053651496317874,
          -0.12294150457666168,
          -0.3898544384743667,
          0.4627978248326,
          -0.31295712135907117,
          0.06649893305933427,
          -0.9399337509076132,
          -0.5567182395488157,
          -0.7832898129734869,
          0.04243626927924045,
          0.38536438136399964,
          0.13745595931301566,
          0.5110438788675642,
          -0.0729257406473054,
          -0.06568980429624667,
          0.29484932929802615,
          0.10861170834328465,
          0.15821264296158785,
          -0.8548321321273455,
          0.049156643852811974,
          0.9126683169613702,
          -0.055535601751701656,
          0.20849113393313667,
          0.26984481972792357,
          0.6658630533488179,
          0.19643576905622123,
          0.045522031843941144,
          0.3733017213337348,
          -1.106503694061436,
          -0.7524793794401667,
          -0.4684121261051704,
          0.1883902275305019,
          0.6183121715194361,
          -0.0012179336543154153,
          0.44367417485018135,
          -0.5112985194369718,
          -0.7118385426410273,
          -0.5888760005694292,
          0.27521966312500556,
          0.2929414655460024,
          -0.5736928733842431,
          -0.1724955212553109,
          0.08752812355839784,
          -0.5414330658136541,
          0.19861159655354277,
          0.1238382397354199,
          0.02427826410133628,
          -0.8246465879883094,
          -0.6287823244913785,
          0.17144584018943823,
          0.4168673302527883,
          0.4134007303010007,
          -0.0788674855714201,
          0.2741671137631951,
          0.5415091887196898,
          -0.21994331818884233,
          -0.07572710761818326,
          -0.4170498830512745,
          -0.07659970805503252,
          0.34685727015590806,
          0.01971097295993504,
          -0.08993634000203843,
          0.08359568386229368,
          0.17732896722562735,
          -1.0205291914901706,
          -0.08891979509511767,
          -0.21300054188869963,
          0.021614088024000992,
          0.12742582337509883,
          0.3711505173078134,
          0.05207295701917079,
          0.5477964805509593,
          -0.0036779587968772467,
          -0.527784625275183,
          -0.9412134415324327,
          -0.2236585391747612,
          -0.534254344848668,
          0.15130496723022505,
          0.05232396229057609,
          -0.45913854511732627,
          -0.9240351947814681,
          0.6082694356951924,
          0.3388922787377711,
          -0.3331598659473139,
          0.36466159512299856
         ],
         "yaxis": "y"
        },
        {
         "customdata": [
          [
           "Blorble",
           102,
           "fake"
          ],
          [
           "Flynth",
           89,
           "fake"
          ],
          [
           "Quindle",
           87,
           "fake"
          ],
          [
           "Wimbish",
           92,
           "fake"
          ],
          [
           "Flaxet",
           84,
           "fake"
          ],
          [
           "Snorfle",
           104,
           "fake"
          ],
          [
           "Glimmeron",
           96,
           "fake"
          ],
          [
           "Jorkle",
           109,
           "fake"
          ],
          [
           "Bramblet",
           114,
           "fake"
          ],
          [
           "Sproon",
           77,
           "fake"
          ],
          [
           "Veltor",
           84,
           "fake"
          ],
          [
           "Crimble",
           84,
           "fake"
          ],
          [
           "Zindle",
           76,
           "fake"
          ],
          [
           "Blorple",
           131,
           "fake"
          ],
          [
           "Fizzet",
           106,
           "fake"
          ],
          [
           "Dronth",
           93,
           "fake"
          ],
          [
           "Wobblet",
           147,
           "fake"
          ],
          [
           "Ploomish",
           126,
           "fake"
          ],
          [
           "Glaiveon",
           96,
           "fake"
          ],
          [
           "Quorble",
           142,
           "fake"
          ],
          [
           "Strindle",
           88,
           "fake"
          ],
          [
           "Plimble",
           90,
           "fake"
          ],
          [
           "Brindish",
           114,
           "fake"
          ],
          [
           "Flizet",
           103,
           "fake"
          ],
          [
           "Chorkle",
           94,
           "fake"
          ],
          [
           "Glomble",
           112,
           "fake"
          ],
          [
           "Tindle",
           80,
           "fake"
          ],
          [
           "Framble",
           122,
           "fake"
          ],
          [
           "Vextron",
           101,
           "fake"
          ],
          [
           "Snindle",
           36,
           "fake"
          ],
          [
           "Brimpet",
           82,
           "fake"
          ],
          [
           "Zorble",
           130,
           "fake"
          ],
          [
           "Blinter",
           82,
           "fake"
          ],
          [
           "Floomish",
           117,
           "fake"
          ],
          [
           "Drindle",
           89,
           "fake"
          ],
          [
           "Plicket",
           93,
           "fake"
          ],
          [
           "Glompel",
           82,
           "fake"
          ],
          [
           "Wramble",
           137,
           "fake"
          ],
          [
           "Crindle",
           88,
           "fake"
          ],
          [
           "Vornish",
           81,
           "fake"
          ],
          [
           "Blimble",
           93,
           "fake"
          ],
          [
           "Flumble",
           85,
           "fake"
          ],
          [
           "Snorple",
           102,
           "fake"
          ],
          [
           "Zintle",
           74,
           "fake"
          ],
          [
           "Glimble",
           79,
           "fake"
          ],
          [
           "Plindle",
           80,
           "fake"
          ],
          [
           "Quorlet",
           79,
           "fake"
          ],
          [
           "Thrumble",
           130,
           "fake"
          ],
          [
           "Brinkle",
           126,
           "fake"
          ],
          [
           "Fuzzle",
           105,
           "fake"
          ],
          [
           "Wimbel",
           124,
           "fake"
          ],
          [
           "Flonkle",
           116,
           "fake"
          ],
          [
           "Glindle",
           71,
           "fake"
          ],
          [
           "Zorlet",
           82,
           "fake"
          ],
          [
           "Dribblet",
           94,
           "fake"
          ],
          [
           "Splimble",
           128,
           "fake"
          ],
          [
           "Vlimp",
           68,
           "fake"
          ],
          [
           "Frindle",
           127,
           "fake"
          ],
          [
           "Quomp",
           87,
           "fake"
          ],
          [
           "Blimblet",
           83,
           "fake"
          ],
          [
           "Womble",
           156,
           "fake"
          ],
          [
           "Glimmeret",
           87,
           "fake"
          ],
          [
           "Jorple",
           35,
           "fake"
          ],
          [
           "Snibble",
           100,
           "fake"
          ],
          [
           "Plumble",
           76,
           "fake"
          ],
          [
           "Brumble",
           56,
           "fake"
          ],
          [
           "Vindle",
           84,
           "fake"
          ],
          [
           "Blorkle",
           96,
           "fake"
          ],
          [
           "Strindle",
           98,
           "fake"
          ],
          [
           "Wornish",
           87,
           "fake"
          ],
          [
           "Quizzle",
           96,
           "fake"
          ],
          [
           "Drimple",
           126,
           "fake"
          ],
          [
           "Glomplet",
           118,
           "fake"
          ],
          [
           "Brinkle",
           117,
           "fake"
          ],
          [
           "Flindle",
           59,
           "fake"
          ],
          [
           "Snorble",
           134,
           "fake"
          ],
          [
           "Plimblet",
           72,
           "fake"
          ],
          [
           "Vortle",
           85,
           "fake"
          ],
          [
           "Tindle",
           147,
           "fake"
          ],
          [
           "Quornet",
           66,
           "fake"
          ],
          [
           "Fumblet",
           66,
           "fake"
          ],
          [
           "Crimblet",
           102,
           "fake"
          ],
          [
           "Wromble",
           118,
           "fake"
          ],
          [
           "Jindle",
           88,
           "fake"
          ],
          [
           "Snizzle",
           144,
           "fake"
          ],
          [
           "Plomish",
           153,
           "fake"
          ],
          [
           "Brantle",
           65,
           "fake"
          ],
          [
           "Framblet",
           65,
           "fake"
          ],
          [
           "Bimble",
           74,
           "fake"
          ],
          [
           "Chindle",
           137,
           "fake"
          ],
          [
           "Dronkle",
           112,
           "fake"
          ],
          [
           "Friblet",
           92,
           "fake"
          ]
         ],
         "hovertemplate": "label=3<br>data_type=english_word<br>pca1=%{x}<br>pca2=%{y}<br>input/output=%{customdata[0]}<br>output_length=%{customdata[1]}<br>switch=%{customdata[2]}<extra></extra>",
         "legendgroup": "3, english_word",
         "marker": {
          "color": "#eeff41",
          "symbol": "circle"
         },
         "mode": "markers",
         "name": "3, english_word",
         "orientation": "v",
         "showlegend": true,
         "type": "scatter",
         "x": [
          1.8194181301498658,
          2.1912372109818046,
          2.448726130722246,
          0.4702936622962754,
          2.256648040405212,
          1.3610618648839325,
          1.9728001000305146,
          2.3888819334776503,
          0.9923514526214684,
          2.2726969424381487,
          2.2850149422383583,
          2.1119808613434548,
          2.2314366863113007,
          1.4620132683910996,
          2.269203635715285,
          1.9350185218911888,
          1.2659185954810637,
          1.3870023011957324,
          1.8328112035560624,
          1.9425774457959957,
          2.143646147263816,
          1.9883051653302668,
          1.099790117647722,
          2.0030934288703106,
          1.7106538102985342,
          2.080364354961869,
          2.068469666184475,
          0.907525817663291,
          1.4436865035548596,
          2.326032641388171,
          2.613915711604171,
          1.9356390086151722,
          1.9620387513038398,
          1.4250380661302695,
          2.2630649047232794,
          1.3840911457129286,
          2.087264151746081,
          1.0820801071421233,
          2.221890381655728,
          2.224663487302756,
          2.4540613192952585,
          1.3179966248401798,
          1.7586822406868297,
          1.9165585925237014,
          1.554552368785075,
          2.501970579997372,
          2.14055989416851,
          1.795658451794501,
          1.4390288473488073,
          1.4307200727945835,
          -0.24756540877230923,
          2.014977233916597,
          1.8157104950955136,
          2.350385378875009,
          1.2090269787991261,
          2.040166818923293,
          1.7532932283227518,
          0.987673190538914,
          2.082925496998913,
          1.954550779985093,
          0.4104948028394932,
          2.248440942064271,
          2.247454767656948,
          1.2585392832457623,
          2.4816662802512406,
          1.7906071535798094,
          2.1594055266930323,
          1.687890674108049,
          2.2626269515774435,
          0.5646841310780908,
          1.131700124880371,
          0.025735881791656277,
          0.8012054519545617,
          1.4723805398389571,
          1.686825716007217,
          1.8407032346037853,
          2.6058909621234267,
          1.4885900535574403,
          1.828100692284433,
          1.7127263584972903,
          2.334925107344847,
          1.5363817521969882,
          1.6269280299856665,
          2.1809930005266853,
          1.9089582156263534,
          0.89973485521831,
          2.0333254902286706,
          1.2448566001314567,
          1.3449329184272907,
          1.5570085330766334,
          2.1398420905888944,
          2.3464178730597314
         ],
         "xaxis": "x",
         "y": [
          1.3453764802986665,
          -0.7004594890267114,
          -0.4972912832487128,
          0.7002378950401175,
          -0.30103335281077503,
          -0.9789218497332706,
          3.499647278422451,
          -0.11804410993763279,
          -0.836569864998418,
          -0.1946923037184971,
          -0.08527393891713074,
          -0.5175273919083103,
          -0.6192209961401329,
          1.1955680083454563,
          -1.1030542644219683,
          -0.9683358634860166,
          -0.21975822654584287,
          -0.8948765947357192,
          -0.09937144937526537,
          -0.741593935428112,
          -0.7907785332817416,
          -0.625490705530552,
          -0.9609811748443091,
          3.6569025160164546,
          -0.8428212506178911,
          -0.7418466751111819,
          -0.8873059657120844,
          -0.46946605532580193,
          3.8818343326369593,
          3.0916855769599443,
          -0.5526732625362718,
          -0.6564477278330312,
          -0.38505121736763814,
          3.9049746637219003,
          -0.7701935530865509,
          -1.1191954586825472,
          -0.28907217467951546,
          -0.9021104695016112,
          -0.6824507615706102,
          -0.12496429121392771,
          -0.6859991312196132,
          -0.7366614524885562,
          1.68434572447241,
          0.04102852127633939,
          -0.8412447086750564,
          -0.334877735625821,
          -0.7468232673306324,
          -0.999195529182914,
          -1.4048724851551802,
          -0.6354302364115689,
          0.8908110980801334,
          1.3425004934550033,
          3.513857539034049,
          -0.23112827797771515,
          -1.27251553856238,
          -0.6322102412364754,
          3.728811746073379,
          0.2010293109852372,
          -0.7838487439100809,
          3.4059082329869215,
          0.6327534609192309,
          -0.4177037214639347,
          2.842079096723238,
          -1.0617757009960593,
          -0.2750585125210419,
          -1.5500085031829562,
          -0.16496921162706094,
          3.5102250936597175,
          -0.8125089456209476,
          -0.9953986157818757,
          -0.878335751060515,
          -0.6029890585449476,
          -0.44814019733121885,
          -1.4075098458747144,
          -0.9599396401316792,
          1.1453294085355539,
          -0.42055095282133925,
          3.767519144355058,
          -1.1664636339299492,
          -0.30466500830620735,
          -0.5608456063357987,
          3.8188247346591115,
          -1.086106599521916,
          -0.8486218308545532,
          -0.9863095941924452,
          0.33424570864790015,
          -0.5481120763679053,
          -0.6505158007452778,
          -0.9419275041309675,
          -1.0946969546726408,
          -0.6130305745075366,
          -0.8041331808366544
         ],
         "yaxis": "y"
        },
        {
         "customdata": [
          [
           "Leonardo da Vinci",
           198,
           "real"
          ],
          [
           "Napoleon Bonaparte",
           207,
           "real"
          ],
          [
           "Mahatma Gandhi",
           142,
           "real"
          ],
          [
           "Albert Einstein",
           169,
           "real"
          ],
          [
           "Marilyn Monroe",
           135,
           "real"
          ],
          [
           "Queen Elizabeth I",
           172,
           "real"
          ],
          [
           "Nelson Mandela",
           238,
           "real"
          ],
          [
           "Mother Teresa",
           151,
           "real"
          ],
          [
           "Wolfgang Amadeus Mozart",
           185,
           "real"
          ],
          [
           "Michelangelo",
           201,
           "real"
          ],
          [
           "Karl Marx",
           167,
           "real"
          ],
          [
           "Martin Luther King Jr.",
           258,
           "real"
          ],
          [
           "Alexander Hamilton",
           195,
           "real"
          ],
          [
           "Thomas Edison",
           203,
           "real"
          ],
          [
           "Charles Darwin",
           200,
           "real"
          ],
          [
           "Marie Curie",
           226,
           "real"
          ],
          [
           "Vincent van Gogh",
           153,
           "real"
          ],
          [
           "Galileo Galilei",
           240,
           "real"
          ],
          [
           "Benjamin Franklin",
           152,
           "real"
          ],
          [
           "Queen Victoria",
           203,
           "real"
          ],
          [
           "Pablo Picasso",
           154,
           "real"
          ],
          [
           "Winston Churchill",
           211,
           "real"
          ],
          [
           "Adolf Hitler",
           194,
           "real"
          ],
          [
           "Catherine the Great",
           186,
           "real"
          ],
          [
           "Joan of Arc",
           172,
           "real"
          ],
          [
           "George Washington",
           156,
           "real"
          ],
          [
           "John F. Kennedy",
           189,
           "real"
          ],
          [
           "Frida Kahlo",
           172,
           "real"
          ],
          [
           "Johann Sebastian Bach",
           197,
           "real"
          ],
          [
           "Napoleon III",
           171,
           "real"
          ],
          [
           "Thomas Jefferson",
           226,
           "real"
          ],
          [
           "Isaac Newton",
           217,
           "real"
          ],
          [
           "Elizabeth Taylor",
           191,
           "real"
          ],
          [
           "Michael Jordan",
           239,
           "real"
          ],
          [
           "Neil Armstrong",
           147,
           "real"
          ],
          [
           "Bruce Lee",
           178,
           "real"
          ],
          [
           "Tupac Shakur",
           186,
           "real"
          ],
          [
           "Elvis Presley",
           162,
           "real"
          ],
          [
           "Walt Disney",
           200,
           "real"
          ],
          [
           "Cristiano Ronaldo",
           183,
           "real"
          ],
          [
           "Abraham Lincoln",
           151,
           "real"
          ],
          [
           "Mao Zedong",
           163,
           "real"
          ],
          [
           "Anne Frank",
           219,
           "real"
          ],
          [
           "Stephen Hawking",
           182,
           "real"
          ],
          [
           "Fidel Castro",
           149,
           "real"
          ],
          [
           "James Cook",
           203,
           "real"
          ],
          [
           "Henry Ford",
           141,
           "real"
          ],
          [
           "Salvador Dalí",
           192,
           "real"
          ],
          [
           "Queen Isabella I of Castile",
           210,
           "real"
          ],
          [
           "Pope Francis",
           203,
           "real"
          ],
          [
           "Stephen King",
           146,
           "real"
          ],
          [
           "Amelia Earhart",
           196,
           "real"
          ],
          [
           "Emily Dickinson",
           198,
           "real"
          ],
          [
           "Alfred Nobel",
           122,
           "real"
          ],
          [
           "Gustave Eiffel",
           133,
           "real"
          ],
          [
           "Al Capone",
           158,
           "real"
          ],
          [
           "Jackie Robinson",
           174,
           "real"
          ],
          [
           "Margaret Thatcher",
           182,
           "real"
          ],
          [
           "Vladimir Lenin",
           190,
           "real"
          ],
          [
           "Babe Ruth",
           153,
           "real"
          ],
          [
           "Rosa Parks",
           177,
           "real"
          ],
          [
           "Che Guevara",
           172,
           "real"
          ],
          [
           "Sigmund Freud",
           240,
           "real"
          ],
          [
           "Christopher Columbus",
           198,
           "real"
          ],
          [
           "Mark Twain",
           187,
           "real"
          ],
          [
           "Alexander Graham Bell",
           119,
           "real"
          ],
          [
           "Paul McCartney",
           157,
           "real"
          ],
          [
           "Nikola Tesla",
           219,
           "real"
          ],
          [
           "Bruce Springsteen",
           149,
           "real"
          ],
          [
           "Emily Brontë",
           124,
           "real"
          ],
          [
           "Teresa of Ávila",
           167,
           "real"
          ],
          [
           "John Lennon",
           141,
           "real"
          ],
          [
           "Charlie Chaplin",
           166,
           "real"
          ],
          [
           "Kurt Cobain",
           159,
           "real"
          ],
          [
           "Oscar Wilde",
           198,
           "real"
          ],
          [
           "Richard Nixon",
           186,
           "real"
          ],
          [
           "Muhammad Ali",
           208,
           "real"
          ],
          [
           "Helen Keller",
           217,
           "real"
          ],
          [
           "Steve Jobs",
           163,
           "real"
          ],
          [
           "Oprah Winfrey",
           187,
           "real"
          ],
          [
           "Barack Obama",
           191,
           "real"
          ],
          [
           "Xi Jinping",
           164,
           "real"
          ],
          [
           "Kim Jong Un",
           132,
           "real"
          ],
          [
           "Narendra Modi",
           168,
           "real"
          ],
          [
           "Aung San Suu Kyi",
           174,
           "real"
          ]
         ],
         "hovertemplate": "label=0<br>data_type=celebrity<br>pca1=%{x}<br>pca2=%{y}<br>input/output=%{customdata[0]}<br>output_length=%{customdata[1]}<br>switch=%{customdata[2]}<extra></extra>",
         "legendgroup": "0, celebrity",
         "marker": {
          "color": "#009668",
          "symbol": "diamond"
         },
         "mode": "markers",
         "name": "0, celebrity",
         "orientation": "v",
         "showlegend": true,
         "type": "scatter",
         "x": [
          -0.35430909010723577,
          -0.48932150239697325,
          -0.4363224225404176,
          -0.4458969471009097,
          -0.32796392683253944,
          -0.31364114543958976,
          -0.6127150401883843,
          -0.39384804705134147,
          -0.3765356431918498,
          -0.36684450829276427,
          -0.35572311108270865,
          -0.7143513658179576,
          -0.45075825317710183,
          -0.2056613425129103,
          -0.41896341158109834,
          -0.24485856699396097,
          -0.050152336680948734,
          -0.4704487077064155,
          -0.33739665039744576,
          -0.46485074374082225,
          -0.3319149868838358,
          -0.4529867861646624,
          -0.6164407169516971,
          -0.33975631874655854,
          -0.16812483022191058,
          -0.47105305087260085,
          -0.46699705482949916,
          -0.12271848397838106,
          -0.33511303477799237,
          -0.10897720425309414,
          -0.3985366134624351,
          -0.5297740348631595,
          -0.1889149976475359,
          -0.45226531341793885,
          -0.38755223625263374,
          -0.3725962296050118,
          -0.41556218646629645,
          -0.3729330219368721,
          -0.33295006338991123,
          -0.4034124144583183,
          -0.34815965998752846,
          -0.48685560593284816,
          -0.27993629712131773,
          -0.34630901069086656,
          -0.41072943169969295,
          -0.40962146401404037,
          -0.429124479793909,
          -0.1309192181100937,
          -0.19211785755989302,
          -0.38511568469225504,
          -0.40458983986644276,
          -0.11814871318309242,
          -0.131661796105284,
          0.00569910651629257,
          -0.08604462536554001,
          -0.20690144070839744,
          -0.3191820339021783,
          -0.41638844729451774,
          -0.5150140224154702,
          -0.16873609716160357,
          -0.12352720663642111,
          -0.20646144019236007,
          -0.4370688081723549,
          -0.40513517077694955,
          -0.1054995555035895,
          -0.14443129353590606,
          -0.3704338703012903,
          -0.32160143178419764,
          -0.33179506755416643,
          0.23356291721489397,
          0.005510135434828256,
          -0.4345409722058801,
          -0.18835935456731306,
          0.01597568033689238,
          -0.0984029332180772,
          -0.14988009118858348,
          -0.1559711800996801,
          -0.35377307728703633,
          -0.46853753785875335,
          -0.5529899984479696,
          -0.49435792064502276,
          -0.4206182398322773,
          -0.19168672533946707,
          -0.4363044540660652,
          -0.19893812358078503
         ],
         "xaxis": "x",
         "y": [
          0.1305030239663493,
          0.06217403558433312,
          0.05428898019070758,
          0.25824845572328503,
          0.13681914173310075,
          -0.07316024647831161,
          0.09870758746310487,
          0.142162334876581,
          0.04052002866902245,
          0.08055794703844545,
          0.23140639979678101,
          0.0605741454894702,
          -0.0008883092104270632,
          -0.0565471990947714,
          0.20413958670323137,
          0.10269333784252657,
          0.05514062285094054,
          0.03687329269240292,
          0.04651259395413293,
          -0.01784955239909196,
          0.10843715051632366,
          0.03427339904651122,
          0.10515622770017706,
          -0.018536803616360134,
          -0.09615826534840752,
          0.1870546459477801,
          -0.002265196510682606,
          -0.09058937412053811,
          -0.06564162660528018,
          -0.02142555814278689,
          0.07974275209441524,
          0.14696961958494412,
          0.010095133542149347,
          0.1308773879375626,
          0.10164873259345741,
          0.20544105418302042,
          -0.013979798159248782,
          0.013496242168518177,
          0.15105327640243837,
          0.18171029281098947,
          0.09708082414514396,
          0.21027007405783574,
          0.10426894109297513,
          0.05527761874962483,
          0.12359454359006196,
          -0.0189494237252464,
          0.047918262225437866,
          -0.04849377400905379,
          0.06201121636209572,
          0.06898036746459266,
          0.0707482159692358,
          0.00591509187984255,
          -0.19448910403386815,
          0.10749016100581968,
          0.05260419449679575,
          -0.11029457881146087,
          0.09858693715529535,
          0.02511157416258138,
          0.10862318319509923,
          -0.06144361785265687,
          -0.03560088774938172,
          0.05821936535987697,
          0.24244583883714863,
          0.07935557174032724,
          0.0901669629117356,
          0.17459740591021825,
          0.23699059375948442,
          0.05378122217975181,
          0.04958368099803226,
          0.056684378399527405,
          0.15796301209103403,
          0.1796041016295723,
          0.08895207634658078,
          -0.0403354737708626,
          0.10871286675675636,
          -0.06360525362110007,
          0.007261347802123189,
          0.1349950283365312,
          0.16526787890644187,
          0.14202241183405379,
          0.11359315122926877,
          0.24494335933320252,
          0.015051522212305716,
          0.10612261316554529,
          0.18313953752887221
         ],
         "yaxis": "y"
        },
        {
         "customdata": [
          [
           "Darien Hawthorne",
           164,
           "fake"
          ],
          [
           "Leandra Rivers",
           142,
           "fake"
          ],
          [
           "Elara Meadows",
           173,
           "fake"
          ],
          [
           "Liora Ashby",
           212,
           "fake"
          ],
          [
           "Thaddeus Sterling",
           170,
           "fake"
          ],
          [
           "Seraphina Winter",
           178,
           "fake"
          ],
          [
           "Declan Monroe",
           142,
           "fake"
          ],
          [
           "Zephyr Callahan",
           158,
           "fake"
          ],
          [
           "Lyra Whitaker",
           170,
           "fake"
          ],
          [
           "Boris kovelev",
           155,
           "fake"
          ],
          [
           "Alessia Rossi",
           191,
           "fake"
          ],
          [
           "Henrik Bergström",
           140,
           "fake"
          ],
          [
           "Isabella Novák",
           131,
           "fake"
          ],
          [
           "Lucas Müller",
           180,
           "fake"
          ],
          [
           "Sofia Kostas",
           160,
           "fake"
          ],
          [
           "jean-pierre Perrez",
           116,
           "fake"
          ],
          [
           "Haruki Suzuki",
           161,
           "fake"
          ],
          [
           "Mei Pin",
           167,
           "fake"
          ],
          [
           "Haeki Wei",
           178,
           "fake"
          ],
          [
           "Thibault Ricard",
           137,
           "fake"
          ],
          [
           "Li Yamamoto",
           160,
           "fake"
          ],
          [
           "Surya Gupta",
           135,
           "fake"
          ],
          [
           "Yann Fujimoto",
           169,
           "fake"
          ],
          [
           "Camila Santos",
           177,
           "fake"
          ],
          [
           "Mateo Rodriguez",
           126,
           "fake"
          ],
          [
           "Gabriel Herrera",
           154,
           "fake"
          ],
          [
           "Valentina Silva",
           145,
           "fake"
          ],
          [
           "Alejandro chavez",
           218,
           "fake"
          ],
          [
           "Adamma Nwosu",
           173,
           "fake"
          ],
          [
           "Kwame Osei",
           125,
           "fake"
          ],
          [
           "Asha Nkrumah",
           188,
           "fake"
          ],
          [
           "Jabari Mbeki",
           125,
           "fake"
          ],
          [
           "Sanaa Diop",
           137,
           "fake"
          ],
          [
           "Oluwa Adeyemi",
           143,
           "fake"
          ],
          [
           "Tafari Asante",
           154,
           "fake"
          ],
          [
           "Amina Dube",
           213,
           "fake"
          ],
          [
           "Kofi Abimbola",
           165,
           "fake"
          ],
          [
           "Tane Ngata",
           210,
           "fake"
          ],
          [
           "Moana Mahana",
           172,
           "fake"
          ],
          [
           "Aroha Tamati",
           157,
           "fake"
          ],
          [
           "Kai Tehei",
           145,
           "fake"
          ],
          [
           "Marama Pōtiki",
           158,
           "fake"
          ],
          [
           "Rangi Tavita",
           204,
           "fake"
          ],
          [
           "Hine Rehua",
           131,
           "fake"
          ],
          [
           "Manaia Whakarua",
           139,
           "fake"
          ],
          [
           "Kiri Waimarie",
           174,
           "fake"
          ],
          [
           "John Ngaio",
           157,
           "fake"
          ],
          [
           "Amir al-Farsi",
           208,
           "fake"
          ],
          [
           "Layla Nassar",
           163,
           "fake"
          ],
          [
           "Farid Khoury",
           161,
           "fake"
          ],
          [
           "Samira Alawi",
           136,
           "fake"
          ],
          [
           "Karim Hassan",
           165,
           "fake"
          ],
          [
           "Leila Rizvi",
           190,
           "fake"
          ],
          [
           "Zahir Mansour",
           149,
           "fake"
          ],
          [
           "Aisha Qadri",
           177,
           "fake"
          ],
          [
           "Alfred Abbasi",
           151,
           "fake"
          ],
          [
           "Yousef Khalid",
           145,
           "fake"
          ],
          [
           "Arjuna Tan",
           187,
           "fake"
          ],
          [
           "Hera Nurul",
           161,
           "fake"
          ],
          [
           "Christopher Nguyen",
           157,
           "fake"
          ],
          [
           "Aisha Ebrahim",
           144,
           "fake"
          ],
          [
           "Prabhu Rajan",
           153,
           "fake"
          ],
          [
           "Surya Dewi",
           187,
           "fake"
          ],
          [
           "Kritika Sharma",
           157,
           "fake"
          ],
          [
           "Somchai Pong",
           155,
           "fake"
          ],
          [
           "Patrik Sari",
           181,
           "fake"
          ]
         ],
         "hovertemplate": "label=1<br>data_type=celebrity<br>pca1=%{x}<br>pca2=%{y}<br>input/output=%{customdata[0]}<br>output_length=%{customdata[1]}<br>switch=%{customdata[2]}<extra></extra>",
         "legendgroup": "1, celebrity",
         "marker": {
          "color": "#ce93d8",
          "symbol": "diamond"
         },
         "mode": "markers",
         "name": "1, celebrity",
         "orientation": "v",
         "showlegend": true,
         "type": "scatter",
         "x": [
          0.783273546740834,
          0.79671878979764,
          0.08823148259161266,
          0.43489246623860844,
          0.7062273795800557,
          0.32802987711548864,
          0.3521730654984119,
          0.42077194470812396,
          0.4694151920742891,
          0.37495128166772246,
          0.18862035609392902,
          0.4161002069642127,
          0.41091462667836415,
          0.3940235482908636,
          0.7140805754563875,
          0.41154427623853884,
          0.4309782427501604,
          0.6491583497658276,
          0.309171712556877,
          0.35510217987691517,
          0.6057278754799685,
          0.38464728271655946,
          0.6032093072855722,
          0.20735649357525773,
          0.40696465080687216,
          0.6145594188050094,
          0.3638206490954594,
          0.0828013638082363,
          0.3214512900998346,
          0.509844106664088,
          0.2818897235190362,
          0.3089919135404733,
          0.3274900509976897,
          0.48749635235445793,
          0.35749024460776696,
          0.27907401594074743,
          0.5343688270275968,
          0.2039810553555228,
          0.048080927832881606,
          0.37478658210236937,
          0.44018950354965153,
          0.37087513191585547,
          0.22643826466561,
          0.43529245560450924,
          0.39746691428158304,
          0.4481033110224375,
          0.45303944234546145,
          0.31524822313867945,
          0.6300292702149365,
          0.6624152894267775,
          0.33184695587240287,
          0.6355734512082032,
          0.3485902151525289,
          0.3445935606859928,
          0.22566208570163337,
          0.5570263826815562,
          0.6830152894172493,
          0.41694982758886334,
          0.44706249230644035,
          0.41395415966718707,
          0.3492630795154594,
          0.5515118143516511,
          0.3276718099752023,
          0.2624411780632586,
          0.25827159308712655,
          0.3433217471694206
         ],
         "xaxis": "x",
         "y": [
          -0.1074679029170098,
          -0.09861150534740523,
          -0.16302094817106477,
          -0.12277650221754392,
          -0.23561272309480794,
          -0.17972652349053447,
          -0.2115145203846026,
          -0.21723853452134748,
          -0.22364593758772902,
          -0.03450278737415441,
          -0.11648699462030612,
          0.03601974333500772,
          -0.07533925295393439,
          -0.06751356980013856,
          -0.010859198028303483,
          -0.09630843586126787,
          -0.15290217675412746,
          -0.09769970463775549,
          0.08153682257985834,
          -0.011105988893758231,
          -0.18021073833064083,
          0.0037380557512030343,
          -0.10532677706878882,
          -0.028179735434854435,
          -0.05836961705705252,
          -0.21538998573658946,
          -0.19015989357981414,
          0.01600275707484919,
          -0.01549353436266758,
          -0.0478658521534455,
          -0.01463863862453015,
          -0.013447036354878948,
          -0.009690045945366182,
          0.03190308670765385,
          -0.014102981817207878,
          -0.12441029909735232,
          -0.04637581601578487,
          -0.16729956230463983,
          -0.02737897994489897,
          -0.2110939126668199,
          -0.13625244322760174,
          -0.11781440163041848,
          -0.008558406046452117,
          -0.1209229017700338,
          -0.036975865947339634,
          -0.2200650582179979,
          -0.19764611444170152,
          -0.04186131815109766,
          -0.030085553206658847,
          -0.0723229970668802,
          -0.015803431092107276,
          -0.15079935047776782,
          -0.07741419416959973,
          -0.050134622888378895,
          -0.0943717187904335,
          -0.18800107728556245,
          -0.002600871693319559,
          -0.2297517342775983,
          -0.1139775526776932,
          -0.21609574253700403,
          -0.05024421500054039,
          -0.08181547816883933,
          -0.0017701544720824594,
          -0.1156664994082915,
          -0.13927806214866612,
          -0.06216260616736156
         ],
         "yaxis": "y"
        }
       ],
       "layout": {
        "coloraxis": {
         "colorbar": {
          "ticks": "outside",
          "x": -0.2,
          "y": 1,
          "yanchor": "top"
         }
        },
        "height": 700,
        "legend": {
         "title": {
          "text": "label, data_type"
         },
         "tracegroupgap": 0
        },
        "margin": {
         "t": 60
        },
        "template": {
         "data": {
          "bar": [
           {
            "error_x": {
             "color": "#2a3f5f"
            },
            "error_y": {
             "color": "#2a3f5f"
            },
            "marker": {
             "line": {
              "color": "#E5ECF6",
              "width": 0.5
             },
             "pattern": {
              "fillmode": "overlay",
              "size": 10,
              "solidity": 0.2
             }
            },
            "type": "bar"
           }
          ],
          "barpolar": [
           {
            "marker": {
             "line": {
              "color": "#E5ECF6",
              "width": 0.5
             },
             "pattern": {
              "fillmode": "overlay",
              "size": 10,
              "solidity": 0.2
             }
            },
            "type": "barpolar"
           }
          ],
          "carpet": [
           {
            "aaxis": {
             "endlinecolor": "#2a3f5f",
             "gridcolor": "white",
             "linecolor": "white",
             "minorgridcolor": "white",
             "startlinecolor": "#2a3f5f"
            },
            "baxis": {
             "endlinecolor": "#2a3f5f",
             "gridcolor": "white",
             "linecolor": "white",
             "minorgridcolor": "white",
             "startlinecolor": "#2a3f5f"
            },
            "type": "carpet"
           }
          ],
          "choropleth": [
           {
            "colorbar": {
             "outlinewidth": 0,
             "ticks": ""
            },
            "type": "choropleth"
           }
          ],
          "contour": [
           {
            "colorbar": {
             "outlinewidth": 0,
             "ticks": ""
            },
            "colorscale": [
             [
              0,
              "#0d0887"
             ],
             [
              0.1111111111111111,
              "#46039f"
             ],
             [
              0.2222222222222222,
              "#7201a8"
             ],
             [
              0.3333333333333333,
              "#9c179e"
             ],
             [
              0.4444444444444444,
              "#bd3786"
             ],
             [
              0.5555555555555556,
              "#d8576b"
             ],
             [
              0.6666666666666666,
              "#ed7953"
             ],
             [
              0.7777777777777778,
              "#fb9f3a"
             ],
             [
              0.8888888888888888,
              "#fdca26"
             ],
             [
              1,
              "#f0f921"
             ]
            ],
            "type": "contour"
           }
          ],
          "contourcarpet": [
           {
            "colorbar": {
             "outlinewidth": 0,
             "ticks": ""
            },
            "type": "contourcarpet"
           }
          ],
          "heatmap": [
           {
            "colorbar": {
             "outlinewidth": 0,
             "ticks": ""
            },
            "colorscale": [
             [
              0,
              "#0d0887"
             ],
             [
              0.1111111111111111,
              "#46039f"
             ],
             [
              0.2222222222222222,
              "#7201a8"
             ],
             [
              0.3333333333333333,
              "#9c179e"
             ],
             [
              0.4444444444444444,
              "#bd3786"
             ],
             [
              0.5555555555555556,
              "#d8576b"
             ],
             [
              0.6666666666666666,
              "#ed7953"
             ],
             [
              0.7777777777777778,
              "#fb9f3a"
             ],
             [
              0.8888888888888888,
              "#fdca26"
             ],
             [
              1,
              "#f0f921"
             ]
            ],
            "type": "heatmap"
           }
          ],
          "heatmapgl": [
           {
            "colorbar": {
             "outlinewidth": 0,
             "ticks": ""
            },
            "colorscale": [
             [
              0,
              "#0d0887"
             ],
             [
              0.1111111111111111,
              "#46039f"
             ],
             [
              0.2222222222222222,
              "#7201a8"
             ],
             [
              0.3333333333333333,
              "#9c179e"
             ],
             [
              0.4444444444444444,
              "#bd3786"
             ],
             [
              0.5555555555555556,
              "#d8576b"
             ],
             [
              0.6666666666666666,
              "#ed7953"
             ],
             [
              0.7777777777777778,
              "#fb9f3a"
             ],
             [
              0.8888888888888888,
              "#fdca26"
             ],
             [
              1,
              "#f0f921"
             ]
            ],
            "type": "heatmapgl"
           }
          ],
          "histogram": [
           {
            "marker": {
             "pattern": {
              "fillmode": "overlay",
              "size": 10,
              "solidity": 0.2
             }
            },
            "type": "histogram"
           }
          ],
          "histogram2d": [
           {
            "colorbar": {
             "outlinewidth": 0,
             "ticks": ""
            },
            "colorscale": [
             [
              0,
              "#0d0887"
             ],
             [
              0.1111111111111111,
              "#46039f"
             ],
             [
              0.2222222222222222,
              "#7201a8"
             ],
             [
              0.3333333333333333,
              "#9c179e"
             ],
             [
              0.4444444444444444,
              "#bd3786"
             ],
             [
              0.5555555555555556,
              "#d8576b"
             ],
             [
              0.6666666666666666,
              "#ed7953"
             ],
             [
              0.7777777777777778,
              "#fb9f3a"
             ],
             [
              0.8888888888888888,
              "#fdca26"
             ],
             [
              1,
              "#f0f921"
             ]
            ],
            "type": "histogram2d"
           }
          ],
          "histogram2dcontour": [
           {
            "colorbar": {
             "outlinewidth": 0,
             "ticks": ""
            },
            "colorscale": [
             [
              0,
              "#0d0887"
             ],
             [
              0.1111111111111111,
              "#46039f"
             ],
             [
              0.2222222222222222,
              "#7201a8"
             ],
             [
              0.3333333333333333,
              "#9c179e"
             ],
             [
              0.4444444444444444,
              "#bd3786"
             ],
             [
              0.5555555555555556,
              "#d8576b"
             ],
             [
              0.6666666666666666,
              "#ed7953"
             ],
             [
              0.7777777777777778,
              "#fb9f3a"
             ],
             [
              0.8888888888888888,
              "#fdca26"
             ],
             [
              1,
              "#f0f921"
             ]
            ],
            "type": "histogram2dcontour"
           }
          ],
          "mesh3d": [
           {
            "colorbar": {
             "outlinewidth": 0,
             "ticks": ""
            },
            "type": "mesh3d"
           }
          ],
          "parcoords": [
           {
            "line": {
             "colorbar": {
              "outlinewidth": 0,
              "ticks": ""
             }
            },
            "type": "parcoords"
           }
          ],
          "pie": [
           {
            "automargin": true,
            "type": "pie"
           }
          ],
          "scatter": [
           {
            "fillpattern": {
             "fillmode": "overlay",
             "size": 10,
             "solidity": 0.2
            },
            "type": "scatter"
           }
          ],
          "scatter3d": [
           {
            "line": {
             "colorbar": {
              "outlinewidth": 0,
              "ticks": ""
             }
            },
            "marker": {
             "colorbar": {
              "outlinewidth": 0,
              "ticks": ""
             }
            },
            "type": "scatter3d"
           }
          ],
          "scattercarpet": [
           {
            "marker": {
             "colorbar": {
              "outlinewidth": 0,
              "ticks": ""
             }
            },
            "type": "scattercarpet"
           }
          ],
          "scattergeo": [
           {
            "marker": {
             "colorbar": {
              "outlinewidth": 0,
              "ticks": ""
             }
            },
            "type": "scattergeo"
           }
          ],
          "scattergl": [
           {
            "marker": {
             "colorbar": {
              "outlinewidth": 0,
              "ticks": ""
             }
            },
            "type": "scattergl"
           }
          ],
          "scattermapbox": [
           {
            "marker": {
             "colorbar": {
              "outlinewidth": 0,
              "ticks": ""
             }
            },
            "type": "scattermapbox"
           }
          ],
          "scatterpolar": [
           {
            "marker": {
             "colorbar": {
              "outlinewidth": 0,
              "ticks": ""
             }
            },
            "type": "scatterpolar"
           }
          ],
          "scatterpolargl": [
           {
            "marker": {
             "colorbar": {
              "outlinewidth": 0,
              "ticks": ""
             }
            },
            "type": "scatterpolargl"
           }
          ],
          "scatterternary": [
           {
            "marker": {
             "colorbar": {
              "outlinewidth": 0,
              "ticks": ""
             }
            },
            "type": "scatterternary"
           }
          ],
          "surface": [
           {
            "colorbar": {
             "outlinewidth": 0,
             "ticks": ""
            },
            "colorscale": [
             [
              0,
              "#0d0887"
             ],
             [
              0.1111111111111111,
              "#46039f"
             ],
             [
              0.2222222222222222,
              "#7201a8"
             ],
             [
              0.3333333333333333,
              "#9c179e"
             ],
             [
              0.4444444444444444,
              "#bd3786"
             ],
             [
              0.5555555555555556,
              "#d8576b"
             ],
             [
              0.6666666666666666,
              "#ed7953"
             ],
             [
              0.7777777777777778,
              "#fb9f3a"
             ],
             [
              0.8888888888888888,
              "#fdca26"
             ],
             [
              1,
              "#f0f921"
             ]
            ],
            "type": "surface"
           }
          ],
          "table": [
           {
            "cells": {
             "fill": {
              "color": "#EBF0F8"
             },
             "line": {
              "color": "white"
             }
            },
            "header": {
             "fill": {
              "color": "#C8D4E3"
             },
             "line": {
              "color": "white"
             }
            },
            "type": "table"
           }
          ]
         },
         "layout": {
          "annotationdefaults": {
           "arrowcolor": "#2a3f5f",
           "arrowhead": 0,
           "arrowwidth": 1
          },
          "autotypenumbers": "strict",
          "coloraxis": {
           "colorbar": {
            "outlinewidth": 0,
            "ticks": ""
           }
          },
          "colorscale": {
           "diverging": [
            [
             0,
             "#8e0152"
            ],
            [
             0.1,
             "#c51b7d"
            ],
            [
             0.2,
             "#de77ae"
            ],
            [
             0.3,
             "#f1b6da"
            ],
            [
             0.4,
             "#fde0ef"
            ],
            [
             0.5,
             "#f7f7f7"
            ],
            [
             0.6,
             "#e6f5d0"
            ],
            [
             0.7,
             "#b8e186"
            ],
            [
             0.8,
             "#7fbc41"
            ],
            [
             0.9,
             "#4d9221"
            ],
            [
             1,
             "#276419"
            ]
           ],
           "sequential": [
            [
             0,
             "#0d0887"
            ],
            [
             0.1111111111111111,
             "#46039f"
            ],
            [
             0.2222222222222222,
             "#7201a8"
            ],
            [
             0.3333333333333333,
             "#9c179e"
            ],
            [
             0.4444444444444444,
             "#bd3786"
            ],
            [
             0.5555555555555556,
             "#d8576b"
            ],
            [
             0.6666666666666666,
             "#ed7953"
            ],
            [
             0.7777777777777778,
             "#fb9f3a"
            ],
            [
             0.8888888888888888,
             "#fdca26"
            ],
            [
             1,
             "#f0f921"
            ]
           ],
           "sequentialminus": [
            [
             0,
             "#0d0887"
            ],
            [
             0.1111111111111111,
             "#46039f"
            ],
            [
             0.2222222222222222,
             "#7201a8"
            ],
            [
             0.3333333333333333,
             "#9c179e"
            ],
            [
             0.4444444444444444,
             "#bd3786"
            ],
            [
             0.5555555555555556,
             "#d8576b"
            ],
            [
             0.6666666666666666,
             "#ed7953"
            ],
            [
             0.7777777777777778,
             "#fb9f3a"
            ],
            [
             0.8888888888888888,
             "#fdca26"
            ],
            [
             1,
             "#f0f921"
            ]
           ]
          },
          "colorway": [
           "#636efa",
           "#EF553B",
           "#00cc96",
           "#ab63fa",
           "#FFA15A",
           "#19d3f3",
           "#FF6692",
           "#B6E880",
           "#FF97FF",
           "#FECB52"
          ],
          "font": {
           "color": "#2a3f5f"
          },
          "geo": {
           "bgcolor": "white",
           "lakecolor": "white",
           "landcolor": "#E5ECF6",
           "showlakes": true,
           "showland": true,
           "subunitcolor": "white"
          },
          "hoverlabel": {
           "align": "left"
          },
          "hovermode": "closest",
          "mapbox": {
           "style": "light"
          },
          "paper_bgcolor": "white",
          "plot_bgcolor": "#E5ECF6",
          "polar": {
           "angularaxis": {
            "gridcolor": "white",
            "linecolor": "white",
            "ticks": ""
           },
           "bgcolor": "#E5ECF6",
           "radialaxis": {
            "gridcolor": "white",
            "linecolor": "white",
            "ticks": ""
           }
          },
          "scene": {
           "xaxis": {
            "backgroundcolor": "#E5ECF6",
            "gridcolor": "white",
            "gridwidth": 2,
            "linecolor": "white",
            "showbackground": true,
            "ticks": "",
            "zerolinecolor": "white"
           },
           "yaxis": {
            "backgroundcolor": "#E5ECF6",
            "gridcolor": "white",
            "gridwidth": 2,
            "linecolor": "white",
            "showbackground": true,
            "ticks": "",
            "zerolinecolor": "white"
           },
           "zaxis": {
            "backgroundcolor": "#E5ECF6",
            "gridcolor": "white",
            "gridwidth": 2,
            "linecolor": "white",
            "showbackground": true,
            "ticks": "",
            "zerolinecolor": "white"
           }
          },
          "shapedefaults": {
           "line": {
            "color": "#2a3f5f"
           }
          },
          "ternary": {
           "aaxis": {
            "gridcolor": "white",
            "linecolor": "white",
            "ticks": ""
           },
           "baxis": {
            "gridcolor": "white",
            "linecolor": "white",
            "ticks": ""
           },
           "bgcolor": "#E5ECF6",
           "caxis": {
            "gridcolor": "white",
            "linecolor": "white",
            "ticks": ""
           }
          },
          "title": {
           "x": 0.05
          },
          "xaxis": {
           "automargin": true,
           "gridcolor": "white",
           "linecolor": "white",
           "ticks": "",
           "title": {
            "standoff": 15
           },
           "zerolinecolor": "white",
           "zerolinewidth": 2
          },
          "yaxis": {
           "automargin": true,
           "gridcolor": "white",
           "linecolor": "white",
           "ticks": "",
           "title": {
            "standoff": 15
           },
           "zerolinecolor": "white",
           "zerolinewidth": 2
          }
         }
        },
        "width": 1000,
        "xaxis": {
         "anchor": "y",
         "domain": [
          0,
          1
         ],
         "title": {
          "text": "pca1"
         }
        },
        "yaxis": {
         "anchor": "x",
         "domain": [
          0,
          1
         ],
         "title": {
          "text": "pca2"
         }
        }
       }
      }
     },
     "metadata": {},
     "output_type": "display_data"
    }
   ],
   "source": [
    "\n",
    "# df_modified = df[df[\"label\"] ]\n",
    "# df_modified = df[df[\"layer_id\"] == 16]\n",
    "# df_modified = df_modified[(df_modified[\"label\"] < 2) | (df_modified[\"label\"] > 3)]\n",
    "# df_modified = df_modified[df_modified[\"sufix\"] == 1]\n",
    "# df_modified = df_modified[df_modified[\"output_length\"] < 20]\n",
    "# print(df_modified.head()[\"label\"])\n",
    "# print(set(df_modified[data_type]))\n",
    "df_modified = df.copy()\n",
    "df_modified[\"label\"] = df_modified[\"label\"].astype(str)\n",
    "df_modified[\"random_value\"] = np.random.rand(len(df_modified))\n",
    "\n",
    "scatter = px.scatter(df_modified, x='pca1', y='pca2',\n",
    "                     color=\"label\",\n",
    "                    #  size='output_length', \n",
    "                     symbol= \"data_type\",\n",
    "                     hover_data=[\"input/output\", \"output_length\", \"switch\"],\n",
    "                     color_discrete_sequence=color_selction)\n",
    "\n",
    "scatter.update_layout(\n",
    "    # autosize=True,\n",
    "    width=1000,\n",
    "    height=700,)\n",
    "\n",
    "scatter.update_layout(coloraxis_colorbar=dict(yanchor=\"top\", y=1, x=-0.2,\n",
    "                                          ticks=\"outside\"))\n",
    "\n",
    "scatter.show()"
   ]
  },
  {
   "cell_type": "code",
   "execution_count": 17,
   "metadata": {},
   "outputs": [],
   "source": [
    "from sklearn.decomposition import FactorAnalysis\n",
    "from sklearn.preprocessing import StandardScaler\n",
    "\n"
   ]
  },
  {
   "cell_type": "markdown",
   "metadata": {},
   "source": [
    "## Save additive vector from the projcetion\n",
    "\n"
   ]
  },
  {
   "cell_type": "code",
   "execution_count": 20,
   "metadata": {},
   "outputs": [
    {
     "name": "stdout",
     "output_type": "stream",
     "text": [
      "4096\n",
      "[10 10 10 ... 10 10 10]\n",
      "[[ -5.12794235  -4.26938968 -19.42812186  -5.84813226]]\n",
      "[-0.32016782  0.07170539  0.12036972  0.07798783] [ 0.41233734 -0.09234786 -0.15502161 -0.10043887]\n",
      "[ 0.73250516 -0.16405325 -0.27539133 -0.1784267 ]\n",
      "[ 0.89412796 -0.2002506  -0.33615475 -0.21779546]\n",
      "[ 0.01982057  0.03634946  0.01929761 ...  0.02125837 -0.00752406\n",
      " -0.01121382]\n",
      "[[ 2.68238389 -0.6007518  -1.00846426 -0.65338638]]\n"
     ]
    }
   ],
   "source": [
    "vect_length = len(data_list[0].activations[0][0])\n",
    "print(vect_length)\n",
    "# vect_length = 12288\n",
    "x = np.array([10]*vect_length)\n",
    "print(x)\n",
    "x = proj.transform([x])\n",
    "print(x)\n",
    "\n",
    "# LDA give the proj matrix:\n",
    "if False:\n",
    "    print(proj.scalings_.shape)\n",
    "    w = proj.scalings_[:, 0]\n",
    "    w_T_w = np.dot(w, w)\n",
    "    xn = (1 / w_T_w) * w\n",
    "    print(xn)\n",
    "    print(proj.transform([xn]))\n",
    "\n",
    "# PCA give the inverse transform of this values:\n",
    "if True:\n",
    "    class1 = df_modified[df_modified[\"label\"] == \"0\"]\n",
    "    class2 = df_modified[df_modified[\"label\"]==\"1\"]\n",
    "    mean1 = class1[[\"pca1\", \"pca2\", \"pca3\", \"pca4\"]].to_numpy().mean(axis=0)\n",
    "    mean2 = class2[[\"pca1\", \"pca2\", \"pca3\", \"pca4\"]].to_numpy().mean(axis=0)\n",
    "\n",
    "    print(mean1, mean2)\n",
    "\n",
    "    proj_unit_delt = mean2 - mean1\n",
    "\n",
    "    print(proj_unit_delt)\n",
    "\n",
    "    proj_unit_delt = proj_unit_delt/np.linalg.norm(proj_unit_delt)\n",
    "\n",
    "    print(proj_unit_delt)\n",
    "\n",
    "    xn = proj.inverse_transform(proj_unit_delt * 3)\n",
    "    print(xn)\n",
    "    print(proj.transform([xn]))\n",
    "\n",
    "    import pickle\n",
    "    proj_file = open('../inference_data/proj2.pkl', 'wb')\n",
    "    unit_file = open('../inference_data/unit_delta2.pkl', 'wb')\n",
    "    pickle.dump(proj, proj_file)\n",
    "    pickle.dump(proj_unit_delt, unit_file)\n",
    "    proj_file.close() , unit_file.close()\n"
   ]
  },
  {
   "cell_type": "markdown",
   "metadata": {},
   "source": [
    "## Use probes for quantitative evaluation"
   ]
  },
  {
   "cell_type": "code",
   "execution_count": 21,
   "metadata": {},
   "outputs": [
    {
     "data": {
      "text/plain": [
       "<module 'probes' from '/home/thibaua25/Documents/Prog/LLMs/mri_llm/notebooks/../probes.py'>"
      ]
     },
     "execution_count": 21,
     "metadata": {},
     "output_type": "execute_result"
    }
   ],
   "source": [
    "import probes\n",
    "reload(probes)"
   ]
  },
  {
   "cell_type": "code",
   "execution_count": 27,
   "metadata": {},
   "outputs": [
    {
     "data": {
      "text/plain": [
       "1.0"
      ]
     },
     "execution_count": 27,
     "metadata": {},
     "output_type": "execute_result"
    }
   ],
   "source": [
    "# split data\n",
    "split_condition1 = df[\"data_type\"]==\"english_word\"\n",
    "split_condition2 = df[\"output_length\"] < 10\n",
    "train_df = df[split_condition1]\n",
    "eval_df = df[~split_condition1]\n",
    "\n",
    "# layernb = 16\n",
    "# train_df = train_df[train_df[\"layer_id\"] == layernb]\n",
    "# eval_df = eval_df[eval_df[\"layer_id\"] == layernb]\n",
    "\n",
    "\n",
    "# format for training\n",
    "x = train_df[['pca1', 'pca2', 'pca3', 'pca4']].to_numpy()\n",
    "# x = train_df[['pca1', 'pca2']].to_numpy()\n",
    "# x = train_df[['pca1']].to_numpy()\n",
    "y = train_df['label'].to_numpy()\n",
    "y = y - np.min(y)\n",
    "\n",
    "# train mean mass probe\n",
    "mmp = probes.MMProbe.from_data(x, y)\n",
    "\n",
    "# trian Linear separation\n",
    "from sklearn import svm\n",
    "reg = svm.SVC().fit(x, y)\n",
    "reg.score(x, y)"
   ]
  },
  {
   "cell_type": "code",
   "execution_count": 28,
   "metadata": {},
   "outputs": [
    {
     "name": "stdout",
     "output_type": "stream",
     "text": [
      "[0. 0. 0. 0. 0. 0. 0. 0. 0. 0. 0. 0. 0. 0. 0. 0. 0. 0. 0. 0. 0. 0. 0. 0.\n",
      " 0. 0. 0. 0. 0. 0. 0. 0. 0. 0. 0. 0. 0. 0. 0. 0. 0. 0. 0. 0. 0. 0. 0. 0.\n",
      " 0. 0. 0. 0. 0. 0. 0. 0. 0. 0. 0. 0. 0. 0. 0. 0. 0. 0. 0. 0. 0. 1. 0. 0.\n",
      " 0. 1. 0. 0. 0. 0. 0. 0. 0. 0. 0. 0. 0. 1. 1. 1. 1. 1. 1. 1. 1. 1. 1. 1.\n",
      " 1. 1. 1. 1. 1. 1. 1. 1. 1. 1. 1. 1. 1. 1. 1. 1. 1. 1. 1. 1. 1. 1. 1. 1.\n",
      " 1. 1. 1. 1. 1. 1. 1. 1. 1. 1. 1. 1. 1. 1. 1. 1. 1. 1. 1. 1. 1. 1. 1. 1.\n",
      " 1. 1. 1. 1. 1. 1. 1.]\n",
      "[0 0 0 0 0 0 0 0 0 0 0 0 0 0 0 0 1 0 0 0 0 0 0 0 0 0 0 1 0 1 0 0 0 0 0 0 0\n",
      " 0 0 0 0 0 0 0 0 0 0 0 0 0 0 1 0 1 1 0 0 0 0 1 0 0 0 0 1 1 0 0 0 1 1 0 1 1\n",
      " 1 0 1 0 0 0 0 0 1 0 1 1 1 1 1 1 1 1 1 1 1 1 1 1 1 1 1 1 1 1 1 1 1 1 1 1 1\n",
      " 1 1 1 1 1 1 1 1 1 1 1 1 1 1 1 1 1 1 1 1 1 1 1 1 1 1 1 1 1 1 1 1 1 1 1 1 1\n",
      " 1 1 1]\n",
      "Total cases: 151\n",
      "MMP Success cases: 149.0\n",
      "MMP Failure cases: 1.9999999999999933\n",
      "MMP F1 score: 0.9865849324804549\n",
      "\n",
      "REG Success cases: 134.0\n",
      "REG Failure cases: 17.000000000000004\n",
      "REG F1 score: 0.8873974645786726\n"
     ]
    },
    {
     "name": "stderr",
     "output_type": "stream",
     "text": [
      "/tmp/ipykernel_2463483/2787058184.py:14: SettingWithCopyWarning:\n",
      "\n",
      "\n",
      "A value is trying to be set on a copy of a slice from a DataFrame.\n",
      "Try using .loc[row_indexer,col_indexer] = value instead\n",
      "\n",
      "See the caveats in the documentation: https://pandas.pydata.org/pandas-docs/stable/user_guide/indexing.html#returning-a-view-versus-a-copy\n",
      "\n",
      "/tmp/ipykernel_2463483/2787058184.py:15: SettingWithCopyWarning:\n",
      "\n",
      "\n",
      "A value is trying to be set on a copy of a slice from a DataFrame.\n",
      "Try using .loc[row_indexer,col_indexer] = value instead\n",
      "\n",
      "See the caveats in the documentation: https://pandas.pydata.org/pandas-docs/stable/user_guide/indexing.html#returning-a-view-versus-a-copy\n",
      "\n"
     ]
    }
   ],
   "source": [
    "# eval data\n",
    "x_eval = eval_df[['pca1', 'pca2', 'pca3', 'pca4']].to_numpy()\n",
    "# x_eval = eval_df[['pca1', 'pca2']].to_numpy()\n",
    "# x_eval = eval_df[['pca1']].to_numpy()\n",
    "y_eval = eval_df['label'].to_numpy()\n",
    "y_eval = y_eval - np.min(y_eval)\n",
    "\n",
    "# print(y_eval)\n",
    "MM_prediction = mmp.pred(x_eval)\n",
    "reg_prediction = reg.predict(x_eval)\n",
    "print(MM_prediction.numpy())\n",
    "print(np.array(reg_prediction))\n",
    "\n",
    "eval_df[\"MM_prediction\"] = MM_prediction.numpy()\n",
    "eval_df[\"reg_prediction\"] = np.array(reg_prediction)\n",
    "\n",
    "class_report = classification_report(y_eval, eval_df[\"MM_prediction\"].to_numpy(), output_dict=True)\n",
    "print(\"Total cases:\", len(y_eval))\n",
    "print(\"MMP Success cases:\", class_report[\"accuracy\"]*len(y_eval))\n",
    "print(\"MMP Failure cases:\", (1 - class_report[\"accuracy\"])*len(y_eval))\n",
    "print(\"MMP F1 score:\", class_report['macro avg']['f1-score'])\n",
    "class_report = classification_report(y_eval, eval_df[\"reg_prediction\"].to_numpy(), output_dict=True)\n",
    "print()\n",
    "print(\"REG Success cases:\", class_report[\"accuracy\"]*len(y_eval))\n",
    "print(\"REG Failure cases:\", (1 - class_report[\"accuracy\"])*len(y_eval))\n",
    "print(\"REG F1 score:\", class_report['macro avg']['f1-score'])\n"
   ]
  },
  {
   "cell_type": "markdown",
   "metadata": {},
   "source": [
    "# Remove the data element with low confidence."
   ]
  },
  {
   "cell_type": "code",
   "execution_count": 24,
   "metadata": {},
   "outputs": [
    {
     "name": "stdout",
     "output_type": "stream",
     "text": [
      "Total cases: 151 confident cases: 103\n",
      "Success cases: 103.0\n",
      "Failure cases: 0.0\n",
      "F1 score: 1.0\n"
     ]
    }
   ],
   "source": [
    "loggits = mmp(x_eval).cpu().numpy()\n",
    "\n",
    "confidence = 0.5\n",
    "\n",
    "# print(np.abs(loggits - 0.5))\n",
    "confident_indices = np.where(np.abs(loggits - 0.5) > (0.5 - confidence/2))[0] \n",
    "# print(confident_indices)\n",
    "\n",
    "class_report = classification_report(y_eval[confident_indices], eval_df[\"MM_prediction\"].to_numpy()[confident_indices], output_dict=True)\n",
    "print(\"Total cases:\", len(y_eval), \"confident cases:\", len(y_eval[confident_indices]))\n",
    "print(\"Success cases:\", class_report[\"accuracy\"]*len(y_eval[confident_indices]))\n",
    "print(\"Failure cases:\", (1 - class_report[\"accuracy\"])*len(y_eval[confident_indices]))\n",
    "print(\"F1 score:\", class_report['macro avg']['f1-score'])"
   ]
  },
  {
   "cell_type": "markdown",
   "metadata": {},
   "source": [
    "# Plot Probe classification 2D"
   ]
  },
  {
   "cell_type": "code",
   "execution_count": 25,
   "metadata": {},
   "outputs": [
    {
     "data": {
      "text/plain": [
       "<matplotlib.collections.PathCollection at 0x7f28b8204640>"
      ]
     },
     "execution_count": 25,
     "metadata": {},
     "output_type": "execute_result"
    },
    {
     "data": {
      "image/png": "[encoded data removed]",
      "text/plain": [
       "<Figure size 1000x500 with 1 Axes>"
      ]
     },
     "metadata": {},
     "output_type": "display_data"
    }
   ],
   "source": [
    "from sklearn.inspection import DecisionBoundaryDisplay\n",
    "\n",
    "_, ax = plt.subplots(figsize=(10, 5))\n",
    "DecisionBoundaryDisplay.from_estimator(\n",
    "    reg,\n",
    "    x,\n",
    "    cmap=plt.cm.Paired,\n",
    "    ax=ax,\n",
    "    response_method=\"predict\",\n",
    "    plot_method=\"pcolormesh\",\n",
    "    shading=\"auto\",\n",
    "    xlabel=\"pca1\",\n",
    "    ylabel=\"pca2\",\n",
    "    eps=0.5,\n",
    ")\n",
    "plt.scatter(x[:, 0], x[:, 1], c=y, edgecolors=\"k\", cmap=plt.cm.Paired)\n",
    "plt.scatter(x_eval[:, 0], x_eval[:, 1], c=y_eval, edgecolors=\"k\", cmap=plt.cm.Dark2)"
   ]
  },
  {
   "cell_type": "code",
   "execution_count": 26,
   "metadata": {},
   "outputs": [
    {
     "name": "stderr",
     "output_type": "stream",
     "text": [
      "/tmp/ipykernel_2463483/2100144012.py:1: SettingWithCopyWarning:\n",
      "\n",
      "\n",
      "A value is trying to be set on a copy of a slice from a DataFrame.\n",
      "Try using .loc[row_indexer,col_indexer] = value instead\n",
      "\n",
      "See the caveats in the documentation: https://pandas.pydata.org/pandas-docs/stable/user_guide/indexing.html#returning-a-view-versus-a-copy\n",
      "\n",
      "/tmp/ipykernel_2463483/2100144012.py:2: SettingWithCopyWarning:\n",
      "\n",
      "\n",
      "A value is trying to be set on a copy of a slice from a DataFrame.\n",
      "Try using .loc[row_indexer,col_indexer] = value instead\n",
      "\n",
      "See the caveats in the documentation: https://pandas.pydata.org/pandas-docs/stable/user_guide/indexing.html#returning-a-view-versus-a-copy\n",
      "\n"
     ]
    },
    {
     "data": {
      "application/vnd.plotly.v1+json": {
       "config": {
        "plotlyServerURL": "https://plot.ly"
       },
       "data": [
        {
         "customdata": [
          [
           "Leonardo da Vinci",
           198,
           "real"
          ],
          [
           "Napoleon Bonaparte",
           207,
           "real"
          ],
          [
           "Mahatma Gandhi",
           142,
           "real"
          ],
          [
           "Albert Einstein",
           169,
           "real"
          ],
          [
           "Marilyn Monroe",
           135,
           "real"
          ],
          [
           "Queen Elizabeth I",
           172,
           "real"
          ],
          [
           "Nelson Mandela",
           238,
           "real"
          ],
          [
           "Mother Teresa",
           151,
           "real"
          ],
          [
           "Wolfgang Amadeus Mozart",
           185,
           "real"
          ],
          [
           "Michelangelo",
           201,
           "real"
          ],
          [
           "Karl Marx",
           167,
           "real"
          ],
          [
           "Martin Luther King Jr.",
           258,
           "real"
          ],
          [
           "Alexander Hamilton",
           195,
           "real"
          ],
          [
           "Thomas Edison",
           203,
           "real"
          ],
          [
           "Charles Darwin",
           200,
           "real"
          ],
          [
           "Marie Curie",
           226,
           "real"
          ],
          [
           "Vincent van Gogh",
           153,
           "real"
          ],
          [
           "Galileo Galilei",
           240,
           "real"
          ],
          [
           "Benjamin Franklin",
           152,
           "real"
          ],
          [
           "Queen Victoria",
           203,
           "real"
          ],
          [
           "Pablo Picasso",
           154,
           "real"
          ],
          [
           "Winston Churchill",
           211,
           "real"
          ],
          [
           "Adolf Hitler",
           194,
           "real"
          ],
          [
           "Catherine the Great",
           186,
           "real"
          ],
          [
           "Joan of Arc",
           172,
           "real"
          ],
          [
           "George Washington",
           156,
           "real"
          ],
          [
           "John F. Kennedy",
           189,
           "real"
          ],
          [
           "Frida Kahlo",
           172,
           "real"
          ],
          [
           "Johann Sebastian Bach",
           197,
           "real"
          ],
          [
           "Napoleon III",
           171,
           "real"
          ],
          [
           "Thomas Jefferson",
           226,
           "real"
          ],
          [
           "Isaac Newton",
           217,
           "real"
          ],
          [
           "Elizabeth Taylor",
           191,
           "real"
          ],
          [
           "Michael Jordan",
           239,
           "real"
          ],
          [
           "Neil Armstrong",
           147,
           "real"
          ],
          [
           "Bruce Lee",
           178,
           "real"
          ],
          [
           "Tupac Shakur",
           186,
           "real"
          ],
          [
           "Elvis Presley",
           162,
           "real"
          ],
          [
           "Walt Disney",
           200,
           "real"
          ],
          [
           "Cristiano Ronaldo",
           183,
           "real"
          ],
          [
           "Abraham Lincoln",
           151,
           "real"
          ],
          [
           "Mao Zedong",
           163,
           "real"
          ],
          [
           "Anne Frank",
           219,
           "real"
          ],
          [
           "Stephen Hawking",
           182,
           "real"
          ],
          [
           "Fidel Castro",
           149,
           "real"
          ],
          [
           "James Cook",
           203,
           "real"
          ],
          [
           "Henry Ford",
           141,
           "real"
          ],
          [
           "Salvador Dalí",
           192,
           "real"
          ],
          [
           "Queen Isabella I of Castile",
           210,
           "real"
          ],
          [
           "Pope Francis",
           203,
           "real"
          ],
          [
           "Stephen King",
           146,
           "real"
          ],
          [
           "Amelia Earhart",
           196,
           "real"
          ],
          [
           "Emily Dickinson",
           198,
           "real"
          ],
          [
           "Gustave Eiffel",
           133,
           "real"
          ],
          [
           "Al Capone",
           158,
           "real"
          ],
          [
           "Jackie Robinson",
           174,
           "real"
          ],
          [
           "Margaret Thatcher",
           182,
           "real"
          ],
          [
           "Vladimir Lenin",
           190,
           "real"
          ],
          [
           "Babe Ruth",
           153,
           "real"
          ],
          [
           "Rosa Parks",
           177,
           "real"
          ],
          [
           "Che Guevara",
           172,
           "real"
          ],
          [
           "Sigmund Freud",
           240,
           "real"
          ],
          [
           "Christopher Columbus",
           198,
           "real"
          ],
          [
           "Mark Twain",
           187,
           "real"
          ],
          [
           "Alexander Graham Bell",
           119,
           "real"
          ],
          [
           "Paul McCartney",
           157,
           "real"
          ],
          [
           "Nikola Tesla",
           219,
           "real"
          ],
          [
           "Bruce Springsteen",
           149,
           "real"
          ],
          [
           "John Lennon",
           141,
           "real"
          ],
          [
           "Charlie Chaplin",
           166,
           "real"
          ],
          [
           "Oscar Wilde",
           198,
           "real"
          ],
          [
           "Richard Nixon",
           186,
           "real"
          ],
          [
           "Muhammad Ali",
           208,
           "real"
          ],
          [
           "Helen Keller",
           217,
           "real"
          ],
          [
           "Steve Jobs",
           163,
           "real"
          ],
          [
           "Oprah Winfrey",
           187,
           "real"
          ],
          [
           "Barack Obama",
           191,
           "real"
          ],
          [
           "Xi Jinping",
           164,
           "real"
          ],
          [
           "Kim Jong Un",
           132,
           "real"
          ],
          [
           "Narendra Modi",
           168,
           "real"
          ],
          [
           "Aung San Suu Kyi",
           174,
           "real"
          ]
         ],
         "hovertemplate": "MM_prediction=0.0<br>pca1=%{x}<br>pca2=%{y}<br>output_length=%{customdata[1]}<br>input/output=%{customdata[0]}<br>switch=%{customdata[2]}<br>label=%{marker.color}<extra></extra>",
         "legendgroup": "0.0",
         "marker": {
          "color": [
           0,
           0,
           0,
           0,
           0,
           0,
           0,
           0,
           0,
           0,
           0,
           0,
           0,
           0,
           0,
           0,
           0,
           0,
           0,
           0,
           0,
           0,
           0,
           0,
           0,
           0,
           0,
           0,
           0,
           0,
           0,
           0,
           0,
           0,
           0,
           0,
           0,
           0,
           0,
           0,
           0,
           0,
           0,
           0,
           0,
           0,
           0,
           0,
           0,
           0,
           0,
           0,
           0,
           0,
           0,
           0,
           0,
           0,
           0,
           0,
           0,
           0,
           0,
           0,
           0,
           0,
           0,
           0,
           0,
           0,
           0,
           0,
           0,
           0,
           0,
           0,
           0,
           0,
           0,
           0,
           0
          ],
          "coloraxis": "coloraxis",
          "size": [
           198,
           207,
           142,
           169,
           135,
           172,
           238,
           151,
           185,
           201,
           167,
           258,
           195,
           203,
           200,
           226,
           153,
           240,
           152,
           203,
           154,
           211,
           194,
           186,
           172,
           156,
           189,
           172,
           197,
           171,
           226,
           217,
           191,
           239,
           147,
           178,
           186,
           162,
           200,
           183,
           151,
           163,
           219,
           182,
           149,
           203,
           141,
           192,
           210,
           203,
           146,
           196,
           198,
           133,
           158,
           174,
           182,
           190,
           153,
           177,
           172,
           240,
           198,
           187,
           119,
           157,
           219,
           149,
           141,
           166,
           198,
           186,
           208,
           217,
           163,
           187,
           191,
           164,
           132,
           168,
           174
          ],
          "sizemode": "area",
          "sizeref": 0.645,
          "symbol": "circle"
         },
         "mode": "markers",
         "name": "0.0",
         "orientation": "v",
         "showlegend": true,
         "type": "scatter",
         "x": [
          -0.35430909010723577,
          -0.48932150239697325,
          -0.4363224225404176,
          -0.4458969471009097,
          -0.32796392683253944,
          -0.31364114543958976,
          -0.6127150401883843,
          -0.39384804705134147,
          -0.3765356431918498,
          -0.36684450829276427,
          -0.35572311108270865,
          -0.7143513658179576,
          -0.45075825317710183,
          -0.2056613425129103,
          -0.41896341158109834,
          -0.24485856699396097,
          -0.050152336680948734,
          -0.4704487077064155,
          -0.33739665039744576,
          -0.46485074374082225,
          -0.3319149868838358,
          -0.4529867861646624,
          -0.6164407169516971,
          -0.33975631874655854,
          -0.16812483022191058,
          -0.47105305087260085,
          -0.46699705482949916,
          -0.12271848397838106,
          -0.33511303477799237,
          -0.10897720425309414,
          -0.3985366134624351,
          -0.5297740348631595,
          -0.1889149976475359,
          -0.45226531341793885,
          -0.38755223625263374,
          -0.3725962296050118,
          -0.41556218646629645,
          -0.3729330219368721,
          -0.33295006338991123,
          -0.4034124144583183,
          -0.34815965998752846,
          -0.48685560593284816,
          -0.27993629712131773,
          -0.34630901069086656,
          -0.41072943169969295,
          -0.40962146401404037,
          -0.429124479793909,
          -0.1309192181100937,
          -0.19211785755989302,
          -0.38511568469225504,
          -0.40458983986644276,
          -0.11814871318309242,
          -0.131661796105284,
          -0.08604462536554001,
          -0.20690144070839744,
          -0.3191820339021783,
          -0.41638844729451774,
          -0.5150140224154702,
          -0.16873609716160357,
          -0.12352720663642111,
          -0.20646144019236007,
          -0.4370688081723549,
          -0.40513517077694955,
          -0.1054995555035895,
          -0.14443129353590606,
          -0.3704338703012903,
          -0.32160143178419764,
          -0.33179506755416643,
          -0.4345409722058801,
          -0.18835935456731306,
          -0.0984029332180772,
          -0.14988009118858348,
          -0.1559711800996801,
          -0.35377307728703633,
          -0.46853753785875335,
          -0.5529899984479696,
          -0.49435792064502276,
          -0.4206182398322773,
          -0.19168672533946707,
          -0.4363044540660652,
          -0.19893812358078503
         ],
         "xaxis": "x",
         "y": [
          0.1305030239663493,
          0.06217403558433312,
          0.05428898019070758,
          0.25824845572328503,
          0.13681914173310075,
          -0.07316024647831161,
          0.09870758746310487,
          0.142162334876581,
          0.04052002866902245,
          0.08055794703844545,
          0.23140639979678101,
          0.0605741454894702,
          -0.0008883092104270632,
          -0.0565471990947714,
          0.20413958670323137,
          0.10269333784252657,
          0.05514062285094054,
          0.03687329269240292,
          0.04651259395413293,
          -0.01784955239909196,
          0.10843715051632366,
          0.03427339904651122,
          0.10515622770017706,
          -0.018536803616360134,
          -0.09615826534840752,
          0.1870546459477801,
          -0.002265196510682606,
          -0.09058937412053811,
          -0.06564162660528018,
          -0.02142555814278689,
          0.07974275209441524,
          0.14696961958494412,
          0.010095133542149347,
          0.1308773879375626,
          0.10164873259345741,
          0.20544105418302042,
          -0.013979798159248782,
          0.013496242168518177,
          0.15105327640243837,
          0.18171029281098947,
          0.09708082414514396,
          0.21027007405783574,
          0.10426894109297513,
          0.05527761874962483,
          0.12359454359006196,
          -0.0189494237252464,
          0.047918262225437866,
          -0.04849377400905379,
          0.06201121636209572,
          0.06898036746459266,
          0.0707482159692358,
          0.00591509187984255,
          -0.19448910403386815,
          0.05260419449679575,
          -0.11029457881146087,
          0.09858693715529535,
          0.02511157416258138,
          0.10862318319509923,
          -0.06144361785265687,
          -0.03560088774938172,
          0.05821936535987697,
          0.24244583883714863,
          0.07935557174032724,
          0.0901669629117356,
          0.17459740591021825,
          0.23699059375948442,
          0.05378122217975181,
          0.04958368099803226,
          0.1796041016295723,
          0.08895207634658078,
          0.10871286675675636,
          -0.06360525362110007,
          0.007261347802123189,
          0.1349950283365312,
          0.16526787890644187,
          0.14202241183405379,
          0.11359315122926877,
          0.24494335933320252,
          0.015051522212305716,
          0.10612261316554529,
          0.18313953752887221
         ],
         "yaxis": "y"
        },
        {
         "customdata": [
          [
           "Alfred Nobel",
           122,
           "real"
          ],
          [
           "Emily Brontë",
           124,
           "real"
          ],
          [
           "Teresa of Ávila",
           167,
           "real"
          ],
          [
           "Kurt Cobain",
           159,
           "real"
          ],
          [
           "Darien Hawthorne",
           164,
           "fake"
          ],
          [
           "Leandra Rivers",
           142,
           "fake"
          ],
          [
           "Elara Meadows",
           173,
           "fake"
          ],
          [
           "Liora Ashby",
           212,
           "fake"
          ],
          [
           "Thaddeus Sterling",
           170,
           "fake"
          ],
          [
           "Seraphina Winter",
           178,
           "fake"
          ],
          [
           "Declan Monroe",
           142,
           "fake"
          ],
          [
           "Zephyr Callahan",
           158,
           "fake"
          ],
          [
           "Lyra Whitaker",
           170,
           "fake"
          ],
          [
           "Boris kovelev",
           155,
           "fake"
          ],
          [
           "Alessia Rossi",
           191,
           "fake"
          ],
          [
           "Henrik Bergström",
           140,
           "fake"
          ],
          [
           "Isabella Novák",
           131,
           "fake"
          ],
          [
           "Lucas Müller",
           180,
           "fake"
          ],
          [
           "Sofia Kostas",
           160,
           "fake"
          ],
          [
           "jean-pierre Perrez",
           116,
           "fake"
          ],
          [
           "Haruki Suzuki",
           161,
           "fake"
          ],
          [
           "Mei Pin",
           167,
           "fake"
          ],
          [
           "Haeki Wei",
           178,
           "fake"
          ],
          [
           "Thibault Ricard",
           137,
           "fake"
          ],
          [
           "Li Yamamoto",
           160,
           "fake"
          ],
          [
           "Surya Gupta",
           135,
           "fake"
          ],
          [
           "Yann Fujimoto",
           169,
           "fake"
          ],
          [
           "Camila Santos",
           177,
           "fake"
          ],
          [
           "Mateo Rodriguez",
           126,
           "fake"
          ],
          [
           "Gabriel Herrera",
           154,
           "fake"
          ],
          [
           "Valentina Silva",
           145,
           "fake"
          ],
          [
           "Alejandro chavez",
           218,
           "fake"
          ],
          [
           "Adamma Nwosu",
           173,
           "fake"
          ],
          [
           "Kwame Osei",
           125,
           "fake"
          ],
          [
           "Asha Nkrumah",
           188,
           "fake"
          ],
          [
           "Jabari Mbeki",
           125,
           "fake"
          ],
          [
           "Sanaa Diop",
           137,
           "fake"
          ],
          [
           "Oluwa Adeyemi",
           143,
           "fake"
          ],
          [
           "Tafari Asante",
           154,
           "fake"
          ],
          [
           "Amina Dube",
           213,
           "fake"
          ],
          [
           "Kofi Abimbola",
           165,
           "fake"
          ],
          [
           "Tane Ngata",
           210,
           "fake"
          ],
          [
           "Moana Mahana",
           172,
           "fake"
          ],
          [
           "Aroha Tamati",
           157,
           "fake"
          ],
          [
           "Kai Tehei",
           145,
           "fake"
          ],
          [
           "Marama Pōtiki",
           158,
           "fake"
          ],
          [
           "Rangi Tavita",
           204,
           "fake"
          ],
          [
           "Hine Rehua",
           131,
           "fake"
          ],
          [
           "Manaia Whakarua",
           139,
           "fake"
          ],
          [
           "Kiri Waimarie",
           174,
           "fake"
          ],
          [
           "John Ngaio",
           157,
           "fake"
          ],
          [
           "Amir al-Farsi",
           208,
           "fake"
          ],
          [
           "Layla Nassar",
           163,
           "fake"
          ],
          [
           "Farid Khoury",
           161,
           "fake"
          ],
          [
           "Samira Alawi",
           136,
           "fake"
          ],
          [
           "Karim Hassan",
           165,
           "fake"
          ],
          [
           "Leila Rizvi",
           190,
           "fake"
          ],
          [
           "Zahir Mansour",
           149,
           "fake"
          ],
          [
           "Aisha Qadri",
           177,
           "fake"
          ],
          [
           "Alfred Abbasi",
           151,
           "fake"
          ],
          [
           "Yousef Khalid",
           145,
           "fake"
          ],
          [
           "Arjuna Tan",
           187,
           "fake"
          ],
          [
           "Hera Nurul",
           161,
           "fake"
          ],
          [
           "Christopher Nguyen",
           157,
           "fake"
          ],
          [
           "Aisha Ebrahim",
           144,
           "fake"
          ],
          [
           "Prabhu Rajan",
           153,
           "fake"
          ],
          [
           "Surya Dewi",
           187,
           "fake"
          ],
          [
           "Kritika Sharma",
           157,
           "fake"
          ],
          [
           "Somchai Pong",
           155,
           "fake"
          ],
          [
           "Patrik Sari",
           181,
           "fake"
          ]
         ],
         "hovertemplate": "MM_prediction=1.0<br>pca1=%{x}<br>pca2=%{y}<br>output_length=%{customdata[1]}<br>input/output=%{customdata[0]}<br>switch=%{customdata[2]}<br>label=%{marker.color}<extra></extra>",
         "legendgroup": "1.0",
         "marker": {
          "color": [
           0,
           0,
           0,
           0,
           1,
           1,
           1,
           1,
           1,
           1,
           1,
           1,
           1,
           1,
           1,
           1,
           1,
           1,
           1,
           1,
           1,
           1,
           1,
           1,
           1,
           1,
           1,
           1,
           1,
           1,
           1,
           1,
           1,
           1,
           1,
           1,
           1,
           1,
           1,
           1,
           1,
           1,
           1,
           1,
           1,
           1,
           1,
           1,
           1,
           1,
           1,
           1,
           1,
           1,
           1,
           1,
           1,
           1,
           1,
           1,
           1,
           1,
           1,
           1,
           1,
           1,
           1,
           1,
           1,
           1
          ],
          "coloraxis": "coloraxis",
          "size": [
           122,
           124,
           167,
           159,
           164,
           142,
           173,
           212,
           170,
           178,
           142,
           158,
           170,
           155,
           191,
           140,
           131,
           180,
           160,
           116,
           161,
           167,
           178,
           137,
           160,
           135,
           169,
           177,
           126,
           154,
           145,
           218,
           173,
           125,
           188,
           125,
           137,
           143,
           154,
           213,
           165,
           210,
           172,
           157,
           145,
           158,
           204,
           131,
           139,
           174,
           157,
           208,
           163,
           161,
           136,
           165,
           190,
           149,
           177,
           151,
           145,
           187,
           161,
           157,
           144,
           153,
           187,
           157,
           155,
           181
          ],
          "sizemode": "area",
          "sizeref": 0.645,
          "symbol": "diamond"
         },
         "mode": "markers",
         "name": "1.0",
         "orientation": "v",
         "showlegend": true,
         "type": "scatter",
         "x": [
          0.00569910651629257,
          0.23356291721489397,
          0.005510135434828256,
          0.01597568033689238,
          0.783273546740834,
          0.79671878979764,
          0.08823148259161266,
          0.43489246623860844,
          0.7062273795800557,
          0.32802987711548864,
          0.3521730654984119,
          0.42077194470812396,
          0.4694151920742891,
          0.37495128166772246,
          0.18862035609392902,
          0.4161002069642127,
          0.41091462667836415,
          0.3940235482908636,
          0.7140805754563875,
          0.41154427623853884,
          0.4309782427501604,
          0.6491583497658276,
          0.309171712556877,
          0.35510217987691517,
          0.6057278754799685,
          0.38464728271655946,
          0.6032093072855722,
          0.20735649357525773,
          0.40696465080687216,
          0.6145594188050094,
          0.3638206490954594,
          0.0828013638082363,
          0.3214512900998346,
          0.509844106664088,
          0.2818897235190362,
          0.3089919135404733,
          0.3274900509976897,
          0.48749635235445793,
          0.35749024460776696,
          0.27907401594074743,
          0.5343688270275968,
          0.2039810553555228,
          0.048080927832881606,
          0.37478658210236937,
          0.44018950354965153,
          0.37087513191585547,
          0.22643826466561,
          0.43529245560450924,
          0.39746691428158304,
          0.4481033110224375,
          0.45303944234546145,
          0.31524822313867945,
          0.6300292702149365,
          0.6624152894267775,
          0.33184695587240287,
          0.6355734512082032,
          0.3485902151525289,
          0.3445935606859928,
          0.22566208570163337,
          0.5570263826815562,
          0.6830152894172493,
          0.41694982758886334,
          0.44706249230644035,
          0.41395415966718707,
          0.3492630795154594,
          0.5515118143516511,
          0.3276718099752023,
          0.2624411780632586,
          0.25827159308712655,
          0.3433217471694206
         ],
         "xaxis": "x",
         "y": [
          0.10749016100581968,
          0.056684378399527405,
          0.15796301209103403,
          -0.0403354737708626,
          -0.1074679029170098,
          -0.09861150534740523,
          -0.16302094817106477,
          -0.12277650221754392,
          -0.23561272309480794,
          -0.17972652349053447,
          -0.2115145203846026,
          -0.21723853452134748,
          -0.22364593758772902,
          -0.03450278737415441,
          -0.11648699462030612,
          0.03601974333500772,
          -0.07533925295393439,
          -0.06751356980013856,
          -0.010859198028303483,
          -0.09630843586126787,
          -0.15290217675412746,
          -0.09769970463775549,
          0.08153682257985834,
          -0.011105988893758231,
          -0.18021073833064083,
          0.0037380557512030343,
          -0.10532677706878882,
          -0.028179735434854435,
          -0.05836961705705252,
          -0.21538998573658946,
          -0.19015989357981414,
          0.01600275707484919,
          -0.01549353436266758,
          -0.0478658521534455,
          -0.01463863862453015,
          -0.013447036354878948,
          -0.009690045945366182,
          0.03190308670765385,
          -0.014102981817207878,
          -0.12441029909735232,
          -0.04637581601578487,
          -0.16729956230463983,
          -0.02737897994489897,
          -0.2110939126668199,
          -0.13625244322760174,
          -0.11781440163041848,
          -0.008558406046452117,
          -0.1209229017700338,
          -0.036975865947339634,
          -0.2200650582179979,
          -0.19764611444170152,
          -0.04186131815109766,
          -0.030085553206658847,
          -0.0723229970668802,
          -0.015803431092107276,
          -0.15079935047776782,
          -0.07741419416959973,
          -0.050134622888378895,
          -0.0943717187904335,
          -0.18800107728556245,
          -0.002600871693319559,
          -0.2297517342775983,
          -0.1139775526776932,
          -0.21609574253700403,
          -0.05024421500054039,
          -0.08181547816883933,
          -0.0017701544720824594,
          -0.1156664994082915,
          -0.13927806214866612,
          -0.06216260616736156
         ],
         "yaxis": "y"
        }
       ],
       "layout": {
        "coloraxis": {
         "colorbar": {
          "ticks": "outside",
          "title": {
           "text": "label"
          },
          "x": -0.2,
          "y": 1,
          "yanchor": "top"
         },
         "colorscale": [
          [
           0,
           "#0d0887"
          ],
          [
           0.1111111111111111,
           "#46039f"
          ],
          [
           0.2222222222222222,
           "#7201a8"
          ],
          [
           0.3333333333333333,
           "#9c179e"
          ],
          [
           0.4444444444444444,
           "#bd3786"
          ],
          [
           0.5555555555555556,
           "#d8576b"
          ],
          [
           0.6666666666666666,
           "#ed7953"
          ],
          [
           0.7777777777777778,
           "#fb9f3a"
          ],
          [
           0.8888888888888888,
           "#fdca26"
          ],
          [
           1,
           "#f0f921"
          ]
         ]
        },
        "height": 700,
        "legend": {
         "itemsizing": "constant",
         "title": {
          "text": "MM_prediction"
         },
         "tracegroupgap": 0
        },
        "margin": {
         "t": 60
        },
        "shapes": [
         {
          "line": {
           "color": "red",
           "dash": "dash"
          },
          "type": "line",
          "x0": 0,
          "x1": 0,
          "xref": "x",
          "y0": 0,
          "y1": 1,
          "yref": "y domain"
         }
        ],
        "template": {
         "data": {
          "bar": [
           {
            "error_x": {
             "color": "#2a3f5f"
            },
            "error_y": {
             "color": "#2a3f5f"
            },
            "marker": {
             "line": {
              "color": "#E5ECF6",
              "width": 0.5
             },
             "pattern": {
              "fillmode": "overlay",
              "size": 10,
              "solidity": 0.2
             }
            },
            "type": "bar"
           }
          ],
          "barpolar": [
           {
            "marker": {
             "line": {
              "color": "#E5ECF6",
              "width": 0.5
             },
             "pattern": {
              "fillmode": "overlay",
              "size": 10,
              "solidity": 0.2
             }
            },
            "type": "barpolar"
           }
          ],
          "carpet": [
           {
            "aaxis": {
             "endlinecolor": "#2a3f5f",
             "gridcolor": "white",
             "linecolor": "white",
             "minorgridcolor": "white",
             "startlinecolor": "#2a3f5f"
            },
            "baxis": {
             "endlinecolor": "#2a3f5f",
             "gridcolor": "white",
             "linecolor": "white",
             "minorgridcolor": "white",
             "startlinecolor": "#2a3f5f"
            },
            "type": "carpet"
           }
          ],
          "choropleth": [
           {
            "colorbar": {
             "outlinewidth": 0,
             "ticks": ""
            },
            "type": "choropleth"
           }
          ],
          "contour": [
           {
            "colorbar": {
             "outlinewidth": 0,
             "ticks": ""
            },
            "colorscale": [
             [
              0,
              "#0d0887"
             ],
             [
              0.1111111111111111,
              "#46039f"
             ],
             [
              0.2222222222222222,
              "#7201a8"
             ],
             [
              0.3333333333333333,
              "#9c179e"
             ],
             [
              0.4444444444444444,
              "#bd3786"
             ],
             [
              0.5555555555555556,
              "#d8576b"
             ],
             [
              0.6666666666666666,
              "#ed7953"
             ],
             [
              0.7777777777777778,
              "#fb9f3a"
             ],
             [
              0.8888888888888888,
              "#fdca26"
             ],
             [
              1,
              "#f0f921"
             ]
            ],
            "type": "contour"
           }
          ],
          "contourcarpet": [
           {
            "colorbar": {
             "outlinewidth": 0,
             "ticks": ""
            },
            "type": "contourcarpet"
           }
          ],
          "heatmap": [
           {
            "colorbar": {
             "outlinewidth": 0,
             "ticks": ""
            },
            "colorscale": [
             [
              0,
              "#0d0887"
             ],
             [
              0.1111111111111111,
              "#46039f"
             ],
             [
              0.2222222222222222,
              "#7201a8"
             ],
             [
              0.3333333333333333,
              "#9c179e"
             ],
             [
              0.4444444444444444,
              "#bd3786"
             ],
             [
              0.5555555555555556,
              "#d8576b"
             ],
             [
              0.6666666666666666,
              "#ed7953"
             ],
             [
              0.7777777777777778,
              "#fb9f3a"
             ],
             [
              0.8888888888888888,
              "#fdca26"
             ],
             [
              1,
              "#f0f921"
             ]
            ],
            "type": "heatmap"
           }
          ],
          "heatmapgl": [
           {
            "colorbar": {
             "outlinewidth": 0,
             "ticks": ""
            },
            "colorscale": [
             [
              0,
              "#0d0887"
             ],
             [
              0.1111111111111111,
              "#46039f"
             ],
             [
              0.2222222222222222,
              "#7201a8"
             ],
             [
              0.3333333333333333,
              "#9c179e"
             ],
             [
              0.4444444444444444,
              "#bd3786"
             ],
             [
              0.5555555555555556,
              "#d8576b"
             ],
             [
              0.6666666666666666,
              "#ed7953"
             ],
             [
              0.7777777777777778,
              "#fb9f3a"
             ],
             [
              0.8888888888888888,
              "#fdca26"
             ],
             [
              1,
              "#f0f921"
             ]
            ],
            "type": "heatmapgl"
           }
          ],
          "histogram": [
           {
            "marker": {
             "pattern": {
              "fillmode": "overlay",
              "size": 10,
              "solidity": 0.2
             }
            },
            "type": "histogram"
           }
          ],
          "histogram2d": [
           {
            "colorbar": {
             "outlinewidth": 0,
             "ticks": ""
            },
            "colorscale": [
             [
              0,
              "#0d0887"
             ],
             [
              0.1111111111111111,
              "#46039f"
             ],
             [
              0.2222222222222222,
              "#7201a8"
             ],
             [
              0.3333333333333333,
              "#9c179e"
             ],
             [
              0.4444444444444444,
              "#bd3786"
             ],
             [
              0.5555555555555556,
              "#d8576b"
             ],
             [
              0.6666666666666666,
              "#ed7953"
             ],
             [
              0.7777777777777778,
              "#fb9f3a"
             ],
             [
              0.8888888888888888,
              "#fdca26"
             ],
             [
              1,
              "#f0f921"
             ]
            ],
            "type": "histogram2d"
           }
          ],
          "histogram2dcontour": [
           {
            "colorbar": {
             "outlinewidth": 0,
             "ticks": ""
            },
            "colorscale": [
             [
              0,
              "#0d0887"
             ],
             [
              0.1111111111111111,
              "#46039f"
             ],
             [
              0.2222222222222222,
              "#7201a8"
             ],
             [
              0.3333333333333333,
              "#9c179e"
             ],
             [
              0.4444444444444444,
              "#bd3786"
             ],
             [
              0.5555555555555556,
              "#d8576b"
             ],
             [
              0.6666666666666666,
              "#ed7953"
             ],
             [
              0.7777777777777778,
              "#fb9f3a"
             ],
             [
              0.8888888888888888,
              "#fdca26"
             ],
             [
              1,
              "#f0f921"
             ]
            ],
            "type": "histogram2dcontour"
           }
          ],
          "mesh3d": [
           {
            "colorbar": {
             "outlinewidth": 0,
             "ticks": ""
            },
            "type": "mesh3d"
           }
          ],
          "parcoords": [
           {
            "line": {
             "colorbar": {
              "outlinewidth": 0,
              "ticks": ""
             }
            },
            "type": "parcoords"
           }
          ],
          "pie": [
           {
            "automargin": true,
            "type": "pie"
           }
          ],
          "scatter": [
           {
            "fillpattern": {
             "fillmode": "overlay",
             "size": 10,
             "solidity": 0.2
            },
            "type": "scatter"
           }
          ],
          "scatter3d": [
           {
            "line": {
             "colorbar": {
              "outlinewidth": 0,
              "ticks": ""
             }
            },
            "marker": {
             "colorbar": {
              "outlinewidth": 0,
              "ticks": ""
             }
            },
            "type": "scatter3d"
           }
          ],
          "scattercarpet": [
           {
            "marker": {
             "colorbar": {
              "outlinewidth": 0,
              "ticks": ""
             }
            },
            "type": "scattercarpet"
           }
          ],
          "scattergeo": [
           {
            "marker": {
             "colorbar": {
              "outlinewidth": 0,
              "ticks": ""
             }
            },
            "type": "scattergeo"
           }
          ],
          "scattergl": [
           {
            "marker": {
             "colorbar": {
              "outlinewidth": 0,
              "ticks": ""
             }
            },
            "type": "scattergl"
           }
          ],
          "scattermapbox": [
           {
            "marker": {
             "colorbar": {
              "outlinewidth": 0,
              "ticks": ""
             }
            },
            "type": "scattermapbox"
           }
          ],
          "scatterpolar": [
           {
            "marker": {
             "colorbar": {
              "outlinewidth": 0,
              "ticks": ""
             }
            },
            "type": "scatterpolar"
           }
          ],
          "scatterpolargl": [
           {
            "marker": {
             "colorbar": {
              "outlinewidth": 0,
              "ticks": ""
             }
            },
            "type": "scatterpolargl"
           }
          ],
          "scatterternary": [
           {
            "marker": {
             "colorbar": {
              "outlinewidth": 0,
              "ticks": ""
             }
            },
            "type": "scatterternary"
           }
          ],
          "surface": [
           {
            "colorbar": {
             "outlinewidth": 0,
             "ticks": ""
            },
            "colorscale": [
             [
              0,
              "#0d0887"
             ],
             [
              0.1111111111111111,
              "#46039f"
             ],
             [
              0.2222222222222222,
              "#7201a8"
             ],
             [
              0.3333333333333333,
              "#9c179e"
             ],
             [
              0.4444444444444444,
              "#bd3786"
             ],
             [
              0.5555555555555556,
              "#d8576b"
             ],
             [
              0.6666666666666666,
              "#ed7953"
             ],
             [
              0.7777777777777778,
              "#fb9f3a"
             ],
             [
              0.8888888888888888,
              "#fdca26"
             ],
             [
              1,
              "#f0f921"
             ]
            ],
            "type": "surface"
           }
          ],
          "table": [
           {
            "cells": {
             "fill": {
              "color": "#EBF0F8"
             },
             "line": {
              "color": "white"
             }
            },
            "header": {
             "fill": {
              "color": "#C8D4E3"
             },
             "line": {
              "color": "white"
             }
            },
            "type": "table"
           }
          ]
         },
         "layout": {
          "annotationdefaults": {
           "arrowcolor": "#2a3f5f",
           "arrowhead": 0,
           "arrowwidth": 1
          },
          "autotypenumbers": "strict",
          "coloraxis": {
           "colorbar": {
            "outlinewidth": 0,
            "ticks": ""
           }
          },
          "colorscale": {
           "diverging": [
            [
             0,
             "#8e0152"
            ],
            [
             0.1,
             "#c51b7d"
            ],
            [
             0.2,
             "#de77ae"
            ],
            [
             0.3,
             "#f1b6da"
            ],
            [
             0.4,
             "#fde0ef"
            ],
            [
             0.5,
             "#f7f7f7"
            ],
            [
             0.6,
             "#e6f5d0"
            ],
            [
             0.7,
             "#b8e186"
            ],
            [
             0.8,
             "#7fbc41"
            ],
            [
             0.9,
             "#4d9221"
            ],
            [
             1,
             "#276419"
            ]
           ],
           "sequential": [
            [
             0,
             "#0d0887"
            ],
            [
             0.1111111111111111,
             "#46039f"
            ],
            [
             0.2222222222222222,
             "#7201a8"
            ],
            [
             0.3333333333333333,
             "#9c179e"
            ],
            [
             0.4444444444444444,
             "#bd3786"
            ],
            [
             0.5555555555555556,
             "#d8576b"
            ],
            [
             0.6666666666666666,
             "#ed7953"
            ],
            [
             0.7777777777777778,
             "#fb9f3a"
            ],
            [
             0.8888888888888888,
             "#fdca26"
            ],
            [
             1,
             "#f0f921"
            ]
           ],
           "sequentialminus": [
            [
             0,
             "#0d0887"
            ],
            [
             0.1111111111111111,
             "#46039f"
            ],
            [
             0.2222222222222222,
             "#7201a8"
            ],
            [
             0.3333333333333333,
             "#9c179e"
            ],
            [
             0.4444444444444444,
             "#bd3786"
            ],
            [
             0.5555555555555556,
             "#d8576b"
            ],
            [
             0.6666666666666666,
             "#ed7953"
            ],
            [
             0.7777777777777778,
             "#fb9f3a"
            ],
            [
             0.8888888888888888,
             "#fdca26"
            ],
            [
             1,
             "#f0f921"
            ]
           ]
          },
          "colorway": [
           "#636efa",
           "#EF553B",
           "#00cc96",
           "#ab63fa",
           "#FFA15A",
           "#19d3f3",
           "#FF6692",
           "#B6E880",
           "#FF97FF",
           "#FECB52"
          ],
          "font": {
           "color": "#2a3f5f"
          },
          "geo": {
           "bgcolor": "white",
           "lakecolor": "white",
           "landcolor": "#E5ECF6",
           "showlakes": true,
           "showland": true,
           "subunitcolor": "white"
          },
          "hoverlabel": {
           "align": "left"
          },
          "hovermode": "closest",
          "mapbox": {
           "style": "light"
          },
          "paper_bgcolor": "white",
          "plot_bgcolor": "#E5ECF6",
          "polar": {
           "angularaxis": {
            "gridcolor": "white",
            "linecolor": "white",
            "ticks": ""
           },
           "bgcolor": "#E5ECF6",
           "radialaxis": {
            "gridcolor": "white",
            "linecolor": "white",
            "ticks": ""
           }
          },
          "scene": {
           "xaxis": {
            "backgroundcolor": "#E5ECF6",
            "gridcolor": "white",
            "gridwidth": 2,
            "linecolor": "white",
            "showbackground": true,
            "ticks": "",
            "zerolinecolor": "white"
           },
           "yaxis": {
            "backgroundcolor": "#E5ECF6",
            "gridcolor": "white",
            "gridwidth": 2,
            "linecolor": "white",
            "showbackground": true,
            "ticks": "",
            "zerolinecolor": "white"
           },
           "zaxis": {
            "backgroundcolor": "#E5ECF6",
            "gridcolor": "white",
            "gridwidth": 2,
            "linecolor": "white",
            "showbackground": true,
            "ticks": "",
            "zerolinecolor": "white"
           }
          },
          "shapedefaults": {
           "line": {
            "color": "#2a3f5f"
           }
          },
          "ternary": {
           "aaxis": {
            "gridcolor": "white",
            "linecolor": "white",
            "ticks": ""
           },
           "baxis": {
            "gridcolor": "white",
            "linecolor": "white",
            "ticks": ""
           },
           "bgcolor": "#E5ECF6",
           "caxis": {
            "gridcolor": "white",
            "linecolor": "white",
            "ticks": ""
           }
          },
          "title": {
           "x": 0.05
          },
          "xaxis": {
           "automargin": true,
           "gridcolor": "white",
           "linecolor": "white",
           "ticks": "",
           "title": {
            "standoff": 15
           },
           "zerolinecolor": "white",
           "zerolinewidth": 2
          },
          "yaxis": {
           "automargin": true,
           "gridcolor": "white",
           "linecolor": "white",
           "ticks": "",
           "title": {
            "standoff": 15
           },
           "zerolinecolor": "white",
           "zerolinewidth": 2
          }
         }
        },
        "width": 1000,
        "xaxis": {
         "anchor": "y",
         "domain": [
          0,
          1
         ],
         "title": {
          "text": "pca1"
         }
        },
        "yaxis": {
         "anchor": "x",
         "domain": [
          0,
          1
         ],
         "title": {
          "text": "pca2"
         }
        }
       }
      }
     },
     "metadata": {},
     "output_type": "display_data"
    }
   ],
   "source": [
    "eval_df[\"random_value\"] = np.random.rand(len(eval_df))\n",
    "eval_df[\"label\"] = eval_df[\"label\"] #+ 1\n",
    "\n",
    "scatter = px.scatter(eval_df, x='pca1', y='pca2', \n",
    "                     color=\"label\",\n",
    "                     size=\"output_length\", \n",
    "                     symbol= \"MM_prediction\",\n",
    "                     hover_data=[\"input/output\", \"output_length\", \"switch\"],\n",
    "                     color_discrete_sequence=color_selction)\n",
    "\n",
    "scatter.update_layout(\n",
    "    # autosize=True,\n",
    "    width=1000,\n",
    "    height=700,)\n",
    "\n",
    "scatter.update_layout(coloraxis_colorbar=dict(yanchor=\"top\", y=1, x=-0.2,\n",
    "                                          ticks=\"outside\"))\n",
    "\n",
    "scatter.add_vline(x=0, line_dash=\"dash\", line_color=\"red\")\n",
    "\n",
    "scatter.show()"
   ]
  },
  {
   "cell_type": "code",
   "execution_count": null,
   "metadata": {},
   "outputs": [],
   "source": []
  },
  {
   "cell_type": "code",
   "execution_count": null,
   "metadata": {},
   "outputs": [],
   "source": []
  },
  {
   "cell_type": "code",
   "execution_count": null,
   "metadata": {},
   "outputs": [],
   "source": []
  },
  {
   "cell_type": "code",
   "execution_count": null,
   "metadata": {},
   "outputs": [],
   "source": []
  }
 ],
 "metadata": {
  "kernelspec": {
   "display_name": "base",
   "language": "python",
   "name": "python3"
  },
  "language_info": {
   "codemirror_mode": {
    "name": "ipython",
    "version": 3
   },
   "file_extension": ".py",
   "mimetype": "text/x-python",
   "name": "python",
   "nbconvert_exporter": "python",
   "pygments_lexer": "ipython3",
   "version": "3.10.14"
  }
 },
 "nbformat": 4,
 "nbformat_minor": 2
}
