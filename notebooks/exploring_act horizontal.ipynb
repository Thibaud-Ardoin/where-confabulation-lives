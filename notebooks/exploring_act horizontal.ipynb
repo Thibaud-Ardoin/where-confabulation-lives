{
 "cells": [
  {
   "cell_type": "code",
   "execution_count": 2,
   "metadata": {},
   "outputs": [],
   "source": [
    "import pickle\n",
    "import pandas as pd\n",
    "import matplotlib.pyplot as plt\n",
    "import plotly.express as px\n",
    "import numpy as np\n",
    "import sys\n",
    "from importlib import reload\n",
    "\n",
    "\n",
    "from sklearn.decomposition import PCA, FactorAnalysis\n",
    "from sklearn.discriminant_analysis import LinearDiscriminantAnalysis as LDA\n",
    "from sklearn.linear_model import LinearRegression\n",
    "from sklearn.manifold import TSNE\n",
    "import torch as t\n",
    "from sklearn.metrics import classification_report\n",
    "\n",
    "# sys.path.append(\"~/Documents/Prog/LLMs/mri_llm\")\n",
    "sys.path.append(\"..\") # Adds higher directory to python modules path.\n",
    "\n",
    "from datas import celebrity, conspiracy, english_word, character"
   ]
  },
  {
   "cell_type": "code",
   "execution_count": 3,
   "metadata": {},
   "outputs": [],
   "source": [
    "files_root = \"../inference_data/\"\n",
    "files = [\n",
    "    # \"inference_conspiracy_character_sentence_908.pkl\",\n",
    "    # \"inference_conspiracy_711.pkl\",\n",
    "    # \"inference_character_474.pkl\",\n",
    "    # \"inference_celebrity_random_764.pkl\",\n",
    "    # \"inference_celebrity_285.pkl\",\n",
    "    # \"inference_english_word_236.pkl\",\n",
    "    # \"inference_date_884.pkl\",\n",
    "    # \"inference_election_195.pkl\",\n",
    "    # \"inference_date_election_648.pkl\",\n",
    "\n",
    "    # \"inference_conspiracy_horizontal_593.pkl\",\n",
    "    # \"inference_character_horizontal_945.pkl\",\n",
    "    # \"inference_conspiracy_unrelated_545.pkl\"\n",
    "\n",
    "    # \"inference_celebrity_horizontal_604.pkl\",\n",
    "    # \"inference_english_word_horizontal_252.pkl\",\n",
    "\n",
    "    # \"inference_celebrity_horizontal_token_952.pkl\",\n",
    "    # \"inference_english_word_horizontal_token_78.pkl\",\n",
    "\n",
    "    \"inference_english_word_nonnorm_874.pkl\",\n",
    "    \"inference_french_word_612.pkl\",\n",
    "    \"inference_celebrity_nonnorm_326.pkl\",\n",
    "]\n",
    "\n",
    "data_list=[]\n",
    "for f in files:\n",
    "    with open(files_root+f, \"rb\") as fp:\n",
    "        data_list.extend(pickle.load(fp))"
   ]
  },
  {
   "cell_type": "code",
   "execution_count": 4,
   "metadata": {},
   "outputs": [
    {
     "name": "stdout",
     "output_type": "stream",
     "text": [
      "735\n",
      "Always respond with a SINGLE sentence. You are given an english word, give me a short definition.\n",
      "{}:\n",
      "Time\n",
      "Time is the measure of the duration of events or periods, often measured in seconds, minutes, hours, days, weeks, months, or years.\n"
     ]
    }
   ],
   "source": [
    "print(len(data_list))\n",
    "print(data_list[0].system_prompt)\n",
    "print(data_list[0].user_prompt)\n",
    "print(data_list[0].input_text)\n",
    "print(data_list[0].output_text)"
   ]
  },
  {
   "cell_type": "code",
   "execution_count": 5,
   "metadata": {},
   "outputs": [],
   "source": [
    "def type_of_input_labeling(data_elmt):\n",
    "    label = data_elmt.label\n",
    "    match data_elmt.__class__.__name__:\n",
    "        # HALLUCINATION STUFF\n",
    "        case \"celebrity\":\n",
    "            label += 0\n",
    "        case \"conspiracy\":\n",
    "            label += 2*2\n",
    "        case \"english_word\":\n",
    "            label += 2*1\n",
    "        case \"french_word\":\n",
    "            label += 2*2\n",
    "        # TIME STUFF\n",
    "        case \"date\":\n",
    "            label += 0\n",
    "        case \"election\": # Carefull this guy has 3 switches\n",
    "            label += 2*1\n",
    "        # FICTION STUFF\n",
    "        case \"character\":\n",
    "            label += 0\n",
    "        case _ :\n",
    "            raise Exception(\"Error of non recognised type of data element\")\n",
    "\n",
    "    if data_elmt.sufix and data_elmt.sufix== \"random\":\n",
    "        label = data_elmt.label + 2\n",
    "        \n",
    "    return label"
   ]
  },
  {
   "cell_type": "code",
   "execution_count": 6,
   "metadata": {},
   "outputs": [
    {
     "name": "stdout",
     "output_type": "stream",
     "text": [
      "735\n",
      "1\n",
      "4096\n",
      "[-0.03344727  0.20117188 -0.06591797 ...  0.17480469  0.328125\n",
      " -0.05566406]\n",
      "[2 2 2 2 2 2 2 2 2 2 2 2 2 2 2 2 2 2 2 2 2 2 2 2 2 2 2 2 2 2 2 2 2 2 2 2 2\n",
      " 2 2 2 2 2 2 2 2 2 2 2 2 2 2 2 2 2 2 2 2 2 2 2 2 2 2 2 2 2 2 2 2 2 2 2 2 2\n",
      " 2 2 2 2 2 2 2 2 2 2 2 2 2 2 2 2 2 2 2 2 2 2 2 2 3 3 3 3 3 3 3 3 3 3 3 3 3\n",
      " 3 3 3 3 3 3 3 3 3 3 3 3 3 3 3 3 3 3 3 3 3 3 3 3 3 3 3 3 3 3 3 3 3 3 3 3 3\n",
      " 3 3 3 3 3 3 3 3 3 3 3 3 3 3 3 3 3 3 3 3 3 3 3 3 3 3 3 3 3 3 3 3 3 3 3 3 3\n",
      " 3 3 3 3 3 4 4 4 4 4 4 4 4 4 4 4 4 4 4 4 4 4 4 4 4 4 4 4 4 4 4 4 4 4 4 4 4\n",
      " 4 4 4 4 4 4 4 4 4 4 4 4 4 4 4 4 4 4 4 4 4 4 4 4 4 4 4 4 4 4 4 4 4 4 4 4 4\n",
      " 4 4 4 4 4 4 4 4 4 4 4 4 4 4 4 4 4 4 4 4 4 4 4 4 4 4 4 4 4 4 4 4 4 4 4 4 4\n",
      " 4 4 4 4 4 4 4 4 4 4 4 4 4 4 4 4 4 4 4 4 4 4 4 4 4 4 4 4 4 4 4 4 4 4 4 4 4\n",
      " 4 4 4 4 4 4 4 4 4 4 4 4 4 4 4 4 4 4 4 4 4 4 4 4 4 4 4 4 4 4 4 4 4 4 4 4 4\n",
      " 4 4 4 4 4 4 4 4 4 4 4 4 4 4 4 4 4 4 5 5 5 5 5 5 5 5 5 5 5 5 5 5 5 5 5 5 5\n",
      " 5 5 5 5 5 5 5 5 5 5 5 5 5 5 5 5 5 5 5 5 5 5 5 5 5 5 5 5 5 5 5 5 5 5 5 5 5\n",
      " 5 5 5 5 5 5 5 5 5 5 5 5 5 5 5 5 5 5 5 5 5 5 5 5 5 5 5 5 5 5 5 5 5 5 5 5 5\n",
      " 5 5 5 5 5 5 5 5 5 5 5 5 5 5 5 5 5 5 5 5 5 5 5 5 5 5 5 5 5 5 5 5 5 5 5 5 5\n",
      " 5 5 5 5 5 5 5 5 5 5 5 5 5 5 5 5 5 5 5 5 5 5 5 5 5 5 5 5 5 5 5 5 5 5 5 5 5\n",
      " 5 5 5 5 5 5 5 5 5 5 5 5 5 5 5 5 5 5 5 5 5 5 5 5 5 5 5 5 5 0 0 0 0 0 0 0 0\n",
      " 0 0 0 0 0 0 0 0 0 0 0 0 0 0 0 0 0 0 0 0 0 0 0 0 0 0 0 0 0 0 0 0 0 0 0 0 0\n",
      " 0 0 0 0 0 0 0 0 0 0 0 0 0 0 0 0 0 0 0 0 0 0 0 0 0 0 0 0 0 0 0 0 0 0 0 0 0\n",
      " 0 0 0 1 1 1 1 1 1 1 1 1 1 1 1 1 1 1 1 1 1 1 1 1 1 1 1 1 1 1 1 1 1 1 1 1 1\n",
      " 1 1 1 1 1 1 1 1 1 1 1 1 1 1 1 1 1 1 1 1 1 1 1 1 1 1 1 1 1 1 1 1]\n",
      "Counter({4: 198, 5: 196, 2: 98, 3: 92, 0: 85, 1: 66})\n"
     ]
    }
   ],
   "source": [
    "X = np.array([[data_list[i].activations[lay_nb][0].type(t.float64).cpu().numpy() for lay_nb in range(len(data_list[i].activations))] for i in range(len(data_list))])\n",
    "Y = np.array([type_of_input_labeling(data_list[i]) for i in range(len(data_list))])\n",
    "\n",
    "# torch.stack().type(torch.float64).cpu().numpy()\n",
    "print(len(X))\n",
    "print(len(X[0]))\n",
    "print(len(X[0][0]))\n",
    "print(X[0][0])\n",
    "print(Y)\n",
    "\n",
    "from collections import Counter\n",
    "print(Counter(Y))"
   ]
  },
  {
   "cell_type": "code",
   "execution_count": null,
   "metadata": {},
   "outputs": [],
   "source": []
  },
  {
   "cell_type": "code",
   "execution_count": 7,
   "metadata": {},
   "outputs": [],
   "source": [
    "color_selction = [\"#ef6c00\", \"#eeff41\", \"#009668\", \"#ce93d8\" , \"#a1e8d9\", \"#b3a77d\", \"#6a634a\", \"red\", \"green\"]\n",
    "\n",
    "def simple_label2color(label):\n",
    "    # labels are 4 choices\n",
    "    color = color_selction[label]\n",
    "    return color\n",
    "\n",
    "def bidim_label2color(label):\n",
    "    # labels are 2*2*2 choices\n",
    "    color = color_selction[label[1] + 2*label[2]]\n",
    "    # color = mcolors.CSS4_COLORS[color_selction[label[1] + 2*label[2]]]\n",
    "    return color"
   ]
  },
  {
   "cell_type": "markdown",
   "metadata": {},
   "source": [
    "## Add some labels according to other conditions\n",
    "\n",
    "- Length of output"
   ]
  },
  {
   "cell_type": "code",
   "execution_count": 8,
   "metadata": {},
   "outputs": [],
   "source": [
    "def output_length_label(data_elmt):\n",
    "    return len(data_elmt.output_text)\n",
    "    # if len(data_elmt.output_text) > 100:\n",
    "    #     return \"long_output\"\n",
    "    # else:\n",
    "    #     return \"short_output\"\n",
    "\n",
    "for i in range(len(data_list)):\n",
    "    data_list[i].output_length = output_length_label(data_list[i])\n",
    "    data_list[i].class_type = data_list[i].__class__.__name__\n"
   ]
  },
  {
   "cell_type": "code",
   "execution_count": 9,
   "metadata": {},
   "outputs": [],
   "source": [
    "def normlise_by_data_type(data_list, states):\n",
    "    type_indices = {}\n",
    "    for i in range(len(data_list)):\n",
    "        # Select according to certain parameter, for exemple class type of data\n",
    "        data_type = data_list[i].__class__.__name__\n",
    "        if data_type in type_indices:\n",
    "            type_indices[data_type].append(i)\n",
    "        else:\n",
    "            type_indices[data_type] = [i]\n",
    "    for key in type_indices:\n",
    "        indices = np.array(type_indices[key])\n",
    "        states[indices] = states[indices] - states[indices].mean(axis=0)\n",
    "\n",
    "    return states"
   ]
  },
  {
   "cell_type": "code",
   "execution_count": 10,
   "metadata": {},
   "outputs": [],
   "source": [
    "# TSNE plot stuff\n",
    "def plot_tsne(X, Y):\n",
    "    inp = np.array([x for x in X])\n",
    "    y = np.array([yy for yy in Y]) # list(range(len(data_el.activations[0])))\n",
    "\n",
    "    tsne = TSNE(n_components=2, perplexity=40, n_iter=300)\n",
    "    res = tsne.fit_transform(inp)\n",
    "\n",
    "    plt.scatter(res[:, 0], res[:, 1], c=y)\n",
    "    plt.show()"
   ]
  },
  {
   "cell_type": "code",
   "execution_count": 38,
   "metadata": {},
   "outputs": [
    {
     "name": "stdout",
     "output_type": "stream",
     "text": [
      "[-0.00610352 -0.05078125  0.00622559 ...  0.05029297  0.05249023\n",
      " -0.06835938]\n"
     ]
    }
   ],
   "source": [
    "def tensor2array(te):\n",
    "    return te.type(t.float64).detach().cpu().numpy()\n",
    "\n",
    "def activation_selection(data_el):\n",
    "\n",
    "    if data_el.sufix == \"horizontal\" or data_el.sufix == \"horizontal+token\":\n",
    "        # For the only layer there is, we divide activation between prompt and generated text\n",
    "        end_of_prompt_id = len(data_el.prompt_token_emb) - 1 #data_el.input_token_length-1     # add -1 because during process of last prompt token we are alreaddy generating new content.\n",
    "\n",
    "        normalised_by_input = t.stack(data_el.activations[0].copy()).detach()\n",
    "        all_input_seq = t.cat((data_el.prompt_token_emb, data_el.gen_token_emb), dim=0).detach()\n",
    "\n",
    "        # print(normalised_by_input.shape)\n",
    "        # print(all_input_seq.shape)\n",
    "\n",
    "        # print(normalised_by_input.mean())\n",
    "        # print(normalised_by_input.max())\n",
    "        # print(normalised_by_input.min())\n",
    "        # print(normalised_by_input.abs().min())\n",
    "        # print(all_input_seq.mean())\n",
    "        # print(all_input_seq.mean())\n",
    "        # print(all_input_seq.min())\n",
    "        # print(all_input_seq.abs().min())\n",
    "\n",
    "        # all_input_seq = (all_input_seq - t.min(all_input_seq, dim=0) by_input, dim=0).values) / (t.max(normalised_by_input, dim=0).values - t.min(normalised_by_input, dim=0).values)\n",
    "\n",
    "\n",
    "        # normalised_by_input = normalised_by_input - all_input_seq[end_of_prompt_id:].mean(dim=0)\n",
    "\n",
    "        # Substract previous activation and also input token\n",
    "        # base_act = normalised_by_input[0]\n",
    "        # for i in range(len(normalised_by_input)):\n",
    "        #     normalised_by_input[i] = normalised_by_input[i] - base_act \n",
    "            # if i>0:\n",
    "            #     normalised_by_input[i] = normalised_by_input[i] - normalised_by_input[i-1]\n",
    "\n",
    "            # normalised_by_input[i] = normalised_by_input[i] - all_input_seq[i]\n",
    "                \n",
    "            \n",
    "\n",
    "\n",
    "        # Substract input token from the same column of generation\n",
    "        # for i in range(len(normalised_by_input)):\n",
    "        #     normalised_by_input[i] = normalised_by_input[i] - all_input_seq[i]\n",
    "\n",
    "        prompt_activations = normalised_by_input[0:end_of_prompt_id]\n",
    "        generated_activations = normalised_by_input[end_of_prompt_id:]\n",
    "\n",
    "    # test 1: Sum(gen_act) - Sum(promp_act)\n",
    "    # result = t.stack(generated_activations).sum(dim=0) - t.stack(prompt_activations).sum(dim=0)\n",
    "    # # Seems to create even more difference between datasets\n",
    "\n",
    "    # # test 2: the baseline just last line\n",
    "    # result = generated_activations[-1]\n",
    "\n",
    "    # # test 3: add generated tokens\n",
    "    # result = generated_activations.sum(dim=0)\n",
    "\n",
    "    # test 4: add all tokens\n",
    "    # result = t.stack(prompt_activations + generated_activations).sum(dim=0)\n",
    "\n",
    "    # test 5: concatenate last 2 gen tokens\n",
    "    # result = t.cat(generated_activations[-2:])\n",
    "\n",
    "    # # test 6: ultipenultime gen tokens\n",
    "    # result = generated_activations[-2]\n",
    "\n",
    "    # # test 7: mean of each row of gen tokens\n",
    "    # result = generated_activations.mean(dim=0)\n",
    "\n",
    "    # # test 8: mean of each row of gen tokens sub promp mean\n",
    "    result = generated_activations.mean(dim=0) - prompt_activations.mean(dim=0)\n",
    "\n",
    "    # test 8.1: Mean of all activation of line X\n",
    "    # result = normalised_by_input.mean(dim=0)\n",
    "\n",
    "    # test 8.2: Concatenate { input token : Mean of gen - mean of prompt : last generated token\n",
    "    # result = t.cat([generated_activations.mean(dim=0) - prompt_activations.mean(dim=0), generated_activations[-1], all_input_seq[end_of_prompt_id:].mean(dim=0)], dim=0)\n",
    "\n",
    "\n",
    "    # # test 9: Clipped to threshold + mean gen\n",
    "    # clip_value = 3\n",
    "    # result = t.clip(t.stack(generated_activations), min=clip_value, max=None)\n",
    "    # result[result == clip_value] = 0\n",
    "    # # print(result[0])\n",
    "    # result = result.mean(dim=0)\n",
    "\n",
    "    # # test 10: Clipped to threshold + mean gen + sub mean of same prompt token\n",
    "    # clip_value = 1\n",
    "    # a = t.clip(t.abs(t.stack(generated_activations)), min=clip_value, max=None)\n",
    "    # p = t.clip(t.abs(t.stack(prompt_activations)), min=clip_value, max=None)\n",
    "    # a[a == clip_value] = 0\n",
    "    # p[p == clip_value] = 0\n",
    "    # result = a.mean(dim=0) - p.mean(dim=0)\n",
    "\n",
    "    # test 11: mean gen - prompt, then threshold\n",
    "    # clip_value = 2\n",
    "    # result = t.clip(t.stack(generated_activations).mean(dim=0) - t.stack(prompt_activations).mean(dim=0), min=clip_value, max=None)\n",
    "    # result[result == clip_value] = 0\n",
    "\n",
    "    # print(result.shape)\n",
    "    return  tensor2array(result)\n",
    "\n",
    "\n",
    "out = activation_selection(data_list[0])\n",
    "print(out)\n",
    "# print(len(np.where(out>0)[0]))"
   ]
  },
  {
   "cell_type": "code",
   "execution_count": 39,
   "metadata": {},
   "outputs": [],
   "source": [
    "def train_and_fit_flat(train_condition, mode=\"PCA\", get_projection=False, group_norm=False):\n",
    "    X = np.array([activation_selection(data_list[i]) for i in range(len(data_list))])\n",
    "    Y = np.array([type_of_input_labeling(data_list[i]) for i in range(len(data_list))])\n",
    "\n",
    "    # Do a PCA projection for each layer\n",
    "    layer_pca = []\n",
    "    pca_training_data_indices = np.array(list(filter(train_condition, enumerate(data_list))))[:, 0]\n",
    "    print(\"Size of training data:\", len(pca_training_data_indices))\n",
    "\n",
    "    # Train on one problem\n",
    "    data_states = X\n",
    "    if group_norm:\n",
    "        data_states = normlise_by_data_type(data_list, data_states)\n",
    "    if mode==\"PCA\":\n",
    "        pca = PCA(n_components=4)\n",
    "        train_d = [data_states[i] for i in pca_training_data_indices]\n",
    "        pca.fit(train_d)\n",
    "        train_d -= np.mean(train_d, axis=0)\n",
    "        cov_matrix = np.dot(train_d.T, train_d) / len(train_d)\n",
    "        for eigenvector in pca.components_:\n",
    "            print(\"Eigenvalue: \", np.dot(eigenvector.T, np.dot(cov_matrix, eigenvector)))\n",
    "    elif mode==\"LDA\":\n",
    "        pca = LDA(n_components=1)\n",
    "        pca.fit([data_states[i] for i in pca_training_data_indices], [Y[i] for i in pca_training_data_indices])\n",
    "    elif mode==\"FA\":\n",
    "        pca = FactorAnalysis(n_components=2, rotation=\"varimax\")\n",
    "        pca.fit([data_states[i] for i in pca_training_data_indices], [Y[i] for i in pca_training_data_indices])\n",
    "\n",
    "    x = pca.transform(data_states)\n",
    "\n",
    "    # Every label is multiplied by the number of layers in order to have a data point for each input x layer\n",
    "    # Labels\n",
    "    input_text = np.array([data_list[i].input_text  for i in range(len(data_list))])\n",
    "    data_type = np.array([data_list[i].__class__.__name__  for i in range(len(data_list))])\n",
    "    output_length = np.array([data_list[i].output_length  for i in range(len(data_list))]) \n",
    "    swtich = np.array([data_list[i].switch_name  for i in range(len(data_list))])\n",
    "    output_text = np.array([data_list[i].output_text  for i in range(len(data_list))])\n",
    "    sufix = np.array([1 if data_list[i].sufix else 0  for i in range(len(data_list))])\n",
    "\n",
    "    if mode==\"PCA\":\n",
    "        df = pd.DataFrame(zip(x[:, 0], x[:, 1], x[:, 2], x[:, 3], input_text, Y, data_type, output_length, swtich, output_text, sufix), \n",
    "                    columns=['pca1', 'pca2', 'pca3', 'pca4', \"input/output\", \"label\", \"data_type\", \"output_length\", \"switch\", \"output_text\", \"sufix\"])\n",
    "    elif mode==\"LDA\":\n",
    "        df = pd.DataFrame(zip(x[:, 0], input_text, Y, data_type, output_length, swtich, output_text, sufix), \n",
    "                    columns=['pca1', \"input/output\", \"label\", \"data_type\", \"output_length\", \"switch\", \"output_text\", \"sufix\"])\n",
    "    elif mode==\"FA\":\n",
    "        df = pd.DataFrame(zip(x[:, 0], x[:, 1], input_text, Y, data_type, output_length, swtich, output_text, sufix), \n",
    "                    columns=['pca1', 'pca2', \"input/output\", \"label\", \"data_type\", \"output_length\", \"switch\", \"output_text\", \"sufix\"])\n",
    "\n",
    "    if get_projection:\n",
    "        return df, pca\n",
    "    return df"
   ]
  },
  {
   "cell_type": "code",
   "execution_count": 40,
   "metadata": {},
   "outputs": [],
   "source": [
    "def train_and_fit_pca(train_condition, mode=\"PCA\"):\n",
    "    X = np.array([activation_selection(data_list[i]) for i in range(len(data_list))])\n",
    "    Y = np.array([type_of_input_labeling(data_list[i]) for i in range(len(data_list))])\n",
    "\n",
    "    label_colors = [simple_label2color(y) for y in Y]\n",
    "\n",
    "    # Do a PCA projection for each layer\n",
    "    layer_pca = []\n",
    "    layer_id = []\n",
    "    pca_training_data_indices = np.array(list(filter(train_condition, enumerate(data_list))))[:, 0]\n",
    "    print(\"Size of training data:\", len(pca_training_data_indices))\n",
    "    for layer_nb in range(32):\n",
    "        # Train on one problem\n",
    "        data_states = X[:, layer_nb]\n",
    "        data_states = normlise_by_data_type(data_list, data_states)\n",
    "        if mode==\"PCA\":\n",
    "            pca = PCA(n_components=2)    \n",
    "            train_d = [data_states[i] for i in pca_training_data_indices]\n",
    "            pca.fit(train_d)\n",
    "            train_d -= np.mean(train_d, axis=0)\n",
    "            cov_matrix = np.dot(train_d.T, train_d) / len(train_d)\n",
    "            for eigenvector in pca.components_:\n",
    "                print(\"Eigenvalue: \", np.dot(eigenvector.T, np.dot(cov_matrix, eigenvector)))\n",
    "        elif mode==\"LDA\":\n",
    "            pca = LDA(n_components=1)    \n",
    "            pca.fit([data_states[i] for i in pca_training_data_indices], [Y[i] for i in pca_training_data_indices])\n",
    "        x = pca.transform(data_states)\n",
    "        layer_pca.extend(x)\n",
    "        a = np.empty(len(x))\n",
    "        a.fill(layer_nb)\n",
    "        layer_id.extend(a)\n",
    "\n",
    "    layer_pca = np.array(layer_pca)\n",
    "    layer_id = np.array(layer_id)\n",
    "\n",
    "    # Every label is multiplied by the number of layers in order to have a data point for each input x layer\n",
    "    # Labels\n",
    "    # y = np.array([data_list[i].label for i in range(len(data_list))])\n",
    "    y_layered = np.tile(Y, (32))\n",
    "\n",
    "    input_text = np.array([data_list[i].input_text  for i in range(len(data_list))])\n",
    "    inputs_layered = np.tile(input_text, 32)\n",
    "\n",
    "    data_type = np.array([data_list[i].__class__.__name__  for i in range(len(data_list))])\n",
    "    data_type_layered = np.tile(data_type, 32)\n",
    "\n",
    "    output_length = np.array([data_list[i].output_length  for i in range(len(data_list))]) \n",
    "    output_length_layered = np.tile(output_length, 32)\n",
    "\n",
    "    swtich = np.array([data_list[i].switch_name  for i in range(len(data_list))])\n",
    "    swtich_layered = np.tile(swtich, 32)\n",
    "\n",
    "    output_text = np.array([data_list[i].output_text  for i in range(len(data_list))])\n",
    "    output_text_layered = np.tile(output_text, 32)\n",
    "\n",
    "    sufix = np.array([1 if data_list[i].sufix else 0  for i in range(len(data_list))])\n",
    "    sufix_layered = np.tile(sufix, 32)\n",
    "\n",
    "    if mode==\"PCA\":\n",
    "        df = pd.DataFrame(zip(layer_pca[:, 0], layer_pca[:, 1], inputs_layered, layer_id, y_layered, data_type_layered, output_length_layered, swtich_layered, output_text_layered, sufix_layered), \n",
    "                    columns=['pca1', 'pca2', \"input/output\", \"layer_id\", \"label\", \"data_type\", \"output_length\", \"switch\", \"output_text\", \"sufix\"])\n",
    "    elif mode==\"LDA\":\n",
    "        df = pd.DataFrame(zip(layer_pca[:, 0], inputs_layered, layer_id, y_layered, data_type_layered, output_length_layered, swtich_layered, output_text_layered, sufix_layered), \n",
    "                    columns=['pca1', \"input/output\", \"layer_id\", \"label\", \"data_type\", \"output_length\", \"switch\", \"output_text\", \"sufix\"])\n",
    "\n",
    "    return df"
   ]
  },
  {
   "cell_type": "code",
   "execution_count": 41,
   "metadata": {},
   "outputs": [
    {
     "name": "stdout",
     "output_type": "stream",
     "text": [
      "Size of training data: 210\n",
      "Eigenvalue:  1.6927718572083361\n",
      "Eigenvalue:  0.9427927287840296\n",
      "Eigenvalue:  0.60493044690117\n",
      "Eigenvalue:  0.29518286286785955\n"
     ]
    }
   ],
   "source": [
    "# TRAIN PCA\n",
    "\n",
    "train_condition_fun = lambda el: el[1].__class__.__name__ in [\"french_word\"] and len(el[1].output_text) > 10 #, \"french_word\"] #and len(el[1].output_text) > 10 #and el[1].input_text in [\"Time\", \"Blorble\", \"blorple\", \"Teacher\"]\n",
    "df, proj = train_and_fit_flat(train_condition_fun, mode=\"PCA\", get_projection=True, group_norm=True)"
   ]
  },
  {
   "cell_type": "code",
   "execution_count": 42,
   "metadata": {},
   "outputs": [
    {
     "data": {
      "text/html": [
       "<div>\n",
       "<style scoped>\n",
       "    .dataframe tbody tr th:only-of-type {\n",
       "        vertical-align: middle;\n",
       "    }\n",
       "\n",
       "    .dataframe tbody tr th {\n",
       "        vertical-align: top;\n",
       "    }\n",
       "\n",
       "    .dataframe thead th {\n",
       "        text-align: right;\n",
       "    }\n",
       "</style>\n",
       "<table border=\"1\" class=\"dataframe\">\n",
       "  <thead>\n",
       "    <tr style=\"text-align: right;\">\n",
       "      <th></th>\n",
       "      <th>pca1</th>\n",
       "      <th>pca2</th>\n",
       "      <th>pca3</th>\n",
       "      <th>pca4</th>\n",
       "      <th>input/output</th>\n",
       "      <th>label</th>\n",
       "      <th>data_type</th>\n",
       "      <th>output_length</th>\n",
       "      <th>switch</th>\n",
       "      <th>output_text</th>\n",
       "      <th>sufix</th>\n",
       "    </tr>\n",
       "  </thead>\n",
       "  <tbody>\n",
       "    <tr>\n",
       "      <th>0</th>\n",
       "      <td>1.805943</td>\n",
       "      <td>1.249200</td>\n",
       "      <td>-0.712739</td>\n",
       "      <td>-0.382575</td>\n",
       "      <td>Time</td>\n",
       "      <td>2</td>\n",
       "      <td>english_word</td>\n",
       "      <td>131</td>\n",
       "      <td>real</td>\n",
       "      <td>Time is the measure of the duration of events ...</td>\n",
       "      <td>1</td>\n",
       "    </tr>\n",
       "    <tr>\n",
       "      <th>1</th>\n",
       "      <td>2.125493</td>\n",
       "      <td>0.518832</td>\n",
       "      <td>-0.841861</td>\n",
       "      <td>-0.654143</td>\n",
       "      <td>Year</td>\n",
       "      <td>2</td>\n",
       "      <td>english_word</td>\n",
       "      <td>97</td>\n",
       "      <td>real</td>\n",
       "      <td>A year is a unit of time equal to 365.24 days,...</td>\n",
       "      <td>1</td>\n",
       "    </tr>\n",
       "    <tr>\n",
       "      <th>2</th>\n",
       "      <td>2.023821</td>\n",
       "      <td>1.542811</td>\n",
       "      <td>-0.277542</td>\n",
       "      <td>-0.562998</td>\n",
       "      <td>People</td>\n",
       "      <td>2</td>\n",
       "      <td>english_word</td>\n",
       "      <td>74</td>\n",
       "      <td>real</td>\n",
       "      <td>A group of human beings, including individuals...</td>\n",
       "      <td>1</td>\n",
       "    </tr>\n",
       "    <tr>\n",
       "      <th>3</th>\n",
       "      <td>1.498453</td>\n",
       "      <td>1.487503</td>\n",
       "      <td>-0.324737</td>\n",
       "      <td>0.145897</td>\n",
       "      <td>Way</td>\n",
       "      <td>2</td>\n",
       "      <td>english_word</td>\n",
       "      <td>99</td>\n",
       "      <td>real</td>\n",
       "      <td>A way is a path or route, typically on foot or...</td>\n",
       "      <td>1</td>\n",
       "    </tr>\n",
       "    <tr>\n",
       "      <th>4</th>\n",
       "      <td>1.819127</td>\n",
       "      <td>0.883333</td>\n",
       "      <td>-0.749241</td>\n",
       "      <td>-0.260794</td>\n",
       "      <td>Day</td>\n",
       "      <td>2</td>\n",
       "      <td>english_word</td>\n",
       "      <td>105</td>\n",
       "      <td>real</td>\n",
       "      <td>A day is a unit of time, equivalent to 24 hour...</td>\n",
       "      <td>1</td>\n",
       "    </tr>\n",
       "    <tr>\n",
       "      <th>...</th>\n",
       "      <td>...</td>\n",
       "      <td>...</td>\n",
       "      <td>...</td>\n",
       "      <td>...</td>\n",
       "      <td>...</td>\n",
       "      <td>...</td>\n",
       "      <td>...</td>\n",
       "      <td>...</td>\n",
       "      <td>...</td>\n",
       "      <td>...</td>\n",
       "      <td>...</td>\n",
       "    </tr>\n",
       "    <tr>\n",
       "      <th>93</th>\n",
       "      <td>1.834022</td>\n",
       "      <td>1.340417</td>\n",
       "      <td>0.612840</td>\n",
       "      <td>-0.046438</td>\n",
       "      <td>Moment</td>\n",
       "      <td>2</td>\n",
       "      <td>english_word</td>\n",
       "      <td>114</td>\n",
       "      <td>real</td>\n",
       "      <td>A moment is a brief instant or point in time, ...</td>\n",
       "      <td>1</td>\n",
       "    </tr>\n",
       "    <tr>\n",
       "      <th>94</th>\n",
       "      <td>1.980397</td>\n",
       "      <td>0.721548</td>\n",
       "      <td>-1.091119</td>\n",
       "      <td>-0.406992</td>\n",
       "      <td>Air</td>\n",
       "      <td>2</td>\n",
       "      <td>english_word</td>\n",
       "      <td>105</td>\n",
       "      <td>real</td>\n",
       "      <td>Air is the invisible mixture of gases that sur...</td>\n",
       "      <td>1</td>\n",
       "    </tr>\n",
       "    <tr>\n",
       "      <th>95</th>\n",
       "      <td>1.659733</td>\n",
       "      <td>1.670298</td>\n",
       "      <td>-0.740747</td>\n",
       "      <td>-0.076958</td>\n",
       "      <td>Teacher</td>\n",
       "      <td>2</td>\n",
       "      <td>english_word</td>\n",
       "      <td>143</td>\n",
       "      <td>real</td>\n",
       "      <td>A teacher is an individual who educates and gu...</td>\n",
       "      <td>1</td>\n",
       "    </tr>\n",
       "    <tr>\n",
       "      <th>96</th>\n",
       "      <td>1.748493</td>\n",
       "      <td>1.925999</td>\n",
       "      <td>-0.049101</td>\n",
       "      <td>-0.244874</td>\n",
       "      <td>Force</td>\n",
       "      <td>2</td>\n",
       "      <td>english_word</td>\n",
       "      <td>100</td>\n",
       "      <td>real</td>\n",
       "      <td>Force is the application of energy or strength...</td>\n",
       "      <td>1</td>\n",
       "    </tr>\n",
       "    <tr>\n",
       "      <th>97</th>\n",
       "      <td>1.825773</td>\n",
       "      <td>1.608424</td>\n",
       "      <td>-0.526813</td>\n",
       "      <td>-0.204952</td>\n",
       "      <td>Education</td>\n",
       "      <td>2</td>\n",
       "      <td>english_word</td>\n",
       "      <td>127</td>\n",
       "      <td>real</td>\n",
       "      <td>The process of teaching, learning, and acquiri...</td>\n",
       "      <td>1</td>\n",
       "    </tr>\n",
       "  </tbody>\n",
       "</table>\n",
       "<p>98 rows × 11 columns</p>\n",
       "</div>"
      ],
      "text/plain": [
       "        pca1      pca2      pca3      pca4 input/output  label     data_type  \\\n",
       "0   1.805943  1.249200 -0.712739 -0.382575         Time      2  english_word   \n",
       "1   2.125493  0.518832 -0.841861 -0.654143         Year      2  english_word   \n",
       "2   2.023821  1.542811 -0.277542 -0.562998       People      2  english_word   \n",
       "3   1.498453  1.487503 -0.324737  0.145897          Way      2  english_word   \n",
       "4   1.819127  0.883333 -0.749241 -0.260794          Day      2  english_word   \n",
       "..       ...       ...       ...       ...          ...    ...           ...   \n",
       "93  1.834022  1.340417  0.612840 -0.046438       Moment      2  english_word   \n",
       "94  1.980397  0.721548 -1.091119 -0.406992          Air      2  english_word   \n",
       "95  1.659733  1.670298 -0.740747 -0.076958      Teacher      2  english_word   \n",
       "96  1.748493  1.925999 -0.049101 -0.244874        Force      2  english_word   \n",
       "97  1.825773  1.608424 -0.526813 -0.204952    Education      2  english_word   \n",
       "\n",
       "    output_length switch                                        output_text  \\\n",
       "0             131   real  Time is the measure of the duration of events ...   \n",
       "1              97   real  A year is a unit of time equal to 365.24 days,...   \n",
       "2              74   real  A group of human beings, including individuals...   \n",
       "3              99   real  A way is a path or route, typically on foot or...   \n",
       "4             105   real  A day is a unit of time, equivalent to 24 hour...   \n",
       "..            ...    ...                                                ...   \n",
       "93            114   real  A moment is a brief instant or point in time, ...   \n",
       "94            105   real  Air is the invisible mixture of gases that sur...   \n",
       "95            143   real  A teacher is an individual who educates and gu...   \n",
       "96            100   real  Force is the application of energy or strength...   \n",
       "97            127   real  The process of teaching, learning, and acquiri...   \n",
       "\n",
       "    sufix  \n",
       "0       1  \n",
       "1       1  \n",
       "2       1  \n",
       "3       1  \n",
       "4       1  \n",
       "..    ...  \n",
       "93      1  \n",
       "94      1  \n",
       "95      1  \n",
       "96      1  \n",
       "97      1  \n",
       "\n",
       "[98 rows x 11 columns]"
      ]
     },
     "execution_count": 42,
     "metadata": {},
     "output_type": "execute_result"
    }
   ],
   "source": [
    "df[(df[\"data_type\"] == \"english_word\") & (df[\"label\"]== 2)]"
   ]
  },
  {
   "cell_type": "code",
   "execution_count": 43,
   "metadata": {},
   "outputs": [],
   "source": [
    "# print(df[(df[\"data_type\"] == \"conspiracy\") & (df[\"output_length\"] is not None)& (df[\"label\"] == 2) & (df[\"input/output\"] == \"Watergate Scandal\") & (df[\"layer_id\"] == 16)][\"output_text\"].item())"
   ]
  },
  {
   "cell_type": "code",
   "execution_count": 45,
   "metadata": {},
   "outputs": [
    {
     "data": {
      "application/vnd.plotly.v1+json": {
       "config": {
        "plotlyServerURL": "https://plot.ly"
       },
       "data": [
        {
         "customdata": [
          [
           "Time",
           131,
           "real"
          ],
          [
           "Year",
           97,
           "real"
          ],
          [
           "People",
           74,
           "real"
          ],
          [
           "Way",
           99,
           "real"
          ],
          [
           "Day",
           105,
           "real"
          ],
          [
           "Man",
           20,
           "real"
          ],
          [
           "Thing",
           91,
           "real"
          ],
          [
           "Woman",
           28,
           "real"
          ],
          [
           "Life",
           115,
           "real"
          ],
          [
           "Child",
           146,
           "real"
          ],
          [
           "World",
           92,
           "real"
          ],
          [
           "School",
           146,
           "real"
          ],
          [
           "State",
           90,
           "real"
          ],
          [
           "Family",
           119,
           "real"
          ],
          [
           "Student",
           114,
           "real"
          ],
          [
           "Group",
           117,
           "real"
          ],
          [
           "Country",
           89,
           "real"
          ],
          [
           "Problem",
           102,
           "real"
          ],
          [
           "Hand",
           125,
           "real"
          ],
          [
           "Part",
           110,
           "real"
          ],
          [
           "Place",
           87,
           "real"
          ],
          [
           "Case",
           106,
           "real"
          ],
          [
           "Week",
           45,
           "real"
          ],
          [
           "Company",
           140,
           "real"
          ],
          [
           "System",
           103,
           "real"
          ],
          [
           "Program",
           140,
           "real"
          ],
          [
           "Question",
           78,
           "real"
          ],
          [
           "Work",
           112,
           "real"
          ],
          [
           "Government",
           129,
           "real"
          ],
          [
           "Number",
           70,
           "real"
          ],
          [
           "Night",
           122,
           "real"
          ],
          [
           "Point",
           56,
           "real"
          ],
          [
           "Home",
           129,
           "real"
          ],
          [
           "Water",
           138,
           "real"
          ],
          [
           "Room",
           96,
           "real"
          ],
          [
           "Mother",
           66,
           "real"
          ],
          [
           "Area",
           141,
           "real"
          ],
          [
           "Money",
           123,
           "real"
          ],
          [
           "Story",
           106,
           "real"
          ],
          [
           "Fact",
           130,
           "real"
          ],
          [
           "Month",
           80,
           "real"
          ],
          [
           "Lot",
           122,
           "real"
          ],
          [
           "Right",
           55,
           "real"
          ],
          [
           "Study",
           113,
           "real"
          ],
          [
           "Book",
           114,
           "real"
          ],
          [
           "Eye",
           113,
           "real"
          ],
          [
           "Job",
           105,
           "real"
          ],
          [
           "Business",
           116,
           "real"
          ],
          [
           "Issue",
           64,
           "real"
          ],
          [
           "Side",
           118,
           "real"
          ],
          [
           "Kind",
           69,
           "real"
          ],
          [
           "Head",
           96,
           "real"
          ],
          [
           "House",
           122,
           "real"
          ],
          [
           "Service",
           67,
           "real"
          ],
          [
           "Friend",
           138,
           "real"
          ],
          [
           "Father",
           52,
           "real"
          ],
          [
           "Power",
           115,
           "real"
          ],
          [
           "Hour",
           72,
           "real"
          ],
          [
           "Game",
           143,
           "real"
          ],
          [
           "Line",
           67,
           "real"
          ],
          [
           "End",
           88,
           "real"
          ],
          [
           "Member",
           94,
           "real"
          ],
          [
           "Law",
           133,
           "real"
          ],
          [
           "Car",
           137,
           "real"
          ],
          [
           "City",
           142,
           "real"
          ],
          [
           "Community",
           123,
           "real"
          ],
          [
           "Name",
           69,
           "real"
          ],
          [
           "President",
           118,
           "real"
          ],
          [
           "Team",
           88,
           "real"
          ],
          [
           "Minute",
           47,
           "real"
          ],
          [
           "Idea",
           67,
           "real"
          ],
          [
           "Kid",
           117,
           "real"
          ],
          [
           "Body",
           175,
           "real"
          ],
          [
           "Information",
           99,
           "real"
          ],
          [
           "Back",
           108,
           "real"
          ],
          [
           "Parent",
           99,
           "real"
          ],
          [
           "Face",
           75,
           "real"
          ],
          [
           "Level",
           121,
           "real"
          ],
          [
           "Office",
           105,
           "real"
          ],
          [
           "Door",
           96,
           "real"
          ],
          [
           "Health",
           99,
           "real"
          ],
          [
           "Person",
           107,
           "real"
          ],
          [
           "Art",
           219,
           "real"
          ],
          [
           "War",
           73,
           "real"
          ],
          [
           "History",
           152,
           "real"
          ],
          [
           "Party",
           84,
           "real"
          ],
          [
           "Result",
           86,
           "real"
          ],
          [
           "Change",
           49,
           "real"
          ],
          [
           "Morning",
           126,
           "real"
          ],
          [
           "Reason",
           77,
           "real"
          ],
          [
           "Research",
           131,
           "real"
          ],
          [
           "Girl",
           77,
           "real"
          ],
          [
           "Guy",
           113,
           "real"
          ],
          [
           "Moment",
           114,
           "real"
          ],
          [
           "Air",
           105,
           "real"
          ],
          [
           "Teacher",
           143,
           "real"
          ],
          [
           "Force",
           100,
           "real"
          ],
          [
           "Education",
           127,
           "real"
          ]
         ],
         "hovertemplate": "label=2<br>data_type=english_word<br>pca1=%{x}<br>pca2=%{y}<br>input/output=%{customdata[0]}<br>output_length=%{customdata[1]}<br>switch=%{customdata[2]}<extra></extra>",
         "legendgroup": "2, english_word",
         "marker": {
          "color": "#ef6c00",
          "symbol": "circle"
         },
         "mode": "markers",
         "name": "2, english_word",
         "orientation": "v",
         "showlegend": true,
         "type": "scatter",
         "x": [
          1.8059426149485773,
          2.1254930909462617,
          2.023821318609499,
          1.4984529369900412,
          1.8191273405560175,
          2.5569468690004564,
          1.542392790880389,
          2.4636375226615748,
          2.0815048983917377,
          2.054887529972324,
          1.963495118356882,
          1.837077942264281,
          2.035412948176837,
          1.8247179556271704,
          1.8036478229170898,
          1.6621824778407541,
          1.9187857952127305,
          1.7526033489817807,
          1.8184437944632537,
          1.4902762047816793,
          1.5364912674708957,
          1.876257630897452,
          1.8593198896100098,
          1.7390393566802618,
          1.5679712863172017,
          1.6822756282881803,
          2.0104675951274955,
          1.5861780371657712,
          1.809309173780775,
          1.8197529498130365,
          2.1982956352040386,
          1.9441875958134736,
          1.7213416568282325,
          2.153857201805403,
          1.4303404331597984,
          1.931522110805275,
          2.021717111467187,
          1.7853111478500312,
          1.6700179690722803,
          1.6505588952273942,
          1.8282427098324954,
          1.6035541733187053,
          2.424085542276508,
          1.6382007005497876,
          1.8056679390412964,
          2.041256899699556,
          1.8202344462320592,
          1.6813911390955978,
          1.9215805546219535,
          1.9698393695974032,
          2.0385283694137994,
          1.9478313807898429,
          1.4937962882519624,
          1.9162339977281402,
          1.7615660821733479,
          2.0248328589870397,
          1.9038391450302017,
          2.0165352053051806,
          1.5207423406863882,
          2.0131388434441657,
          1.6867409411775456,
          1.622993122179459,
          1.7820615954270411,
          1.5998342072372806,
          1.8238183177081386,
          1.757261220657718,
          1.94053695827852,
          1.9060069155153299,
          1.606706995613168,
          1.936164209758981,
          2.1927576612720396,
          2.1700927458610884,
          1.8221834414709188,
          1.789094687773353,
          2.0698332925709813,
          1.7947019287388217,
          2.095554062517114,
          1.7339867366637502,
          1.604443396856476,
          1.5269069321187565,
          2.103117404183769,
          2.011776595632455,
          2.0044930795050306,
          1.9687882602084295,
          1.7797570106151341,
          1.5708650368258505,
          1.8620312834312038,
          2.1986363245632847,
          2.033934602389674,
          1.8779568765934647,
          1.9392236384596024,
          2.1838089414692945,
          1.8675924256745675,
          1.8340224008120871,
          1.980397066811538,
          1.6597332357493682,
          1.748493066603751,
          1.8257729703049532
         ],
         "xaxis": "x",
         "y": [
          1.2491999087051537,
          0.518832171342184,
          1.5428112599334383,
          1.4875030174896415,
          0.8833331474067698,
          0.475916145199024,
          1.877177284866014,
          0.6029630463728863,
          1.5615997157828494,
          1.0808712132900724,
          1.0639548258730491,
          1.1405613374348345,
          1.411963306342253,
          1.325102558151331,
          1.3577830971721152,
          1.9754717702979667,
          1.2332306583570245,
          1.8620459411090824,
          1.0722531991680746,
          2.1703169668715163,
          1.9893625409825733,
          1.2157117538103692,
          0.4500487337619127,
          1.7760270874757744,
          2.294254293272523,
          1.907585589488926,
          1.4253560094831856,
          2.0955339482380695,
          1.704715794089207,
          1.5442949498816667,
          0.9273634269163076,
          1.1793557737289968,
          1.5038224473296835,
          0.4782580285024845,
          1.8609964155129135,
          0.8897569287753895,
          1.105976175379131,
          1.271253697139126,
          1.664222274214828,
          1.8627291527111685,
          0.6677495730425695,
          1.380147035986289,
          0.937670635787399,
          1.8970236005845789,
          1.2348765400467885,
          0.8507388384607218,
          1.6943594820993786,
          1.7290569557817097,
          1.6842236197300358,
          0.9894801954443598,
          0.7475040818151192,
          0.7567257040729396,
          1.5438768849620348,
          1.5690979089498567,
          1.4858349189137172,
          0.6955873820370695,
          1.6841309113142344,
          0.6230909246282781,
          1.8760135375821543,
          0.9075527832740089,
          1.6084797151984391,
          2.001586501374909,
          1.6878145524771395,
          1.044815139759124,
          1.219924170726694,
          1.6422378275800882,
          1.3204607718323733,
          0.9505457245848793,
          2.0065346283815098,
          0.2313988929427296,
          1.3810342741546369,
          0.722473842484571,
          1.7130114362150297,
          2.0272853652832223,
          0.5265863121714411,
          1.293396378830629,
          0.8585642776541169,
          1.5336350299904262,
          1.5906552947946946,
          1.556353236867938,
          1.0167957393675517,
          1.372593076862409,
          1.466106448174987,
          0.9181646605592882,
          1.6321946441593957,
          1.8097143711669716,
          1.7420906681372277,
          1.601595028329988,
          0.6609777475278847,
          1.5884240488224775,
          1.675075842850232,
          0.4571823691461648,
          0.5106561163103686,
          1.3404171093939516,
          0.7215483969829516,
          1.670297811298398,
          1.9259986656329189,
          1.6084238394937604
         ],
         "yaxis": "y"
        },
        {
         "customdata": [
          [
           "Blorble",
           102,
           "fake"
          ],
          [
           "Flynth",
           89,
           "fake"
          ],
          [
           "Quindle",
           87,
           "fake"
          ],
          [
           "Wimbish",
           92,
           "fake"
          ],
          [
           "Flaxet",
           84,
           "fake"
          ],
          [
           "Snorfle",
           104,
           "fake"
          ],
          [
           "Glimmeron",
           96,
           "fake"
          ],
          [
           "Jorkle",
           109,
           "fake"
          ],
          [
           "Bramblet",
           114,
           "fake"
          ],
          [
           "Sproon",
           77,
           "fake"
          ],
          [
           "Veltor",
           84,
           "fake"
          ],
          [
           "Crimble",
           84,
           "fake"
          ],
          [
           "Zindle",
           76,
           "fake"
          ],
          [
           "Blorple",
           131,
           "fake"
          ],
          [
           "Fizzet",
           106,
           "fake"
          ],
          [
           "Dronth",
           93,
           "fake"
          ],
          [
           "Wobblet",
           147,
           "fake"
          ],
          [
           "Ploomish",
           126,
           "fake"
          ],
          [
           "Glaiveon",
           96,
           "fake"
          ],
          [
           "Quorble",
           142,
           "fake"
          ],
          [
           "Strindle",
           88,
           "fake"
          ],
          [
           "Plimble",
           90,
           "fake"
          ],
          [
           "Brindish",
           114,
           "fake"
          ],
          [
           "Flizet",
           103,
           "fake"
          ],
          [
           "Chorkle",
           94,
           "fake"
          ],
          [
           "Glomble",
           112,
           "fake"
          ],
          [
           "Tindle",
           80,
           "fake"
          ],
          [
           "Framble",
           122,
           "fake"
          ],
          [
           "Vextron",
           101,
           "fake"
          ],
          [
           "Snindle",
           36,
           "fake"
          ],
          [
           "Brimpet",
           82,
           "fake"
          ],
          [
           "Zorble",
           130,
           "fake"
          ],
          [
           "Blinter",
           82,
           "fake"
          ],
          [
           "Floomish",
           117,
           "fake"
          ],
          [
           "Drindle",
           89,
           "fake"
          ],
          [
           "Plicket",
           93,
           "fake"
          ],
          [
           "Glompel",
           82,
           "fake"
          ],
          [
           "Wramble",
           137,
           "fake"
          ],
          [
           "Crindle",
           88,
           "fake"
          ],
          [
           "Vornish",
           81,
           "fake"
          ],
          [
           "Blimble",
           93,
           "fake"
          ],
          [
           "Flumble",
           85,
           "fake"
          ],
          [
           "Snorple",
           102,
           "fake"
          ],
          [
           "Zintle",
           74,
           "fake"
          ],
          [
           "Glimble",
           79,
           "fake"
          ],
          [
           "Plindle",
           80,
           "fake"
          ],
          [
           "Quorlet",
           79,
           "fake"
          ],
          [
           "Thrumble",
           130,
           "fake"
          ],
          [
           "Brinkle",
           126,
           "fake"
          ],
          [
           "Fuzzle",
           105,
           "fake"
          ],
          [
           "Wimbel",
           124,
           "fake"
          ],
          [
           "Flonkle",
           116,
           "fake"
          ],
          [
           "Glindle",
           71,
           "fake"
          ],
          [
           "Zorlet",
           82,
           "fake"
          ],
          [
           "Dribblet",
           94,
           "fake"
          ],
          [
           "Splimble",
           128,
           "fake"
          ],
          [
           "Vlimp",
           68,
           "fake"
          ],
          [
           "Frindle",
           127,
           "fake"
          ],
          [
           "Quomp",
           87,
           "fake"
          ],
          [
           "Blimblet",
           83,
           "fake"
          ],
          [
           "Womble",
           156,
           "fake"
          ],
          [
           "Glimmeret",
           87,
           "fake"
          ],
          [
           "Jorple",
           35,
           "fake"
          ],
          [
           "Snibble",
           100,
           "fake"
          ],
          [
           "Plumble",
           76,
           "fake"
          ],
          [
           "Brumble",
           56,
           "fake"
          ],
          [
           "Vindle",
           84,
           "fake"
          ],
          [
           "Blorkle",
           96,
           "fake"
          ],
          [
           "Strindle",
           98,
           "fake"
          ],
          [
           "Wornish",
           87,
           "fake"
          ],
          [
           "Quizzle",
           96,
           "fake"
          ],
          [
           "Drimple",
           126,
           "fake"
          ],
          [
           "Glomplet",
           118,
           "fake"
          ],
          [
           "Brinkle",
           117,
           "fake"
          ],
          [
           "Flindle",
           59,
           "fake"
          ],
          [
           "Snorble",
           134,
           "fake"
          ],
          [
           "Plimblet",
           72,
           "fake"
          ],
          [
           "Vortle",
           85,
           "fake"
          ],
          [
           "Tindle",
           147,
           "fake"
          ],
          [
           "Quornet",
           66,
           "fake"
          ],
          [
           "Fumblet",
           66,
           "fake"
          ],
          [
           "Crimblet",
           102,
           "fake"
          ],
          [
           "Wromble",
           118,
           "fake"
          ],
          [
           "Jindle",
           88,
           "fake"
          ],
          [
           "Snizzle",
           144,
           "fake"
          ],
          [
           "Plomish",
           153,
           "fake"
          ],
          [
           "Brantle",
           65,
           "fake"
          ],
          [
           "Framblet",
           65,
           "fake"
          ],
          [
           "Bimble",
           74,
           "fake"
          ],
          [
           "Chindle",
           137,
           "fake"
          ],
          [
           "Dronkle",
           112,
           "fake"
          ],
          [
           "Friblet",
           92,
           "fake"
          ]
         ],
         "hovertemplate": "label=3<br>data_type=english_word<br>pca1=%{x}<br>pca2=%{y}<br>input/output=%{customdata[0]}<br>output_length=%{customdata[1]}<br>switch=%{customdata[2]}<extra></extra>",
         "legendgroup": "3, english_word",
         "marker": {
          "color": "#eeff41",
          "symbol": "circle"
         },
         "mode": "markers",
         "name": "3, english_word",
         "orientation": "v",
         "showlegend": true,
         "type": "scatter",
         "x": [
          2.635675415350149,
          2.65415284392946,
          2.4837895017275735,
          2.8379689287564025,
          2.751004798886599,
          2.53272625657841,
          3.18178131918091,
          2.621266446261106,
          2.595328786497065,
          2.7213966979414494,
          2.7957521671125756,
          2.600161553072637,
          2.4948146907354376,
          2.6572958554702693,
          2.433037674183102,
          2.800479345676284,
          2.4360901364239136,
          2.6779494971435325,
          2.9512656016869245,
          2.4749368148091695,
          2.3909146125281695,
          2.537115349729409,
          2.5502059800367816,
          2.9790606429481845,
          2.606844476585394,
          2.7624811634600595,
          2.4207480354301545,
          2.303959970564079,
          3.1353080678530216,
          2.9364084217155817,
          2.822616706635208,
          2.3785825892042505,
          2.5539891354047897,
          3.1159280202804682,
          2.365110245813049,
          2.349009776345891,
          2.7311019773872163,
          2.5623246354435336,
          2.5509553211672347,
          2.6899001333568973,
          2.6125530545601587,
          2.279978137408052,
          2.710677693139436,
          2.918056902663161,
          2.6401822095427305,
          2.3538902777930173,
          2.6989185751346687,
          2.4967592390222517,
          2.277854516015788,
          2.202710899661656,
          2.7700953045638084,
          2.681935598363875,
          2.8786081078280277,
          2.7598018361270134,
          2.678912009443602,
          2.678043955296884,
          3.06686424983939,
          2.3194722467410855,
          2.4765281036438718,
          3.158402549414164,
          2.6037805592396372,
          2.917033664153291,
          3.1627148678436043,
          2.3208243010685115,
          2.4365271806703923,
          2.454079404177543,
          2.4984404760824774,
          2.9629864195148166,
          2.360284983824307,
          2.3382140699986524,
          2.3214854030948278,
          2.3060929889847293,
          2.528026311679935,
          2.2830832235551815,
          2.4934509922181975,
          2.8407341609686805,
          2.9951930369442366,
          3.0893959411347223,
          2.2697412231827885,
          2.7598752158295827,
          2.720347699639978,
          3.237846812500564,
          2.5520361799729128,
          2.4554357094782655,
          2.22508160723139,
          2.708440152504886,
          2.6996582924211636,
          2.7121986956013195,
          2.4931387041131554,
          2.0313884085552005,
          2.6923012623017204,
          2.5910566969484283
         ],
         "xaxis": "x",
         "y": [
          -0.09779763145793352,
          -1.0226359355200787,
          -1.4355668137840332,
          -0.5588512202388959,
          -1.2283777010301145,
          -0.20917356054670613,
          -0.2614759011936346,
          -1.2343665106000428,
          -0.49628676060251214,
          -1.1041925199358678,
          -1.294490374346369,
          -0.7560166054742607,
          -1.0541442346154137,
          -0.030519506822676068,
          -0.9077715761283216,
          -0.8711606957734525,
          -0.35211912991522887,
          -0.525292182027445,
          -1.0526406980366227,
          -0.49842104598833875,
          -1.1411120516539381,
          -0.7248772615039455,
          -0.23260858157690806,
          -0.29010350810301533,
          -0.5920551172533521,
          -1.0012108695695334,
          -0.9699241810957799,
          -0.21046335957340567,
          0.00044670323185339034,
          -0.791312910772139,
          -1.2999643109191221,
          -0.6176906847729966,
          -0.9209568746799417,
          0.06951527842638569,
          -1.1512985888690024,
          -0.2563469637512914,
          -0.802737087593724,
          0.34047000004003647,
          -1.3838945519948018,
          -1.1626622637917685,
          -0.9468288142929473,
          -0.20992072733438064,
          -0.2171055385537398,
          -1.1343129723460894,
          -0.4694461967103576,
          -1.2775387702508623,
          -1.001710299162127,
          -0.5883010918897644,
          -0.228347745552313,
          -0.32371041891808017,
          -0.16163573177175347,
          -0.4148712544029387,
          -0.3431586801125307,
          -1.3461503357836135,
          0.21430966444039268,
          -0.8230755589099173,
          -0.2717847641948018,
          0.022302258060059685,
          -0.9347393906405951,
          -0.1867629175399215,
          -0.252606862470268,
          -0.8707688564255707,
          -0.7770139939805711,
          -0.1536491348087975,
          -1.251256984084907,
          -0.769440725219793,
          -0.8497515545906554,
          -0.11595148269752972,
          -1.1827854131358755,
          0.28406325475532757,
          -0.07955083107897108,
          0.21959148079228563,
          -0.3101358104441735,
          -0.2630672747465468,
          -0.405680243051882,
          -0.44279876959923725,
          -1.1638982292181816,
          -0.08868183685607647,
          -0.7535412111327904,
          -0.8777734843002368,
          -0.9668918197385103,
          0.060451928660611,
          -0.5160223544613599,
          -0.8980787322444557,
          -0.5859257733096369,
          -0.5666318307124413,
          -1.0801060005320802,
          -0.5416678415239446,
          -0.35978079339903096,
          -0.3364071897243713,
          -1.2018812856955392,
          -0.8817324754362796
         ],
         "yaxis": "y"
        },
        {
         "customdata": [
          [
           "Accessoire",
           8,
           "real"
          ],
          [
           "Accessoire",
           95,
           "real"
          ],
          [
           "Appareil",
           8,
           "real"
          ],
          [
           "Appareil",
           81,
           "real"
          ],
          [
           "Article",
           5,
           "real"
          ],
          [
           "Article",
           98,
           "real"
          ],
          [
           "Assemblage",
           8,
           "real"
          ],
          [
           "Assemblage",
           102,
           "real"
          ],
          [
           "Atout",
           8,
           "real"
          ],
          [
           "Atout",
           110,
           "real"
          ],
          [
           "Bagage",
           10,
           "real"
          ],
          [
           "Bagage",
           80,
           "real"
          ],
          [
           "Boîte",
           6,
           "real"
          ],
          [
           "Boîte",
           113,
           "real"
          ],
          [
           "Bricolage",
           10,
           "real"
          ],
          [
           "Bricolage",
           135,
           "real"
          ],
          [
           "Brosse",
           7,
           "real"
          ],
          [
           "Brosse",
           95,
           "real"
          ],
          [
           "Cadeau",
           10,
           "real"
          ],
          [
           "Cadeau",
           124,
           "real"
          ],
          [
           "Cadre",
           9,
           "real"
          ],
          [
           "Cadre",
           91,
           "real"
          ],
          [
           "Caractéristique",
           5,
           "real"
          ],
          [
           "Caractéristique",
           120,
           "real"
          ],
          [
           "Catégorie",
           6,
           "real"
          ],
          [
           "Catégorie",
           128,
           "real"
          ],
          [
           "Ceinture",
           18,
           "real"
          ],
          [
           "Ceinture",
           136,
           "real"
          ],
          [
           "Chaise",
           8,
           "real"
          ],
          [
           "Chaise",
           25,
           "real"
          ],
          [
           "Chose",
           8,
           "real"
          ],
          [
           "Chose",
           75,
           "real"
          ],
          [
           "Clé",
           4,
           "real"
          ],
          [
           "Clé",
           98,
           "real"
          ],
          [
           "Collection",
           10,
           "real"
          ],
          [
           "Collection",
           98,
           "real"
          ],
          [
           "Composant",
           7,
           "real"
          ],
          [
           "Composant",
           89,
           "real"
          ],
          [
           "Contenant",
           6,
           "real"
          ],
          [
           "Contenant",
           65,
           "real"
          ],
          [
           "Couverture",
           7,
           "real"
          ],
          [
           "Couverture",
           113,
           "real"
          ],
          [
           "Décoration",
           8,
           "real"
          ],
          [
           "Décoration",
           126,
           "real"
          ],
          [
           "Détail",
           10,
           "real"
          ],
          [
           "Détail",
           124,
           "real"
          ],
          [
           "Dispositif",
           8,
           "real"
          ],
          [
           "Dispositif",
           124,
           "real"
          ],
          [
           "Document",
           9,
           "real"
          ],
          [
           "Document",
           99,
           "real"
          ],
          [
           "Échantillon",
           8,
           "real"
          ],
          [
           "Échantillon",
           104,
           "real"
          ],
          [
           "Équipement",
           8,
           "real"
          ],
          [
           "Équipement",
           125,
           "real"
          ],
          [
           "Essence",
           3,
           "real"
          ],
          [
           "Essence",
           98,
           "real"
          ],
          [
           "Étui",
           8,
           "real"
          ],
          [
           "Étui",
           113,
           "real"
          ],
          [
           "Exemplaire",
           11,
           "real"
          ],
          [
           "Exemplaire",
           95,
           "real"
          ],
          [
           "Fabrication",
           10,
           "real"
          ],
          [
           "Fabrication",
           167,
           "real"
          ],
          [
           "Gadget",
           8,
           "real"
          ],
          [
           "Gadget",
           104,
           "real"
          ],
          [
           "Instrument",
           5,
           "real"
          ],
          [
           "Instrument",
           61,
           "real"
          ],
          [
           "Jouet",
           4,
           "real"
          ],
          [
           "Jouet",
           65,
           "real"
          ],
          [
           "Lampe",
           6,
           "real"
          ],
          [
           "Lampe",
           75,
           "real"
          ],
          [
           "Livre",
           7,
           "real"
          ],
          [
           "Livre",
           149,
           "real"
          ],
          [
           "Machine",
           8,
           "real"
          ],
          [
           "Machine",
           78,
           "real"
          ],
          [
           "Matériau",
           9,
           "real"
          ],
          [
           "Matériau",
           196,
           "real"
          ],
          [
           "Meuble",
           9,
           "real"
          ],
          [
           "Meuble",
           121,
           "real"
          ],
          [
           "Modèle",
           6,
           "real"
          ],
          [
           "Modèle",
           103,
           "real"
          ],
          [
           "Montage",
           10,
           "real"
          ],
          [
           "Montage",
           62,
           "real"
          ],
          [
           "Objet",
           7,
           "real"
          ],
          [
           "Objet",
           87,
           "real"
          ],
          [
           "Outil",
           10,
           "real"
          ],
          [
           "Outil",
           99,
           "real"
          ],
          [
           "Pack",
           7,
           "real"
          ],
          [
           "Pack",
           78,
           "real"
          ],
          [
           "Paquet",
           6,
           "real"
          ],
          [
           "Paquet",
           70,
           "real"
          ],
          [
           "Parapluie",
           8,
           "real"
          ],
          [
           "Parapluie",
           103,
           "real"
          ],
          [
           "Parure",
           8,
           "real"
          ],
          [
           "Parure",
           73,
           "real"
          ],
          [
           "Pièce",
           4,
           "real"
          ],
          [
           "Pièce",
           100,
           "real"
          ],
          [
           "Produit",
           11,
           "real"
          ],
          [
           "Produit",
           99,
           "real"
          ],
          [
           "Prototype",
           8,
           "real"
          ],
          [
           "Prototype",
           60,
           "real"
          ],
          [
           "Sac",
           10,
           "real"
          ],
          [
           "Sac",
           169,
           "real"
          ],
          [
           "Sangle",
           8,
           "real"
          ],
          [
           "Sangle",
           69,
           "real"
          ],
          [
           "Sélection",
           5,
           "real"
          ],
          [
           "Sélection",
           126,
           "real"
          ],
          [
           "Spécimen",
           11,
           "real"
          ],
          [
           "Spécimen",
           102,
           "real"
          ],
          [
           "Structure",
           5,
           "real"
          ],
          [
           "Structure",
           111,
           "real"
          ],
          [
           "Système",
           9,
           "real"
          ],
          [
           "Système",
           112,
           "real"
          ],
          [
           "Tableau",
           9,
           "real"
          ],
          [
           "Tableau",
           127,
           "real"
          ],
          [
           "Tissu",
           5,
           "real"
          ],
          [
           "Tissu",
           78,
           "real"
          ],
          [
           "Truc",
           8,
           "real"
          ],
          [
           "Truc",
           106,
           "real"
          ],
          [
           "Type",
           6,
           "real"
          ],
          [
           "Type",
           123,
           "real"
          ],
          [
           "Unité",
           5,
           "real"
          ],
          [
           "Unité",
           91,
           "real"
          ],
          [
           "Usine",
           8,
           "real"
          ],
          [
           "Usine",
           134,
           "real"
          ],
          [
           "Ustensile",
           8,
           "real"
          ],
          [
           "Ustensile",
           111,
           "real"
          ],
          [
           "Vêtement",
           11,
           "real"
          ],
          [
           "Vêtement",
           88,
           "real"
          ],
          [
           "Antenne",
           6,
           "real"
          ],
          [
           "Antenne",
           78,
           "real"
          ],
          [
           "Baguette",
           4,
           "real"
          ],
          [
           "Baguette",
           102,
           "real"
          ],
          [
           "Barillet",
           6,
           "real"
          ],
          [
           "Barillet",
           96,
           "real"
          ],
          [
           "Bracelet",
           7,
           "real"
          ],
          [
           "Bracelet",
           127,
           "real"
          ],
          [
           "Brique",
           4,
           "real"
          ],
          [
           "Brique",
           129,
           "real"
          ],
          [
           "Broderie",
           12,
           "real"
          ],
          [
           "Broderie",
           154,
           "real"
          ],
          [
           "Canapé",
           8,
           "real"
          ],
          [
           "Canapé",
           92,
           "real"
          ],
          [
           "Cendrier",
           7,
           "real"
          ],
          [
           "Cendrier",
           71,
           "real"
          ],
          [
           "Coffret",
           5,
           "real"
          ],
          [
           "Coffret",
           147,
           "real"
          ],
          [
           "Coffre",
           7,
           "real"
          ],
          [
           "Coffre",
           83,
           "real"
          ],
          [
           "Compartiment",
           7,
           "real"
          ],
          [
           "Compartiment",
           155,
           "real"
          ],
          [
           "Console",
           8,
           "real"
          ],
          [
           "Console",
           173,
           "real"
          ],
          [
           "Coussin",
           8,
           "real"
          ],
          [
           "Coussin",
           133,
           "real"
          ],
          [
           "Cristal",
           5,
           "real"
          ],
          [
           "Cristal",
           133,
           "real"
          ],
          [
           "Déchet",
           6,
           "real"
          ],
          [
           "Déchet",
           54,
           "real"
          ],
          [
           "Dépliant",
           8,
           "real"
          ],
          [
           "Dépliant",
           122,
           "real"
          ],
          [
           "Diffuseur",
           8,
           "real"
          ],
          [
           "Diffuseur",
           112,
           "real"
          ],
          [
           "Écrou",
           4,
           "real"
          ],
          [
           "Écrou",
           116,
           "real"
          ],
          [
           "Écran",
           12,
           "real"
          ],
          [
           "Écran",
           107,
           "real"
          ],
          [
           "Étincelle",
           9,
           "real"
          ],
          [
           "Étincelle",
           145,
           "real"
          ],
          [
           "Façade",
           7,
           "real"
          ],
          [
           "Façade",
           74,
           "real"
          ],
          [
           "Feutre",
           6,
           "real"
          ],
          [
           "Feutre",
           82,
           "real"
          ],
          [
           "Flacon",
           9,
           "real"
          ],
          [
           "Flacon",
           150,
           "real"
          ],
          [
           "Fragment",
           7,
           "real"
          ],
          [
           "Fragment",
           124,
           "real"
          ],
          [
           "Garniture",
           12,
           "real"
          ],
          [
           "Garniture",
           101,
           "real"
          ],
          [
           "Girouette",
           7,
           "real"
          ],
          [
           "Girouette",
           101,
           "real"
          ],
          [
           "Graphe",
           5,
           "real"
          ],
          [
           "Graphe",
           98,
           "real"
          ],
          [
           "Horloge",
           9,
           "real"
          ],
          [
           "Horloge",
           57,
           "real"
          ],
          [
           "Icône",
           7,
           "real"
          ],
          [
           "Icône",
           98,
           "real"
          ],
          [
           "Illustré",
           6,
           "real"
          ],
          [
           "Illustré",
           81,
           "real"
          ],
          [
           "Lunette",
           5,
           "real"
          ],
          [
           "Lunette",
           94,
           "real"
          ],
          [
           "Manchette",
           4,
           "real"
          ],
          [
           "Manchette",
           84,
           "real"
          ],
          [
           "Mécanisme",
           8,
           "real"
          ],
          [
           "Mécanisme",
           114,
           "real"
          ],
          [
           "Mélange",
           9,
           "real"
          ],
          [
           "Mélange",
           57,
           "real"
          ],
          [
           "Miroir",
           7,
           "real"
          ],
          [
           "Miroir",
           84,
           "real"
          ]
         ],
         "hovertemplate": "label=4<br>data_type=french_word<br>pca1=%{x}<br>pca2=%{y}<br>input/output=%{customdata[0]}<br>output_length=%{customdata[1]}<br>switch=%{customdata[2]}<extra></extra>",
         "legendgroup": "4, french_word",
         "marker": {
          "color": "#009668",
          "symbol": "diamond"
         },
         "mode": "markers",
         "name": "4, french_word",
         "orientation": "v",
         "showlegend": true,
         "type": "scatter",
         "x": [
          4.552527173453764,
          -0.8785092906711667,
          4.601264808039797,
          -0.6416098457047223,
          4.634130785576759,
          -0.5228040735712951,
          4.6890776871223165,
          -0.6603074980185474,
          4.920354929156819,
          -0.22671165445472535,
          4.8788468950631945,
          -0.7843347819254902,
          4.7561571515926495,
          -0.8841606821332357,
          5.027122873930025,
          -0.34777378417534127,
          4.68441824468802,
          -0.5434847381383623,
          4.706576558844808,
          -0.5729879816060159,
          5.035298689516109,
          -0.7564648486795572,
          5.3587696333820904,
          -0.13834401539263957,
          5.0401691241769555,
          -0.4443538606847965,
          4.5549894333604035,
          -0.4057463503733646,
          4.599188858182809,
          -0.552223373232864,
          5.221557999023173,
          -0.8930928553967639,
          4.889060334208307,
          -0.8802484569940358,
          4.783111025285382,
          -0.9932919589520223,
          4.689116843248886,
          -0.5772973334834651,
          4.807846811923213,
          -0.7157262753150796,
          4.770027154232512,
          -0.7104459988239016,
          4.810418793374246,
          -0.7684066490919212,
          5.081484086293262,
          -0.41322035151524283,
          4.711590709663035,
          -0.8038141334452591,
          4.528465698303875,
          -0.9912661297618777,
          4.851257121491784,
          -0.35982063778199824,
          4.577119058860729,
          -0.6090300792231444,
          4.830629858466754,
          -0.3864560665475642,
          4.816961715768906,
          -0.8219788689855922,
          4.931934461424825,
          -0.5335286882183271,
          4.795430443886235,
          -0.9764695104771407,
          4.572962165307469,
          -0.8526679305696762,
          4.699542437648163,
          -0.9884942664303795,
          4.823838340571341,
          -0.7781247602162583,
          4.654422001935997,
          -0.5513556629729468,
          4.610246840272311,
          -0.8130957172667793,
          4.607437654264613,
          -0.9592200945953704,
          4.882613748005468,
          -0.8279019542856226,
          4.6277216590928605,
          -1.1499960207239432,
          4.688972003310517,
          -0.7582766924515164,
          4.75192949825416,
          -0.6267696151093729,
          5.1009219612347785,
          -1.0471221728405284,
          4.726455824425324,
          -0.8678212295177768,
          4.506935617624089,
          -0.9889172215139468,
          4.684706054172419,
          -0.8673210900808548,
          4.708195120371327,
          -0.2995125160744832,
          4.783057855936949,
          -0.41132033018333725,
          4.643148913031299,
          -0.5939843052239795,
          4.798418738186778,
          -0.6828010712064505,
          4.708372299644364,
          -0.6601011007621108,
          4.698904836053052,
          -1.1959992174178586,
          4.773561748461473,
          -0.6957455265511465,
          5.247855847417709,
          -0.40126813361874436,
          4.816593399023492,
          -0.5843405169548992,
          4.667861685957013,
          -0.8913403935814287,
          4.927383046509712,
          -0.5481838843723967,
          4.455285826628367,
          -0.7599920229921351,
          4.880636644115031,
          -0.7413051137291633,
          4.866561687042506,
          -0.8324852241155677,
          4.830883339521158,
          -0.36567962706570195,
          4.957397939686472,
          -0.5650886998022857,
          4.781772412866795,
          -0.9326250664905215,
          4.559716035284944,
          -0.6768615363166702,
          4.875737526638541,
          -0.5654712866659191,
          4.835257825376741,
          -0.540142489605091,
          4.552206100964662,
          -0.2926267712050597,
          4.4930353015602655,
          -0.8358707725944687,
          4.739068297880148,
          -0.5598156874867587,
          4.828935414392064,
          -0.840992788531788,
          4.642281528230603,
          -0.7001389291890083,
          4.574453527333362,
          -0.2875391374935198,
          4.560737233044785,
          -0.4867819890864074,
          4.468739572115947,
          -0.8093312300743569,
          4.762250481116479,
          -0.9055224320396525,
          5.129384394963408,
          -0.43260284114290437,
          4.470423734779422,
          -0.6132682377810211,
          4.5774686671532425,
          -0.7882855848370993,
          4.722548476338597,
          -0.4271923630419875,
          4.431831072812835,
          -0.6999993390784836,
          4.668224950675565,
          -0.8542083915943642,
          4.676792511889526,
          -0.7229839437490415,
          4.637809260723713,
          -0.17186202077583734,
          4.59243767857742,
          -0.5380315707253271,
          4.8240649845777686,
          -0.27828562865249723,
          4.974043398374623,
          -0.48096890723081825,
          4.7734468750944075,
          -0.49603585664684197,
          4.448104804987876,
          -0.721139683941558,
          4.682780652905089,
          -0.9065116506607955,
          4.707711748950006,
          -0.49573114669039653,
          4.501316692311011,
          -0.24961036001824682,
          4.995433922194993,
          -0.320475425642138,
          4.351662837084885,
          -0.5148586695171878,
          4.739192411671153,
          -0.4812783548639502,
          4.978568982613908,
          -0.3605015981123273,
          4.711248648647929,
          -0.368776976760923,
          4.635567795692153,
          -0.3083242752277192,
          4.681322474507265,
          -0.6700648205023895,
          4.601317740602579,
          0.04843420152916071,
          4.560005111534956,
          -0.521802388325863
         ],
         "xaxis": "x",
         "y": [
          1.3508811562682739,
          1.0147960082745018,
          1.2907436642263554,
          1.0435790017824722,
          1.383075940120032,
          0.037045838350884416,
          1.4593936464986321,
          1.334064156607357,
          0.9922249352493445,
          -0.4317814932085128,
          1.3263227579856833,
          0.5851600359494129,
          0.9945171172333527,
          1.0125156443105379,
          1.1582212182154379,
          0.566196161162009,
          0.846326757555269,
          0.01001323743181589,
          1.2084880904813955,
          1.0106874870631852,
          1.2854441948523077,
          0.6237037143097738,
          1.3841833469931715,
          1.3413084934174224,
          1.2897161616052326,
          1.0617766841964886,
          0.5761764030458464,
          0.501714077419998,
          0.8778808523590313,
          0.5854541145108908,
          1.3845847996137588,
          1.2538383985218777,
          1.0178826278549649,
          0.7946646887716626,
          1.2429247195383493,
          1.540160729804882,
          1.5133037335384647,
          1.2080629022697429,
          1.221427306167814,
          0.6844121232285402,
          0.9327952552569044,
          0.5592524288443561,
          1.1489055632608356,
          0.8143449683293706,
          1.1716518346318363,
          1.1378066968589595,
          1.453578845361276,
          1.5941459975267909,
          1.1168922687410565,
          1.496473779581636,
          1.274272219563765,
          1.099753023377673,
          1.2298021200986375,
          1.3158293197738722,
          1.0057640187087944,
          0.8816715723540637,
          0.807625809825211,
          0.4900166401487934,
          1.3107356914046644,
          0.9303862839701229,
          1.3177387934241696,
          1.3160565669122843,
          1.2883507157031355,
          0.8516651703847525,
          1.4028594905201215,
          1.4080999109135843,
          1.0759282760691553,
          0.7741834636132157,
          0.9159092912852846,
          0.8672391482071052,
          1.140939632190669,
          0.9118388219709473,
          1.374529364255967,
          1.4785862657766116,
          1.1871951048485163,
          1.4744389418744879,
          1.2874035597397508,
          1.0374386738851833,
          1.0422103453746614,
          1.6532945201664717,
          1.256092692981537,
          1.2678072925861237,
          1.4673319221947227,
          1.6175857269888398,
          1.2174080393920212,
          1.3403520107554723,
          0.9016976920330217,
          0.82944497327403,
          1.0413229401891677,
          0.9429189690978765,
          0.7545055721747602,
          0.08762876666854162,
          1.0265184867340844,
          0.5170781619688595,
          1.5860926348146367,
          1.121986967484159,
          1.3630601647954839,
          1.796781367564021,
          1.0696031731089446,
          1.175473398716573,
          0.7127686802837156,
          0.790719266255772,
          0.6160421668871838,
          0.09622879010499066,
          1.3661680184181735,
          0.9663099841831133,
          1.3628121663009596,
          1.2406884751136689,
          1.233418548371926,
          1.301071916552274,
          1.4932198733573845,
          1.7756044812190557,
          0.9917113684435667,
          1.0493333270929444,
          1.0326906547984631,
          0.5965743966551645,
          1.02734881326756,
          0.7730619452858695,
          1.2796771400266702,
          -0.4262100258394203,
          1.1804301799790948,
          1.1081378231388666,
          1.1771926567771878,
          1.1092704563711488,
          1.1689306851392183,
          0.995580215575907,
          1.2456684397467133,
          0.9153148758978666,
          1.037881231296455,
          0.6679392117068731,
          0.7913338976555336,
          -0.24556339337439084,
          0.791966604709755,
          -0.264811728436613,
          0.9568119010382343,
          0.25486358365151013,
          0.9640312843928116,
          0.30424436124893917,
          0.6492139307366654,
          0.34241331842888423,
          0.7998334748211018,
          -0.14437520790031394,
          0.8134372494495216,
          0.12152052838065916,
          0.9864394701916365,
          0.6214558139235921,
          0.9237986510609888,
          0.5194366946720127,
          1.4471950866562573,
          0.4121427053088665,
          1.207980320620412,
          0.5455839406687933,
          0.8955333356861312,
          0.6236689560392699,
          0.7654295554006578,
          0.02620121513389984,
          0.9607121765889304,
          0.6647239619616987,
          1.0498846960580257,
          0.9216126705306369,
          0.9818453961265072,
          0.6897630110731681,
          0.6840274486032545,
          -0.5251859555832743,
          0.9514204027962629,
          0.4606694327598901,
          0.6592562554665096,
          0.11499120148667949,
          1.0834943921067621,
          0.3543617279426911,
          0.8140004648242467,
          -0.350593528503394,
          0.8113739929475469,
          0.031733498030055644,
          0.9802501520771058,
          0.6217393194680866,
          1.108728838649027,
          0.6280456112857401,
          0.7725713179666391,
          0.09120290167850646,
          1.2016088982215847,
          0.26753389758715385,
          1.048864250014765,
          0.8207657367603656,
          1.1049231616507682,
          0.8667044308359583,
          1.1091287059697468,
          0.5152848180504257,
          0.6760877680363351,
          -0.1820681812606482,
          0.7569745581599786,
          -0.1480877631773068,
          1.4114412478847647,
          1.5856542145995556,
          0.9958962813276235,
          -0.007785391142050364,
          0.8822582074569417,
          0.614962565816245
         ],
         "yaxis": "y"
        },
        {
         "customdata": [
          [
           "Ablimé",
           4,
           "fake"
          ],
          [
           "Ablimé",
           61,
           "fake"
          ],
          [
           "Ambril",
           8,
           "fake"
          ],
          [
           "Ambril",
           152,
           "fake"
          ],
          [
           "Ancord",
           7,
           "fake"
          ],
          [
           "Ancord",
           96,
           "fake"
          ],
          [
           "Ardel",
           7,
           "fake"
          ],
          [
           "Ardel",
           125,
           "fake"
          ],
          [
           "Astrell",
           6,
           "fake"
          ],
          [
           "Astrell",
           66,
           "fake"
          ],
          [
           "Belvique",
           6,
           "fake"
          ],
          [
           "Belvique",
           104,
           "fake"
          ],
          [
           "Blanciel",
           8,
           "fake"
          ],
          [
           "Blanciel",
           62,
           "fake"
          ],
          [
           "Brillonne",
           6,
           "fake"
          ],
          [
           "Brillonne",
           66,
           "fake"
          ],
          [
           "Casteau",
           7,
           "fake"
          ],
          [
           "Casteau",
           69,
           "fake"
          ],
          [
           "Chaleuron",
           8,
           "fake"
          ],
          [
           "Chaleuron",
           120,
           "fake"
          ],
          [
           "Clardor",
           7,
           "fake"
          ],
          [
           "Clardor",
           68,
           "fake"
          ],
          [
           "Coloria",
           8,
           "fake"
          ],
          [
           "Coloria",
           66,
           "fake"
          ],
          [
           "Combril",
           7,
           "fake"
          ],
          [
           "Combril",
           111,
           "fake"
          ],
          [
           "Conforti",
           10,
           "fake"
          ],
          [
           "Conforti",
           41,
           "fake"
          ],
          [
           "Contempra",
           9,
           "fake"
          ],
          [
           "Contempra",
           81,
           "fake"
          ],
          [
           "Coquelin",
           8,
           "fake"
          ],
          [
           "Coquelin",
           88,
           "fake"
          ],
          [
           "Décire",
           11,
           "fake"
          ],
          [
           "Décire",
           64,
           "fake"
          ],
          [
           "Délicia",
           7,
           "fake"
          ],
          [
           "Délicia",
           130,
           "fake"
          ],
          [
           "Démodique",
           8,
           "fake"
          ],
          [
           "Démodique",
           89,
           "fake"
          ],
          [
           "Durandor",
           6,
           "fake"
          ],
          [
           "Durandor",
           64,
           "fake"
          ],
          [
           "Éclantine",
           10,
           "fake"
          ],
          [
           "Éclantine",
           152,
           "fake"
          ],
          [
           "Écoline",
           5,
           "fake"
          ],
          [
           "Écoline",
           83,
           "fake"
          ],
          [
           "Élégantine",
           8,
           "fake"
          ],
          [
           "Élégantine",
           80,
           "fake"
          ],
          [
           "Encombria",
           7,
           "fake"
          ],
          [
           "Encombria",
           116,
           "fake"
          ],
          [
           "Endomix",
           8,
           "fake"
          ],
          [
           "Endomix",
           112,
           "fake"
          ],
          [
           "Épaisseau",
           6,
           "fake"
          ],
          [
           "Épaisseau",
           96,
           "fake"
          ],
          [
           "Épurette",
           5,
           "fake"
          ],
          [
           "Épurette",
           110,
           "fake"
          ],
          [
           "Esthéla",
           6,
           "fake"
          ],
          [
           "Esthéla",
           83,
           "fake"
          ],
          [
           "Éthano",
           6,
           "fake"
          ],
          [
           "Éthano",
           119,
           "fake"
          ],
          [
           "Exquiline",
           7,
           "fake"
          ],
          [
           "Exquiline",
           73,
           "fake"
          ],
          [
           "Fabulean",
           11,
           "fake"
          ],
          [
           "Fabulean",
           92,
           "fake"
          ],
          [
           "Fonderelle",
           4,
           "fake"
          ],
          [
           "Fonderelle",
           90,
           "fake"
          ],
          [
           "Fragelia",
           6,
           "fake"
          ],
          [
           "Fragelia",
           113,
           "fake"
          ],
          [
           "Futurion",
           8,
           "fake"
          ],
          [
           "Futurion",
           131,
           "fake"
          ],
          [
           "Grandor",
           10,
           "fake"
          ],
          [
           "Grandor",
           83,
           "fake"
          ],
          [
           "Grisele",
           6,
           "fake"
          ],
          [
           "Grisele",
           112,
           "fake"
          ],
          [
           "Hautelle",
           6,
           "fake"
          ],
          [
           "Hautelle",
           117,
           "fake"
          ],
          [
           "Impecci",
           10,
           "fake"
          ],
          [
           "Impecci",
           108,
           "fake"
          ],
          [
           "Imposeau",
           8,
           "fake"
          ],
          [
           "Imposeau",
           79,
           "fake"
          ],
          [
           "Incassio",
           7,
           "fake"
          ],
          [
           "Incassio",
           122,
           "fake"
          ],
          [
           "Innovelle",
           14,
           "fake"
          ],
          [
           "Innovelle",
           48,
           "fake"
          ],
          [
           "Insolie",
           6,
           "fake"
          ],
          [
           "Insolie",
           45,
           "fake"
          ],
          [
           "Intacteau",
           10,
           "fake"
          ],
          [
           "Intacteau",
           81,
           "fake"
          ],
          [
           "Intéressi",
           9,
           "fake"
          ],
          [
           "Intéressi",
           65,
           "fake"
          ],
          [
           "Irrégu",
           6,
           "fake"
          ],
          [
           "Irrégu",
           50,
           "fake"
          ],
          [
           "Jaunette",
           8,
           "fake"
          ],
          [
           "Jaunette",
           98,
           "fake"
          ],
          [
           "Jolisse",
           5,
           "fake"
          ],
          [
           "Jolisse",
           68,
           "fake"
          ],
          [
           "Légeron",
           5,
           "fake"
          ],
          [
           "Légeron",
           89,
           "fake"
          ],
          [
           "Lissandre",
           9,
           "fake"
          ],
          [
           "Lissandre",
           114,
           "fake"
          ],
          [
           "Loureaux",
           13,
           "fake"
          ],
          [
           "Loureaux",
           132,
           "fake"
          ],
          [
           "Lumina",
           6,
           "fake"
          ],
          [
           "Lumina",
           43,
           "fake"
          ],
          [
           "Magnifine",
           7,
           "fake"
          ],
          [
           "Magnifine",
           72,
           "fake"
          ],
          [
           "Maigrine",
           10,
           "fake"
          ],
          [
           "Maigrine",
           81,
           "fake"
          ],
          [
           "Miniato",
           10,
           "fake"
          ],
          [
           "Miniato",
           65,
           "fake"
          ],
          [
           "Modernelle",
           5,
           "fake"
          ],
          [
           "Modernelle",
           71,
           "fake"
          ],
          [
           "Moelleuxia",
           10,
           "fake"
          ],
          [
           "Moelleuxia",
           87,
           "fake"
          ],
          [
           "Multicolia",
           5,
           "fake"
          ],
          [
           "Multicolia",
           121,
           "fake"
          ],
          [
           "Neufril",
           8,
           "fake"
          ],
          [
           "Neufril",
           132,
           "fake"
          ],
          [
           "Noirelle",
           6,
           "fake"
          ],
          [
           "Noirelle",
           77,
           "fake"
          ],
          [
           "Objetto",
           6,
           "fake"
          ],
          [
           "Objetto",
           104,
           "fake"
          ],
          [
           "Parfaitio",
           10,
           "fake"
          ],
          [
           "Parfaitio",
           62,
           "fake"
          ],
          [
           "Périton",
           7,
           "fake"
          ],
          [
           "Périton",
           91,
           "fake"
          ],
          [
           "Petiton",
           17,
           "fake"
          ],
          [
           "Petiton",
           136,
           "fake"
          ],
          [
           "Pratico",
           7,
           "fake"
          ],
          [
           "Pratico",
           84,
           "fake"
          ],
          [
           "Précieuxa",
           5,
           "fake"
          ],
          [
           "Précieuxa",
           34,
           "fake"
          ],
          [
           "Rarillon",
           5,
           "fake"
          ],
          [
           "Rarillon",
           106,
           "fake"
          ],
          [
           "Rectango",
           8,
           "fake"
          ],
          [
           "Rectango",
           128,
           "fake"
          ],
          [
           "Réflexia",
           6,
           "fake"
          ],
          [
           "Réflexia",
           139,
           "fake"
          ],
          [
           "Régulet",
           6,
           "fake"
          ],
          [
           "Régulet",
           116,
           "fake"
          ],
          [
           "Robuston",
           5,
           "fake"
          ],
          [
           "Robuston",
           124,
           "fake"
          ],
          [
           "Ruinelle",
           6,
           "fake"
          ],
          [
           "Ruinelle",
           141,
           "fake"
          ],
          [
           "Rutilon",
           5,
           "fake"
          ],
          [
           "Rutilon",
           75,
           "fake"
          ],
          [
           "Soyella",
           7,
           "fake"
          ],
          [
           "Soyella",
           115,
           "fake"
          ],
          [
           "Spéciona",
           6,
           "fake"
          ],
          [
           "Spéciona",
           132,
           "fake"
          ],
          [
           "Splendia",
           8,
           "fake"
          ],
          [
           "Splendia",
           73,
           "fake"
          ],
          [
           "Symétra",
           9,
           "fake"
          ],
          [
           "Symétra",
           107,
           "fake"
          ],
          [
           "Teintéon",
           5,
           "fake"
          ],
          [
           "Teintéon",
           140,
           "fake"
          ],
          [
           "Terneille",
           4,
           "fake"
          ],
          [
           "Terneille",
           101,
           "fake"
          ],
          [
           "Traditio",
           8,
           "fake"
          ],
          [
           "Traditio",
           100,
           "fake"
          ],
          [
           "Transpa",
           8,
           "fake"
          ],
          [
           "Transpa",
           70,
           "fake"
          ],
          [
           "Usagelle",
           8,
           "fake"
          ],
          [
           "Usagelle",
           61,
           "fake"
          ],
          [
           "Utileon",
           8,
           "fake"
          ],
          [
           "Utileon",
           97,
           "fake"
          ],
          [
           "Viello",
           5,
           "fake"
          ],
          [
           "Viello",
           60,
           "fake"
          ],
          [
           "Violacea",
           8,
           "fake"
          ],
          [
           "Violacea",
           105,
           "fake"
          ],
          [
           "Visibelle",
           8,
           "fake"
          ],
          [
           "Visibelle",
           47,
           "fake"
          ],
          [
           "Zincria",
           8,
           "fake"
          ],
          [
           "Zincria",
           86,
           "fake"
          ],
          [
           "Bavardelle",
           8,
           "fake"
          ],
          [
           "Bavardelle",
           94,
           "fake"
          ],
          [
           "Charmeaux",
           10,
           "fake"
          ],
          [
           "Charmeaux",
           82,
           "fake"
          ],
          [
           "Cristelline",
           8,
           "fake"
          ],
          [
           "Cristelline",
           117,
           "fake"
          ],
          [
           "Émeraldi",
           4,
           "fake"
          ],
          [
           "Émeraldi",
           107,
           "fake"
          ],
          [
           "Véluria",
           6,
           "fake"
          ],
          [
           "Véluria",
           60,
           "fake"
          ],
          [
           "Flambrée",
           8,
           "fake"
          ],
          [
           "Flambrée",
           92,
           "fake"
          ],
          [
           "Pérlisse",
           10,
           "fake"
          ],
          [
           "Pérlisse",
           71,
           "fake"
          ],
          [
           "Chantelise",
           8,
           "fake"
          ],
          [
           "Chantelise",
           74,
           "fake"
          ],
          [
           "Vitriona",
           10,
           "fake"
          ],
          [
           "Vitriona",
           49,
           "fake"
          ],
          [
           "Garnellon",
           6,
           "fake"
          ],
          [
           "Garnellon",
           89,
           "fake"
          ],
          [
           "Broderelle",
           8,
           "fake"
          ],
          [
           "Broderelle",
           78,
           "fake"
          ],
          [
           "Luminor",
           10,
           "fake"
          ],
          [
           "Luminor",
           86,
           "fake"
          ]
         ],
         "hovertemplate": "label=5<br>data_type=french_word<br>pca1=%{x}<br>pca2=%{y}<br>input/output=%{customdata[0]}<br>output_length=%{customdata[1]}<br>switch=%{customdata[2]}<extra></extra>",
         "legendgroup": "5, french_word",
         "marker": {
          "color": "#ce93d8",
          "symbol": "diamond"
         },
         "mode": "markers",
         "name": "5, french_word",
         "orientation": "v",
         "showlegend": true,
         "type": "scatter",
         "x": [
          4.7273746126828575,
          0.21535162475228892,
          4.951746600212149,
          -0.14932478542031186,
          4.796434511952998,
          -0.34622527948017545,
          4.647583553803181,
          -0.6163564023761933,
          4.797876539045318,
          -0.43134034407328603,
          4.945299757558701,
          -0.5577954208218268,
          4.876739309949733,
          0.26497951480609533,
          4.809051217561415,
          0.14086985998769044,
          4.681460478842586,
          -0.2648546446711245,
          4.692924986739173,
          -0.3358771486493769,
          4.894872511392137,
          -0.08103707673791813,
          5.055458616190831,
          0.21606886119515792,
          4.562239899909985,
          -0.431645080200205,
          4.872657111024794,
          0.3371083253310705,
          4.8979944806030495,
          0.2471891985232565,
          4.677446995736071,
          0.01657383390603305,
          5.339311685307827,
          0.058320302649412716,
          4.894514759126989,
          -0.19104158785191655,
          4.91408807853268,
          -0.15206735207952393,
          4.794485216765259,
          0.3803749854784963,
          4.645538759896508,
          -0.14584309543651836,
          4.982640548527929,
          -0.209399464863608,
          4.884070678416906,
          0.18765863537460095,
          4.476660932080436,
          -0.453716614592248,
          4.645715885773717,
          -0.10492094991524019,
          4.8287756244992766,
          -0.11072824037696397,
          4.891817228057494,
          -0.15535218733006353,
          4.967395889589907,
          0.3747205574112363,
          4.831595734445187,
          0.1670948833452231,
          4.723026707508996,
          0.10479035222789133,
          5.03814437028511,
          0.14120249989359324,
          4.7501928890689005,
          -0.4830419509112297,
          4.6391532852361905,
          0.2585499650897258,
          4.661027600817857,
          0.18254888548756348,
          4.92882251317695,
          -0.11917776604428244,
          5.077672922693926,
          0.04100058249656806,
          5.00338894329633,
          -0.23245340687424915,
          4.852420132713982,
          -0.21135918700694767,
          4.872129514752941,
          -0.06418585974994499,
          4.8137921453673975,
          -0.25094231642428194,
          4.9976901442814405,
          0.3366416480720509,
          4.659222054600052,
          0.33424831473631844,
          4.956252775151881,
          0.2240483525557855,
          5.182600178842765,
          0.5254915817268877,
          4.928300858545984,
          0.5865797921568472,
          4.609384188715647,
          0.19702623042757977,
          4.993035575976981,
          0.14983039992263938,
          4.837160139951418,
          -0.1743001444992225,
          4.472758132301384,
          -0.07071663004246648,
          4.689819448930762,
          -0.01809055078183843,
          5.013954106457726,
          0.4836747510092019,
          5.015921053661457,
          0.040931014839813554,
          4.708672589164656,
          0.13950015638659785,
          4.843774407888965,
          0.09162508310798359,
          4.944770399200584,
          0.025819186431274694,
          4.759912189436473,
          0.3232289471336536,
          4.970228616879903,
          0.031138525198374487,
          4.811207589845455,
          -0.22900875094239273,
          4.992125169805705,
          0.14593038554262427,
          4.853181331398234,
          -0.2580643138495312,
          4.958170427400348,
          0.29410559220387533,
          4.8481157808422894,
          0.03384329069113412,
          4.6557329186099485,
          -0.7371716718865917,
          4.939061336776574,
          0.27823917709345575,
          5.160339468875826,
          0.12023726309829508,
          5.040426107480168,
          -0.36741703143501186,
          4.661773663604793,
          -0.35015252821623755,
          4.770052297215804,
          -0.14853617690345702,
          4.617287842176235,
          -0.4173364328316255,
          4.788680565907832,
          -0.2726763723066364,
          4.874935455745021,
          -0.536126702004618,
          4.627881766239105,
          0.059988630758292104,
          4.890150563863973,
          0.26230979802687576,
          4.897432807607498,
          -0.07954133148450462,
          4.919795229761142,
          0.2861191130442591,
          4.894288895935368,
          0.036369529517235405,
          4.817842524799875,
          -0.01698908474229391,
          4.854126911985977,
          0.3991951551485648,
          4.854509397535567,
          -0.29470182556596025,
          4.739752952293149,
          0.10290188823941958,
          4.708790010635203,
          0.22608367362956372,
          4.747507069660958,
          0.05248516807997111,
          4.772540501131132,
          -0.02315767505894327,
          4.793704581889083,
          0.040800231639376905,
          4.896550876009263,
          0.03081745697495327,
          4.815617742418251,
          0.36349572916297296,
          4.6294308433725835,
          0.18037860575387524,
          4.920426570461193,
          -0.14358461616353144,
          4.550062668313757,
          -0.03609974207918425,
          4.8246064412144785,
          -0.18611340435722706,
          4.819874934027813,
          0.3315953507659058,
          4.794231327185283,
          -0.19822662144593167,
          4.6048695346290955,
          0.22593061875464204,
          4.6045861226462375,
          0.3691415330364015,
          4.553019145501983,
          0.33375207202230706,
          4.752684996687407,
          0.17398306289490967,
          4.75363051979374,
          -0.43386011657212686,
          4.687468102002622,
          0.18609346128156437
         ],
         "xaxis": "x",
         "y": [
          0.7326211759052186,
          -0.4935565969499377,
          0.3828343644811304,
          -0.9885312817875762,
          0.6708449675510482,
          -0.7962907537402896,
          0.4748785817716012,
          -0.509099406243494,
          0.5341214206057223,
          -0.29296036319596264,
          0.5630141388175154,
          0.21254344758458277,
          0.19663053996073887,
          -1.4983483318179658,
          0.4804595091096663,
          -1.065988601986824,
          0.6277111717621232,
          -0.9499254870598303,
          0.7034316432857075,
          -0.5899493470716408,
          0.6261005615840272,
          -1.3929609395615186,
          0.5358196275603776,
          -1.2198771076668526,
          0.5471291760427506,
          -0.5331438828799655,
          0.9233821314303794,
          -0.3939958058506178,
          0.6440669298567785,
          -0.4803322578762934,
          0.4091869697902724,
          -1.2953295742570419,
          1.1192297754925369,
          -0.923320523867905,
          0.6966852240883623,
          -0.894455567945672,
          0.5863929078782901,
          -0.37905794973037993,
          0.42498004187139815,
          -1.4610459356480905,
          0.1028891193729495,
          -1.0118192162245934,
          0.6502151133144063,
          -0.7976905035326295,
          0.2631967079577988,
          -0.9729519228794957,
          0.681484226276631,
          0.14250231336078517,
          0.9364976212217562,
          -0.9108200667783831,
          0.6736240415606658,
          -0.8572349030620845,
          0.3609698842881882,
          -1.199742998993019,
          0.37499777274551616,
          -1.4185480383592546,
          0.5903766120177277,
          -0.5585876469966302,
          0.3174260693328185,
          -0.8306336786148563,
          0.5998345604035813,
          -0.5463542649936419,
          0.6689461513145352,
          -0.47319367981149224,
          0.475191519769745,
          -1.7455635700916061,
          0.733811102364298,
          -0.25647436335559565,
          0.503687890184328,
          -0.469724748781816,
          0.2736994709135237,
          -1.525220204675564,
          0.6892593231629545,
          -1.3442158105012738,
          0.8815239504968237,
          -1.4618797307143885,
          0.7329581360899309,
          -1.4785424306827408,
          0.8823049793253919,
          -0.378616531886382,
          1.0847997996858711,
          -0.3775619248971191,
          0.4121320723740032,
          -0.6745427841602085,
          0.9639276804869973,
          -0.6497657242749811,
          0.9867335935032124,
          -0.8367207866640551,
          0.8095956861761975,
          -0.6542820698738835,
          0.10911721068086398,
          -1.6574613195585015,
          0.5264484352311538,
          -1.209153640538263,
          0.3990743494722743,
          -0.6870966225973488,
          0.006883179784766713,
          -1.1729975012613196,
          0.16730435709086855,
          -1.1559798031943562,
          0.7010737163927683,
          -1.3030739337686459,
          0.7610183078902923,
          -0.20709881883196507,
          0.3190588520523465,
          -1.532161433599665,
          0.8708516236099686,
          -1.4537654883208964,
          0.5024318712045132,
          -0.8678831746661431,
          0.38399002604333,
          -1.6861487047908439,
          0.5187303883821042,
          -1.075149265066037,
          0.6415357824770849,
          -0.7656059411655145,
          0.29341212891148827,
          -1.2695257795506405,
          1.1080448491111865,
          -0.2693883384294181,
          1.0185004653398235,
          -1.1304654564987497,
          0.6994008967914456,
          -0.627172576584399,
          0.8797090003729426,
          0.7411206896886015,
          0.8337329372661724,
          -0.953009176838677,
          0.829114584805456,
          0.08298363061729173,
          0.5169579439133254,
          -0.7910350332261137,
          0.8026340152777409,
          -0.9135366917351868,
          0.8045848804302345,
          -0.1406498191135053,
          0.5021811803897711,
          -0.6388253018923049,
          0.7936439414011434,
          -0.4846207605032741,
          0.6718136425314853,
          -0.033349110576269395,
          0.3625801825786665,
          -1.435467767918421,
          0.3973138924441725,
          -1.7051569600633665,
          0.8638704205809336,
          0.2784184629926653,
          0.3453848412708711,
          -0.9344613988863826,
          0.9293683946307886,
          -0.4743815538042553,
          0.5174022385673507,
          -0.7509988432100939,
          0.10638026492998626,
          -1.098816244656692,
          0.9416900264725612,
          0.346200872895239,
          0.5254523662482395,
          -1.3582881464202439,
          1.035135101599026,
          -1.4291204693713075,
          0.9808181662482255,
          -1.4191253560598032,
          0.5425670436919319,
          -1.5305873840455717,
          0.25727550021795464,
          -1.2620992845364807,
          0.9749513722874326,
          0.4837447961190441,
          0.7656406718750385,
          -1.5721009799745027,
          0.3687675867442056,
          -1.040190970377934,
          0.4733252870718272,
          -0.44490611233207716,
          0.22475047242209406,
          -0.8442435873128659,
          0.38657385976269765,
          -0.921934606093741,
          0.4341913152011725,
          -1.7079690884303351,
          0.6063227822558581,
          -0.7678793310497186,
          0.38997177092125174,
          -1.1684541942990452,
          0.20641997539697493,
          -1.1975185580236583,
          0.5031365735037969,
          -1.7765203039227944,
          0.4258593819033947,
          -1.3980678497566568,
          0.48692250822356864,
          -0.38821880336065673,
          0.437302476762172,
          -1.145074882630667
         ],
         "yaxis": "y"
        },
        {
         "customdata": [
          [
           "Leonardo da Vinci",
           198,
           "real"
          ],
          [
           "Napoleon Bonaparte",
           207,
           "real"
          ],
          [
           "Mahatma Gandhi",
           142,
           "real"
          ],
          [
           "Albert Einstein",
           169,
           "real"
          ],
          [
           "Marilyn Monroe",
           135,
           "real"
          ],
          [
           "Queen Elizabeth I",
           172,
           "real"
          ],
          [
           "Nelson Mandela",
           238,
           "real"
          ],
          [
           "Mother Teresa",
           151,
           "real"
          ],
          [
           "Wolfgang Amadeus Mozart",
           185,
           "real"
          ],
          [
           "Michelangelo",
           201,
           "real"
          ],
          [
           "Karl Marx",
           167,
           "real"
          ],
          [
           "Martin Luther King Jr.",
           258,
           "real"
          ],
          [
           "Alexander Hamilton",
           195,
           "real"
          ],
          [
           "Thomas Edison",
           203,
           "real"
          ],
          [
           "Charles Darwin",
           200,
           "real"
          ],
          [
           "Marie Curie",
           226,
           "real"
          ],
          [
           "Vincent van Gogh",
           153,
           "real"
          ],
          [
           "Galileo Galilei",
           240,
           "real"
          ],
          [
           "Benjamin Franklin",
           152,
           "real"
          ],
          [
           "Queen Victoria",
           203,
           "real"
          ],
          [
           "Pablo Picasso",
           154,
           "real"
          ],
          [
           "Winston Churchill",
           211,
           "real"
          ],
          [
           "Adolf Hitler",
           194,
           "real"
          ],
          [
           "Catherine the Great",
           186,
           "real"
          ],
          [
           "Joan of Arc",
           172,
           "real"
          ],
          [
           "George Washington",
           156,
           "real"
          ],
          [
           "John F. Kennedy",
           189,
           "real"
          ],
          [
           "Frida Kahlo",
           172,
           "real"
          ],
          [
           "Johann Sebastian Bach",
           197,
           "real"
          ],
          [
           "Napoleon III",
           171,
           "real"
          ],
          [
           "Thomas Jefferson",
           226,
           "real"
          ],
          [
           "Isaac Newton",
           217,
           "real"
          ],
          [
           "Elizabeth Taylor",
           191,
           "real"
          ],
          [
           "Michael Jordan",
           239,
           "real"
          ],
          [
           "Neil Armstrong",
           147,
           "real"
          ],
          [
           "Bruce Lee",
           178,
           "real"
          ],
          [
           "Tupac Shakur",
           186,
           "real"
          ],
          [
           "Elvis Presley",
           162,
           "real"
          ],
          [
           "Walt Disney",
           200,
           "real"
          ],
          [
           "Cristiano Ronaldo",
           183,
           "real"
          ],
          [
           "Abraham Lincoln",
           151,
           "real"
          ],
          [
           "Mao Zedong",
           163,
           "real"
          ],
          [
           "Anne Frank",
           219,
           "real"
          ],
          [
           "Stephen Hawking",
           182,
           "real"
          ],
          [
           "Fidel Castro",
           149,
           "real"
          ],
          [
           "James Cook",
           203,
           "real"
          ],
          [
           "Henry Ford",
           141,
           "real"
          ],
          [
           "Salvador Dalí",
           192,
           "real"
          ],
          [
           "Queen Isabella I of Castile",
           210,
           "real"
          ],
          [
           "Pope Francis",
           203,
           "real"
          ],
          [
           "Stephen King",
           146,
           "real"
          ],
          [
           "Amelia Earhart",
           196,
           "real"
          ],
          [
           "Emily Dickinson",
           198,
           "real"
          ],
          [
           "Alfred Nobel",
           122,
           "real"
          ],
          [
           "Gustave Eiffel",
           133,
           "real"
          ],
          [
           "Al Capone",
           158,
           "real"
          ],
          [
           "Jackie Robinson",
           174,
           "real"
          ],
          [
           "Margaret Thatcher",
           182,
           "real"
          ],
          [
           "Vladimir Lenin",
           190,
           "real"
          ],
          [
           "Babe Ruth",
           153,
           "real"
          ],
          [
           "Rosa Parks",
           177,
           "real"
          ],
          [
           "Che Guevara",
           172,
           "real"
          ],
          [
           "Sigmund Freud",
           240,
           "real"
          ],
          [
           "Christopher Columbus",
           198,
           "real"
          ],
          [
           "Mark Twain",
           187,
           "real"
          ],
          [
           "Alexander Graham Bell",
           119,
           "real"
          ],
          [
           "Paul McCartney",
           157,
           "real"
          ],
          [
           "Nikola Tesla",
           219,
           "real"
          ],
          [
           "Bruce Springsteen",
           149,
           "real"
          ],
          [
           "Emily Brontë",
           124,
           "real"
          ],
          [
           "Teresa of Ávila",
           167,
           "real"
          ],
          [
           "John Lennon",
           141,
           "real"
          ],
          [
           "Charlie Chaplin",
           166,
           "real"
          ],
          [
           "Kurt Cobain",
           159,
           "real"
          ],
          [
           "Oscar Wilde",
           198,
           "real"
          ],
          [
           "Richard Nixon",
           186,
           "real"
          ],
          [
           "Muhammad Ali",
           208,
           "real"
          ],
          [
           "Helen Keller",
           217,
           "real"
          ],
          [
           "Steve Jobs",
           163,
           "real"
          ],
          [
           "Oprah Winfrey",
           187,
           "real"
          ],
          [
           "Barack Obama",
           191,
           "real"
          ],
          [
           "Xi Jinping",
           164,
           "real"
          ],
          [
           "Kim Jong Un",
           132,
           "real"
          ],
          [
           "Narendra Modi",
           168,
           "real"
          ],
          [
           "Aung San Suu Kyi",
           174,
           "real"
          ]
         ],
         "hovertemplate": "label=0<br>data_type=celebrity<br>pca1=%{x}<br>pca2=%{y}<br>input/output=%{customdata[0]}<br>output_length=%{customdata[1]}<br>switch=%{customdata[2]}<extra></extra>",
         "legendgroup": "0, celebrity",
         "marker": {
          "color": "#a1e8d9",
          "symbol": "square"
         },
         "mode": "markers",
         "name": "0, celebrity",
         "orientation": "v",
         "showlegend": true,
         "type": "scatter",
         "x": [
          2.0859903210430164,
          2.485483974045901,
          2.2681813323371642,
          2.041726530522657,
          2.240598588881072,
          2.1511097917225452,
          2.1185433136139746,
          1.88949442774934,
          2.4933585685153448,
          1.9633344331551825,
          1.9757673357015777,
          2.3225117335568775,
          1.8100850980801242,
          1.722492259493113,
          1.9064554680332868,
          2.4951886745151013,
          2.3725145097660865,
          2.2693853419510455,
          1.9020831257672821,
          1.9118964851352225,
          1.908003538747868,
          1.9859294779721084,
          1.9991959964430652,
          2.1652213486308995,
          2.337131549844396,
          1.9421879229165393,
          2.2819865592936273,
          2.395005234376003,
          2.1545342708221833,
          2.230487968879261,
          1.9162352486394953,
          2.0578747500500985,
          1.9106064099480282,
          1.8893509899823535,
          1.8833385397906333,
          1.8699658282967155,
          2.3119541493563003,
          2.2205883265921877,
          1.907766255193064,
          2.2596531630879753,
          2.0343345285757253,
          2.3836888174950914,
          1.920530912151761,
          2.0899426119316358,
          2.119491115964654,
          1.6993074262437688,
          1.655983118877809,
          2.209664646076179,
          2.7216642510007274,
          2.0622339919561465,
          1.855368165534399,
          2.3744962564661876,
          1.9442864154200723,
          2.043124312544803,
          2.3712793886202004,
          1.9026050923719644,
          2.050987121249271,
          2.037541176347389,
          2.2858271380000543,
          1.9933055260813606,
          2.032445920354104,
          2.2950569122029387,
          2.2608033827724467,
          1.823036675991773,
          2.058598168035079,
          1.9716859075624504,
          1.7841074435928934,
          2.0646232046935142,
          2.032937204677246,
          2.3013245281369956,
          2.7193891067139386,
          1.850002574020213,
          1.9081118799597674,
          2.2282103977774184,
          2.0624790856894015,
          1.9036400284298862,
          2.1169412017323466,
          2.0955634650220536,
          1.7854692618007475,
          2.3833944112797862,
          2.1680949182250506,
          2.004466675024273,
          2.0334322825330617,
          2.121281837413405,
          2.799113287308053
         ],
         "xaxis": "x",
         "y": [
          0.6860222930979407,
          0.6287855301235884,
          0.5985458138471356,
          0.5416190600039925,
          0.49627949678141414,
          0.388661761945588,
          0.5852539367861835,
          0.40550571588402207,
          0.639094044302607,
          0.3908444613675865,
          0.5629992802288463,
          0.7745329000934837,
          0.6682628961941878,
          0.5383735154679945,
          0.485110864032925,
          0.5053590501835166,
          0.5151184393037761,
          0.6584175617971972,
          0.5486417913893231,
          0.42755295473784094,
          0.6249202414281336,
          0.5100180870644013,
          0.6361129907207639,
          0.5061651120618534,
          0.3819010227540293,
          0.4365275320209412,
          0.6648135812226685,
          0.5599627808866312,
          0.5685338711910359,
          0.29107474164483954,
          0.46923504504692437,
          0.5975288187720423,
          0.3854547309386806,
          0.5287805527236435,
          0.43704251797743443,
          0.5814472153713772,
          0.683020847880865,
          0.594988364738359,
          0.5651738348416127,
          0.6045639057059594,
          0.4068585795693903,
          0.5739296767527888,
          0.5900864982494011,
          0.5122257328616087,
          0.37567645814476,
          0.45730362305086925,
          0.6180017367397651,
          0.8526123001122625,
          0.565380116941193,
          0.4990548356749873,
          0.549254516865123,
          0.4628025465431321,
          0.6024293760769034,
          0.3107500666918104,
          0.5286879098645376,
          0.3582148043883869,
          0.4915589486131791,
          0.4823746608276971,
          0.5562202815948176,
          0.36330017447352214,
          0.4323833396211404,
          0.5273306753782164,
          0.7282696222251407,
          0.3875278988368304,
          0.4250420913951536,
          0.42439429500082304,
          0.39946613621630855,
          0.6992933021860752,
          0.40870276381599646,
          0.20394939066346518,
          0.30893543042109006,
          0.47505834462571384,
          0.4075799985324206,
          0.5209341225594646,
          0.46998042621824043,
          0.45956849235811326,
          0.457310768107434,
          0.666926665479421,
          0.8342093750132242,
          0.8443733698243189,
          0.6556434141451073,
          0.48905492155820207,
          0.4844544681118072,
          0.47514030247827665,
          0.541679394144416
         ],
         "yaxis": "y"
        },
        {
         "customdata": [
          [
           "Darien Hawthorne",
           164,
           "fake"
          ],
          [
           "Leandra Rivers",
           142,
           "fake"
          ],
          [
           "Elara Meadows",
           173,
           "fake"
          ],
          [
           "Liora Ashby",
           212,
           "fake"
          ],
          [
           "Thaddeus Sterling",
           170,
           "fake"
          ],
          [
           "Seraphina Winter",
           178,
           "fake"
          ],
          [
           "Declan Monroe",
           142,
           "fake"
          ],
          [
           "Zephyr Callahan",
           158,
           "fake"
          ],
          [
           "Lyra Whitaker",
           170,
           "fake"
          ],
          [
           "Boris kovelev",
           155,
           "fake"
          ],
          [
           "Alessia Rossi",
           191,
           "fake"
          ],
          [
           "Henrik Bergström",
           140,
           "fake"
          ],
          [
           "Isabella Novák",
           131,
           "fake"
          ],
          [
           "Lucas Müller",
           180,
           "fake"
          ],
          [
           "Sofia Kostas",
           160,
           "fake"
          ],
          [
           "jean-pierre Perrez",
           116,
           "fake"
          ],
          [
           "Haruki Suzuki",
           161,
           "fake"
          ],
          [
           "Mei Pin",
           167,
           "fake"
          ],
          [
           "Haeki Wei",
           178,
           "fake"
          ],
          [
           "Thibault Ricard",
           137,
           "fake"
          ],
          [
           "Li Yamamoto",
           160,
           "fake"
          ],
          [
           "Surya Gupta",
           135,
           "fake"
          ],
          [
           "Yann Fujimoto",
           169,
           "fake"
          ],
          [
           "Camila Santos",
           177,
           "fake"
          ],
          [
           "Mateo Rodriguez",
           126,
           "fake"
          ],
          [
           "Gabriel Herrera",
           154,
           "fake"
          ],
          [
           "Valentina Silva",
           145,
           "fake"
          ],
          [
           "Alejandro chavez",
           218,
           "fake"
          ],
          [
           "Adamma Nwosu",
           173,
           "fake"
          ],
          [
           "Kwame Osei",
           125,
           "fake"
          ],
          [
           "Asha Nkrumah",
           188,
           "fake"
          ],
          [
           "Jabari Mbeki",
           125,
           "fake"
          ],
          [
           "Sanaa Diop",
           137,
           "fake"
          ],
          [
           "Oluwa Adeyemi",
           143,
           "fake"
          ],
          [
           "Tafari Asante",
           154,
           "fake"
          ],
          [
           "Amina Dube",
           213,
           "fake"
          ],
          [
           "Kofi Abimbola",
           165,
           "fake"
          ],
          [
           "Tane Ngata",
           210,
           "fake"
          ],
          [
           "Moana Mahana",
           172,
           "fake"
          ],
          [
           "Aroha Tamati",
           157,
           "fake"
          ],
          [
           "Kai Tehei",
           145,
           "fake"
          ],
          [
           "Marama Pōtiki",
           158,
           "fake"
          ],
          [
           "Rangi Tavita",
           204,
           "fake"
          ],
          [
           "Hine Rehua",
           131,
           "fake"
          ],
          [
           "Manaia Whakarua",
           139,
           "fake"
          ],
          [
           "Kiri Waimarie",
           174,
           "fake"
          ],
          [
           "John Ngaio",
           157,
           "fake"
          ],
          [
           "Amir al-Farsi",
           208,
           "fake"
          ],
          [
           "Layla Nassar",
           163,
           "fake"
          ],
          [
           "Farid Khoury",
           161,
           "fake"
          ],
          [
           "Samira Alawi",
           136,
           "fake"
          ],
          [
           "Karim Hassan",
           165,
           "fake"
          ],
          [
           "Leila Rizvi",
           190,
           "fake"
          ],
          [
           "Zahir Mansour",
           149,
           "fake"
          ],
          [
           "Aisha Qadri",
           177,
           "fake"
          ],
          [
           "Alfred Abbasi",
           151,
           "fake"
          ],
          [
           "Yousef Khalid",
           145,
           "fake"
          ],
          [
           "Arjuna Tan",
           187,
           "fake"
          ],
          [
           "Hera Nurul",
           161,
           "fake"
          ],
          [
           "Christopher Nguyen",
           157,
           "fake"
          ],
          [
           "Aisha Ebrahim",
           144,
           "fake"
          ],
          [
           "Prabhu Rajan",
           153,
           "fake"
          ],
          [
           "Surya Dewi",
           187,
           "fake"
          ],
          [
           "Kritika Sharma",
           157,
           "fake"
          ],
          [
           "Somchai Pong",
           155,
           "fake"
          ],
          [
           "Patrik Sari",
           181,
           "fake"
          ]
         ],
         "hovertemplate": "label=1<br>data_type=celebrity<br>pca1=%{x}<br>pca2=%{y}<br>input/output=%{customdata[0]}<br>output_length=%{customdata[1]}<br>switch=%{customdata[2]}<extra></extra>",
         "legendgroup": "1, celebrity",
         "marker": {
          "color": "#b3a77d",
          "symbol": "square"
         },
         "mode": "markers",
         "name": "1, celebrity",
         "orientation": "v",
         "showlegend": true,
         "type": "scatter",
         "x": [
          2.7275886981394453,
          2.300009366637544,
          2.1284557342720607,
          2.580067315637221,
          2.437796512076803,
          2.344062671054897,
          2.1645137534294845,
          2.452372436705339,
          2.3537750794317933,
          2.530169054171115,
          2.389973780414823,
          2.6388323729896457,
          2.369195691057664,
          2.2773301824871073,
          2.7851682530540236,
          2.488515299722334,
          2.1427041671334583,
          2.3215812706083487,
          2.159017802663235,
          2.721477717419783,
          2.145126232076526,
          2.421021728932959,
          2.230031964834023,
          2.323974938485981,
          2.1860654768615455,
          2.1217916620351507,
          2.043060723010336,
          2.212763604697918,
          2.481839105852796,
          2.6176524071283827,
          2.626022096515568,
          2.580990428609565,
          2.6580509485984836,
          2.6537805868919238,
          2.3656192928335145,
          2.259272458145266,
          2.5052436813509065,
          2.254517389923252,
          2.3899375673043464,
          2.3909208507185085,
          2.402414863369156,
          2.7670998264273887,
          2.6291788069786692,
          2.301827694184685,
          2.5451382830734306,
          2.4095248273853853,
          2.2733214294145228,
          2.385284363796949,
          2.4715819139843402,
          2.6254686654949673,
          2.2768856306724277,
          2.4255664341948138,
          2.507036437533367,
          2.255928565177473,
          2.4528473618519557,
          2.2696448760010544,
          2.690134687423269,
          2.4311320014278506,
          2.2388322480024705,
          1.8111051490611783,
          2.367724720533431,
          2.533069533375947,
          2.709697411661572,
          2.0793831433476795,
          2.2650572998067124,
          2.574784728268336
         ],
         "xaxis": "x",
         "y": [
          -0.07693136614845279,
          -0.3085757704282586,
          0.5705975587267782,
          0.2494366263254389,
          0.30533144378794463,
          0.4796489234287802,
          0.48458088407650723,
          0.489469438908691,
          0.43557707359468284,
          0.3186817658887683,
          0.5498201650800547,
          0.00032429729011231034,
          0.1660131242733967,
          -0.10983009231315048,
          -0.007177305473156981,
          0.16710610837754714,
          0.009072214716435403,
          -0.1389351715835951,
          0.15662853121216735,
          -0.05347136159210823,
          0.018405003547448825,
          0.2503978884677497,
          0.2310014600950441,
          0.11996872148432175,
          0.2630254106027369,
          0.08528373969236626,
          0.17448805358597713,
          0.5433147532856549,
          0.43099621393114335,
          0.06452635849188543,
          0.3655793188136046,
          0.12872676009778833,
          0.23905462554563178,
          0.28479347783892683,
          0.43340305395795575,
          0.3407790897981563,
          0.11714905627445686,
          0.37983372279983707,
          0.32224615815314217,
          0.3152924220699581,
          -0.021724788903331294,
          0.4209596914268967,
          0.1905714679881663,
          0.05147397008495802,
          0.2600550307235485,
          0.2912702862048304,
          0.06795666271413242,
          0.30055490611203833,
          -0.03002589281024237,
          0.08309802832660967,
          0.18133878418358823,
          -0.033416067287630184,
          0.4101474768506347,
          0.14406708122947365,
          0.3171077940636754,
          0.21578647160446,
          -0.0238089599577411,
          0.3815000035105168,
          0.3501440551557073,
          0.4017683938236908,
          0.25285163446382025,
          0.06985427353607229,
          0.12847297956756476,
          0.4086056533907326,
          0.33596776369408765,
          0.20643157404503332
         ],
         "yaxis": "y"
        }
       ],
       "layout": {
        "coloraxis": {
         "colorbar": {
          "ticks": "outside",
          "x": -0.2,
          "y": 1,
          "yanchor": "top"
         }
        },
        "height": 700,
        "legend": {
         "title": {
          "text": "label, data_type"
         },
         "tracegroupgap": 0
        },
        "margin": {
         "t": 60
        },
        "template": {
         "data": {
          "bar": [
           {
            "error_x": {
             "color": "#2a3f5f"
            },
            "error_y": {
             "color": "#2a3f5f"
            },
            "marker": {
             "line": {
              "color": "#E5ECF6",
              "width": 0.5
             },
             "pattern": {
              "fillmode": "overlay",
              "size": 10,
              "solidity": 0.2
             }
            },
            "type": "bar"
           }
          ],
          "barpolar": [
           {
            "marker": {
             "line": {
              "color": "#E5ECF6",
              "width": 0.5
             },
             "pattern": {
              "fillmode": "overlay",
              "size": 10,
              "solidity": 0.2
             }
            },
            "type": "barpolar"
           }
          ],
          "carpet": [
           {
            "aaxis": {
             "endlinecolor": "#2a3f5f",
             "gridcolor": "white",
             "linecolor": "white",
             "minorgridcolor": "white",
             "startlinecolor": "#2a3f5f"
            },
            "baxis": {
             "endlinecolor": "#2a3f5f",
             "gridcolor": "white",
             "linecolor": "white",
             "minorgridcolor": "white",
             "startlinecolor": "#2a3f5f"
            },
            "type": "carpet"
           }
          ],
          "choropleth": [
           {
            "colorbar": {
             "outlinewidth": 0,
             "ticks": ""
            },
            "type": "choropleth"
           }
          ],
          "contour": [
           {
            "colorbar": {
             "outlinewidth": 0,
             "ticks": ""
            },
            "colorscale": [
             [
              0,
              "#0d0887"
             ],
             [
              0.1111111111111111,
              "#46039f"
             ],
             [
              0.2222222222222222,
              "#7201a8"
             ],
             [
              0.3333333333333333,
              "#9c179e"
             ],
             [
              0.4444444444444444,
              "#bd3786"
             ],
             [
              0.5555555555555556,
              "#d8576b"
             ],
             [
              0.6666666666666666,
              "#ed7953"
             ],
             [
              0.7777777777777778,
              "#fb9f3a"
             ],
             [
              0.8888888888888888,
              "#fdca26"
             ],
             [
              1,
              "#f0f921"
             ]
            ],
            "type": "contour"
           }
          ],
          "contourcarpet": [
           {
            "colorbar": {
             "outlinewidth": 0,
             "ticks": ""
            },
            "type": "contourcarpet"
           }
          ],
          "heatmap": [
           {
            "colorbar": {
             "outlinewidth": 0,
             "ticks": ""
            },
            "colorscale": [
             [
              0,
              "#0d0887"
             ],
             [
              0.1111111111111111,
              "#46039f"
             ],
             [
              0.2222222222222222,
              "#7201a8"
             ],
             [
              0.3333333333333333,
              "#9c179e"
             ],
             [
              0.4444444444444444,
              "#bd3786"
             ],
             [
              0.5555555555555556,
              "#d8576b"
             ],
             [
              0.6666666666666666,
              "#ed7953"
             ],
             [
              0.7777777777777778,
              "#fb9f3a"
             ],
             [
              0.8888888888888888,
              "#fdca26"
             ],
             [
              1,
              "#f0f921"
             ]
            ],
            "type": "heatmap"
           }
          ],
          "heatmapgl": [
           {
            "colorbar": {
             "outlinewidth": 0,
             "ticks": ""
            },
            "colorscale": [
             [
              0,
              "#0d0887"
             ],
             [
              0.1111111111111111,
              "#46039f"
             ],
             [
              0.2222222222222222,
              "#7201a8"
             ],
             [
              0.3333333333333333,
              "#9c179e"
             ],
             [
              0.4444444444444444,
              "#bd3786"
             ],
             [
              0.5555555555555556,
              "#d8576b"
             ],
             [
              0.6666666666666666,
              "#ed7953"
             ],
             [
              0.7777777777777778,
              "#fb9f3a"
             ],
             [
              0.8888888888888888,
              "#fdca26"
             ],
             [
              1,
              "#f0f921"
             ]
            ],
            "type": "heatmapgl"
           }
          ],
          "histogram": [
           {
            "marker": {
             "pattern": {
              "fillmode": "overlay",
              "size": 10,
              "solidity": 0.2
             }
            },
            "type": "histogram"
           }
          ],
          "histogram2d": [
           {
            "colorbar": {
             "outlinewidth": 0,
             "ticks": ""
            },
            "colorscale": [
             [
              0,
              "#0d0887"
             ],
             [
              0.1111111111111111,
              "#46039f"
             ],
             [
              0.2222222222222222,
              "#7201a8"
             ],
             [
              0.3333333333333333,
              "#9c179e"
             ],
             [
              0.4444444444444444,
              "#bd3786"
             ],
             [
              0.5555555555555556,
              "#d8576b"
             ],
             [
              0.6666666666666666,
              "#ed7953"
             ],
             [
              0.7777777777777778,
              "#fb9f3a"
             ],
             [
              0.8888888888888888,
              "#fdca26"
             ],
             [
              1,
              "#f0f921"
             ]
            ],
            "type": "histogram2d"
           }
          ],
          "histogram2dcontour": [
           {
            "colorbar": {
             "outlinewidth": 0,
             "ticks": ""
            },
            "colorscale": [
             [
              0,
              "#0d0887"
             ],
             [
              0.1111111111111111,
              "#46039f"
             ],
             [
              0.2222222222222222,
              "#7201a8"
             ],
             [
              0.3333333333333333,
              "#9c179e"
             ],
             [
              0.4444444444444444,
              "#bd3786"
             ],
             [
              0.5555555555555556,
              "#d8576b"
             ],
             [
              0.6666666666666666,
              "#ed7953"
             ],
             [
              0.7777777777777778,
              "#fb9f3a"
             ],
             [
              0.8888888888888888,
              "#fdca26"
             ],
             [
              1,
              "#f0f921"
             ]
            ],
            "type": "histogram2dcontour"
           }
          ],
          "mesh3d": [
           {
            "colorbar": {
             "outlinewidth": 0,
             "ticks": ""
            },
            "type": "mesh3d"
           }
          ],
          "parcoords": [
           {
            "line": {
             "colorbar": {
              "outlinewidth": 0,
              "ticks": ""
             }
            },
            "type": "parcoords"
           }
          ],
          "pie": [
           {
            "automargin": true,
            "type": "pie"
           }
          ],
          "scatter": [
           {
            "fillpattern": {
             "fillmode": "overlay",
             "size": 10,
             "solidity": 0.2
            },
            "type": "scatter"
           }
          ],
          "scatter3d": [
           {
            "line": {
             "colorbar": {
              "outlinewidth": 0,
              "ticks": ""
             }
            },
            "marker": {
             "colorbar": {
              "outlinewidth": 0,
              "ticks": ""
             }
            },
            "type": "scatter3d"
           }
          ],
          "scattercarpet": [
           {
            "marker": {
             "colorbar": {
              "outlinewidth": 0,
              "ticks": ""
             }
            },
            "type": "scattercarpet"
           }
          ],
          "scattergeo": [
           {
            "marker": {
             "colorbar": {
              "outlinewidth": 0,
              "ticks": ""
             }
            },
            "type": "scattergeo"
           }
          ],
          "scattergl": [
           {
            "marker": {
             "colorbar": {
              "outlinewidth": 0,
              "ticks": ""
             }
            },
            "type": "scattergl"
           }
          ],
          "scattermapbox": [
           {
            "marker": {
             "colorbar": {
              "outlinewidth": 0,
              "ticks": ""
             }
            },
            "type": "scattermapbox"
           }
          ],
          "scatterpolar": [
           {
            "marker": {
             "colorbar": {
              "outlinewidth": 0,
              "ticks": ""
             }
            },
            "type": "scatterpolar"
           }
          ],
          "scatterpolargl": [
           {
            "marker": {
             "colorbar": {
              "outlinewidth": 0,
              "ticks": ""
             }
            },
            "type": "scatterpolargl"
           }
          ],
          "scatterternary": [
           {
            "marker": {
             "colorbar": {
              "outlinewidth": 0,
              "ticks": ""
             }
            },
            "type": "scatterternary"
           }
          ],
          "surface": [
           {
            "colorbar": {
             "outlinewidth": 0,
             "ticks": ""
            },
            "colorscale": [
             [
              0,
              "#0d0887"
             ],
             [
              0.1111111111111111,
              "#46039f"
             ],
             [
              0.2222222222222222,
              "#7201a8"
             ],
             [
              0.3333333333333333,
              "#9c179e"
             ],
             [
              0.4444444444444444,
              "#bd3786"
             ],
             [
              0.5555555555555556,
              "#d8576b"
             ],
             [
              0.6666666666666666,
              "#ed7953"
             ],
             [
              0.7777777777777778,
              "#fb9f3a"
             ],
             [
              0.8888888888888888,
              "#fdca26"
             ],
             [
              1,
              "#f0f921"
             ]
            ],
            "type": "surface"
           }
          ],
          "table": [
           {
            "cells": {
             "fill": {
              "color": "#EBF0F8"
             },
             "line": {
              "color": "white"
             }
            },
            "header": {
             "fill": {
              "color": "#C8D4E3"
             },
             "line": {
              "color": "white"
             }
            },
            "type": "table"
           }
          ]
         },
         "layout": {
          "annotationdefaults": {
           "arrowcolor": "#2a3f5f",
           "arrowhead": 0,
           "arrowwidth": 1
          },
          "autotypenumbers": "strict",
          "coloraxis": {
           "colorbar": {
            "outlinewidth": 0,
            "ticks": ""
           }
          },
          "colorscale": {
           "diverging": [
            [
             0,
             "#8e0152"
            ],
            [
             0.1,
             "#c51b7d"
            ],
            [
             0.2,
             "#de77ae"
            ],
            [
             0.3,
             "#f1b6da"
            ],
            [
             0.4,
             "#fde0ef"
            ],
            [
             0.5,
             "#f7f7f7"
            ],
            [
             0.6,
             "#e6f5d0"
            ],
            [
             0.7,
             "#b8e186"
            ],
            [
             0.8,
             "#7fbc41"
            ],
            [
             0.9,
             "#4d9221"
            ],
            [
             1,
             "#276419"
            ]
           ],
           "sequential": [
            [
             0,
             "#0d0887"
            ],
            [
             0.1111111111111111,
             "#46039f"
            ],
            [
             0.2222222222222222,
             "#7201a8"
            ],
            [
             0.3333333333333333,
             "#9c179e"
            ],
            [
             0.4444444444444444,
             "#bd3786"
            ],
            [
             0.5555555555555556,
             "#d8576b"
            ],
            [
             0.6666666666666666,
             "#ed7953"
            ],
            [
             0.7777777777777778,
             "#fb9f3a"
            ],
            [
             0.8888888888888888,
             "#fdca26"
            ],
            [
             1,
             "#f0f921"
            ]
           ],
           "sequentialminus": [
            [
             0,
             "#0d0887"
            ],
            [
             0.1111111111111111,
             "#46039f"
            ],
            [
             0.2222222222222222,
             "#7201a8"
            ],
            [
             0.3333333333333333,
             "#9c179e"
            ],
            [
             0.4444444444444444,
             "#bd3786"
            ],
            [
             0.5555555555555556,
             "#d8576b"
            ],
            [
             0.6666666666666666,
             "#ed7953"
            ],
            [
             0.7777777777777778,
             "#fb9f3a"
            ],
            [
             0.8888888888888888,
             "#fdca26"
            ],
            [
             1,
             "#f0f921"
            ]
           ]
          },
          "colorway": [
           "#636efa",
           "#EF553B",
           "#00cc96",
           "#ab63fa",
           "#FFA15A",
           "#19d3f3",
           "#FF6692",
           "#B6E880",
           "#FF97FF",
           "#FECB52"
          ],
          "font": {
           "color": "#2a3f5f"
          },
          "geo": {
           "bgcolor": "white",
           "lakecolor": "white",
           "landcolor": "#E5ECF6",
           "showlakes": true,
           "showland": true,
           "subunitcolor": "white"
          },
          "hoverlabel": {
           "align": "left"
          },
          "hovermode": "closest",
          "mapbox": {
           "style": "light"
          },
          "paper_bgcolor": "white",
          "plot_bgcolor": "#E5ECF6",
          "polar": {
           "angularaxis": {
            "gridcolor": "white",
            "linecolor": "white",
            "ticks": ""
           },
           "bgcolor": "#E5ECF6",
           "radialaxis": {
            "gridcolor": "white",
            "linecolor": "white",
            "ticks": ""
           }
          },
          "scene": {
           "xaxis": {
            "backgroundcolor": "#E5ECF6",
            "gridcolor": "white",
            "gridwidth": 2,
            "linecolor": "white",
            "showbackground": true,
            "ticks": "",
            "zerolinecolor": "white"
           },
           "yaxis": {
            "backgroundcolor": "#E5ECF6",
            "gridcolor": "white",
            "gridwidth": 2,
            "linecolor": "white",
            "showbackground": true,
            "ticks": "",
            "zerolinecolor": "white"
           },
           "zaxis": {
            "backgroundcolor": "#E5ECF6",
            "gridcolor": "white",
            "gridwidth": 2,
            "linecolor": "white",
            "showbackground": true,
            "ticks": "",
            "zerolinecolor": "white"
           }
          },
          "shapedefaults": {
           "line": {
            "color": "#2a3f5f"
           }
          },
          "ternary": {
           "aaxis": {
            "gridcolor": "white",
            "linecolor": "white",
            "ticks": ""
           },
           "baxis": {
            "gridcolor": "white",
            "linecolor": "white",
            "ticks": ""
           },
           "bgcolor": "#E5ECF6",
           "caxis": {
            "gridcolor": "white",
            "linecolor": "white",
            "ticks": ""
           }
          },
          "title": {
           "x": 0.05
          },
          "xaxis": {
           "automargin": true,
           "gridcolor": "white",
           "linecolor": "white",
           "ticks": "",
           "title": {
            "standoff": 15
           },
           "zerolinecolor": "white",
           "zerolinewidth": 2
          },
          "yaxis": {
           "automargin": true,
           "gridcolor": "white",
           "linecolor": "white",
           "ticks": "",
           "title": {
            "standoff": 15
           },
           "zerolinecolor": "white",
           "zerolinewidth": 2
          }
         }
        },
        "width": 1000,
        "xaxis": {
         "anchor": "y",
         "domain": [
          0,
          1
         ],
         "title": {
          "text": "pca1"
         }
        },
        "yaxis": {
         "anchor": "x",
         "domain": [
          0,
          1
         ],
         "title": {
          "text": "pca2"
         }
        }
       }
      }
     },
     "metadata": {},
     "output_type": "display_data"
    }
   ],
   "source": [
    "\n",
    "# df_modified = df[df[\"label\"] ]\n",
    "# df_modified = df[df[\"layer_id\"] == 16]\n",
    "# df_modified = df_modified[(df_modified[\"label\"] < 2) | (df_modified[\"label\"] > 3)]\n",
    "# df_modified = df_modified[df_modified[\"sufix\"] == 1]\n",
    "# df_modified = df_modified[df_modified[\"output_length\"] < 20]\n",
    "# print(df_modified.head()[\"label\"])\n",
    "# print(set(df_modified[data_type]))\n",
    "df_modified = df.copy()\n",
    "df_modified[\"label\"] = df_modified[\"label\"].astype(str)\n",
    "df_modified[\"random_value\"] = np.random.rand(len(df_modified))\n",
    "\n",
    "scatter = px.scatter(df_modified, x='pca1', y='pca2',\n",
    "                     color=\"label\",\n",
    "                    #  size='output_length', \n",
    "                     symbol= \"data_type\",\n",
    "                     hover_data=[\"input/output\", \"output_length\", \"switch\"],\n",
    "                     color_discrete_sequence=color_selction)\n",
    "\n",
    "scatter.update_layout(\n",
    "    # autosize=True,\n",
    "    width=1000,\n",
    "    height=700,)\n",
    "\n",
    "scatter.update_layout(coloraxis_colorbar=dict(yanchor=\"top\", y=1, x=-0.2,\n",
    "                                          ticks=\"outside\"))\n",
    "\n",
    "scatter.show()"
   ]
  },
  {
   "cell_type": "code",
   "execution_count": 46,
   "metadata": {},
   "outputs": [],
   "source": [
    "from sklearn.decomposition import FactorAnalysis\n",
    "from sklearn.preprocessing import StandardScaler\n",
    "\n"
   ]
  },
  {
   "cell_type": "markdown",
   "metadata": {},
   "source": [
    "## Save additive vector from the projcetion\n",
    "\n"
   ]
  },
  {
   "cell_type": "code",
   "execution_count": 47,
   "metadata": {},
   "outputs": [
    {
     "name": "stdout",
     "output_type": "stream",
     "text": [
      "4096\n",
      "[10 10 10 ... 10 10 10]\n",
      "[[2.64282891 8.13674013 7.81570091 4.60737426]]\n",
      "[ 2.10133048  0.52419034 -0.19866566 -0.0039711 ] [ 2.40121153  0.21449456 -0.19526781  0.06069475]\n",
      "[ 0.29988106 -0.30969579  0.00339785  0.06466585]\n",
      "[ 0.68791396 -0.71042852  0.00779452  0.14834062]\n",
      "[-0.0059908  -0.00675183  0.02288136 ...  0.02846429 -0.027327\n",
      " -0.01083517]\n",
      "[[ 2.06374189 -2.13128557  0.02338357  0.44502187]]\n"
     ]
    }
   ],
   "source": [
    "vect_length = len(data_list[0].activations[0][0])\n",
    "print(vect_length)\n",
    "# vect_length = 12288\n",
    "x = np.array([10]*vect_length)\n",
    "print(x)\n",
    "x = proj.transform([x])\n",
    "print(x)\n",
    "\n",
    "# LDA give the proj matrix:\n",
    "if False:\n",
    "    print(proj.scalings_.shape)\n",
    "    w = proj.scalings_[:, 0]\n",
    "    w_T_w = np.dot(w, w)\n",
    "    xn = (1 / w_T_w) * w\n",
    "    print(xn)\n",
    "    print(proj.transform([xn]))\n",
    "\n",
    "# PCA give the inverse transform of this values:\n",
    "if True:\n",
    "    class1 = df_modified[df_modified[\"label\"] == \"0\"]\n",
    "    class2 = df_modified[df_modified[\"label\"]==\"1\"]\n",
    "    mean1 = class1[[\"pca1\", \"pca2\", \"pca3\", \"pca4\"]].to_numpy().mean(axis=0)\n",
    "    mean2 = class2[[\"pca1\", \"pca2\", \"pca3\", \"pca4\"]].to_numpy().mean(axis=0)\n",
    "\n",
    "    print(mean1, mean2)\n",
    "\n",
    "    proj_unit_delt = mean2 - mean1\n",
    "\n",
    "    print(proj_unit_delt)\n",
    "\n",
    "    proj_unit_delt = proj_unit_delt/np.linalg.norm(proj_unit_delt)\n",
    "\n",
    "    print(proj_unit_delt)\n",
    "\n",
    "    xn = proj.inverse_transform(proj_unit_delt * 3)\n",
    "    print(xn)\n",
    "    print(proj.transform([xn]))\n",
    "\n",
    "    import pickle\n",
    "    proj_file = open('../inference_data/proj2.pkl', 'wb')\n",
    "    unit_file = open('../inference_data/unit_delta2.pkl', 'wb')\n",
    "    pickle.dump(proj, proj_file)\n",
    "    pickle.dump(proj_unit_delt, unit_file)\n",
    "    proj_file.close() , unit_file.close()\n"
   ]
  },
  {
   "cell_type": "markdown",
   "metadata": {},
   "source": [
    "## Use probes for quantitative evaluation"
   ]
  },
  {
   "cell_type": "code",
   "execution_count": 48,
   "metadata": {},
   "outputs": [
    {
     "data": {
      "text/plain": [
       "<module 'probes' from '/home/thibaua25/Documents/Prog/LLMs/mri_llm/notebooks/../probes.py'>"
      ]
     },
     "execution_count": 48,
     "metadata": {},
     "output_type": "execute_result"
    }
   ],
   "source": [
    "import probes\n",
    "reload(probes)"
   ]
  },
  {
   "cell_type": "code",
   "execution_count": 58,
   "metadata": {},
   "outputs": [
    {
     "data": {
      "text/plain": [
       "0.883248730964467"
      ]
     },
     "execution_count": 58,
     "metadata": {},
     "output_type": "execute_result"
    }
   ],
   "source": [
    "# split data\n",
    "split_condition1 = df[\"data_type\"]==\"french_word\"\n",
    "split_condition2 = df[\"output_length\"] < 10\n",
    "train_df = df[split_condition1]\n",
    "eval_df = df[~split_condition1]\n",
    "\n",
    "# layernb = 16\n",
    "# train_df = train_df[train_df[\"layer_id\"] == layernb]\n",
    "# eval_df = eval_df[eval_df[\"layer_id\"] == layernb]\n",
    "\n",
    "\n",
    "# format for training\n",
    "# x = train_df[['pca1', 'pca2', 'pca3', 'pca4']].to_numpy()\n",
    "x = train_df[['pca1', 'pca2']].to_numpy()\n",
    "# x = train_df[['pca1']].to_numpy()\n",
    "y = train_df['label'].to_numpy()\n",
    "y = y - np.min(y)\n",
    "\n",
    "# train mean mass probe\n",
    "mmp = probes.MMProbe.from_data(x, y)\n",
    "\n",
    "# trian Linear separation\n",
    "from sklearn import svm\n",
    "reg = svm.SVC().fit(x, y)\n",
    "reg.score(x, y)"
   ]
  },
  {
   "cell_type": "code",
   "execution_count": 59,
   "metadata": {},
   "outputs": [
    {
     "name": "stdout",
     "output_type": "stream",
     "text": [
      "Total cases: 341\n",
      "MMP Success cases: 71.0\n",
      "MMP Failure cases: 270.0\n",
      "MMP F1 score: 0.1186349252013809\n",
      "\n",
      "REG Success cases: 124.0\n",
      "REG Failure cases: 217.0\n",
      "REG F1 score: 0.2509968102073365\n"
     ]
    },
    {
     "name": "stderr",
     "output_type": "stream",
     "text": [
      "/tmp/ipykernel_2987235/1784266568.py:14: SettingWithCopyWarning:\n",
      "\n",
      "\n",
      "A value is trying to be set on a copy of a slice from a DataFrame.\n",
      "Try using .loc[row_indexer,col_indexer] = value instead\n",
      "\n",
      "See the caveats in the documentation: https://pandas.pydata.org/pandas-docs/stable/user_guide/indexing.html#returning-a-view-versus-a-copy\n",
      "\n",
      "/tmp/ipykernel_2987235/1784266568.py:15: SettingWithCopyWarning:\n",
      "\n",
      "\n",
      "A value is trying to be set on a copy of a slice from a DataFrame.\n",
      "Try using .loc[row_indexer,col_indexer] = value instead\n",
      "\n",
      "See the caveats in the documentation: https://pandas.pydata.org/pandas-docs/stable/user_guide/indexing.html#returning-a-view-versus-a-copy\n",
      "\n",
      "/srv/public/Thibaud/conda/lib/python3.10/site-packages/sklearn/metrics/_classification.py:1509: UndefinedMetricWarning:\n",
      "\n",
      "Precision is ill-defined and being set to 0.0 in labels with no predicted samples. Use `zero_division` parameter to control this behavior.\n",
      "\n",
      "/srv/public/Thibaud/conda/lib/python3.10/site-packages/sklearn/metrics/_classification.py:1509: UndefinedMetricWarning:\n",
      "\n",
      "Precision is ill-defined and being set to 0.0 in labels with no predicted samples. Use `zero_division` parameter to control this behavior.\n",
      "\n",
      "/srv/public/Thibaud/conda/lib/python3.10/site-packages/sklearn/metrics/_classification.py:1509: UndefinedMetricWarning:\n",
      "\n",
      "Precision is ill-defined and being set to 0.0 in labels with no predicted samples. Use `zero_division` parameter to control this behavior.\n",
      "\n",
      "/srv/public/Thibaud/conda/lib/python3.10/site-packages/sklearn/metrics/_classification.py:1509: UndefinedMetricWarning:\n",
      "\n",
      "Precision is ill-defined and being set to 0.0 in labels with no predicted samples. Use `zero_division` parameter to control this behavior.\n",
      "\n",
      "/srv/public/Thibaud/conda/lib/python3.10/site-packages/sklearn/metrics/_classification.py:1509: UndefinedMetricWarning:\n",
      "\n",
      "Precision is ill-defined and being set to 0.0 in labels with no predicted samples. Use `zero_division` parameter to control this behavior.\n",
      "\n",
      "/srv/public/Thibaud/conda/lib/python3.10/site-packages/sklearn/metrics/_classification.py:1509: UndefinedMetricWarning:\n",
      "\n",
      "Precision is ill-defined and being set to 0.0 in labels with no predicted samples. Use `zero_division` parameter to control this behavior.\n",
      "\n"
     ]
    }
   ],
   "source": [
    "# eval data\n",
    "# x_eval = eval_df[['pca1', 'pca2', 'pca3', 'pca4']].to_numpy()\n",
    "x_eval = eval_df[['pca1', 'pca2']].to_numpy()\n",
    "# x_eval = eval_df[['pca1']].to_numpy()\n",
    "y_eval = eval_df['label'].to_numpy()\n",
    "y_eval = y_eval - np.min(y_eval)\n",
    "\n",
    "# print(y_eval)\n",
    "MM_prediction = mmp.pred(x_eval)\n",
    "reg_prediction = reg.predict(x_eval)\n",
    "# print(MM_prediction.numpy())\n",
    "# print(np.array(reg_prediction))\n",
    "\n",
    "eval_df[\"MM_prediction\"] = MM_prediction.numpy()\n",
    "eval_df[\"reg_prediction\"] = np.array(reg_prediction)\n",
    "\n",
    "class_report = classification_report(y_eval, eval_df[\"MM_prediction\"].to_numpy(), output_dict=True)\n",
    "print(\"Total cases:\", len(y_eval))\n",
    "print(\"MMP Success cases:\", class_report[\"accuracy\"]*len(y_eval))\n",
    "print(\"MMP Failure cases:\", (1 - class_report[\"accuracy\"])*len(y_eval))\n",
    "print(\"MMP F1 score:\", class_report['macro avg']['f1-score'])\n",
    "class_report = classification_report(y_eval, eval_df[\"reg_prediction\"].to_numpy(), output_dict=True)\n",
    "print()\n",
    "print(\"REG Success cases:\", class_report[\"accuracy\"]*len(y_eval))\n",
    "print(\"REG Failure cases:\", (1 - class_report[\"accuracy\"])*len(y_eval))\n",
    "print(\"REG F1 score:\", class_report['macro avg']['f1-score'])\n"
   ]
  },
  {
   "cell_type": "markdown",
   "metadata": {},
   "source": [
    "# Remove the data element with low confidence."
   ]
  },
  {
   "cell_type": "code",
   "execution_count": 60,
   "metadata": {},
   "outputs": [
    {
     "name": "stdout",
     "output_type": "stream",
     "text": [
      "Total cases: 341 confident cases: 103\n",
      "Success cases: 0.9999999999999999\n",
      "Failure cases: 102.0\n",
      "F1 score: 0.00641025641025641\n"
     ]
    },
    {
     "name": "stderr",
     "output_type": "stream",
     "text": [
      "/srv/public/Thibaud/conda/lib/python3.10/site-packages/sklearn/metrics/_classification.py:1509: UndefinedMetricWarning:\n",
      "\n",
      "Precision is ill-defined and being set to 0.0 in labels with no predicted samples. Use `zero_division` parameter to control this behavior.\n",
      "\n",
      "/srv/public/Thibaud/conda/lib/python3.10/site-packages/sklearn/metrics/_classification.py:1509: UndefinedMetricWarning:\n",
      "\n",
      "Recall is ill-defined and being set to 0.0 in labels with no true samples. Use `zero_division` parameter to control this behavior.\n",
      "\n",
      "/srv/public/Thibaud/conda/lib/python3.10/site-packages/sklearn/metrics/_classification.py:1509: UndefinedMetricWarning:\n",
      "\n",
      "Precision is ill-defined and being set to 0.0 in labels with no predicted samples. Use `zero_division` parameter to control this behavior.\n",
      "\n",
      "/srv/public/Thibaud/conda/lib/python3.10/site-packages/sklearn/metrics/_classification.py:1509: UndefinedMetricWarning:\n",
      "\n",
      "Recall is ill-defined and being set to 0.0 in labels with no true samples. Use `zero_division` parameter to control this behavior.\n",
      "\n",
      "/srv/public/Thibaud/conda/lib/python3.10/site-packages/sklearn/metrics/_classification.py:1509: UndefinedMetricWarning:\n",
      "\n",
      "Precision is ill-defined and being set to 0.0 in labels with no predicted samples. Use `zero_division` parameter to control this behavior.\n",
      "\n",
      "/srv/public/Thibaud/conda/lib/python3.10/site-packages/sklearn/metrics/_classification.py:1509: UndefinedMetricWarning:\n",
      "\n",
      "Recall is ill-defined and being set to 0.0 in labels with no true samples. Use `zero_division` parameter to control this behavior.\n",
      "\n"
     ]
    }
   ],
   "source": [
    "loggits = mmp(x_eval).cpu().numpy()\n",
    "\n",
    "confidence = 0.5\n",
    "\n",
    "# print(np.abs(loggits - 0.5))\n",
    "confident_indices = np.where(np.abs(loggits - 0.5) > (0.5 - confidence/2))[0] \n",
    "# print(confident_indices)\n",
    "\n",
    "class_report = classification_report(y_eval[confident_indices], eval_df[\"MM_prediction\"].to_numpy()[confident_indices], output_dict=True)\n",
    "print(\"Total cases:\", len(y_eval), \"confident cases:\", len(y_eval[confident_indices]))\n",
    "print(\"Success cases:\", class_report[\"accuracy\"]*len(y_eval[confident_indices]))\n",
    "print(\"Failure cases:\", (1 - class_report[\"accuracy\"])*len(y_eval[confident_indices]))\n",
    "print(\"F1 score:\", class_report['macro avg']['f1-score'])"
   ]
  },
  {
   "cell_type": "markdown",
   "metadata": {},
   "source": [
    "# Plot Probe classification 2D"
   ]
  },
  {
   "cell_type": "code",
   "execution_count": 61,
   "metadata": {},
   "outputs": [
    {
     "data": {
      "text/plain": [
       "<matplotlib.collections.PathCollection at 0x7f77b80de8f0>"
      ]
     },
     "execution_count": 61,
     "metadata": {},
     "output_type": "execute_result"
    },
    {
     "data": {
      "image/png": "[encoded data removed]",
      "text/plain": [
       "<Figure size 1000x500 with 1 Axes>"
      ]
     },
     "metadata": {},
     "output_type": "display_data"
    }
   ],
   "source": [
    "from sklearn.inspection import DecisionBoundaryDisplay\n",
    "\n",
    "_, ax = plt.subplots(figsize=(10, 5))\n",
    "DecisionBoundaryDisplay.from_estimator(\n",
    "    reg,\n",
    "    x,\n",
    "    cmap=plt.cm.Paired,\n",
    "    ax=ax,\n",
    "    response_method=\"predict\",\n",
    "    plot_method=\"pcolormesh\",\n",
    "    shading=\"auto\",\n",
    "    xlabel=\"pca1\",\n",
    "    ylabel=\"pca2\",\n",
    "    eps=0.5,\n",
    ")\n",
    "plt.scatter(x[:, 0], x[:, 1], c=y, edgecolors=\"k\", cmap=plt.cm.Paired)\n",
    "plt.scatter(x_eval[:, 0], x_eval[:, 1], c=y_eval, edgecolors=\"k\", cmap=plt.cm.Dark2)"
   ]
  },
  {
   "cell_type": "code",
   "execution_count": 62,
   "metadata": {},
   "outputs": [
    {
     "name": "stderr",
     "output_type": "stream",
     "text": [
      "/tmp/ipykernel_2987235/2100144012.py:1: SettingWithCopyWarning:\n",
      "\n",
      "\n",
      "A value is trying to be set on a copy of a slice from a DataFrame.\n",
      "Try using .loc[row_indexer,col_indexer] = value instead\n",
      "\n",
      "See the caveats in the documentation: https://pandas.pydata.org/pandas-docs/stable/user_guide/indexing.html#returning-a-view-versus-a-copy\n",
      "\n",
      "/tmp/ipykernel_2987235/2100144012.py:2: SettingWithCopyWarning:\n",
      "\n",
      "\n",
      "A value is trying to be set on a copy of a slice from a DataFrame.\n",
      "Try using .loc[row_indexer,col_indexer] = value instead\n",
      "\n",
      "See the caveats in the documentation: https://pandas.pydata.org/pandas-docs/stable/user_guide/indexing.html#returning-a-view-versus-a-copy\n",
      "\n"
     ]
    },
    {
     "data": {
      "application/vnd.plotly.v1+json": {
       "config": {
        "plotlyServerURL": "https://plot.ly"
       },
       "data": [
        {
         "customdata": [
          [
           "Time",
           131,
           "real"
          ],
          [
           "People",
           74,
           "real"
          ],
          [
           "Way",
           99,
           "real"
          ],
          [
           "Day",
           105,
           "real"
          ],
          [
           "Thing",
           91,
           "real"
          ],
          [
           "Life",
           115,
           "real"
          ],
          [
           "Child",
           146,
           "real"
          ],
          [
           "World",
           92,
           "real"
          ],
          [
           "School",
           146,
           "real"
          ],
          [
           "State",
           90,
           "real"
          ],
          [
           "Family",
           119,
           "real"
          ],
          [
           "Student",
           114,
           "real"
          ],
          [
           "Group",
           117,
           "real"
          ],
          [
           "Country",
           89,
           "real"
          ],
          [
           "Problem",
           102,
           "real"
          ],
          [
           "Hand",
           125,
           "real"
          ],
          [
           "Part",
           110,
           "real"
          ],
          [
           "Place",
           87,
           "real"
          ],
          [
           "Case",
           106,
           "real"
          ],
          [
           "Company",
           140,
           "real"
          ],
          [
           "System",
           103,
           "real"
          ],
          [
           "Program",
           140,
           "real"
          ],
          [
           "Question",
           78,
           "real"
          ],
          [
           "Work",
           112,
           "real"
          ],
          [
           "Government",
           129,
           "real"
          ],
          [
           "Number",
           70,
           "real"
          ],
          [
           "Night",
           122,
           "real"
          ],
          [
           "Point",
           56,
           "real"
          ],
          [
           "Home",
           129,
           "real"
          ],
          [
           "Room",
           96,
           "real"
          ],
          [
           "Mother",
           66,
           "real"
          ],
          [
           "Area",
           141,
           "real"
          ],
          [
           "Money",
           123,
           "real"
          ],
          [
           "Story",
           106,
           "real"
          ],
          [
           "Fact",
           130,
           "real"
          ],
          [
           "Month",
           80,
           "real"
          ],
          [
           "Lot",
           122,
           "real"
          ],
          [
           "Right",
           55,
           "real"
          ],
          [
           "Study",
           113,
           "real"
          ],
          [
           "Book",
           114,
           "real"
          ],
          [
           "Eye",
           113,
           "real"
          ],
          [
           "Job",
           105,
           "real"
          ],
          [
           "Business",
           116,
           "real"
          ],
          [
           "Issue",
           64,
           "real"
          ],
          [
           "Side",
           118,
           "real"
          ],
          [
           "Kind",
           69,
           "real"
          ],
          [
           "Head",
           96,
           "real"
          ],
          [
           "House",
           122,
           "real"
          ],
          [
           "Service",
           67,
           "real"
          ],
          [
           "Friend",
           138,
           "real"
          ],
          [
           "Father",
           52,
           "real"
          ],
          [
           "Power",
           115,
           "real"
          ],
          [
           "Game",
           143,
           "real"
          ],
          [
           "Line",
           67,
           "real"
          ],
          [
           "End",
           88,
           "real"
          ],
          [
           "Member",
           94,
           "real"
          ],
          [
           "Law",
           133,
           "real"
          ],
          [
           "Car",
           137,
           "real"
          ],
          [
           "City",
           142,
           "real"
          ],
          [
           "Community",
           123,
           "real"
          ],
          [
           "Name",
           69,
           "real"
          ],
          [
           "President",
           118,
           "real"
          ],
          [
           "Team",
           88,
           "real"
          ],
          [
           "Idea",
           67,
           "real"
          ],
          [
           "Body",
           175,
           "real"
          ],
          [
           "Information",
           99,
           "real"
          ],
          [
           "Parent",
           99,
           "real"
          ],
          [
           "Face",
           75,
           "real"
          ],
          [
           "Level",
           121,
           "real"
          ],
          [
           "Office",
           105,
           "real"
          ],
          [
           "Door",
           96,
           "real"
          ],
          [
           "Health",
           99,
           "real"
          ],
          [
           "Person",
           107,
           "real"
          ],
          [
           "Art",
           219,
           "real"
          ],
          [
           "War",
           73,
           "real"
          ],
          [
           "History",
           152,
           "real"
          ],
          [
           "Party",
           84,
           "real"
          ],
          [
           "Result",
           86,
           "real"
          ],
          [
           "Change",
           49,
           "real"
          ],
          [
           "Reason",
           77,
           "real"
          ],
          [
           "Research",
           131,
           "real"
          ],
          [
           "Moment",
           114,
           "real"
          ],
          [
           "Air",
           105,
           "real"
          ],
          [
           "Teacher",
           143,
           "real"
          ],
          [
           "Force",
           100,
           "real"
          ],
          [
           "Education",
           127,
           "real"
          ],
          [
           "Alexander Hamilton",
           195,
           "real"
          ],
          [
           "Henry Ford",
           141,
           "real"
          ],
          [
           "Salvador Dalí",
           192,
           "real"
          ],
          [
           "Steve Jobs",
           163,
           "real"
          ],
          [
           "Oprah Winfrey",
           187,
           "real"
          ]
         ],
         "hovertemplate": "MM_prediction=0.0<br>pca1=%{x}<br>pca2=%{y}<br>output_length=%{customdata[1]}<br>input/output=%{customdata[0]}<br>switch=%{customdata[2]}<br>label=%{marker.color}<extra></extra>",
         "legendgroup": "0.0",
         "marker": {
          "color": [
           2,
           2,
           2,
           2,
           2,
           2,
           2,
           2,
           2,
           2,
           2,
           2,
           2,
           2,
           2,
           2,
           2,
           2,
           2,
           2,
           2,
           2,
           2,
           2,
           2,
           2,
           2,
           2,
           2,
           2,
           2,
           2,
           2,
           2,
           2,
           2,
           2,
           2,
           2,
           2,
           2,
           2,
           2,
           2,
           2,
           2,
           2,
           2,
           2,
           2,
           2,
           2,
           2,
           2,
           2,
           2,
           2,
           2,
           2,
           2,
           2,
           2,
           2,
           2,
           2,
           2,
           2,
           2,
           2,
           2,
           2,
           2,
           2,
           2,
           2,
           2,
           2,
           2,
           2,
           2,
           2,
           2,
           2,
           2,
           2,
           2,
           0,
           0,
           0,
           0,
           0
          ],
          "coloraxis": "coloraxis",
          "size": [
           131,
           74,
           99,
           105,
           91,
           115,
           146,
           92,
           146,
           90,
           119,
           114,
           117,
           89,
           102,
           125,
           110,
           87,
           106,
           140,
           103,
           140,
           78,
           112,
           129,
           70,
           122,
           56,
           129,
           96,
           66,
           141,
           123,
           106,
           130,
           80,
           122,
           55,
           113,
           114,
           113,
           105,
           116,
           64,
           118,
           69,
           96,
           122,
           67,
           138,
           52,
           115,
           143,
           67,
           88,
           94,
           133,
           137,
           142,
           123,
           69,
           118,
           88,
           67,
           175,
           99,
           99,
           75,
           121,
           105,
           96,
           99,
           107,
           219,
           73,
           152,
           84,
           86,
           49,
           77,
           131,
           114,
           105,
           143,
           100,
           127,
           195,
           141,
           192,
           163,
           187
          ],
          "sizemode": "area",
          "sizeref": 0.645,
          "symbol": "circle"
         },
         "mode": "markers",
         "name": "0.0",
         "orientation": "v",
         "showlegend": true,
         "type": "scatter",
         "x": [
          1.8059426149485773,
          2.023821318609499,
          1.4984529369900412,
          1.8191273405560175,
          1.542392790880389,
          2.0815048983917377,
          2.054887529972324,
          1.963495118356882,
          1.837077942264281,
          2.035412948176837,
          1.8247179556271704,
          1.8036478229170898,
          1.6621824778407541,
          1.9187857952127305,
          1.7526033489817807,
          1.8184437944632537,
          1.4902762047816793,
          1.5364912674708957,
          1.876257630897452,
          1.7390393566802618,
          1.5679712863172017,
          1.6822756282881803,
          2.0104675951274955,
          1.5861780371657712,
          1.809309173780775,
          1.8197529498130365,
          2.1982956352040386,
          1.9441875958134736,
          1.7213416568282325,
          1.4303404331597984,
          1.931522110805275,
          2.021717111467187,
          1.7853111478500312,
          1.6700179690722803,
          1.6505588952273942,
          1.8282427098324954,
          1.6035541733187053,
          2.424085542276508,
          1.6382007005497876,
          1.8056679390412964,
          2.041256899699556,
          1.8202344462320592,
          1.6813911390955978,
          1.9215805546219535,
          1.9698393695974032,
          2.0385283694137994,
          1.9478313807898429,
          1.4937962882519624,
          1.9162339977281402,
          1.7615660821733479,
          2.0248328589870397,
          1.9038391450302017,
          1.5207423406863882,
          2.0131388434441657,
          1.6867409411775456,
          1.622993122179459,
          1.7820615954270411,
          1.5998342072372806,
          1.8238183177081386,
          1.757261220657718,
          1.94053695827852,
          1.9060069155153299,
          1.606706995613168,
          2.1927576612720396,
          1.8221834414709188,
          1.789094687773353,
          1.7947019287388217,
          2.095554062517114,
          1.7339867366637502,
          1.604443396856476,
          1.5269069321187565,
          2.103117404183769,
          2.011776595632455,
          2.0044930795050306,
          1.9687882602084295,
          1.7797570106151341,
          1.5708650368258505,
          1.8620312834312038,
          2.1986363245632847,
          1.8779568765934647,
          1.9392236384596024,
          1.8340224008120871,
          1.980397066811538,
          1.6597332357493682,
          1.748493066603751,
          1.8257729703049532,
          1.8100850980801242,
          1.655983118877809,
          2.209664646076179,
          1.7854692618007475,
          2.3833944112797862
         ],
         "xaxis": "x",
         "y": [
          1.2491999087051537,
          1.5428112599334383,
          1.4875030174896415,
          0.8833331474067698,
          1.877177284866014,
          1.5615997157828494,
          1.0808712132900724,
          1.0639548258730491,
          1.1405613374348345,
          1.411963306342253,
          1.325102558151331,
          1.3577830971721152,
          1.9754717702979667,
          1.2332306583570245,
          1.8620459411090824,
          1.0722531991680746,
          2.1703169668715163,
          1.9893625409825733,
          1.2157117538103692,
          1.7760270874757744,
          2.294254293272523,
          1.907585589488926,
          1.4253560094831856,
          2.0955339482380695,
          1.704715794089207,
          1.5442949498816667,
          0.9273634269163076,
          1.1793557737289968,
          1.5038224473296835,
          1.8609964155129135,
          0.8897569287753895,
          1.105976175379131,
          1.271253697139126,
          1.664222274214828,
          1.8627291527111685,
          0.6677495730425695,
          1.380147035986289,
          0.937670635787399,
          1.8970236005845789,
          1.2348765400467885,
          0.8507388384607218,
          1.6943594820993786,
          1.7290569557817097,
          1.6842236197300358,
          0.9894801954443598,
          0.7475040818151192,
          0.7567257040729396,
          1.5438768849620348,
          1.5690979089498567,
          1.4858349189137172,
          0.6955873820370695,
          1.6841309113142344,
          1.8760135375821543,
          0.9075527832740089,
          1.6084797151984391,
          2.001586501374909,
          1.6878145524771395,
          1.044815139759124,
          1.219924170726694,
          1.6422378275800882,
          1.3204607718323733,
          0.9505457245848793,
          2.0065346283815098,
          1.3810342741546369,
          1.7130114362150297,
          2.0272853652832223,
          1.293396378830629,
          0.8585642776541169,
          1.5336350299904262,
          1.5906552947946946,
          1.556353236867938,
          1.0167957393675517,
          1.372593076862409,
          1.466106448174987,
          0.9181646605592882,
          1.6321946441593957,
          1.8097143711669716,
          1.7420906681372277,
          1.601595028329988,
          1.5884240488224775,
          1.675075842850232,
          1.3404171093939516,
          0.7215483969829516,
          1.670297811298398,
          1.9259986656329189,
          1.6084238394937604,
          0.6682628961941878,
          0.6180017367397651,
          0.8526123001122625,
          0.8342093750132242,
          0.8443733698243189
         ],
         "yaxis": "y"
        },
        {
         "customdata": [
          [
           "Year",
           97,
           "real"
          ],
          [
           "Man",
           20,
           "real"
          ],
          [
           "Woman",
           28,
           "real"
          ],
          [
           "Week",
           45,
           "real"
          ],
          [
           "Water",
           138,
           "real"
          ],
          [
           "Hour",
           72,
           "real"
          ],
          [
           "Minute",
           47,
           "real"
          ],
          [
           "Kid",
           117,
           "real"
          ],
          [
           "Back",
           108,
           "real"
          ],
          [
           "Morning",
           126,
           "real"
          ],
          [
           "Girl",
           77,
           "real"
          ],
          [
           "Guy",
           113,
           "real"
          ],
          [
           "Blorble",
           102,
           "fake"
          ],
          [
           "Flynth",
           89,
           "fake"
          ],
          [
           "Quindle",
           87,
           "fake"
          ],
          [
           "Wimbish",
           92,
           "fake"
          ],
          [
           "Flaxet",
           84,
           "fake"
          ],
          [
           "Snorfle",
           104,
           "fake"
          ],
          [
           "Glimmeron",
           96,
           "fake"
          ],
          [
           "Jorkle",
           109,
           "fake"
          ],
          [
           "Bramblet",
           114,
           "fake"
          ],
          [
           "Sproon",
           77,
           "fake"
          ],
          [
           "Veltor",
           84,
           "fake"
          ],
          [
           "Crimble",
           84,
           "fake"
          ],
          [
           "Zindle",
           76,
           "fake"
          ],
          [
           "Blorple",
           131,
           "fake"
          ],
          [
           "Fizzet",
           106,
           "fake"
          ],
          [
           "Dronth",
           93,
           "fake"
          ],
          [
           "Wobblet",
           147,
           "fake"
          ],
          [
           "Ploomish",
           126,
           "fake"
          ],
          [
           "Glaiveon",
           96,
           "fake"
          ],
          [
           "Quorble",
           142,
           "fake"
          ],
          [
           "Strindle",
           88,
           "fake"
          ],
          [
           "Plimble",
           90,
           "fake"
          ],
          [
           "Brindish",
           114,
           "fake"
          ],
          [
           "Flizet",
           103,
           "fake"
          ],
          [
           "Chorkle",
           94,
           "fake"
          ],
          [
           "Glomble",
           112,
           "fake"
          ],
          [
           "Tindle",
           80,
           "fake"
          ],
          [
           "Framble",
           122,
           "fake"
          ],
          [
           "Vextron",
           101,
           "fake"
          ],
          [
           "Snindle",
           36,
           "fake"
          ],
          [
           "Brimpet",
           82,
           "fake"
          ],
          [
           "Zorble",
           130,
           "fake"
          ],
          [
           "Blinter",
           82,
           "fake"
          ],
          [
           "Floomish",
           117,
           "fake"
          ],
          [
           "Drindle",
           89,
           "fake"
          ],
          [
           "Plicket",
           93,
           "fake"
          ],
          [
           "Glompel",
           82,
           "fake"
          ],
          [
           "Wramble",
           137,
           "fake"
          ],
          [
           "Crindle",
           88,
           "fake"
          ],
          [
           "Vornish",
           81,
           "fake"
          ],
          [
           "Blimble",
           93,
           "fake"
          ],
          [
           "Flumble",
           85,
           "fake"
          ],
          [
           "Snorple",
           102,
           "fake"
          ],
          [
           "Zintle",
           74,
           "fake"
          ],
          [
           "Glimble",
           79,
           "fake"
          ],
          [
           "Plindle",
           80,
           "fake"
          ],
          [
           "Quorlet",
           79,
           "fake"
          ],
          [
           "Thrumble",
           130,
           "fake"
          ],
          [
           "Brinkle",
           126,
           "fake"
          ],
          [
           "Fuzzle",
           105,
           "fake"
          ],
          [
           "Wimbel",
           124,
           "fake"
          ],
          [
           "Flonkle",
           116,
           "fake"
          ],
          [
           "Glindle",
           71,
           "fake"
          ],
          [
           "Zorlet",
           82,
           "fake"
          ],
          [
           "Dribblet",
           94,
           "fake"
          ],
          [
           "Splimble",
           128,
           "fake"
          ],
          [
           "Vlimp",
           68,
           "fake"
          ],
          [
           "Frindle",
           127,
           "fake"
          ],
          [
           "Quomp",
           87,
           "fake"
          ],
          [
           "Blimblet",
           83,
           "fake"
          ],
          [
           "Womble",
           156,
           "fake"
          ],
          [
           "Glimmeret",
           87,
           "fake"
          ],
          [
           "Jorple",
           35,
           "fake"
          ],
          [
           "Snibble",
           100,
           "fake"
          ],
          [
           "Plumble",
           76,
           "fake"
          ],
          [
           "Brumble",
           56,
           "fake"
          ],
          [
           "Vindle",
           84,
           "fake"
          ],
          [
           "Blorkle",
           96,
           "fake"
          ],
          [
           "Strindle",
           98,
           "fake"
          ],
          [
           "Wornish",
           87,
           "fake"
          ],
          [
           "Quizzle",
           96,
           "fake"
          ],
          [
           "Drimple",
           126,
           "fake"
          ],
          [
           "Glomplet",
           118,
           "fake"
          ],
          [
           "Brinkle",
           117,
           "fake"
          ],
          [
           "Flindle",
           59,
           "fake"
          ],
          [
           "Snorble",
           134,
           "fake"
          ],
          [
           "Plimblet",
           72,
           "fake"
          ],
          [
           "Vortle",
           85,
           "fake"
          ],
          [
           "Tindle",
           147,
           "fake"
          ],
          [
           "Quornet",
           66,
           "fake"
          ],
          [
           "Fumblet",
           66,
           "fake"
          ],
          [
           "Crimblet",
           102,
           "fake"
          ],
          [
           "Wromble",
           118,
           "fake"
          ],
          [
           "Jindle",
           88,
           "fake"
          ],
          [
           "Snizzle",
           144,
           "fake"
          ],
          [
           "Plomish",
           153,
           "fake"
          ],
          [
           "Brantle",
           65,
           "fake"
          ],
          [
           "Framblet",
           65,
           "fake"
          ],
          [
           "Bimble",
           74,
           "fake"
          ],
          [
           "Chindle",
           137,
           "fake"
          ],
          [
           "Dronkle",
           112,
           "fake"
          ],
          [
           "Friblet",
           92,
           "fake"
          ],
          [
           "Leonardo da Vinci",
           198,
           "real"
          ],
          [
           "Napoleon Bonaparte",
           207,
           "real"
          ],
          [
           "Mahatma Gandhi",
           142,
           "real"
          ],
          [
           "Albert Einstein",
           169,
           "real"
          ],
          [
           "Marilyn Monroe",
           135,
           "real"
          ],
          [
           "Queen Elizabeth I",
           172,
           "real"
          ],
          [
           "Nelson Mandela",
           238,
           "real"
          ],
          [
           "Mother Teresa",
           151,
           "real"
          ],
          [
           "Wolfgang Amadeus Mozart",
           185,
           "real"
          ],
          [
           "Michelangelo",
           201,
           "real"
          ],
          [
           "Karl Marx",
           167,
           "real"
          ],
          [
           "Martin Luther King Jr.",
           258,
           "real"
          ],
          [
           "Thomas Edison",
           203,
           "real"
          ],
          [
           "Charles Darwin",
           200,
           "real"
          ],
          [
           "Marie Curie",
           226,
           "real"
          ],
          [
           "Vincent van Gogh",
           153,
           "real"
          ],
          [
           "Galileo Galilei",
           240,
           "real"
          ],
          [
           "Benjamin Franklin",
           152,
           "real"
          ],
          [
           "Queen Victoria",
           203,
           "real"
          ],
          [
           "Pablo Picasso",
           154,
           "real"
          ],
          [
           "Winston Churchill",
           211,
           "real"
          ],
          [
           "Adolf Hitler",
           194,
           "real"
          ],
          [
           "Catherine the Great",
           186,
           "real"
          ],
          [
           "Joan of Arc",
           172,
           "real"
          ],
          [
           "George Washington",
           156,
           "real"
          ],
          [
           "John F. Kennedy",
           189,
           "real"
          ],
          [
           "Frida Kahlo",
           172,
           "real"
          ],
          [
           "Johann Sebastian Bach",
           197,
           "real"
          ],
          [
           "Napoleon III",
           171,
           "real"
          ],
          [
           "Thomas Jefferson",
           226,
           "real"
          ],
          [
           "Isaac Newton",
           217,
           "real"
          ],
          [
           "Elizabeth Taylor",
           191,
           "real"
          ],
          [
           "Michael Jordan",
           239,
           "real"
          ],
          [
           "Neil Armstrong",
           147,
           "real"
          ],
          [
           "Bruce Lee",
           178,
           "real"
          ],
          [
           "Tupac Shakur",
           186,
           "real"
          ],
          [
           "Elvis Presley",
           162,
           "real"
          ],
          [
           "Walt Disney",
           200,
           "real"
          ],
          [
           "Cristiano Ronaldo",
           183,
           "real"
          ],
          [
           "Abraham Lincoln",
           151,
           "real"
          ],
          [
           "Mao Zedong",
           163,
           "real"
          ],
          [
           "Anne Frank",
           219,
           "real"
          ],
          [
           "Stephen Hawking",
           182,
           "real"
          ],
          [
           "Fidel Castro",
           149,
           "real"
          ],
          [
           "James Cook",
           203,
           "real"
          ],
          [
           "Queen Isabella I of Castile",
           210,
           "real"
          ],
          [
           "Pope Francis",
           203,
           "real"
          ],
          [
           "Stephen King",
           146,
           "real"
          ],
          [
           "Amelia Earhart",
           196,
           "real"
          ],
          [
           "Emily Dickinson",
           198,
           "real"
          ],
          [
           "Alfred Nobel",
           122,
           "real"
          ],
          [
           "Gustave Eiffel",
           133,
           "real"
          ],
          [
           "Al Capone",
           158,
           "real"
          ],
          [
           "Jackie Robinson",
           174,
           "real"
          ],
          [
           "Margaret Thatcher",
           182,
           "real"
          ],
          [
           "Vladimir Lenin",
           190,
           "real"
          ],
          [
           "Babe Ruth",
           153,
           "real"
          ],
          [
           "Rosa Parks",
           177,
           "real"
          ],
          [
           "Che Guevara",
           172,
           "real"
          ],
          [
           "Sigmund Freud",
           240,
           "real"
          ],
          [
           "Christopher Columbus",
           198,
           "real"
          ],
          [
           "Mark Twain",
           187,
           "real"
          ],
          [
           "Alexander Graham Bell",
           119,
           "real"
          ],
          [
           "Paul McCartney",
           157,
           "real"
          ],
          [
           "Nikola Tesla",
           219,
           "real"
          ],
          [
           "Bruce Springsteen",
           149,
           "real"
          ],
          [
           "Emily Brontë",
           124,
           "real"
          ],
          [
           "Teresa of Ávila",
           167,
           "real"
          ],
          [
           "John Lennon",
           141,
           "real"
          ],
          [
           "Charlie Chaplin",
           166,
           "real"
          ],
          [
           "Kurt Cobain",
           159,
           "real"
          ],
          [
           "Oscar Wilde",
           198,
           "real"
          ],
          [
           "Richard Nixon",
           186,
           "real"
          ],
          [
           "Muhammad Ali",
           208,
           "real"
          ],
          [
           "Helen Keller",
           217,
           "real"
          ],
          [
           "Barack Obama",
           191,
           "real"
          ],
          [
           "Xi Jinping",
           164,
           "real"
          ],
          [
           "Kim Jong Un",
           132,
           "real"
          ],
          [
           "Narendra Modi",
           168,
           "real"
          ],
          [
           "Aung San Suu Kyi",
           174,
           "real"
          ],
          [
           "Darien Hawthorne",
           164,
           "fake"
          ],
          [
           "Leandra Rivers",
           142,
           "fake"
          ],
          [
           "Elara Meadows",
           173,
           "fake"
          ],
          [
           "Liora Ashby",
           212,
           "fake"
          ],
          [
           "Thaddeus Sterling",
           170,
           "fake"
          ],
          [
           "Seraphina Winter",
           178,
           "fake"
          ],
          [
           "Declan Monroe",
           142,
           "fake"
          ],
          [
           "Zephyr Callahan",
           158,
           "fake"
          ],
          [
           "Lyra Whitaker",
           170,
           "fake"
          ],
          [
           "Boris kovelev",
           155,
           "fake"
          ],
          [
           "Alessia Rossi",
           191,
           "fake"
          ],
          [
           "Henrik Bergström",
           140,
           "fake"
          ],
          [
           "Isabella Novák",
           131,
           "fake"
          ],
          [
           "Lucas Müller",
           180,
           "fake"
          ],
          [
           "Sofia Kostas",
           160,
           "fake"
          ],
          [
           "jean-pierre Perrez",
           116,
           "fake"
          ],
          [
           "Haruki Suzuki",
           161,
           "fake"
          ],
          [
           "Mei Pin",
           167,
           "fake"
          ],
          [
           "Haeki Wei",
           178,
           "fake"
          ],
          [
           "Thibault Ricard",
           137,
           "fake"
          ],
          [
           "Li Yamamoto",
           160,
           "fake"
          ],
          [
           "Surya Gupta",
           135,
           "fake"
          ],
          [
           "Yann Fujimoto",
           169,
           "fake"
          ],
          [
           "Camila Santos",
           177,
           "fake"
          ],
          [
           "Mateo Rodriguez",
           126,
           "fake"
          ],
          [
           "Gabriel Herrera",
           154,
           "fake"
          ],
          [
           "Valentina Silva",
           145,
           "fake"
          ],
          [
           "Alejandro chavez",
           218,
           "fake"
          ],
          [
           "Adamma Nwosu",
           173,
           "fake"
          ],
          [
           "Kwame Osei",
           125,
           "fake"
          ],
          [
           "Asha Nkrumah",
           188,
           "fake"
          ],
          [
           "Jabari Mbeki",
           125,
           "fake"
          ],
          [
           "Sanaa Diop",
           137,
           "fake"
          ],
          [
           "Oluwa Adeyemi",
           143,
           "fake"
          ],
          [
           "Tafari Asante",
           154,
           "fake"
          ],
          [
           "Amina Dube",
           213,
           "fake"
          ],
          [
           "Kofi Abimbola",
           165,
           "fake"
          ],
          [
           "Tane Ngata",
           210,
           "fake"
          ],
          [
           "Moana Mahana",
           172,
           "fake"
          ],
          [
           "Aroha Tamati",
           157,
           "fake"
          ],
          [
           "Kai Tehei",
           145,
           "fake"
          ],
          [
           "Marama Pōtiki",
           158,
           "fake"
          ],
          [
           "Rangi Tavita",
           204,
           "fake"
          ],
          [
           "Hine Rehua",
           131,
           "fake"
          ],
          [
           "Manaia Whakarua",
           139,
           "fake"
          ],
          [
           "Kiri Waimarie",
           174,
           "fake"
          ],
          [
           "John Ngaio",
           157,
           "fake"
          ],
          [
           "Amir al-Farsi",
           208,
           "fake"
          ],
          [
           "Layla Nassar",
           163,
           "fake"
          ],
          [
           "Farid Khoury",
           161,
           "fake"
          ],
          [
           "Samira Alawi",
           136,
           "fake"
          ],
          [
           "Karim Hassan",
           165,
           "fake"
          ],
          [
           "Leila Rizvi",
           190,
           "fake"
          ],
          [
           "Zahir Mansour",
           149,
           "fake"
          ],
          [
           "Aisha Qadri",
           177,
           "fake"
          ],
          [
           "Alfred Abbasi",
           151,
           "fake"
          ],
          [
           "Yousef Khalid",
           145,
           "fake"
          ],
          [
           "Arjuna Tan",
           187,
           "fake"
          ],
          [
           "Hera Nurul",
           161,
           "fake"
          ],
          [
           "Christopher Nguyen",
           157,
           "fake"
          ],
          [
           "Aisha Ebrahim",
           144,
           "fake"
          ],
          [
           "Prabhu Rajan",
           153,
           "fake"
          ],
          [
           "Surya Dewi",
           187,
           "fake"
          ],
          [
           "Kritika Sharma",
           157,
           "fake"
          ],
          [
           "Somchai Pong",
           155,
           "fake"
          ],
          [
           "Patrik Sari",
           181,
           "fake"
          ]
         ],
         "hovertemplate": "MM_prediction=1.0<br>pca1=%{x}<br>pca2=%{y}<br>output_length=%{customdata[1]}<br>input/output=%{customdata[0]}<br>switch=%{customdata[2]}<br>label=%{marker.color}<extra></extra>",
         "legendgroup": "1.0",
         "marker": {
          "color": [
           2,
           2,
           2,
           2,
           2,
           2,
           2,
           2,
           2,
           2,
           2,
           2,
           3,
           3,
           3,
           3,
           3,
           3,
           3,
           3,
           3,
           3,
           3,
           3,
           3,
           3,
           3,
           3,
           3,
           3,
           3,
           3,
           3,
           3,
           3,
           3,
           3,
           3,
           3,
           3,
           3,
           3,
           3,
           3,
           3,
           3,
           3,
           3,
           3,
           3,
           3,
           3,
           3,
           3,
           3,
           3,
           3,
           3,
           3,
           3,
           3,
           3,
           3,
           3,
           3,
           3,
           3,
           3,
           3,
           3,
           3,
           3,
           3,
           3,
           3,
           3,
           3,
           3,
           3,
           3,
           3,
           3,
           3,
           3,
           3,
           3,
           3,
           3,
           3,
           3,
           3,
           3,
           3,
           3,
           3,
           3,
           3,
           3,
           3,
           3,
           3,
           3,
           3,
           3,
           0,
           0,
           0,
           0,
           0,
           0,
           0,
           0,
           0,
           0,
           0,
           0,
           0,
           0,
           0,
           0,
           0,
           0,
           0,
           0,
           0,
           0,
           0,
           0,
           0,
           0,
           0,
           0,
           0,
           0,
           0,
           0,
           0,
           0,
           0,
           0,
           0,
           0,
           0,
           0,
           0,
           0,
           0,
           0,
           0,
           0,
           0,
           0,
           0,
           0,
           0,
           0,
           0,
           0,
           0,
           0,
           0,
           0,
           0,
           0,
           0,
           0,
           0,
           0,
           0,
           0,
           0,
           0,
           0,
           0,
           0,
           0,
           0,
           0,
           0,
           0,
           0,
           0,
           0,
           0,
           1,
           1,
           1,
           1,
           1,
           1,
           1,
           1,
           1,
           1,
           1,
           1,
           1,
           1,
           1,
           1,
           1,
           1,
           1,
           1,
           1,
           1,
           1,
           1,
           1,
           1,
           1,
           1,
           1,
           1,
           1,
           1,
           1,
           1,
           1,
           1,
           1,
           1,
           1,
           1,
           1,
           1,
           1,
           1,
           1,
           1,
           1,
           1,
           1,
           1,
           1,
           1,
           1,
           1,
           1,
           1,
           1,
           1,
           1,
           1,
           1,
           1,
           1,
           1,
           1,
           1
          ],
          "coloraxis": "coloraxis",
          "size": [
           97,
           20,
           28,
           45,
           138,
           72,
           47,
           117,
           108,
           126,
           77,
           113,
           102,
           89,
           87,
           92,
           84,
           104,
           96,
           109,
           114,
           77,
           84,
           84,
           76,
           131,
           106,
           93,
           147,
           126,
           96,
           142,
           88,
           90,
           114,
           103,
           94,
           112,
           80,
           122,
           101,
           36,
           82,
           130,
           82,
           117,
           89,
           93,
           82,
           137,
           88,
           81,
           93,
           85,
           102,
           74,
           79,
           80,
           79,
           130,
           126,
           105,
           124,
           116,
           71,
           82,
           94,
           128,
           68,
           127,
           87,
           83,
           156,
           87,
           35,
           100,
           76,
           56,
           84,
           96,
           98,
           87,
           96,
           126,
           118,
           117,
           59,
           134,
           72,
           85,
           147,
           66,
           66,
           102,
           118,
           88,
           144,
           153,
           65,
           65,
           74,
           137,
           112,
           92,
           198,
           207,
           142,
           169,
           135,
           172,
           238,
           151,
           185,
           201,
           167,
           258,
           203,
           200,
           226,
           153,
           240,
           152,
           203,
           154,
           211,
           194,
           186,
           172,
           156,
           189,
           172,
           197,
           171,
           226,
           217,
           191,
           239,
           147,
           178,
           186,
           162,
           200,
           183,
           151,
           163,
           219,
           182,
           149,
           203,
           210,
           203,
           146,
           196,
           198,
           122,
           133,
           158,
           174,
           182,
           190,
           153,
           177,
           172,
           240,
           198,
           187,
           119,
           157,
           219,
           149,
           124,
           167,
           141,
           166,
           159,
           198,
           186,
           208,
           217,
           191,
           164,
           132,
           168,
           174,
           164,
           142,
           173,
           212,
           170,
           178,
           142,
           158,
           170,
           155,
           191,
           140,
           131,
           180,
           160,
           116,
           161,
           167,
           178,
           137,
           160,
           135,
           169,
           177,
           126,
           154,
           145,
           218,
           173,
           125,
           188,
           125,
           137,
           143,
           154,
           213,
           165,
           210,
           172,
           157,
           145,
           158,
           204,
           131,
           139,
           174,
           157,
           208,
           163,
           161,
           136,
           165,
           190,
           149,
           177,
           151,
           145,
           187,
           161,
           157,
           144,
           153,
           187,
           157,
           155,
           181
          ],
          "sizemode": "area",
          "sizeref": 0.645,
          "symbol": "diamond"
         },
         "mode": "markers",
         "name": "1.0",
         "orientation": "v",
         "showlegend": true,
         "type": "scatter",
         "x": [
          2.1254930909462617,
          2.5569468690004564,
          2.4636375226615748,
          1.8593198896100098,
          2.153857201805403,
          2.0165352053051806,
          1.936164209758981,
          2.1700927458610884,
          2.0698332925709813,
          2.033934602389674,
          2.1838089414692945,
          1.8675924256745675,
          2.635675415350149,
          2.65415284392946,
          2.4837895017275735,
          2.8379689287564025,
          2.751004798886599,
          2.53272625657841,
          3.18178131918091,
          2.621266446261106,
          2.595328786497065,
          2.7213966979414494,
          2.7957521671125756,
          2.600161553072637,
          2.4948146907354376,
          2.6572958554702693,
          2.433037674183102,
          2.800479345676284,
          2.4360901364239136,
          2.6779494971435325,
          2.9512656016869245,
          2.4749368148091695,
          2.3909146125281695,
          2.537115349729409,
          2.5502059800367816,
          2.9790606429481845,
          2.606844476585394,
          2.7624811634600595,
          2.4207480354301545,
          2.303959970564079,
          3.1353080678530216,
          2.9364084217155817,
          2.822616706635208,
          2.3785825892042505,
          2.5539891354047897,
          3.1159280202804682,
          2.365110245813049,
          2.349009776345891,
          2.7311019773872163,
          2.5623246354435336,
          2.5509553211672347,
          2.6899001333568973,
          2.6125530545601587,
          2.279978137408052,
          2.710677693139436,
          2.918056902663161,
          2.6401822095427305,
          2.3538902777930173,
          2.6989185751346687,
          2.4967592390222517,
          2.277854516015788,
          2.202710899661656,
          2.7700953045638084,
          2.681935598363875,
          2.8786081078280277,
          2.7598018361270134,
          2.678912009443602,
          2.678043955296884,
          3.06686424983939,
          2.3194722467410855,
          2.4765281036438718,
          3.158402549414164,
          2.6037805592396372,
          2.917033664153291,
          3.1627148678436043,
          2.3208243010685115,
          2.4365271806703923,
          2.454079404177543,
          2.4984404760824774,
          2.9629864195148166,
          2.360284983824307,
          2.3382140699986524,
          2.3214854030948278,
          2.3060929889847293,
          2.528026311679935,
          2.2830832235551815,
          2.4934509922181975,
          2.8407341609686805,
          2.9951930369442366,
          3.0893959411347223,
          2.2697412231827885,
          2.7598752158295827,
          2.720347699639978,
          3.237846812500564,
          2.5520361799729128,
          2.4554357094782655,
          2.22508160723139,
          2.708440152504886,
          2.6996582924211636,
          2.7121986956013195,
          2.4931387041131554,
          2.0313884085552005,
          2.6923012623017204,
          2.5910566969484283,
          2.0859903210430164,
          2.485483974045901,
          2.2681813323371642,
          2.041726530522657,
          2.240598588881072,
          2.1511097917225452,
          2.1185433136139746,
          1.88949442774934,
          2.4933585685153448,
          1.9633344331551825,
          1.9757673357015777,
          2.3225117335568775,
          1.722492259493113,
          1.9064554680332868,
          2.4951886745151013,
          2.3725145097660865,
          2.2693853419510455,
          1.9020831257672821,
          1.9118964851352225,
          1.908003538747868,
          1.9859294779721084,
          1.9991959964430652,
          2.1652213486308995,
          2.337131549844396,
          1.9421879229165393,
          2.2819865592936273,
          2.395005234376003,
          2.1545342708221833,
          2.230487968879261,
          1.9162352486394953,
          2.0578747500500985,
          1.9106064099480282,
          1.8893509899823535,
          1.8833385397906333,
          1.8699658282967155,
          2.3119541493563003,
          2.2205883265921877,
          1.907766255193064,
          2.2596531630879753,
          2.0343345285757253,
          2.3836888174950914,
          1.920530912151761,
          2.0899426119316358,
          2.119491115964654,
          1.6993074262437688,
          2.7216642510007274,
          2.0622339919561465,
          1.855368165534399,
          2.3744962564661876,
          1.9442864154200723,
          2.043124312544803,
          2.3712793886202004,
          1.9026050923719644,
          2.050987121249271,
          2.037541176347389,
          2.2858271380000543,
          1.9933055260813606,
          2.032445920354104,
          2.2950569122029387,
          2.2608033827724467,
          1.823036675991773,
          2.058598168035079,
          1.9716859075624504,
          1.7841074435928934,
          2.0646232046935142,
          2.032937204677246,
          2.3013245281369956,
          2.7193891067139386,
          1.850002574020213,
          1.9081118799597674,
          2.2282103977774184,
          2.0624790856894015,
          1.9036400284298862,
          2.1169412017323466,
          2.0955634650220536,
          2.1680949182250506,
          2.004466675024273,
          2.0334322825330617,
          2.121281837413405,
          2.799113287308053,
          2.7275886981394453,
          2.300009366637544,
          2.1284557342720607,
          2.580067315637221,
          2.437796512076803,
          2.344062671054897,
          2.1645137534294845,
          2.452372436705339,
          2.3537750794317933,
          2.530169054171115,
          2.389973780414823,
          2.6388323729896457,
          2.369195691057664,
          2.2773301824871073,
          2.7851682530540236,
          2.488515299722334,
          2.1427041671334583,
          2.3215812706083487,
          2.159017802663235,
          2.721477717419783,
          2.145126232076526,
          2.421021728932959,
          2.230031964834023,
          2.323974938485981,
          2.1860654768615455,
          2.1217916620351507,
          2.043060723010336,
          2.212763604697918,
          2.481839105852796,
          2.6176524071283827,
          2.626022096515568,
          2.580990428609565,
          2.6580509485984836,
          2.6537805868919238,
          2.3656192928335145,
          2.259272458145266,
          2.5052436813509065,
          2.254517389923252,
          2.3899375673043464,
          2.3909208507185085,
          2.402414863369156,
          2.7670998264273887,
          2.6291788069786692,
          2.301827694184685,
          2.5451382830734306,
          2.4095248273853853,
          2.2733214294145228,
          2.385284363796949,
          2.4715819139843402,
          2.6254686654949673,
          2.2768856306724277,
          2.4255664341948138,
          2.507036437533367,
          2.255928565177473,
          2.4528473618519557,
          2.2696448760010544,
          2.690134687423269,
          2.4311320014278506,
          2.2388322480024705,
          1.8111051490611783,
          2.367724720533431,
          2.533069533375947,
          2.709697411661572,
          2.0793831433476795,
          2.2650572998067124,
          2.574784728268336
         ],
         "xaxis": "x",
         "y": [
          0.518832171342184,
          0.475916145199024,
          0.6029630463728863,
          0.4500487337619127,
          0.4782580285024845,
          0.6230909246282781,
          0.2313988929427296,
          0.722473842484571,
          0.5265863121714411,
          0.6609777475278847,
          0.4571823691461648,
          0.5106561163103686,
          -0.09779763145793352,
          -1.0226359355200787,
          -1.4355668137840332,
          -0.5588512202388959,
          -1.2283777010301145,
          -0.20917356054670613,
          -0.2614759011936346,
          -1.2343665106000428,
          -0.49628676060251214,
          -1.1041925199358678,
          -1.294490374346369,
          -0.7560166054742607,
          -1.0541442346154137,
          -0.030519506822676068,
          -0.9077715761283216,
          -0.8711606957734525,
          -0.35211912991522887,
          -0.525292182027445,
          -1.0526406980366227,
          -0.49842104598833875,
          -1.1411120516539381,
          -0.7248772615039455,
          -0.23260858157690806,
          -0.29010350810301533,
          -0.5920551172533521,
          -1.0012108695695334,
          -0.9699241810957799,
          -0.21046335957340567,
          0.00044670323185339034,
          -0.791312910772139,
          -1.2999643109191221,
          -0.6176906847729966,
          -0.9209568746799417,
          0.06951527842638569,
          -1.1512985888690024,
          -0.2563469637512914,
          -0.802737087593724,
          0.34047000004003647,
          -1.3838945519948018,
          -1.1626622637917685,
          -0.9468288142929473,
          -0.20992072733438064,
          -0.2171055385537398,
          -1.1343129723460894,
          -0.4694461967103576,
          -1.2775387702508623,
          -1.001710299162127,
          -0.5883010918897644,
          -0.228347745552313,
          -0.32371041891808017,
          -0.16163573177175347,
          -0.4148712544029387,
          -0.3431586801125307,
          -1.3461503357836135,
          0.21430966444039268,
          -0.8230755589099173,
          -0.2717847641948018,
          0.022302258060059685,
          -0.9347393906405951,
          -0.1867629175399215,
          -0.252606862470268,
          -0.8707688564255707,
          -0.7770139939805711,
          -0.1536491348087975,
          -1.251256984084907,
          -0.769440725219793,
          -0.8497515545906554,
          -0.11595148269752972,
          -1.1827854131358755,
          0.28406325475532757,
          -0.07955083107897108,
          0.21959148079228563,
          -0.3101358104441735,
          -0.2630672747465468,
          -0.405680243051882,
          -0.44279876959923725,
          -1.1638982292181816,
          -0.08868183685607647,
          -0.7535412111327904,
          -0.8777734843002368,
          -0.9668918197385103,
          0.060451928660611,
          -0.5160223544613599,
          -0.8980787322444557,
          -0.5859257733096369,
          -0.5666318307124413,
          -1.0801060005320802,
          -0.5416678415239446,
          -0.35978079339903096,
          -0.3364071897243713,
          -1.2018812856955392,
          -0.8817324754362796,
          0.6860222930979407,
          0.6287855301235884,
          0.5985458138471356,
          0.5416190600039925,
          0.49627949678141414,
          0.388661761945588,
          0.5852539367861835,
          0.40550571588402207,
          0.639094044302607,
          0.3908444613675865,
          0.5629992802288463,
          0.7745329000934837,
          0.5383735154679945,
          0.485110864032925,
          0.5053590501835166,
          0.5151184393037761,
          0.6584175617971972,
          0.5486417913893231,
          0.42755295473784094,
          0.6249202414281336,
          0.5100180870644013,
          0.6361129907207639,
          0.5061651120618534,
          0.3819010227540293,
          0.4365275320209412,
          0.6648135812226685,
          0.5599627808866312,
          0.5685338711910359,
          0.29107474164483954,
          0.46923504504692437,
          0.5975288187720423,
          0.3854547309386806,
          0.5287805527236435,
          0.43704251797743443,
          0.5814472153713772,
          0.683020847880865,
          0.594988364738359,
          0.5651738348416127,
          0.6045639057059594,
          0.4068585795693903,
          0.5739296767527888,
          0.5900864982494011,
          0.5122257328616087,
          0.37567645814476,
          0.45730362305086925,
          0.565380116941193,
          0.4990548356749873,
          0.549254516865123,
          0.4628025465431321,
          0.6024293760769034,
          0.3107500666918104,
          0.5286879098645376,
          0.3582148043883869,
          0.4915589486131791,
          0.4823746608276971,
          0.5562202815948176,
          0.36330017447352214,
          0.4323833396211404,
          0.5273306753782164,
          0.7282696222251407,
          0.3875278988368304,
          0.4250420913951536,
          0.42439429500082304,
          0.39946613621630855,
          0.6992933021860752,
          0.40870276381599646,
          0.20394939066346518,
          0.30893543042109006,
          0.47505834462571384,
          0.4075799985324206,
          0.5209341225594646,
          0.46998042621824043,
          0.45956849235811326,
          0.457310768107434,
          0.666926665479421,
          0.6556434141451073,
          0.48905492155820207,
          0.4844544681118072,
          0.47514030247827665,
          0.541679394144416,
          -0.07693136614845279,
          -0.3085757704282586,
          0.5705975587267782,
          0.2494366263254389,
          0.30533144378794463,
          0.4796489234287802,
          0.48458088407650723,
          0.489469438908691,
          0.43557707359468284,
          0.3186817658887683,
          0.5498201650800547,
          0.00032429729011231034,
          0.1660131242733967,
          -0.10983009231315048,
          -0.007177305473156981,
          0.16710610837754714,
          0.009072214716435403,
          -0.1389351715835951,
          0.15662853121216735,
          -0.05347136159210823,
          0.018405003547448825,
          0.2503978884677497,
          0.2310014600950441,
          0.11996872148432175,
          0.2630254106027369,
          0.08528373969236626,
          0.17448805358597713,
          0.5433147532856549,
          0.43099621393114335,
          0.06452635849188543,
          0.3655793188136046,
          0.12872676009778833,
          0.23905462554563178,
          0.28479347783892683,
          0.43340305395795575,
          0.3407790897981563,
          0.11714905627445686,
          0.37983372279983707,
          0.32224615815314217,
          0.3152924220699581,
          -0.021724788903331294,
          0.4209596914268967,
          0.1905714679881663,
          0.05147397008495802,
          0.2600550307235485,
          0.2912702862048304,
          0.06795666271413242,
          0.30055490611203833,
          -0.03002589281024237,
          0.08309802832660967,
          0.18133878418358823,
          -0.033416067287630184,
          0.4101474768506347,
          0.14406708122947365,
          0.3171077940636754,
          0.21578647160446,
          -0.0238089599577411,
          0.3815000035105168,
          0.3501440551557073,
          0.4017683938236908,
          0.25285163446382025,
          0.06985427353607229,
          0.12847297956756476,
          0.4086056533907326,
          0.33596776369408765,
          0.20643157404503332
         ],
         "yaxis": "y"
        }
       ],
       "layout": {
        "coloraxis": {
         "colorbar": {
          "ticks": "outside",
          "title": {
           "text": "label"
          },
          "x": -0.2,
          "y": 1,
          "yanchor": "top"
         },
         "colorscale": [
          [
           0,
           "#0d0887"
          ],
          [
           0.1111111111111111,
           "#46039f"
          ],
          [
           0.2222222222222222,
           "#7201a8"
          ],
          [
           0.3333333333333333,
           "#9c179e"
          ],
          [
           0.4444444444444444,
           "#bd3786"
          ],
          [
           0.5555555555555556,
           "#d8576b"
          ],
          [
           0.6666666666666666,
           "#ed7953"
          ],
          [
           0.7777777777777778,
           "#fb9f3a"
          ],
          [
           0.8888888888888888,
           "#fdca26"
          ],
          [
           1,
           "#f0f921"
          ]
         ]
        },
        "height": 700,
        "legend": {
         "itemsizing": "constant",
         "title": {
          "text": "MM_prediction"
         },
         "tracegroupgap": 0
        },
        "margin": {
         "t": 60
        },
        "shapes": [
         {
          "line": {
           "color": "red",
           "dash": "dash"
          },
          "type": "line",
          "x0": 0,
          "x1": 0,
          "xref": "x",
          "y0": 0,
          "y1": 1,
          "yref": "y domain"
         }
        ],
        "template": {
         "data": {
          "bar": [
           {
            "error_x": {
             "color": "#2a3f5f"
            },
            "error_y": {
             "color": "#2a3f5f"
            },
            "marker": {
             "line": {
              "color": "#E5ECF6",
              "width": 0.5
             },
             "pattern": {
              "fillmode": "overlay",
              "size": 10,
              "solidity": 0.2
             }
            },
            "type": "bar"
           }
          ],
          "barpolar": [
           {
            "marker": {
             "line": {
              "color": "#E5ECF6",
              "width": 0.5
             },
             "pattern": {
              "fillmode": "overlay",
              "size": 10,
              "solidity": 0.2
             }
            },
            "type": "barpolar"
           }
          ],
          "carpet": [
           {
            "aaxis": {
             "endlinecolor": "#2a3f5f",
             "gridcolor": "white",
             "linecolor": "white",
             "minorgridcolor": "white",
             "startlinecolor": "#2a3f5f"
            },
            "baxis": {
             "endlinecolor": "#2a3f5f",
             "gridcolor": "white",
             "linecolor": "white",
             "minorgridcolor": "white",
             "startlinecolor": "#2a3f5f"
            },
            "type": "carpet"
           }
          ],
          "choropleth": [
           {
            "colorbar": {
             "outlinewidth": 0,
             "ticks": ""
            },
            "type": "choropleth"
           }
          ],
          "contour": [
           {
            "colorbar": {
             "outlinewidth": 0,
             "ticks": ""
            },
            "colorscale": [
             [
              0,
              "#0d0887"
             ],
             [
              0.1111111111111111,
              "#46039f"
             ],
             [
              0.2222222222222222,
              "#7201a8"
             ],
             [
              0.3333333333333333,
              "#9c179e"
             ],
             [
              0.4444444444444444,
              "#bd3786"
             ],
             [
              0.5555555555555556,
              "#d8576b"
             ],
             [
              0.6666666666666666,
              "#ed7953"
             ],
             [
              0.7777777777777778,
              "#fb9f3a"
             ],
             [
              0.8888888888888888,
              "#fdca26"
             ],
             [
              1,
              "#f0f921"
             ]
            ],
            "type": "contour"
           }
          ],
          "contourcarpet": [
           {
            "colorbar": {
             "outlinewidth": 0,
             "ticks": ""
            },
            "type": "contourcarpet"
           }
          ],
          "heatmap": [
           {
            "colorbar": {
             "outlinewidth": 0,
             "ticks": ""
            },
            "colorscale": [
             [
              0,
              "#0d0887"
             ],
             [
              0.1111111111111111,
              "#46039f"
             ],
             [
              0.2222222222222222,
              "#7201a8"
             ],
             [
              0.3333333333333333,
              "#9c179e"
             ],
             [
              0.4444444444444444,
              "#bd3786"
             ],
             [
              0.5555555555555556,
              "#d8576b"
             ],
             [
              0.6666666666666666,
              "#ed7953"
             ],
             [
              0.7777777777777778,
              "#fb9f3a"
             ],
             [
              0.8888888888888888,
              "#fdca26"
             ],
             [
              1,
              "#f0f921"
             ]
            ],
            "type": "heatmap"
           }
          ],
          "heatmapgl": [
           {
            "colorbar": {
             "outlinewidth": 0,
             "ticks": ""
            },
            "colorscale": [
             [
              0,
              "#0d0887"
             ],
             [
              0.1111111111111111,
              "#46039f"
             ],
             [
              0.2222222222222222,
              "#7201a8"
             ],
             [
              0.3333333333333333,
              "#9c179e"
             ],
             [
              0.4444444444444444,
              "#bd3786"
             ],
             [
              0.5555555555555556,
              "#d8576b"
             ],
             [
              0.6666666666666666,
              "#ed7953"
             ],
             [
              0.7777777777777778,
              "#fb9f3a"
             ],
             [
              0.8888888888888888,
              "#fdca26"
             ],
             [
              1,
              "#f0f921"
             ]
            ],
            "type": "heatmapgl"
           }
          ],
          "histogram": [
           {
            "marker": {
             "pattern": {
              "fillmode": "overlay",
              "size": 10,
              "solidity": 0.2
             }
            },
            "type": "histogram"
           }
          ],
          "histogram2d": [
           {
            "colorbar": {
             "outlinewidth": 0,
             "ticks": ""
            },
            "colorscale": [
             [
              0,
              "#0d0887"
             ],
             [
              0.1111111111111111,
              "#46039f"
             ],
             [
              0.2222222222222222,
              "#7201a8"
             ],
             [
              0.3333333333333333,
              "#9c179e"
             ],
             [
              0.4444444444444444,
              "#bd3786"
             ],
             [
              0.5555555555555556,
              "#d8576b"
             ],
             [
              0.6666666666666666,
              "#ed7953"
             ],
             [
              0.7777777777777778,
              "#fb9f3a"
             ],
             [
              0.8888888888888888,
              "#fdca26"
             ],
             [
              1,
              "#f0f921"
             ]
            ],
            "type": "histogram2d"
           }
          ],
          "histogram2dcontour": [
           {
            "colorbar": {
             "outlinewidth": 0,
             "ticks": ""
            },
            "colorscale": [
             [
              0,
              "#0d0887"
             ],
             [
              0.1111111111111111,
              "#46039f"
             ],
             [
              0.2222222222222222,
              "#7201a8"
             ],
             [
              0.3333333333333333,
              "#9c179e"
             ],
             [
              0.4444444444444444,
              "#bd3786"
             ],
             [
              0.5555555555555556,
              "#d8576b"
             ],
             [
              0.6666666666666666,
              "#ed7953"
             ],
             [
              0.7777777777777778,
              "#fb9f3a"
             ],
             [
              0.8888888888888888,
              "#fdca26"
             ],
             [
              1,
              "#f0f921"
             ]
            ],
            "type": "histogram2dcontour"
           }
          ],
          "mesh3d": [
           {
            "colorbar": {
             "outlinewidth": 0,
             "ticks": ""
            },
            "type": "mesh3d"
           }
          ],
          "parcoords": [
           {
            "line": {
             "colorbar": {
              "outlinewidth": 0,
              "ticks": ""
             }
            },
            "type": "parcoords"
           }
          ],
          "pie": [
           {
            "automargin": true,
            "type": "pie"
           }
          ],
          "scatter": [
           {
            "fillpattern": {
             "fillmode": "overlay",
             "size": 10,
             "solidity": 0.2
            },
            "type": "scatter"
           }
          ],
          "scatter3d": [
           {
            "line": {
             "colorbar": {
              "outlinewidth": 0,
              "ticks": ""
             }
            },
            "marker": {
             "colorbar": {
              "outlinewidth": 0,
              "ticks": ""
             }
            },
            "type": "scatter3d"
           }
          ],
          "scattercarpet": [
           {
            "marker": {
             "colorbar": {
              "outlinewidth": 0,
              "ticks": ""
             }
            },
            "type": "scattercarpet"
           }
          ],
          "scattergeo": [
           {
            "marker": {
             "colorbar": {
              "outlinewidth": 0,
              "ticks": ""
             }
            },
            "type": "scattergeo"
           }
          ],
          "scattergl": [
           {
            "marker": {
             "colorbar": {
              "outlinewidth": 0,
              "ticks": ""
             }
            },
            "type": "scattergl"
           }
          ],
          "scattermapbox": [
           {
            "marker": {
             "colorbar": {
              "outlinewidth": 0,
              "ticks": ""
             }
            },
            "type": "scattermapbox"
           }
          ],
          "scatterpolar": [
           {
            "marker": {
             "colorbar": {
              "outlinewidth": 0,
              "ticks": ""
             }
            },
            "type": "scatterpolar"
           }
          ],
          "scatterpolargl": [
           {
            "marker": {
             "colorbar": {
              "outlinewidth": 0,
              "ticks": ""
             }
            },
            "type": "scatterpolargl"
           }
          ],
          "scatterternary": [
           {
            "marker": {
             "colorbar": {
              "outlinewidth": 0,
              "ticks": ""
             }
            },
            "type": "scatterternary"
           }
          ],
          "surface": [
           {
            "colorbar": {
             "outlinewidth": 0,
             "ticks": ""
            },
            "colorscale": [
             [
              0,
              "#0d0887"
             ],
             [
              0.1111111111111111,
              "#46039f"
             ],
             [
              0.2222222222222222,
              "#7201a8"
             ],
             [
              0.3333333333333333,
              "#9c179e"
             ],
             [
              0.4444444444444444,
              "#bd3786"
             ],
             [
              0.5555555555555556,
              "#d8576b"
             ],
             [
              0.6666666666666666,
              "#ed7953"
             ],
             [
              0.7777777777777778,
              "#fb9f3a"
             ],
             [
              0.8888888888888888,
              "#fdca26"
             ],
             [
              1,
              "#f0f921"
             ]
            ],
            "type": "surface"
           }
          ],
          "table": [
           {
            "cells": {
             "fill": {
              "color": "#EBF0F8"
             },
             "line": {
              "color": "white"
             }
            },
            "header": {
             "fill": {
              "color": "#C8D4E3"
             },
             "line": {
              "color": "white"
             }
            },
            "type": "table"
           }
          ]
         },
         "layout": {
          "annotationdefaults": {
           "arrowcolor": "#2a3f5f",
           "arrowhead": 0,
           "arrowwidth": 1
          },
          "autotypenumbers": "strict",
          "coloraxis": {
           "colorbar": {
            "outlinewidth": 0,
            "ticks": ""
           }
          },
          "colorscale": {
           "diverging": [
            [
             0,
             "#8e0152"
            ],
            [
             0.1,
             "#c51b7d"
            ],
            [
             0.2,
             "#de77ae"
            ],
            [
             0.3,
             "#f1b6da"
            ],
            [
             0.4,
             "#fde0ef"
            ],
            [
             0.5,
             "#f7f7f7"
            ],
            [
             0.6,
             "#e6f5d0"
            ],
            [
             0.7,
             "#b8e186"
            ],
            [
             0.8,
             "#7fbc41"
            ],
            [
             0.9,
             "#4d9221"
            ],
            [
             1,
             "#276419"
            ]
           ],
           "sequential": [
            [
             0,
             "#0d0887"
            ],
            [
             0.1111111111111111,
             "#46039f"
            ],
            [
             0.2222222222222222,
             "#7201a8"
            ],
            [
             0.3333333333333333,
             "#9c179e"
            ],
            [
             0.4444444444444444,
             "#bd3786"
            ],
            [
             0.5555555555555556,
             "#d8576b"
            ],
            [
             0.6666666666666666,
             "#ed7953"
            ],
            [
             0.7777777777777778,
             "#fb9f3a"
            ],
            [
             0.8888888888888888,
             "#fdca26"
            ],
            [
             1,
             "#f0f921"
            ]
           ],
           "sequentialminus": [
            [
             0,
             "#0d0887"
            ],
            [
             0.1111111111111111,
             "#46039f"
            ],
            [
             0.2222222222222222,
             "#7201a8"
            ],
            [
             0.3333333333333333,
             "#9c179e"
            ],
            [
             0.4444444444444444,
             "#bd3786"
            ],
            [
             0.5555555555555556,
             "#d8576b"
            ],
            [
             0.6666666666666666,
             "#ed7953"
            ],
            [
             0.7777777777777778,
             "#fb9f3a"
            ],
            [
             0.8888888888888888,
             "#fdca26"
            ],
            [
             1,
             "#f0f921"
            ]
           ]
          },
          "colorway": [
           "#636efa",
           "#EF553B",
           "#00cc96",
           "#ab63fa",
           "#FFA15A",
           "#19d3f3",
           "#FF6692",
           "#B6E880",
           "#FF97FF",
           "#FECB52"
          ],
          "font": {
           "color": "#2a3f5f"
          },
          "geo": {
           "bgcolor": "white",
           "lakecolor": "white",
           "landcolor": "#E5ECF6",
           "showlakes": true,
           "showland": true,
           "subunitcolor": "white"
          },
          "hoverlabel": {
           "align": "left"
          },
          "hovermode": "closest",
          "mapbox": {
           "style": "light"
          },
          "paper_bgcolor": "white",
          "plot_bgcolor": "#E5ECF6",
          "polar": {
           "angularaxis": {
            "gridcolor": "white",
            "linecolor": "white",
            "ticks": ""
           },
           "bgcolor": "#E5ECF6",
           "radialaxis": {
            "gridcolor": "white",
            "linecolor": "white",
            "ticks": ""
           }
          },
          "scene": {
           "xaxis": {
            "backgroundcolor": "#E5ECF6",
            "gridcolor": "white",
            "gridwidth": 2,
            "linecolor": "white",
            "showbackground": true,
            "ticks": "",
            "zerolinecolor": "white"
           },
           "yaxis": {
            "backgroundcolor": "#E5ECF6",
            "gridcolor": "white",
            "gridwidth": 2,
            "linecolor": "white",
            "showbackground": true,
            "ticks": "",
            "zerolinecolor": "white"
           },
           "zaxis": {
            "backgroundcolor": "#E5ECF6",
            "gridcolor": "white",
            "gridwidth": 2,
            "linecolor": "white",
            "showbackground": true,
            "ticks": "",
            "zerolinecolor": "white"
           }
          },
          "shapedefaults": {
           "line": {
            "color": "#2a3f5f"
           }
          },
          "ternary": {
           "aaxis": {
            "gridcolor": "white",
            "linecolor": "white",
            "ticks": ""
           },
           "baxis": {
            "gridcolor": "white",
            "linecolor": "white",
            "ticks": ""
           },
           "bgcolor": "#E5ECF6",
           "caxis": {
            "gridcolor": "white",
            "linecolor": "white",
            "ticks": ""
           }
          },
          "title": {
           "x": 0.05
          },
          "xaxis": {
           "automargin": true,
           "gridcolor": "white",
           "linecolor": "white",
           "ticks": "",
           "title": {
            "standoff": 15
           },
           "zerolinecolor": "white",
           "zerolinewidth": 2
          },
          "yaxis": {
           "automargin": true,
           "gridcolor": "white",
           "linecolor": "white",
           "ticks": "",
           "title": {
            "standoff": 15
           },
           "zerolinecolor": "white",
           "zerolinewidth": 2
          }
         }
        },
        "width": 1000,
        "xaxis": {
         "anchor": "y",
         "domain": [
          0,
          1
         ],
         "title": {
          "text": "pca1"
         }
        },
        "yaxis": {
         "anchor": "x",
         "domain": [
          0,
          1
         ],
         "title": {
          "text": "pca2"
         }
        }
       }
      }
     },
     "metadata": {},
     "output_type": "display_data"
    }
   ],
   "source": [
    "eval_df[\"random_value\"] = np.random.rand(len(eval_df))\n",
    "eval_df[\"label\"] = eval_df[\"label\"] #+ 1\n",
    "\n",
    "scatter = px.scatter(eval_df, x='pca1', y='pca2', \n",
    "                     color=\"label\",\n",
    "                     size=\"output_length\", \n",
    "                     symbol= \"MM_prediction\",\n",
    "                     hover_data=[\"input/output\", \"output_length\", \"switch\"],\n",
    "                     color_discrete_sequence=color_selction)\n",
    "\n",
    "scatter.update_layout(\n",
    "    # autosize=True,\n",
    "    width=1000,\n",
    "    height=700,)\n",
    "\n",
    "scatter.update_layout(coloraxis_colorbar=dict(yanchor=\"top\", y=1, x=-0.2,\n",
    "                                          ticks=\"outside\"))\n",
    "\n",
    "scatter.add_vline(x=0, line_dash=\"dash\", line_color=\"red\")\n",
    "\n",
    "scatter.show()"
   ]
  },
  {
   "cell_type": "code",
   "execution_count": null,
   "metadata": {},
   "outputs": [],
   "source": []
  },
  {
   "cell_type": "code",
   "execution_count": null,
   "metadata": {},
   "outputs": [],
   "source": []
  },
  {
   "cell_type": "code",
   "execution_count": null,
   "metadata": {},
   "outputs": [],
   "source": []
  },
  {
   "cell_type": "code",
   "execution_count": null,
   "metadata": {},
   "outputs": [],
   "source": []
  }
 ],
 "metadata": {
  "kernelspec": {
   "display_name": "base",
   "language": "python",
   "name": "python3"
  },
  "language_info": {
   "codemirror_mode": {
    "name": "ipython",
    "version": 3
   },
   "file_extension": ".py",
   "mimetype": "text/x-python",
   "name": "python",
   "nbconvert_exporter": "python",
   "pygments_lexer": "ipython3",
   "version": "3.10.14"
  }
 },
 "nbformat": 4,
 "nbformat_minor": 2
}
