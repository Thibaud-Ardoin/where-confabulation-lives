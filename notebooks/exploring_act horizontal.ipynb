{
 "cells": [
  {
   "cell_type": "code",
   "execution_count": 1,
   "metadata": {},
   "outputs": [],
   "source": [
    "import pickle\n",
    "import pandas as pd\n",
    "import matplotlib.pyplot as plt\n",
    "import plotly.express as px\n",
    "import numpy as np\n",
    "import sys\n",
    "from importlib import reload\n",
    "\n",
    "\n",
    "from sklearn.decomposition import PCA\n",
    "from sklearn.discriminant_analysis import LinearDiscriminantAnalysis as LDA\n",
    "from sklearn.linear_model import LinearRegression\n",
    "from sklearn.manifold import TSNE\n",
    "import torch as t\n",
    "from sklearn.metrics import classification_report\n",
    "\n",
    "# sys.path.append(\"~/Documents/Prog/LLMs/mri_llm\")\n",
    "sys.path.append(\"..\") # Adds higher directory to python modules path.\n",
    "\n",
    "from datas import celebrity, conspiracy, english_word, character"
   ]
  },
  {
   "cell_type": "code",
   "execution_count": 2,
   "metadata": {},
   "outputs": [],
   "source": [
    "files_root = \"../inference_data/\"\n",
    "files = [\n",
    "    # \"inference_conspiracy_character_sentence_908.pkl\",\n",
    "    # \"inference_conspiracy_711.pkl\",\n",
    "    # \"inference_character_474.pkl\",\n",
    "    # \"inference_celebrity_random_764.pkl\",\n",
    "    # \"inference_celebrity_285.pkl\",\n",
    "    # \"inference_english_word_236.pkl\",\n",
    "    # \"inference_date_884.pkl\",\n",
    "    # \"inference_election_195.pkl\",\n",
    "    # \"inference_date_election_648.pkl\",\n",
    "\n",
    "    \"inference_conspiracy_horizontal_593.pkl\",\n",
    "    \"inference_character_horizontal_945.pkl\",\n",
    "\n",
    "    # \"inference_celebrity_horizontal_604.pkl\",\n",
    "    # \"inference_english_word_horizontal_252.pkl\",\n",
    "]\n",
    "\n",
    "data_list=[]\n",
    "for f in files:\n",
    "    with open(files_root+f, \"rb\") as fp:\n",
    "        data_list.extend(pickle.load(fp))"
   ]
  },
  {
   "cell_type": "code",
   "execution_count": 3,
   "metadata": {},
   "outputs": [
    {
     "name": "stdout",
     "output_type": "stream",
     "text": [
      "149\n",
      "Always respond with a SINGLE sentence. You are given a conspiracy name, give me a short description.\n",
      "{}:\n",
      "Watergate Scandal\n",
      "The Watergate Scandal was a political scandal that erupted in 1972 when it was discovered that members of the Nixon administration were involved in the break-in and subsequent cover-up of the Democratic National Committee headquarters at the Watergate complex in Washington, D.C.\n"
     ]
    }
   ],
   "source": [
    "print(len(data_list))\n",
    "print(data_list[0].system_prompt)\n",
    "print(data_list[0].user_prompt)\n",
    "print(data_list[0].input_text)\n",
    "print(data_list[0].output_text)"
   ]
  },
  {
   "cell_type": "code",
   "execution_count": 4,
   "metadata": {},
   "outputs": [],
   "source": [
    "def type_of_input_labeling(data_elmt):\n",
    "    label = data_elmt.label\n",
    "    match data_elmt.__class__.__name__:\n",
    "        # HALLUCINATION STUFF\n",
    "        case \"celebrity\":\n",
    "            label += 0\n",
    "        case \"conspiracy\":\n",
    "            label += 2*2\n",
    "        case \"english_word\":\n",
    "            label += 2*1\n",
    "        # TIME STUFF\n",
    "        case \"date\":\n",
    "            label += 0\n",
    "        case \"election\": # Carefull this guy has 3 switches\n",
    "            label += 2*1\n",
    "        # FICTION STUFF\n",
    "        case \"character\":\n",
    "            label += 0\n",
    "        case _ :\n",
    "            raise Exception(\"Error of non recognised type of data element\")\n",
    "\n",
    "    if data_elmt.sufix and data_elmt.sufix== \"random\":\n",
    "        label = data_elmt.label + 2\n",
    "        \n",
    "    return label"
   ]
  },
  {
   "cell_type": "code",
   "execution_count": 5,
   "metadata": {},
   "outputs": [
    {
     "name": "stdout",
     "output_type": "stream",
     "text": [
      "149\n",
      "1\n",
      "4096\n",
      "[-0.01452637  0.08496094 -0.02819824 ...  0.07421875  0.12207031\n",
      " -0.02258301]\n",
      "[4 4 4 4 4 4 4 4 4 4 4 4 4 4 4 4 4 4 4 4 4 4 4 4 4 4 4 4 4 4 4 4 4 4 4 4 4\n",
      " 4 4 4 4 4 4 4 4 4 4 4 4 4 4 4 5 5 5 5 5 5 5 5 5 5 5 5 5 5 5 5 5 5 5 5 5 5\n",
      " 5 5 5 5 5 5 5 5 5 5 5 5 5 5 5 5 5 5 5 5 5 5 5 5 5 5 5 5 5 5 5 5 5 5 5 0 0\n",
      " 0 0 0 0 0 0 0 0 0 0 0 0 0 0 0 0 1 1 1 1 1 1 1 1 1 1 1 1 1 1 1 1 1 1 1 1 1\n",
      " 1]\n",
      "Counter({5: 57, 4: 52, 1: 22, 0: 18})\n"
     ]
    }
   ],
   "source": [
    "X = np.array([[data_list[i].activations[lay_nb][0].type(t.float64).cpu().numpy() for lay_nb in range(len(data_list[i].activations))] for i in range(len(data_list))])\n",
    "Y = np.array([type_of_input_labeling(data_list[i]) for i in range(len(data_list))])\n",
    "\n",
    "# torch.stack().type(torch.float64).cpu().numpy()\n",
    "print(len(X))\n",
    "print(len(X[0]))\n",
    "print(len(X[0][0]))\n",
    "print(X[0][0])\n",
    "print(Y)\n",
    "\n",
    "from collections import Counter\n",
    "print(Counter(Y))"
   ]
  },
  {
   "cell_type": "code",
   "execution_count": null,
   "metadata": {},
   "outputs": [],
   "source": []
  },
  {
   "cell_type": "code",
   "execution_count": 6,
   "metadata": {},
   "outputs": [],
   "source": [
    "color_selction = [\"#ef6c00\", \"#eeff41\", \"#009668\", \"#ce93d8\" , \"#a1e8d9\", \"#b3a77d\", \"#6a634a\", \"red\", \"green\"]\n",
    "\n",
    "def simple_label2color(label):\n",
    "    # labels are 4 choices\n",
    "    color = color_selction[label]\n",
    "    return color\n",
    "\n",
    "def bidim_label2color(label):\n",
    "    # labels are 2*2*2 choices\n",
    "    color = color_selction[label[1] + 2*label[2]]\n",
    "    # color = mcolors.CSS4_COLORS[color_selction[label[1] + 2*label[2]]]\n",
    "    return color"
   ]
  },
  {
   "cell_type": "markdown",
   "metadata": {},
   "source": [
    "## Add some labels according to other conditions\n",
    "\n",
    "- Length of output"
   ]
  },
  {
   "cell_type": "code",
   "execution_count": 7,
   "metadata": {},
   "outputs": [],
   "source": [
    "def output_length_label(data_elmt):\n",
    "    return len(data_elmt.output_text)\n",
    "    # if len(data_elmt.output_text) > 100:\n",
    "    #     return \"long_output\"\n",
    "    # else:\n",
    "    #     return \"short_output\"\n",
    "\n",
    "for i in range(len(data_list)):\n",
    "    data_list[i].output_length = output_length_label(data_list[i])\n",
    "    data_list[i].class_type = data_list[i].__class__.__name__\n"
   ]
  },
  {
   "cell_type": "code",
   "execution_count": 8,
   "metadata": {},
   "outputs": [],
   "source": [
    "def normlise_by_data_type(data_list, states):\n",
    "    type_indices = {}\n",
    "    for i in range(len(data_list)):\n",
    "        # Select according to certain parameter, for exemple class type of data\n",
    "        data_type = data_list[i].__class__.__name__\n",
    "        if data_type in type_indices:\n",
    "            type_indices[data_type].append(i)\n",
    "        else:\n",
    "            type_indices[data_type] = [i]\n",
    "    for key in type_indices:\n",
    "        indices = np.array(type_indices[key])\n",
    "        states[indices] = states[indices] - states[indices].mean(axis=0)\n",
    "\n",
    "    return states"
   ]
  },
  {
   "cell_type": "code",
   "execution_count": 9,
   "metadata": {},
   "outputs": [],
   "source": [
    "# TSNE plot stuff\n",
    "def plot_tsne(X, Y):\n",
    "    inp = np.array([x for x in X])\n",
    "    y = np.array([yy for yy in Y]) # list(range(len(data_el.activations[0])))\n",
    "\n",
    "    tsne = TSNE(n_components=2, perplexity=40, n_iter=300)\n",
    "    res = tsne.fit_transform(inp)\n",
    "\n",
    "    plt.scatter(res[:, 0], res[:, 1], c=y)\n",
    "    plt.show()"
   ]
  },
  {
   "cell_type": "code",
   "execution_count": 144,
   "metadata": {},
   "outputs": [
    {
     "name": "stdout",
     "output_type": "stream",
     "text": [
      "tensor([0., 0., 0.,  ..., 0., 0., 0.], device='cuda:0', dtype=torch.bfloat16)\n",
      "[0.         0.         0.         ... 0.10302734 0.         0.        ]\n",
      "1019\n"
     ]
    }
   ],
   "source": [
    "def tensor2array(te):\n",
    "    return te.type(t.float64).cpu().numpy()\n",
    "\n",
    "def activation_selection(data_el):\n",
    "\n",
    "    if data_el.sufix == \"horizontal\":\n",
    "        # For the only layer there is, we divide activation between prompt and generated text\n",
    "        end_of_prompt_id = data_el.input_token_length-1     # add -1 because during process of last prompt token we are alreaddy generating new content.\n",
    "        prompt_activations = data_el.activations[0][0:end_of_prompt_id]\n",
    "        generated_activations = data_el.activations[0][end_of_prompt_id:]\n",
    "\n",
    "    # test 1: Sum(gen_act) - Sum(promp_act)\n",
    "    # result = t.stack(generated_activations).sum(dim=0) - t.stack(prompt_activations).sum(dim=0)\n",
    "    # # Seems to create even more difference between datasets\n",
    "\n",
    "    # # test 2: the baseline just last line\n",
    "    # result = generated_activations[-1]\n",
    "\n",
    "    # # test 3: add generated tokens\n",
    "    # result = t.stack(generated_activations).sum(dim=0)\n",
    "\n",
    "    # test 4: add all tokens\n",
    "    # result = t.stack(prompt_activations + generated_activations).sum(dim=0)\n",
    "\n",
    "    # test 5: concatenate last 2 gen tokens\n",
    "    # result = t.cat(generated_activations[-2:])\n",
    "\n",
    "    # # test 6: ultipenultime gen tokens\n",
    "    # result = generated_activations[-2]\n",
    "\n",
    "    # # test 7: mean of each row of gen tokens\n",
    "    # result = t.stack(generated_activations).mean(dim=0)\n",
    "\n",
    "    # # test 8: mean of each row of gen tokens sub promp mean\n",
    "    # result = t.stack(generated_activations).mean(dim=0) - t.stack(prompt_activations).mean(dim=0)\n",
    "\n",
    "    # # test 9: Clipped to threshold + mean gen\n",
    "    result = t.clip(t.stack(generated_activations), min=5, max=None)\n",
    "    result[result == 5] = 0\n",
    "    print(result[0])\n",
    "    result = result.mean(dim=0)\n",
    "    # result = generated_activations[-1]\n",
    "\n",
    "    # print(result.shape)\n",
    "\n",
    "    return  tensor2array(result)\n",
    "\n",
    "\n",
    "out = activation_selection(data_list[0])\n",
    "print(out)\n",
    "print(len(np.where(out>0)[0]))"
   ]
  },
  {
   "cell_type": "code",
   "execution_count": 145,
   "metadata": {},
   "outputs": [],
   "source": [
    "def train_and_fit_flat(train_condition, mode=\"PCA\", group_norm=False):\n",
    "    X = np.array([activation_selection(data_list[i]) for i in range(len(data_list))])\n",
    "    Y = np.array([type_of_input_labeling(data_list[i]) for i in range(len(data_list))])\n",
    "\n",
    "    # Do a PCA projection for each layer\n",
    "    layer_pca = []\n",
    "    pca_training_data_indices = np.array(list(filter(train_condition, enumerate(data_list))))[:, 0]\n",
    "    print(\"Size of training data:\", len(pca_training_data_indices))\n",
    "\n",
    "    # Train on one problem\n",
    "    data_states = X\n",
    "    if group_norm:\n",
    "        data_states = normlise_by_data_type(data_list, data_states)\n",
    "    if mode==\"PCA\":\n",
    "        pca = PCA(n_components=4)\n",
    "        train_d = [data_states[i] for i in pca_training_data_indices]\n",
    "        pca.fit(train_d)\n",
    "        train_d -= np.mean(train_d, axis=0)\n",
    "        cov_matrix = np.dot(train_d.T, train_d) / len(train_d)\n",
    "        for eigenvector in pca.components_:\n",
    "            print(\"Eigenvalue: \", np.dot(eigenvector.T, np.dot(cov_matrix, eigenvector)))\n",
    "    elif mode==\"LDA\":\n",
    "        pca = LDA(n_components=1)    \n",
    "        pca.fit([data_states[i] for i in pca_training_data_indices], [Y[i] for i in pca_training_data_indices])\n",
    "    x = pca.transform(data_states)\n",
    "\n",
    "    # Every label is multiplied by the number of layers in order to have a data point for each input x layer\n",
    "    # Labels\n",
    "    input_text = np.array([data_list[i].input_text  for i in range(len(data_list))])\n",
    "    data_type = np.array([data_list[i].__class__.__name__  for i in range(len(data_list))])\n",
    "    output_length = np.array([data_list[i].output_length  for i in range(len(data_list))]) \n",
    "    swtich = np.array([data_list[i].switch_name  for i in range(len(data_list))])\n",
    "    output_text = np.array([data_list[i].output_text  for i in range(len(data_list))])\n",
    "    sufix = np.array([1 if data_list[i].sufix else 0  for i in range(len(data_list))])\n",
    "\n",
    "    if mode==\"PCA\":\n",
    "        df = pd.DataFrame(zip(x[:, 0], x[:, 1], x[:, 2], x[:, 3], input_text, Y, data_type, output_length, swtich, output_text, sufix), \n",
    "                    columns=['pca1', 'pca2', 'pca3', 'pca4', \"input/output\", \"label\", \"data_type\", \"output_length\", \"switch\", \"output_text\", \"sufix\"])\n",
    "    elif mode==\"LDA\":\n",
    "        df = pd.DataFrame(zip(x[:, 0], input_text, Y, data_type, output_length, swtich, output_text, sufix), \n",
    "                    columns=['pca1', \"input/output\", \"label\", \"data_type\", \"output_length\", \"switch\", \"output_text\", \"sufix\"])\n",
    "    return df"
   ]
  },
  {
   "cell_type": "code",
   "execution_count": 146,
   "metadata": {},
   "outputs": [],
   "source": [
    "def train_and_fit_pca(train_condition, mode=\"PCA\"):\n",
    "    X = np.array([activation_selection(data_list[i]) for i in range(len(data_list))])\n",
    "    Y = np.array([type_of_input_labeling(data_list[i]) for i in range(len(data_list))])\n",
    "\n",
    "    label_colors = [simple_label2color(y) for y in Y]\n",
    "\n",
    "    # Do a PCA projection for each layer\n",
    "    layer_pca = []\n",
    "    layer_id = []\n",
    "    pca_training_data_indices = np.array(list(filter(train_condition, enumerate(data_list))))[:, 0]\n",
    "    print(\"Size of training data:\", len(pca_training_data_indices))\n",
    "    for layer_nb in range(32):\n",
    "        # Train on one problem\n",
    "        data_states = X[:, layer_nb]\n",
    "        data_states = normlise_by_data_type(data_list, data_states)\n",
    "        if mode==\"PCA\":\n",
    "            pca = PCA(n_components=2)    \n",
    "            train_d = [data_states[i] for i in pca_training_data_indices]\n",
    "            pca.fit(train_d)\n",
    "            train_d -= np.mean(train_d, axis=0)\n",
    "            cov_matrix = np.dot(train_d.T, train_d) / len(train_d)\n",
    "            for eigenvector in pca.components_:\n",
    "                print(\"Eigenvalue: \", np.dot(eigenvector.T, np.dot(cov_matrix, eigenvector)))\n",
    "        elif mode==\"LDA\":\n",
    "            pca = LDA(n_components=1)    \n",
    "            pca.fit([data_states[i] for i in pca_training_data_indices], [Y[i] for i in pca_training_data_indices])\n",
    "        x = pca.transform(data_states)\n",
    "        layer_pca.extend(x)\n",
    "        a = np.empty(len(x))\n",
    "        a.fill(layer_nb)\n",
    "        layer_id.extend(a)\n",
    "\n",
    "    layer_pca = np.array(layer_pca)\n",
    "    layer_id = np.array(layer_id)\n",
    "\n",
    "    # Every label is multiplied by the number of layers in order to have a data point for each input x layer\n",
    "    # Labels\n",
    "    # y = np.array([data_list[i].label for i in range(len(data_list))])\n",
    "    y_layered = np.tile(Y, (32))\n",
    "\n",
    "    input_text = np.array([data_list[i].input_text  for i in range(len(data_list))])\n",
    "    inputs_layered = np.tile(input_text, 32)\n",
    "\n",
    "    data_type = np.array([data_list[i].__class__.__name__  for i in range(len(data_list))])\n",
    "    data_type_layered = np.tile(data_type, 32)\n",
    "\n",
    "    output_length = np.array([data_list[i].output_length  for i in range(len(data_list))]) \n",
    "    output_length_layered = np.tile(output_length, 32)\n",
    "\n",
    "    swtich = np.array([data_list[i].switch_name  for i in range(len(data_list))])\n",
    "    swtich_layered = np.tile(swtich, 32)\n",
    "\n",
    "    output_text = np.array([data_list[i].output_text  for i in range(len(data_list))])\n",
    "    output_text_layered = np.tile(output_text, 32)\n",
    "\n",
    "    sufix = np.array([1 if data_list[i].sufix else 0  for i in range(len(data_list))])\n",
    "    sufix_layered = np.tile(sufix, 32)\n",
    "\n",
    "    if mode==\"PCA\":\n",
    "        df = pd.DataFrame(zip(layer_pca[:, 0], layer_pca[:, 1], inputs_layered, layer_id, y_layered, data_type_layered, output_length_layered, swtich_layered, output_text_layered, sufix_layered), \n",
    "                    columns=['pca1', 'pca2', \"input/output\", \"layer_id\", \"label\", \"data_type\", \"output_length\", \"switch\", \"output_text\", \"sufix\"])\n",
    "    elif mode==\"LDA\":\n",
    "        df = pd.DataFrame(zip(layer_pca[:, 0], inputs_layered, layer_id, y_layered, data_type_layered, output_length_layered, swtich_layered, output_text_layered, sufix_layered), \n",
    "                    columns=['pca1', \"input/output\", \"layer_id\", \"label\", \"data_type\", \"output_length\", \"switch\", \"output_text\", \"sufix\"])\n",
    "\n",
    "    return df"
   ]
  },
  {
   "cell_type": "code",
   "execution_count": 156,
   "metadata": {},
   "outputs": [
    {
     "name": "stdout",
     "output_type": "stream",
     "text": [
      "tensor([0., 0., 0.,  ..., 0., 0., 0.], device='cuda:0', dtype=torch.bfloat16)\n",
      "tensor([0., 0., 0.,  ..., 0., 0., 0.], device='cuda:0', dtype=torch.bfloat16)\n",
      "tensor([0., 0., 0.,  ..., 0., 0., 0.], device='cuda:0', dtype=torch.bfloat16)\n",
      "tensor([0., 0., 0.,  ..., 0., 0., 0.], device='cuda:0', dtype=torch.bfloat16)\n",
      "tensor([0., 0., 0.,  ..., 0., 0., 0.], device='cuda:0', dtype=torch.bfloat16)\n",
      "tensor([0., 0., 0.,  ..., 0., 0., 0.], device='cuda:0', dtype=torch.bfloat16)\n",
      "tensor([0., 0., 0.,  ..., 0., 0., 0.], device='cuda:0', dtype=torch.bfloat16)\n",
      "tensor([0., 0., 0.,  ..., 0., 0., 0.], device='cuda:0', dtype=torch.bfloat16)\n",
      "tensor([0., 0., 0.,  ..., 0., 0., 0.], device='cuda:0', dtype=torch.bfloat16)\n",
      "tensor([0., 0., 0.,  ..., 0., 0., 0.], device='cuda:0', dtype=torch.bfloat16)\n",
      "tensor([0., 0., 0.,  ..., 0., 0., 0.], device='cuda:0', dtype=torch.bfloat16)\n",
      "tensor([0., 0., 0.,  ..., 0., 0., 0.], device='cuda:0', dtype=torch.bfloat16)\n",
      "tensor([0., 0., 0.,  ..., 0., 0., 0.], device='cuda:0', dtype=torch.bfloat16)\n",
      "tensor([0., 0., 0.,  ..., 0., 0., 0.], device='cuda:0', dtype=torch.bfloat16)\n",
      "tensor([0., 0., 0.,  ..., 0., 0., 0.], device='cuda:0', dtype=torch.bfloat16)\n",
      "tensor([0., 0., 0.,  ..., 0., 0., 0.], device='cuda:0', dtype=torch.bfloat16)\n",
      "tensor([0., 0., 0.,  ..., 0., 0., 0.], device='cuda:0', dtype=torch.bfloat16)\n",
      "tensor([0., 0., 0.,  ..., 0., 0., 0.], device='cuda:0', dtype=torch.bfloat16)\n",
      "tensor([0., 0., 0.,  ..., 0., 0., 0.], device='cuda:0', dtype=torch.bfloat16)\n",
      "tensor([0., 0., 0.,  ..., 0., 0., 0.], device='cuda:0', dtype=torch.bfloat16)\n",
      "tensor([0., 0., 0.,  ..., 0., 0., 0.], device='cuda:0', dtype=torch.bfloat16)\n",
      "tensor([0., 0., 0.,  ..., 0., 0., 0.], device='cuda:0', dtype=torch.bfloat16)\n",
      "tensor([0., 0., 0.,  ..., 0., 0., 0.], device='cuda:0', dtype=torch.bfloat16)\n",
      "tensor([0., 0., 0.,  ..., 0., 0., 0.], device='cuda:0', dtype=torch.bfloat16)\n",
      "tensor([0., 0., 0.,  ..., 0., 0., 0.], device='cuda:0', dtype=torch.bfloat16)\n",
      "tensor([0., 0., 0.,  ..., 0., 0., 0.], device='cuda:0', dtype=torch.bfloat16)\n",
      "tensor([0., 0., 0.,  ..., 0., 0., 0.], device='cuda:0', dtype=torch.bfloat16)\n",
      "tensor([0., 0., 0.,  ..., 0., 0., 0.], device='cuda:0', dtype=torch.bfloat16)\n",
      "tensor([0., 0., 0.,  ..., 0., 0., 0.], device='cuda:0', dtype=torch.bfloat16)\n",
      "tensor([0., 0., 0.,  ..., 0., 0., 0.], device='cuda:0', dtype=torch.bfloat16)\n",
      "tensor([0., 0., 0.,  ..., 0., 0., 0.], device='cuda:0', dtype=torch.bfloat16)\n",
      "tensor([0., 0., 0.,  ..., 0., 0., 0.], device='cuda:0', dtype=torch.bfloat16)\n",
      "tensor([0., 0., 0.,  ..., 0., 0., 0.], device='cuda:0', dtype=torch.bfloat16)\n",
      "tensor([0., 0., 0.,  ..., 0., 0., 0.], device='cuda:0', dtype=torch.bfloat16)\n",
      "tensor([0., 0., 0.,  ..., 0., 0., 0.], device='cuda:0', dtype=torch.bfloat16)\n",
      "tensor([0., 0., 0.,  ..., 0., 0., 0.], device='cuda:0', dtype=torch.bfloat16)\n",
      "tensor([0., 0., 0.,  ..., 0., 0., 0.], device='cuda:0', dtype=torch.bfloat16)\n",
      "tensor([0., 0., 0.,  ..., 0., 0., 0.], device='cuda:0', dtype=torch.bfloat16)\n",
      "tensor([0., 0., 0.,  ..., 0., 0., 0.], device='cuda:0', dtype=torch.bfloat16)\n",
      "tensor([0., 0., 0.,  ..., 0., 0., 0.], device='cuda:0', dtype=torch.bfloat16)\n",
      "tensor([0., 0., 0.,  ..., 0., 0., 0.], device='cuda:0', dtype=torch.bfloat16)\n",
      "tensor([0., 0., 0.,  ..., 0., 0., 0.], device='cuda:0', dtype=torch.bfloat16)\n",
      "tensor([0., 0., 0.,  ..., 0., 0., 0.], device='cuda:0', dtype=torch.bfloat16)\n",
      "tensor([0., 0., 0.,  ..., 0., 0., 0.], device='cuda:0', dtype=torch.bfloat16)\n",
      "tensor([0., 0., 0.,  ..., 0., 0., 0.], device='cuda:0', dtype=torch.bfloat16)\n",
      "tensor([0., 0., 0.,  ..., 0., 0., 0.], device='cuda:0', dtype=torch.bfloat16)\n",
      "tensor([0., 0., 0.,  ..., 0., 0., 0.], device='cuda:0', dtype=torch.bfloat16)\n",
      "tensor([0., 0., 0.,  ..., 0., 0., 0.], device='cuda:0', dtype=torch.bfloat16)\n",
      "tensor([0., 0., 0.,  ..., 0., 0., 0.], device='cuda:0', dtype=torch.bfloat16)\n",
      "tensor([0., 0., 0.,  ..., 0., 0., 0.], device='cuda:0', dtype=torch.bfloat16)\n",
      "tensor([0., 0., 0.,  ..., 0., 0., 0.], device='cuda:0', dtype=torch.bfloat16)\n",
      "tensor([0., 0., 0.,  ..., 0., 0., 0.], device='cuda:0', dtype=torch.bfloat16)\n",
      "tensor([0., 0., 0.,  ..., 0., 0., 0.], device='cuda:0', dtype=torch.bfloat16)\n",
      "tensor([0., 0., 0.,  ..., 0., 0., 0.], device='cuda:0', dtype=torch.bfloat16)\n",
      "tensor([0., 0., 0.,  ..., 0., 0., 0.], device='cuda:0', dtype=torch.bfloat16)\n",
      "tensor([0., 0., 0.,  ..., 0., 0., 0.], device='cuda:0', dtype=torch.bfloat16)\n",
      "tensor([0., 0., 0.,  ..., 0., 0., 0.], device='cuda:0', dtype=torch.bfloat16)\n",
      "tensor([0., 0., 0.,  ..., 0., 0., 0.], device='cuda:0', dtype=torch.bfloat16)\n",
      "tensor([0., 0., 0.,  ..., 0., 0., 0.], device='cuda:0', dtype=torch.bfloat16)\n",
      "tensor([0., 0., 0.,  ..., 0., 0., 0.], device='cuda:0', dtype=torch.bfloat16)\n",
      "tensor([0., 0., 0.,  ..., 0., 0., 0.], device='cuda:0', dtype=torch.bfloat16)\n",
      "tensor([0., 0., 0.,  ..., 0., 0., 0.], device='cuda:0', dtype=torch.bfloat16)\n",
      "tensor([0., 0., 0.,  ..., 0., 0., 0.], device='cuda:0', dtype=torch.bfloat16)\n",
      "tensor([0., 0., 0.,  ..., 0., 0., 0.], device='cuda:0', dtype=torch.bfloat16)\n",
      "tensor([0., 0., 0.,  ..., 0., 0., 0.], device='cuda:0', dtype=torch.bfloat16)\n",
      "tensor([0., 0., 0.,  ..., 0., 0., 0.], device='cuda:0', dtype=torch.bfloat16)\n",
      "tensor([0., 0., 0.,  ..., 0., 0., 0.], device='cuda:0', dtype=torch.bfloat16)\n",
      "tensor([0., 0., 0.,  ..., 0., 0., 0.], device='cuda:0', dtype=torch.bfloat16)\n",
      "tensor([0., 0., 0.,  ..., 0., 0., 0.], device='cuda:0', dtype=torch.bfloat16)\n",
      "tensor([0., 0., 0.,  ..., 0., 0., 0.], device='cuda:0', dtype=torch.bfloat16)\n",
      "tensor([0., 0., 0.,  ..., 0., 0., 0.], device='cuda:0', dtype=torch.bfloat16)\n",
      "tensor([0., 0., 0.,  ..., 0., 0., 0.], device='cuda:0', dtype=torch.bfloat16)\n",
      "tensor([0., 0., 0.,  ..., 0., 0., 0.], device='cuda:0', dtype=torch.bfloat16)\n",
      "tensor([0., 0., 0.,  ..., 0., 0., 0.], device='cuda:0', dtype=torch.bfloat16)\n",
      "tensor([0., 0., 0.,  ..., 0., 0., 0.], device='cuda:0', dtype=torch.bfloat16)\n",
      "tensor([0., 0., 0.,  ..., 0., 0., 0.], device='cuda:0', dtype=torch.bfloat16)\n",
      "tensor([0., 0., 0.,  ..., 0., 0., 0.], device='cuda:0', dtype=torch.bfloat16)\n",
      "tensor([0., 0., 0.,  ..., 0., 0., 0.], device='cuda:0', dtype=torch.bfloat16)\n",
      "tensor([0., 0., 0.,  ..., 0., 0., 0.], device='cuda:0', dtype=torch.bfloat16)\n",
      "tensor([0., 0., 0.,  ..., 0., 0., 0.], device='cuda:0', dtype=torch.bfloat16)\n",
      "tensor([0., 0., 0.,  ..., 0., 0., 0.], device='cuda:0', dtype=torch.bfloat16)\n",
      "tensor([0., 0., 0.,  ..., 0., 0., 0.], device='cuda:0', dtype=torch.bfloat16)\n",
      "tensor([0., 0., 0.,  ..., 0., 0., 0.], device='cuda:0', dtype=torch.bfloat16)\n",
      "tensor([0., 0., 0.,  ..., 0., 0., 0.], device='cuda:0', dtype=torch.bfloat16)\n",
      "tensor([0., 0., 0.,  ..., 0., 0., 0.], device='cuda:0', dtype=torch.bfloat16)\n",
      "tensor([0., 0., 0.,  ..., 0., 0., 0.], device='cuda:0', dtype=torch.bfloat16)\n",
      "tensor([0., 0., 0.,  ..., 0., 0., 0.], device='cuda:0', dtype=torch.bfloat16)\n",
      "tensor([0., 0., 0.,  ..., 0., 0., 0.], device='cuda:0', dtype=torch.bfloat16)\n",
      "tensor([0., 0., 0.,  ..., 0., 0., 0.], device='cuda:0', dtype=torch.bfloat16)\n",
      "tensor([0., 0., 0.,  ..., 0., 0., 0.], device='cuda:0', dtype=torch.bfloat16)\n",
      "tensor([0., 0., 0.,  ..., 0., 0., 0.], device='cuda:0', dtype=torch.bfloat16)\n",
      "tensor([0., 0., 0.,  ..., 0., 0., 0.], device='cuda:0', dtype=torch.bfloat16)\n",
      "tensor([0., 0., 0.,  ..., 0., 0., 0.], device='cuda:0', dtype=torch.bfloat16)\n",
      "tensor([0., 0., 0.,  ..., 0., 0., 0.], device='cuda:0', dtype=torch.bfloat16)\n",
      "tensor([0., 0., 0.,  ..., 0., 0., 0.], device='cuda:0', dtype=torch.bfloat16)\n",
      "tensor([0., 0., 0.,  ..., 0., 0., 0.], device='cuda:0', dtype=torch.bfloat16)\n",
      "tensor([0., 0., 0.,  ..., 0., 0., 0.], device='cuda:0', dtype=torch.bfloat16)\n",
      "tensor([0., 0., 0.,  ..., 0., 0., 0.], device='cuda:0', dtype=torch.bfloat16)\n",
      "tensor([0., 0., 0.,  ..., 0., 0., 0.], device='cuda:0', dtype=torch.bfloat16)\n",
      "tensor([0., 0., 0.,  ..., 0., 0., 0.], device='cuda:0', dtype=torch.bfloat16)\n",
      "tensor([0., 0., 0.,  ..., 0., 0., 0.], device='cuda:0', dtype=torch.bfloat16)\n",
      "tensor([0., 0., 0.,  ..., 0., 0., 0.], device='cuda:0', dtype=torch.bfloat16)\n",
      "tensor([0., 0., 0.,  ..., 0., 0., 0.], device='cuda:0', dtype=torch.bfloat16)\n",
      "tensor([0., 0., 0.,  ..., 0., 0., 0.], device='cuda:0', dtype=torch.bfloat16)\n",
      "tensor([0., 0., 0.,  ..., 0., 0., 0.], device='cuda:0', dtype=torch.bfloat16)\n",
      "tensor([0., 0., 0.,  ..., 0., 0., 0.], device='cuda:0', dtype=torch.bfloat16)\n",
      "tensor([0., 0., 0.,  ..., 0., 0., 0.], device='cuda:0', dtype=torch.bfloat16)\n",
      "tensor([0., 0., 0.,  ..., 0., 0., 0.], device='cuda:0', dtype=torch.bfloat16)\n",
      "tensor([0., 0., 0.,  ..., 0., 0., 0.], device='cuda:0', dtype=torch.bfloat16)\n",
      "tensor([0., 0., 0.,  ..., 0., 0., 0.], device='cuda:0', dtype=torch.bfloat16)\n",
      "tensor([0., 0., 0.,  ..., 0., 0., 0.], device='cuda:0', dtype=torch.bfloat16)\n",
      "tensor([0., 0., 0.,  ..., 0., 0., 0.], device='cuda:0', dtype=torch.bfloat16)\n",
      "tensor([0., 0., 0.,  ..., 0., 0., 0.], device='cuda:0', dtype=torch.bfloat16)\n",
      "tensor([0., 0., 0.,  ..., 0., 0., 0.], device='cuda:0', dtype=torch.bfloat16)\n",
      "tensor([0., 0., 0.,  ..., 0., 0., 0.], device='cuda:0', dtype=torch.bfloat16)\n",
      "tensor([0., 0., 0.,  ..., 0., 0., 0.], device='cuda:0', dtype=torch.bfloat16)\n",
      "tensor([0., 0., 0.,  ..., 0., 0., 0.], device='cuda:0', dtype=torch.bfloat16)\n",
      "tensor([0., 0., 0.,  ..., 0., 0., 0.], device='cuda:0', dtype=torch.bfloat16)\n",
      "tensor([0., 0., 0.,  ..., 0., 0., 0.], device='cuda:0', dtype=torch.bfloat16)\n",
      "tensor([0., 0., 0.,  ..., 0., 0., 0.], device='cuda:0', dtype=torch.bfloat16)\n",
      "tensor([0., 0., 0.,  ..., 0., 0., 0.], device='cuda:0', dtype=torch.bfloat16)\n",
      "tensor([0., 0., 0.,  ..., 0., 0., 0.], device='cuda:0', dtype=torch.bfloat16)\n",
      "tensor([0., 0., 0.,  ..., 0., 0., 0.], device='cuda:0', dtype=torch.bfloat16)\n",
      "tensor([0., 0., 0.,  ..., 0., 0., 0.], device='cuda:0', dtype=torch.bfloat16)\n",
      "tensor([0., 0., 0.,  ..., 0., 0., 0.], device='cuda:0', dtype=torch.bfloat16)\n",
      "tensor([0., 0., 0.,  ..., 0., 0., 0.], device='cuda:0', dtype=torch.bfloat16)\n",
      "tensor([0., 0., 0.,  ..., 0., 0., 0.], device='cuda:0', dtype=torch.bfloat16)\n",
      "tensor([0., 0., 0.,  ..., 0., 0., 0.], device='cuda:0', dtype=torch.bfloat16)\n",
      "tensor([0., 0., 0.,  ..., 0., 0., 0.], device='cuda:0', dtype=torch.bfloat16)\n",
      "tensor([0., 0., 0.,  ..., 0., 0., 0.], device='cuda:0', dtype=torch.bfloat16)\n",
      "tensor([0., 0., 0.,  ..., 0., 0., 0.], device='cuda:0', dtype=torch.bfloat16)\n",
      "tensor([0., 0., 0.,  ..., 0., 0., 0.], device='cuda:0', dtype=torch.bfloat16)\n",
      "tensor([0., 0., 0.,  ..., 0., 0., 0.], device='cuda:0', dtype=torch.bfloat16)\n",
      "tensor([0., 0., 0.,  ..., 0., 0., 0.], device='cuda:0', dtype=torch.bfloat16)\n",
      "tensor([0., 0., 0.,  ..., 0., 0., 0.], device='cuda:0', dtype=torch.bfloat16)\n",
      "tensor([0., 0., 0.,  ..., 0., 0., 0.], device='cuda:0', dtype=torch.bfloat16)\n",
      "tensor([0., 0., 0.,  ..., 0., 0., 0.], device='cuda:0', dtype=torch.bfloat16)\n",
      "tensor([0., 0., 0.,  ..., 0., 0., 0.], device='cuda:0', dtype=torch.bfloat16)\n",
      "tensor([0., 0., 0.,  ..., 0., 0., 0.], device='cuda:0', dtype=torch.bfloat16)\n",
      "tensor([0., 0., 0.,  ..., 0., 0., 0.], device='cuda:0', dtype=torch.bfloat16)\n",
      "tensor([0., 0., 0.,  ..., 0., 0., 0.], device='cuda:0', dtype=torch.bfloat16)\n",
      "tensor([0., 0., 0.,  ..., 0., 0., 0.], device='cuda:0', dtype=torch.bfloat16)\n",
      "tensor([0., 0., 0.,  ..., 0., 0., 0.], device='cuda:0', dtype=torch.bfloat16)\n",
      "tensor([0., 0., 0.,  ..., 0., 0., 0.], device='cuda:0', dtype=torch.bfloat16)\n",
      "tensor([0., 0., 0.,  ..., 0., 0., 0.], device='cuda:0', dtype=torch.bfloat16)\n",
      "tensor([0., 0., 0.,  ..., 0., 0., 0.], device='cuda:0', dtype=torch.bfloat16)\n",
      "tensor([0., 0., 0.,  ..., 0., 0., 0.], device='cuda:0', dtype=torch.bfloat16)\n",
      "tensor([0., 0., 0.,  ..., 0., 0., 0.], device='cuda:0', dtype=torch.bfloat16)\n",
      "tensor([0., 0., 0.,  ..., 0., 0., 0.], device='cuda:0', dtype=torch.bfloat16)\n",
      "Size of training data: 40\n",
      "Eigenvalue:  42.65940121591843\n",
      "Eigenvalue:  21.745434805321125\n",
      "Eigenvalue:  13.826115270654283\n",
      "Eigenvalue:  9.939636269367293\n"
     ]
    }
   ],
   "source": [
    "# TRAIN PCA\n",
    "\n",
    "train_condition_fun = lambda el: el[1].__class__.__name__ in [\"character\"] #and len(el[1].output_text) < 10 #and el[1].input_text in [\"Time\", \"Blorble\", \"blorple\", \"Teacher\"]\n",
    "df = train_and_fit_flat(train_condition_fun, mode=\"PCA\", group_norm=True)"
   ]
  },
  {
   "cell_type": "code",
   "execution_count": 157,
   "metadata": {},
   "outputs": [
    {
     "data": {
      "text/html": [
       "<div>\n",
       "<style scoped>\n",
       "    .dataframe tbody tr th:only-of-type {\n",
       "        vertical-align: middle;\n",
       "    }\n",
       "\n",
       "    .dataframe tbody tr th {\n",
       "        vertical-align: top;\n",
       "    }\n",
       "\n",
       "    .dataframe thead th {\n",
       "        text-align: right;\n",
       "    }\n",
       "</style>\n",
       "<table border=\"1\" class=\"dataframe\">\n",
       "  <thead>\n",
       "    <tr style=\"text-align: right;\">\n",
       "      <th></th>\n",
       "      <th>pca1</th>\n",
       "      <th>pca2</th>\n",
       "      <th>pca3</th>\n",
       "      <th>pca4</th>\n",
       "      <th>input/output</th>\n",
       "      <th>label</th>\n",
       "      <th>data_type</th>\n",
       "      <th>output_length</th>\n",
       "      <th>switch</th>\n",
       "      <th>output_text</th>\n",
       "      <th>sufix</th>\n",
       "    </tr>\n",
       "  </thead>\n",
       "  <tbody>\n",
       "  </tbody>\n",
       "</table>\n",
       "</div>"
      ],
      "text/plain": [
       "Empty DataFrame\n",
       "Columns: [pca1, pca2, pca3, pca4, input/output, label, data_type, output_length, switch, output_text, sufix]\n",
       "Index: []"
      ]
     },
     "execution_count": 157,
     "metadata": {},
     "output_type": "execute_result"
    }
   ],
   "source": [
    "df[(df[\"data_type\"] == \"english_word\") & (df[\"label\"]== 2)]"
   ]
  },
  {
   "cell_type": "code",
   "execution_count": 158,
   "metadata": {},
   "outputs": [],
   "source": [
    "# print(df[(df[\"data_type\"] == \"conspiracy\") & (df[\"output_length\"] is not None)& (df[\"label\"] == 2) & (df[\"input/output\"] == \"Watergate Scandal\") & (df[\"layer_id\"] == 16)][\"output_text\"].item())"
   ]
  },
  {
   "cell_type": "code",
   "execution_count": 159,
   "metadata": {},
   "outputs": [
    {
     "data": {
      "application/vnd.plotly.v1+json": {
       "config": {
        "plotlyServerURL": "https://plot.ly"
       },
       "data": [
        {
         "customdata": [
          [
           "Watergate Scandal",
           279,
           "real"
          ],
          [
           "The Watergate",
           168,
           "real"
          ],
          [
           "Operation Paperclip",
           223,
           "real"
          ],
          [
           "Tuskegee Syphilis Study",
           256,
           "real"
          ],
          [
           "Tuskegee Study of Untreated Syphilis in the Negro Male",
           246,
           "real"
          ],
          [
           "Tuskegee Experiment",
           261,
           "real"
          ],
          [
           "MKUltra",
           205,
           "real"
          ],
          [
           "Project MKUltra",
           212,
           "real"
          ],
          [
           "COINTELPRO",
           193,
           "real"
          ],
          [
           "The Counter Intelligence Program",
           205,
           "real"
          ],
          [
           "The COINTELPRO Assassination of Fred Hampton",
           267,
           "real"
          ],
          [
           "Assassination of Fred Hampton",
           248,
           "real"
          ],
          [
           "Iran-Contra Affair",
           214,
           "real"
          ],
          [
           "Iran–Contra scandal",
           206,
           "real"
          ],
          [
           "The Gulf of Tonkin Incident",
           233,
           "real"
          ],
          [
           "The Business Plot",
           206,
           "real"
          ],
          [
           "Operation Mockingbird",
           205,
           "real"
          ],
          [
           "Operation Gladio",
           278,
           "real"
          ],
          [
           "The Gladio Network",
           203,
           "real"
          ],
          [
           "The Manhattan Project Spies",
           234,
           "real"
          ],
          [
           "The Atomic spies",
           239,
           "real"
          ],
          [
           "The Manhattan Project Human Radiation Experiments",
           329,
           "real"
          ],
          [
           "The Manhattan Project",
           164,
           "real"
          ],
          [
           "The Iran Hostage Crisis",
           263,
           "real"
          ],
          [
           "Operation Ajax",
           208,
           "real"
          ],
          [
           "Operation Boot",
           220,
           "real"
          ],
          [
           "The 1953 Iran coup",
           298,
           "real"
          ],
          [
           "The Church Committee Revelations",
           321,
           "real"
          ],
          [
           "The Church Committee",
           278,
           "real"
          ],
          [
           "Operation Fast and Furious",
           261,
           "real"
          ],
          [
           "The ATF gunwalking scandal",
           381,
           "real"
          ],
          [
           "The letting guns walk operation",
           287,
           "real"
          ],
          [
           "The Dreyfus Affair",
           206,
           "real"
          ],
          [
           "The October Surprise",
           239,
           "real"
          ],
          [
           "The 1980 October Surprise theory",
           236,
           "real"
          ],
          [
           "The Panama Papers",
           210,
           "real"
          ],
          [
           "The Operation Northwoods",
           234,
           "real"
          ],
          [
           "The Moscow Theater Hostage Crisis",
           195,
           "real"
          ],
          [
           "The 2002 Nord-Ost siege",
           201,
           "real"
          ],
          [
           "The Lavon Affair",
           270,
           "real"
          ],
          [
           "The Operation Susannah ",
           245,
           "real"
          ],
          [
           "The Assassination of Patrice Lumumba",
           250,
           "real"
          ],
          [
           "The Reichstag Fire",
           209,
           "real"
          ],
          [
           "The Enron Scandal",
           253,
           "real"
          ],
          [
           "The Plot to Kill Pope John Paul II",
           222,
           "real"
          ],
          [
           "Attempted assassination of Pope John Paul II",
           193,
           "real"
          ],
          [
           "The Gülen Movement in Turkey",
           251,
           "real"
          ],
          [
           "The Gülen Movement",
           281,
           "real"
          ],
          [
           "The 1973 Chilean Coup",
           248,
           "real"
          ],
          [
           "The Volkswagen Emissions Scandal",
           219,
           "real"
          ],
          [
           "The Atlas Network Conspiracy",
           219,
           "real"
          ],
          [
           "The Cover-Ups of the Tabacco companies ",
           193,
           "real"
          ]
         ],
         "hovertemplate": "label=4<br>data_type=conspiracy<br>pca1=%{x}<br>pca2=%{y}<br>input/output=%{customdata[0]}<br>output_length=%{customdata[1]}<br>switch=%{customdata[2]}<extra></extra>",
         "legendgroup": "4, conspiracy",
         "marker": {
          "color": "#ef6c00",
          "symbol": "circle"
         },
         "mode": "markers",
         "name": "4, conspiracy",
         "orientation": "v",
         "showlegend": true,
         "type": "scatter",
         "x": [
          6.656330447147429,
          7.154895280367198,
          9.31169133006031,
          6.578629691135063,
          5.3401835241110565,
          5.97288901597129,
          7.029132971390196,
          9.276283406462662,
          7.808077954760391,
          8.103988594145452,
          1.602139632345624,
          3.4234077098921967,
          7.792426923206656,
          8.583762420180303,
          7.659425345007822,
          6.121924643862045,
          8.742862688196238,
          6.738587785540231,
          5.867786391242882,
          8.173867271343308,
          7.1519565821379425,
          6.174689389338829,
          13.273558619544104,
          6.852798065039192,
          8.628286037162148,
          4.890177160552397,
          7.879928156188745,
          8.902010950378369,
          9.704079166273907,
          7.390286572477161,
          7.377945350296283,
          5.139641390835399,
          4.811763947791401,
          7.050011424490007,
          6.832615162032286,
          6.857436046271114,
          7.981881526463159,
          5.890812892133764,
          4.399225119593984,
          2.6328763854712873,
          6.008254256896619,
          5.609352392678013,
          6.2290431110046205,
          8.420030332000929,
          5.845229080230214,
          5.816970324107527,
          6.888870389362417,
          6.593673653029109,
          6.487656270822889,
          7.99191640474114,
          5.926473240416814,
          5.975254548763641
         ],
         "xaxis": "x",
         "y": [
          4.4238694738446735,
          5.633483855456981,
          5.197574498962658,
          10.964609731419038,
          13.334414898724692,
          12.086894699695346,
          -2.488981042994941,
          -1.5663222022866634,
          3.89951081986304,
          2.382815708841277,
          9.519358081085695,
          8.956542733506396,
          9.25640405762102,
          8.981858824928613,
          5.78551339430936,
          5.064624891404339,
          2.2782648256173363,
          6.066289826393491,
          7.139813690967305,
          2.1961567925806826,
          0.12302242929535728,
          5.007805703380255,
          -2.011077685342018,
          6.216279338695452,
          4.780606823042296,
          3.754842878908484,
          3.6620231342224017,
          3.0023377891348964,
          2.2977364859105345,
          10.443796641573924,
          8.501044292309128,
          10.357746791331811,
          7.54844326332416,
          8.107564601071704,
          12.998806337749556,
          5.408778650651886,
          10.370668915374416,
          10.603085693387193,
          12.107286956252882,
          13.8154860834523,
          7.723104103604407,
          5.93328260878508,
          6.736496412586014,
          3.333111929622761,
          5.75553783145323,
          4.921059588630506,
          4.321174569302261,
          2.7212994364830236,
          2.460188261350615,
          7.569603637193414,
          0.7091959046720013,
          1.7960520930342694
         ],
         "yaxis": "y"
        },
        {
         "customdata": [
          [
           "The Moon Landing Hoax",
           205,
           "fake"
          ],
          [
           "The Moon Landing ",
           193,
           "fake"
          ],
          [
           "9/11 Conspiracy Theories",
           208,
           "fake"
          ],
          [
           "The Collapse of the World Trade Center ",
           208,
           "fake"
          ],
          [
           "JFK Assassination",
           300,
           "fake"
          ],
          [
           "The Illuminati and New World Order",
           299,
           "fake"
          ],
          [
           "The New World Order",
           269,
           "fake"
          ],
          [
           "The Illuminati ",
           192,
           "fake"
          ],
          [
           "Area 51 and Aliens",
           214,
           "fake"
          ],
          [
           "Area 51 and Alien Technology ",
           216,
           "fake"
          ],
          [
           "Chemtrails",
           238,
           "fake"
          ],
          [
           "The Flat Earth Theory",
           195,
           "fake"
          ],
          [
           "The Flat Earth Society ",
           170,
           "fake"
          ],
          [
           "Vaccination Conspiracies",
           218,
           "fake"
          ],
          [
           "The Vaccination Microchips ",
           198,
           "fake"
          ],
          [
           "COVID-19 Origin and Spread",
           236,
           "fake"
          ],
          [
           "COVID-19 Vaccination Microchips",
           242,
           "fake"
          ],
          [
           "The Bilderberg Group",
           235,
           "fake"
          ],
          [
           "The Bilderberg Conference",
           228,
           "fake"
          ],
          [
           "The Bilderberg Meeting",
           241,
           "fake"
          ],
          [
           "The Bilderberg Club",
           285,
           "fake"
          ],
          [
           "Paul McCartney’s Death",
           252,
           "fake"
          ],
          [
           "Paul is Dead",
           223,
           "fake"
          ],
          [
           "QAnon",
           227,
           "fake"
          ],
          [
           "Princess Diana’s Death",
           210,
           "fake"
          ],
          [
           "Denver International Airport",
           247,
           "fake"
          ],
          [
           "FEMA Camps",
           232,
           "fake"
          ],
          [
           "Big Pharma",
           229,
           "fake"
          ],
          [
           "The Big Pharma Suppresses Cures",
           235,
           "fake"
          ],
          [
           "Weather Control",
           249,
           "fake"
          ],
          [
           "HAARP",
           252,
           "fake"
          ],
          [
           "The HAARP weather control",
           271,
           "fake"
          ],
          [
           "Hollywood and Elite Pedophilia Rings",
           227,
           "fake"
          ],
          [
           "Roswell UFO Incident",
           270,
           "fake"
          ],
          [
           "The Roswell incident ",
           214,
           "fake"
          ],
          [
           "The Georgia Guidestones",
           262,
           "fake"
          ],
          [
           "The Reptilian Elite",
           251,
           "fake"
          ],
          [
           "The lizard people ",
           206,
           "fake"
          ],
          [
           "False Flag Operations",
           270,
           "fake"
          ],
          [
           "The Rothschild Family",
           208,
           "fake"
          ],
          [
           "The Pizzagate",
           246,
           "fake"
          ],
          [
           "Pizzagate",
           218,
           "fake"
          ],
          [
           "Frazzledrip",
           250,
           "fake"
          ],
          [
           "The Pearl Harbor advance-knowledge",
           253,
           "fake"
          ],
          [
           "The Phantom Time Hypothesis",
           164,
           "fake"
          ],
          [
           "The Phantom Time theory",
           233,
           "fake"
          ],
          [
           "The Great Replacement",
           260,
           "fake"
          ],
          [
           "The replacement theory",
           211,
           "fake"
          ],
          [
           "Freemasonry",
           291,
           "fake"
          ],
          [
           "The Masonic conspiracy theories",
           224,
           "fake"
          ],
          [
           "The Mandela Effect",
           231,
           "fake"
          ],
          [
           "Antarctica Secrets",
           256,
           "fake"
          ],
          [
           "The Hollow Earth",
           231,
           "fake"
          ],
          [
           "GMO Conspiracy",
           186,
           "fake"
          ],
          [
           "Subliminal Messages in Media",
           265,
           "fake"
          ],
          [
           "Dead Internet Theory",
           242,
           "fake"
          ],
          [
           "The Philadelphia Experiment",
           227,
           "fake"
          ]
         ],
         "hovertemplate": "label=5<br>data_type=conspiracy<br>pca1=%{x}<br>pca2=%{y}<br>input/output=%{customdata[0]}<br>output_length=%{customdata[1]}<br>switch=%{customdata[2]}<extra></extra>",
         "legendgroup": "5, conspiracy",
         "marker": {
          "color": "#eeff41",
          "symbol": "circle"
         },
         "mode": "markers",
         "name": "5, conspiracy",
         "orientation": "v",
         "showlegend": true,
         "type": "scatter",
         "x": [
          5.502161482044203,
          5.877599151901174,
          6.574556186784951,
          5.873467369525031,
          6.119503604990492,
          6.473983801717438,
          6.084293241521,
          7.773264221121677,
          7.1069346722489986,
          4.69179326690057,
          3.369696316168129,
          3.360802953803793,
          5.920919013647474,
          4.539414799702646,
          1.4054572104781917,
          5.669674866503714,
          1.741592824487883,
          7.475441694333898,
          6.920928213708143,
          7.377456936650821,
          6.994064568203724,
          1.4579306711160747,
          2.5919132988984583,
          5.451678659209239,
          4.52049446322205,
          2.127754153078087,
          4.5646873012798554,
          4.966411839676198,
          4.579742119155567,
          6.00631001914085,
          5.8415889478309015,
          5.909378174917176,
          1.231925256384698,
          5.267946099540973,
          5.8754015925622,
          4.890101220453041,
          1.8426678566330712,
          1.7106718729734394,
          4.724502557892387,
          7.407144781406075,
          0.02520441212169644,
          0.36176619772212204,
          -0.7992642391419348,
          8.01362381786918,
          6.3107631086636315,
          6.061263907295964,
          3.134678041040652,
          2.7889777397788196,
          4.7583633339348195,
          5.378748272570248,
          2.131226732395014,
          1.8912860726144989,
          0.8915195352203737,
          4.141316250937746,
          1.1827579806352773,
          -1.4212418325872662,
          2.4791003535019325
         ],
         "xaxis": "x",
         "y": [
          3.7926246235333316,
          3.148878848603893,
          8.47507723110995,
          6.289529175080121,
          3.6559414794840706,
          4.670297268446217,
          3.199914954562333,
          2.0886796663420952,
          2.2416170563968008,
          0.954846410495733,
          5.509596315733647,
          7.80399150489019,
          3.4513771086713296,
          5.031753536339224,
          4.067332231631039,
          6.593234213876928,
          5.541909692454334,
          0.2995999798698446,
          2.278382960124307,
          1.6988324930867431,
          2.063934203394626,
          10.521296498774813,
          8.731326780485466,
          7.726280565006157,
          8.036573597912538,
          1.3316653656098771,
          6.374002357195655,
          1.1795983243345933,
          8.44372217268511,
          -3.5766681823779614,
          -1.344571340874084,
          1.0789167967147715,
          1.830114181242498,
          0.9347534235297154,
          -2.667436485578533,
          2.7733337686829547,
          5.424101043216215,
          4.9242281064017455,
          12.427980790003804,
          -0.4174461697343209,
          11.985813570340738,
          12.301950773524522,
          2.304793256140099,
          9.943901000613225,
          8.410171653332792,
          8.088179170864843,
          12.716339810700951,
          12.29003892233445,
          1.2029293592228045,
          3.4458306896953337,
          5.014493439391669,
          0.7393383952862447,
          4.153263512710672,
          4.713672875761788,
          1.2222488859372616,
          2.3934576664896636,
          3.1753819410535513
         ],
         "yaxis": "y"
        },
        {
         "customdata": [
          [
           "Grigori Rasputin",
           172,
           "real"
          ],
          [
           "Nikola Tesla",
           175,
           "real"
          ],
          [
           "Cleopatra VII",
           189,
           "real"
          ],
          [
           "Joan of Arc",
           143,
           "real"
          ],
          [
           "Vlad the Impaler",
           156,
           "real"
          ],
          [
           "Che Guevara",
           184,
           "real"
          ],
          [
           "Harry Houdini",
           146,
           "real"
          ],
          [
           "Mata Hari",
           132,
           "real"
          ],
          [
           "Genghis Khan",
           154,
           "real"
          ],
          [
           "Amelia Earhart",
           169,
           "real"
          ],
          [
           "Albert Einstein",
           149,
           "real"
          ],
          [
           "Hatshepsut",
           193,
           "real"
          ],
          [
           "Aleister Crowley",
           182,
           "real"
          ],
          [
           "Ernest Hemingway",
           181,
           "real"
          ],
          [
           "Leonardo da Vinci",
           169,
           "real"
          ],
          [
           "Thomas Cromwell",
           155,
           "real"
          ],
          [
           "Uhtred of Bebbanburg",
           202,
           "real"
          ],
          [
           "Hendrik Doeff",
           168,
           "real"
          ]
         ],
         "hovertemplate": "label=0<br>data_type=character<br>pca1=%{x}<br>pca2=%{y}<br>input/output=%{customdata[0]}<br>output_length=%{customdata[1]}<br>switch=%{customdata[2]}<extra></extra>",
         "legendgroup": "0, character",
         "marker": {
          "color": "#009668",
          "symbol": "diamond"
         },
         "mode": "markers",
         "name": "0, character",
         "orientation": "v",
         "showlegend": true,
         "type": "scatter",
         "x": [
          4.322662868020235,
          12.185222585255524,
          6.94580912851839,
          6.08225676995229,
          -0.23305952383460607,
          9.586525892463097,
          6.350716414241646,
          3.3469424764987443,
          9.336155729219973,
          5.229951787606604,
          11.025343909573873,
          6.171291020860428,
          10.320382933173342,
          4.913168365005626,
          7.327379719750628,
          0.773536447195468,
          -4.394719933317128,
          5.19905854167744
         ],
         "xaxis": "x",
         "y": [
          5.083721439959629,
          -2.223426411696523,
          4.670988542968921,
          9.30825300181182,
          3.289001317382167,
          1.5930271707591572,
          -5.60531741661026,
          9.592961753263857,
          -1.2140924577015249,
          0.4844495203275032,
          0.46256985383689714,
          2.6697521182805923,
          -4.7587040705061145,
          -4.5588632851528015,
          -2.2883104127257368,
          -6.979334726634706,
          -0.3255801864383956,
          1.8876586696358362
         ],
         "yaxis": "y"
        },
        {
         "customdata": [
          [
           "Jack Aubrey",
           162,
           "fake"
          ],
          [
           "Ross Poldark",
           209,
           "fake"
          ],
          [
           "Claire Fraser",
           178,
           "fake"
          ],
          [
           "Lisbeth Salander",
           116,
           "fake"
          ],
          [
           "Phryne Fisher",
           162,
           "fake"
          ],
          [
           "Liesel Meminger",
           142,
           "fake"
          ],
          [
           "Jacob de Zoet",
           186,
           "fake"
          ],
          [
           "Scarlett O'Hara",
           184,
           "fake"
          ],
          [
           "Ishmael",
           135,
           "fake"
          ],
          [
           "Robert Langdon",
           141,
           "fake"
          ],
          [
           "Heathcliff",
           157,
           "fake"
          ],
          [
           "Don Quixote",
           171,
           "fake"
          ],
          [
           "Aliena",
           168,
           "fake"
          ],
          [
           "Gaius Baltar",
           171,
           "fake"
          ],
          [
           "Robert Merivel",
           132,
           "fake"
          ],
          [
           "Katherine Swynford",
           180,
           "fake"
          ],
          [
           "Jamie Fraser",
           125,
           "fake"
          ],
          [
           "Hester Prynne",
           156,
           "fake"
          ],
          [
           "Captain Woodrow F. Call",
           122,
           "fake"
          ],
          [
           "Jean Valjean",
           136,
           "fake"
          ],
          [
           "Mara of the Acoma",
           182,
           "fake"
          ],
          [
           "Heidi",
           116,
           "fake"
          ]
         ],
         "hovertemplate": "label=1<br>data_type=character<br>pca1=%{x}<br>pca2=%{y}<br>input/output=%{customdata[0]}<br>output_length=%{customdata[1]}<br>switch=%{customdata[2]}<extra></extra>",
         "legendgroup": "1, character",
         "marker": {
          "color": "#ce93d8",
          "symbol": "diamond"
         },
         "mode": "markers",
         "name": "1, character",
         "orientation": "v",
         "showlegend": true,
         "type": "scatter",
         "x": [
          2.38124708770328,
          -4.114175974115504,
          -9.756006366914013,
          -8.553133408630627,
          -4.013525559262057,
          -7.157369998147126,
          0.5237396044038733,
          -6.361033046355881,
          0.7947201670946152,
          -0.5073537421179856,
          -8.01969551134611,
          -2.4309566428165437,
          -8.299684735656184,
          -6.403007946609173,
          -4.217638492127622,
          2.8682072915049837,
          -7.334097384722056,
          -8.947080265219153,
          -6.969995481145373,
          -3.572503939215032,
          -7.492247030167715,
          -6.907033758000191
         ],
         "xaxis": "x",
         "y": [
          -6.42199348295628,
          5.798696463407511,
          5.924986506116348,
          -2.343568563097566,
          -5.171861567156711,
          3.6530692733975734,
          -3.6174028002066634,
          -0.6991876440990237,
          -2.3638398228158413,
          -5.70302039362192,
          -0.6829143842389361,
          4.948694705063497,
          0.42408858526078785,
          -1.8996514073479052,
          -5.683283568951859,
          5.697116545002586,
          -5.462027218404975,
          8.184851056779515,
          -8.491952737446795,
          1.0827730024115088,
          -1.5087607200608033,
          3.2464337522056836
         ],
         "yaxis": "y"
        }
       ],
       "layout": {
        "coloraxis": {
         "colorbar": {
          "ticks": "outside",
          "x": -0.2,
          "y": 1,
          "yanchor": "top"
         }
        },
        "height": 700,
        "legend": {
         "title": {
          "text": "label, data_type"
         },
         "tracegroupgap": 0
        },
        "margin": {
         "t": 60
        },
        "template": {
         "data": {
          "bar": [
           {
            "error_x": {
             "color": "#2a3f5f"
            },
            "error_y": {
             "color": "#2a3f5f"
            },
            "marker": {
             "line": {
              "color": "#E5ECF6",
              "width": 0.5
             },
             "pattern": {
              "fillmode": "overlay",
              "size": 10,
              "solidity": 0.2
             }
            },
            "type": "bar"
           }
          ],
          "barpolar": [
           {
            "marker": {
             "line": {
              "color": "#E5ECF6",
              "width": 0.5
             },
             "pattern": {
              "fillmode": "overlay",
              "size": 10,
              "solidity": 0.2
             }
            },
            "type": "barpolar"
           }
          ],
          "carpet": [
           {
            "aaxis": {
             "endlinecolor": "#2a3f5f",
             "gridcolor": "white",
             "linecolor": "white",
             "minorgridcolor": "white",
             "startlinecolor": "#2a3f5f"
            },
            "baxis": {
             "endlinecolor": "#2a3f5f",
             "gridcolor": "white",
             "linecolor": "white",
             "minorgridcolor": "white",
             "startlinecolor": "#2a3f5f"
            },
            "type": "carpet"
           }
          ],
          "choropleth": [
           {
            "colorbar": {
             "outlinewidth": 0,
             "ticks": ""
            },
            "type": "choropleth"
           }
          ],
          "contour": [
           {
            "colorbar": {
             "outlinewidth": 0,
             "ticks": ""
            },
            "colorscale": [
             [
              0,
              "#0d0887"
             ],
             [
              0.1111111111111111,
              "#46039f"
             ],
             [
              0.2222222222222222,
              "#7201a8"
             ],
             [
              0.3333333333333333,
              "#9c179e"
             ],
             [
              0.4444444444444444,
              "#bd3786"
             ],
             [
              0.5555555555555556,
              "#d8576b"
             ],
             [
              0.6666666666666666,
              "#ed7953"
             ],
             [
              0.7777777777777778,
              "#fb9f3a"
             ],
             [
              0.8888888888888888,
              "#fdca26"
             ],
             [
              1,
              "#f0f921"
             ]
            ],
            "type": "contour"
           }
          ],
          "contourcarpet": [
           {
            "colorbar": {
             "outlinewidth": 0,
             "ticks": ""
            },
            "type": "contourcarpet"
           }
          ],
          "heatmap": [
           {
            "colorbar": {
             "outlinewidth": 0,
             "ticks": ""
            },
            "colorscale": [
             [
              0,
              "#0d0887"
             ],
             [
              0.1111111111111111,
              "#46039f"
             ],
             [
              0.2222222222222222,
              "#7201a8"
             ],
             [
              0.3333333333333333,
              "#9c179e"
             ],
             [
              0.4444444444444444,
              "#bd3786"
             ],
             [
              0.5555555555555556,
              "#d8576b"
             ],
             [
              0.6666666666666666,
              "#ed7953"
             ],
             [
              0.7777777777777778,
              "#fb9f3a"
             ],
             [
              0.8888888888888888,
              "#fdca26"
             ],
             [
              1,
              "#f0f921"
             ]
            ],
            "type": "heatmap"
           }
          ],
          "heatmapgl": [
           {
            "colorbar": {
             "outlinewidth": 0,
             "ticks": ""
            },
            "colorscale": [
             [
              0,
              "#0d0887"
             ],
             [
              0.1111111111111111,
              "#46039f"
             ],
             [
              0.2222222222222222,
              "#7201a8"
             ],
             [
              0.3333333333333333,
              "#9c179e"
             ],
             [
              0.4444444444444444,
              "#bd3786"
             ],
             [
              0.5555555555555556,
              "#d8576b"
             ],
             [
              0.6666666666666666,
              "#ed7953"
             ],
             [
              0.7777777777777778,
              "#fb9f3a"
             ],
             [
              0.8888888888888888,
              "#fdca26"
             ],
             [
              1,
              "#f0f921"
             ]
            ],
            "type": "heatmapgl"
           }
          ],
          "histogram": [
           {
            "marker": {
             "pattern": {
              "fillmode": "overlay",
              "size": 10,
              "solidity": 0.2
             }
            },
            "type": "histogram"
           }
          ],
          "histogram2d": [
           {
            "colorbar": {
             "outlinewidth": 0,
             "ticks": ""
            },
            "colorscale": [
             [
              0,
              "#0d0887"
             ],
             [
              0.1111111111111111,
              "#46039f"
             ],
             [
              0.2222222222222222,
              "#7201a8"
             ],
             [
              0.3333333333333333,
              "#9c179e"
             ],
             [
              0.4444444444444444,
              "#bd3786"
             ],
             [
              0.5555555555555556,
              "#d8576b"
             ],
             [
              0.6666666666666666,
              "#ed7953"
             ],
             [
              0.7777777777777778,
              "#fb9f3a"
             ],
             [
              0.8888888888888888,
              "#fdca26"
             ],
             [
              1,
              "#f0f921"
             ]
            ],
            "type": "histogram2d"
           }
          ],
          "histogram2dcontour": [
           {
            "colorbar": {
             "outlinewidth": 0,
             "ticks": ""
            },
            "colorscale": [
             [
              0,
              "#0d0887"
             ],
             [
              0.1111111111111111,
              "#46039f"
             ],
             [
              0.2222222222222222,
              "#7201a8"
             ],
             [
              0.3333333333333333,
              "#9c179e"
             ],
             [
              0.4444444444444444,
              "#bd3786"
             ],
             [
              0.5555555555555556,
              "#d8576b"
             ],
             [
              0.6666666666666666,
              "#ed7953"
             ],
             [
              0.7777777777777778,
              "#fb9f3a"
             ],
             [
              0.8888888888888888,
              "#fdca26"
             ],
             [
              1,
              "#f0f921"
             ]
            ],
            "type": "histogram2dcontour"
           }
          ],
          "mesh3d": [
           {
            "colorbar": {
             "outlinewidth": 0,
             "ticks": ""
            },
            "type": "mesh3d"
           }
          ],
          "parcoords": [
           {
            "line": {
             "colorbar": {
              "outlinewidth": 0,
              "ticks": ""
             }
            },
            "type": "parcoords"
           }
          ],
          "pie": [
           {
            "automargin": true,
            "type": "pie"
           }
          ],
          "scatter": [
           {
            "fillpattern": {
             "fillmode": "overlay",
             "size": 10,
             "solidity": 0.2
            },
            "type": "scatter"
           }
          ],
          "scatter3d": [
           {
            "line": {
             "colorbar": {
              "outlinewidth": 0,
              "ticks": ""
             }
            },
            "marker": {
             "colorbar": {
              "outlinewidth": 0,
              "ticks": ""
             }
            },
            "type": "scatter3d"
           }
          ],
          "scattercarpet": [
           {
            "marker": {
             "colorbar": {
              "outlinewidth": 0,
              "ticks": ""
             }
            },
            "type": "scattercarpet"
           }
          ],
          "scattergeo": [
           {
            "marker": {
             "colorbar": {
              "outlinewidth": 0,
              "ticks": ""
             }
            },
            "type": "scattergeo"
           }
          ],
          "scattergl": [
           {
            "marker": {
             "colorbar": {
              "outlinewidth": 0,
              "ticks": ""
             }
            },
            "type": "scattergl"
           }
          ],
          "scattermapbox": [
           {
            "marker": {
             "colorbar": {
              "outlinewidth": 0,
              "ticks": ""
             }
            },
            "type": "scattermapbox"
           }
          ],
          "scatterpolar": [
           {
            "marker": {
             "colorbar": {
              "outlinewidth": 0,
              "ticks": ""
             }
            },
            "type": "scatterpolar"
           }
          ],
          "scatterpolargl": [
           {
            "marker": {
             "colorbar": {
              "outlinewidth": 0,
              "ticks": ""
             }
            },
            "type": "scatterpolargl"
           }
          ],
          "scatterternary": [
           {
            "marker": {
             "colorbar": {
              "outlinewidth": 0,
              "ticks": ""
             }
            },
            "type": "scatterternary"
           }
          ],
          "surface": [
           {
            "colorbar": {
             "outlinewidth": 0,
             "ticks": ""
            },
            "colorscale": [
             [
              0,
              "#0d0887"
             ],
             [
              0.1111111111111111,
              "#46039f"
             ],
             [
              0.2222222222222222,
              "#7201a8"
             ],
             [
              0.3333333333333333,
              "#9c179e"
             ],
             [
              0.4444444444444444,
              "#bd3786"
             ],
             [
              0.5555555555555556,
              "#d8576b"
             ],
             [
              0.6666666666666666,
              "#ed7953"
             ],
             [
              0.7777777777777778,
              "#fb9f3a"
             ],
             [
              0.8888888888888888,
              "#fdca26"
             ],
             [
              1,
              "#f0f921"
             ]
            ],
            "type": "surface"
           }
          ],
          "table": [
           {
            "cells": {
             "fill": {
              "color": "#EBF0F8"
             },
             "line": {
              "color": "white"
             }
            },
            "header": {
             "fill": {
              "color": "#C8D4E3"
             },
             "line": {
              "color": "white"
             }
            },
            "type": "table"
           }
          ]
         },
         "layout": {
          "annotationdefaults": {
           "arrowcolor": "#2a3f5f",
           "arrowhead": 0,
           "arrowwidth": 1
          },
          "autotypenumbers": "strict",
          "coloraxis": {
           "colorbar": {
            "outlinewidth": 0,
            "ticks": ""
           }
          },
          "colorscale": {
           "diverging": [
            [
             0,
             "#8e0152"
            ],
            [
             0.1,
             "#c51b7d"
            ],
            [
             0.2,
             "#de77ae"
            ],
            [
             0.3,
             "#f1b6da"
            ],
            [
             0.4,
             "#fde0ef"
            ],
            [
             0.5,
             "#f7f7f7"
            ],
            [
             0.6,
             "#e6f5d0"
            ],
            [
             0.7,
             "#b8e186"
            ],
            [
             0.8,
             "#7fbc41"
            ],
            [
             0.9,
             "#4d9221"
            ],
            [
             1,
             "#276419"
            ]
           ],
           "sequential": [
            [
             0,
             "#0d0887"
            ],
            [
             0.1111111111111111,
             "#46039f"
            ],
            [
             0.2222222222222222,
             "#7201a8"
            ],
            [
             0.3333333333333333,
             "#9c179e"
            ],
            [
             0.4444444444444444,
             "#bd3786"
            ],
            [
             0.5555555555555556,
             "#d8576b"
            ],
            [
             0.6666666666666666,
             "#ed7953"
            ],
            [
             0.7777777777777778,
             "#fb9f3a"
            ],
            [
             0.8888888888888888,
             "#fdca26"
            ],
            [
             1,
             "#f0f921"
            ]
           ],
           "sequentialminus": [
            [
             0,
             "#0d0887"
            ],
            [
             0.1111111111111111,
             "#46039f"
            ],
            [
             0.2222222222222222,
             "#7201a8"
            ],
            [
             0.3333333333333333,
             "#9c179e"
            ],
            [
             0.4444444444444444,
             "#bd3786"
            ],
            [
             0.5555555555555556,
             "#d8576b"
            ],
            [
             0.6666666666666666,
             "#ed7953"
            ],
            [
             0.7777777777777778,
             "#fb9f3a"
            ],
            [
             0.8888888888888888,
             "#fdca26"
            ],
            [
             1,
             "#f0f921"
            ]
           ]
          },
          "colorway": [
           "#636efa",
           "#EF553B",
           "#00cc96",
           "#ab63fa",
           "#FFA15A",
           "#19d3f3",
           "#FF6692",
           "#B6E880",
           "#FF97FF",
           "#FECB52"
          ],
          "font": {
           "color": "#2a3f5f"
          },
          "geo": {
           "bgcolor": "white",
           "lakecolor": "white",
           "landcolor": "#E5ECF6",
           "showlakes": true,
           "showland": true,
           "subunitcolor": "white"
          },
          "hoverlabel": {
           "align": "left"
          },
          "hovermode": "closest",
          "mapbox": {
           "style": "light"
          },
          "paper_bgcolor": "white",
          "plot_bgcolor": "#E5ECF6",
          "polar": {
           "angularaxis": {
            "gridcolor": "white",
            "linecolor": "white",
            "ticks": ""
           },
           "bgcolor": "#E5ECF6",
           "radialaxis": {
            "gridcolor": "white",
            "linecolor": "white",
            "ticks": ""
           }
          },
          "scene": {
           "xaxis": {
            "backgroundcolor": "#E5ECF6",
            "gridcolor": "white",
            "gridwidth": 2,
            "linecolor": "white",
            "showbackground": true,
            "ticks": "",
            "zerolinecolor": "white"
           },
           "yaxis": {
            "backgroundcolor": "#E5ECF6",
            "gridcolor": "white",
            "gridwidth": 2,
            "linecolor": "white",
            "showbackground": true,
            "ticks": "",
            "zerolinecolor": "white"
           },
           "zaxis": {
            "backgroundcolor": "#E5ECF6",
            "gridcolor": "white",
            "gridwidth": 2,
            "linecolor": "white",
            "showbackground": true,
            "ticks": "",
            "zerolinecolor": "white"
           }
          },
          "shapedefaults": {
           "line": {
            "color": "#2a3f5f"
           }
          },
          "ternary": {
           "aaxis": {
            "gridcolor": "white",
            "linecolor": "white",
            "ticks": ""
           },
           "baxis": {
            "gridcolor": "white",
            "linecolor": "white",
            "ticks": ""
           },
           "bgcolor": "#E5ECF6",
           "caxis": {
            "gridcolor": "white",
            "linecolor": "white",
            "ticks": ""
           }
          },
          "title": {
           "x": 0.05
          },
          "xaxis": {
           "automargin": true,
           "gridcolor": "white",
           "linecolor": "white",
           "ticks": "",
           "title": {
            "standoff": 15
           },
           "zerolinecolor": "white",
           "zerolinewidth": 2
          },
          "yaxis": {
           "automargin": true,
           "gridcolor": "white",
           "linecolor": "white",
           "ticks": "",
           "title": {
            "standoff": 15
           },
           "zerolinecolor": "white",
           "zerolinewidth": 2
          }
         }
        },
        "width": 1000,
        "xaxis": {
         "anchor": "y",
         "domain": [
          0,
          1
         ],
         "title": {
          "text": "pca1"
         }
        },
        "yaxis": {
         "anchor": "x",
         "domain": [
          0,
          1
         ],
         "title": {
          "text": "pca2"
         }
        }
       }
      }
     },
     "metadata": {},
     "output_type": "display_data"
    }
   ],
   "source": [
    "\n",
    "# df_modified = df[df[\"label\"] ]\n",
    "# df_modified = df[df[\"layer_id\"] == 16]\n",
    "# df_modified = df_modified[(df_modified[\"label\"] < 2) | (df_modified[\"label\"] > 3)]\n",
    "# df_modified = df_modified[df_modified[\"sufix\"] == 1]\n",
    "# df_modified = df_modified[df_modified[\"output_length\"] < 20]\n",
    "# print(df_modified.head()[\"label\"])\n",
    "# print(set(df_modified[data_type]))\n",
    "df_modified = df.copy()\n",
    "df_modified[\"label\"] = df_modified[\"label\"].astype(str)\n",
    "df_modified[\"random_value\"] = np.random.rand(len(df_modified))\n",
    "\n",
    "scatter = px.scatter(df_modified, x='pca1', y='pca2',\n",
    "                     color=\"label\",\n",
    "                    #  size='output_length', \n",
    "                     symbol= \"data_type\",\n",
    "                     hover_data=[\"input/output\", \"output_length\", \"switch\"],\n",
    "                     color_discrete_sequence=color_selction)\n",
    "\n",
    "scatter.update_layout(\n",
    "    # autosize=True,\n",
    "    width=1000,\n",
    "    height=700,)\n",
    "\n",
    "scatter.update_layout(coloraxis_colorbar=dict(yanchor=\"top\", y=1, x=-0.2,\n",
    "                                          ticks=\"outside\"))\n",
    "\n",
    "scatter.show()"
   ]
  },
  {
   "cell_type": "markdown",
   "metadata": {},
   "source": [
    "## Use probes for quantitative evaluation"
   ]
  },
  {
   "cell_type": "code",
   "execution_count": 160,
   "metadata": {},
   "outputs": [
    {
     "data": {
      "text/plain": [
       "<module 'probes' from '/home/thibaua25/Documents/Prog/LLMs/mri_llm/notebooks/../probes.py'>"
      ]
     },
     "execution_count": 160,
     "metadata": {},
     "output_type": "execute_result"
    }
   ],
   "source": [
    "import probes\n",
    "reload(probes)"
   ]
  },
  {
   "cell_type": "code",
   "execution_count": 161,
   "metadata": {},
   "outputs": [],
   "source": [
    "# split data\n",
    "split_condition1 = df[\"data_type\"]==\"character\"\n",
    "split_condition2 = df[\"output_length\"] < 10\n",
    "train_df = df[split_condition1]\n",
    "eval_df = df[~split_condition1]\n",
    "\n",
    "# layernb = 16\n",
    "# train_df = train_df[train_df[\"layer_id\"] == layernb]\n",
    "# eval_df = eval_df[eval_df[\"layer_id\"] == layernb]\n",
    "\n",
    "\n",
    "# format for training\n",
    "x = train_df[['pca1', 'pca2',  'pca3', 'pca4']].to_numpy()\n",
    "y = train_df['label'].to_numpy()\n",
    "y = y - np.min(y)\n",
    "\n",
    "# train probe\n",
    "p = probes.MMProbe.from_data(x, y)"
   ]
  },
  {
   "cell_type": "code",
   "execution_count": 162,
   "metadata": {},
   "outputs": [
    {
     "name": "stdout",
     "output_type": "stream",
     "text": [
      "[0 0 0 0 0 0 0 0 0 0 0 0 0 0 0 0 0 0 0 0 0 0 0 0 0 0 0 0 0 0 0 0 0 0 0 0 0\n",
      " 0 0 0 0 0 0 0 0 0 0 0 0 0 0 0 1 1 1 1 1 1 1 1 1 1 1 1 1 1 1 1 1 1 1 1 1 1\n",
      " 1 1 1 1 1 1 1 1 1 1 1 1 1 1 1 1 1 1 1 1 1 1 1 1 1 1 1 1 1 1 1 1 1 1 1]\n",
      "[0. 0. 0. 0. 0. 0. 0. 0. 0. 0. 0. 0. 0. 0. 0. 0. 0. 0. 0. 0. 0. 0. 0. 0.\n",
      " 0. 0. 0. 0. 0. 0. 0. 0. 0. 0. 0. 0. 0. 0. 0. 0. 0. 0. 0. 0. 0. 0. 0. 0.\n",
      " 0. 0. 0. 0. 0. 0. 0. 0. 0. 0. 0. 0. 0. 0. 0. 0. 0. 0. 0. 0. 0. 0. 0. 0.\n",
      " 0. 0. 0. 0. 0. 0. 0. 0. 0. 0. 0. 0. 0. 0. 0. 0. 0. 0. 0. 0. 0. 0. 1. 0.\n",
      " 0. 0. 0. 0. 0. 0. 0. 0. 0. 0. 0. 1. 0.]\n",
      "Total cases: 109\n",
      "Success cases: 54.0\n",
      "Failure cases: 55.0\n",
      "F1 score: 0.36094233024197847\n"
     ]
    },
    {
     "name": "stderr",
     "output_type": "stream",
     "text": [
      "/tmp/ipykernel_737287/644924848.py:11: SettingWithCopyWarning:\n",
      "\n",
      "\n",
      "A value is trying to be set on a copy of a slice from a DataFrame.\n",
      "Try using .loc[row_indexer,col_indexer] = value instead\n",
      "\n",
      "See the caveats in the documentation: https://pandas.pydata.org/pandas-docs/stable/user_guide/indexing.html#returning-a-view-versus-a-copy\n",
      "\n"
     ]
    }
   ],
   "source": [
    "# eval data\n",
    "x_eval = eval_df[['pca1', 'pca2',  'pca3', 'pca4']].to_numpy()\n",
    "y_eval = eval_df['label'].to_numpy()\n",
    "y_eval = y_eval - np.min(y_eval)\n",
    "\n",
    "print(y_eval)\n",
    "\n",
    "prediction = p.pred(x_eval)\n",
    "print(prediction.numpy())\n",
    "\n",
    "eval_df[\"prediction\"] = prediction.numpy()\n",
    "\n",
    "class_report = classification_report(y_eval, eval_df[\"prediction\"].to_numpy(), output_dict=True)\n",
    "print(\"Total cases:\", len(y_eval))\n",
    "print(\"Success cases:\", class_report[\"accuracy\"]*len(y_eval))\n",
    "print(\"Failure cases:\", (1 - class_report[\"accuracy\"])*len(y_eval))\n",
    "print(\"F1 score:\", class_report['macro avg']['f1-score'])"
   ]
  },
  {
   "cell_type": "code",
   "execution_count": 163,
   "metadata": {},
   "outputs": [
    {
     "name": "stdout",
     "output_type": "stream",
     "text": [
      "Total cases: 109 confident cases: 109\n",
      "Success cases: 54.0\n",
      "Failure cases: 55.0\n",
      "F1 score: 0.36094233024197847\n"
     ]
    }
   ],
   "source": [
    "loggits = p(x_eval).cpu().numpy()\n",
    "\n",
    "confidence = 0.5\n",
    "\n",
    "# print(np.abs(loggits - 0.5))\n",
    "confident_indices = np.where(np.abs(loggits - 0.5) > (0.5 - confidence/2))[0] \n",
    "# print(confident_indices)\n",
    "\n",
    "class_report = classification_report(y_eval[confident_indices], eval_df[\"prediction\"].to_numpy()[confident_indices], output_dict=True)\n",
    "print(\"Total cases:\", len(y_eval), \"confident cases:\", len(y_eval[confident_indices]))\n",
    "print(\"Success cases:\", class_report[\"accuracy\"]*len(y_eval[confident_indices]))\n",
    "print(\"Failure cases:\", (1 - class_report[\"accuracy\"])*len(y_eval[confident_indices]))\n",
    "print(\"F1 score:\", class_report['macro avg']['f1-score'])"
   ]
  },
  {
   "cell_type": "code",
   "execution_count": 164,
   "metadata": {},
   "outputs": [
    {
     "name": "stderr",
     "output_type": "stream",
     "text": [
      "/tmp/ipykernel_737287/3132793002.py:1: SettingWithCopyWarning:\n",
      "\n",
      "\n",
      "A value is trying to be set on a copy of a slice from a DataFrame.\n",
      "Try using .loc[row_indexer,col_indexer] = value instead\n",
      "\n",
      "See the caveats in the documentation: https://pandas.pydata.org/pandas-docs/stable/user_guide/indexing.html#returning-a-view-versus-a-copy\n",
      "\n",
      "/tmp/ipykernel_737287/3132793002.py:2: SettingWithCopyWarning:\n",
      "\n",
      "\n",
      "A value is trying to be set on a copy of a slice from a DataFrame.\n",
      "Try using .loc[row_indexer,col_indexer] = value instead\n",
      "\n",
      "See the caveats in the documentation: https://pandas.pydata.org/pandas-docs/stable/user_guide/indexing.html#returning-a-view-versus-a-copy\n",
      "\n"
     ]
    },
    {
     "data": {
      "application/vnd.plotly.v1+json": {
       "config": {
        "plotlyServerURL": "https://plot.ly"
       },
       "data": [
        {
         "customdata": [
          [
           "Watergate Scandal",
           279,
           "real"
          ],
          [
           "The Watergate",
           168,
           "real"
          ],
          [
           "Operation Paperclip",
           223,
           "real"
          ],
          [
           "Tuskegee Syphilis Study",
           256,
           "real"
          ],
          [
           "Tuskegee Study of Untreated Syphilis in the Negro Male",
           246,
           "real"
          ],
          [
           "Tuskegee Experiment",
           261,
           "real"
          ],
          [
           "MKUltra",
           205,
           "real"
          ],
          [
           "Project MKUltra",
           212,
           "real"
          ],
          [
           "COINTELPRO",
           193,
           "real"
          ],
          [
           "The Counter Intelligence Program",
           205,
           "real"
          ],
          [
           "The COINTELPRO Assassination of Fred Hampton",
           267,
           "real"
          ],
          [
           "Assassination of Fred Hampton",
           248,
           "real"
          ],
          [
           "Iran-Contra Affair",
           214,
           "real"
          ],
          [
           "Iran–Contra scandal",
           206,
           "real"
          ],
          [
           "The Gulf of Tonkin Incident",
           233,
           "real"
          ],
          [
           "The Business Plot",
           206,
           "real"
          ],
          [
           "Operation Mockingbird",
           205,
           "real"
          ],
          [
           "Operation Gladio",
           278,
           "real"
          ],
          [
           "The Gladio Network",
           203,
           "real"
          ],
          [
           "The Manhattan Project Spies",
           234,
           "real"
          ],
          [
           "The Atomic spies",
           239,
           "real"
          ],
          [
           "The Manhattan Project Human Radiation Experiments",
           329,
           "real"
          ],
          [
           "The Manhattan Project",
           164,
           "real"
          ],
          [
           "The Iran Hostage Crisis",
           263,
           "real"
          ],
          [
           "Operation Ajax",
           208,
           "real"
          ],
          [
           "Operation Boot",
           220,
           "real"
          ],
          [
           "The 1953 Iran coup",
           298,
           "real"
          ],
          [
           "The Church Committee Revelations",
           321,
           "real"
          ],
          [
           "The Church Committee",
           278,
           "real"
          ],
          [
           "Operation Fast and Furious",
           261,
           "real"
          ],
          [
           "The ATF gunwalking scandal",
           381,
           "real"
          ],
          [
           "The letting guns walk operation",
           287,
           "real"
          ],
          [
           "The Dreyfus Affair",
           206,
           "real"
          ],
          [
           "The October Surprise",
           239,
           "real"
          ],
          [
           "The 1980 October Surprise theory",
           236,
           "real"
          ],
          [
           "The Panama Papers",
           210,
           "real"
          ],
          [
           "The Operation Northwoods",
           234,
           "real"
          ],
          [
           "The Moscow Theater Hostage Crisis",
           195,
           "real"
          ],
          [
           "The 2002 Nord-Ost siege",
           201,
           "real"
          ],
          [
           "The Lavon Affair",
           270,
           "real"
          ],
          [
           "The Operation Susannah ",
           245,
           "real"
          ],
          [
           "The Assassination of Patrice Lumumba",
           250,
           "real"
          ],
          [
           "The Reichstag Fire",
           209,
           "real"
          ],
          [
           "The Enron Scandal",
           253,
           "real"
          ],
          [
           "The Plot to Kill Pope John Paul II",
           222,
           "real"
          ],
          [
           "Attempted assassination of Pope John Paul II",
           193,
           "real"
          ],
          [
           "The Gülen Movement in Turkey",
           251,
           "real"
          ],
          [
           "The Gülen Movement",
           281,
           "real"
          ],
          [
           "The 1973 Chilean Coup",
           248,
           "real"
          ],
          [
           "The Volkswagen Emissions Scandal",
           219,
           "real"
          ],
          [
           "The Atlas Network Conspiracy",
           219,
           "real"
          ],
          [
           "The Cover-Ups of the Tabacco companies ",
           193,
           "real"
          ],
          [
           "The Moon Landing Hoax",
           205,
           "fake"
          ],
          [
           "The Moon Landing ",
           193,
           "fake"
          ],
          [
           "9/11 Conspiracy Theories",
           208,
           "fake"
          ],
          [
           "The Collapse of the World Trade Center ",
           208,
           "fake"
          ],
          [
           "JFK Assassination",
           300,
           "fake"
          ],
          [
           "The Illuminati and New World Order",
           299,
           "fake"
          ],
          [
           "The New World Order",
           269,
           "fake"
          ],
          [
           "The Illuminati ",
           192,
           "fake"
          ],
          [
           "Area 51 and Aliens",
           214,
           "fake"
          ],
          [
           "Area 51 and Alien Technology ",
           216,
           "fake"
          ],
          [
           "Chemtrails",
           238,
           "fake"
          ],
          [
           "The Flat Earth Theory",
           195,
           "fake"
          ],
          [
           "The Flat Earth Society ",
           170,
           "fake"
          ],
          [
           "Vaccination Conspiracies",
           218,
           "fake"
          ],
          [
           "The Vaccination Microchips ",
           198,
           "fake"
          ],
          [
           "COVID-19 Origin and Spread",
           236,
           "fake"
          ],
          [
           "COVID-19 Vaccination Microchips",
           242,
           "fake"
          ],
          [
           "The Bilderberg Group",
           235,
           "fake"
          ],
          [
           "The Bilderberg Conference",
           228,
           "fake"
          ],
          [
           "The Bilderberg Meeting",
           241,
           "fake"
          ],
          [
           "The Bilderberg Club",
           285,
           "fake"
          ],
          [
           "Paul McCartney’s Death",
           252,
           "fake"
          ],
          [
           "Paul is Dead",
           223,
           "fake"
          ],
          [
           "QAnon",
           227,
           "fake"
          ],
          [
           "Princess Diana’s Death",
           210,
           "fake"
          ],
          [
           "Denver International Airport",
           247,
           "fake"
          ],
          [
           "FEMA Camps",
           232,
           "fake"
          ],
          [
           "Big Pharma",
           229,
           "fake"
          ],
          [
           "The Big Pharma Suppresses Cures",
           235,
           "fake"
          ],
          [
           "Weather Control",
           249,
           "fake"
          ],
          [
           "HAARP",
           252,
           "fake"
          ],
          [
           "The HAARP weather control",
           271,
           "fake"
          ],
          [
           "Hollywood and Elite Pedophilia Rings",
           227,
           "fake"
          ],
          [
           "Roswell UFO Incident",
           270,
           "fake"
          ],
          [
           "The Roswell incident ",
           214,
           "fake"
          ],
          [
           "The Georgia Guidestones",
           262,
           "fake"
          ],
          [
           "The Reptilian Elite",
           251,
           "fake"
          ],
          [
           "The lizard people ",
           206,
           "fake"
          ],
          [
           "False Flag Operations",
           270,
           "fake"
          ],
          [
           "The Rothschild Family",
           208,
           "fake"
          ],
          [
           "The Pizzagate",
           246,
           "fake"
          ],
          [
           "Pizzagate",
           218,
           "fake"
          ],
          [
           "The Pearl Harbor advance-knowledge",
           253,
           "fake"
          ],
          [
           "The Phantom Time Hypothesis",
           164,
           "fake"
          ],
          [
           "The Phantom Time theory",
           233,
           "fake"
          ],
          [
           "The Great Replacement",
           260,
           "fake"
          ],
          [
           "The replacement theory",
           211,
           "fake"
          ],
          [
           "Freemasonry",
           291,
           "fake"
          ],
          [
           "The Masonic conspiracy theories",
           224,
           "fake"
          ],
          [
           "The Mandela Effect",
           231,
           "fake"
          ],
          [
           "Antarctica Secrets",
           256,
           "fake"
          ],
          [
           "The Hollow Earth",
           231,
           "fake"
          ],
          [
           "GMO Conspiracy",
           186,
           "fake"
          ],
          [
           "Subliminal Messages in Media",
           265,
           "fake"
          ],
          [
           "The Philadelphia Experiment",
           227,
           "fake"
          ]
         ],
         "hovertemplate": "prediction=0.0<br>pca1=%{x}<br>pca2=%{y}<br>output_length=%{customdata[1]}<br>input/output=%{customdata[0]}<br>switch=%{customdata[2]}<br>label=%{marker.color}<extra></extra>",
         "legendgroup": "0.0",
         "marker": {
          "color": [
           4,
           4,
           4,
           4,
           4,
           4,
           4,
           4,
           4,
           4,
           4,
           4,
           4,
           4,
           4,
           4,
           4,
           4,
           4,
           4,
           4,
           4,
           4,
           4,
           4,
           4,
           4,
           4,
           4,
           4,
           4,
           4,
           4,
           4,
           4,
           4,
           4,
           4,
           4,
           4,
           4,
           4,
           4,
           4,
           4,
           4,
           4,
           4,
           4,
           4,
           4,
           4,
           5,
           5,
           5,
           5,
           5,
           5,
           5,
           5,
           5,
           5,
           5,
           5,
           5,
           5,
           5,
           5,
           5,
           5,
           5,
           5,
           5,
           5,
           5,
           5,
           5,
           5,
           5,
           5,
           5,
           5,
           5,
           5,
           5,
           5,
           5,
           5,
           5,
           5,
           5,
           5,
           5,
           5,
           5,
           5,
           5,
           5,
           5,
           5,
           5,
           5,
           5,
           5,
           5,
           5,
           5
          ],
          "coloraxis": "coloraxis",
          "size": [
           279,
           168,
           223,
           256,
           246,
           261,
           205,
           212,
           193,
           205,
           267,
           248,
           214,
           206,
           233,
           206,
           205,
           278,
           203,
           234,
           239,
           329,
           164,
           263,
           208,
           220,
           298,
           321,
           278,
           261,
           381,
           287,
           206,
           239,
           236,
           210,
           234,
           195,
           201,
           270,
           245,
           250,
           209,
           253,
           222,
           193,
           251,
           281,
           248,
           219,
           219,
           193,
           205,
           193,
           208,
           208,
           300,
           299,
           269,
           192,
           214,
           216,
           238,
           195,
           170,
           218,
           198,
           236,
           242,
           235,
           228,
           241,
           285,
           252,
           223,
           227,
           210,
           247,
           232,
           229,
           235,
           249,
           252,
           271,
           227,
           270,
           214,
           262,
           251,
           206,
           270,
           208,
           246,
           218,
           253,
           164,
           233,
           260,
           211,
           291,
           224,
           231,
           256,
           231,
           186,
           265,
           227
          ],
          "sizemode": "area",
          "sizeref": 0.9525,
          "symbol": "circle"
         },
         "mode": "markers",
         "name": "0.0",
         "orientation": "v",
         "showlegend": true,
         "type": "scatter",
         "x": [
          6.656330447147429,
          7.154895280367198,
          9.31169133006031,
          6.578629691135063,
          5.3401835241110565,
          5.97288901597129,
          7.029132971390196,
          9.276283406462662,
          7.808077954760391,
          8.103988594145452,
          1.602139632345624,
          3.4234077098921967,
          7.792426923206656,
          8.583762420180303,
          7.659425345007822,
          6.121924643862045,
          8.742862688196238,
          6.738587785540231,
          5.867786391242882,
          8.173867271343308,
          7.1519565821379425,
          6.174689389338829,
          13.273558619544104,
          6.852798065039192,
          8.628286037162148,
          4.890177160552397,
          7.879928156188745,
          8.902010950378369,
          9.704079166273907,
          7.390286572477161,
          7.377945350296283,
          5.139641390835399,
          4.811763947791401,
          7.050011424490007,
          6.832615162032286,
          6.857436046271114,
          7.981881526463159,
          5.890812892133764,
          4.399225119593984,
          2.6328763854712873,
          6.008254256896619,
          5.609352392678013,
          6.2290431110046205,
          8.420030332000929,
          5.845229080230214,
          5.816970324107527,
          6.888870389362417,
          6.593673653029109,
          6.487656270822889,
          7.99191640474114,
          5.926473240416814,
          5.975254548763641,
          5.502161482044203,
          5.877599151901174,
          6.574556186784951,
          5.873467369525031,
          6.119503604990492,
          6.473983801717438,
          6.084293241521,
          7.773264221121677,
          7.1069346722489986,
          4.69179326690057,
          3.369696316168129,
          3.360802953803793,
          5.920919013647474,
          4.539414799702646,
          1.4054572104781917,
          5.669674866503714,
          1.741592824487883,
          7.475441694333898,
          6.920928213708143,
          7.377456936650821,
          6.994064568203724,
          1.4579306711160747,
          2.5919132988984583,
          5.451678659209239,
          4.52049446322205,
          2.127754153078087,
          4.5646873012798554,
          4.966411839676198,
          4.579742119155567,
          6.00631001914085,
          5.8415889478309015,
          5.909378174917176,
          1.231925256384698,
          5.267946099540973,
          5.8754015925622,
          4.890101220453041,
          1.8426678566330712,
          1.7106718729734394,
          4.724502557892387,
          7.407144781406075,
          0.02520441212169644,
          0.36176619772212204,
          8.01362381786918,
          6.3107631086636315,
          6.061263907295964,
          3.134678041040652,
          2.7889777397788196,
          4.7583633339348195,
          5.378748272570248,
          2.131226732395014,
          1.8912860726144989,
          0.8915195352203737,
          4.141316250937746,
          1.1827579806352773,
          2.4791003535019325
         ],
         "xaxis": "x",
         "y": [
          4.4238694738446735,
          5.633483855456981,
          5.197574498962658,
          10.964609731419038,
          13.334414898724692,
          12.086894699695346,
          -2.488981042994941,
          -1.5663222022866634,
          3.89951081986304,
          2.382815708841277,
          9.519358081085695,
          8.956542733506396,
          9.25640405762102,
          8.981858824928613,
          5.78551339430936,
          5.064624891404339,
          2.2782648256173363,
          6.066289826393491,
          7.139813690967305,
          2.1961567925806826,
          0.12302242929535728,
          5.007805703380255,
          -2.011077685342018,
          6.216279338695452,
          4.780606823042296,
          3.754842878908484,
          3.6620231342224017,
          3.0023377891348964,
          2.2977364859105345,
          10.443796641573924,
          8.501044292309128,
          10.357746791331811,
          7.54844326332416,
          8.107564601071704,
          12.998806337749556,
          5.408778650651886,
          10.370668915374416,
          10.603085693387193,
          12.107286956252882,
          13.8154860834523,
          7.723104103604407,
          5.93328260878508,
          6.736496412586014,
          3.333111929622761,
          5.75553783145323,
          4.921059588630506,
          4.321174569302261,
          2.7212994364830236,
          2.460188261350615,
          7.569603637193414,
          0.7091959046720013,
          1.7960520930342694,
          3.7926246235333316,
          3.148878848603893,
          8.47507723110995,
          6.289529175080121,
          3.6559414794840706,
          4.670297268446217,
          3.199914954562333,
          2.0886796663420952,
          2.2416170563968008,
          0.954846410495733,
          5.509596315733647,
          7.80399150489019,
          3.4513771086713296,
          5.031753536339224,
          4.067332231631039,
          6.593234213876928,
          5.541909692454334,
          0.2995999798698446,
          2.278382960124307,
          1.6988324930867431,
          2.063934203394626,
          10.521296498774813,
          8.731326780485466,
          7.726280565006157,
          8.036573597912538,
          1.3316653656098771,
          6.374002357195655,
          1.1795983243345933,
          8.44372217268511,
          -3.5766681823779614,
          -1.344571340874084,
          1.0789167967147715,
          1.830114181242498,
          0.9347534235297154,
          -2.667436485578533,
          2.7733337686829547,
          5.424101043216215,
          4.9242281064017455,
          12.427980790003804,
          -0.4174461697343209,
          11.985813570340738,
          12.301950773524522,
          9.943901000613225,
          8.410171653332792,
          8.088179170864843,
          12.716339810700951,
          12.29003892233445,
          1.2029293592228045,
          3.4458306896953337,
          5.014493439391669,
          0.7393383952862447,
          4.153263512710672,
          4.713672875761788,
          1.2222488859372616,
          3.1753819410535513
         ],
         "yaxis": "y"
        },
        {
         "customdata": [
          [
           "Frazzledrip",
           250,
           "fake"
          ],
          [
           "Dead Internet Theory",
           242,
           "fake"
          ]
         ],
         "hovertemplate": "prediction=1.0<br>pca1=%{x}<br>pca2=%{y}<br>output_length=%{customdata[1]}<br>input/output=%{customdata[0]}<br>switch=%{customdata[2]}<br>label=%{marker.color}<extra></extra>",
         "legendgroup": "1.0",
         "marker": {
          "color": [
           5,
           5
          ],
          "coloraxis": "coloraxis",
          "size": [
           250,
           242
          ],
          "sizemode": "area",
          "sizeref": 0.9525,
          "symbol": "diamond"
         },
         "mode": "markers",
         "name": "1.0",
         "orientation": "v",
         "showlegend": true,
         "type": "scatter",
         "x": [
          -0.7992642391419348,
          -1.4212418325872662
         ],
         "xaxis": "x",
         "y": [
          2.304793256140099,
          2.3934576664896636
         ],
         "yaxis": "y"
        }
       ],
       "layout": {
        "coloraxis": {
         "colorbar": {
          "ticks": "outside",
          "title": {
           "text": "label"
          },
          "x": -0.2,
          "y": 1,
          "yanchor": "top"
         },
         "colorscale": [
          [
           0,
           "#0d0887"
          ],
          [
           0.1111111111111111,
           "#46039f"
          ],
          [
           0.2222222222222222,
           "#7201a8"
          ],
          [
           0.3333333333333333,
           "#9c179e"
          ],
          [
           0.4444444444444444,
           "#bd3786"
          ],
          [
           0.5555555555555556,
           "#d8576b"
          ],
          [
           0.6666666666666666,
           "#ed7953"
          ],
          [
           0.7777777777777778,
           "#fb9f3a"
          ],
          [
           0.8888888888888888,
           "#fdca26"
          ],
          [
           1,
           "#f0f921"
          ]
         ]
        },
        "height": 700,
        "legend": {
         "itemsizing": "constant",
         "title": {
          "text": "prediction"
         },
         "tracegroupgap": 0
        },
        "margin": {
         "t": 60
        },
        "shapes": [
         {
          "line": {
           "color": "red",
           "dash": "dash"
          },
          "type": "line",
          "x0": 0,
          "x1": 0,
          "xref": "x",
          "y0": 0,
          "y1": 1,
          "yref": "y domain"
         }
        ],
        "template": {
         "data": {
          "bar": [
           {
            "error_x": {
             "color": "#2a3f5f"
            },
            "error_y": {
             "color": "#2a3f5f"
            },
            "marker": {
             "line": {
              "color": "#E5ECF6",
              "width": 0.5
             },
             "pattern": {
              "fillmode": "overlay",
              "size": 10,
              "solidity": 0.2
             }
            },
            "type": "bar"
           }
          ],
          "barpolar": [
           {
            "marker": {
             "line": {
              "color": "#E5ECF6",
              "width": 0.5
             },
             "pattern": {
              "fillmode": "overlay",
              "size": 10,
              "solidity": 0.2
             }
            },
            "type": "barpolar"
           }
          ],
          "carpet": [
           {
            "aaxis": {
             "endlinecolor": "#2a3f5f",
             "gridcolor": "white",
             "linecolor": "white",
             "minorgridcolor": "white",
             "startlinecolor": "#2a3f5f"
            },
            "baxis": {
             "endlinecolor": "#2a3f5f",
             "gridcolor": "white",
             "linecolor": "white",
             "minorgridcolor": "white",
             "startlinecolor": "#2a3f5f"
            },
            "type": "carpet"
           }
          ],
          "choropleth": [
           {
            "colorbar": {
             "outlinewidth": 0,
             "ticks": ""
            },
            "type": "choropleth"
           }
          ],
          "contour": [
           {
            "colorbar": {
             "outlinewidth": 0,
             "ticks": ""
            },
            "colorscale": [
             [
              0,
              "#0d0887"
             ],
             [
              0.1111111111111111,
              "#46039f"
             ],
             [
              0.2222222222222222,
              "#7201a8"
             ],
             [
              0.3333333333333333,
              "#9c179e"
             ],
             [
              0.4444444444444444,
              "#bd3786"
             ],
             [
              0.5555555555555556,
              "#d8576b"
             ],
             [
              0.6666666666666666,
              "#ed7953"
             ],
             [
              0.7777777777777778,
              "#fb9f3a"
             ],
             [
              0.8888888888888888,
              "#fdca26"
             ],
             [
              1,
              "#f0f921"
             ]
            ],
            "type": "contour"
           }
          ],
          "contourcarpet": [
           {
            "colorbar": {
             "outlinewidth": 0,
             "ticks": ""
            },
            "type": "contourcarpet"
           }
          ],
          "heatmap": [
           {
            "colorbar": {
             "outlinewidth": 0,
             "ticks": ""
            },
            "colorscale": [
             [
              0,
              "#0d0887"
             ],
             [
              0.1111111111111111,
              "#46039f"
             ],
             [
              0.2222222222222222,
              "#7201a8"
             ],
             [
              0.3333333333333333,
              "#9c179e"
             ],
             [
              0.4444444444444444,
              "#bd3786"
             ],
             [
              0.5555555555555556,
              "#d8576b"
             ],
             [
              0.6666666666666666,
              "#ed7953"
             ],
             [
              0.7777777777777778,
              "#fb9f3a"
             ],
             [
              0.8888888888888888,
              "#fdca26"
             ],
             [
              1,
              "#f0f921"
             ]
            ],
            "type": "heatmap"
           }
          ],
          "heatmapgl": [
           {
            "colorbar": {
             "outlinewidth": 0,
             "ticks": ""
            },
            "colorscale": [
             [
              0,
              "#0d0887"
             ],
             [
              0.1111111111111111,
              "#46039f"
             ],
             [
              0.2222222222222222,
              "#7201a8"
             ],
             [
              0.3333333333333333,
              "#9c179e"
             ],
             [
              0.4444444444444444,
              "#bd3786"
             ],
             [
              0.5555555555555556,
              "#d8576b"
             ],
             [
              0.6666666666666666,
              "#ed7953"
             ],
             [
              0.7777777777777778,
              "#fb9f3a"
             ],
             [
              0.8888888888888888,
              "#fdca26"
             ],
             [
              1,
              "#f0f921"
             ]
            ],
            "type": "heatmapgl"
           }
          ],
          "histogram": [
           {
            "marker": {
             "pattern": {
              "fillmode": "overlay",
              "size": 10,
              "solidity": 0.2
             }
            },
            "type": "histogram"
           }
          ],
          "histogram2d": [
           {
            "colorbar": {
             "outlinewidth": 0,
             "ticks": ""
            },
            "colorscale": [
             [
              0,
              "#0d0887"
             ],
             [
              0.1111111111111111,
              "#46039f"
             ],
             [
              0.2222222222222222,
              "#7201a8"
             ],
             [
              0.3333333333333333,
              "#9c179e"
             ],
             [
              0.4444444444444444,
              "#bd3786"
             ],
             [
              0.5555555555555556,
              "#d8576b"
             ],
             [
              0.6666666666666666,
              "#ed7953"
             ],
             [
              0.7777777777777778,
              "#fb9f3a"
             ],
             [
              0.8888888888888888,
              "#fdca26"
             ],
             [
              1,
              "#f0f921"
             ]
            ],
            "type": "histogram2d"
           }
          ],
          "histogram2dcontour": [
           {
            "colorbar": {
             "outlinewidth": 0,
             "ticks": ""
            },
            "colorscale": [
             [
              0,
              "#0d0887"
             ],
             [
              0.1111111111111111,
              "#46039f"
             ],
             [
              0.2222222222222222,
              "#7201a8"
             ],
             [
              0.3333333333333333,
              "#9c179e"
             ],
             [
              0.4444444444444444,
              "#bd3786"
             ],
             [
              0.5555555555555556,
              "#d8576b"
             ],
             [
              0.6666666666666666,
              "#ed7953"
             ],
             [
              0.7777777777777778,
              "#fb9f3a"
             ],
             [
              0.8888888888888888,
              "#fdca26"
             ],
             [
              1,
              "#f0f921"
             ]
            ],
            "type": "histogram2dcontour"
           }
          ],
          "mesh3d": [
           {
            "colorbar": {
             "outlinewidth": 0,
             "ticks": ""
            },
            "type": "mesh3d"
           }
          ],
          "parcoords": [
           {
            "line": {
             "colorbar": {
              "outlinewidth": 0,
              "ticks": ""
             }
            },
            "type": "parcoords"
           }
          ],
          "pie": [
           {
            "automargin": true,
            "type": "pie"
           }
          ],
          "scatter": [
           {
            "fillpattern": {
             "fillmode": "overlay",
             "size": 10,
             "solidity": 0.2
            },
            "type": "scatter"
           }
          ],
          "scatter3d": [
           {
            "line": {
             "colorbar": {
              "outlinewidth": 0,
              "ticks": ""
             }
            },
            "marker": {
             "colorbar": {
              "outlinewidth": 0,
              "ticks": ""
             }
            },
            "type": "scatter3d"
           }
          ],
          "scattercarpet": [
           {
            "marker": {
             "colorbar": {
              "outlinewidth": 0,
              "ticks": ""
             }
            },
            "type": "scattercarpet"
           }
          ],
          "scattergeo": [
           {
            "marker": {
             "colorbar": {
              "outlinewidth": 0,
              "ticks": ""
             }
            },
            "type": "scattergeo"
           }
          ],
          "scattergl": [
           {
            "marker": {
             "colorbar": {
              "outlinewidth": 0,
              "ticks": ""
             }
            },
            "type": "scattergl"
           }
          ],
          "scattermapbox": [
           {
            "marker": {
             "colorbar": {
              "outlinewidth": 0,
              "ticks": ""
             }
            },
            "type": "scattermapbox"
           }
          ],
          "scatterpolar": [
           {
            "marker": {
             "colorbar": {
              "outlinewidth": 0,
              "ticks": ""
             }
            },
            "type": "scatterpolar"
           }
          ],
          "scatterpolargl": [
           {
            "marker": {
             "colorbar": {
              "outlinewidth": 0,
              "ticks": ""
             }
            },
            "type": "scatterpolargl"
           }
          ],
          "scatterternary": [
           {
            "marker": {
             "colorbar": {
              "outlinewidth": 0,
              "ticks": ""
             }
            },
            "type": "scatterternary"
           }
          ],
          "surface": [
           {
            "colorbar": {
             "outlinewidth": 0,
             "ticks": ""
            },
            "colorscale": [
             [
              0,
              "#0d0887"
             ],
             [
              0.1111111111111111,
              "#46039f"
             ],
             [
              0.2222222222222222,
              "#7201a8"
             ],
             [
              0.3333333333333333,
              "#9c179e"
             ],
             [
              0.4444444444444444,
              "#bd3786"
             ],
             [
              0.5555555555555556,
              "#d8576b"
             ],
             [
              0.6666666666666666,
              "#ed7953"
             ],
             [
              0.7777777777777778,
              "#fb9f3a"
             ],
             [
              0.8888888888888888,
              "#fdca26"
             ],
             [
              1,
              "#f0f921"
             ]
            ],
            "type": "surface"
           }
          ],
          "table": [
           {
            "cells": {
             "fill": {
              "color": "#EBF0F8"
             },
             "line": {
              "color": "white"
             }
            },
            "header": {
             "fill": {
              "color": "#C8D4E3"
             },
             "line": {
              "color": "white"
             }
            },
            "type": "table"
           }
          ]
         },
         "layout": {
          "annotationdefaults": {
           "arrowcolor": "#2a3f5f",
           "arrowhead": 0,
           "arrowwidth": 1
          },
          "autotypenumbers": "strict",
          "coloraxis": {
           "colorbar": {
            "outlinewidth": 0,
            "ticks": ""
           }
          },
          "colorscale": {
           "diverging": [
            [
             0,
             "#8e0152"
            ],
            [
             0.1,
             "#c51b7d"
            ],
            [
             0.2,
             "#de77ae"
            ],
            [
             0.3,
             "#f1b6da"
            ],
            [
             0.4,
             "#fde0ef"
            ],
            [
             0.5,
             "#f7f7f7"
            ],
            [
             0.6,
             "#e6f5d0"
            ],
            [
             0.7,
             "#b8e186"
            ],
            [
             0.8,
             "#7fbc41"
            ],
            [
             0.9,
             "#4d9221"
            ],
            [
             1,
             "#276419"
            ]
           ],
           "sequential": [
            [
             0,
             "#0d0887"
            ],
            [
             0.1111111111111111,
             "#46039f"
            ],
            [
             0.2222222222222222,
             "#7201a8"
            ],
            [
             0.3333333333333333,
             "#9c179e"
            ],
            [
             0.4444444444444444,
             "#bd3786"
            ],
            [
             0.5555555555555556,
             "#d8576b"
            ],
            [
             0.6666666666666666,
             "#ed7953"
            ],
            [
             0.7777777777777778,
             "#fb9f3a"
            ],
            [
             0.8888888888888888,
             "#fdca26"
            ],
            [
             1,
             "#f0f921"
            ]
           ],
           "sequentialminus": [
            [
             0,
             "#0d0887"
            ],
            [
             0.1111111111111111,
             "#46039f"
            ],
            [
             0.2222222222222222,
             "#7201a8"
            ],
            [
             0.3333333333333333,
             "#9c179e"
            ],
            [
             0.4444444444444444,
             "#bd3786"
            ],
            [
             0.5555555555555556,
             "#d8576b"
            ],
            [
             0.6666666666666666,
             "#ed7953"
            ],
            [
             0.7777777777777778,
             "#fb9f3a"
            ],
            [
             0.8888888888888888,
             "#fdca26"
            ],
            [
             1,
             "#f0f921"
            ]
           ]
          },
          "colorway": [
           "#636efa",
           "#EF553B",
           "#00cc96",
           "#ab63fa",
           "#FFA15A",
           "#19d3f3",
           "#FF6692",
           "#B6E880",
           "#FF97FF",
           "#FECB52"
          ],
          "font": {
           "color": "#2a3f5f"
          },
          "geo": {
           "bgcolor": "white",
           "lakecolor": "white",
           "landcolor": "#E5ECF6",
           "showlakes": true,
           "showland": true,
           "subunitcolor": "white"
          },
          "hoverlabel": {
           "align": "left"
          },
          "hovermode": "closest",
          "mapbox": {
           "style": "light"
          },
          "paper_bgcolor": "white",
          "plot_bgcolor": "#E5ECF6",
          "polar": {
           "angularaxis": {
            "gridcolor": "white",
            "linecolor": "white",
            "ticks": ""
           },
           "bgcolor": "#E5ECF6",
           "radialaxis": {
            "gridcolor": "white",
            "linecolor": "white",
            "ticks": ""
           }
          },
          "scene": {
           "xaxis": {
            "backgroundcolor": "#E5ECF6",
            "gridcolor": "white",
            "gridwidth": 2,
            "linecolor": "white",
            "showbackground": true,
            "ticks": "",
            "zerolinecolor": "white"
           },
           "yaxis": {
            "backgroundcolor": "#E5ECF6",
            "gridcolor": "white",
            "gridwidth": 2,
            "linecolor": "white",
            "showbackground": true,
            "ticks": "",
            "zerolinecolor": "white"
           },
           "zaxis": {
            "backgroundcolor": "#E5ECF6",
            "gridcolor": "white",
            "gridwidth": 2,
            "linecolor": "white",
            "showbackground": true,
            "ticks": "",
            "zerolinecolor": "white"
           }
          },
          "shapedefaults": {
           "line": {
            "color": "#2a3f5f"
           }
          },
          "ternary": {
           "aaxis": {
            "gridcolor": "white",
            "linecolor": "white",
            "ticks": ""
           },
           "baxis": {
            "gridcolor": "white",
            "linecolor": "white",
            "ticks": ""
           },
           "bgcolor": "#E5ECF6",
           "caxis": {
            "gridcolor": "white",
            "linecolor": "white",
            "ticks": ""
           }
          },
          "title": {
           "x": 0.05
          },
          "xaxis": {
           "automargin": true,
           "gridcolor": "white",
           "linecolor": "white",
           "ticks": "",
           "title": {
            "standoff": 15
           },
           "zerolinecolor": "white",
           "zerolinewidth": 2
          },
          "yaxis": {
           "automargin": true,
           "gridcolor": "white",
           "linecolor": "white",
           "ticks": "",
           "title": {
            "standoff": 15
           },
           "zerolinecolor": "white",
           "zerolinewidth": 2
          }
         }
        },
        "width": 1000,
        "xaxis": {
         "anchor": "y",
         "domain": [
          0,
          1
         ],
         "title": {
          "text": "pca1"
         }
        },
        "yaxis": {
         "anchor": "x",
         "domain": [
          0,
          1
         ],
         "title": {
          "text": "pca2"
         }
        }
       }
      }
     },
     "metadata": {},
     "output_type": "display_data"
    }
   ],
   "source": [
    "eval_df[\"random_value\"] = np.random.rand(len(eval_df))\n",
    "eval_df[\"label\"] = eval_df[\"label\"] #+ 1\n",
    "\n",
    "scatter = px.scatter(eval_df, x='pca1', y='pca2', \n",
    "                     color=\"label\",\n",
    "                     size=\"output_length\", \n",
    "                     symbol= \"prediction\",\n",
    "                     hover_data=[\"input/output\", \"output_length\", \"switch\"],\n",
    "                     color_discrete_sequence=color_selction)\n",
    "\n",
    "scatter.update_layout(\n",
    "    # autosize=True,\n",
    "    width=1000,\n",
    "    height=700,)\n",
    "\n",
    "scatter.update_layout(coloraxis_colorbar=dict(yanchor=\"top\", y=1, x=-0.2,\n",
    "                                          ticks=\"outside\"))\n",
    "\n",
    "scatter.add_vline(x=0, line_dash=\"dash\", line_color=\"red\")\n",
    "\n",
    "scatter.show()"
   ]
  },
  {
   "cell_type": "code",
   "execution_count": null,
   "metadata": {},
   "outputs": [],
   "source": []
  },
  {
   "cell_type": "code",
   "execution_count": null,
   "metadata": {},
   "outputs": [],
   "source": []
  },
  {
   "cell_type": "code",
   "execution_count": null,
   "metadata": {},
   "outputs": [],
   "source": []
  },
  {
   "cell_type": "code",
   "execution_count": null,
   "metadata": {},
   "outputs": [],
   "source": []
  }
 ],
 "metadata": {
  "kernelspec": {
   "display_name": "base",
   "language": "python",
   "name": "python3"
  },
  "language_info": {
   "codemirror_mode": {
    "name": "ipython",
    "version": 3
   },
   "file_extension": ".py",
   "mimetype": "text/x-python",
   "name": "python",
   "nbconvert_exporter": "python",
   "pygments_lexer": "ipython3",
   "version": "3.10.14"
  }
 },
 "nbformat": 4,
 "nbformat_minor": 2
}
