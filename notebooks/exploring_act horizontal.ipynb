{
 "cells": [
  {
   "cell_type": "code",
   "execution_count": 1,
   "metadata": {},
   "outputs": [],
   "source": [
    "import pickle\n",
    "import pandas as pd\n",
    "import matplotlib.pyplot as plt\n",
    "import plotly.express as px\n",
    "import numpy as np\n",
    "import sys\n",
    "from importlib import reload\n",
    "\n",
    "\n",
    "from sklearn.decomposition import PCA\n",
    "from sklearn.discriminant_analysis import LinearDiscriminantAnalysis as LDA\n",
    "from sklearn.linear_model import LinearRegression\n",
    "from sklearn.manifold import TSNE\n",
    "import torch as t\n",
    "from sklearn.metrics import classification_report\n",
    "\n",
    "# sys.path.append(\"~/Documents/Prog/LLMs/mri_llm\")\n",
    "sys.path.append(\"..\") # Adds higher directory to python modules path.\n",
    "\n",
    "from datas import celebrity, conspiracy, english_word, character"
   ]
  },
  {
   "cell_type": "code",
   "execution_count": 2,
   "metadata": {},
   "outputs": [],
   "source": [
    "files_root = \"../inference_data/\"\n",
    "files = [\n",
    "    # \"inference_conspiracy_character_sentence_908.pkl\",\n",
    "    # \"inference_conspiracy_711.pkl\",\n",
    "    # \"inference_character_474.pkl\",\n",
    "    # \"inference_celebrity_random_764.pkl\",\n",
    "    # \"inference_celebrity_285.pkl\",\n",
    "    # \"inference_english_word_236.pkl\",\n",
    "    # \"inference_date_884.pkl\",\n",
    "    # \"inference_election_195.pkl\",\n",
    "    # \"inference_date_election_648.pkl\",\n",
    "\n",
    "    \"inference_conspiracy_horizontal_593.pkl\",\n",
    "    \"inference_character_horizontal_945.pkl\",\n",
    "\n",
    "    # \"inference_celebrity_horizontal_604.pkl\",\n",
    "    # \"inference_english_word_horizontal_252.pkl\",\n",
    "]\n",
    "\n",
    "data_list=[]\n",
    "for f in files:\n",
    "    with open(files_root+f, \"rb\") as fp:\n",
    "        data_list.extend(pickle.load(fp))"
   ]
  },
  {
   "cell_type": "code",
   "execution_count": 3,
   "metadata": {},
   "outputs": [
    {
     "name": "stdout",
     "output_type": "stream",
     "text": [
      "149\n",
      "Always respond with a SINGLE sentence. You are given a conspiracy name, give me a short description.\n",
      "{}:\n",
      "Watergate Scandal\n",
      "The Watergate Scandal was a political scandal that erupted in 1972 when it was discovered that members of the Nixon administration were involved in the break-in and subsequent cover-up of the Democratic National Committee headquarters at the Watergate complex in Washington, D.C.\n"
     ]
    }
   ],
   "source": [
    "print(len(data_list))\n",
    "print(data_list[0].system_prompt)\n",
    "print(data_list[0].user_prompt)\n",
    "print(data_list[0].input_text)\n",
    "print(data_list[0].output_text)"
   ]
  },
  {
   "cell_type": "code",
   "execution_count": 4,
   "metadata": {},
   "outputs": [],
   "source": [
    "def type_of_input_labeling(data_elmt):\n",
    "    label = data_elmt.label\n",
    "    match data_elmt.__class__.__name__:\n",
    "        # HALLUCINATION STUFF\n",
    "        case \"celebrity\":\n",
    "            label += 0\n",
    "        case \"conspiracy\":\n",
    "            label += 2*2\n",
    "        case \"english_word\":\n",
    "            label += 2*1\n",
    "        # TIME STUFF\n",
    "        case \"date\":\n",
    "            label += 0\n",
    "        case \"election\": # Carefull this guy has 3 switches\n",
    "            label += 2*1\n",
    "        # FICTION STUFF\n",
    "        case \"character\":\n",
    "            label += 0\n",
    "        case _ :\n",
    "            raise Exception(\"Error of non recognised type of data element\")\n",
    "\n",
    "    if data_elmt.sufix and data_elmt.sufix== \"random\":\n",
    "        label = data_elmt.label + 2\n",
    "        \n",
    "    return label"
   ]
  },
  {
   "cell_type": "code",
   "execution_count": 5,
   "metadata": {},
   "outputs": [
    {
     "name": "stdout",
     "output_type": "stream",
     "text": [
      "149\n",
      "1\n",
      "4096\n",
      "[-0.01452637  0.08496094 -0.02819824 ...  0.07421875  0.12207031\n",
      " -0.02258301]\n",
      "[4 4 4 4 4 4 4 4 4 4 4 4 4 4 4 4 4 4 4 4 4 4 4 4 4 4 4 4 4 4 4 4 4 4 4 4 4\n",
      " 4 4 4 4 4 4 4 4 4 4 4 4 4 4 4 5 5 5 5 5 5 5 5 5 5 5 5 5 5 5 5 5 5 5 5 5 5\n",
      " 5 5 5 5 5 5 5 5 5 5 5 5 5 5 5 5 5 5 5 5 5 5 5 5 5 5 5 5 5 5 5 5 5 5 5 0 0\n",
      " 0 0 0 0 0 0 0 0 0 0 0 0 0 0 0 0 1 1 1 1 1 1 1 1 1 1 1 1 1 1 1 1 1 1 1 1 1\n",
      " 1]\n",
      "Counter({5: 57, 4: 52, 1: 22, 0: 18})\n"
     ]
    }
   ],
   "source": [
    "X = np.array([[data_list[i].activations[lay_nb][0].type(t.float64).cpu().numpy() for lay_nb in range(len(data_list[i].activations))] for i in range(len(data_list))])\n",
    "Y = np.array([type_of_input_labeling(data_list[i]) for i in range(len(data_list))])\n",
    "\n",
    "# torch.stack().type(torch.float64).cpu().numpy()\n",
    "print(len(X))\n",
    "print(len(X[0]))\n",
    "print(len(X[0][0]))\n",
    "print(X[0][0])\n",
    "print(Y)\n",
    "\n",
    "from collections import Counter\n",
    "print(Counter(Y))"
   ]
  },
  {
   "cell_type": "code",
   "execution_count": null,
   "metadata": {},
   "outputs": [],
   "source": []
  },
  {
   "cell_type": "code",
   "execution_count": 6,
   "metadata": {},
   "outputs": [],
   "source": [
    "color_selction = [\"#ef6c00\", \"#eeff41\", \"#009668\", \"#ce93d8\" , \"#a1e8d9\", \"#b3a77d\", \"#6a634a\", \"red\", \"green\"]\n",
    "\n",
    "def simple_label2color(label):\n",
    "    # labels are 4 choices\n",
    "    color = color_selction[label]\n",
    "    return color\n",
    "\n",
    "def bidim_label2color(label):\n",
    "    # labels are 2*2*2 choices\n",
    "    color = color_selction[label[1] + 2*label[2]]\n",
    "    # color = mcolors.CSS4_COLORS[color_selction[label[1] + 2*label[2]]]\n",
    "    return color"
   ]
  },
  {
   "cell_type": "markdown",
   "metadata": {},
   "source": [
    "## Add some labels according to other conditions\n",
    "\n",
    "- Length of output"
   ]
  },
  {
   "cell_type": "code",
   "execution_count": 7,
   "metadata": {},
   "outputs": [],
   "source": [
    "def output_length_label(data_elmt):\n",
    "    return len(data_elmt.output_text)\n",
    "    # if len(data_elmt.output_text) > 100:\n",
    "    #     return \"long_output\"\n",
    "    # else:\n",
    "    #     return \"short_output\"\n",
    "\n",
    "for i in range(len(data_list)):\n",
    "    data_list[i].output_length = output_length_label(data_list[i])\n",
    "    data_list[i].class_type = data_list[i].__class__.__name__\n"
   ]
  },
  {
   "cell_type": "code",
   "execution_count": 8,
   "metadata": {},
   "outputs": [],
   "source": [
    "def normlise_by_data_type(data_list, states):\n",
    "    type_indices = {}\n",
    "    for i in range(len(data_list)):\n",
    "        # Select according to certain parameter, for exemple class type of data\n",
    "        data_type = data_list[i].__class__.__name__\n",
    "        if data_type in type_indices:\n",
    "            type_indices[data_type].append(i)\n",
    "        else:\n",
    "            type_indices[data_type] = [i]\n",
    "    for key in type_indices:\n",
    "        indices = np.array(type_indices[key])\n",
    "        states[indices] = states[indices] - states[indices].mean(axis=0)\n",
    "\n",
    "    return states"
   ]
  },
  {
   "cell_type": "code",
   "execution_count": 9,
   "metadata": {},
   "outputs": [],
   "source": [
    "# TSNE plot stuff\n",
    "def plot_tsne(X, Y):\n",
    "    inp = np.array([x for x in X])\n",
    "    y = np.array([yy for yy in Y]) # list(range(len(data_el.activations[0])))\n",
    "\n",
    "    tsne = TSNE(n_components=2, perplexity=40, n_iter=300)\n",
    "    res = tsne.fit_transform(inp)\n",
    "\n",
    "    plt.scatter(res[:, 0], res[:, 1], c=y)\n",
    "    plt.show()"
   ]
  },
  {
   "cell_type": "code",
   "execution_count": 127,
   "metadata": {},
   "outputs": [],
   "source": [
    "def tensor2array(te):\n",
    "    return te.type(t.float64).cpu().numpy()\n",
    "\n",
    "def activation_selection(data_el):\n",
    "\n",
    "    if data_el.sufix == \"horizontal\":\n",
    "        # For the only layer there is, we divide activation between prompt and generated text\n",
    "        end_of_prompt_id = data_el.input_token_length-1     # add -1 because during process of last prompt token we are alreaddy generating new content.\n",
    "        prompt_activations = data_el.activations[0][0:end_of_prompt_id]\n",
    "        generated_activations = data_el.activations[0][end_of_prompt_id:]\n",
    "\n",
    "    # test 1: Sum(gen_act) - Sum(promp_act)\n",
    "    # result = t.stack(generated_activations).sum(dim=0) - t.stack(prompt_activations).sum(dim=0)\n",
    "    # # Seems to create even more difference between datasets\n",
    "\n",
    "    # # test 2: the baseline just last line\n",
    "    # result = generated_activations[-1]\n",
    "\n",
    "    # # test 3: add generated tokens\n",
    "    # result = t.stack(generated_activations).sum(dim=0)\n",
    "\n",
    "    # test 4: add all tokens\n",
    "    # result = t.stack(prompt_activations + generated_activations).sum(dim=0)\n",
    "\n",
    "    # test 5: concatenate last 2 gen tokens\n",
    "    # result = t.cat(generated_activations[-2:])\n",
    "\n",
    "    # # test 6: ultipenultime gen tokens\n",
    "    # result = generated_activations[-2]\n",
    "\n",
    "    # # test 7: mean of each row of gen tokens\n",
    "    result = t.stack(generated_activations).mean(dim=0)\n",
    "\n",
    "    # # test 8: mean of each row of gen tokens sub promp mean\n",
    "    # result = t.stack(generated_activations).mean(dim=0) - t.stack(prompt_activations).mean(dim=0)\n",
    "\n",
    "    # # test 9: mean of each row of gen tokens sub promp sum\n",
    "    # result = generated_activations[-1]\n",
    "\n",
    "    # print(result.shape)\n",
    "\n",
    "    return  tensor2array(result)\n",
    "\n",
    "\n",
    "out = activation_selection(data_list[0])"
   ]
  },
  {
   "cell_type": "code",
   "execution_count": 139,
   "metadata": {},
   "outputs": [],
   "source": [
    "def train_and_fit_flat(train_condition, mode=\"PCA\", group_norm=False):\n",
    "    X = np.array([activation_selection(data_list[i]) for i in range(len(data_list))])\n",
    "    Y = np.array([type_of_input_labeling(data_list[i]) for i in range(len(data_list))])\n",
    "\n",
    "    # Do a PCA projection for each layer\n",
    "    layer_pca = []\n",
    "    pca_training_data_indices = np.array(list(filter(train_condition, enumerate(data_list))))[:, 0]\n",
    "    print(\"Size of training data:\", len(pca_training_data_indices))\n",
    "\n",
    "    # Train on one problem\n",
    "    data_states = X\n",
    "    if group_norm:\n",
    "        data_states = normlise_by_data_type(data_list, data_states)\n",
    "    if mode==\"PCA\":\n",
    "        pca = PCA(n_components=4)\n",
    "        train_d = [data_states[i] for i in pca_training_data_indices]\n",
    "        pca.fit(train_d)\n",
    "        train_d -= np.mean(train_d, axis=0)\n",
    "        cov_matrix = np.dot(train_d.T, train_d) / len(train_d)\n",
    "        for eigenvector in pca.components_:\n",
    "            print(\"Eigenvalue: \", np.dot(eigenvector.T, np.dot(cov_matrix, eigenvector)))\n",
    "    elif mode==\"LDA\":\n",
    "        pca = LDA(n_components=1)    \n",
    "        pca.fit([data_states[i] for i in pca_training_data_indices], [Y[i] for i in pca_training_data_indices])\n",
    "    x = pca.transform(data_states)\n",
    "\n",
    "    # Every label is multiplied by the number of layers in order to have a data point for each input x layer\n",
    "    # Labels\n",
    "    input_text = np.array([data_list[i].input_text  for i in range(len(data_list))])\n",
    "    data_type = np.array([data_list[i].__class__.__name__  for i in range(len(data_list))])\n",
    "    output_length = np.array([data_list[i].output_length  for i in range(len(data_list))]) \n",
    "    swtich = np.array([data_list[i].switch_name  for i in range(len(data_list))])\n",
    "    output_text = np.array([data_list[i].output_text  for i in range(len(data_list))])\n",
    "    sufix = np.array([1 if data_list[i].sufix else 0  for i in range(len(data_list))])\n",
    "\n",
    "    if mode==\"PCA\":\n",
    "        df = pd.DataFrame(zip(x[:, 0], x[:, 1], x[:, 2], x[:, 3], input_text, Y, data_type, output_length, swtich, output_text, sufix), \n",
    "                    columns=['pca1', 'pca2', 'pca3', 'pca4', \"input/output\", \"label\", \"data_type\", \"output_length\", \"switch\", \"output_text\", \"sufix\"])\n",
    "    elif mode==\"LDA\":\n",
    "        df = pd.DataFrame(zip(x[:, 0], input_text, Y, data_type, output_length, swtich, output_text, sufix), \n",
    "                    columns=['pca1', \"input/output\", \"label\", \"data_type\", \"output_length\", \"switch\", \"output_text\", \"sufix\"])\n",
    "    return df"
   ]
  },
  {
   "cell_type": "code",
   "execution_count": 140,
   "metadata": {},
   "outputs": [],
   "source": [
    "def train_and_fit_pca(train_condition, mode=\"PCA\"):\n",
    "    X = np.array([activation_selection(data_list[i]) for i in range(len(data_list))])\n",
    "    Y = np.array([type_of_input_labeling(data_list[i]) for i in range(len(data_list))])\n",
    "\n",
    "    label_colors = [simple_label2color(y) for y in Y]\n",
    "\n",
    "    # Do a PCA projection for each layer\n",
    "    layer_pca = []\n",
    "    layer_id = []\n",
    "    pca_training_data_indices = np.array(list(filter(train_condition, enumerate(data_list))))[:, 0]\n",
    "    print(\"Size of training data:\", len(pca_training_data_indices))\n",
    "    for layer_nb in range(32):\n",
    "        # Train on one problem\n",
    "        data_states = X[:, layer_nb]\n",
    "        data_states = normlise_by_data_type(data_list, data_states)\n",
    "        if mode==\"PCA\":\n",
    "            pca = PCA(n_components=2)    \n",
    "            train_d = [data_states[i] for i in pca_training_data_indices]\n",
    "            pca.fit(train_d)\n",
    "            train_d -= np.mean(train_d, axis=0)\n",
    "            cov_matrix = np.dot(train_d.T, train_d) / len(train_d)\n",
    "            for eigenvector in pca.components_:\n",
    "                print(\"Eigenvalue: \", np.dot(eigenvector.T, np.dot(cov_matrix, eigenvector)))\n",
    "        elif mode==\"LDA\":\n",
    "            pca = LDA(n_components=1)    \n",
    "            pca.fit([data_states[i] for i in pca_training_data_indices], [Y[i] for i in pca_training_data_indices])\n",
    "        x = pca.transform(data_states)\n",
    "        layer_pca.extend(x)\n",
    "        a = np.empty(len(x))\n",
    "        a.fill(layer_nb)\n",
    "        layer_id.extend(a)\n",
    "\n",
    "    layer_pca = np.array(layer_pca)\n",
    "    layer_id = np.array(layer_id)\n",
    "\n",
    "    # Every label is multiplied by the number of layers in order to have a data point for each input x layer\n",
    "    # Labels\n",
    "    # y = np.array([data_list[i].label for i in range(len(data_list))])\n",
    "    y_layered = np.tile(Y, (32))\n",
    "\n",
    "    input_text = np.array([data_list[i].input_text  for i in range(len(data_list))])\n",
    "    inputs_layered = np.tile(input_text, 32)\n",
    "\n",
    "    data_type = np.array([data_list[i].__class__.__name__  for i in range(len(data_list))])\n",
    "    data_type_layered = np.tile(data_type, 32)\n",
    "\n",
    "    output_length = np.array([data_list[i].output_length  for i in range(len(data_list))]) \n",
    "    output_length_layered = np.tile(output_length, 32)\n",
    "\n",
    "    swtich = np.array([data_list[i].switch_name  for i in range(len(data_list))])\n",
    "    swtich_layered = np.tile(swtich, 32)\n",
    "\n",
    "    output_text = np.array([data_list[i].output_text  for i in range(len(data_list))])\n",
    "    output_text_layered = np.tile(output_text, 32)\n",
    "\n",
    "    sufix = np.array([1 if data_list[i].sufix else 0  for i in range(len(data_list))])\n",
    "    sufix_layered = np.tile(sufix, 32)\n",
    "\n",
    "    if mode==\"PCA\":\n",
    "        df = pd.DataFrame(zip(layer_pca[:, 0], layer_pca[:, 1], inputs_layered, layer_id, y_layered, data_type_layered, output_length_layered, swtich_layered, output_text_layered, sufix_layered), \n",
    "                    columns=['pca1', 'pca2', \"input/output\", \"layer_id\", \"label\", \"data_type\", \"output_length\", \"switch\", \"output_text\", \"sufix\"])\n",
    "    elif mode==\"LDA\":\n",
    "        df = pd.DataFrame(zip(layer_pca[:, 0], inputs_layered, layer_id, y_layered, data_type_layered, output_length_layered, swtich_layered, output_text_layered, sufix_layered), \n",
    "                    columns=['pca1', \"input/output\", \"layer_id\", \"label\", \"data_type\", \"output_length\", \"switch\", \"output_text\", \"sufix\"])\n",
    "\n",
    "    return df"
   ]
  },
  {
   "cell_type": "code",
   "execution_count": 144,
   "metadata": {},
   "outputs": [
    {
     "name": "stdout",
     "output_type": "stream",
     "text": [
      "Size of training data: 40\n",
      "Eigenvalue:  501.7473400480164\n",
      "Eigenvalue:  230.80286507003302\n",
      "Eigenvalue:  176.43319749885663\n",
      "Eigenvalue:  164.08254811072754\n"
     ]
    }
   ],
   "source": [
    "# TRAIN PCA\n",
    "\n",
    "train_condition_fun = lambda el: el[1].__class__.__name__ in [\"character\"] #and len(el[1].output_text) < 10 #and el[1].input_text in [\"Time\", \"Blorble\", \"blorple\", \"Teacher\"]\n",
    "df = train_and_fit_flat(train_condition_fun, mode=\"PCA\", group_norm=True)"
   ]
  },
  {
   "cell_type": "code",
   "execution_count": 145,
   "metadata": {},
   "outputs": [
    {
     "data": {
      "text/html": [
       "<div>\n",
       "<style scoped>\n",
       "    .dataframe tbody tr th:only-of-type {\n",
       "        vertical-align: middle;\n",
       "    }\n",
       "\n",
       "    .dataframe tbody tr th {\n",
       "        vertical-align: top;\n",
       "    }\n",
       "\n",
       "    .dataframe thead th {\n",
       "        text-align: right;\n",
       "    }\n",
       "</style>\n",
       "<table border=\"1\" class=\"dataframe\">\n",
       "  <thead>\n",
       "    <tr style=\"text-align: right;\">\n",
       "      <th></th>\n",
       "      <th>pca1</th>\n",
       "      <th>pca2</th>\n",
       "      <th>pca3</th>\n",
       "      <th>pca4</th>\n",
       "      <th>input/output</th>\n",
       "      <th>label</th>\n",
       "      <th>data_type</th>\n",
       "      <th>output_length</th>\n",
       "      <th>switch</th>\n",
       "      <th>output_text</th>\n",
       "      <th>sufix</th>\n",
       "    </tr>\n",
       "  </thead>\n",
       "  <tbody>\n",
       "  </tbody>\n",
       "</table>\n",
       "</div>"
      ],
      "text/plain": [
       "Empty DataFrame\n",
       "Columns: [pca1, pca2, pca3, pca4, input/output, label, data_type, output_length, switch, output_text, sufix]\n",
       "Index: []"
      ]
     },
     "execution_count": 145,
     "metadata": {},
     "output_type": "execute_result"
    }
   ],
   "source": [
    "df[(df[\"data_type\"] == \"english_word\") & (df[\"label\"]== 2)]"
   ]
  },
  {
   "cell_type": "code",
   "execution_count": 146,
   "metadata": {},
   "outputs": [],
   "source": [
    "# print(df[(df[\"data_type\"] == \"conspiracy\") & (df[\"output_length\"] is not None)& (df[\"label\"] == 2) & (df[\"input/output\"] == \"Watergate Scandal\") & (df[\"layer_id\"] == 16)][\"output_text\"].item())"
   ]
  },
  {
   "cell_type": "code",
   "execution_count": 147,
   "metadata": {},
   "outputs": [
    {
     "data": {
      "application/vnd.plotly.v1+json": {
       "config": {
        "plotlyServerURL": "https://plot.ly"
       },
       "data": [
        {
         "customdata": [
          [
           "Watergate Scandal",
           279,
           "real"
          ],
          [
           "The Watergate",
           168,
           "real"
          ],
          [
           "Operation Paperclip",
           223,
           "real"
          ],
          [
           "Tuskegee Syphilis Study",
           256,
           "real"
          ],
          [
           "Tuskegee Study of Untreated Syphilis in the Negro Male",
           246,
           "real"
          ],
          [
           "Tuskegee Experiment",
           261,
           "real"
          ],
          [
           "MKUltra",
           205,
           "real"
          ],
          [
           "Project MKUltra",
           212,
           "real"
          ],
          [
           "COINTELPRO",
           193,
           "real"
          ],
          [
           "The Counter Intelligence Program",
           205,
           "real"
          ],
          [
           "The COINTELPRO Assassination of Fred Hampton",
           267,
           "real"
          ],
          [
           "Assassination of Fred Hampton",
           248,
           "real"
          ],
          [
           "Iran-Contra Affair",
           214,
           "real"
          ],
          [
           "Iran–Contra scandal",
           206,
           "real"
          ],
          [
           "The Gulf of Tonkin Incident",
           233,
           "real"
          ],
          [
           "The Business Plot",
           206,
           "real"
          ],
          [
           "Operation Mockingbird",
           205,
           "real"
          ],
          [
           "Operation Gladio",
           278,
           "real"
          ],
          [
           "The Gladio Network",
           203,
           "real"
          ],
          [
           "The Manhattan Project Spies",
           234,
           "real"
          ],
          [
           "The Atomic spies",
           239,
           "real"
          ],
          [
           "The Manhattan Project Human Radiation Experiments",
           329,
           "real"
          ],
          [
           "The Manhattan Project",
           164,
           "real"
          ],
          [
           "The Iran Hostage Crisis",
           263,
           "real"
          ],
          [
           "Operation Ajax",
           208,
           "real"
          ],
          [
           "Operation Boot",
           220,
           "real"
          ],
          [
           "The 1953 Iran coup",
           298,
           "real"
          ],
          [
           "The Church Committee Revelations",
           321,
           "real"
          ],
          [
           "The Church Committee",
           278,
           "real"
          ],
          [
           "Operation Fast and Furious",
           261,
           "real"
          ],
          [
           "The ATF gunwalking scandal",
           381,
           "real"
          ],
          [
           "The letting guns walk operation",
           287,
           "real"
          ],
          [
           "The Dreyfus Affair",
           206,
           "real"
          ],
          [
           "The October Surprise",
           239,
           "real"
          ],
          [
           "The 1980 October Surprise theory",
           236,
           "real"
          ],
          [
           "The Panama Papers",
           210,
           "real"
          ],
          [
           "The Operation Northwoods",
           234,
           "real"
          ],
          [
           "The Moscow Theater Hostage Crisis",
           195,
           "real"
          ],
          [
           "The 2002 Nord-Ost siege",
           201,
           "real"
          ],
          [
           "The Lavon Affair",
           270,
           "real"
          ],
          [
           "The Operation Susannah ",
           245,
           "real"
          ],
          [
           "The Assassination of Patrice Lumumba",
           250,
           "real"
          ],
          [
           "The Reichstag Fire",
           209,
           "real"
          ],
          [
           "The Enron Scandal",
           253,
           "real"
          ],
          [
           "The Plot to Kill Pope John Paul II",
           222,
           "real"
          ],
          [
           "Attempted assassination of Pope John Paul II",
           193,
           "real"
          ],
          [
           "The Gülen Movement in Turkey",
           251,
           "real"
          ],
          [
           "The Gülen Movement",
           281,
           "real"
          ],
          [
           "The 1973 Chilean Coup",
           248,
           "real"
          ],
          [
           "The Volkswagen Emissions Scandal",
           219,
           "real"
          ],
          [
           "The Atlas Network Conspiracy",
           219,
           "real"
          ],
          [
           "The Cover-Ups of the Tabacco companies ",
           193,
           "real"
          ]
         ],
         "hovertemplate": "label=4<br>data_type=conspiracy<br>pca1=%{x}<br>pca2=%{y}<br>input/output=%{customdata[0]}<br>output_length=%{customdata[1]}<br>switch=%{customdata[2]}<extra></extra>",
         "legendgroup": "4, conspiracy",
         "marker": {
          "color": "#ef6c00",
          "symbol": "circle"
         },
         "mode": "markers",
         "name": "4, conspiracy",
         "orientation": "v",
         "showlegend": true,
         "type": "scatter",
         "x": [
          2.1173371375059675,
          3.3708660454650716,
          3.439241996167713,
          -1.0878921528124397,
          -1.3064283061008903,
          -1.3248060813427631,
          3.858963579524188,
          5.705743597945703,
          2.8743856779800376,
          4.026649007305412,
          -2.8562117953268764,
          0.1445495830499265,
          1.8687584585459287,
          0.8339655465283643,
          3.375759009366793,
          0.1456505026896994,
          3.339014814487744,
          -1.6863124921806416,
          -2.1235069932803743,
          3.7952497432119734,
          3.753798628758659,
          0.11814417927274187,
          11.332896055600317,
          2.125596892548675,
          4.29185750432998,
          -3.804906763810858,
          4.826080617925558,
          1.485545148616128,
          2.7614328730875677,
          -2.049567007124193,
          -1.72663580042798,
          -3.79243254276581,
          -0.48587757422933076,
          -1.2018221136831548,
          -2.029779377707639,
          0.24753823186369397,
          1.916648426235586,
          -0.512414957417328,
          -2.7592021733007916,
          -3.7068966696924712,
          0.7951432464962068,
          4.104966849893832,
          5.530152002333796,
          3.3480954405898413,
          2.1091120556522585,
          1.5472717885466458,
          2.3986133930921416,
          1.6828543522402122,
          4.163909721515637,
          3.563143068331925,
          -3.1447628836453814,
          -1.2469980186627312
         ],
         "xaxis": "x",
         "y": [
          3.0659404599627114,
          3.6916140395852266,
          -1.8700541925834677,
          2.2913306480389766,
          2.6898962512138906,
          1.987661346559961,
          -5.574954716862085,
          -3.3754119766003203,
          0.3277050054865627,
          -0.3872578771245973,
          6.511038515252449,
          7.122152096552943,
          6.54368017212444,
          6.385005749186254,
          6.137262197387158,
          8.5492976803997,
          -0.8865828847843581,
          1.5808019970061935,
          2.0719281824210536,
          1.8809709534773251,
          2.2128946083061916,
          2.3058000158271277,
          -3.6005910067651525,
          7.198536511461753,
          11.055587070925686,
          8.691612064466934,
          10.574843565015506,
          -0.9052872081971199,
          0.6179151311641026,
          3.2432457086001794,
          3.018659557156921,
          3.712563319292684,
          4.447203092481172,
          5.484446890242269,
          6.963539885101121,
          -2.568230843579992,
          5.362523066157885,
          8.241298984821382,
          7.8510909619711615,
          10.611396641193565,
          10.361981589165824,
          10.92212622556241,
          8.186845843990964,
          0.7200634841100688,
          6.956478049641909,
          5.9542102009328,
          1.1190488782683512,
          -1.897652998650921,
          8.940682557722647,
          -2.413053101890755,
          -5.45815507121414,
          -4.043305601039389
         ],
         "yaxis": "y"
        },
        {
         "customdata": [
          [
           "The Moon Landing Hoax",
           205,
           "fake"
          ],
          [
           "The Moon Landing ",
           193,
           "fake"
          ],
          [
           "9/11 Conspiracy Theories",
           208,
           "fake"
          ],
          [
           "The Collapse of the World Trade Center ",
           208,
           "fake"
          ],
          [
           "JFK Assassination",
           300,
           "fake"
          ],
          [
           "The Illuminati and New World Order",
           299,
           "fake"
          ],
          [
           "The New World Order",
           269,
           "fake"
          ],
          [
           "The Illuminati ",
           192,
           "fake"
          ],
          [
           "Area 51 and Aliens",
           214,
           "fake"
          ],
          [
           "Area 51 and Alien Technology ",
           216,
           "fake"
          ],
          [
           "Chemtrails",
           238,
           "fake"
          ],
          [
           "The Flat Earth Theory",
           195,
           "fake"
          ],
          [
           "The Flat Earth Society ",
           170,
           "fake"
          ],
          [
           "Vaccination Conspiracies",
           218,
           "fake"
          ],
          [
           "The Vaccination Microchips ",
           198,
           "fake"
          ],
          [
           "COVID-19 Origin and Spread",
           236,
           "fake"
          ],
          [
           "COVID-19 Vaccination Microchips",
           242,
           "fake"
          ],
          [
           "The Bilderberg Group",
           235,
           "fake"
          ],
          [
           "The Bilderberg Conference",
           228,
           "fake"
          ],
          [
           "The Bilderberg Meeting",
           241,
           "fake"
          ],
          [
           "The Bilderberg Club",
           285,
           "fake"
          ],
          [
           "Paul McCartney’s Death",
           252,
           "fake"
          ],
          [
           "Paul is Dead",
           223,
           "fake"
          ],
          [
           "QAnon",
           227,
           "fake"
          ],
          [
           "Princess Diana’s Death",
           210,
           "fake"
          ],
          [
           "Denver International Airport",
           247,
           "fake"
          ],
          [
           "FEMA Camps",
           232,
           "fake"
          ],
          [
           "Big Pharma",
           229,
           "fake"
          ],
          [
           "The Big Pharma Suppresses Cures",
           235,
           "fake"
          ],
          [
           "Weather Control",
           249,
           "fake"
          ],
          [
           "HAARP",
           252,
           "fake"
          ],
          [
           "The HAARP weather control",
           271,
           "fake"
          ],
          [
           "Hollywood and Elite Pedophilia Rings",
           227,
           "fake"
          ],
          [
           "Roswell UFO Incident",
           270,
           "fake"
          ],
          [
           "The Roswell incident ",
           214,
           "fake"
          ],
          [
           "The Georgia Guidestones",
           262,
           "fake"
          ],
          [
           "The Reptilian Elite",
           251,
           "fake"
          ],
          [
           "The lizard people ",
           206,
           "fake"
          ],
          [
           "False Flag Operations",
           270,
           "fake"
          ],
          [
           "The Rothschild Family",
           208,
           "fake"
          ],
          [
           "The Pizzagate",
           246,
           "fake"
          ],
          [
           "Pizzagate",
           218,
           "fake"
          ],
          [
           "Frazzledrip",
           250,
           "fake"
          ],
          [
           "The Pearl Harbor advance-knowledge",
           253,
           "fake"
          ],
          [
           "The Phantom Time Hypothesis",
           164,
           "fake"
          ],
          [
           "The Phantom Time theory",
           233,
           "fake"
          ],
          [
           "The Great Replacement",
           260,
           "fake"
          ],
          [
           "The replacement theory",
           211,
           "fake"
          ],
          [
           "Freemasonry",
           291,
           "fake"
          ],
          [
           "The Masonic conspiracy theories",
           224,
           "fake"
          ],
          [
           "The Mandela Effect",
           231,
           "fake"
          ],
          [
           "Antarctica Secrets",
           256,
           "fake"
          ],
          [
           "The Hollow Earth",
           231,
           "fake"
          ],
          [
           "GMO Conspiracy",
           186,
           "fake"
          ],
          [
           "Subliminal Messages in Media",
           265,
           "fake"
          ],
          [
           "Dead Internet Theory",
           242,
           "fake"
          ],
          [
           "The Philadelphia Experiment",
           227,
           "fake"
          ]
         ],
         "hovertemplate": "label=5<br>data_type=conspiracy<br>pca1=%{x}<br>pca2=%{y}<br>input/output=%{customdata[0]}<br>output_length=%{customdata[1]}<br>switch=%{customdata[2]}<extra></extra>",
         "legendgroup": "5, conspiracy",
         "marker": {
          "color": "#eeff41",
          "symbol": "circle"
         },
         "mode": "markers",
         "name": "5, conspiracy",
         "orientation": "v",
         "showlegend": true,
         "type": "scatter",
         "x": [
          3.037504979021559,
          2.8119795545596196,
          2.095397564337882,
          0.8780254152510647,
          2.7972643605361176,
          0.9585642422741146,
          0.5737435564434166,
          2.489927427567372,
          1.0449891127039894,
          0.8605742885422156,
          -2.258764403386106,
          -0.59373409656418,
          2.57908580010442,
          -1.8022846809095363,
          -4.626904903737189,
          -2.593227229436903,
          -3.861469527200969,
          1.3147440483989123,
          2.1505902719651173,
          1.3236705395994393,
          3.0010126101928276,
          -2.1378887822503234,
          -1.5444291687207687,
          -5.190206672442508,
          0.03899056798014894,
          -1.2025516229129176,
          -5.763399084250823,
          -3.5935666939145703,
          -5.153617804887816,
          -1.3546595397267511,
          1.5466600968895463,
          -0.6496645909187928,
          -5.480877881271112,
          2.623704198088042,
          3.6098247580436094,
          -1.0424876386591897,
          -3.9723839848411973,
          -4.431084561628647,
          -2.6303248460646786,
          2.8104137060045393,
          -4.296494496882572,
          -3.8333780032026894,
          -5.120761436928963,
          1.43941794498472,
          1.8196158330396357,
          -0.3107726695116896,
          -4.9090306563894845,
          -4.860883239263587,
          0.018944173644764972,
          0.06037099330069004,
          -1.43763823851572,
          -3.979396830625031,
          -2.9597867647232907,
          -2.5477703297880567,
          -3.8963582879303975,
          -8.058698892606543,
          0.057000043424924596
         ],
         "xaxis": "x",
         "y": [
          -2.264147355084121,
          -2.536606244134756,
          -3.992033407536945,
          -3.63702699741178,
          -2.5666857152163947,
          -5.388075731547328,
          -4.376214031063615,
          -2.2017431943191057,
          -4.108559049556133,
          -6.931528005858148,
          -5.349617615776562,
          -5.670231546066361,
          -8.010562262340345,
          -9.655973578395573,
          -5.858747183380554,
          -4.032803076938402,
          -5.5221362412515855,
          -4.049478704474669,
          -3.700864028364166,
          -3.4046238630841295,
          -4.090006062202438,
          -1.8102337465482865,
          -3.065308173290197,
          -3.2811790443639994,
          5.644461802879865,
          -5.079758451606758,
          -2.2877251973167185,
          -5.274058732535389,
          -4.4336669531835895,
          -7.261092507861024,
          -5.66543416557345,
          -5.1101880496366405,
          -4.280479638176106,
          -3.0206588543103328,
          -5.04624135358294,
          -1.876170839226328,
          -1.350834401503715,
          -0.845886428969767,
          0.35528702272960744,
          -1.0848915320585744,
          0.12261168251174176,
          0.27315658642215096,
          -2.1361792934939943,
          2.7783317466256046,
          8.09168456762129,
          8.112459825278947,
          -1.4529635201025757,
          -0.150332264554356,
          -6.485651712655619,
          -5.072391660644254,
          -3.7835037120944097,
          -5.967069064720872,
          -4.4838269385644764,
          -4.994160186269113,
          -5.925437068644682,
          -4.0260767233711885,
          -5.3892708441498804
         ],
         "yaxis": "y"
        },
        {
         "customdata": [
          [
           "Grigori Rasputin",
           172,
           "real"
          ],
          [
           "Nikola Tesla",
           175,
           "real"
          ],
          [
           "Cleopatra VII",
           189,
           "real"
          ],
          [
           "Joan of Arc",
           143,
           "real"
          ],
          [
           "Vlad the Impaler",
           156,
           "real"
          ],
          [
           "Che Guevara",
           184,
           "real"
          ],
          [
           "Harry Houdini",
           146,
           "real"
          ],
          [
           "Mata Hari",
           132,
           "real"
          ],
          [
           "Genghis Khan",
           154,
           "real"
          ],
          [
           "Amelia Earhart",
           169,
           "real"
          ],
          [
           "Albert Einstein",
           149,
           "real"
          ],
          [
           "Hatshepsut",
           193,
           "real"
          ],
          [
           "Aleister Crowley",
           182,
           "real"
          ],
          [
           "Ernest Hemingway",
           181,
           "real"
          ],
          [
           "Leonardo da Vinci",
           169,
           "real"
          ],
          [
           "Thomas Cromwell",
           155,
           "real"
          ],
          [
           "Uhtred of Bebbanburg",
           202,
           "real"
          ],
          [
           "Hendrik Doeff",
           168,
           "real"
          ]
         ],
         "hovertemplate": "label=0<br>data_type=character<br>pca1=%{x}<br>pca2=%{y}<br>input/output=%{customdata[0]}<br>output_length=%{customdata[1]}<br>switch=%{customdata[2]}<extra></extra>",
         "legendgroup": "0, character",
         "marker": {
          "color": "#009668",
          "symbol": "diamond"
         },
         "mode": "markers",
         "name": "0, character",
         "orientation": "v",
         "showlegend": true,
         "type": "scatter",
         "x": [
          18.328742144558056,
          36.04636060970032,
          25.033997321694866,
          23.151760600659276,
          13.241741312217341,
          29.725396656917752,
          32.06812844132093,
          21.178915002742915,
          27.818833046285917,
          22.863582968495805,
          40.17619106229083,
          24.251854332909737,
          37.06761352992532,
          17.430788634843662,
          31.115682822929614,
          -0.5637025923950325,
          -19.475812961828417,
          5.4588790799485825
         ],
         "xaxis": "x",
         "y": [
          18.33688437931548,
          -20.45345867989147,
          27.917812650527907,
          15.28049347786671,
          12.165043986910069,
          -6.461673826684866,
          -15.8934922140137,
          15.065551324458088,
          10.280289052441313,
          -4.633733670512855,
          -26.999470805816856,
          30.691772798782345,
          -10.360723738784971,
          -18.17404173187214,
          -16.660116305310943,
          12.463921078642509,
          13.042964559641248,
          17.791596409592675
         ],
         "yaxis": "y"
        },
        {
         "customdata": [
          [
           "Jack Aubrey",
           162,
           "fake"
          ],
          [
           "Ross Poldark",
           209,
           "fake"
          ],
          [
           "Claire Fraser",
           178,
           "fake"
          ],
          [
           "Lisbeth Salander",
           116,
           "fake"
          ],
          [
           "Phryne Fisher",
           162,
           "fake"
          ],
          [
           "Liesel Meminger",
           142,
           "fake"
          ],
          [
           "Jacob de Zoet",
           186,
           "fake"
          ],
          [
           "Scarlett O'Hara",
           184,
           "fake"
          ],
          [
           "Ishmael",
           135,
           "fake"
          ],
          [
           "Robert Langdon",
           141,
           "fake"
          ],
          [
           "Heathcliff",
           157,
           "fake"
          ],
          [
           "Don Quixote",
           171,
           "fake"
          ],
          [
           "Aliena",
           168,
           "fake"
          ],
          [
           "Gaius Baltar",
           171,
           "fake"
          ],
          [
           "Robert Merivel",
           132,
           "fake"
          ],
          [
           "Katherine Swynford",
           180,
           "fake"
          ],
          [
           "Jamie Fraser",
           125,
           "fake"
          ],
          [
           "Hester Prynne",
           156,
           "fake"
          ],
          [
           "Captain Woodrow F. Call",
           122,
           "fake"
          ],
          [
           "Jean Valjean",
           136,
           "fake"
          ],
          [
           "Mara of the Acoma",
           182,
           "fake"
          ],
          [
           "Heidi",
           116,
           "fake"
          ]
         ],
         "hovertemplate": "label=1<br>data_type=character<br>pca1=%{x}<br>pca2=%{y}<br>input/output=%{customdata[0]}<br>output_length=%{customdata[1]}<br>switch=%{customdata[2]}<extra></extra>",
         "legendgroup": "1, character",
         "marker": {
          "color": "#ce93d8",
          "symbol": "diamond"
         },
         "mode": "markers",
         "name": "1, character",
         "orientation": "v",
         "showlegend": true,
         "type": "scatter",
         "x": [
          -9.955412304023406,
          -28.67279029802927,
          -28.565101404181867,
          -15.386537716106933,
          -14.227439024506328,
          -24.642717096563008,
          -12.152436856346785,
          -19.998990295957604,
          -5.72348414004211,
          -8.813531789999965,
          -23.06530504312682,
          -10.463385601757887,
          -25.098606671190876,
          -14.720710963798794,
          -18.09676872347944,
          5.065422907186095,
          -28.059560319041726,
          -17.104628102645872,
          -20.94307955156015,
          -21.543021964166364,
          -20.312768863602997,
          -22.438098190275383
         ],
         "xaxis": "x",
         "y": [
          -9.95290274903214,
          3.2296799976817168,
          4.10211211924709,
          -19.719673327094224,
          -9.76560112149079,
          0.9247255498178623,
          7.158282521925989,
          -1.0271921633113998,
          -13.617551619703681,
          -22.242754142591057,
          -8.037791496624116,
          -9.249066696100064,
          15.98430406236787,
          -9.678704092739101,
          1.8085405646620187,
          34.02134261317315,
          -5.342594979260114,
          2.5420457391582874,
          -15.939859687630303,
          -8.600942254389302,
          15.560524546319217,
          -5.556542129677448
         ],
         "yaxis": "y"
        }
       ],
       "layout": {
        "coloraxis": {
         "colorbar": {
          "ticks": "outside",
          "x": -0.2,
          "y": 1,
          "yanchor": "top"
         }
        },
        "height": 700,
        "legend": {
         "title": {
          "text": "label, data_type"
         },
         "tracegroupgap": 0
        },
        "margin": {
         "t": 60
        },
        "template": {
         "data": {
          "bar": [
           {
            "error_x": {
             "color": "#2a3f5f"
            },
            "error_y": {
             "color": "#2a3f5f"
            },
            "marker": {
             "line": {
              "color": "#E5ECF6",
              "width": 0.5
             },
             "pattern": {
              "fillmode": "overlay",
              "size": 10,
              "solidity": 0.2
             }
            },
            "type": "bar"
           }
          ],
          "barpolar": [
           {
            "marker": {
             "line": {
              "color": "#E5ECF6",
              "width": 0.5
             },
             "pattern": {
              "fillmode": "overlay",
              "size": 10,
              "solidity": 0.2
             }
            },
            "type": "barpolar"
           }
          ],
          "carpet": [
           {
            "aaxis": {
             "endlinecolor": "#2a3f5f",
             "gridcolor": "white",
             "linecolor": "white",
             "minorgridcolor": "white",
             "startlinecolor": "#2a3f5f"
            },
            "baxis": {
             "endlinecolor": "#2a3f5f",
             "gridcolor": "white",
             "linecolor": "white",
             "minorgridcolor": "white",
             "startlinecolor": "#2a3f5f"
            },
            "type": "carpet"
           }
          ],
          "choropleth": [
           {
            "colorbar": {
             "outlinewidth": 0,
             "ticks": ""
            },
            "type": "choropleth"
           }
          ],
          "contour": [
           {
            "colorbar": {
             "outlinewidth": 0,
             "ticks": ""
            },
            "colorscale": [
             [
              0,
              "#0d0887"
             ],
             [
              0.1111111111111111,
              "#46039f"
             ],
             [
              0.2222222222222222,
              "#7201a8"
             ],
             [
              0.3333333333333333,
              "#9c179e"
             ],
             [
              0.4444444444444444,
              "#bd3786"
             ],
             [
              0.5555555555555556,
              "#d8576b"
             ],
             [
              0.6666666666666666,
              "#ed7953"
             ],
             [
              0.7777777777777778,
              "#fb9f3a"
             ],
             [
              0.8888888888888888,
              "#fdca26"
             ],
             [
              1,
              "#f0f921"
             ]
            ],
            "type": "contour"
           }
          ],
          "contourcarpet": [
           {
            "colorbar": {
             "outlinewidth": 0,
             "ticks": ""
            },
            "type": "contourcarpet"
           }
          ],
          "heatmap": [
           {
            "colorbar": {
             "outlinewidth": 0,
             "ticks": ""
            },
            "colorscale": [
             [
              0,
              "#0d0887"
             ],
             [
              0.1111111111111111,
              "#46039f"
             ],
             [
              0.2222222222222222,
              "#7201a8"
             ],
             [
              0.3333333333333333,
              "#9c179e"
             ],
             [
              0.4444444444444444,
              "#bd3786"
             ],
             [
              0.5555555555555556,
              "#d8576b"
             ],
             [
              0.6666666666666666,
              "#ed7953"
             ],
             [
              0.7777777777777778,
              "#fb9f3a"
             ],
             [
              0.8888888888888888,
              "#fdca26"
             ],
             [
              1,
              "#f0f921"
             ]
            ],
            "type": "heatmap"
           }
          ],
          "heatmapgl": [
           {
            "colorbar": {
             "outlinewidth": 0,
             "ticks": ""
            },
            "colorscale": [
             [
              0,
              "#0d0887"
             ],
             [
              0.1111111111111111,
              "#46039f"
             ],
             [
              0.2222222222222222,
              "#7201a8"
             ],
             [
              0.3333333333333333,
              "#9c179e"
             ],
             [
              0.4444444444444444,
              "#bd3786"
             ],
             [
              0.5555555555555556,
              "#d8576b"
             ],
             [
              0.6666666666666666,
              "#ed7953"
             ],
             [
              0.7777777777777778,
              "#fb9f3a"
             ],
             [
              0.8888888888888888,
              "#fdca26"
             ],
             [
              1,
              "#f0f921"
             ]
            ],
            "type": "heatmapgl"
           }
          ],
          "histogram": [
           {
            "marker": {
             "pattern": {
              "fillmode": "overlay",
              "size": 10,
              "solidity": 0.2
             }
            },
            "type": "histogram"
           }
          ],
          "histogram2d": [
           {
            "colorbar": {
             "outlinewidth": 0,
             "ticks": ""
            },
            "colorscale": [
             [
              0,
              "#0d0887"
             ],
             [
              0.1111111111111111,
              "#46039f"
             ],
             [
              0.2222222222222222,
              "#7201a8"
             ],
             [
              0.3333333333333333,
              "#9c179e"
             ],
             [
              0.4444444444444444,
              "#bd3786"
             ],
             [
              0.5555555555555556,
              "#d8576b"
             ],
             [
              0.6666666666666666,
              "#ed7953"
             ],
             [
              0.7777777777777778,
              "#fb9f3a"
             ],
             [
              0.8888888888888888,
              "#fdca26"
             ],
             [
              1,
              "#f0f921"
             ]
            ],
            "type": "histogram2d"
           }
          ],
          "histogram2dcontour": [
           {
            "colorbar": {
             "outlinewidth": 0,
             "ticks": ""
            },
            "colorscale": [
             [
              0,
              "#0d0887"
             ],
             [
              0.1111111111111111,
              "#46039f"
             ],
             [
              0.2222222222222222,
              "#7201a8"
             ],
             [
              0.3333333333333333,
              "#9c179e"
             ],
             [
              0.4444444444444444,
              "#bd3786"
             ],
             [
              0.5555555555555556,
              "#d8576b"
             ],
             [
              0.6666666666666666,
              "#ed7953"
             ],
             [
              0.7777777777777778,
              "#fb9f3a"
             ],
             [
              0.8888888888888888,
              "#fdca26"
             ],
             [
              1,
              "#f0f921"
             ]
            ],
            "type": "histogram2dcontour"
           }
          ],
          "mesh3d": [
           {
            "colorbar": {
             "outlinewidth": 0,
             "ticks": ""
            },
            "type": "mesh3d"
           }
          ],
          "parcoords": [
           {
            "line": {
             "colorbar": {
              "outlinewidth": 0,
              "ticks": ""
             }
            },
            "type": "parcoords"
           }
          ],
          "pie": [
           {
            "automargin": true,
            "type": "pie"
           }
          ],
          "scatter": [
           {
            "fillpattern": {
             "fillmode": "overlay",
             "size": 10,
             "solidity": 0.2
            },
            "type": "scatter"
           }
          ],
          "scatter3d": [
           {
            "line": {
             "colorbar": {
              "outlinewidth": 0,
              "ticks": ""
             }
            },
            "marker": {
             "colorbar": {
              "outlinewidth": 0,
              "ticks": ""
             }
            },
            "type": "scatter3d"
           }
          ],
          "scattercarpet": [
           {
            "marker": {
             "colorbar": {
              "outlinewidth": 0,
              "ticks": ""
             }
            },
            "type": "scattercarpet"
           }
          ],
          "scattergeo": [
           {
            "marker": {
             "colorbar": {
              "outlinewidth": 0,
              "ticks": ""
             }
            },
            "type": "scattergeo"
           }
          ],
          "scattergl": [
           {
            "marker": {
             "colorbar": {
              "outlinewidth": 0,
              "ticks": ""
             }
            },
            "type": "scattergl"
           }
          ],
          "scattermapbox": [
           {
            "marker": {
             "colorbar": {
              "outlinewidth": 0,
              "ticks": ""
             }
            },
            "type": "scattermapbox"
           }
          ],
          "scatterpolar": [
           {
            "marker": {
             "colorbar": {
              "outlinewidth": 0,
              "ticks": ""
             }
            },
            "type": "scatterpolar"
           }
          ],
          "scatterpolargl": [
           {
            "marker": {
             "colorbar": {
              "outlinewidth": 0,
              "ticks": ""
             }
            },
            "type": "scatterpolargl"
           }
          ],
          "scatterternary": [
           {
            "marker": {
             "colorbar": {
              "outlinewidth": 0,
              "ticks": ""
             }
            },
            "type": "scatterternary"
           }
          ],
          "surface": [
           {
            "colorbar": {
             "outlinewidth": 0,
             "ticks": ""
            },
            "colorscale": [
             [
              0,
              "#0d0887"
             ],
             [
              0.1111111111111111,
              "#46039f"
             ],
             [
              0.2222222222222222,
              "#7201a8"
             ],
             [
              0.3333333333333333,
              "#9c179e"
             ],
             [
              0.4444444444444444,
              "#bd3786"
             ],
             [
              0.5555555555555556,
              "#d8576b"
             ],
             [
              0.6666666666666666,
              "#ed7953"
             ],
             [
              0.7777777777777778,
              "#fb9f3a"
             ],
             [
              0.8888888888888888,
              "#fdca26"
             ],
             [
              1,
              "#f0f921"
             ]
            ],
            "type": "surface"
           }
          ],
          "table": [
           {
            "cells": {
             "fill": {
              "color": "#EBF0F8"
             },
             "line": {
              "color": "white"
             }
            },
            "header": {
             "fill": {
              "color": "#C8D4E3"
             },
             "line": {
              "color": "white"
             }
            },
            "type": "table"
           }
          ]
         },
         "layout": {
          "annotationdefaults": {
           "arrowcolor": "#2a3f5f",
           "arrowhead": 0,
           "arrowwidth": 1
          },
          "autotypenumbers": "strict",
          "coloraxis": {
           "colorbar": {
            "outlinewidth": 0,
            "ticks": ""
           }
          },
          "colorscale": {
           "diverging": [
            [
             0,
             "#8e0152"
            ],
            [
             0.1,
             "#c51b7d"
            ],
            [
             0.2,
             "#de77ae"
            ],
            [
             0.3,
             "#f1b6da"
            ],
            [
             0.4,
             "#fde0ef"
            ],
            [
             0.5,
             "#f7f7f7"
            ],
            [
             0.6,
             "#e6f5d0"
            ],
            [
             0.7,
             "#b8e186"
            ],
            [
             0.8,
             "#7fbc41"
            ],
            [
             0.9,
             "#4d9221"
            ],
            [
             1,
             "#276419"
            ]
           ],
           "sequential": [
            [
             0,
             "#0d0887"
            ],
            [
             0.1111111111111111,
             "#46039f"
            ],
            [
             0.2222222222222222,
             "#7201a8"
            ],
            [
             0.3333333333333333,
             "#9c179e"
            ],
            [
             0.4444444444444444,
             "#bd3786"
            ],
            [
             0.5555555555555556,
             "#d8576b"
            ],
            [
             0.6666666666666666,
             "#ed7953"
            ],
            [
             0.7777777777777778,
             "#fb9f3a"
            ],
            [
             0.8888888888888888,
             "#fdca26"
            ],
            [
             1,
             "#f0f921"
            ]
           ],
           "sequentialminus": [
            [
             0,
             "#0d0887"
            ],
            [
             0.1111111111111111,
             "#46039f"
            ],
            [
             0.2222222222222222,
             "#7201a8"
            ],
            [
             0.3333333333333333,
             "#9c179e"
            ],
            [
             0.4444444444444444,
             "#bd3786"
            ],
            [
             0.5555555555555556,
             "#d8576b"
            ],
            [
             0.6666666666666666,
             "#ed7953"
            ],
            [
             0.7777777777777778,
             "#fb9f3a"
            ],
            [
             0.8888888888888888,
             "#fdca26"
            ],
            [
             1,
             "#f0f921"
            ]
           ]
          },
          "colorway": [
           "#636efa",
           "#EF553B",
           "#00cc96",
           "#ab63fa",
           "#FFA15A",
           "#19d3f3",
           "#FF6692",
           "#B6E880",
           "#FF97FF",
           "#FECB52"
          ],
          "font": {
           "color": "#2a3f5f"
          },
          "geo": {
           "bgcolor": "white",
           "lakecolor": "white",
           "landcolor": "#E5ECF6",
           "showlakes": true,
           "showland": true,
           "subunitcolor": "white"
          },
          "hoverlabel": {
           "align": "left"
          },
          "hovermode": "closest",
          "mapbox": {
           "style": "light"
          },
          "paper_bgcolor": "white",
          "plot_bgcolor": "#E5ECF6",
          "polar": {
           "angularaxis": {
            "gridcolor": "white",
            "linecolor": "white",
            "ticks": ""
           },
           "bgcolor": "#E5ECF6",
           "radialaxis": {
            "gridcolor": "white",
            "linecolor": "white",
            "ticks": ""
           }
          },
          "scene": {
           "xaxis": {
            "backgroundcolor": "#E5ECF6",
            "gridcolor": "white",
            "gridwidth": 2,
            "linecolor": "white",
            "showbackground": true,
            "ticks": "",
            "zerolinecolor": "white"
           },
           "yaxis": {
            "backgroundcolor": "#E5ECF6",
            "gridcolor": "white",
            "gridwidth": 2,
            "linecolor": "white",
            "showbackground": true,
            "ticks": "",
            "zerolinecolor": "white"
           },
           "zaxis": {
            "backgroundcolor": "#E5ECF6",
            "gridcolor": "white",
            "gridwidth": 2,
            "linecolor": "white",
            "showbackground": true,
            "ticks": "",
            "zerolinecolor": "white"
           }
          },
          "shapedefaults": {
           "line": {
            "color": "#2a3f5f"
           }
          },
          "ternary": {
           "aaxis": {
            "gridcolor": "white",
            "linecolor": "white",
            "ticks": ""
           },
           "baxis": {
            "gridcolor": "white",
            "linecolor": "white",
            "ticks": ""
           },
           "bgcolor": "#E5ECF6",
           "caxis": {
            "gridcolor": "white",
            "linecolor": "white",
            "ticks": ""
           }
          },
          "title": {
           "x": 0.05
          },
          "xaxis": {
           "automargin": true,
           "gridcolor": "white",
           "linecolor": "white",
           "ticks": "",
           "title": {
            "standoff": 15
           },
           "zerolinecolor": "white",
           "zerolinewidth": 2
          },
          "yaxis": {
           "automargin": true,
           "gridcolor": "white",
           "linecolor": "white",
           "ticks": "",
           "title": {
            "standoff": 15
           },
           "zerolinecolor": "white",
           "zerolinewidth": 2
          }
         }
        },
        "width": 1000,
        "xaxis": {
         "anchor": "y",
         "domain": [
          0,
          1
         ],
         "title": {
          "text": "pca1"
         }
        },
        "yaxis": {
         "anchor": "x",
         "domain": [
          0,
          1
         ],
         "title": {
          "text": "pca2"
         }
        }
       }
      },
      "text/html": [
       "<div>                            <div id=\"d075c41a-0d13-4387-943d-dbb241ad9578\" class=\"plotly-graph-div\" style=\"height:700px; width:1000px;\"></div>            <script type=\"text/javascript\">                require([\"plotly\"], function(Plotly) {                    window.PLOTLYENV=window.PLOTLYENV || {};                                    if (document.getElementById(\"d075c41a-0d13-4387-943d-dbb241ad9578\")) {                    Plotly.newPlot(                        \"d075c41a-0d13-4387-943d-dbb241ad9578\",                        [{\"customdata\":[[\"Watergate Scandal\",279,\"real\"],[\"The Watergate\",168,\"real\"],[\"Operation Paperclip\",223,\"real\"],[\"Tuskegee Syphilis Study\",256,\"real\"],[\"Tuskegee Study of Untreated Syphilis in the Negro Male\",246,\"real\"],[\"Tuskegee Experiment\",261,\"real\"],[\"MKUltra\",205,\"real\"],[\"Project MKUltra\",212,\"real\"],[\"COINTELPRO\",193,\"real\"],[\"The Counter Intelligence Program\",205,\"real\"],[\"The COINTELPRO Assassination of Fred Hampton\",267,\"real\"],[\"Assassination of Fred Hampton\",248,\"real\"],[\"Iran-Contra Affair\",214,\"real\"],[\"Iran\\u2013Contra scandal\",206,\"real\"],[\"The Gulf of Tonkin Incident\",233,\"real\"],[\"The Business Plot\",206,\"real\"],[\"Operation Mockingbird\",205,\"real\"],[\"Operation Gladio\",278,\"real\"],[\"The Gladio Network\",203,\"real\"],[\"The Manhattan Project Spies\",234,\"real\"],[\"The Atomic spies\",239,\"real\"],[\"The Manhattan Project Human Radiation Experiments\",329,\"real\"],[\"The Manhattan Project\",164,\"real\"],[\"The Iran Hostage Crisis\",263,\"real\"],[\"Operation Ajax\",208,\"real\"],[\"Operation Boot\",220,\"real\"],[\"The 1953 Iran coup\",298,\"real\"],[\"The Church Committee Revelations\",321,\"real\"],[\"The Church Committee\",278,\"real\"],[\"Operation Fast and Furious\",261,\"real\"],[\"The ATF gunwalking scandal\",381,\"real\"],[\"The letting guns walk operation\",287,\"real\"],[\"The Dreyfus Affair\",206,\"real\"],[\"The October Surprise\",239,\"real\"],[\"The 1980 October Surprise theory\",236,\"real\"],[\"The Panama Papers\",210,\"real\"],[\"The Operation Northwoods\",234,\"real\"],[\"The Moscow Theater Hostage Crisis\",195,\"real\"],[\"The 2002 Nord-Ost siege\",201,\"real\"],[\"The Lavon Affair\",270,\"real\"],[\"The Operation Susannah \",245,\"real\"],[\"The Assassination of Patrice Lumumba\",250,\"real\"],[\"The Reichstag Fire\",209,\"real\"],[\"The Enron Scandal\",253,\"real\"],[\"The Plot to Kill Pope John Paul II\",222,\"real\"],[\"Attempted assassination of Pope John Paul II\",193,\"real\"],[\"The G\\u00fclen Movement in Turkey\",251,\"real\"],[\"The G\\u00fclen Movement\",281,\"real\"],[\"The 1973 Chilean Coup\",248,\"real\"],[\"The Volkswagen Emissions Scandal\",219,\"real\"],[\"The Atlas Network Conspiracy\",219,\"real\"],[\"The Cover-Ups of the Tabacco companies \",193,\"real\"]],\"hovertemplate\":\"label=4\\u003cbr\\u003edata_type=conspiracy\\u003cbr\\u003epca1=%{x}\\u003cbr\\u003epca2=%{y}\\u003cbr\\u003einput\\u002foutput=%{customdata[0]}\\u003cbr\\u003eoutput_length=%{customdata[1]}\\u003cbr\\u003eswitch=%{customdata[2]}\\u003cextra\\u003e\\u003c\\u002fextra\\u003e\",\"legendgroup\":\"4, conspiracy\",\"marker\":{\"color\":\"#ef6c00\",\"symbol\":\"circle\"},\"mode\":\"markers\",\"name\":\"4, conspiracy\",\"orientation\":\"v\",\"showlegend\":true,\"x\":[2.1173371375059675,3.3708660454650716,3.439241996167713,-1.0878921528124397,-1.3064283061008903,-1.3248060813427631,3.858963579524188,5.705743597945703,2.8743856779800376,4.026649007305412,-2.8562117953268764,0.1445495830499265,1.8687584585459287,0.8339655465283643,3.375759009366793,0.1456505026896994,3.339014814487744,-1.6863124921806416,-2.1235069932803743,3.7952497432119734,3.753798628758659,0.11814417927274187,11.332896055600317,2.125596892548675,4.29185750432998,-3.804906763810858,4.826080617925558,1.485545148616128,2.7614328730875677,-2.049567007124193,-1.72663580042798,-3.79243254276581,-0.48587757422933076,-1.2018221136831548,-2.029779377707639,0.24753823186369397,1.916648426235586,-0.512414957417328,-2.7592021733007916,-3.7068966696924712,0.7951432464962068,4.104966849893832,5.530152002333796,3.3480954405898413,2.1091120556522585,1.5472717885466458,2.3986133930921416,1.6828543522402122,4.163909721515637,3.563143068331925,-3.1447628836453814,-1.2469980186627312],\"xaxis\":\"x\",\"y\":[3.0659404599627114,3.6916140395852266,-1.8700541925834677,2.2913306480389766,2.6898962512138906,1.987661346559961,-5.574954716862085,-3.3754119766003203,0.3277050054865627,-0.3872578771245973,6.511038515252449,7.122152096552943,6.54368017212444,6.385005749186254,6.137262197387158,8.5492976803997,-0.8865828847843581,1.5808019970061935,2.0719281824210536,1.8809709534773251,2.2128946083061916,2.3058000158271277,-3.6005910067651525,7.198536511461753,11.055587070925686,8.691612064466934,10.574843565015506,-0.9052872081971199,0.6179151311641026,3.2432457086001794,3.018659557156921,3.712563319292684,4.447203092481172,5.484446890242269,6.963539885101121,-2.568230843579992,5.362523066157885,8.241298984821382,7.8510909619711615,10.611396641193565,10.361981589165824,10.92212622556241,8.186845843990964,0.7200634841100688,6.956478049641909,5.9542102009328,1.1190488782683512,-1.897652998650921,8.940682557722647,-2.413053101890755,-5.45815507121414,-4.043305601039389],\"yaxis\":\"y\",\"type\":\"scatter\"},{\"customdata\":[[\"The Moon Landing Hoax\",205,\"fake\"],[\"The Moon Landing \",193,\"fake\"],[\"9\\u002f11 Conspiracy Theories\",208,\"fake\"],[\"The Collapse of the World Trade Center \",208,\"fake\"],[\"JFK Assassination\",300,\"fake\"],[\"The Illuminati and New World Order\",299,\"fake\"],[\"The New World Order\",269,\"fake\"],[\"The Illuminati \",192,\"fake\"],[\"Area 51 and Aliens\",214,\"fake\"],[\"Area 51 and Alien Technology \",216,\"fake\"],[\"Chemtrails\",238,\"fake\"],[\"The Flat Earth Theory\",195,\"fake\"],[\"The Flat Earth Society \",170,\"fake\"],[\"Vaccination Conspiracies\",218,\"fake\"],[\"The Vaccination Microchips \",198,\"fake\"],[\"COVID-19 Origin and Spread\",236,\"fake\"],[\"COVID-19 Vaccination Microchips\",242,\"fake\"],[\"The Bilderberg Group\",235,\"fake\"],[\"The Bilderberg Conference\",228,\"fake\"],[\"The Bilderberg Meeting\",241,\"fake\"],[\"The Bilderberg Club\",285,\"fake\"],[\"Paul McCartney\\u2019s Death\",252,\"fake\"],[\"Paul is Dead\",223,\"fake\"],[\"QAnon\",227,\"fake\"],[\"Princess Diana\\u2019s Death\",210,\"fake\"],[\"Denver International Airport\",247,\"fake\"],[\"FEMA Camps\",232,\"fake\"],[\"Big Pharma\",229,\"fake\"],[\"The Big Pharma Suppresses Cures\",235,\"fake\"],[\"Weather Control\",249,\"fake\"],[\"HAARP\",252,\"fake\"],[\"The HAARP weather control\",271,\"fake\"],[\"Hollywood and Elite Pedophilia Rings\",227,\"fake\"],[\"Roswell UFO Incident\",270,\"fake\"],[\"The Roswell incident \",214,\"fake\"],[\"The Georgia Guidestones\",262,\"fake\"],[\"The Reptilian Elite\",251,\"fake\"],[\"The lizard people \",206,\"fake\"],[\"False Flag Operations\",270,\"fake\"],[\"The Rothschild Family\",208,\"fake\"],[\"The Pizzagate\",246,\"fake\"],[\"Pizzagate\",218,\"fake\"],[\"Frazzledrip\",250,\"fake\"],[\"The Pearl Harbor advance-knowledge\",253,\"fake\"],[\"The Phantom Time Hypothesis\",164,\"fake\"],[\"The Phantom Time theory\",233,\"fake\"],[\"The Great Replacement\",260,\"fake\"],[\"The replacement theory\",211,\"fake\"],[\"Freemasonry\",291,\"fake\"],[\"The Masonic conspiracy theories\",224,\"fake\"],[\"The Mandela Effect\",231,\"fake\"],[\"Antarctica Secrets\",256,\"fake\"],[\"The Hollow Earth\",231,\"fake\"],[\"GMO Conspiracy\",186,\"fake\"],[\"Subliminal Messages in Media\",265,\"fake\"],[\"Dead Internet Theory\",242,\"fake\"],[\"The Philadelphia Experiment\",227,\"fake\"]],\"hovertemplate\":\"label=5\\u003cbr\\u003edata_type=conspiracy\\u003cbr\\u003epca1=%{x}\\u003cbr\\u003epca2=%{y}\\u003cbr\\u003einput\\u002foutput=%{customdata[0]}\\u003cbr\\u003eoutput_length=%{customdata[1]}\\u003cbr\\u003eswitch=%{customdata[2]}\\u003cextra\\u003e\\u003c\\u002fextra\\u003e\",\"legendgroup\":\"5, conspiracy\",\"marker\":{\"color\":\"#eeff41\",\"symbol\":\"circle\"},\"mode\":\"markers\",\"name\":\"5, conspiracy\",\"orientation\":\"v\",\"showlegend\":true,\"x\":[3.037504979021559,2.8119795545596196,2.095397564337882,0.8780254152510647,2.7972643605361176,0.9585642422741146,0.5737435564434166,2.489927427567372,1.0449891127039894,0.8605742885422156,-2.258764403386106,-0.59373409656418,2.57908580010442,-1.8022846809095363,-4.626904903737189,-2.593227229436903,-3.861469527200969,1.3147440483989123,2.1505902719651173,1.3236705395994393,3.0010126101928276,-2.1378887822503234,-1.5444291687207687,-5.190206672442508,0.03899056798014894,-1.2025516229129176,-5.763399084250823,-3.5935666939145703,-5.153617804887816,-1.3546595397267511,1.5466600968895463,-0.6496645909187928,-5.480877881271112,2.623704198088042,3.6098247580436094,-1.0424876386591897,-3.9723839848411973,-4.431084561628647,-2.6303248460646786,2.8104137060045393,-4.296494496882572,-3.8333780032026894,-5.120761436928963,1.43941794498472,1.8196158330396357,-0.3107726695116896,-4.9090306563894845,-4.860883239263587,0.018944173644764972,0.06037099330069004,-1.43763823851572,-3.979396830625031,-2.9597867647232907,-2.5477703297880567,-3.8963582879303975,-8.058698892606543,0.057000043424924596],\"xaxis\":\"x\",\"y\":[-2.264147355084121,-2.536606244134756,-3.992033407536945,-3.63702699741178,-2.5666857152163947,-5.388075731547328,-4.376214031063615,-2.2017431943191057,-4.108559049556133,-6.931528005858148,-5.349617615776562,-5.670231546066361,-8.010562262340345,-9.655973578395573,-5.858747183380554,-4.032803076938402,-5.5221362412515855,-4.049478704474669,-3.700864028364166,-3.4046238630841295,-4.090006062202438,-1.8102337465482865,-3.065308173290197,-3.2811790443639994,5.644461802879865,-5.079758451606758,-2.2877251973167185,-5.274058732535389,-4.4336669531835895,-7.261092507861024,-5.66543416557345,-5.1101880496366405,-4.280479638176106,-3.0206588543103328,-5.04624135358294,-1.876170839226328,-1.350834401503715,-0.845886428969767,0.35528702272960744,-1.0848915320585744,0.12261168251174176,0.27315658642215096,-2.1361792934939943,2.7783317466256046,8.09168456762129,8.112459825278947,-1.4529635201025757,-0.150332264554356,-6.485651712655619,-5.072391660644254,-3.7835037120944097,-5.967069064720872,-4.4838269385644764,-4.994160186269113,-5.925437068644682,-4.0260767233711885,-5.3892708441498804],\"yaxis\":\"y\",\"type\":\"scatter\"},{\"customdata\":[[\"Grigori Rasputin\",172,\"real\"],[\"Nikola Tesla\",175,\"real\"],[\"Cleopatra VII\",189,\"real\"],[\"Joan of Arc\",143,\"real\"],[\"Vlad the Impaler\",156,\"real\"],[\"Che Guevara\",184,\"real\"],[\"Harry Houdini\",146,\"real\"],[\"Mata Hari\",132,\"real\"],[\"Genghis Khan\",154,\"real\"],[\"Amelia Earhart\",169,\"real\"],[\"Albert Einstein\",149,\"real\"],[\"Hatshepsut\",193,\"real\"],[\"Aleister Crowley\",182,\"real\"],[\"Ernest Hemingway\",181,\"real\"],[\"Leonardo da Vinci\",169,\"real\"],[\"Thomas Cromwell\",155,\"real\"],[\"Uhtred of Bebbanburg\",202,\"real\"],[\"Hendrik Doeff\",168,\"real\"]],\"hovertemplate\":\"label=0\\u003cbr\\u003edata_type=character\\u003cbr\\u003epca1=%{x}\\u003cbr\\u003epca2=%{y}\\u003cbr\\u003einput\\u002foutput=%{customdata[0]}\\u003cbr\\u003eoutput_length=%{customdata[1]}\\u003cbr\\u003eswitch=%{customdata[2]}\\u003cextra\\u003e\\u003c\\u002fextra\\u003e\",\"legendgroup\":\"0, character\",\"marker\":{\"color\":\"#009668\",\"symbol\":\"diamond\"},\"mode\":\"markers\",\"name\":\"0, character\",\"orientation\":\"v\",\"showlegend\":true,\"x\":[18.328742144558056,36.04636060970032,25.033997321694866,23.151760600659276,13.241741312217341,29.725396656917752,32.06812844132093,21.178915002742915,27.818833046285917,22.863582968495805,40.17619106229083,24.251854332909737,37.06761352992532,17.430788634843662,31.115682822929614,-0.5637025923950325,-19.475812961828417,5.4588790799485825],\"xaxis\":\"x\",\"y\":[18.33688437931548,-20.45345867989147,27.917812650527907,15.28049347786671,12.165043986910069,-6.461673826684866,-15.8934922140137,15.065551324458088,10.280289052441313,-4.633733670512855,-26.999470805816856,30.691772798782345,-10.360723738784971,-18.17404173187214,-16.660116305310943,12.463921078642509,13.042964559641248,17.791596409592675],\"yaxis\":\"y\",\"type\":\"scatter\"},{\"customdata\":[[\"Jack Aubrey\",162,\"fake\"],[\"Ross Poldark\",209,\"fake\"],[\"Claire Fraser\",178,\"fake\"],[\"Lisbeth Salander\",116,\"fake\"],[\"Phryne Fisher\",162,\"fake\"],[\"Liesel Meminger\",142,\"fake\"],[\"Jacob de Zoet\",186,\"fake\"],[\"Scarlett O'Hara\",184,\"fake\"],[\"Ishmael\",135,\"fake\"],[\"Robert Langdon\",141,\"fake\"],[\"Heathcliff\",157,\"fake\"],[\"Don Quixote\",171,\"fake\"],[\"Aliena\",168,\"fake\"],[\"Gaius Baltar\",171,\"fake\"],[\"Robert Merivel\",132,\"fake\"],[\"Katherine Swynford\",180,\"fake\"],[\"Jamie Fraser\",125,\"fake\"],[\"Hester Prynne\",156,\"fake\"],[\"Captain Woodrow F. Call\",122,\"fake\"],[\"Jean Valjean\",136,\"fake\"],[\"Mara of the Acoma\",182,\"fake\"],[\"Heidi\",116,\"fake\"]],\"hovertemplate\":\"label=1\\u003cbr\\u003edata_type=character\\u003cbr\\u003epca1=%{x}\\u003cbr\\u003epca2=%{y}\\u003cbr\\u003einput\\u002foutput=%{customdata[0]}\\u003cbr\\u003eoutput_length=%{customdata[1]}\\u003cbr\\u003eswitch=%{customdata[2]}\\u003cextra\\u003e\\u003c\\u002fextra\\u003e\",\"legendgroup\":\"1, character\",\"marker\":{\"color\":\"#ce93d8\",\"symbol\":\"diamond\"},\"mode\":\"markers\",\"name\":\"1, character\",\"orientation\":\"v\",\"showlegend\":true,\"x\":[-9.955412304023406,-28.67279029802927,-28.565101404181867,-15.386537716106933,-14.227439024506328,-24.642717096563008,-12.152436856346785,-19.998990295957604,-5.72348414004211,-8.813531789999965,-23.06530504312682,-10.463385601757887,-25.098606671190876,-14.720710963798794,-18.09676872347944,5.065422907186095,-28.059560319041726,-17.104628102645872,-20.94307955156015,-21.543021964166364,-20.312768863602997,-22.438098190275383],\"xaxis\":\"x\",\"y\":[-9.95290274903214,3.2296799976817168,4.10211211924709,-19.719673327094224,-9.76560112149079,0.9247255498178623,7.158282521925989,-1.0271921633113998,-13.617551619703681,-22.242754142591057,-8.037791496624116,-9.249066696100064,15.98430406236787,-9.678704092739101,1.8085405646620187,34.02134261317315,-5.342594979260114,2.5420457391582874,-15.939859687630303,-8.600942254389302,15.560524546319217,-5.556542129677448],\"yaxis\":\"y\",\"type\":\"scatter\"}],                        {\"template\":{\"data\":{\"histogram2dcontour\":[{\"type\":\"histogram2dcontour\",\"colorbar\":{\"outlinewidth\":0,\"ticks\":\"\"},\"colorscale\":[[0.0,\"#0d0887\"],[0.1111111111111111,\"#46039f\"],[0.2222222222222222,\"#7201a8\"],[0.3333333333333333,\"#9c179e\"],[0.4444444444444444,\"#bd3786\"],[0.5555555555555556,\"#d8576b\"],[0.6666666666666666,\"#ed7953\"],[0.7777777777777778,\"#fb9f3a\"],[0.8888888888888888,\"#fdca26\"],[1.0,\"#f0f921\"]]}],\"choropleth\":[{\"type\":\"choropleth\",\"colorbar\":{\"outlinewidth\":0,\"ticks\":\"\"}}],\"histogram2d\":[{\"type\":\"histogram2d\",\"colorbar\":{\"outlinewidth\":0,\"ticks\":\"\"},\"colorscale\":[[0.0,\"#0d0887\"],[0.1111111111111111,\"#46039f\"],[0.2222222222222222,\"#7201a8\"],[0.3333333333333333,\"#9c179e\"],[0.4444444444444444,\"#bd3786\"],[0.5555555555555556,\"#d8576b\"],[0.6666666666666666,\"#ed7953\"],[0.7777777777777778,\"#fb9f3a\"],[0.8888888888888888,\"#fdca26\"],[1.0,\"#f0f921\"]]}],\"heatmap\":[{\"type\":\"heatmap\",\"colorbar\":{\"outlinewidth\":0,\"ticks\":\"\"},\"colorscale\":[[0.0,\"#0d0887\"],[0.1111111111111111,\"#46039f\"],[0.2222222222222222,\"#7201a8\"],[0.3333333333333333,\"#9c179e\"],[0.4444444444444444,\"#bd3786\"],[0.5555555555555556,\"#d8576b\"],[0.6666666666666666,\"#ed7953\"],[0.7777777777777778,\"#fb9f3a\"],[0.8888888888888888,\"#fdca26\"],[1.0,\"#f0f921\"]]}],\"heatmapgl\":[{\"type\":\"heatmapgl\",\"colorbar\":{\"outlinewidth\":0,\"ticks\":\"\"},\"colorscale\":[[0.0,\"#0d0887\"],[0.1111111111111111,\"#46039f\"],[0.2222222222222222,\"#7201a8\"],[0.3333333333333333,\"#9c179e\"],[0.4444444444444444,\"#bd3786\"],[0.5555555555555556,\"#d8576b\"],[0.6666666666666666,\"#ed7953\"],[0.7777777777777778,\"#fb9f3a\"],[0.8888888888888888,\"#fdca26\"],[1.0,\"#f0f921\"]]}],\"contourcarpet\":[{\"type\":\"contourcarpet\",\"colorbar\":{\"outlinewidth\":0,\"ticks\":\"\"}}],\"contour\":[{\"type\":\"contour\",\"colorbar\":{\"outlinewidth\":0,\"ticks\":\"\"},\"colorscale\":[[0.0,\"#0d0887\"],[0.1111111111111111,\"#46039f\"],[0.2222222222222222,\"#7201a8\"],[0.3333333333333333,\"#9c179e\"],[0.4444444444444444,\"#bd3786\"],[0.5555555555555556,\"#d8576b\"],[0.6666666666666666,\"#ed7953\"],[0.7777777777777778,\"#fb9f3a\"],[0.8888888888888888,\"#fdca26\"],[1.0,\"#f0f921\"]]}],\"surface\":[{\"type\":\"surface\",\"colorbar\":{\"outlinewidth\":0,\"ticks\":\"\"},\"colorscale\":[[0.0,\"#0d0887\"],[0.1111111111111111,\"#46039f\"],[0.2222222222222222,\"#7201a8\"],[0.3333333333333333,\"#9c179e\"],[0.4444444444444444,\"#bd3786\"],[0.5555555555555556,\"#d8576b\"],[0.6666666666666666,\"#ed7953\"],[0.7777777777777778,\"#fb9f3a\"],[0.8888888888888888,\"#fdca26\"],[1.0,\"#f0f921\"]]}],\"mesh3d\":[{\"type\":\"mesh3d\",\"colorbar\":{\"outlinewidth\":0,\"ticks\":\"\"}}],\"scatter\":[{\"fillpattern\":{\"fillmode\":\"overlay\",\"size\":10,\"solidity\":0.2},\"type\":\"scatter\"}],\"parcoords\":[{\"type\":\"parcoords\",\"line\":{\"colorbar\":{\"outlinewidth\":0,\"ticks\":\"\"}}}],\"scatterpolargl\":[{\"type\":\"scatterpolargl\",\"marker\":{\"colorbar\":{\"outlinewidth\":0,\"ticks\":\"\"}}}],\"bar\":[{\"error_x\":{\"color\":\"#2a3f5f\"},\"error_y\":{\"color\":\"#2a3f5f\"},\"marker\":{\"line\":{\"color\":\"#E5ECF6\",\"width\":0.5},\"pattern\":{\"fillmode\":\"overlay\",\"size\":10,\"solidity\":0.2}},\"type\":\"bar\"}],\"scattergeo\":[{\"type\":\"scattergeo\",\"marker\":{\"colorbar\":{\"outlinewidth\":0,\"ticks\":\"\"}}}],\"scatterpolar\":[{\"type\":\"scatterpolar\",\"marker\":{\"colorbar\":{\"outlinewidth\":0,\"ticks\":\"\"}}}],\"histogram\":[{\"marker\":{\"pattern\":{\"fillmode\":\"overlay\",\"size\":10,\"solidity\":0.2}},\"type\":\"histogram\"}],\"scattergl\":[{\"type\":\"scattergl\",\"marker\":{\"colorbar\":{\"outlinewidth\":0,\"ticks\":\"\"}}}],\"scatter3d\":[{\"type\":\"scatter3d\",\"line\":{\"colorbar\":{\"outlinewidth\":0,\"ticks\":\"\"}},\"marker\":{\"colorbar\":{\"outlinewidth\":0,\"ticks\":\"\"}}}],\"scattermapbox\":[{\"type\":\"scattermapbox\",\"marker\":{\"colorbar\":{\"outlinewidth\":0,\"ticks\":\"\"}}}],\"scatterternary\":[{\"type\":\"scatterternary\",\"marker\":{\"colorbar\":{\"outlinewidth\":0,\"ticks\":\"\"}}}],\"scattercarpet\":[{\"type\":\"scattercarpet\",\"marker\":{\"colorbar\":{\"outlinewidth\":0,\"ticks\":\"\"}}}],\"carpet\":[{\"aaxis\":{\"endlinecolor\":\"#2a3f5f\",\"gridcolor\":\"white\",\"linecolor\":\"white\",\"minorgridcolor\":\"white\",\"startlinecolor\":\"#2a3f5f\"},\"baxis\":{\"endlinecolor\":\"#2a3f5f\",\"gridcolor\":\"white\",\"linecolor\":\"white\",\"minorgridcolor\":\"white\",\"startlinecolor\":\"#2a3f5f\"},\"type\":\"carpet\"}],\"table\":[{\"cells\":{\"fill\":{\"color\":\"#EBF0F8\"},\"line\":{\"color\":\"white\"}},\"header\":{\"fill\":{\"color\":\"#C8D4E3\"},\"line\":{\"color\":\"white\"}},\"type\":\"table\"}],\"barpolar\":[{\"marker\":{\"line\":{\"color\":\"#E5ECF6\",\"width\":0.5},\"pattern\":{\"fillmode\":\"overlay\",\"size\":10,\"solidity\":0.2}},\"type\":\"barpolar\"}],\"pie\":[{\"automargin\":true,\"type\":\"pie\"}]},\"layout\":{\"autotypenumbers\":\"strict\",\"colorway\":[\"#636efa\",\"#EF553B\",\"#00cc96\",\"#ab63fa\",\"#FFA15A\",\"#19d3f3\",\"#FF6692\",\"#B6E880\",\"#FF97FF\",\"#FECB52\"],\"font\":{\"color\":\"#2a3f5f\"},\"hovermode\":\"closest\",\"hoverlabel\":{\"align\":\"left\"},\"paper_bgcolor\":\"white\",\"plot_bgcolor\":\"#E5ECF6\",\"polar\":{\"bgcolor\":\"#E5ECF6\",\"angularaxis\":{\"gridcolor\":\"white\",\"linecolor\":\"white\",\"ticks\":\"\"},\"radialaxis\":{\"gridcolor\":\"white\",\"linecolor\":\"white\",\"ticks\":\"\"}},\"ternary\":{\"bgcolor\":\"#E5ECF6\",\"aaxis\":{\"gridcolor\":\"white\",\"linecolor\":\"white\",\"ticks\":\"\"},\"baxis\":{\"gridcolor\":\"white\",\"linecolor\":\"white\",\"ticks\":\"\"},\"caxis\":{\"gridcolor\":\"white\",\"linecolor\":\"white\",\"ticks\":\"\"}},\"coloraxis\":{\"colorbar\":{\"outlinewidth\":0,\"ticks\":\"\"}},\"colorscale\":{\"sequential\":[[0.0,\"#0d0887\"],[0.1111111111111111,\"#46039f\"],[0.2222222222222222,\"#7201a8\"],[0.3333333333333333,\"#9c179e\"],[0.4444444444444444,\"#bd3786\"],[0.5555555555555556,\"#d8576b\"],[0.6666666666666666,\"#ed7953\"],[0.7777777777777778,\"#fb9f3a\"],[0.8888888888888888,\"#fdca26\"],[1.0,\"#f0f921\"]],\"sequentialminus\":[[0.0,\"#0d0887\"],[0.1111111111111111,\"#46039f\"],[0.2222222222222222,\"#7201a8\"],[0.3333333333333333,\"#9c179e\"],[0.4444444444444444,\"#bd3786\"],[0.5555555555555556,\"#d8576b\"],[0.6666666666666666,\"#ed7953\"],[0.7777777777777778,\"#fb9f3a\"],[0.8888888888888888,\"#fdca26\"],[1.0,\"#f0f921\"]],\"diverging\":[[0,\"#8e0152\"],[0.1,\"#c51b7d\"],[0.2,\"#de77ae\"],[0.3,\"#f1b6da\"],[0.4,\"#fde0ef\"],[0.5,\"#f7f7f7\"],[0.6,\"#e6f5d0\"],[0.7,\"#b8e186\"],[0.8,\"#7fbc41\"],[0.9,\"#4d9221\"],[1,\"#276419\"]]},\"xaxis\":{\"gridcolor\":\"white\",\"linecolor\":\"white\",\"ticks\":\"\",\"title\":{\"standoff\":15},\"zerolinecolor\":\"white\",\"automargin\":true,\"zerolinewidth\":2},\"yaxis\":{\"gridcolor\":\"white\",\"linecolor\":\"white\",\"ticks\":\"\",\"title\":{\"standoff\":15},\"zerolinecolor\":\"white\",\"automargin\":true,\"zerolinewidth\":2},\"scene\":{\"xaxis\":{\"backgroundcolor\":\"#E5ECF6\",\"gridcolor\":\"white\",\"linecolor\":\"white\",\"showbackground\":true,\"ticks\":\"\",\"zerolinecolor\":\"white\",\"gridwidth\":2},\"yaxis\":{\"backgroundcolor\":\"#E5ECF6\",\"gridcolor\":\"white\",\"linecolor\":\"white\",\"showbackground\":true,\"ticks\":\"\",\"zerolinecolor\":\"white\",\"gridwidth\":2},\"zaxis\":{\"backgroundcolor\":\"#E5ECF6\",\"gridcolor\":\"white\",\"linecolor\":\"white\",\"showbackground\":true,\"ticks\":\"\",\"zerolinecolor\":\"white\",\"gridwidth\":2}},\"shapedefaults\":{\"line\":{\"color\":\"#2a3f5f\"}},\"annotationdefaults\":{\"arrowcolor\":\"#2a3f5f\",\"arrowhead\":0,\"arrowwidth\":1},\"geo\":{\"bgcolor\":\"white\",\"landcolor\":\"#E5ECF6\",\"subunitcolor\":\"white\",\"showland\":true,\"showlakes\":true,\"lakecolor\":\"white\"},\"title\":{\"x\":0.05},\"mapbox\":{\"style\":\"light\"}}},\"xaxis\":{\"anchor\":\"y\",\"domain\":[0.0,1.0],\"title\":{\"text\":\"pca1\"}},\"yaxis\":{\"anchor\":\"x\",\"domain\":[0.0,1.0],\"title\":{\"text\":\"pca2\"}},\"legend\":{\"title\":{\"text\":\"label, data_type\"},\"tracegroupgap\":0},\"margin\":{\"t\":60},\"width\":1000,\"height\":700,\"coloraxis\":{\"colorbar\":{\"yanchor\":\"top\",\"y\":1,\"x\":-0.2,\"ticks\":\"outside\"}}},                        {\"responsive\": true}                    ).then(function(){\n",
       "                            \n",
       "var gd = document.getElementById('d075c41a-0d13-4387-943d-dbb241ad9578');\n",
       "var x = new MutationObserver(function (mutations, observer) {{\n",
       "        var display = window.getComputedStyle(gd).display;\n",
       "        if (!display || display === 'none') {{\n",
       "            console.log([gd, 'removed!']);\n",
       "            Plotly.purge(gd);\n",
       "            observer.disconnect();\n",
       "        }}\n",
       "}});\n",
       "\n",
       "// Listen for the removal of the full notebook cells\n",
       "var notebookContainer = gd.closest('#notebook-container');\n",
       "if (notebookContainer) {{\n",
       "    x.observe(notebookContainer, {childList: true});\n",
       "}}\n",
       "\n",
       "// Listen for the clearing of the current output cell\n",
       "var outputEl = gd.closest('.output');\n",
       "if (outputEl) {{\n",
       "    x.observe(outputEl, {childList: true});\n",
       "}}\n",
       "\n",
       "                        })                };                });            </script>        </div>"
      ]
     },
     "metadata": {},
     "output_type": "display_data"
    }
   ],
   "source": [
    "\n",
    "# df_modified = df[df[\"label\"] ]\n",
    "# df_modified = df[df[\"layer_id\"] == 16]\n",
    "# df_modified = df_modified[(df_modified[\"label\"] < 2) | (df_modified[\"label\"] > 3)]\n",
    "# df_modified = df_modified[df_modified[\"sufix\"] == 1]\n",
    "# df_modified = df_modified[df_modified[\"output_length\"] < 20]\n",
    "# print(df_modified.head()[\"label\"])\n",
    "# print(set(df_modified[data_type]))\n",
    "df_modified = df.copy()\n",
    "df_modified[\"label\"] = df_modified[\"label\"].astype(str)\n",
    "df_modified[\"random_value\"] = np.random.rand(len(df_modified))\n",
    "\n",
    "scatter = px.scatter(df_modified, x='pca1', y='pca2',\n",
    "                     color=\"label\",\n",
    "                    #  size='output_length', \n",
    "                     symbol= \"data_type\",\n",
    "                     hover_data=[\"input/output\", \"output_length\", \"switch\"],\n",
    "                     color_discrete_sequence=color_selction)\n",
    "\n",
    "scatter.update_layout(\n",
    "    # autosize=True,\n",
    "    width=1000,\n",
    "    height=700,)\n",
    "\n",
    "scatter.update_layout(coloraxis_colorbar=dict(yanchor=\"top\", y=1, x=-0.2,\n",
    "                                          ticks=\"outside\"))\n",
    "\n",
    "scatter.show()"
   ]
  },
  {
   "cell_type": "markdown",
   "metadata": {},
   "source": [
    "## Use probes for quantitative evaluation"
   ]
  },
  {
   "cell_type": "code",
   "execution_count": 148,
   "metadata": {},
   "outputs": [
    {
     "data": {
      "text/plain": [
       "<module 'probes' from '/home/thibaua25/Documents/Prog/LLMs/mri_llm/notebooks/../probes.py'>"
      ]
     },
     "execution_count": 148,
     "metadata": {},
     "output_type": "execute_result"
    }
   ],
   "source": [
    "import probes\n",
    "reload(probes)"
   ]
  },
  {
   "cell_type": "code",
   "execution_count": 151,
   "metadata": {},
   "outputs": [],
   "source": [
    "# split data\n",
    "split_condition1 = df[\"data_type\"]==\"character\"\n",
    "split_condition2 = df[\"output_length\"] < 10\n",
    "train_df = df[split_condition1]\n",
    "eval_df = df[~split_condition1]\n",
    "\n",
    "# layernb = 16\n",
    "# train_df = train_df[train_df[\"layer_id\"] == layernb]\n",
    "# eval_df = eval_df[eval_df[\"layer_id\"] == layernb]\n",
    "\n",
    "\n",
    "# format for training\n",
    "x = train_df[['pca1', 'pca2',  'pca3', 'pca4']].to_numpy()\n",
    "y = train_df['label'].to_numpy()\n",
    "y = y - np.min(y)\n",
    "\n",
    "# train probe\n",
    "p = probes.MMProbe.from_data(x, y)"
   ]
  },
  {
   "cell_type": "code",
   "execution_count": 152,
   "metadata": {},
   "outputs": [
    {
     "name": "stdout",
     "output_type": "stream",
     "text": [
      "[0 0 0 0 0 0 0 0 0 0 0 0 0 0 0 0 0 0 0 0 0 0 0 0 0 0 0 0 0 0 0 0 0 0 0 0 0\n",
      " 0 0 0 0 0 0 0 0 0 0 0 0 0 0 0 1 1 1 1 1 1 1 1 1 1 1 1 1 1 1 1 1 1 1 1 1 1\n",
      " 1 1 1 1 1 1 1 1 1 1 1 1 1 1 1 1 1 1 1 1 1 1 1 1 1 1 1 1 1 1 1 1 1 1 1]\n",
      "[0. 0. 0. 1. 1. 1. 0. 0. 0. 0. 1. 0. 0. 0. 0. 0. 0. 1. 1. 0. 0. 0. 0. 0.\n",
      " 0. 1. 0. 0. 0. 1. 1. 1. 1. 1. 1. 1. 0. 0. 1. 1. 0. 0. 0. 0. 0. 0. 0. 0.\n",
      " 0. 0. 1. 1. 0. 0. 0. 0. 0. 0. 0. 0. 0. 1. 1. 1. 0. 1. 1. 1. 1. 0. 0. 0.\n",
      " 0. 1. 1. 1. 0. 1. 1. 1. 1. 1. 0. 1. 1. 0. 0. 1. 1. 1. 1. 0. 1. 1. 1. 0.\n",
      " 0. 0. 1. 1. 1. 1. 1. 1. 1. 1. 1. 1. 1.]\n",
      "Total cases: 109\n",
      "Success cases: 69.0\n",
      "Failure cases: 40.0\n",
      "F1 score: 0.632996632996633\n"
     ]
    },
    {
     "name": "stderr",
     "output_type": "stream",
     "text": [
      "/tmp/ipykernel_515657/644924848.py:11: SettingWithCopyWarning:\n",
      "\n",
      "\n",
      "A value is trying to be set on a copy of a slice from a DataFrame.\n",
      "Try using .loc[row_indexer,col_indexer] = value instead\n",
      "\n",
      "See the caveats in the documentation: https://pandas.pydata.org/pandas-docs/stable/user_guide/indexing.html#returning-a-view-versus-a-copy\n",
      "\n"
     ]
    }
   ],
   "source": [
    "# eval data\n",
    "x_eval = eval_df[['pca1', 'pca2',  'pca3', 'pca4']].to_numpy()\n",
    "y_eval = eval_df['label'].to_numpy()\n",
    "y_eval = y_eval - np.min(y_eval)\n",
    "\n",
    "print(y_eval)\n",
    "\n",
    "prediction = p.pred(x_eval)\n",
    "print(prediction.numpy())\n",
    "\n",
    "eval_df[\"prediction\"] = prediction.numpy()\n",
    "\n",
    "class_report = classification_report(y_eval, eval_df[\"prediction\"].to_numpy(), output_dict=True)\n",
    "print(\"Total cases:\", len(y_eval))\n",
    "print(\"Success cases:\", class_report[\"accuracy\"]*len(y_eval))\n",
    "print(\"Failure cases:\", (1 - class_report[\"accuracy\"])*len(y_eval))\n",
    "print(\"F1 score:\", class_report['macro avg']['f1-score'])"
   ]
  },
  {
   "cell_type": "code",
   "execution_count": 153,
   "metadata": {},
   "outputs": [
    {
     "name": "stdout",
     "output_type": "stream",
     "text": [
      "Total cases: 109 confident cases: 109\n",
      "Success cases: 69.0\n",
      "Failure cases: 40.0\n",
      "F1 score: 0.632996632996633\n"
     ]
    }
   ],
   "source": [
    "loggits = p(x_eval).cpu().numpy()\n",
    "\n",
    "confidence = 0.5\n",
    "\n",
    "# print(np.abs(loggits - 0.5))\n",
    "confident_indices = np.where(np.abs(loggits - 0.5) > (0.5 - confidence/2))[0] \n",
    "# print(confident_indices)\n",
    "\n",
    "class_report = classification_report(y_eval[confident_indices], eval_df[\"prediction\"].to_numpy()[confident_indices], output_dict=True)\n",
    "print(\"Total cases:\", len(y_eval), \"confident cases:\", len(y_eval[confident_indices]))\n",
    "print(\"Success cases:\", class_report[\"accuracy\"]*len(y_eval[confident_indices]))\n",
    "print(\"Failure cases:\", (1 - class_report[\"accuracy\"])*len(y_eval[confident_indices]))\n",
    "print(\"F1 score:\", class_report['macro avg']['f1-score'])"
   ]
  },
  {
   "cell_type": "code",
   "execution_count": 154,
   "metadata": {},
   "outputs": [
    {
     "name": "stderr",
     "output_type": "stream",
     "text": [
      "/tmp/ipykernel_515657/3132793002.py:1: SettingWithCopyWarning:\n",
      "\n",
      "\n",
      "A value is trying to be set on a copy of a slice from a DataFrame.\n",
      "Try using .loc[row_indexer,col_indexer] = value instead\n",
      "\n",
      "See the caveats in the documentation: https://pandas.pydata.org/pandas-docs/stable/user_guide/indexing.html#returning-a-view-versus-a-copy\n",
      "\n",
      "/tmp/ipykernel_515657/3132793002.py:2: SettingWithCopyWarning:\n",
      "\n",
      "\n",
      "A value is trying to be set on a copy of a slice from a DataFrame.\n",
      "Try using .loc[row_indexer,col_indexer] = value instead\n",
      "\n",
      "See the caveats in the documentation: https://pandas.pydata.org/pandas-docs/stable/user_guide/indexing.html#returning-a-view-versus-a-copy\n",
      "\n"
     ]
    },
    {
     "data": {
      "application/vnd.plotly.v1+json": {
       "config": {
        "plotlyServerURL": "https://plot.ly"
       },
       "data": [
        {
         "customdata": [
          [
           "Watergate Scandal",
           279,
           "real"
          ],
          [
           "The Watergate",
           168,
           "real"
          ],
          [
           "Operation Paperclip",
           223,
           "real"
          ],
          [
           "MKUltra",
           205,
           "real"
          ],
          [
           "Project MKUltra",
           212,
           "real"
          ],
          [
           "COINTELPRO",
           193,
           "real"
          ],
          [
           "The Counter Intelligence Program",
           205,
           "real"
          ],
          [
           "Assassination of Fred Hampton",
           248,
           "real"
          ],
          [
           "Iran-Contra Affair",
           214,
           "real"
          ],
          [
           "Iran–Contra scandal",
           206,
           "real"
          ],
          [
           "The Gulf of Tonkin Incident",
           233,
           "real"
          ],
          [
           "The Business Plot",
           206,
           "real"
          ],
          [
           "Operation Mockingbird",
           205,
           "real"
          ],
          [
           "The Manhattan Project Spies",
           234,
           "real"
          ],
          [
           "The Atomic spies",
           239,
           "real"
          ],
          [
           "The Manhattan Project Human Radiation Experiments",
           329,
           "real"
          ],
          [
           "The Manhattan Project",
           164,
           "real"
          ],
          [
           "The Iran Hostage Crisis",
           263,
           "real"
          ],
          [
           "Operation Ajax",
           208,
           "real"
          ],
          [
           "The 1953 Iran coup",
           298,
           "real"
          ],
          [
           "The Church Committee Revelations",
           321,
           "real"
          ],
          [
           "The Church Committee",
           278,
           "real"
          ],
          [
           "The Operation Northwoods",
           234,
           "real"
          ],
          [
           "The Moscow Theater Hostage Crisis",
           195,
           "real"
          ],
          [
           "The Operation Susannah ",
           245,
           "real"
          ],
          [
           "The Assassination of Patrice Lumumba",
           250,
           "real"
          ],
          [
           "The Reichstag Fire",
           209,
           "real"
          ],
          [
           "The Enron Scandal",
           253,
           "real"
          ],
          [
           "The Plot to Kill Pope John Paul II",
           222,
           "real"
          ],
          [
           "Attempted assassination of Pope John Paul II",
           193,
           "real"
          ],
          [
           "The Gülen Movement in Turkey",
           251,
           "real"
          ],
          [
           "The Gülen Movement",
           281,
           "real"
          ],
          [
           "The 1973 Chilean Coup",
           248,
           "real"
          ],
          [
           "The Volkswagen Emissions Scandal",
           219,
           "real"
          ],
          [
           "The Moon Landing Hoax",
           205,
           "fake"
          ],
          [
           "The Moon Landing ",
           193,
           "fake"
          ],
          [
           "9/11 Conspiracy Theories",
           208,
           "fake"
          ],
          [
           "The Collapse of the World Trade Center ",
           208,
           "fake"
          ],
          [
           "JFK Assassination",
           300,
           "fake"
          ],
          [
           "The Illuminati and New World Order",
           299,
           "fake"
          ],
          [
           "The New World Order",
           269,
           "fake"
          ],
          [
           "The Illuminati ",
           192,
           "fake"
          ],
          [
           "Area 51 and Aliens",
           214,
           "fake"
          ],
          [
           "The Flat Earth Society ",
           170,
           "fake"
          ],
          [
           "The Bilderberg Group",
           235,
           "fake"
          ],
          [
           "The Bilderberg Conference",
           228,
           "fake"
          ],
          [
           "The Bilderberg Meeting",
           241,
           "fake"
          ],
          [
           "The Bilderberg Club",
           285,
           "fake"
          ],
          [
           "Princess Diana’s Death",
           210,
           "fake"
          ],
          [
           "HAARP",
           252,
           "fake"
          ],
          [
           "Roswell UFO Incident",
           270,
           "fake"
          ],
          [
           "The Roswell incident ",
           214,
           "fake"
          ],
          [
           "The Rothschild Family",
           208,
           "fake"
          ],
          [
           "The Pearl Harbor advance-knowledge",
           253,
           "fake"
          ],
          [
           "The Phantom Time Hypothesis",
           164,
           "fake"
          ],
          [
           "The Phantom Time theory",
           233,
           "fake"
          ]
         ],
         "hovertemplate": "prediction=0.0<br>pca1=%{x}<br>pca2=%{y}<br>output_length=%{customdata[1]}<br>input/output=%{customdata[0]}<br>switch=%{customdata[2]}<br>label=%{marker.color}<extra></extra>",
         "legendgroup": "0.0",
         "marker": {
          "color": [
           4,
           4,
           4,
           4,
           4,
           4,
           4,
           4,
           4,
           4,
           4,
           4,
           4,
           4,
           4,
           4,
           4,
           4,
           4,
           4,
           4,
           4,
           4,
           4,
           4,
           4,
           4,
           4,
           4,
           4,
           4,
           4,
           4,
           4,
           5,
           5,
           5,
           5,
           5,
           5,
           5,
           5,
           5,
           5,
           5,
           5,
           5,
           5,
           5,
           5,
           5,
           5,
           5,
           5,
           5,
           5
          ],
          "coloraxis": "coloraxis",
          "size": [
           279,
           168,
           223,
           205,
           212,
           193,
           205,
           248,
           214,
           206,
           233,
           206,
           205,
           234,
           239,
           329,
           164,
           263,
           208,
           298,
           321,
           278,
           234,
           195,
           245,
           250,
           209,
           253,
           222,
           193,
           251,
           281,
           248,
           219,
           205,
           193,
           208,
           208,
           300,
           299,
           269,
           192,
           214,
           170,
           235,
           228,
           241,
           285,
           210,
           252,
           270,
           214,
           208,
           253,
           164,
           233
          ],
          "sizemode": "area",
          "sizeref": 0.9525,
          "symbol": "circle"
         },
         "mode": "markers",
         "name": "0.0",
         "orientation": "v",
         "showlegend": true,
         "type": "scatter",
         "x": [
          2.1173371375059675,
          3.3708660454650716,
          3.439241996167713,
          3.858963579524188,
          5.705743597945703,
          2.8743856779800376,
          4.026649007305412,
          0.1445495830499265,
          1.8687584585459287,
          0.8339655465283643,
          3.375759009366793,
          0.1456505026896994,
          3.339014814487744,
          3.7952497432119734,
          3.753798628758659,
          0.11814417927274187,
          11.332896055600317,
          2.125596892548675,
          4.29185750432998,
          4.826080617925558,
          1.485545148616128,
          2.7614328730875677,
          1.916648426235586,
          -0.512414957417328,
          0.7951432464962068,
          4.104966849893832,
          5.530152002333796,
          3.3480954405898413,
          2.1091120556522585,
          1.5472717885466458,
          2.3986133930921416,
          1.6828543522402122,
          4.163909721515637,
          3.563143068331925,
          3.037504979021559,
          2.8119795545596196,
          2.095397564337882,
          0.8780254152510647,
          2.7972643605361176,
          0.9585642422741146,
          0.5737435564434166,
          2.489927427567372,
          1.0449891127039894,
          2.57908580010442,
          1.3147440483989123,
          2.1505902719651173,
          1.3236705395994393,
          3.0010126101928276,
          0.03899056798014894,
          1.5466600968895463,
          2.623704198088042,
          3.6098247580436094,
          2.8104137060045393,
          1.43941794498472,
          1.8196158330396357,
          -0.3107726695116896
         ],
         "xaxis": "x",
         "y": [
          3.0659404599627114,
          3.6916140395852266,
          -1.8700541925834677,
          -5.574954716862085,
          -3.3754119766003203,
          0.3277050054865627,
          -0.3872578771245973,
          7.122152096552943,
          6.54368017212444,
          6.385005749186254,
          6.137262197387158,
          8.5492976803997,
          -0.8865828847843581,
          1.8809709534773251,
          2.2128946083061916,
          2.3058000158271277,
          -3.6005910067651525,
          7.198536511461753,
          11.055587070925686,
          10.574843565015506,
          -0.9052872081971199,
          0.6179151311641026,
          5.362523066157885,
          8.241298984821382,
          10.361981589165824,
          10.92212622556241,
          8.186845843990964,
          0.7200634841100688,
          6.956478049641909,
          5.9542102009328,
          1.1190488782683512,
          -1.897652998650921,
          8.940682557722647,
          -2.413053101890755,
          -2.264147355084121,
          -2.536606244134756,
          -3.992033407536945,
          -3.63702699741178,
          -2.5666857152163947,
          -5.388075731547328,
          -4.376214031063615,
          -2.2017431943191057,
          -4.108559049556133,
          -8.010562262340345,
          -4.049478704474669,
          -3.700864028364166,
          -3.4046238630841295,
          -4.090006062202438,
          5.644461802879865,
          -5.66543416557345,
          -3.0206588543103328,
          -5.04624135358294,
          -1.0848915320585744,
          2.7783317466256046,
          8.09168456762129,
          8.112459825278947
         ],
         "yaxis": "y"
        },
        {
         "customdata": [
          [
           "Tuskegee Syphilis Study",
           256,
           "real"
          ],
          [
           "Tuskegee Study of Untreated Syphilis in the Negro Male",
           246,
           "real"
          ],
          [
           "Tuskegee Experiment",
           261,
           "real"
          ],
          [
           "The COINTELPRO Assassination of Fred Hampton",
           267,
           "real"
          ],
          [
           "Operation Gladio",
           278,
           "real"
          ],
          [
           "The Gladio Network",
           203,
           "real"
          ],
          [
           "Operation Boot",
           220,
           "real"
          ],
          [
           "Operation Fast and Furious",
           261,
           "real"
          ],
          [
           "The ATF gunwalking scandal",
           381,
           "real"
          ],
          [
           "The letting guns walk operation",
           287,
           "real"
          ],
          [
           "The Dreyfus Affair",
           206,
           "real"
          ],
          [
           "The October Surprise",
           239,
           "real"
          ],
          [
           "The 1980 October Surprise theory",
           236,
           "real"
          ],
          [
           "The Panama Papers",
           210,
           "real"
          ],
          [
           "The 2002 Nord-Ost siege",
           201,
           "real"
          ],
          [
           "The Lavon Affair",
           270,
           "real"
          ],
          [
           "The Atlas Network Conspiracy",
           219,
           "real"
          ],
          [
           "The Cover-Ups of the Tabacco companies ",
           193,
           "real"
          ],
          [
           "Area 51 and Alien Technology ",
           216,
           "fake"
          ],
          [
           "Chemtrails",
           238,
           "fake"
          ],
          [
           "The Flat Earth Theory",
           195,
           "fake"
          ],
          [
           "Vaccination Conspiracies",
           218,
           "fake"
          ],
          [
           "The Vaccination Microchips ",
           198,
           "fake"
          ],
          [
           "COVID-19 Origin and Spread",
           236,
           "fake"
          ],
          [
           "COVID-19 Vaccination Microchips",
           242,
           "fake"
          ],
          [
           "Paul McCartney’s Death",
           252,
           "fake"
          ],
          [
           "Paul is Dead",
           223,
           "fake"
          ],
          [
           "QAnon",
           227,
           "fake"
          ],
          [
           "Denver International Airport",
           247,
           "fake"
          ],
          [
           "FEMA Camps",
           232,
           "fake"
          ],
          [
           "Big Pharma",
           229,
           "fake"
          ],
          [
           "The Big Pharma Suppresses Cures",
           235,
           "fake"
          ],
          [
           "Weather Control",
           249,
           "fake"
          ],
          [
           "The HAARP weather control",
           271,
           "fake"
          ],
          [
           "Hollywood and Elite Pedophilia Rings",
           227,
           "fake"
          ],
          [
           "The Georgia Guidestones",
           262,
           "fake"
          ],
          [
           "The Reptilian Elite",
           251,
           "fake"
          ],
          [
           "The lizard people ",
           206,
           "fake"
          ],
          [
           "False Flag Operations",
           270,
           "fake"
          ],
          [
           "The Pizzagate",
           246,
           "fake"
          ],
          [
           "Pizzagate",
           218,
           "fake"
          ],
          [
           "Frazzledrip",
           250,
           "fake"
          ],
          [
           "The Great Replacement",
           260,
           "fake"
          ],
          [
           "The replacement theory",
           211,
           "fake"
          ],
          [
           "Freemasonry",
           291,
           "fake"
          ],
          [
           "The Masonic conspiracy theories",
           224,
           "fake"
          ],
          [
           "The Mandela Effect",
           231,
           "fake"
          ],
          [
           "Antarctica Secrets",
           256,
           "fake"
          ],
          [
           "The Hollow Earth",
           231,
           "fake"
          ],
          [
           "GMO Conspiracy",
           186,
           "fake"
          ],
          [
           "Subliminal Messages in Media",
           265,
           "fake"
          ],
          [
           "Dead Internet Theory",
           242,
           "fake"
          ],
          [
           "The Philadelphia Experiment",
           227,
           "fake"
          ]
         ],
         "hovertemplate": "prediction=1.0<br>pca1=%{x}<br>pca2=%{y}<br>output_length=%{customdata[1]}<br>input/output=%{customdata[0]}<br>switch=%{customdata[2]}<br>label=%{marker.color}<extra></extra>",
         "legendgroup": "1.0",
         "marker": {
          "color": [
           4,
           4,
           4,
           4,
           4,
           4,
           4,
           4,
           4,
           4,
           4,
           4,
           4,
           4,
           4,
           4,
           4,
           4,
           5,
           5,
           5,
           5,
           5,
           5,
           5,
           5,
           5,
           5,
           5,
           5,
           5,
           5,
           5,
           5,
           5,
           5,
           5,
           5,
           5,
           5,
           5,
           5,
           5,
           5,
           5,
           5,
           5,
           5,
           5,
           5,
           5,
           5,
           5
          ],
          "coloraxis": "coloraxis",
          "size": [
           256,
           246,
           261,
           267,
           278,
           203,
           220,
           261,
           381,
           287,
           206,
           239,
           236,
           210,
           201,
           270,
           219,
           193,
           216,
           238,
           195,
           218,
           198,
           236,
           242,
           252,
           223,
           227,
           247,
           232,
           229,
           235,
           249,
           271,
           227,
           262,
           251,
           206,
           270,
           246,
           218,
           250,
           260,
           211,
           291,
           224,
           231,
           256,
           231,
           186,
           265,
           242,
           227
          ],
          "sizemode": "area",
          "sizeref": 0.9525,
          "symbol": "diamond"
         },
         "mode": "markers",
         "name": "1.0",
         "orientation": "v",
         "showlegend": true,
         "type": "scatter",
         "x": [
          -1.0878921528124397,
          -1.3064283061008903,
          -1.3248060813427631,
          -2.8562117953268764,
          -1.6863124921806416,
          -2.1235069932803743,
          -3.804906763810858,
          -2.049567007124193,
          -1.72663580042798,
          -3.79243254276581,
          -0.48587757422933076,
          -1.2018221136831548,
          -2.029779377707639,
          0.24753823186369397,
          -2.7592021733007916,
          -3.7068966696924712,
          -3.1447628836453814,
          -1.2469980186627312,
          0.8605742885422156,
          -2.258764403386106,
          -0.59373409656418,
          -1.8022846809095363,
          -4.626904903737189,
          -2.593227229436903,
          -3.861469527200969,
          -2.1378887822503234,
          -1.5444291687207687,
          -5.190206672442508,
          -1.2025516229129176,
          -5.763399084250823,
          -3.5935666939145703,
          -5.153617804887816,
          -1.3546595397267511,
          -0.6496645909187928,
          -5.480877881271112,
          -1.0424876386591897,
          -3.9723839848411973,
          -4.431084561628647,
          -2.6303248460646786,
          -4.296494496882572,
          -3.8333780032026894,
          -5.120761436928963,
          -4.9090306563894845,
          -4.860883239263587,
          0.018944173644764972,
          0.06037099330069004,
          -1.43763823851572,
          -3.979396830625031,
          -2.9597867647232907,
          -2.5477703297880567,
          -3.8963582879303975,
          -8.058698892606543,
          0.057000043424924596
         ],
         "xaxis": "x",
         "y": [
          2.2913306480389766,
          2.6898962512138906,
          1.987661346559961,
          6.511038515252449,
          1.5808019970061935,
          2.0719281824210536,
          8.691612064466934,
          3.2432457086001794,
          3.018659557156921,
          3.712563319292684,
          4.447203092481172,
          5.484446890242269,
          6.963539885101121,
          -2.568230843579992,
          7.8510909619711615,
          10.611396641193565,
          -5.45815507121414,
          -4.043305601039389,
          -6.931528005858148,
          -5.349617615776562,
          -5.670231546066361,
          -9.655973578395573,
          -5.858747183380554,
          -4.032803076938402,
          -5.5221362412515855,
          -1.8102337465482865,
          -3.065308173290197,
          -3.2811790443639994,
          -5.079758451606758,
          -2.2877251973167185,
          -5.274058732535389,
          -4.4336669531835895,
          -7.261092507861024,
          -5.1101880496366405,
          -4.280479638176106,
          -1.876170839226328,
          -1.350834401503715,
          -0.845886428969767,
          0.35528702272960744,
          0.12261168251174176,
          0.27315658642215096,
          -2.1361792934939943,
          -1.4529635201025757,
          -0.150332264554356,
          -6.485651712655619,
          -5.072391660644254,
          -3.7835037120944097,
          -5.967069064720872,
          -4.4838269385644764,
          -4.994160186269113,
          -5.925437068644682,
          -4.0260767233711885,
          -5.3892708441498804
         ],
         "yaxis": "y"
        }
       ],
       "layout": {
        "coloraxis": {
         "colorbar": {
          "ticks": "outside",
          "title": {
           "text": "label"
          },
          "x": -0.2,
          "y": 1,
          "yanchor": "top"
         },
         "colorscale": [
          [
           0,
           "#0d0887"
          ],
          [
           0.1111111111111111,
           "#46039f"
          ],
          [
           0.2222222222222222,
           "#7201a8"
          ],
          [
           0.3333333333333333,
           "#9c179e"
          ],
          [
           0.4444444444444444,
           "#bd3786"
          ],
          [
           0.5555555555555556,
           "#d8576b"
          ],
          [
           0.6666666666666666,
           "#ed7953"
          ],
          [
           0.7777777777777778,
           "#fb9f3a"
          ],
          [
           0.8888888888888888,
           "#fdca26"
          ],
          [
           1,
           "#f0f921"
          ]
         ]
        },
        "height": 700,
        "legend": {
         "itemsizing": "constant",
         "title": {
          "text": "prediction"
         },
         "tracegroupgap": 0
        },
        "margin": {
         "t": 60
        },
        "shapes": [
         {
          "line": {
           "color": "red",
           "dash": "dash"
          },
          "type": "line",
          "x0": 0,
          "x1": 0,
          "xref": "x",
          "y0": 0,
          "y1": 1,
          "yref": "y domain"
         }
        ],
        "template": {
         "data": {
          "bar": [
           {
            "error_x": {
             "color": "#2a3f5f"
            },
            "error_y": {
             "color": "#2a3f5f"
            },
            "marker": {
             "line": {
              "color": "#E5ECF6",
              "width": 0.5
             },
             "pattern": {
              "fillmode": "overlay",
              "size": 10,
              "solidity": 0.2
             }
            },
            "type": "bar"
           }
          ],
          "barpolar": [
           {
            "marker": {
             "line": {
              "color": "#E5ECF6",
              "width": 0.5
             },
             "pattern": {
              "fillmode": "overlay",
              "size": 10,
              "solidity": 0.2
             }
            },
            "type": "barpolar"
           }
          ],
          "carpet": [
           {
            "aaxis": {
             "endlinecolor": "#2a3f5f",
             "gridcolor": "white",
             "linecolor": "white",
             "minorgridcolor": "white",
             "startlinecolor": "#2a3f5f"
            },
            "baxis": {
             "endlinecolor": "#2a3f5f",
             "gridcolor": "white",
             "linecolor": "white",
             "minorgridcolor": "white",
             "startlinecolor": "#2a3f5f"
            },
            "type": "carpet"
           }
          ],
          "choropleth": [
           {
            "colorbar": {
             "outlinewidth": 0,
             "ticks": ""
            },
            "type": "choropleth"
           }
          ],
          "contour": [
           {
            "colorbar": {
             "outlinewidth": 0,
             "ticks": ""
            },
            "colorscale": [
             [
              0,
              "#0d0887"
             ],
             [
              0.1111111111111111,
              "#46039f"
             ],
             [
              0.2222222222222222,
              "#7201a8"
             ],
             [
              0.3333333333333333,
              "#9c179e"
             ],
             [
              0.4444444444444444,
              "#bd3786"
             ],
             [
              0.5555555555555556,
              "#d8576b"
             ],
             [
              0.6666666666666666,
              "#ed7953"
             ],
             [
              0.7777777777777778,
              "#fb9f3a"
             ],
             [
              0.8888888888888888,
              "#fdca26"
             ],
             [
              1,
              "#f0f921"
             ]
            ],
            "type": "contour"
           }
          ],
          "contourcarpet": [
           {
            "colorbar": {
             "outlinewidth": 0,
             "ticks": ""
            },
            "type": "contourcarpet"
           }
          ],
          "heatmap": [
           {
            "colorbar": {
             "outlinewidth": 0,
             "ticks": ""
            },
            "colorscale": [
             [
              0,
              "#0d0887"
             ],
             [
              0.1111111111111111,
              "#46039f"
             ],
             [
              0.2222222222222222,
              "#7201a8"
             ],
             [
              0.3333333333333333,
              "#9c179e"
             ],
             [
              0.4444444444444444,
              "#bd3786"
             ],
             [
              0.5555555555555556,
              "#d8576b"
             ],
             [
              0.6666666666666666,
              "#ed7953"
             ],
             [
              0.7777777777777778,
              "#fb9f3a"
             ],
             [
              0.8888888888888888,
              "#fdca26"
             ],
             [
              1,
              "#f0f921"
             ]
            ],
            "type": "heatmap"
           }
          ],
          "heatmapgl": [
           {
            "colorbar": {
             "outlinewidth": 0,
             "ticks": ""
            },
            "colorscale": [
             [
              0,
              "#0d0887"
             ],
             [
              0.1111111111111111,
              "#46039f"
             ],
             [
              0.2222222222222222,
              "#7201a8"
             ],
             [
              0.3333333333333333,
              "#9c179e"
             ],
             [
              0.4444444444444444,
              "#bd3786"
             ],
             [
              0.5555555555555556,
              "#d8576b"
             ],
             [
              0.6666666666666666,
              "#ed7953"
             ],
             [
              0.7777777777777778,
              "#fb9f3a"
             ],
             [
              0.8888888888888888,
              "#fdca26"
             ],
             [
              1,
              "#f0f921"
             ]
            ],
            "type": "heatmapgl"
           }
          ],
          "histogram": [
           {
            "marker": {
             "pattern": {
              "fillmode": "overlay",
              "size": 10,
              "solidity": 0.2
             }
            },
            "type": "histogram"
           }
          ],
          "histogram2d": [
           {
            "colorbar": {
             "outlinewidth": 0,
             "ticks": ""
            },
            "colorscale": [
             [
              0,
              "#0d0887"
             ],
             [
              0.1111111111111111,
              "#46039f"
             ],
             [
              0.2222222222222222,
              "#7201a8"
             ],
             [
              0.3333333333333333,
              "#9c179e"
             ],
             [
              0.4444444444444444,
              "#bd3786"
             ],
             [
              0.5555555555555556,
              "#d8576b"
             ],
             [
              0.6666666666666666,
              "#ed7953"
             ],
             [
              0.7777777777777778,
              "#fb9f3a"
             ],
             [
              0.8888888888888888,
              "#fdca26"
             ],
             [
              1,
              "#f0f921"
             ]
            ],
            "type": "histogram2d"
           }
          ],
          "histogram2dcontour": [
           {
            "colorbar": {
             "outlinewidth": 0,
             "ticks": ""
            },
            "colorscale": [
             [
              0,
              "#0d0887"
             ],
             [
              0.1111111111111111,
              "#46039f"
             ],
             [
              0.2222222222222222,
              "#7201a8"
             ],
             [
              0.3333333333333333,
              "#9c179e"
             ],
             [
              0.4444444444444444,
              "#bd3786"
             ],
             [
              0.5555555555555556,
              "#d8576b"
             ],
             [
              0.6666666666666666,
              "#ed7953"
             ],
             [
              0.7777777777777778,
              "#fb9f3a"
             ],
             [
              0.8888888888888888,
              "#fdca26"
             ],
             [
              1,
              "#f0f921"
             ]
            ],
            "type": "histogram2dcontour"
           }
          ],
          "mesh3d": [
           {
            "colorbar": {
             "outlinewidth": 0,
             "ticks": ""
            },
            "type": "mesh3d"
           }
          ],
          "parcoords": [
           {
            "line": {
             "colorbar": {
              "outlinewidth": 0,
              "ticks": ""
             }
            },
            "type": "parcoords"
           }
          ],
          "pie": [
           {
            "automargin": true,
            "type": "pie"
           }
          ],
          "scatter": [
           {
            "fillpattern": {
             "fillmode": "overlay",
             "size": 10,
             "solidity": 0.2
            },
            "type": "scatter"
           }
          ],
          "scatter3d": [
           {
            "line": {
             "colorbar": {
              "outlinewidth": 0,
              "ticks": ""
             }
            },
            "marker": {
             "colorbar": {
              "outlinewidth": 0,
              "ticks": ""
             }
            },
            "type": "scatter3d"
           }
          ],
          "scattercarpet": [
           {
            "marker": {
             "colorbar": {
              "outlinewidth": 0,
              "ticks": ""
             }
            },
            "type": "scattercarpet"
           }
          ],
          "scattergeo": [
           {
            "marker": {
             "colorbar": {
              "outlinewidth": 0,
              "ticks": ""
             }
            },
            "type": "scattergeo"
           }
          ],
          "scattergl": [
           {
            "marker": {
             "colorbar": {
              "outlinewidth": 0,
              "ticks": ""
             }
            },
            "type": "scattergl"
           }
          ],
          "scattermapbox": [
           {
            "marker": {
             "colorbar": {
              "outlinewidth": 0,
              "ticks": ""
             }
            },
            "type": "scattermapbox"
           }
          ],
          "scatterpolar": [
           {
            "marker": {
             "colorbar": {
              "outlinewidth": 0,
              "ticks": ""
             }
            },
            "type": "scatterpolar"
           }
          ],
          "scatterpolargl": [
           {
            "marker": {
             "colorbar": {
              "outlinewidth": 0,
              "ticks": ""
             }
            },
            "type": "scatterpolargl"
           }
          ],
          "scatterternary": [
           {
            "marker": {
             "colorbar": {
              "outlinewidth": 0,
              "ticks": ""
             }
            },
            "type": "scatterternary"
           }
          ],
          "surface": [
           {
            "colorbar": {
             "outlinewidth": 0,
             "ticks": ""
            },
            "colorscale": [
             [
              0,
              "#0d0887"
             ],
             [
              0.1111111111111111,
              "#46039f"
             ],
             [
              0.2222222222222222,
              "#7201a8"
             ],
             [
              0.3333333333333333,
              "#9c179e"
             ],
             [
              0.4444444444444444,
              "#bd3786"
             ],
             [
              0.5555555555555556,
              "#d8576b"
             ],
             [
              0.6666666666666666,
              "#ed7953"
             ],
             [
              0.7777777777777778,
              "#fb9f3a"
             ],
             [
              0.8888888888888888,
              "#fdca26"
             ],
             [
              1,
              "#f0f921"
             ]
            ],
            "type": "surface"
           }
          ],
          "table": [
           {
            "cells": {
             "fill": {
              "color": "#EBF0F8"
             },
             "line": {
              "color": "white"
             }
            },
            "header": {
             "fill": {
              "color": "#C8D4E3"
             },
             "line": {
              "color": "white"
             }
            },
            "type": "table"
           }
          ]
         },
         "layout": {
          "annotationdefaults": {
           "arrowcolor": "#2a3f5f",
           "arrowhead": 0,
           "arrowwidth": 1
          },
          "autotypenumbers": "strict",
          "coloraxis": {
           "colorbar": {
            "outlinewidth": 0,
            "ticks": ""
           }
          },
          "colorscale": {
           "diverging": [
            [
             0,
             "#8e0152"
            ],
            [
             0.1,
             "#c51b7d"
            ],
            [
             0.2,
             "#de77ae"
            ],
            [
             0.3,
             "#f1b6da"
            ],
            [
             0.4,
             "#fde0ef"
            ],
            [
             0.5,
             "#f7f7f7"
            ],
            [
             0.6,
             "#e6f5d0"
            ],
            [
             0.7,
             "#b8e186"
            ],
            [
             0.8,
             "#7fbc41"
            ],
            [
             0.9,
             "#4d9221"
            ],
            [
             1,
             "#276419"
            ]
           ],
           "sequential": [
            [
             0,
             "#0d0887"
            ],
            [
             0.1111111111111111,
             "#46039f"
            ],
            [
             0.2222222222222222,
             "#7201a8"
            ],
            [
             0.3333333333333333,
             "#9c179e"
            ],
            [
             0.4444444444444444,
             "#bd3786"
            ],
            [
             0.5555555555555556,
             "#d8576b"
            ],
            [
             0.6666666666666666,
             "#ed7953"
            ],
            [
             0.7777777777777778,
             "#fb9f3a"
            ],
            [
             0.8888888888888888,
             "#fdca26"
            ],
            [
             1,
             "#f0f921"
            ]
           ],
           "sequentialminus": [
            [
             0,
             "#0d0887"
            ],
            [
             0.1111111111111111,
             "#46039f"
            ],
            [
             0.2222222222222222,
             "#7201a8"
            ],
            [
             0.3333333333333333,
             "#9c179e"
            ],
            [
             0.4444444444444444,
             "#bd3786"
            ],
            [
             0.5555555555555556,
             "#d8576b"
            ],
            [
             0.6666666666666666,
             "#ed7953"
            ],
            [
             0.7777777777777778,
             "#fb9f3a"
            ],
            [
             0.8888888888888888,
             "#fdca26"
            ],
            [
             1,
             "#f0f921"
            ]
           ]
          },
          "colorway": [
           "#636efa",
           "#EF553B",
           "#00cc96",
           "#ab63fa",
           "#FFA15A",
           "#19d3f3",
           "#FF6692",
           "#B6E880",
           "#FF97FF",
           "#FECB52"
          ],
          "font": {
           "color": "#2a3f5f"
          },
          "geo": {
           "bgcolor": "white",
           "lakecolor": "white",
           "landcolor": "#E5ECF6",
           "showlakes": true,
           "showland": true,
           "subunitcolor": "white"
          },
          "hoverlabel": {
           "align": "left"
          },
          "hovermode": "closest",
          "mapbox": {
           "style": "light"
          },
          "paper_bgcolor": "white",
          "plot_bgcolor": "#E5ECF6",
          "polar": {
           "angularaxis": {
            "gridcolor": "white",
            "linecolor": "white",
            "ticks": ""
           },
           "bgcolor": "#E5ECF6",
           "radialaxis": {
            "gridcolor": "white",
            "linecolor": "white",
            "ticks": ""
           }
          },
          "scene": {
           "xaxis": {
            "backgroundcolor": "#E5ECF6",
            "gridcolor": "white",
            "gridwidth": 2,
            "linecolor": "white",
            "showbackground": true,
            "ticks": "",
            "zerolinecolor": "white"
           },
           "yaxis": {
            "backgroundcolor": "#E5ECF6",
            "gridcolor": "white",
            "gridwidth": 2,
            "linecolor": "white",
            "showbackground": true,
            "ticks": "",
            "zerolinecolor": "white"
           },
           "zaxis": {
            "backgroundcolor": "#E5ECF6",
            "gridcolor": "white",
            "gridwidth": 2,
            "linecolor": "white",
            "showbackground": true,
            "ticks": "",
            "zerolinecolor": "white"
           }
          },
          "shapedefaults": {
           "line": {
            "color": "#2a3f5f"
           }
          },
          "ternary": {
           "aaxis": {
            "gridcolor": "white",
            "linecolor": "white",
            "ticks": ""
           },
           "baxis": {
            "gridcolor": "white",
            "linecolor": "white",
            "ticks": ""
           },
           "bgcolor": "#E5ECF6",
           "caxis": {
            "gridcolor": "white",
            "linecolor": "white",
            "ticks": ""
           }
          },
          "title": {
           "x": 0.05
          },
          "xaxis": {
           "automargin": true,
           "gridcolor": "white",
           "linecolor": "white",
           "ticks": "",
           "title": {
            "standoff": 15
           },
           "zerolinecolor": "white",
           "zerolinewidth": 2
          },
          "yaxis": {
           "automargin": true,
           "gridcolor": "white",
           "linecolor": "white",
           "ticks": "",
           "title": {
            "standoff": 15
           },
           "zerolinecolor": "white",
           "zerolinewidth": 2
          }
         }
        },
        "width": 1000,
        "xaxis": {
         "anchor": "y",
         "domain": [
          0,
          1
         ],
         "title": {
          "text": "pca1"
         }
        },
        "yaxis": {
         "anchor": "x",
         "domain": [
          0,
          1
         ],
         "title": {
          "text": "pca2"
         }
        }
       }
      },
      "text/html": [
       "<div>                            <div id=\"158cc659-11f8-456d-b7e3-967a40afc5e7\" class=\"plotly-graph-div\" style=\"height:700px; width:1000px;\"></div>            <script type=\"text/javascript\">                require([\"plotly\"], function(Plotly) {                    window.PLOTLYENV=window.PLOTLYENV || {};                                    if (document.getElementById(\"158cc659-11f8-456d-b7e3-967a40afc5e7\")) {                    Plotly.newPlot(                        \"158cc659-11f8-456d-b7e3-967a40afc5e7\",                        [{\"customdata\":[[\"Watergate Scandal\",279,\"real\"],[\"The Watergate\",168,\"real\"],[\"Operation Paperclip\",223,\"real\"],[\"MKUltra\",205,\"real\"],[\"Project MKUltra\",212,\"real\"],[\"COINTELPRO\",193,\"real\"],[\"The Counter Intelligence Program\",205,\"real\"],[\"Assassination of Fred Hampton\",248,\"real\"],[\"Iran-Contra Affair\",214,\"real\"],[\"Iran\\u2013Contra scandal\",206,\"real\"],[\"The Gulf of Tonkin Incident\",233,\"real\"],[\"The Business Plot\",206,\"real\"],[\"Operation Mockingbird\",205,\"real\"],[\"The Manhattan Project Spies\",234,\"real\"],[\"The Atomic spies\",239,\"real\"],[\"The Manhattan Project Human Radiation Experiments\",329,\"real\"],[\"The Manhattan Project\",164,\"real\"],[\"The Iran Hostage Crisis\",263,\"real\"],[\"Operation Ajax\",208,\"real\"],[\"The 1953 Iran coup\",298,\"real\"],[\"The Church Committee Revelations\",321,\"real\"],[\"The Church Committee\",278,\"real\"],[\"The Operation Northwoods\",234,\"real\"],[\"The Moscow Theater Hostage Crisis\",195,\"real\"],[\"The Operation Susannah \",245,\"real\"],[\"The Assassination of Patrice Lumumba\",250,\"real\"],[\"The Reichstag Fire\",209,\"real\"],[\"The Enron Scandal\",253,\"real\"],[\"The Plot to Kill Pope John Paul II\",222,\"real\"],[\"Attempted assassination of Pope John Paul II\",193,\"real\"],[\"The G\\u00fclen Movement in Turkey\",251,\"real\"],[\"The G\\u00fclen Movement\",281,\"real\"],[\"The 1973 Chilean Coup\",248,\"real\"],[\"The Volkswagen Emissions Scandal\",219,\"real\"],[\"The Moon Landing Hoax\",205,\"fake\"],[\"The Moon Landing \",193,\"fake\"],[\"9\\u002f11 Conspiracy Theories\",208,\"fake\"],[\"The Collapse of the World Trade Center \",208,\"fake\"],[\"JFK Assassination\",300,\"fake\"],[\"The Illuminati and New World Order\",299,\"fake\"],[\"The New World Order\",269,\"fake\"],[\"The Illuminati \",192,\"fake\"],[\"Area 51 and Aliens\",214,\"fake\"],[\"The Flat Earth Society \",170,\"fake\"],[\"The Bilderberg Group\",235,\"fake\"],[\"The Bilderberg Conference\",228,\"fake\"],[\"The Bilderberg Meeting\",241,\"fake\"],[\"The Bilderberg Club\",285,\"fake\"],[\"Princess Diana\\u2019s Death\",210,\"fake\"],[\"HAARP\",252,\"fake\"],[\"Roswell UFO Incident\",270,\"fake\"],[\"The Roswell incident \",214,\"fake\"],[\"The Rothschild Family\",208,\"fake\"],[\"The Pearl Harbor advance-knowledge\",253,\"fake\"],[\"The Phantom Time Hypothesis\",164,\"fake\"],[\"The Phantom Time theory\",233,\"fake\"]],\"hovertemplate\":\"prediction=0.0\\u003cbr\\u003epca1=%{x}\\u003cbr\\u003epca2=%{y}\\u003cbr\\u003eoutput_length=%{customdata[1]}\\u003cbr\\u003einput\\u002foutput=%{customdata[0]}\\u003cbr\\u003eswitch=%{customdata[2]}\\u003cbr\\u003elabel=%{marker.color}\\u003cextra\\u003e\\u003c\\u002fextra\\u003e\",\"legendgroup\":\"0.0\",\"marker\":{\"color\":[4,4,4,4,4,4,4,4,4,4,4,4,4,4,4,4,4,4,4,4,4,4,4,4,4,4,4,4,4,4,4,4,4,4,5,5,5,5,5,5,5,5,5,5,5,5,5,5,5,5,5,5,5,5,5,5],\"coloraxis\":\"coloraxis\",\"size\":[279,168,223,205,212,193,205,248,214,206,233,206,205,234,239,329,164,263,208,298,321,278,234,195,245,250,209,253,222,193,251,281,248,219,205,193,208,208,300,299,269,192,214,170,235,228,241,285,210,252,270,214,208,253,164,233],\"sizemode\":\"area\",\"sizeref\":0.9525,\"symbol\":\"circle\"},\"mode\":\"markers\",\"name\":\"0.0\",\"orientation\":\"v\",\"showlegend\":true,\"x\":[2.1173371375059675,3.3708660454650716,3.439241996167713,3.858963579524188,5.705743597945703,2.8743856779800376,4.026649007305412,0.1445495830499265,1.8687584585459287,0.8339655465283643,3.375759009366793,0.1456505026896994,3.339014814487744,3.7952497432119734,3.753798628758659,0.11814417927274187,11.332896055600317,2.125596892548675,4.29185750432998,4.826080617925558,1.485545148616128,2.7614328730875677,1.916648426235586,-0.512414957417328,0.7951432464962068,4.104966849893832,5.530152002333796,3.3480954405898413,2.1091120556522585,1.5472717885466458,2.3986133930921416,1.6828543522402122,4.163909721515637,3.563143068331925,3.037504979021559,2.8119795545596196,2.095397564337882,0.8780254152510647,2.7972643605361176,0.9585642422741146,0.5737435564434166,2.489927427567372,1.0449891127039894,2.57908580010442,1.3147440483989123,2.1505902719651173,1.3236705395994393,3.0010126101928276,0.03899056798014894,1.5466600968895463,2.623704198088042,3.6098247580436094,2.8104137060045393,1.43941794498472,1.8196158330396357,-0.3107726695116896],\"xaxis\":\"x\",\"y\":[3.0659404599627114,3.6916140395852266,-1.8700541925834677,-5.574954716862085,-3.3754119766003203,0.3277050054865627,-0.3872578771245973,7.122152096552943,6.54368017212444,6.385005749186254,6.137262197387158,8.5492976803997,-0.8865828847843581,1.8809709534773251,2.2128946083061916,2.3058000158271277,-3.6005910067651525,7.198536511461753,11.055587070925686,10.574843565015506,-0.9052872081971199,0.6179151311641026,5.362523066157885,8.241298984821382,10.361981589165824,10.92212622556241,8.186845843990964,0.7200634841100688,6.956478049641909,5.9542102009328,1.1190488782683512,-1.897652998650921,8.940682557722647,-2.413053101890755,-2.264147355084121,-2.536606244134756,-3.992033407536945,-3.63702699741178,-2.5666857152163947,-5.388075731547328,-4.376214031063615,-2.2017431943191057,-4.108559049556133,-8.010562262340345,-4.049478704474669,-3.700864028364166,-3.4046238630841295,-4.090006062202438,5.644461802879865,-5.66543416557345,-3.0206588543103328,-5.04624135358294,-1.0848915320585744,2.7783317466256046,8.09168456762129,8.112459825278947],\"yaxis\":\"y\",\"type\":\"scatter\"},{\"customdata\":[[\"Tuskegee Syphilis Study\",256,\"real\"],[\"Tuskegee Study of Untreated Syphilis in the Negro Male\",246,\"real\"],[\"Tuskegee Experiment\",261,\"real\"],[\"The COINTELPRO Assassination of Fred Hampton\",267,\"real\"],[\"Operation Gladio\",278,\"real\"],[\"The Gladio Network\",203,\"real\"],[\"Operation Boot\",220,\"real\"],[\"Operation Fast and Furious\",261,\"real\"],[\"The ATF gunwalking scandal\",381,\"real\"],[\"The letting guns walk operation\",287,\"real\"],[\"The Dreyfus Affair\",206,\"real\"],[\"The October Surprise\",239,\"real\"],[\"The 1980 October Surprise theory\",236,\"real\"],[\"The Panama Papers\",210,\"real\"],[\"The 2002 Nord-Ost siege\",201,\"real\"],[\"The Lavon Affair\",270,\"real\"],[\"The Atlas Network Conspiracy\",219,\"real\"],[\"The Cover-Ups of the Tabacco companies \",193,\"real\"],[\"Area 51 and Alien Technology \",216,\"fake\"],[\"Chemtrails\",238,\"fake\"],[\"The Flat Earth Theory\",195,\"fake\"],[\"Vaccination Conspiracies\",218,\"fake\"],[\"The Vaccination Microchips \",198,\"fake\"],[\"COVID-19 Origin and Spread\",236,\"fake\"],[\"COVID-19 Vaccination Microchips\",242,\"fake\"],[\"Paul McCartney\\u2019s Death\",252,\"fake\"],[\"Paul is Dead\",223,\"fake\"],[\"QAnon\",227,\"fake\"],[\"Denver International Airport\",247,\"fake\"],[\"FEMA Camps\",232,\"fake\"],[\"Big Pharma\",229,\"fake\"],[\"The Big Pharma Suppresses Cures\",235,\"fake\"],[\"Weather Control\",249,\"fake\"],[\"The HAARP weather control\",271,\"fake\"],[\"Hollywood and Elite Pedophilia Rings\",227,\"fake\"],[\"The Georgia Guidestones\",262,\"fake\"],[\"The Reptilian Elite\",251,\"fake\"],[\"The lizard people \",206,\"fake\"],[\"False Flag Operations\",270,\"fake\"],[\"The Pizzagate\",246,\"fake\"],[\"Pizzagate\",218,\"fake\"],[\"Frazzledrip\",250,\"fake\"],[\"The Great Replacement\",260,\"fake\"],[\"The replacement theory\",211,\"fake\"],[\"Freemasonry\",291,\"fake\"],[\"The Masonic conspiracy theories\",224,\"fake\"],[\"The Mandela Effect\",231,\"fake\"],[\"Antarctica Secrets\",256,\"fake\"],[\"The Hollow Earth\",231,\"fake\"],[\"GMO Conspiracy\",186,\"fake\"],[\"Subliminal Messages in Media\",265,\"fake\"],[\"Dead Internet Theory\",242,\"fake\"],[\"The Philadelphia Experiment\",227,\"fake\"]],\"hovertemplate\":\"prediction=1.0\\u003cbr\\u003epca1=%{x}\\u003cbr\\u003epca2=%{y}\\u003cbr\\u003eoutput_length=%{customdata[1]}\\u003cbr\\u003einput\\u002foutput=%{customdata[0]}\\u003cbr\\u003eswitch=%{customdata[2]}\\u003cbr\\u003elabel=%{marker.color}\\u003cextra\\u003e\\u003c\\u002fextra\\u003e\",\"legendgroup\":\"1.0\",\"marker\":{\"color\":[4,4,4,4,4,4,4,4,4,4,4,4,4,4,4,4,4,4,5,5,5,5,5,5,5,5,5,5,5,5,5,5,5,5,5,5,5,5,5,5,5,5,5,5,5,5,5,5,5,5,5,5,5],\"coloraxis\":\"coloraxis\",\"size\":[256,246,261,267,278,203,220,261,381,287,206,239,236,210,201,270,219,193,216,238,195,218,198,236,242,252,223,227,247,232,229,235,249,271,227,262,251,206,270,246,218,250,260,211,291,224,231,256,231,186,265,242,227],\"sizemode\":\"area\",\"sizeref\":0.9525,\"symbol\":\"diamond\"},\"mode\":\"markers\",\"name\":\"1.0\",\"orientation\":\"v\",\"showlegend\":true,\"x\":[-1.0878921528124397,-1.3064283061008903,-1.3248060813427631,-2.8562117953268764,-1.6863124921806416,-2.1235069932803743,-3.804906763810858,-2.049567007124193,-1.72663580042798,-3.79243254276581,-0.48587757422933076,-1.2018221136831548,-2.029779377707639,0.24753823186369397,-2.7592021733007916,-3.7068966696924712,-3.1447628836453814,-1.2469980186627312,0.8605742885422156,-2.258764403386106,-0.59373409656418,-1.8022846809095363,-4.626904903737189,-2.593227229436903,-3.861469527200969,-2.1378887822503234,-1.5444291687207687,-5.190206672442508,-1.2025516229129176,-5.763399084250823,-3.5935666939145703,-5.153617804887816,-1.3546595397267511,-0.6496645909187928,-5.480877881271112,-1.0424876386591897,-3.9723839848411973,-4.431084561628647,-2.6303248460646786,-4.296494496882572,-3.8333780032026894,-5.120761436928963,-4.9090306563894845,-4.860883239263587,0.018944173644764972,0.06037099330069004,-1.43763823851572,-3.979396830625031,-2.9597867647232907,-2.5477703297880567,-3.8963582879303975,-8.058698892606543,0.057000043424924596],\"xaxis\":\"x\",\"y\":[2.2913306480389766,2.6898962512138906,1.987661346559961,6.511038515252449,1.5808019970061935,2.0719281824210536,8.691612064466934,3.2432457086001794,3.018659557156921,3.712563319292684,4.447203092481172,5.484446890242269,6.963539885101121,-2.568230843579992,7.8510909619711615,10.611396641193565,-5.45815507121414,-4.043305601039389,-6.931528005858148,-5.349617615776562,-5.670231546066361,-9.655973578395573,-5.858747183380554,-4.032803076938402,-5.5221362412515855,-1.8102337465482865,-3.065308173290197,-3.2811790443639994,-5.079758451606758,-2.2877251973167185,-5.274058732535389,-4.4336669531835895,-7.261092507861024,-5.1101880496366405,-4.280479638176106,-1.876170839226328,-1.350834401503715,-0.845886428969767,0.35528702272960744,0.12261168251174176,0.27315658642215096,-2.1361792934939943,-1.4529635201025757,-0.150332264554356,-6.485651712655619,-5.072391660644254,-3.7835037120944097,-5.967069064720872,-4.4838269385644764,-4.994160186269113,-5.925437068644682,-4.0260767233711885,-5.3892708441498804],\"yaxis\":\"y\",\"type\":\"scatter\"}],                        {\"template\":{\"data\":{\"histogram2dcontour\":[{\"type\":\"histogram2dcontour\",\"colorbar\":{\"outlinewidth\":0,\"ticks\":\"\"},\"colorscale\":[[0.0,\"#0d0887\"],[0.1111111111111111,\"#46039f\"],[0.2222222222222222,\"#7201a8\"],[0.3333333333333333,\"#9c179e\"],[0.4444444444444444,\"#bd3786\"],[0.5555555555555556,\"#d8576b\"],[0.6666666666666666,\"#ed7953\"],[0.7777777777777778,\"#fb9f3a\"],[0.8888888888888888,\"#fdca26\"],[1.0,\"#f0f921\"]]}],\"choropleth\":[{\"type\":\"choropleth\",\"colorbar\":{\"outlinewidth\":0,\"ticks\":\"\"}}],\"histogram2d\":[{\"type\":\"histogram2d\",\"colorbar\":{\"outlinewidth\":0,\"ticks\":\"\"},\"colorscale\":[[0.0,\"#0d0887\"],[0.1111111111111111,\"#46039f\"],[0.2222222222222222,\"#7201a8\"],[0.3333333333333333,\"#9c179e\"],[0.4444444444444444,\"#bd3786\"],[0.5555555555555556,\"#d8576b\"],[0.6666666666666666,\"#ed7953\"],[0.7777777777777778,\"#fb9f3a\"],[0.8888888888888888,\"#fdca26\"],[1.0,\"#f0f921\"]]}],\"heatmap\":[{\"type\":\"heatmap\",\"colorbar\":{\"outlinewidth\":0,\"ticks\":\"\"},\"colorscale\":[[0.0,\"#0d0887\"],[0.1111111111111111,\"#46039f\"],[0.2222222222222222,\"#7201a8\"],[0.3333333333333333,\"#9c179e\"],[0.4444444444444444,\"#bd3786\"],[0.5555555555555556,\"#d8576b\"],[0.6666666666666666,\"#ed7953\"],[0.7777777777777778,\"#fb9f3a\"],[0.8888888888888888,\"#fdca26\"],[1.0,\"#f0f921\"]]}],\"heatmapgl\":[{\"type\":\"heatmapgl\",\"colorbar\":{\"outlinewidth\":0,\"ticks\":\"\"},\"colorscale\":[[0.0,\"#0d0887\"],[0.1111111111111111,\"#46039f\"],[0.2222222222222222,\"#7201a8\"],[0.3333333333333333,\"#9c179e\"],[0.4444444444444444,\"#bd3786\"],[0.5555555555555556,\"#d8576b\"],[0.6666666666666666,\"#ed7953\"],[0.7777777777777778,\"#fb9f3a\"],[0.8888888888888888,\"#fdca26\"],[1.0,\"#f0f921\"]]}],\"contourcarpet\":[{\"type\":\"contourcarpet\",\"colorbar\":{\"outlinewidth\":0,\"ticks\":\"\"}}],\"contour\":[{\"type\":\"contour\",\"colorbar\":{\"outlinewidth\":0,\"ticks\":\"\"},\"colorscale\":[[0.0,\"#0d0887\"],[0.1111111111111111,\"#46039f\"],[0.2222222222222222,\"#7201a8\"],[0.3333333333333333,\"#9c179e\"],[0.4444444444444444,\"#bd3786\"],[0.5555555555555556,\"#d8576b\"],[0.6666666666666666,\"#ed7953\"],[0.7777777777777778,\"#fb9f3a\"],[0.8888888888888888,\"#fdca26\"],[1.0,\"#f0f921\"]]}],\"surface\":[{\"type\":\"surface\",\"colorbar\":{\"outlinewidth\":0,\"ticks\":\"\"},\"colorscale\":[[0.0,\"#0d0887\"],[0.1111111111111111,\"#46039f\"],[0.2222222222222222,\"#7201a8\"],[0.3333333333333333,\"#9c179e\"],[0.4444444444444444,\"#bd3786\"],[0.5555555555555556,\"#d8576b\"],[0.6666666666666666,\"#ed7953\"],[0.7777777777777778,\"#fb9f3a\"],[0.8888888888888888,\"#fdca26\"],[1.0,\"#f0f921\"]]}],\"mesh3d\":[{\"type\":\"mesh3d\",\"colorbar\":{\"outlinewidth\":0,\"ticks\":\"\"}}],\"scatter\":[{\"fillpattern\":{\"fillmode\":\"overlay\",\"size\":10,\"solidity\":0.2},\"type\":\"scatter\"}],\"parcoords\":[{\"type\":\"parcoords\",\"line\":{\"colorbar\":{\"outlinewidth\":0,\"ticks\":\"\"}}}],\"scatterpolargl\":[{\"type\":\"scatterpolargl\",\"marker\":{\"colorbar\":{\"outlinewidth\":0,\"ticks\":\"\"}}}],\"bar\":[{\"error_x\":{\"color\":\"#2a3f5f\"},\"error_y\":{\"color\":\"#2a3f5f\"},\"marker\":{\"line\":{\"color\":\"#E5ECF6\",\"width\":0.5},\"pattern\":{\"fillmode\":\"overlay\",\"size\":10,\"solidity\":0.2}},\"type\":\"bar\"}],\"scattergeo\":[{\"type\":\"scattergeo\",\"marker\":{\"colorbar\":{\"outlinewidth\":0,\"ticks\":\"\"}}}],\"scatterpolar\":[{\"type\":\"scatterpolar\",\"marker\":{\"colorbar\":{\"outlinewidth\":0,\"ticks\":\"\"}}}],\"histogram\":[{\"marker\":{\"pattern\":{\"fillmode\":\"overlay\",\"size\":10,\"solidity\":0.2}},\"type\":\"histogram\"}],\"scattergl\":[{\"type\":\"scattergl\",\"marker\":{\"colorbar\":{\"outlinewidth\":0,\"ticks\":\"\"}}}],\"scatter3d\":[{\"type\":\"scatter3d\",\"line\":{\"colorbar\":{\"outlinewidth\":0,\"ticks\":\"\"}},\"marker\":{\"colorbar\":{\"outlinewidth\":0,\"ticks\":\"\"}}}],\"scattermapbox\":[{\"type\":\"scattermapbox\",\"marker\":{\"colorbar\":{\"outlinewidth\":0,\"ticks\":\"\"}}}],\"scatterternary\":[{\"type\":\"scatterternary\",\"marker\":{\"colorbar\":{\"outlinewidth\":0,\"ticks\":\"\"}}}],\"scattercarpet\":[{\"type\":\"scattercarpet\",\"marker\":{\"colorbar\":{\"outlinewidth\":0,\"ticks\":\"\"}}}],\"carpet\":[{\"aaxis\":{\"endlinecolor\":\"#2a3f5f\",\"gridcolor\":\"white\",\"linecolor\":\"white\",\"minorgridcolor\":\"white\",\"startlinecolor\":\"#2a3f5f\"},\"baxis\":{\"endlinecolor\":\"#2a3f5f\",\"gridcolor\":\"white\",\"linecolor\":\"white\",\"minorgridcolor\":\"white\",\"startlinecolor\":\"#2a3f5f\"},\"type\":\"carpet\"}],\"table\":[{\"cells\":{\"fill\":{\"color\":\"#EBF0F8\"},\"line\":{\"color\":\"white\"}},\"header\":{\"fill\":{\"color\":\"#C8D4E3\"},\"line\":{\"color\":\"white\"}},\"type\":\"table\"}],\"barpolar\":[{\"marker\":{\"line\":{\"color\":\"#E5ECF6\",\"width\":0.5},\"pattern\":{\"fillmode\":\"overlay\",\"size\":10,\"solidity\":0.2}},\"type\":\"barpolar\"}],\"pie\":[{\"automargin\":true,\"type\":\"pie\"}]},\"layout\":{\"autotypenumbers\":\"strict\",\"colorway\":[\"#636efa\",\"#EF553B\",\"#00cc96\",\"#ab63fa\",\"#FFA15A\",\"#19d3f3\",\"#FF6692\",\"#B6E880\",\"#FF97FF\",\"#FECB52\"],\"font\":{\"color\":\"#2a3f5f\"},\"hovermode\":\"closest\",\"hoverlabel\":{\"align\":\"left\"},\"paper_bgcolor\":\"white\",\"plot_bgcolor\":\"#E5ECF6\",\"polar\":{\"bgcolor\":\"#E5ECF6\",\"angularaxis\":{\"gridcolor\":\"white\",\"linecolor\":\"white\",\"ticks\":\"\"},\"radialaxis\":{\"gridcolor\":\"white\",\"linecolor\":\"white\",\"ticks\":\"\"}},\"ternary\":{\"bgcolor\":\"#E5ECF6\",\"aaxis\":{\"gridcolor\":\"white\",\"linecolor\":\"white\",\"ticks\":\"\"},\"baxis\":{\"gridcolor\":\"white\",\"linecolor\":\"white\",\"ticks\":\"\"},\"caxis\":{\"gridcolor\":\"white\",\"linecolor\":\"white\",\"ticks\":\"\"}},\"coloraxis\":{\"colorbar\":{\"outlinewidth\":0,\"ticks\":\"\"}},\"colorscale\":{\"sequential\":[[0.0,\"#0d0887\"],[0.1111111111111111,\"#46039f\"],[0.2222222222222222,\"#7201a8\"],[0.3333333333333333,\"#9c179e\"],[0.4444444444444444,\"#bd3786\"],[0.5555555555555556,\"#d8576b\"],[0.6666666666666666,\"#ed7953\"],[0.7777777777777778,\"#fb9f3a\"],[0.8888888888888888,\"#fdca26\"],[1.0,\"#f0f921\"]],\"sequentialminus\":[[0.0,\"#0d0887\"],[0.1111111111111111,\"#46039f\"],[0.2222222222222222,\"#7201a8\"],[0.3333333333333333,\"#9c179e\"],[0.4444444444444444,\"#bd3786\"],[0.5555555555555556,\"#d8576b\"],[0.6666666666666666,\"#ed7953\"],[0.7777777777777778,\"#fb9f3a\"],[0.8888888888888888,\"#fdca26\"],[1.0,\"#f0f921\"]],\"diverging\":[[0,\"#8e0152\"],[0.1,\"#c51b7d\"],[0.2,\"#de77ae\"],[0.3,\"#f1b6da\"],[0.4,\"#fde0ef\"],[0.5,\"#f7f7f7\"],[0.6,\"#e6f5d0\"],[0.7,\"#b8e186\"],[0.8,\"#7fbc41\"],[0.9,\"#4d9221\"],[1,\"#276419\"]]},\"xaxis\":{\"gridcolor\":\"white\",\"linecolor\":\"white\",\"ticks\":\"\",\"title\":{\"standoff\":15},\"zerolinecolor\":\"white\",\"automargin\":true,\"zerolinewidth\":2},\"yaxis\":{\"gridcolor\":\"white\",\"linecolor\":\"white\",\"ticks\":\"\",\"title\":{\"standoff\":15},\"zerolinecolor\":\"white\",\"automargin\":true,\"zerolinewidth\":2},\"scene\":{\"xaxis\":{\"backgroundcolor\":\"#E5ECF6\",\"gridcolor\":\"white\",\"linecolor\":\"white\",\"showbackground\":true,\"ticks\":\"\",\"zerolinecolor\":\"white\",\"gridwidth\":2},\"yaxis\":{\"backgroundcolor\":\"#E5ECF6\",\"gridcolor\":\"white\",\"linecolor\":\"white\",\"showbackground\":true,\"ticks\":\"\",\"zerolinecolor\":\"white\",\"gridwidth\":2},\"zaxis\":{\"backgroundcolor\":\"#E5ECF6\",\"gridcolor\":\"white\",\"linecolor\":\"white\",\"showbackground\":true,\"ticks\":\"\",\"zerolinecolor\":\"white\",\"gridwidth\":2}},\"shapedefaults\":{\"line\":{\"color\":\"#2a3f5f\"}},\"annotationdefaults\":{\"arrowcolor\":\"#2a3f5f\",\"arrowhead\":0,\"arrowwidth\":1},\"geo\":{\"bgcolor\":\"white\",\"landcolor\":\"#E5ECF6\",\"subunitcolor\":\"white\",\"showland\":true,\"showlakes\":true,\"lakecolor\":\"white\"},\"title\":{\"x\":0.05},\"mapbox\":{\"style\":\"light\"}}},\"xaxis\":{\"anchor\":\"y\",\"domain\":[0.0,1.0],\"title\":{\"text\":\"pca1\"}},\"yaxis\":{\"anchor\":\"x\",\"domain\":[0.0,1.0],\"title\":{\"text\":\"pca2\"}},\"coloraxis\":{\"colorbar\":{\"title\":{\"text\":\"label\"},\"yanchor\":\"top\",\"y\":1,\"x\":-0.2,\"ticks\":\"outside\"},\"colorscale\":[[0.0,\"#0d0887\"],[0.1111111111111111,\"#46039f\"],[0.2222222222222222,\"#7201a8\"],[0.3333333333333333,\"#9c179e\"],[0.4444444444444444,\"#bd3786\"],[0.5555555555555556,\"#d8576b\"],[0.6666666666666666,\"#ed7953\"],[0.7777777777777778,\"#fb9f3a\"],[0.8888888888888888,\"#fdca26\"],[1.0,\"#f0f921\"]]},\"legend\":{\"title\":{\"text\":\"prediction\"},\"tracegroupgap\":0,\"itemsizing\":\"constant\"},\"margin\":{\"t\":60},\"width\":1000,\"height\":700,\"shapes\":[{\"line\":{\"color\":\"red\",\"dash\":\"dash\"},\"type\":\"line\",\"x0\":0,\"x1\":0,\"xref\":\"x\",\"y0\":0,\"y1\":1,\"yref\":\"y domain\"}]},                        {\"responsive\": true}                    ).then(function(){\n",
       "                            \n",
       "var gd = document.getElementById('158cc659-11f8-456d-b7e3-967a40afc5e7');\n",
       "var x = new MutationObserver(function (mutations, observer) {{\n",
       "        var display = window.getComputedStyle(gd).display;\n",
       "        if (!display || display === 'none') {{\n",
       "            console.log([gd, 'removed!']);\n",
       "            Plotly.purge(gd);\n",
       "            observer.disconnect();\n",
       "        }}\n",
       "}});\n",
       "\n",
       "// Listen for the removal of the full notebook cells\n",
       "var notebookContainer = gd.closest('#notebook-container');\n",
       "if (notebookContainer) {{\n",
       "    x.observe(notebookContainer, {childList: true});\n",
       "}}\n",
       "\n",
       "// Listen for the clearing of the current output cell\n",
       "var outputEl = gd.closest('.output');\n",
       "if (outputEl) {{\n",
       "    x.observe(outputEl, {childList: true});\n",
       "}}\n",
       "\n",
       "                        })                };                });            </script>        </div>"
      ]
     },
     "metadata": {},
     "output_type": "display_data"
    }
   ],
   "source": [
    "eval_df[\"random_value\"] = np.random.rand(len(eval_df))\n",
    "eval_df[\"label\"] = eval_df[\"label\"] #+ 1\n",
    "\n",
    "scatter = px.scatter(eval_df, x='pca1', y='pca2', \n",
    "                     color=\"label\",\n",
    "                     size=\"output_length\", \n",
    "                     symbol= \"prediction\",\n",
    "                     hover_data=[\"input/output\", \"output_length\", \"switch\"],\n",
    "                     color_discrete_sequence=color_selction)\n",
    "\n",
    "scatter.update_layout(\n",
    "    # autosize=True,\n",
    "    width=1000,\n",
    "    height=700,)\n",
    "\n",
    "scatter.update_layout(coloraxis_colorbar=dict(yanchor=\"top\", y=1, x=-0.2,\n",
    "                                          ticks=\"outside\"))\n",
    "\n",
    "scatter.add_vline(x=0, line_dash=\"dash\", line_color=\"red\")\n",
    "\n",
    "scatter.show()"
   ]
  },
  {
   "cell_type": "code",
   "execution_count": null,
   "metadata": {},
   "outputs": [],
   "source": []
  },
  {
   "cell_type": "code",
   "execution_count": null,
   "metadata": {},
   "outputs": [],
   "source": []
  },
  {
   "cell_type": "code",
   "execution_count": null,
   "metadata": {},
   "outputs": [],
   "source": []
  },
  {
   "cell_type": "code",
   "execution_count": null,
   "metadata": {},
   "outputs": [],
   "source": []
  }
 ],
 "metadata": {
  "kernelspec": {
   "display_name": "base",
   "language": "python",
   "name": "python3"
  },
  "language_info": {
   "codemirror_mode": {
    "name": "ipython",
    "version": 3
   },
   "file_extension": ".py",
   "mimetype": "text/x-python",
   "name": "python",
   "nbconvert_exporter": "python",
   "pygments_lexer": "ipython3",
   "version": "3.10.14"
  }
 },
 "nbformat": 4,
 "nbformat_minor": 2
}
