{
 "cells": [
  {
   "cell_type": "code",
   "execution_count": 1,
   "metadata": {},
   "outputs": [],
   "source": [
    "import numpy as np\n",
    "import pickle"
   ]
  },
  {
   "cell_type": "markdown",
   "metadata": {},
   "source": [
    "# Format simple word list"
   ]
  },
  {
   "cell_type": "code",
   "execution_count": 2,
   "metadata": {},
   "outputs": [
    {
     "name": "stdout",
     "output_type": "stream",
     "text": [
      "['Time', 'Year', 'People', 'Way', 'Day', 'Man', 'Thing', 'Woman', 'Life', 'Child', 'World', 'School', 'State', 'Family', 'Student', 'Group', 'Country', 'Problem', 'Hand', 'Part', 'Place', 'Case', 'Week', 'Company', 'System', 'Program', 'Question', 'Work', 'Government', 'Number', 'Night', 'Point', 'Home', 'Water', 'Room', 'Mother', 'Area', 'Money', 'Story', 'Fact', 'Month', 'Lot', 'Right', 'Study', 'Book', 'Eye', 'Job', 'Word', 'Business', 'Issue', 'Side', 'Kind', 'Head', 'House', 'Service', 'Friend', 'Father', 'Power', 'Hour', 'Game', 'Line', 'End', 'Member', 'Law', 'Car', 'City', 'Community', 'Name', 'President', 'Team', 'Minute', 'Idea', 'Kid', 'Body', 'Information', 'Back', 'Parent', 'Face', 'Level', 'Office', 'Door', 'Health', 'Person', 'Art', 'War', 'History', 'Party', 'Result', 'Change', 'Morning', 'Reason', 'Research', 'Girl', 'Guy', 'Moment', 'Air', 'Teacher', 'Force', 'Education']\n"
     ]
    }
   ],
   "source": [
    "word_list = []\n",
    "with open(\"/srv/public/Thibaud/datasets/LLMs/MRI/gpt_100_english_words\", \"r\") as f:\n",
    "    for w in f:\n",
    "        if len(w)>0:\n",
    "            w = w.split(\" \")[-1]\n",
    "            w = w.split(\"\\n\")[0]\n",
    "            word_list.append(w)\n",
    "\n",
    "print(word_list)"
   ]
  },
  {
   "cell_type": "code",
   "execution_count": 3,
   "metadata": {},
   "outputs": [
    {
     "name": "stdout",
     "output_type": "stream",
     "text": [
      "99\n",
      "99\n",
      "99\n"
     ]
    }
   ],
   "source": [
    "to_del = []\n",
    "print(len(word_list))\n",
    "print(len(set(word_list)))\n",
    "for i, w in enumerate(word_list):\n",
    "    for ww in word_list[i+1:]:\n",
    "        if w == ww :\n",
    "            to_del.append(i)\n",
    "            print(w, ww)\n",
    "for i in range(len(to_del), 0, -1):\n",
    "    print(to_del[i-1])\n",
    "    del word_list[to_del[i-1]]\n",
    "print(len(word_list))\n"
   ]
  },
  {
   "cell_type": "code",
   "execution_count": 4,
   "metadata": {},
   "outputs": [],
   "source": [
    "with open(\"/srv/public/Thibaud/datasets/LLMs/MRI/real_word_list.pkl\", \"wb\") as fp:\n",
    "    pickle.dump(word_list, fp)\n",
    "    fp.close()"
   ]
  },
  {
   "cell_type": "code",
   "execution_count": 5,
   "metadata": {},
   "outputs": [
    {
     "name": "stdout",
     "output_type": "stream",
     "text": [
      "Time\n",
      "Year\n",
      "People\n",
      "Way\n",
      "Day\n",
      "Man\n",
      "Thing\n",
      "Woman\n",
      "Life\n",
      "Child\n",
      "World\n",
      "School\n",
      "State\n",
      "Family\n",
      "Student\n",
      "Group\n",
      "Country\n",
      "Problem\n",
      "Hand\n",
      "Part\n",
      "Place\n",
      "Case\n",
      "Week\n",
      "Company\n",
      "System\n",
      "Program\n",
      "Question\n",
      "Work\n",
      "Government\n",
      "Number\n",
      "Night\n",
      "Point\n",
      "Home\n",
      "Water\n",
      "Room\n",
      "Mother\n",
      "Area\n",
      "Money\n",
      "Story\n",
      "Fact\n",
      "Month\n",
      "Lot\n",
      "Right\n",
      "Study\n",
      "Book\n",
      "Eye\n",
      "Job\n",
      "Word\n",
      "Business\n",
      "Issue\n",
      "Side\n",
      "Kind\n",
      "Head\n",
      "House\n",
      "Service\n",
      "Friend\n",
      "Father\n",
      "Power\n",
      "Hour\n",
      "Game\n",
      "Line\n",
      "End\n",
      "Member\n",
      "Law\n",
      "Car\n",
      "City\n",
      "Community\n",
      "Name\n",
      "President\n",
      "Team\n",
      "Minute\n",
      "Idea\n",
      "Kid\n",
      "Body\n",
      "Information\n",
      "Back\n",
      "Parent\n",
      "Face\n",
      "Level\n",
      "Office\n",
      "Door\n",
      "Health\n",
      "Person\n",
      "Art\n",
      "War\n",
      "History\n",
      "Party\n",
      "Result\n",
      "Change\n",
      "Morning\n",
      "Reason\n",
      "Research\n",
      "Girl\n",
      "Guy\n",
      "Moment\n",
      "Air\n",
      "Teacher\n",
      "Force\n",
      "Education\n"
     ]
    }
   ],
   "source": [
    "with open(\"/srv/public/Thibaud/datasets/LLMs/MRI/real_word_list.pkl\", \"rb\") as fp:\n",
    "    data = pickle.load(fp)\n",
    "    for l in data:\n",
    "        print(l)"
   ]
  },
  {
   "cell_type": "code",
   "execution_count": null,
   "metadata": {},
   "outputs": [],
   "source": []
  }
 ],
 "metadata": {
  "kernelspec": {
   "display_name": "base",
   "language": "python",
   "name": "python3"
  },
  "language_info": {
   "codemirror_mode": {
    "name": "ipython",
    "version": 3
   },
   "file_extension": ".py",
   "mimetype": "text/x-python",
   "name": "python",
   "nbconvert_exporter": "python",
   "pygments_lexer": "ipython3",
   "version": "3.10.14"
  }
 },
 "nbformat": 4,
 "nbformat_minor": 2
}
