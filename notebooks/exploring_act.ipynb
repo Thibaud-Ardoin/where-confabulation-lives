{
 "cells": [
  {
   "cell_type": "code",
   "execution_count": 1,
   "metadata": {},
   "outputs": [],
   "source": [
    "import pickle\n",
    "import pandas as pd\n",
    "import matplotlib.pyplot as plt\n",
    "import plotly.express as px\n",
    "import numpy as np\n",
    "import sys\n",
    "from importlib import reload\n",
    "\n",
    "\n",
    "from sklearn.decomposition import PCA\n",
    "from sklearn.discriminant_analysis import LinearDiscriminantAnalysis as LDA\n",
    "import torch\n",
    "\n",
    "# sys.path.append(\"~/Documents/Prog/LLMs/mri_llm\")\n",
    "sys.path.append(\"..\") # Adds higher directory to python modules path.\n",
    "\n",
    "from datas import celebrity, conspiracy, english_word, character"
   ]
  },
  {
   "cell_type": "code",
   "execution_count": 2,
   "metadata": {},
   "outputs": [
    {
     "ename": "FileNotFoundError",
     "evalue": "[Errno 2] No such file or directory: '../inference_data/inference_english_word_horizontal_223.pkl'",
     "output_type": "error",
     "traceback": [
      "\u001b[0;31m---------------------------------------------------------------------------\u001b[0m",
      "\u001b[0;31mFileNotFoundError\u001b[0m                         Traceback (most recent call last)",
      "Cell \u001b[0;32mIn[2], line 18\u001b[0m\n\u001b[1;32m     16\u001b[0m data_list\u001b[38;5;241m=\u001b[39m[]\n\u001b[1;32m     17\u001b[0m \u001b[38;5;28;01mfor\u001b[39;00m f \u001b[38;5;129;01min\u001b[39;00m files:\n\u001b[0;32m---> 18\u001b[0m     \u001b[38;5;28;01mwith\u001b[39;00m \u001b[38;5;28;43mopen\u001b[39;49m\u001b[43m(\u001b[49m\u001b[43mfiles_root\u001b[49m\u001b[38;5;241;43m+\u001b[39;49m\u001b[43mf\u001b[49m\u001b[43m,\u001b[49m\u001b[43m \u001b[49m\u001b[38;5;124;43m\"\u001b[39;49m\u001b[38;5;124;43mrb\u001b[39;49m\u001b[38;5;124;43m\"\u001b[39;49m\u001b[43m)\u001b[49m \u001b[38;5;28;01mas\u001b[39;00m fp:\n\u001b[1;32m     19\u001b[0m         data_list\u001b[38;5;241m.\u001b[39mextend(pickle\u001b[38;5;241m.\u001b[39mload(fp))\n",
      "File \u001b[0;32m/srv/public/Thibaud/conda/lib/python3.10/site-packages/IPython/core/interactiveshell.py:324\u001b[0m, in \u001b[0;36m_modified_open\u001b[0;34m(file, *args, **kwargs)\u001b[0m\n\u001b[1;32m    317\u001b[0m \u001b[38;5;28;01mif\u001b[39;00m file \u001b[38;5;129;01min\u001b[39;00m {\u001b[38;5;241m0\u001b[39m, \u001b[38;5;241m1\u001b[39m, \u001b[38;5;241m2\u001b[39m}:\n\u001b[1;32m    318\u001b[0m     \u001b[38;5;28;01mraise\u001b[39;00m \u001b[38;5;167;01mValueError\u001b[39;00m(\n\u001b[1;32m    319\u001b[0m         \u001b[38;5;124mf\u001b[39m\u001b[38;5;124m\"\u001b[39m\u001b[38;5;124mIPython won\u001b[39m\u001b[38;5;124m'\u001b[39m\u001b[38;5;124mt let you open fd=\u001b[39m\u001b[38;5;132;01m{\u001b[39;00mfile\u001b[38;5;132;01m}\u001b[39;00m\u001b[38;5;124m by default \u001b[39m\u001b[38;5;124m\"\u001b[39m\n\u001b[1;32m    320\u001b[0m         \u001b[38;5;124m\"\u001b[39m\u001b[38;5;124mas it is likely to crash IPython. If you know what you are doing, \u001b[39m\u001b[38;5;124m\"\u001b[39m\n\u001b[1;32m    321\u001b[0m         \u001b[38;5;124m\"\u001b[39m\u001b[38;5;124myou can use builtins\u001b[39m\u001b[38;5;124m'\u001b[39m\u001b[38;5;124m open.\u001b[39m\u001b[38;5;124m\"\u001b[39m\n\u001b[1;32m    322\u001b[0m     )\n\u001b[0;32m--> 324\u001b[0m \u001b[38;5;28;01mreturn\u001b[39;00m \u001b[43mio_open\u001b[49m\u001b[43m(\u001b[49m\u001b[43mfile\u001b[49m\u001b[43m,\u001b[49m\u001b[43m \u001b[49m\u001b[38;5;241;43m*\u001b[39;49m\u001b[43margs\u001b[49m\u001b[43m,\u001b[49m\u001b[43m \u001b[49m\u001b[38;5;241;43m*\u001b[39;49m\u001b[38;5;241;43m*\u001b[39;49m\u001b[43mkwargs\u001b[49m\u001b[43m)\u001b[49m\n",
      "\u001b[0;31mFileNotFoundError\u001b[0m: [Errno 2] No such file or directory: '../inference_data/inference_english_word_horizontal_223.pkl'"
     ]
    }
   ],
   "source": [
    "files_root = \"../inference_data/\"\n",
    "files = [\n",
    "    # \"inference_conspiracy_character_sentence_908.pkl\",\n",
    "    # \"inference_conspiracy_711.pkl\",\n",
    "    # \"inference_character_474.pkl\",\n",
    "    # \"inference_celebrity_random_764.pkl\",\n",
    "    # \"inference_celebrity_285.pkl\",\n",
    "    # \"inference_english_word_236.pkl\",\n",
    "    # \"inference_date_884.pkl\",\n",
    "    # \"inference_election_195.pkl\",\n",
    "    # \"inference_date_election_648.pkl\",\n",
    "    \"inference_celebrity_horizontal_497.pkl\",\n",
    "    \"inference_english_word_horizontal_223.pkl\",\n",
    "]\n",
    "\n",
    "data_list=[]\n",
    "for f in files:\n",
    "    with open(files_root+f, \"rb\") as fp:\n",
    "        data_list.extend(pickle.load(fp))"
   ]
  },
  {
   "cell_type": "code",
   "execution_count": 4,
   "metadata": {},
   "outputs": [
    {
     "name": "stdout",
     "output_type": "stream",
     "text": [
      "700\n",
      "Always respond with a SINGLE date. You are given the name of a personality, give me it's date of birth. \n",
      " Nicolaus Copernicus: 1473 \n",
      " Ed Sheeran: 1991 \n",
      " Angela Merkel: 1954 \n",
      " Victor Hugo: 1802\n",
      "{}:\n",
      "Leonardo da Vinci\n",
      "1452\n"
     ]
    }
   ],
   "source": [
    "print(len(data_list))\n",
    "print(data_list[0].system_prompt)\n",
    "print(data_list[0].user_prompt)\n",
    "print(data_list[0].input_text)\n",
    "print(data_list[0].output_text)"
   ]
  },
  {
   "cell_type": "code",
   "execution_count": 5,
   "metadata": {},
   "outputs": [],
   "source": [
    "def type_of_input_labeling(data_elmt):\n",
    "    label = data_elmt.label\n",
    "    match data_elmt.__class__.__name__:\n",
    "        # HALLUCINATION STUFF\n",
    "        case \"celebrity\":\n",
    "            label += 0\n",
    "        case \"conspiracy\":\n",
    "            label += 2*1\n",
    "        case \"english_word\":\n",
    "            label += 2*2\n",
    "        # TIME STUFF\n",
    "        case \"date\":\n",
    "            label += 0\n",
    "        case \"election\": # Carefull this guy has 3 switches\n",
    "            label += 2*1\n",
    "        # FICTION STUFF\n",
    "        case \"character\":\n",
    "            label += 0\n",
    "        case _ :\n",
    "            raise Exception(\"Error of non recognised type of data element\")\n",
    "\n",
    "    if data_elmt.sufix and data_elmt.sufix== \"random\":\n",
    "        label = data_elmt.label + 2\n",
    "        \n",
    "    return label"
   ]
  },
  {
   "cell_type": "code",
   "execution_count": 6,
   "metadata": {},
   "outputs": [
    {
     "name": "stdout",
     "output_type": "stream",
     "text": [
      "700\n",
      "32\n",
      "4096\n",
      "[ 2.515625   -2.203125    2.875      ...  4.96875     1.2109375\n",
      "  0.05761719]\n",
      "[0 0 0 0 0 0 0 0 0 0 0 0 0 0 0 0 0 0 0 0 0 0 0 0 0 0 0 0 0 0 0 0 0 0 0 0 0\n",
      " 0 0 0 0 0 0 0 0 0 0 0 0 0 0 0 0 0 0 0 0 0 0 0 0 0 0 0 0 0 0 0 0 0 0 0 0 0\n",
      " 0 0 0 0 0 0 0 0 0 0 0 0 0 0 0 0 0 0 0 0 0 0 0 0 0 0 0 0 0 0 0 0 0 0 0 0 0\n",
      " 0 0 0 0 0 0 0 0 0 0 0 0 0 0 0 0 0 0 0 0 0 0 0 0 0 0 0 0 0 0 0 0 0 0 0 0 0\n",
      " 0 0 0 0 0 0 0 0 0 0 0 0 0 0 0 0 0 0 0 0 0 0 1 1 1 1 1 1 1 1 1 1 1 1 1 1 1\n",
      " 1 1 1 1 1 1 1 1 1 1 1 1 1 1 1 1 1 1 1 1 1 1 1 1 1 1 1 1 1 1 1 1 1 1 1 1 1\n",
      " 1 1 1 1 1 1 1 1 1 1 1 1 1 1 1 1 1 1 1 1 1 1 1 1 1 1 1 1 1 1 1 1 1 1 1 1 1\n",
      " 1 1 1 1 1 1 1 1 1 1 1 1 1 1 1 1 1 1 1 1 1 1 1 1 1 1 1 1 1 1 1 1 1 1 1 1 1\n",
      " 1 1 1 1 1 1 4 4 4 4 4 4 4 4 4 4 4 4 4 4 4 4 4 4 4 4 4 4 4 4 4 4 4 4 4 4 4\n",
      " 4 4 4 4 4 4 4 4 4 4 4 4 4 4 4 4 4 4 4 4 4 4 4 4 4 4 4 4 4 4 4 4 4 4 4 4 4\n",
      " 4 4 4 4 4 4 4 4 4 4 4 4 4 4 4 4 4 4 4 4 4 4 4 4 4 4 4 4 4 4 4 4 4 4 4 4 4\n",
      " 4 4 4 4 4 4 4 4 4 4 4 4 4 4 4 4 4 4 4 4 4 4 4 4 4 4 4 4 4 4 4 4 4 4 4 4 4\n",
      " 4 4 4 4 4 4 4 4 4 4 4 4 4 4 4 4 4 4 4 4 4 4 4 4 4 4 4 4 4 4 4 4 4 4 4 4 4\n",
      " 4 4 4 4 4 4 4 4 4 4 4 4 4 4 4 4 4 4 4 5 5 5 5 5 5 5 5 5 5 5 5 5 5 5 5 5 5\n",
      " 5 5 5 5 5 5 5 5 5 5 5 5 5 5 5 5 5 5 5 5 5 5 5 5 5 5 5 5 5 5 5 5 5 5 5 5 5\n",
      " 5 5 5 5 5 5 5 5 5 5 5 5 5 5 5 5 5 5 5 5 5 5 5 5 5 5 5 5 5 5 5 5 5 5 5 5 5\n",
      " 5 5 5 5 5 5 5 5 5 5 5 5 5 5 5 5 5 5 5 5 5 5 5 5 5 5 5 5 5 5 5 5 5 5 5 5 5\n",
      " 5 5 5 5 5 5 5 5 5 5 5 5 5 5 5 5 5 5 5 5 5 5 5 5 5 5 5 5 5 5 5 5 5 5 5 5 5\n",
      " 5 5 5 5 5 5 5 5 5 5 5 5 5 5 5 5 5 5 5 5 5 5 5 5 5 5 5 5 5 5 5 5 5 5]\n"
     ]
    }
   ],
   "source": [
    "X = np.array([[data_list[i].activations[lay_nb][0].type(torch.float64).cpu().numpy() for lay_nb in range(len(data_list[i].activations))] for i in range(len(data_list))])\n",
    "Y = np.array([type_of_input_labeling(data_list[i]) for i in range(len(data_list))])\n",
    "\n",
    "# torch.stack().type(torch.float64).cpu().numpy()\n",
    "print(len(X))\n",
    "print(len(X[0]))\n",
    "print(len(X[0][0]))\n",
    "print(X[0][0])\n",
    "print(Y)"
   ]
  },
  {
   "cell_type": "code",
   "execution_count": null,
   "metadata": {},
   "outputs": [],
   "source": []
  },
  {
   "cell_type": "code",
   "execution_count": 7,
   "metadata": {},
   "outputs": [],
   "source": [
    "color_selction = [\"#ef6c00\", \"#eeff41\", \"#009668\", \"#ce93d8\" , \"#a1e8d9\", \"#b3a77d\", \"#6a634a\", \"red\", \"green\"]\n",
    "\n",
    "def simple_label2color(label):\n",
    "    # labels are 4 choices\n",
    "    color = color_selction[label]\n",
    "    return color\n",
    "\n",
    "def bidim_label2color(label):\n",
    "    # labels are 2*2*2 choices\n",
    "    color = color_selction[label[1] + 2*label[2]]\n",
    "    # color = mcolors.CSS4_COLORS[color_selction[label[1] + 2*label[2]]]\n",
    "    return color"
   ]
  },
  {
   "cell_type": "markdown",
   "metadata": {},
   "source": [
    "## Add some labels according to other conditions\n",
    "\n",
    "- Length of output"
   ]
  },
  {
   "cell_type": "code",
   "execution_count": 8,
   "metadata": {},
   "outputs": [],
   "source": [
    "def output_length_label(data_elmt):\n",
    "    return len(data_elmt.output_text)\n",
    "    # if len(data_elmt.output_text) > 100:\n",
    "    #     return \"long_output\"\n",
    "    # else:\n",
    "    #     return \"short_output\"\n",
    "\n",
    "for i in range(len(data_list)):\n",
    "    data_list[i].output_length = output_length_label(data_list[i])"
   ]
  },
  {
   "cell_type": "code",
   "execution_count": 9,
   "metadata": {},
   "outputs": [],
   "source": [
    "def normlise_by_data_type(data_list, states):\n",
    "    type_indices = {}\n",
    "    for i in range(len(data_list)):\n",
    "        # Select according to certain parameter, for exemple class type of data\n",
    "        data_type = data_list[i].__class__.__name__\n",
    "        if data_type in type_indices:\n",
    "            type_indices[data_type].append(i)\n",
    "        else:\n",
    "            type_indices[data_type] = [i]\n",
    "    for key in type_indices:\n",
    "        indices = np.array(type_indices[key])\n",
    "        states[indices] = states[indices] - states[indices].mean(axis=0)\n",
    "\n",
    "    return states"
   ]
  },
  {
   "cell_type": "code",
   "execution_count": 106,
   "metadata": {},
   "outputs": [],
   "source": [
    "def train_and_fit_pca(train_condition, mode=\"PCA\"):\n",
    "    X = np.array([[data_list[i].activations[lay_nb][0].type(torch.float64).cpu().numpy() for lay_nb in range(len(data_list[i].activations))] for i in range(len(data_list))])\n",
    "    Y = np.array([type_of_input_labeling(data_list[i]) for i in range(len(data_list))])\n",
    "\n",
    "    label_colors = [simple_label2color(y) for y in Y]\n",
    "\n",
    "    # Do a PCA projection for each layer\n",
    "    layer_pca = []\n",
    "    layer_id = []\n",
    "    pca_training_data_indices = np.array(list(filter(train_condition, enumerate(data_list))))[:, 0]\n",
    "    print(\"Size of training data:\", len(pca_training_data_indices))\n",
    "    for layer_nb in range(32):\n",
    "        # Train on one problem\n",
    "        data_states = X[:, layer_nb]\n",
    "        data_states = normlise_by_data_type(data_list, data_states)\n",
    "        if mode==\"PCA\":\n",
    "            pca = PCA(n_components=2)    \n",
    "            pca.fit([data_states[i] for i in pca_training_data_indices])\n",
    "        elif mode==\"LDA\":\n",
    "            pca = LDA(n_components=1)    \n",
    "            pca.fit([data_states[i] for i in pca_training_data_indices], [Y[i] for i in pca_training_data_indices])\n",
    "        x = pca.transform(data_states)\n",
    "        layer_pca.extend(x)\n",
    "        a = np.empty(len(x))\n",
    "        a.fill(layer_nb)\n",
    "        layer_id.extend(a)\n",
    "\n",
    "    layer_pca = np.array(layer_pca)\n",
    "    layer_id = np.array(layer_id)\n",
    "\n",
    "    # Every label is multiplied by the number of layers in order to have a data point for each input x layer\n",
    "    # Labels\n",
    "    # y = np.array([data_list[i].label for i in range(len(data_list))])\n",
    "    y_layered = np.tile(Y, (32))\n",
    "\n",
    "    input_text = np.array([data_list[i].input_text  for i in range(len(data_list))])\n",
    "    inputs_layered = np.tile(input_text, 32)\n",
    "\n",
    "    data_type = np.array([data_list[i].__class__.__name__  for i in range(len(data_list))])\n",
    "    data_type_layered = np.tile(data_type, 32)\n",
    "\n",
    "    output_length = np.array([data_list[i].output_length  for i in range(len(data_list))]) \n",
    "    output_length_layered = np.tile(output_length, 32)\n",
    "\n",
    "    swtich = np.array([data_list[i].switch_name  for i in range(len(data_list))])\n",
    "    swtich_layered = np.tile(swtich, 32)\n",
    "\n",
    "    output_text = np.array([data_list[i].output_text  for i in range(len(data_list))])\n",
    "    output_text_layered = np.tile(output_text, 32)\n",
    "\n",
    "    sufix = np.array([1 if data_list[i].sufix else 0  for i in range(len(data_list))])\n",
    "    sufix_layered = np.tile(sufix, 32)\n",
    "\n",
    "    if mode==\"PCA\":\n",
    "        df = pd.DataFrame(zip(layer_pca[:, 0], layer_pca[:, 1], inputs_layered, layer_id, y_layered, data_type_layered, output_length_layered, swtich_layered, output_text_layered, sufix_layered), \n",
    "                    columns=['pca1', 'pca2', \"input/output\", \"layer_id\", \"label\", \"data_type\", \"output_length\", \"switch\", \"output_text\", \"sufix\"])\n",
    "    elif mode==\"LDA\":\n",
    "        df = pd.DataFrame(zip(layer_pca[:, 0], inputs_layered, layer_id, y_layered, data_type_layered, output_length_layered, swtich_layered, output_text_layered, sufix_layered), \n",
    "                    columns=['pca1', \"input/output\", \"layer_id\", \"label\", \"data_type\", \"output_length\", \"switch\", \"output_text\", \"sufix\"])\n",
    "\n",
    "    return df"
   ]
  },
  {
   "cell_type": "code",
   "execution_count": 107,
   "metadata": {},
   "outputs": [
    {
     "name": "stdout",
     "output_type": "stream",
     "text": [
      "Size of training data: 398\n"
     ]
    }
   ],
   "source": [
    "# TRAIN PCA\n",
    "\n",
    "train_condition_fun = lambda el: el[1].__class__.__name__ in [\"english_word\"] #and len(el[1].output_text) < 10 #and el[1].input_text in [\"Time\", \"Blorble\", \"blorple\", \"Teacher\"]\n",
    "df = train_and_fit_pca(train_condition_fun, mode=\"PCA\")"
   ]
  },
  {
   "cell_type": "code",
   "execution_count": 108,
   "metadata": {},
   "outputs": [
    {
     "data": {
      "text/html": [
       "<div>\n",
       "<style scoped>\n",
       "    .dataframe tbody tr th:only-of-type {\n",
       "        vertical-align: middle;\n",
       "    }\n",
       "\n",
       "    .dataframe tbody tr th {\n",
       "        vertical-align: top;\n",
       "    }\n",
       "\n",
       "    .dataframe thead th {\n",
       "        text-align: right;\n",
       "    }\n",
       "</style>\n",
       "<table border=\"1\" class=\"dataframe\">\n",
       "  <thead>\n",
       "    <tr style=\"text-align: right;\">\n",
       "      <th></th>\n",
       "      <th>pca1</th>\n",
       "      <th>pca2</th>\n",
       "      <th>input/output</th>\n",
       "      <th>layer_id</th>\n",
       "      <th>label</th>\n",
       "      <th>data_type</th>\n",
       "      <th>output_length</th>\n",
       "      <th>switch</th>\n",
       "      <th>output_text</th>\n",
       "      <th>sufix</th>\n",
       "    </tr>\n",
       "  </thead>\n",
       "  <tbody>\n",
       "    <tr>\n",
       "      <th>302</th>\n",
       "      <td>57.963741</td>\n",
       "      <td>-28.472012</td>\n",
       "      <td>Time</td>\n",
       "      <td>0.0</td>\n",
       "      <td>4</td>\n",
       "      <td>english_word</td>\n",
       "      <td>4</td>\n",
       "      <td>None</td>\n",
       "      <td>Hour</td>\n",
       "      <td>0</td>\n",
       "    </tr>\n",
       "    <tr>\n",
       "      <th>303</th>\n",
       "      <td>-56.584879</td>\n",
       "      <td>-1.179993</td>\n",
       "      <td>Time</td>\n",
       "      <td>0.0</td>\n",
       "      <td>4</td>\n",
       "      <td>english_word</td>\n",
       "      <td>131</td>\n",
       "      <td>None</td>\n",
       "      <td>Time is a measure of the duration or sequence ...</td>\n",
       "      <td>0</td>\n",
       "    </tr>\n",
       "    <tr>\n",
       "      <th>304</th>\n",
       "      <td>57.226448</td>\n",
       "      <td>-27.161380</td>\n",
       "      <td>Year</td>\n",
       "      <td>0.0</td>\n",
       "      <td>4</td>\n",
       "      <td>english_word</td>\n",
       "      <td>5</td>\n",
       "      <td>None</td>\n",
       "      <td>Epoch</td>\n",
       "      <td>0</td>\n",
       "    </tr>\n",
       "    <tr>\n",
       "      <th>305</th>\n",
       "      <td>-58.277508</td>\n",
       "      <td>0.931203</td>\n",
       "      <td>Year</td>\n",
       "      <td>0.0</td>\n",
       "      <td>4</td>\n",
       "      <td>english_word</td>\n",
       "      <td>109</td>\n",
       "      <td>None</td>\n",
       "      <td>A year is a unit of time equal to 365.25 days,...</td>\n",
       "      <td>0</td>\n",
       "    </tr>\n",
       "    <tr>\n",
       "      <th>306</th>\n",
       "      <td>58.108056</td>\n",
       "      <td>-18.473300</td>\n",
       "      <td>People</td>\n",
       "      <td>0.0</td>\n",
       "      <td>4</td>\n",
       "      <td>english_word</td>\n",
       "      <td>7</td>\n",
       "      <td>None</td>\n",
       "      <td>Mankind</td>\n",
       "      <td>0</td>\n",
       "    </tr>\n",
       "    <tr>\n",
       "      <th>...</th>\n",
       "      <td>...</td>\n",
       "      <td>...</td>\n",
       "      <td>...</td>\n",
       "      <td>...</td>\n",
       "      <td>...</td>\n",
       "      <td>...</td>\n",
       "      <td>...</td>\n",
       "      <td>...</td>\n",
       "      <td>...</td>\n",
       "      <td>...</td>\n",
       "    </tr>\n",
       "    <tr>\n",
       "      <th>22195</th>\n",
       "      <td>-41.174050</td>\n",
       "      <td>-4.998941</td>\n",
       "      <td>Teacher</td>\n",
       "      <td>31.0</td>\n",
       "      <td>4</td>\n",
       "      <td>english_word</td>\n",
       "      <td>88</td>\n",
       "      <td>None</td>\n",
       "      <td>A teacher is a person who educates and guides ...</td>\n",
       "      <td>0</td>\n",
       "    </tr>\n",
       "    <tr>\n",
       "      <th>22196</th>\n",
       "      <td>46.709337</td>\n",
       "      <td>-3.664789</td>\n",
       "      <td>Force</td>\n",
       "      <td>31.0</td>\n",
       "      <td>4</td>\n",
       "      <td>english_word</td>\n",
       "      <td>5</td>\n",
       "      <td>None</td>\n",
       "      <td>Power</td>\n",
       "      <td>0</td>\n",
       "    </tr>\n",
       "    <tr>\n",
       "      <th>22197</th>\n",
       "      <td>-42.239298</td>\n",
       "      <td>-3.317554</td>\n",
       "      <td>Force</td>\n",
       "      <td>31.0</td>\n",
       "      <td>4</td>\n",
       "      <td>english_word</td>\n",
       "      <td>87</td>\n",
       "      <td>None</td>\n",
       "      <td>Force is the application of energy or strength...</td>\n",
       "      <td>0</td>\n",
       "    </tr>\n",
       "    <tr>\n",
       "      <th>22198</th>\n",
       "      <td>40.725191</td>\n",
       "      <td>-12.691637</td>\n",
       "      <td>Education</td>\n",
       "      <td>31.0</td>\n",
       "      <td>4</td>\n",
       "      <td>english_word</td>\n",
       "      <td>11</td>\n",
       "      <td>None</td>\n",
       "      <td>Scholarship</td>\n",
       "      <td>0</td>\n",
       "    </tr>\n",
       "    <tr>\n",
       "      <th>22199</th>\n",
       "      <td>-42.501345</td>\n",
       "      <td>-4.191418</td>\n",
       "      <td>Education</td>\n",
       "      <td>31.0</td>\n",
       "      <td>4</td>\n",
       "      <td>english_word</td>\n",
       "      <td>92</td>\n",
       "      <td>None</td>\n",
       "      <td>Education is the process of teaching, learning...</td>\n",
       "      <td>0</td>\n",
       "    </tr>\n",
       "  </tbody>\n",
       "</table>\n",
       "<p>6336 rows × 10 columns</p>\n",
       "</div>"
      ],
      "text/plain": [
       "            pca1       pca2 input/output  layer_id  label     data_type  \\\n",
       "302    57.963741 -28.472012         Time       0.0      4  english_word   \n",
       "303   -56.584879  -1.179993         Time       0.0      4  english_word   \n",
       "304    57.226448 -27.161380         Year       0.0      4  english_word   \n",
       "305   -58.277508   0.931203         Year       0.0      4  english_word   \n",
       "306    58.108056 -18.473300       People       0.0      4  english_word   \n",
       "...          ...        ...          ...       ...    ...           ...   \n",
       "22195 -41.174050  -4.998941      Teacher      31.0      4  english_word   \n",
       "22196  46.709337  -3.664789        Force      31.0      4  english_word   \n",
       "22197 -42.239298  -3.317554        Force      31.0      4  english_word   \n",
       "22198  40.725191 -12.691637    Education      31.0      4  english_word   \n",
       "22199 -42.501345  -4.191418    Education      31.0      4  english_word   \n",
       "\n",
       "       output_length switch  \\\n",
       "302                4   None   \n",
       "303              131   None   \n",
       "304                5   None   \n",
       "305              109   None   \n",
       "306                7   None   \n",
       "...              ...    ...   \n",
       "22195             88   None   \n",
       "22196              5   None   \n",
       "22197             87   None   \n",
       "22198             11   None   \n",
       "22199             92   None   \n",
       "\n",
       "                                             output_text  sufix  \n",
       "302                                                 Hour      0  \n",
       "303    Time is a measure of the duration or sequence ...      0  \n",
       "304                                                Epoch      0  \n",
       "305    A year is a unit of time equal to 365.25 days,...      0  \n",
       "306                                              Mankind      0  \n",
       "...                                                  ...    ...  \n",
       "22195  A teacher is a person who educates and guides ...      0  \n",
       "22196                                              Power      0  \n",
       "22197  Force is the application of energy or strength...      0  \n",
       "22198                                        Scholarship      0  \n",
       "22199  Education is the process of teaching, learning...      0  \n",
       "\n",
       "[6336 rows x 10 columns]"
      ]
     },
     "execution_count": 108,
     "metadata": {},
     "output_type": "execute_result"
    }
   ],
   "source": [
    "df[(df[\"data_type\"] == \"english_word\") & (df[\"label\"]== 4)]"
   ]
  },
  {
   "cell_type": "code",
   "execution_count": 109,
   "metadata": {},
   "outputs": [],
   "source": [
    "# print(df[(df[\"data_type\"] == \"conspiracy\") & (df[\"output_length\"] is not None)& (df[\"label\"] == 2) & (df[\"input/output\"] == \"Watergate Scandal\") & (df[\"layer_id\"] == 16)][\"output_text\"].item())"
   ]
  },
  {
   "cell_type": "code",
   "execution_count": 110,
   "metadata": {},
   "outputs": [
    {
     "name": "stderr",
     "output_type": "stream",
     "text": [
      "/tmp/ipykernel_397604/3607118602.py:8: SettingWithCopyWarning:\n",
      "\n",
      "\n",
      "A value is trying to be set on a copy of a slice from a DataFrame.\n",
      "Try using .loc[row_indexer,col_indexer] = value instead\n",
      "\n",
      "See the caveats in the documentation: https://pandas.pydata.org/pandas-docs/stable/user_guide/indexing.html#returning-a-view-versus-a-copy\n",
      "\n",
      "/tmp/ipykernel_397604/3607118602.py:9: SettingWithCopyWarning:\n",
      "\n",
      "\n",
      "A value is trying to be set on a copy of a slice from a DataFrame.\n",
      "Try using .loc[row_indexer,col_indexer] = value instead\n",
      "\n",
      "See the caveats in the documentation: https://pandas.pydata.org/pandas-docs/stable/user_guide/indexing.html#returning-a-view-versus-a-copy\n",
      "\n"
     ]
    },
    {
     "data": {
      "application/vnd.plotly.v1+json": {
       "config": {
        "plotlyServerURL": "https://plot.ly"
       },
       "data": [
        {
         "customdata": [
          [
           "Leonardo da Vinci",
           16,
           4,
           null
          ],
          [
           "Leonardo da Vinci",
           16,
           197,
           null
          ],
          [
           "Napoleon Bonaparte",
           16,
           4,
           null
          ],
          [
           "Napoleon Bonaparte",
           16,
           203,
           null
          ],
          [
           "Mahatma Gandhi",
           16,
           4,
           null
          ],
          [
           "Mahatma Gandhi",
           16,
           182,
           null
          ],
          [
           "Albert Einstein",
           16,
           4,
           null
          ],
          [
           "Albert Einstein",
           16,
           169,
           null
          ],
          [
           "Marilyn Monroe",
           16,
           4,
           null
          ],
          [
           "Marilyn Monroe",
           16,
           149,
           null
          ],
          [
           "Queen Elizabeth I",
           16,
           4,
           null
          ],
          [
           "Queen Elizabeth I",
           16,
           181,
           null
          ],
          [
           "Nelson Mandela",
           16,
           4,
           null
          ],
          [
           "Nelson Mandela",
           16,
           194,
           null
          ],
          [
           "Mother Teresa",
           16,
           4,
           null
          ],
          [
           "Mother Teresa",
           16,
           151,
           null
          ],
          [
           "Wolfgang Amadeus Mozart",
           16,
           4,
           null
          ],
          [
           "Wolfgang Amadeus Mozart",
           16,
           181,
           null
          ],
          [
           "Michelangelo",
           16,
           4,
           null
          ],
          [
           "Michelangelo",
           16,
           206,
           null
          ],
          [
           "Karl Marx",
           16,
           4,
           null
          ],
          [
           "Karl Marx",
           16,
           182,
           null
          ],
          [
           "Martin Luther King Jr.",
           16,
           4,
           null
          ],
          [
           "Martin Luther King Jr.",
           16,
           206,
           null
          ],
          [
           "Alexander Hamilton",
           16,
           4,
           null
          ],
          [
           "Alexander Hamilton",
           16,
           197,
           null
          ],
          [
           "Thomas Edison",
           16,
           4,
           null
          ],
          [
           "Thomas Edison",
           16,
           184,
           null
          ],
          [
           "Charles Darwin",
           16,
           4,
           null
          ],
          [
           "Charles Darwin",
           16,
           194,
           null
          ],
          [
           "Marie Curie",
           16,
           4,
           null
          ],
          [
           "Marie Curie",
           16,
           206,
           null
          ],
          [
           "Vincent van Gogh",
           16,
           4,
           null
          ],
          [
           "Vincent van Gogh",
           16,
           202,
           null
          ],
          [
           "Galileo Galilei",
           16,
           4,
           null
          ],
          [
           "Galileo Galilei",
           16,
           156,
           null
          ],
          [
           "Benjamin Franklin",
           16,
           4,
           null
          ],
          [
           "Benjamin Franklin",
           16,
           147,
           null
          ],
          [
           "Queen Victoria",
           16,
           4,
           null
          ],
          [
           "Queen Victoria",
           16,
           153,
           null
          ],
          [
           "Pablo Picasso",
           16,
           4,
           null
          ],
          [
           "Pablo Picasso",
           16,
           191,
           null
          ],
          [
           "Winston Churchill",
           16,
           4,
           null
          ],
          [
           "Winston Churchill",
           16,
           221,
           null
          ],
          [
           "Adolf Hitler",
           16,
           4,
           null
          ],
          [
           "Adolf Hitler",
           16,
           209,
           null
          ],
          [
           "Catherine the Great",
           16,
           4,
           null
          ],
          [
           "Catherine the Great",
           16,
           209,
           null
          ],
          [
           "Joan of Arc",
           16,
           4,
           null
          ],
          [
           "Joan of Arc",
           16,
           143,
           null
          ],
          [
           "George Washington",
           16,
           4,
           null
          ],
          [
           "George Washington",
           16,
           157,
           null
          ],
          [
           "John F. Kennedy",
           16,
           4,
           null
          ],
          [
           "John F. Kennedy",
           16,
           174,
           null
          ],
          [
           "Frida Kahlo",
           16,
           4,
           null
          ],
          [
           "Frida Kahlo",
           16,
           229,
           null
          ],
          [
           "Johann Sebastian Bach",
           16,
           4,
           null
          ],
          [
           "Johann Sebastian Bach",
           16,
           171,
           null
          ],
          [
           "Napoleon III",
           16,
           4,
           null
          ],
          [
           "Napoleon III",
           16,
           148,
           null
          ],
          [
           "Thomas Jefferson",
           16,
           4,
           null
          ],
          [
           "Thomas Jefferson",
           16,
           191,
           null
          ],
          [
           "Isaac Newton",
           16,
           4,
           null
          ],
          [
           "Isaac Newton",
           16,
           211,
           null
          ],
          [
           "Elizabeth Taylor",
           16,
           4,
           null
          ],
          [
           "Elizabeth Taylor",
           16,
           138,
           null
          ],
          [
           "Michael Jordan",
           16,
           4,
           null
          ],
          [
           "Michael Jordan",
           16,
           234,
           null
          ],
          [
           "Neil Armstrong",
           16,
           4,
           null
          ],
          [
           "Neil Armstrong",
           16,
           147,
           null
          ],
          [
           "Bruce Lee",
           16,
           4,
           null
          ],
          [
           "Bruce Lee",
           16,
           183,
           null
          ],
          [
           "Tupac Shakur",
           16,
           4,
           null
          ],
          [
           "Tupac Shakur",
           16,
           202,
           null
          ],
          [
           "Elvis Presley",
           16,
           4,
           null
          ],
          [
           "Elvis Presley",
           16,
           158,
           null
          ],
          [
           "Walt Disney",
           16,
           4,
           null
          ],
          [
           "Walt Disney",
           16,
           198,
           null
          ],
          [
           "Cristiano Ronaldo",
           16,
           4,
           null
          ],
          [
           "Cristiano Ronaldo",
           16,
           183,
           null
          ],
          [
           "Abraham Lincoln",
           16,
           4,
           null
          ],
          [
           "Abraham Lincoln",
           16,
           151,
           null
          ],
          [
           "Mao Zedong",
           16,
           4,
           null
          ],
          [
           "Mao Zedong",
           16,
           195,
           null
          ],
          [
           "Anne Frank",
           16,
           4,
           null
          ],
          [
           "Anne Frank",
           16,
           140,
           null
          ],
          [
           "Stephen Hawking",
           16,
           4,
           null
          ],
          [
           "Stephen Hawking",
           16,
           182,
           null
          ],
          [
           "Fidel Castro",
           16,
           4,
           null
          ],
          [
           "Fidel Castro",
           16,
           216,
           null
          ],
          [
           "James Cook",
           16,
           4,
           null
          ],
          [
           "James Cook",
           16,
           193,
           null
          ],
          [
           "Henry Ford",
           16,
           4,
           null
          ],
          [
           "Henry Ford",
           16,
           182,
           null
          ],
          [
           "Salvador Dalí",
           16,
           4,
           null
          ],
          [
           "Salvador Dalí",
           16,
           162,
           null
          ],
          [
           "Queen Isabella I of Castile",
           16,
           4,
           null
          ],
          [
           "Queen Isabella I of Castile",
           16,
           173,
           null
          ],
          [
           "Pope Francis",
           16,
           4,
           null
          ],
          [
           "Pope Francis",
           16,
           131,
           null
          ],
          [
           "Stephen King",
           16,
           4,
           null
          ],
          [
           "Stephen King",
           16,
           142,
           null
          ],
          [
           "Amelia Earhart",
           16,
           4,
           null
          ],
          [
           "Amelia Earhart",
           16,
           193,
           null
          ],
          [
           "Emily Dickinson",
           16,
           4,
           null
          ],
          [
           "Emily Dickinson",
           16,
           205,
           null
          ],
          [
           "Alfred Nobel",
           16,
           4,
           null
          ],
          [
           "Alfred Nobel",
           16,
           206,
           null
          ],
          [
           "Gustave Eiffel",
           16,
           4,
           null
          ],
          [
           "Gustave Eiffel",
           16,
           133,
           null
          ],
          [
           "Al Capone",
           16,
           4,
           null
          ],
          [
           "Al Capone",
           16,
           139,
           null
          ],
          [
           "Jackie Robinson",
           16,
           4,
           null
          ],
          [
           "Jackie Robinson",
           16,
           174,
           null
          ],
          [
           "Margaret Thatcher",
           16,
           4,
           null
          ],
          [
           "Margaret Thatcher",
           16,
           179,
           null
          ],
          [
           "Vladimir Lenin",
           16,
           4,
           null
          ],
          [
           "Vladimir Lenin",
           16,
           153,
           null
          ],
          [
           "Babe Ruth",
           16,
           4,
           null
          ],
          [
           "Babe Ruth",
           16,
           172,
           null
          ],
          [
           "Rosa Parks",
           16,
           4,
           null
          ],
          [
           "Rosa Parks",
           16,
           195,
           null
          ],
          [
           "Che Guevara",
           16,
           4,
           null
          ],
          [
           "Che Guevara",
           16,
           175,
           null
          ],
          [
           "Sigmund Freud",
           16,
           4,
           null
          ],
          [
           "Sigmund Freud",
           16,
           158,
           null
          ],
          [
           "Christopher Columbus",
           16,
           4,
           null
          ],
          [
           "Christopher Columbus",
           16,
           166,
           null
          ],
          [
           "Mark Twain",
           16,
           4,
           null
          ],
          [
           "Mark Twain",
           16,
           154,
           null
          ],
          [
           "Alexander Graham Bell",
           16,
           4,
           null
          ],
          [
           "Alexander Graham Bell",
           16,
           126,
           null
          ],
          [
           "Paul McCartney",
           16,
           4,
           null
          ],
          [
           "Paul McCartney",
           16,
           152,
           null
          ],
          [
           "Nikola Tesla",
           16,
           4,
           null
          ],
          [
           "Nikola Tesla",
           16,
           175,
           null
          ],
          [
           "Bruce Springsteen",
           16,
           4,
           null
          ],
          [
           "Bruce Springsteen",
           16,
           149,
           null
          ],
          [
           "Emily Brontë",
           16,
           4,
           null
          ],
          [
           "Emily Brontë",
           16,
           197,
           null
          ],
          [
           "Teresa of Ávila",
           16,
           4,
           null
          ],
          [
           "Teresa of Ávila",
           16,
           172,
           null
          ],
          [
           "John Lennon",
           16,
           4,
           null
          ],
          [
           "John Lennon",
           16,
           158,
           null
          ],
          [
           "Charlie Chaplin",
           16,
           4,
           null
          ],
          [
           "Charlie Chaplin",
           16,
           171,
           null
          ],
          [
           "Kurt Cobain",
           16,
           4,
           null
          ],
          [
           "Kurt Cobain",
           16,
           165,
           null
          ],
          [
           "Oscar Wilde",
           16,
           4,
           null
          ],
          [
           "Oscar Wilde",
           16,
           198,
           null
          ],
          [
           "Richard Nixon",
           16,
           4,
           null
          ],
          [
           "Richard Nixon",
           16,
           146,
           null
          ],
          [
           "Muhammad Ali",
           16,
           4,
           null
          ],
          [
           "Muhammad Ali",
           16,
           166,
           null
          ],
          [
           "Helen Keller",
           16,
           4,
           null
          ],
          [
           "Helen Keller",
           16,
           189,
           null
          ],
          [
           "Steve Jobs",
           16,
           4,
           null
          ],
          [
           "Steve Jobs",
           16,
           196,
           null
          ],
          [
           "Oprah Winfrey",
           16,
           4,
           null
          ],
          [
           "Oprah Winfrey",
           16,
           219,
           null
          ],
          [
           "Barack Obama",
           16,
           4,
           null
          ],
          [
           "Barack Obama",
           16,
           163,
           null
          ],
          [
           "Xi Jinping",
           16,
           4,
           null
          ],
          [
           "Xi Jinping",
           16,
           154,
           null
          ],
          [
           "Kim Jong Un",
           16,
           4,
           null
          ],
          [
           "Kim Jong Un",
           16,
           132,
           null
          ],
          [
           "Narendra Modi",
           16,
           4,
           null
          ],
          [
           "Narendra Modi",
           16,
           149,
           null
          ],
          [
           "Aung San Suu Kyi",
           16,
           4,
           null
          ],
          [
           "Aung San Suu Kyi",
           16,
           201,
           null
          ]
         ],
         "hovertemplate": "label=0<br>data_type=celebrity<br>random_value=%{x}<br>pca2=%{y}<br>input/output=%{customdata[0]}<br>layer_id=%{customdata[1]}<br>output_length=%{customdata[2]}<br>switch=%{customdata[3]}<extra></extra>",
         "legendgroup": "0, celebrity",
         "marker": {
          "color": "#ef6c00",
          "symbol": "circle"
         },
         "mode": "markers",
         "name": "0, celebrity",
         "orientation": "v",
         "showlegend": true,
         "type": "scatter",
         "x": [
          0.6861009700993546,
          0.9945889408893054,
          0.03740054318927066,
          0.8036584256877324,
          0.6649565853222286,
          0.47743318399239776,
          0.6458388617468334,
          0.7140277500863286,
          0.9558313771385376,
          0.45839314634801076,
          0.9397499518895205,
          0.1880719285022857,
          0.01818242125335323,
          0.8965517737284177,
          0.5518931567446265,
          0.8522206120821069,
          0.8627718186876878,
          0.6568603937948635,
          0.4226295823492532,
          0.3905136462669426,
          0.45760968090898224,
          0.09836684679875707,
          0.19397648102667386,
          0.7997680894036978,
          0.44591737608411597,
          0.4946034610154989,
          0.7834978867703531,
          0.7849336694879135,
          0.9521480147202571,
          0.007748497731595916,
          0.3854421079319721,
          0.3398178272779817,
          0.045028128524313704,
          0.771967537924127,
          0.31274492552997535,
          0.9684499740155892,
          0.5294835931178019,
          0.45258563442088295,
          0.8381972269299311,
          0.19143290150383663,
          0.019249395119135038,
          0.5786881720759426,
          0.48700300127899665,
          0.5974365912357715,
          0.42311481870644096,
          0.4854883276378805,
          0.3749252832170642,
          0.10315366630263556,
          0.8082943685458388,
          0.0679806758600805,
          0.5922818736860532,
          0.870157252168628,
          0.8721983341149061,
          0.4721119893396645,
          0.5141195021501763,
          0.05803522493751756,
          0.9066931347852725,
          0.1223065084174787,
          0.6004984790358299,
          0.22267307908378198,
          0.11666983057292024,
          0.7451871830133876,
          0.8674143986182643,
          0.6963708313752589,
          0.6328635426541351,
          0.06536080336179251,
          0.7701877308260556,
          0.009124671826116648,
          0.2750420179678904,
          0.6150420340456194,
          0.38753869781495554,
          0.19460909442950258,
          0.31775993246092615,
          0.10632265231391891,
          0.9650229172318994,
          0.301110654346778,
          0.3289003573160165,
          0.9920624922119451,
          0.6143689781273293,
          0.6899083110883248,
          0.37434343769676026,
          0.32371167701876846,
          0.14917595357215785,
          0.3874376547718563,
          0.8190605675219316,
          0.8942159516960227,
          0.2690786623839222,
          0.5565570687613021,
          0.9089415794635878,
          0.8989261590895553,
          0.24115743126617306,
          0.6502746870450039,
          0.6641236903402324,
          0.009633526137626247,
          0.38085856158948617,
          0.908896074334277,
          0.8785464695513167,
          0.8013999788723154,
          0.7146043141571155,
          0.9704536755710872,
          0.009732170649288885,
          0.6829514260736972,
          0.5507629577274755,
          0.26895741145546437,
          0.5614273485206379,
          0.756648699449593,
          0.05618534153937582,
          0.5265984635073836,
          0.0053159275022083285,
          0.3589891391122463,
          0.5242279339450635,
          0.9369608665337789,
          0.992107016196315,
          0.36177051748246714,
          0.25438597317900236,
          0.6253131829660858,
          0.1400775637060524,
          0.12365025641909455,
          0.615798928990802,
          0.9822931627931673,
          0.991054625116662,
          0.8120207570349489,
          0.9439594003218158,
          0.3278936417716777,
          0.9493495483513286,
          0.1971254675927714,
          0.878056443905858,
          0.8687641197711806,
          0.6001405819809833,
          0.02230986579484895,
          0.6441371723029554,
          0.7494486120706572,
          0.5220837589685801,
          0.7836014064770945,
          0.9975350836893226,
          0.5825441080625455,
          0.8067930912059857,
          0.021652131749854586,
          0.0005812796300846967,
          0.43121157884161765,
          0.46470343535834024,
          0.5311964956728743,
          0.5148606718457515,
          0.6516516186164156,
          0.3865097129481102,
          0.2246304049631902,
          0.7489004975054357,
          0.8008507007547747,
          0.3165243483876148,
          0.5580791160324022,
          0.18446057707630636,
          0.4257966401517099,
          0.07184543541446065,
          0.3751843907217679,
          0.666046742145045,
          0.49939758951633717,
          0.6250974216341292,
          0.6669737054420491,
          0.14998487007414818,
          0.10836208169561867,
          0.21169718433166607,
          0.04054220304508227,
          0.4006584898585537,
          0.5864922444470908,
          0.24963490554759393,
          0.7658321269917575,
          0.5599289455155125,
          0.4185361016697755,
          0.8160302266703761,
          0.6735929296664395
         ],
         "xaxis": "x",
         "y": [
          -3.7307506841076084,
          2.8964227470937587,
          -8.427013457229345,
          1.8541738253856905,
          -7.658831191127462,
          1.4283241168686172,
          -9.901316107020316,
          2.147603199667115,
          -6.81206529593495,
          3.2793741509902645,
          -3.5583957048421597,
          2.3105911554320135,
          -6.33552206713776,
          1.6882624907382509,
          -4.026012962024093,
          2.2597372398998137,
          -10.09437058081968,
          1.995881091140907,
          -2.391595513185103,
          2.9312837891162324,
          -7.737037795319138,
          2.463341298044904,
          -6.078634773493546,
          2.5152115209330614,
          -4.617793699279792,
          2.2423607137737744,
          -9.461226391080196,
          2.934366174309877,
          -9.179375678842927,
          3.0840041036312322,
          -8.580109404977515,
          2.1256334857903134,
          -8.713382807535474,
          3.457867074393998,
          -8.685705396999614,
          2.453835095592753,
          -6.57958384396963,
          2.200035556515035,
          -7.416544092309596,
          2.291013017774807,
          -8.816631768588685,
          2.4178572900199278,
          -8.356577506278128,
          3.7918052704834646,
          -6.5607703089815335,
          5.005390537180956,
          -5.523671590999364,
          2.579796854702689,
          -5.522594110632,
          2.4746907702911267,
          -4.968029486421909,
          2.6092972699572115,
          -7.33414303360904,
          3.014395954454814,
          -8.568459327956134,
          1.8314911944218462,
          -6.21756036126126,
          2.1791579661829457,
          -4.367907663780704,
          3.074166228430763,
          -8.590276666489356,
          1.7373050527140994,
          -6.131674030789343,
          1.9745032233322142,
          -7.143829879995883,
          2.5505805667820542,
          -6.113066133615632,
          3.5937422889570136,
          -3.5377037320476687,
          1.9695891452381062,
          -6.846119024754169,
          2.273967625242774,
          -6.247187524298097,
          3.015449952604711,
          -7.654397543747634,
          2.6059997697748365,
          -8.221669412356144,
          1.99817457624735,
          -6.1103060155649604,
          3.7752108727501295,
          -9.64691475170169,
          2.3070282067017445,
          -4.377012214509088,
          2.565004599844693,
          -2.458361979715097,
          2.3266697094880815,
          -8.724465639822993,
          2.5196391161309606,
          -7.061967830536631,
          2.3870463742288006,
          -5.758072415976899,
          3.0426598815088752,
          -8.282949473536442,
          2.630536253959811,
          -7.715610957029119,
          2.9715549093484075,
          -2.3210697848033437,
          2.7810827795036843,
          -3.9822463203268796,
          2.8000659873111537,
          -7.419362954593955,
          3.691336527426286,
          -7.167038239334897,
          2.4751832252283914,
          -6.4052650344394975,
          1.6794259710810213,
          -5.880651100021653,
          3.104108298150197,
          -7.496963218921578,
          4.018808919689537,
          -6.450336796575208,
          2.7948350386054903,
          -5.704178478543662,
          2.7546172836172413,
          -5.925542632411089,
          2.5267358142460403,
          -5.152226849059381,
          2.268769208514102,
          -5.760445614666429,
          2.5214765488201065,
          -6.7347809013299775,
          2.8203537618971897,
          -6.526722160874711,
          2.7188540584951846,
          -7.935295907611709,
          2.134775139095286,
          -2.2844371954066562,
          2.6390321572947437,
          -7.808734105632677,
          3.4692567500031766,
          -9.063934890643647,
          2.893726062682111,
          -7.649104856245755,
          2.3015104230653183,
          -8.450812718056987,
          3.2639172645867713,
          -7.402488346678329,
          2.980645002147345,
          -9.02482992798109,
          3.5257845490349746,
          -2.939845910535754,
          3.0177522688347405,
          -5.10361574483686,
          3.055129021274482,
          -8.161032764200572,
          2.1387295294747735,
          -7.391416095861068,
          3.036111839002443,
          -8.070158773320987,
          3.2518502985503313,
          -6.202057512365819,
          3.1958713711301723,
          -8.046318366430587,
          2.661073827156104,
          -7.886186241183398,
          1.7942757655005441,
          -5.830722973566973,
          2.4445596685835786,
          -6.682971036210452,
          3.487109085686628,
          -7.5910726659424705,
          2.7019449339698802,
          -5.363056785383151,
          3.4976446930769614,
          -5.273953500764657,
          3.8979783882402677,
          -4.293058828246119,
          3.405913510638017,
          -3.7311923608042195,
          3.583978187928283
         ],
         "yaxis": "y"
        },
        {
         "customdata": [
          [
           "Darien Hawthorne",
           16,
           4,
           null
          ],
          [
           "Darien Hawthorne",
           16,
           160,
           null
          ],
          [
           "Leandra Rivers",
           16,
           4,
           null
          ],
          [
           "Leandra Rivers",
           16,
           189,
           null
          ],
          [
           "Elara Meadows",
           16,
           4,
           null
          ],
          [
           "Elara Meadows",
           16,
           165,
           null
          ],
          [
           "Liora Ashby",
           16,
           4,
           null
          ],
          [
           "Liora Ashby",
           16,
           193,
           null
          ],
          [
           "Thaddeus Sterling",
           16,
           4,
           null
          ],
          [
           "Thaddeus Sterling",
           16,
           210,
           null
          ],
          [
           "Seraphina Winter",
           16,
           4,
           null
          ],
          [
           "Seraphina Winter",
           16,
           157,
           null
          ],
          [
           "Declan Monroe",
           16,
           4,
           null
          ],
          [
           "Declan Monroe",
           16,
           142,
           null
          ],
          [
           "Zephyr Callahan",
           16,
           4,
           null
          ],
          [
           "Zephyr Callahan",
           16,
           174,
           null
          ],
          [
           "Lyra Whitaker",
           16,
           4,
           null
          ],
          [
           "Lyra Whitaker",
           16,
           191,
           null
          ],
          [
           "Boris kovelev",
           16,
           4,
           null
          ],
          [
           "Boris kovelev",
           16,
           138,
           null
          ],
          [
           "Alessia Rossi",
           16,
           4,
           null
          ],
          [
           "Alessia Rossi",
           16,
           178,
           null
          ],
          [
           "Henrik Bergström",
           16,
           4,
           null
          ],
          [
           "Henrik Bergström",
           16,
           173,
           null
          ],
          [
           "Isabella Novák",
           16,
           4,
           null
          ],
          [
           "Isabella Novák",
           16,
           159,
           null
          ],
          [
           "Lucas Müller",
           16,
           4,
           null
          ],
          [
           "Lucas Müller",
           16,
           184,
           null
          ],
          [
           "Sofia Kostas",
           16,
           4,
           null
          ],
          [
           "Sofia Kostas",
           16,
           154,
           null
          ],
          [
           "jean-pierre Perrez",
           16,
           4,
           null
          ],
          [
           "jean-pierre Perrez",
           16,
           191,
           null
          ],
          [
           "Haruki Suzuki",
           16,
           4,
           null
          ],
          [
           "Haruki Suzuki",
           16,
           139,
           null
          ],
          [
           "Mei Pin",
           16,
           4,
           null
          ],
          [
           "Mei Pin",
           16,
           137,
           null
          ],
          [
           "Haeki Wei",
           16,
           4,
           null
          ],
          [
           "Haeki Wei",
           16,
           138,
           null
          ],
          [
           "Thibault Ricard",
           16,
           4,
           null
          ],
          [
           "Thibault Ricard",
           16,
           191,
           null
          ],
          [
           "Li Yamamoto",
           16,
           4,
           null
          ],
          [
           "Li Yamamoto",
           16,
           168,
           null
          ],
          [
           "Surya Gupta",
           16,
           4,
           null
          ],
          [
           "Surya Gupta",
           16,
           184,
           null
          ],
          [
           "Yann Fujimoto",
           16,
           4,
           null
          ],
          [
           "Yann Fujimoto",
           16,
           197,
           null
          ],
          [
           "Camila Santos",
           16,
           4,
           null
          ],
          [
           "Camila Santos",
           16,
           154,
           null
          ],
          [
           "Mateo Rodriguez",
           16,
           4,
           null
          ],
          [
           "Mateo Rodriguez",
           16,
           159,
           null
          ],
          [
           "Gabriel Herrera",
           16,
           4,
           null
          ],
          [
           "Gabriel Herrera",
           16,
           156,
           null
          ],
          [
           "Valentina Silva",
           16,
           4,
           null
          ],
          [
           "Valentina Silva",
           16,
           140,
           null
          ],
          [
           "Alejandro chavez",
           16,
           4,
           null
          ],
          [
           "Alejandro chavez",
           16,
           184,
           null
          ],
          [
           "Adamma Nwosu",
           16,
           4,
           null
          ],
          [
           "Adamma Nwosu",
           16,
           184,
           null
          ],
          [
           "Kwame Osei",
           16,
           4,
           null
          ],
          [
           "Kwame Osei",
           16,
           174,
           null
          ],
          [
           "Asha Nkrumah",
           16,
           4,
           null
          ],
          [
           "Asha Nkrumah",
           16,
           146,
           null
          ],
          [
           "Jabari Mbeki",
           16,
           4,
           null
          ],
          [
           "Jabari Mbeki",
           16,
           206,
           null
          ],
          [
           "Sanaa Diop",
           16,
           4,
           null
          ],
          [
           "Sanaa Diop",
           16,
           156,
           null
          ],
          [
           "Oluwa Adeyemi",
           16,
           4,
           null
          ],
          [
           "Oluwa Adeyemi",
           16,
           178,
           null
          ],
          [
           "Tafari Asante",
           16,
           4,
           null
          ],
          [
           "Tafari Asante",
           16,
           223,
           null
          ],
          [
           "Amina Dube",
           16,
           4,
           null
          ],
          [
           "Amina Dube",
           16,
           134,
           null
          ],
          [
           "Kofi Abimbola",
           16,
           4,
           null
          ],
          [
           "Kofi Abimbola",
           16,
           126,
           null
          ],
          [
           "Tane Ngata",
           16,
           4,
           null
          ],
          [
           "Tane Ngata",
           16,
           140,
           null
          ],
          [
           "Moana Mahana",
           16,
           4,
           null
          ],
          [
           "Moana Mahana",
           16,
           143,
           null
          ],
          [
           "Aroha Tamati",
           16,
           4,
           null
          ],
          [
           "Aroha Tamati",
           16,
           160,
           null
          ],
          [
           "Kai Tehei",
           16,
           4,
           null
          ],
          [
           "Kai Tehei",
           16,
           166,
           null
          ],
          [
           "Marama Pōtiki",
           16,
           4,
           null
          ],
          [
           "Marama Pōtiki",
           16,
           127,
           null
          ],
          [
           "Rangi Tavita",
           16,
           4,
           null
          ],
          [
           "Rangi Tavita",
           16,
           167,
           null
          ],
          [
           "Hine Rehua",
           16,
           4,
           null
          ],
          [
           "Hine Rehua",
           16,
           165,
           null
          ],
          [
           "Manaia Whakarua",
           16,
           4,
           null
          ],
          [
           "Manaia Whakarua",
           16,
           157,
           null
          ],
          [
           "Kiri Waimarie",
           16,
           4,
           null
          ],
          [
           "Kiri Waimarie",
           16,
           146,
           null
          ],
          [
           "John Ngaio",
           16,
           4,
           null
          ],
          [
           "John Ngaio",
           16,
           154,
           null
          ],
          [
           "Amir al-Farsi",
           16,
           3,
           null
          ],
          [
           "Amir al-Farsi",
           16,
           173,
           null
          ],
          [
           "Layla Nassar",
           16,
           4,
           null
          ],
          [
           "Layla Nassar",
           16,
           126,
           null
          ],
          [
           "Farid Khoury",
           16,
           4,
           null
          ],
          [
           "Farid Khoury",
           16,
           149,
           null
          ],
          [
           "Samira Alawi",
           16,
           4,
           null
          ],
          [
           "Samira Alawi",
           16,
           167,
           null
          ],
          [
           "Karim Hassan",
           16,
           4,
           null
          ],
          [
           "Karim Hassan",
           16,
           150,
           null
          ],
          [
           "Leila Rizvi",
           16,
           4,
           null
          ],
          [
           "Leila Rizvi",
           16,
           175,
           null
          ],
          [
           "Zahir Mansour",
           16,
           4,
           null
          ],
          [
           "Zahir Mansour",
           16,
           144,
           null
          ],
          [
           "Aisha Qadri",
           16,
           4,
           null
          ],
          [
           "Aisha Qadri",
           16,
           150,
           null
          ],
          [
           "Alfred Abbasi",
           16,
           4,
           null
          ],
          [
           "Alfred Abbasi",
           16,
           185,
           null
          ],
          [
           "Yousef Khalid",
           16,
           4,
           null
          ],
          [
           "Yousef Khalid",
           16,
           163,
           null
          ],
          [
           "Arjuna Tan",
           16,
           4,
           null
          ],
          [
           "Arjuna Tan",
           16,
           221,
           null
          ],
          [
           "Hera Nurul",
           16,
           4,
           null
          ],
          [
           "Hera Nurul",
           16,
           206,
           null
          ],
          [
           "Christopher Nguyen",
           16,
           4,
           null
          ],
          [
           "Christopher Nguyen",
           16,
           144,
           null
          ],
          [
           "Aisha Ebrahim",
           16,
           4,
           null
          ],
          [
           "Aisha Ebrahim",
           16,
           163,
           null
          ],
          [
           "Prabhu Rajan",
           16,
           4,
           null
          ],
          [
           "Prabhu Rajan",
           16,
           168,
           null
          ],
          [
           "Surya Dewi",
           16,
           4,
           null
          ],
          [
           "Surya Dewi",
           16,
           188,
           null
          ],
          [
           "Kritika Sharma",
           16,
           4,
           null
          ],
          [
           "Kritika Sharma",
           16,
           140,
           null
          ],
          [
           "Somchai Pong",
           16,
           4,
           null
          ],
          [
           "Somchai Pong",
           16,
           164,
           null
          ],
          [
           "Patrik Sari",
           16,
           4,
           null
          ],
          [
           "Patrik Sari",
           16,
           153,
           null
          ]
         ],
         "hovertemplate": "label=1<br>data_type=celebrity<br>random_value=%{x}<br>pca2=%{y}<br>input/output=%{customdata[0]}<br>layer_id=%{customdata[1]}<br>output_length=%{customdata[2]}<br>switch=%{customdata[3]}<extra></extra>",
         "legendgroup": "1, celebrity",
         "marker": {
          "color": "#eeff41",
          "symbol": "circle"
         },
         "mode": "markers",
         "name": "1, celebrity",
         "orientation": "v",
         "showlegend": true,
         "type": "scatter",
         "x": [
          0.0013099539341344668,
          0.249486659402696,
          0.8984962142954043,
          0.45188852374278954,
          0.30015269044628023,
          0.6234194590445924,
          0.7780142474090448,
          0.8340240664894207,
          0.1490499603257479,
          0.2757437524830971,
          0.39483142257613824,
          0.3336123243518412,
          0.19022924105307604,
          0.06438634121119746,
          0.29528774846034145,
          0.4103499205382175,
          0.8252606470823163,
          0.8758851925450073,
          0.1314785895640903,
          0.07066574562022465,
          0.8872279773947347,
          0.25115861798865435,
          0.5466543345975812,
          0.3390192265085249,
          0.21388311303441254,
          0.5730177728495202,
          0.16703166448887496,
          0.8705736009412516,
          0.9843126501491172,
          0.06648405277156388,
          0.8480375974678204,
          0.19192197354774676,
          0.6457000878341517,
          0.6554964853652107,
          0.03598182555823759,
          0.3108897040333696,
          0.43748341882284225,
          0.3072664793141743,
          0.7712244256272502,
          0.46256301604418393,
          0.6619215801648015,
          0.7018082645466736,
          0.30939556103608645,
          0.9309745355833887,
          0.8529644237161258,
          0.8077963570739881,
          0.8694384141962028,
          0.8323676243489796,
          0.0942354476844468,
          0.8349093566961369,
          0.7187727793129147,
          0.7831964799630794,
          0.45221344728211077,
          0.5350886761281635,
          0.23423884319045163,
          0.03741109641039997,
          0.9098790472369617,
          0.9505937198746292,
          0.6050742803757836,
          0.30754124750373146,
          0.4014939948386419,
          0.15578702820889,
          0.5175056575490038,
          0.596916233444353,
          0.776957511456475,
          0.0386818883041703,
          0.22378966327450212,
          0.7585415987235018,
          0.7513620265303492,
          0.9917421257575256,
          0.32562460736903,
          0.8599916983254436,
          0.20864321304432254,
          0.5536194281436034,
          0.2890046246974959,
          0.6875162366344781,
          0.9461981330105108,
          0.19912778227962158,
          0.5791176876837366,
          0.8216370966943489,
          0.7528619021200417,
          0.21133286156796127,
          0.18526475437236556,
          0.7892090160193102,
          0.879892356475644,
          0.939183768058747,
          0.08569406909218646,
          0.9511115434707802,
          0.5641662952207325,
          0.04302813506166492,
          0.14751370241065354,
          0.2595681838633266,
          0.09319026267690045,
          0.8045267816782949,
          0.37620046980235666,
          0.7334604671842538,
          0.9983009996677412,
          0.9850427365157365,
          0.6656056566410299,
          0.19699729461583615,
          0.4228127527208331,
          0.5931091065916793,
          0.0883518837963897,
          0.4607400373030368,
          0.11690758523274836,
          0.9004977300047712,
          0.39736392954644384,
          0.6276498716465017,
          0.7044929658224051,
          0.9815201339960247,
          0.650953180886825,
          0.8338112037935207,
          0.7675163604523042,
          0.1751893056860393,
          0.07536001458375186,
          0.5008132649238226,
          0.8590152328401249,
          0.05112993792017162,
          0.5783983602285118,
          0.883553361060781,
          0.4599725452059913,
          0.7555051311292047,
          0.8235376034335964,
          0.9795017908415763,
          0.643709420809228,
          0.9714661358729179,
          0.4422260661049632,
          0.7692129410415511,
          0.6938278029300585,
          0.6952815541859997,
          0.12470927535803267,
          0.799727612240526
         ],
         "xaxis": "x",
         "y": [
          2.4535730811285887,
          5.876944253261109,
          0.16263213620555472,
          4.661733141117811,
          1.1947094384076729,
          5.514082009204509,
          -0.21501415091167786,
          6.0155218920852915,
          -3.8104882438755636,
          6.195786320409381,
          2.0491525170461826,
          4.933586529517535,
          0.8736204819372013,
          5.3421326024012075,
          2.445155752918684,
          6.490257945150091,
          0.0931254814954765,
          6.548529754981033,
          -1.4326407340215925,
          6.937091080850442,
          -2.4759384565423463,
          4.517543234210942,
          -3.7921931933955104,
          5.831354641078566,
          -0.22620472715494788,
          5.077890833885283,
          4.893596121976227,
          4.927055149125522,
          -1.2398554145496017,
          6.176445862515185,
          -1.5692550511755456,
          5.945919124812547,
          -0.6073308602411944,
          6.265357997351703,
          -0.3181296833987919,
          5.583750387737092,
          -1.6813025182943433,
          6.066220472080206,
          -3.530727267869435,
          5.246080576372142,
          -4.497055781497276,
          4.98564437268783,
          -2.881485502821565,
          5.047937330395997,
          -1.7872707563555772,
          5.273389030110256,
          -3.0090102147061617,
          7.021368241008037,
          -1.566916913208349,
          4.813884418378903,
          -2.853982402310675,
          5.620014457766207,
          -1.7695423572477067,
          5.8555210087179965,
          3.216444858446115,
          5.792321478581736,
          -1.454518042418556,
          5.376903616745635,
          -2.159787784110588,
          6.596323676190098,
          -4.454001799894389,
          5.347436305551028,
          -4.553694464029423,
          5.6956834525642455,
          -3.0657992665827862,
          5.890399606452807,
          -1.6973309511360628,
          5.222713859382232,
          -1.061312141329914,
          5.046065412449703,
          -1.082911178797898,
          7.735520583372157,
          -2.186579084283538,
          6.2218987387917535,
          -4.199571204820724,
          6.09825705267492,
          6.110340661413252,
          5.915381873334848,
          -2.7954446632249477,
          5.263107960232883,
          -0.6527901941781837,
          5.6811796686928675,
          -0.010319535367818933,
          6.0700396180100675,
          3.1151233888369982,
          5.998245216173754,
          0.3850121351023965,
          6.266837856285534,
          -1.198391305207623,
          6.1005164510425915,
          2.415248622230693,
          6.321169738489553,
          -5.974499255807849,
          5.36048388102064,
          6.113808208999954,
          4.780299831946701,
          4.779196133311455,
          6.467017588678386,
          -3.9666639588041193,
          7.959310435206835,
          -3.1486536111568926,
          4.987957510602134,
          -1.4757742414038368,
          5.176394104663631,
          -0.6049779633445653,
          5.682757490184349,
          -1.216683901376793,
          7.09346508744861,
          -1.6595847657584066,
          6.252460688518024,
          -2.5651519106180167,
          5.545445959233447,
          -2.576841133007079,
          7.573038064930149,
          1.3221441531564344,
          6.016128565868739,
          -0.2628443663560218,
          6.192594072354986,
          -3.1950825469376953,
          5.753838881943785,
          -1.4155856691692508,
          5.241289689521702,
          -1.5154745318539482,
          7.0285049527847185,
          0.14669693944168727,
          5.36328590960151,
          -1.5900984025729223,
          8.61094689370377,
          2.3010308189785675,
          5.720086602410435,
          -1.8226560908303582,
          7.380475178499671
         ],
         "yaxis": "y"
        },
        {
         "customdata": [
          [
           "Time",
           16,
           4,
           null
          ],
          [
           "Time",
           16,
           131,
           null
          ],
          [
           "Year",
           16,
           5,
           null
          ],
          [
           "Year",
           16,
           109,
           null
          ],
          [
           "People",
           16,
           7,
           null
          ],
          [
           "People",
           16,
           105,
           null
          ],
          [
           "Way",
           16,
           5,
           null
          ],
          [
           "Way",
           16,
           93,
           null
          ],
          [
           "Day",
           16,
           7,
           null
          ],
          [
           "Day",
           16,
           93,
           null
          ],
          [
           "Man",
           16,
           6,
           null
          ],
          [
           "Man",
           16,
           29,
           null
          ],
          [
           "Thing",
           16,
           6,
           null
          ],
          [
           "Thing",
           16,
           87,
           null
          ],
          [
           "Woman",
           16,
           6,
           null
          ],
          [
           "Woman",
           16,
           22,
           null
          ],
          [
           "Life",
           16,
           9,
           null
          ],
          [
           "Life",
           16,
           118,
           null
          ],
          [
           "Child",
           16,
           5,
           null
          ],
          [
           "Child",
           16,
           115,
           null
          ],
          [
           "World",
           16,
           5,
           null
          ],
          [
           "World",
           16,
           85,
           null
          ],
          [
           "School",
           16,
           7,
           null
          ],
          [
           "School",
           16,
           140,
           null
          ],
          [
           "State",
           16,
           9,
           null
          ],
          [
           "State",
           16,
           68,
           null
          ],
          [
           "Family",
           16,
           3,
           null
          ],
          [
           "Family",
           16,
           107,
           null
          ],
          [
           "Student",
           16,
           5,
           null
          ],
          [
           "Student",
           16,
           87,
           null
          ],
          [
           "Group",
           16,
           7,
           null
          ],
          [
           "Group",
           16,
           91,
           null
          ],
          [
           "Country",
           16,
           6,
           null
          ],
          [
           "Country",
           16,
           82,
           null
          ],
          [
           "Problem",
           16,
           5,
           null
          ],
          [
           "Problem",
           16,
           94,
           null
          ],
          [
           "Hand",
           16,
           4,
           null
          ],
          [
           "Hand",
           16,
           84,
           null
          ],
          [
           "Part",
           16,
           7,
           null
          ],
          [
           "Part",
           16,
           91,
           null
          ],
          [
           "Place",
           16,
           8,
           null
          ],
          [
           "Place",
           16,
           63,
           null
          ],
          [
           "Case",
           16,
           8,
           null
          ],
          [
           "Case",
           16,
           133,
           null
          ],
          [
           "Week",
           16,
           8,
           null
          ],
          [
           "Week",
           16,
           45,
           null
          ],
          [
           "Company",
           16,
           11,
           null
          ],
          [
           "Company",
           16,
           101,
           null
          ],
          [
           "System",
           16,
           7,
           null
          ],
          [
           "System",
           16,
           103,
           null
          ],
          [
           "Program",
           16,
           6,
           null
          ],
          [
           "Program",
           16,
           137,
           null
          ],
          [
           "Question",
           16,
           7,
           null
          ],
          [
           "Question",
           16,
           68,
           null
          ],
          [
           "Work",
           16,
           6,
           null
          ],
          [
           "Work",
           16,
           103,
           null
          ],
          [
           "Government",
           16,
           9,
           null
          ],
          [
           "Government",
           16,
           128,
           null
          ],
          [
           "Number",
           16,
           5,
           null
          ],
          [
           "Number",
           16,
           95,
           null
          ],
          [
           "Night",
           16,
           8,
           null
          ],
          [
           "Night",
           16,
           50,
           null
          ],
          [
           "Point",
           16,
           3,
           null
          ],
          [
           "Point",
           16,
           99,
           null
          ],
          [
           "Home",
           16,
           5,
           null
          ],
          [
           "Home",
           16,
           135,
           null
          ],
          [
           "Water",
           16,
           6,
           null
          ],
          [
           "Water",
           16,
           139,
           null
          ],
          [
           "Room",
           16,
           7,
           null
          ],
          [
           "Room",
           16,
           144,
           null
          ],
          [
           "Mother",
           16,
           6,
           null
          ],
          [
           "Mother",
           16,
           66,
           null
          ],
          [
           "Area",
           16,
           6,
           null
          ],
          [
           "Area",
           16,
           94,
           null
          ],
          [
           "Money",
           16,
           4,
           null
          ],
          [
           "Money",
           16,
           71,
           null
          ],
          [
           "Story",
           16,
           4,
           null
          ],
          [
           "Story",
           16,
           124,
           null
          ],
          [
           "Fact",
           16,
           5,
           null
          ],
          [
           "Fact",
           16,
           68,
           null
          ],
          [
           "Month",
           16,
           6,
           null
          ],
          [
           "Month",
           16,
           99,
           null
          ],
          [
           "Lot",
           16,
           5,
           null
          ],
          [
           "Lot",
           16,
           111,
           null
          ],
          [
           "Right",
           16,
           7,
           null
          ],
          [
           "Right",
           16,
           51,
           null
          ],
          [
           "Study",
           16,
           11,
           null
          ],
          [
           "Study",
           16,
           98,
           null
          ],
          [
           "Book",
           16,
           4,
           null
          ],
          [
           "Book",
           16,
           114,
           null
          ],
          [
           "Eye",
           16,
           4,
           null
          ],
          [
           "Eye",
           16,
           112,
           null
          ],
          [
           "Job",
           16,
           10,
           null
          ],
          [
           "Job",
           16,
           108,
           null
          ],
          [
           "Word",
           16,
           6,
           null
          ],
          [
           "Word",
           16,
           25,
           null
          ],
          [
           "Business",
           16,
           8,
           null
          ],
          [
           "Business",
           16,
           166,
           null
          ],
          [
           "Issue",
           16,
           7,
           null
          ],
          [
           "Issue",
           16,
           62,
           null
          ],
          [
           "Side",
           16,
           5,
           null
          ],
          [
           "Side",
           16,
           51,
           null
          ],
          [
           "Kind",
           16,
           6,
           null
          ],
          [
           "Kind",
           16,
           69,
           null
          ],
          [
           "Head",
           16,
           5,
           null
          ],
          [
           "Head",
           16,
           96,
           null
          ],
          [
           "House",
           16,
           5,
           null
          ],
          [
           "House",
           16,
           170,
           null
          ],
          [
           "Service",
           16,
           3,
           null
          ],
          [
           "Service",
           16,
           116,
           null
          ],
          [
           "Friend",
           16,
           9,
           null
          ],
          [
           "Friend",
           16,
           86,
           null
          ],
          [
           "Father",
           16,
           9,
           null
          ],
          [
           "Father",
           16,
           80,
           null
          ],
          [
           "Power",
           16,
           5,
           null
          ],
          [
           "Power",
           16,
           74,
           null
          ],
          [
           "Hour",
           16,
           6,
           null
          ],
          [
           "Hour",
           16,
           73,
           null
          ],
          [
           "Game",
           16,
           5,
           null
          ],
          [
           "Game",
           16,
           121,
           null
          ],
          [
           "Line",
           16,
           6,
           null
          ],
          [
           "Line",
           16,
           121,
           null
          ],
          [
           "End",
           16,
           6,
           null
          ],
          [
           "End",
           16,
           98,
           null
          ],
          [
           "Member",
           16,
           6,
           null
          ],
          [
           "Member",
           16,
           94,
           null
          ],
          [
           "Law",
           16,
           4,
           null
          ],
          [
           "Law",
           16,
           148,
           null
          ],
          [
           "Car",
           16,
           7,
           null
          ],
          [
           "Car",
           16,
           151,
           null
          ],
          [
           "City",
           16,
           10,
           null
          ],
          [
           "City",
           16,
           132,
           null
          ],
          [
           "Community",
           16,
           7,
           null
          ],
          [
           "Community",
           16,
           116,
           null
          ],
          [
           "Name",
           16,
           5,
           null
          ],
          [
           "Name",
           16,
           93,
           null
          ],
          [
           "President",
           16,
           6,
           null
          ],
          [
           "President",
           16,
           140,
           null
          ],
          [
           "Team",
           16,
           5,
           null
          ],
          [
           "Team",
           16,
           80,
           null
          ],
          [
           "Minute",
           16,
           6,
           null
          ],
          [
           "Minute",
           16,
           47,
           null
          ],
          [
           "Idea",
           16,
           7,
           null
          ],
          [
           "Idea",
           16,
           139,
           null
          ],
          [
           "Kid",
           16,
           8,
           null
          ],
          [
           "Kid",
           16,
           56,
           null
          ],
          [
           "Body",
           16,
           6,
           null
          ],
          [
           "Body",
           16,
           110,
           null
          ],
          [
           "Information",
           16,
           4,
           null
          ],
          [
           "Information",
           16,
           90,
           null
          ],
          [
           "Back",
           16,
           4,
           null
          ],
          [
           "Back",
           16,
           103,
           null
          ],
          [
           "Parent",
           16,
           6,
           null
          ],
          [
           "Parent",
           16,
           101,
           null
          ],
          [
           "Face",
           16,
           6,
           null
          ],
          [
           "Face",
           16,
           149,
           null
          ],
          [
           "Level",
           16,
           5,
           null
          ],
          [
           "Level",
           16,
           120,
           null
          ],
          [
           "Office",
           16,
           6,
           null
          ],
          [
           "Office",
           16,
           171,
           null
          ],
          [
           "Door",
           16,
           8,
           null
          ],
          [
           "Door",
           16,
           96,
           null
          ],
          [
           "Health",
           16,
           8,
           null
          ],
          [
           "Health",
           16,
           138,
           null
          ],
          [
           "Person",
           16,
           10,
           null
          ],
          [
           "Person",
           16,
           97,
           null
          ],
          [
           "Art",
           16,
           5,
           null
          ],
          [
           "Art",
           16,
           145,
           null
          ],
          [
           "War",
           16,
           8,
           null
          ],
          [
           "War",
           16,
           77,
           null
          ],
          [
           "History",
           16,
           4,
           null
          ],
          [
           "History",
           16,
           113,
           null
          ],
          [
           "Party",
           16,
           9,
           null
          ],
          [
           "Party",
           16,
           95,
           null
          ],
          [
           "Result",
           16,
           7,
           null
          ],
          [
           "Result",
           16,
           94,
           null
          ],
          [
           "Change",
           16,
           5,
           null
          ],
          [
           "Change",
           16,
           53,
           null
          ],
          [
           "Morning",
           16,
           6,
           null
          ],
          [
           "Morning",
           16,
           154,
           null
          ],
          [
           "Reason",
           16,
           5,
           null
          ],
          [
           "Reason",
           16,
           135,
           null
          ],
          [
           "Research",
           16,
           5,
           null
          ],
          [
           "Research",
           16,
           131,
           null
          ],
          [
           "Girl",
           16,
           4,
           null
          ],
          [
           "Girl",
           16,
           30,
           null
          ],
          [
           "Guy",
           16,
           3,
           null
          ],
          [
           "Guy",
           16,
           56,
           null
          ],
          [
           "Moment",
           16,
           7,
           null
          ],
          [
           "Moment",
           16,
           75,
           null
          ],
          [
           "Air",
           16,
           10,
           null
          ],
          [
           "Air",
           16,
           114,
           null
          ],
          [
           "Teacher",
           16,
           10,
           null
          ],
          [
           "Teacher",
           16,
           88,
           null
          ],
          [
           "Force",
           16,
           5,
           null
          ],
          [
           "Force",
           16,
           87,
           null
          ],
          [
           "Education",
           16,
           11,
           null
          ],
          [
           "Education",
           16,
           92,
           null
          ]
         ],
         "hovertemplate": "label=4<br>data_type=english_word<br>random_value=%{x}<br>pca2=%{y}<br>input/output=%{customdata[0]}<br>layer_id=%{customdata[1]}<br>output_length=%{customdata[2]}<br>switch=%{customdata[3]}<extra></extra>",
         "legendgroup": "4, english_word",
         "marker": {
          "color": "#009668",
          "symbol": "diamond"
         },
         "mode": "markers",
         "name": "4, english_word",
         "orientation": "v",
         "showlegend": true,
         "type": "scatter",
         "x": [
          0.2759730377759241,
          0.02780805622689675,
          0.3968342277694028,
          0.1078645534337952,
          0.8718188881683888,
          0.7141656259212518,
          0.145873018693918,
          0.3958405227828652,
          0.08894205466677318,
          0.08751777598167942,
          0.7563622139396932,
          0.5004149325382444,
          0.9412958813012645,
          0.9458548624195178,
          0.2979219069487057,
          0.2818024240100898,
          0.912941202400235,
          0.005649071294495545,
          0.3921983317480894,
          0.08578920111992727,
          0.0633984964787887,
          0.8395002260247023,
          0.2538280588869525,
          0.8554256280191753,
          0.15790094985056535,
          0.8777121617420713,
          0.1113250087491251,
          0.34946821505990844,
          0.9297038957157628,
          0.708754195742738,
          0.9153661976502295,
          0.987055082866945,
          0.41108521277608956,
          0.7147300851296823,
          0.1542150362102439,
          0.030720514664933307,
          0.6796281438675177,
          0.4664027244004997,
          0.4913183656134481,
          0.5741654680157842,
          0.4209621534598611,
          0.5454023459168508,
          0.7218200495726601,
          0.6537146191894639,
          0.07739483113269086,
          0.39694350719887117,
          0.0016002307493988566,
          0.8914890053638932,
          0.9505459498907088,
          0.27191808721894895,
          0.7204946425428185,
          0.13346845901599735,
          0.9606983838114708,
          0.7186252807281694,
          0.4356472656158905,
          0.21199467056145482,
          0.7530779503677293,
          0.9736549740390292,
          0.21762560579469348,
          0.26525905461739796,
          0.7844509417228861,
          0.4734708437567341,
          0.4283537988819728,
          0.48995120763637734,
          0.47802983419116496,
          0.34398154142863724,
          0.2888675694810775,
          0.34795031040586766,
          0.9134798800580827,
          0.11259312557247769,
          0.9905660112020763,
          0.7389310017509172,
          0.5974511876435066,
          0.4969943258960169,
          0.5423138453011515,
          0.13451918319217981,
          0.3398151170568977,
          0.31245044537615474,
          0.6946414655122397,
          0.5536008085902087,
          0.48951129777840074,
          0.8639808127164069,
          0.6147082030099517,
          0.2362178950270355,
          0.9141664277141945,
          0.29775961325613554,
          0.9971278769286014,
          0.07793572294090267,
          0.7669017055927245,
          0.8433234301123118,
          0.1348911591996237,
          0.964188679961219,
          0.581870538349968,
          0.6526663969449403,
          0.8444478824743273,
          0.19331785148399927,
          0.8669193616468251,
          0.6307895564239164,
          0.06530625772456744,
          0.7230238017390899,
          0.9003020629699167,
          0.4441166133713279,
          0.5983807006593658,
          0.6569327705319269,
          0.17889005208889452,
          0.32463492030675534,
          0.5275511598373317,
          0.6052910197042883,
          0.7991639471392917,
          0.7797337886327851,
          0.47775773966473567,
          0.7708233023706296,
          0.8786538639754449,
          0.5626494512580357,
          0.29884216746242065,
          0.6767937186343618,
          0.3020141254839851,
          0.2557785033351997,
          0.4322863673721544,
          0.9752486934611287,
          0.6198881539025773,
          0.6160581643827738,
          0.4929631836068209,
          0.7573985643670542,
          0.8345642699766288,
          0.433620463286548,
          0.2406349303245623,
          0.4850774218596401,
          0.3819118150261228,
          0.6435078276676187,
          0.420306757397231,
          0.9587287151245314,
          0.9577721798052882,
          0.35760528195174857,
          0.6737273611920479,
          0.7383224641670023,
          0.45801120518086424,
          0.9351366965787044,
          0.24619416618878787,
          0.20528310950878959,
          0.6606047873452493,
          0.8737199370494123,
          0.7749879201840925,
          0.01824173419771269,
          0.9985310052367211,
          0.24283310637373623,
          0.15068379383186847,
          0.6603372408715814,
          0.9772986177577356,
          0.8035324465070595,
          0.6209643072034791,
          0.5578798181777288,
          0.9542182769496371,
          0.6230752008906525,
          0.11990020900635834,
          0.12639663477794494,
          0.24287745746195522,
          0.6074524515537828,
          0.062403734052180804,
          0.04279697573783925,
          0.9543054031421019,
          0.11559867551921732,
          0.9637016858149252,
          0.7017335981825462,
          0.604936144701968,
          0.9933292253393466,
          0.6012819348128626,
          0.8767353899303738,
          0.17759349123816137,
          0.11787358352891764,
          0.454883707393119,
          0.022746448921671214,
          0.934625713040966,
          0.292441495422778,
          0.7998572984760972,
          0.44057123480772553,
          0.816355055480338,
          0.1998895030638923,
          0.35111412442607115,
          0.6603201970401962,
          0.2950912865486839,
          0.3073445628254846,
          0.5269182811765464,
          0.37898893889851726,
          0.16870080512771746,
          0.2590902835275205,
          0.700527785764888,
          0.42701524650896094,
          0.01324519373325117,
          0.6725323516095026,
          0.4916185484882357,
          0.42228292752964147,
          0.5471159861422947,
          0.924779102740258,
          0.7475197763070418,
          0.3866138227110395,
          0.24641772988950927,
          0.949591760721164
         ],
         "xaxis": "x",
         "y": [
          -27.077008586570567,
          -3.913122534130407,
          -33.25314138389336,
          -3.5561074349081574,
          -25.284503282229174,
          -3.925295776734566,
          -26.271544068164967,
          -3.1911344932610732,
          -26.64076440643507,
          -3.4145922740287,
          -16.694103749140634,
          -5.488535322348268,
          -33.73927602886192,
          -2.2274687669311954,
          -29.780691465091397,
          -6.571247263782828,
          -38.33932806236955,
          -4.4545329808169,
          -25.171528561358322,
          -4.730934726188133,
          -32.764167286354365,
          -3.251578582546883,
          -39.2592193252718,
          -5.7134762475031255,
          -22.598610826525764,
          -3.7732317350739772,
          -29.20778514548784,
          -5.884045797038782,
          -27.087589247648644,
          -3.8762344006741207,
          -13.749736945497846,
          -4.2354262222088765,
          -40.49083758976937,
          -4.913709907821078,
          -29.332494506859458,
          -4.383738860474915,
          -5.111322588612152,
          -3.5520547267812987,
          -22.953781032267415,
          -3.7355663149565164,
          -39.79869701073882,
          -3.52656702731804,
          -25.93285215211236,
          -3.5380700723986145,
          -21.514440732292552,
          -3.857569661795251,
          -40.17239511629648,
          -4.930192450918212,
          -21.623200110974125,
          -3.5701962175766155,
          -24.31447414367409,
          -4.735947621609672,
          -23.57527151574539,
          -3.904665151311872,
          -26.91897883409674,
          -4.165245779934123,
          -36.55908456226968,
          -4.456207685714817,
          -22.51562161628586,
          -3.1235701911030174,
          -26.77077741325043,
          -5.483602791564326,
          -11.528594550960817,
          -3.7237328474025486,
          -33.11112937896034,
          -4.290855383509912,
          -28.322668971235576,
          -3.912127932130278,
          -34.13849175208894,
          -4.233938519044074,
          -26.90356071499536,
          -4.45179831038125,
          -38.366568509561624,
          -3.160500896294773,
          -28.313382246764473,
          -2.5376875463849893,
          -17.768210289485047,
          -4.545020854771426,
          -26.362174389071477,
          -3.2591403323359973,
          -28.344065086426294,
          -3.3786955641986616,
          -11.649226548987142,
          -2.640028762192837,
          -7.081430246529947,
          0.04725358186737738,
          -26.930939043106534,
          -4.746390504888497,
          -28.984249357749402,
          -3.0670776591761326,
          -13.771131660956966,
          -3.7790733699520045,
          -37.97886146746711,
          -4.670942096445482,
          -7.189139624244161,
          29.120581224319533,
          -34.42246494996956,
          -5.3226050492823775,
          -25.053050427966287,
          -4.1873481623568845,
          -11.143615362017988,
          -3.7716858012882097,
          -10.219655782454533,
          -4.504516603855919,
          -22.860845447450114,
          -4.337557816820867,
          -34.06152202061778,
          -3.3982388793337988,
          -29.15492431700359,
          -3.590642386891661,
          -34.20312300518495,
          -4.278818557451296,
          -31.70983864483464,
          -5.1171936977250265,
          -19.54196771189584,
          -3.402313272883596,
          -25.0476831867609,
          -3.611984543205134,
          -4.154223649746976,
          -4.5568490328864595,
          5.162606235676138,
          -3.2403606733884054,
          -18.25797691533205,
          -3.3869164355152104,
          -13.750715322928679,
          -4.8199910051196095,
          -13.24990060946189,
          -4.190874819597895,
          -37.61313626720365,
          -4.382667061863605,
          -36.65025706774011,
          -4.233008066884661,
          -35.878750722430595,
          -4.490778178077629,
          -15.154582882141641,
          -2.942419808740155,
          -32.79645012384467,
          -5.065752650566818,
          -22.608145035366327,
          -4.718086007548113,
          -17.02431594993027,
          -3.502403075943289,
          -35.3683181306704,
          -4.755072985608535,
          -27.04028699414296,
          -4.156213505111848,
          -30.189055193054543,
          -4.06016752856762,
          -33.51050865260449,
          -3.4670562863506134,
          -10.247977126190731,
          -3.63237544803063,
          -21.37764386487612,
          -4.324218026594176,
          -27.70201254698607,
          -4.590976121167957,
          -19.71544776968937,
          -3.8167291421532283,
          -28.884908576117347,
          -4.352446278048593,
          -29.295142451979437,
          -3.7012561194115756,
          -30.72754296289614,
          -3.712022544724582,
          -39.17559429960887,
          -3.8728045532106874,
          -14.937785654259446,
          -3.120339447601542,
          -29.687712268633785,
          -3.825776167907425,
          -33.383228904396304,
          -4.088667324882465,
          -17.497535303271047,
          -3.6695468401935964,
          -21.274139874218818,
          -3.3819639270841346,
          -16.637729998082158,
          -2.4633901184278635,
          -23.079874630797462,
          -3.5055293963161467,
          -27.300290583259915,
          -4.3085165543342345,
          -20.393395542502837,
          -4.273074073336833,
          -13.071216980205525,
          -5.5101506694826,
          -27.233188006278393,
          -2.6506720407071933,
          -21.398977506952253,
          -2.455026094972165,
          -31.319573952905905,
          -4.1334860703746035,
          -34.88109068716984,
          -4.967955279125745,
          -26.903225154001944,
          -4.1158046243552775,
          -26.787241672785704,
          -2.8982527023528677
         ],
         "yaxis": "y"
        },
        {
         "customdata": [
          [
           "Blorble",
           16,
           6,
           null
          ],
          [
           "Blorble",
           16,
           137,
           null
          ],
          [
           "Flynth",
           16,
           5,
           null
          ],
          [
           "Flynth",
           16,
           74,
           null
          ],
          [
           "Quindle",
           16,
           6,
           null
          ],
          [
           "Quindle",
           16,
           100,
           null
          ],
          [
           "Wimbish",
           16,
           6,
           null
          ],
          [
           "Wimbish",
           16,
           105,
           null
          ],
          [
           "Trindle",
           16,
           6,
           null
          ],
          [
           "Trindle",
           16,
           129,
           null
          ],
          [
           "Flaxet",
           16,
           5,
           null
          ],
          [
           "Flaxet",
           16,
           80,
           null
          ],
          [
           "Snorfle",
           16,
           5,
           null
          ],
          [
           "Snorfle",
           16,
           114,
           null
          ],
          [
           "Glimmeron",
           16,
           5,
           null
          ],
          [
           "Glimmeron",
           16,
           91,
           null
          ],
          [
           "Jorkle",
           16,
           8,
           null
          ],
          [
           "Jorkle",
           16,
           88,
           null
          ],
          [
           "Bramblet",
           16,
           5,
           null
          ],
          [
           "Bramblet",
           16,
           112,
           null
          ],
          [
           "Sproon",
           16,
           6,
           null
          ],
          [
           "Sproon",
           16,
           72,
           null
          ],
          [
           "Veltor",
           16,
           6,
           null
          ],
          [
           "Veltor",
           16,
           92,
           null
          ],
          [
           "Crimble",
           16,
           7,
           null
          ],
          [
           "Crimble",
           16,
           114,
           null
          ],
          [
           "Zindle",
           16,
           7,
           null
          ],
          [
           "Zindle",
           16,
           111,
           null
          ],
          [
           "Blorple",
           16,
           8,
           null
          ],
          [
           "Blorple",
           16,
           103,
           null
          ],
          [
           "Fizzet",
           16,
           7,
           null
          ],
          [
           "Fizzet",
           16,
           104,
           null
          ],
          [
           "Dronth",
           16,
           6,
           null
          ],
          [
           "Dronth",
           16,
           86,
           null
          ],
          [
           "Wobblet",
           16,
           7,
           null
          ],
          [
           "Wobblet",
           16,
           121,
           null
          ],
          [
           "Ploomish",
           16,
           6,
           null
          ],
          [
           "Ploomish",
           16,
           76,
           null
          ],
          [
           "Glaiveon",
           16,
           5,
           null
          ],
          [
           "Glaiveon",
           16,
           106,
           null
          ],
          [
           "Quorble",
           16,
           6,
           null
          ],
          [
           "Quorble",
           16,
           86,
           null
          ],
          [
           "Strindle",
           16,
           5,
           null
          ],
          [
           "Strindle",
           16,
           88,
           null
          ],
          [
           "Plimble",
           16,
           6,
           null
          ],
          [
           "Plimble",
           16,
           102,
           null
          ],
          [
           "Brindish",
           16,
           4,
           null
          ],
          [
           "Brindish",
           16,
           73,
           null
          ],
          [
           "Flizet",
           16,
           6,
           null
          ],
          [
           "Flizet",
           16,
           77,
           null
          ],
          [
           "Chorkle",
           16,
           6,
           null
          ],
          [
           "Chorkle",
           16,
           152,
           null
          ],
          [
           "Glomble",
           16,
           6,
           null
          ],
          [
           "Glomble",
           16,
           103,
           null
          ],
          [
           "Tindle",
           16,
           5,
           null
          ],
          [
           "Tindle",
           16,
           150,
           null
          ],
          [
           "Framble",
           16,
           7,
           null
          ],
          [
           "Framble",
           16,
           108,
           null
          ],
          [
           "Vextron",
           16,
           4,
           null
          ],
          [
           "Vextron",
           16,
           86,
           null
          ],
          [
           "Snindle",
           16,
           5,
           null
          ],
          [
           "Snindle",
           16,
           104,
           null
          ],
          [
           "Brimpet",
           16,
           11,
           null
          ],
          [
           "Brimpet",
           16,
           84,
           null
          ],
          [
           "Zorble",
           16,
           9,
           null
          ],
          [
           "Zorble",
           16,
           116,
           null
          ],
          [
           "Blinter",
           16,
           7,
           null
          ],
          [
           "Blinter",
           16,
           86,
           null
          ],
          [
           "Floomish",
           16,
           6,
           null
          ],
          [
           "Floomish",
           16,
           105,
           null
          ],
          [
           "Drindle",
           16,
           6,
           null
          ],
          [
           "Drindle",
           16,
           93,
           null
          ],
          [
           "Plicket",
           16,
           5,
           null
          ],
          [
           "Plicket",
           16,
           70,
           null
          ],
          [
           "Glompel",
           16,
           5,
           null
          ],
          [
           "Glompel",
           16,
           93,
           null
          ],
          [
           "Jindle",
           16,
           5,
           null
          ],
          [
           "Jindle",
           16,
           103,
           null
          ],
          [
           "Wramble",
           16,
           7,
           null
          ],
          [
           "Wramble",
           16,
           71,
           null
          ],
          [
           "Crindle",
           16,
           6,
           null
          ],
          [
           "Crindle",
           16,
           60,
           null
          ],
          [
           "Vornish",
           16,
           8,
           null
          ],
          [
           "Vornish",
           16,
           89,
           null
          ],
          [
           "Blimble",
           16,
           7,
           null
          ],
          [
           "Blimble",
           16,
           81,
           null
          ],
          [
           "Flumble",
           16,
           6,
           null
          ],
          [
           "Flumble",
           16,
           74,
           null
          ],
          [
           "Snorple",
           16,
           6,
           null
          ],
          [
           "Snorple",
           16,
           93,
           null
          ],
          [
           "Zintle",
           16,
           4,
           null
          ],
          [
           "Zintle",
           16,
           73,
           null
          ],
          [
           "Glimble",
           16,
           7,
           null
          ],
          [
           "Glimble",
           16,
           120,
           null
          ],
          [
           "Plindle",
           16,
           6,
           null
          ],
          [
           "Plindle",
           16,
           113,
           null
          ],
          [
           "Quorlet",
           16,
           3,
           null
          ],
          [
           "Quorlet",
           16,
           98,
           null
          ],
          [
           "Thrumble",
           16,
           6,
           null
          ],
          [
           "Thrumble",
           16,
           139,
           null
          ],
          [
           "Brinkle",
           16,
           6,
           null
          ],
          [
           "Brinkle",
           16,
           135,
           null
          ],
          [
           "Fuzzle",
           16,
           5,
           null
          ],
          [
           "Fuzzle",
           16,
           108,
           null
          ],
          [
           "Wimbel",
           16,
           6,
           null
          ],
          [
           "Wimbel",
           16,
           100,
           null
          ],
          [
           "Flonkle",
           16,
           8,
           null
          ],
          [
           "Flonkle",
           16,
           91,
           null
          ],
          [
           "Glindle",
           16,
           5,
           null
          ],
          [
           "Glindle",
           16,
           90,
           null
          ],
          [
           "Zorlet",
           16,
           8,
           null
          ],
          [
           "Zorlet",
           16,
           100,
           null
          ],
          [
           "Bramble",
           16,
           7,
           null
          ],
          [
           "Bramble",
           16,
           138,
           null
          ],
          [
           "Dribblet",
           16,
           7,
           null
          ],
          [
           "Dribblet",
           16,
           100,
           null
          ],
          [
           "Crumple",
           16,
           7,
           null
          ],
          [
           "Crumple",
           16,
           112,
           null
          ],
          [
           "Splimble",
           16,
           6,
           null
          ],
          [
           "Splimble",
           16,
           95,
           null
          ],
          [
           "Vlimp",
           16,
           4,
           null
          ],
          [
           "Vlimp",
           16,
           84,
           null
          ],
          [
           "Frindle",
           16,
           9,
           null
          ],
          [
           "Frindle",
           16,
           146,
           null
          ],
          [
           "Quomp",
           16,
           4,
           null
          ],
          [
           "Quomp",
           16,
           76,
           null
          ],
          [
           "Blimblet",
           16,
           7,
           null
          ],
          [
           "Blimblet",
           16,
           100,
           null
          ],
          [
           "Womble",
           16,
           8,
           null
          ],
          [
           "Womble",
           16,
           153,
           null
          ],
          [
           "Glimmeret",
           16,
           7,
           null
          ],
          [
           "Glimmeret",
           16,
           87,
           null
          ],
          [
           "Jorple",
           16,
           6,
           null
          ],
          [
           "Jorple",
           16,
           35,
           null
          ],
          [
           "Snibble",
           16,
           7,
           null
          ],
          [
           "Snibble",
           16,
           110,
           null
          ],
          [
           "Plumble",
           16,
           7,
           null
          ],
          [
           "Plumble",
           16,
           76,
           null
          ],
          [
           "Brumble",
           16,
           6,
           null
          ],
          [
           "Brumble",
           16,
           108,
           null
          ],
          [
           "Crimple",
           16,
           6,
           null
          ],
          [
           "Crimple",
           16,
           136,
           null
          ],
          [
           "Vindle",
           16,
           4,
           null
          ],
          [
           "Vindle",
           16,
           117,
           null
          ],
          [
           "Blorkle",
           16,
           8,
           null
          ],
          [
           "Blorkle",
           16,
           111,
           null
          ],
          [
           "Strindle",
           16,
           6,
           null
          ],
          [
           "Strindle",
           16,
           99,
           null
          ],
          [
           "Wornish",
           16,
           5,
           null
          ],
          [
           "Wornish",
           16,
           102,
           null
          ],
          [
           "Quizzle",
           16,
           6,
           null
          ],
          [
           "Quizzle",
           16,
           135,
           null
          ],
          [
           "Drimple",
           16,
           6,
           null
          ],
          [
           "Drimple",
           16,
           123,
           null
          ],
          [
           "Glomplet",
           16,
           7,
           null
          ],
          [
           "Glomplet",
           16,
           126,
           null
          ],
          [
           "Brinkle",
           16,
           6,
           null
          ],
          [
           "Brinkle",
           16,
           127,
           null
          ],
          [
           "Flindle",
           16,
           6,
           null
          ],
          [
           "Flindle",
           16,
           98,
           null
          ],
          [
           "Snorble",
           16,
           7,
           null
          ],
          [
           "Snorble",
           16,
           132,
           null
          ],
          [
           "Plimblet",
           16,
           6,
           null
          ],
          [
           "Plimblet",
           16,
           107,
           null
          ],
          [
           "Vortle",
           16,
           7,
           null
          ],
          [
           "Vortle",
           16,
           123,
           null
          ],
          [
           "Tindle",
           16,
           7,
           null
          ],
          [
           "Tindle",
           16,
           105,
           null
          ],
          [
           "Wamble",
           16,
           7,
           null
          ],
          [
           "Wamble",
           16,
           78,
           null
          ],
          [
           "Quornet",
           16,
           6,
           null
          ],
          [
           "Quornet",
           16,
           123,
           null
          ],
          [
           "Fumblet",
           16,
           6,
           null
          ],
          [
           "Fumblet",
           16,
           70,
           null
          ],
          [
           "Brindle",
           16,
           7,
           null
          ],
          [
           "Brindle",
           16,
           170,
           null
          ],
          [
           "Crimblet",
           16,
           7,
           null
          ],
          [
           "Crimblet",
           16,
           96,
           null
          ],
          [
           "Wromble",
           16,
           6,
           null
          ],
          [
           "Wromble",
           16,
           152,
           null
          ],
          [
           "Jindle",
           16,
           5,
           null
          ],
          [
           "Jindle",
           16,
           88,
           null
          ],
          [
           "Snizzle",
           16,
           6,
           null
          ],
          [
           "Snizzle",
           16,
           90,
           null
          ],
          [
           "Plomish",
           16,
           6,
           null
          ],
          [
           "Plomish",
           16,
           81,
           null
          ],
          [
           "Brantle",
           16,
           6,
           null
          ],
          [
           "Brantle",
           16,
           66,
           null
          ],
          [
           "Framblet",
           16,
           6,
           null
          ],
          [
           "Framblet",
           16,
           112,
           null
          ],
          [
           "Bimble",
           16,
           5,
           null
          ],
          [
           "Bimble",
           16,
           86,
           null
          ],
          [
           "Chindle",
           16,
           5,
           null
          ],
          [
           "Chindle",
           16,
           89,
           null
          ],
          [
           "Dronkle",
           16,
           5,
           null
          ],
          [
           "Dronkle",
           16,
           108,
           null
          ],
          [
           "Elint",
           16,
           12,
           null
          ],
          [
           "Elint",
           16,
           162,
           null
          ],
          [
           "Friblet",
           16,
           6,
           null
          ],
          [
           "Friblet",
           16,
           98,
           null
          ]
         ],
         "hovertemplate": "label=5<br>data_type=english_word<br>random_value=%{x}<br>pca2=%{y}<br>input/output=%{customdata[0]}<br>layer_id=%{customdata[1]}<br>output_length=%{customdata[2]}<br>switch=%{customdata[3]}<extra></extra>",
         "legendgroup": "5, english_word",
         "marker": {
          "color": "#ce93d8",
          "symbol": "diamond"
         },
         "mode": "markers",
         "name": "5, english_word",
         "orientation": "v",
         "showlegend": true,
         "type": "scatter",
         "x": [
          0.3227664299872316,
          0.3485329832954054,
          0.12812938211251068,
          0.2940417975487378,
          0.814736143479501,
          0.23508637398690324,
          0.10187455520057376,
          0.4510512598592501,
          0.8460380019071253,
          0.16125508389038823,
          0.15326207211690357,
          0.22219596002589836,
          0.9573825360886768,
          0.07883942841890113,
          0.32921550567401736,
          0.6152170650041215,
          0.7867977248865393,
          0.19118337625526272,
          0.08929354680326773,
          0.6976215225076264,
          0.08743519528968224,
          0.7829582477377471,
          0.8866540678463638,
          0.15058504104252102,
          0.9602199563070273,
          0.24399854102190155,
          0.09825533454028845,
          0.5521146000582821,
          0.4697423927751676,
          0.2202550087079339,
          0.456701225026405,
          0.5815869457304148,
          0.8502933817603179,
          0.7980153831483286,
          0.10761955252109967,
          0.4215298800062046,
          0.4278095959528987,
          0.40692204847353475,
          0.04824700783490343,
          0.2222118516087369,
          0.1456902792221303,
          0.2486962912463091,
          0.19486109618112735,
          0.07894846841193537,
          0.06680975574430736,
          0.6374641178199846,
          0.5825412414081625,
          0.30114310559715407,
          0.2558125428503365,
          0.5213324512388456,
          0.9679117547124081,
          0.15060395441324126,
          0.25944300346593663,
          0.08151141840368215,
          0.5226349590798335,
          0.8809447622828919,
          0.9361147696253824,
          0.4029647701706365,
          0.07069397267504396,
          0.5423313016017711,
          0.2652192315029357,
          0.3070906443556367,
          0.5508128720127891,
          0.8461823731974663,
          0.8453280511860861,
          0.8244821524920224,
          0.18010120723930234,
          0.4801888857945741,
          0.8591310615266229,
          0.6026773246701629,
          0.47123539886668775,
          0.7088961316647571,
          0.16247708974251185,
          0.883972733106489,
          0.907483924548722,
          0.7930163961492346,
          0.467779413519545,
          0.8729256094160762,
          0.3374828653903048,
          0.3013892171417003,
          0.7275947427650741,
          0.8561747208823681,
          0.5512506189952969,
          0.8781921655586622,
          0.27500843649063433,
          0.38504078395199937,
          0.16579809923185318,
          0.09409271598030333,
          0.6181415855808119,
          0.6043289233691943,
          0.3072248736848058,
          0.7432872285482207,
          0.9756266657934511,
          0.7261770320720551,
          0.5807886133992137,
          0.6882731152057824,
          0.5617292291845476,
          0.8823715668167085,
          0.9187542581468539,
          0.6987979082697807,
          0.06196430056802649,
          0.527842426284205,
          0.04289210834379886,
          0.08464005599504609,
          0.9508309229568351,
          0.4991981545559506,
          0.1255060357976724,
          0.5959508099681512,
          0.36835271723190866,
          0.8506829194962068,
          0.0061156501264939545,
          0.44957153101652003,
          0.4230811839033344,
          0.36619066704713765,
          0.7260083257854992,
          0.2587292256902495,
          0.1392862462314386,
          0.593574065326321,
          0.7441054240473326,
          0.10675814972860975,
          0.5372110823327663,
          0.7184778203556824,
          0.8858950646990255,
          0.8689098943382747,
          0.06496576166350321,
          0.002717832345785598,
          0.9102941760848615,
          0.6093587970538549,
          0.6837388869368921,
          0.003913217774475508,
          0.9188291697629648,
          0.9140344348769391,
          0.13340814162908288,
          0.4828855186139823,
          0.3296521751775442,
          0.4494261726339991,
          0.31778624729409,
          0.4300927554038285,
          0.40826124796576,
          0.13961274349279973,
          0.5288342776444427,
          0.6933500250873577,
          0.19575931092509635,
          0.6885172679464033,
          0.09387000651070632,
          0.6464147879049796,
          0.3850687695129269,
          0.7087101112286769,
          0.2652678081386356,
          0.9192120913837084,
          0.9493582760168369,
          0.7309686447813212,
          0.833143558471337,
          0.5337070334134277,
          0.7133358617692404,
          0.6432502411663301,
          0.4977755145453312,
          0.9857839672735145,
          0.2395444353036662,
          0.05789413655695541,
          0.03124936205255535,
          0.46125650244919025,
          0.21445329760790666,
          0.6062372505309688,
          0.14982481575291562,
          0.7363599867760927,
          0.6714382995215874,
          0.04919980641904975,
          0.9543940965320894,
          0.029046693467275397,
          0.42298714009603655,
          0.13045776522984853,
          0.4101174962885217,
          0.1969512715237155,
          0.23734962530317905,
          0.22168202193861275,
          0.8976138801936205,
          0.02610885848274891,
          0.9606300507770168,
          0.8102039633097108,
          0.05511278286045729,
          0.07103463820071088,
          0.3079703979752233,
          0.35385179646752596,
          0.2558845200788138,
          0.5716620513028188,
          0.9386759845848804,
          0.683643624590519,
          0.2618253707971271,
          0.46390108799704044,
          0.5103571857086854,
          0.5300969173602829,
          0.1276689677708992,
          0.847842837857876,
          0.6702906067288162,
          0.888155678128596,
          0.25862330713994186,
          0.3802063665669966,
          0.7088228029722571,
          0.1516135211611933
         ],
         "xaxis": "x",
         "y": [
          27.41122625513528,
          5.88741126252943,
          58.06741404335373,
          6.420249918542791,
          9.290129716741887,
          4.283300246227364,
          31.51592581153585,
          2.4228807723130847,
          38.57972500571517,
          2.2631244727707323,
          -3.7586377064757976,
          5.430062386918223,
          42.80323712426228,
          1.5862952148903333,
          17.182667814375478,
          6.377328787755458,
          33.84318004531999,
          5.771123537876888,
          14.394481968948611,
          0.6097174029353858,
          11.601053745544922,
          4.215084452738432,
          9.421043686349845,
          6.429523613142679,
          35.915680959104506,
          3.3679734561732615,
          26.103346131995877,
          6.137706335839413,
          33.51122411288924,
          4.296722905128047,
          20.50928267083316,
          6.87249520404235,
          46.32156865593207,
          7.4080889135880925,
          40.10091863088663,
          3.462783539781035,
          10.060756496885158,
          7.203722504894752,
          -3.2213745658056565,
          3.485991920836315,
          41.044253681507485,
          5.089863212020937,
          7.747532755869282,
          4.8452351845729495,
          39.053535565954085,
          4.435226900530387,
          21.736844691911454,
          6.1001046124189555,
          11.532966120177806,
          7.736694260921476,
          22.458246055653092,
          3.288669445447269,
          42.714843532580154,
          3.420979861711875,
          19.20953354245146,
          2.521650045339585,
          37.28132186453346,
          2.320056505316768,
          5.189028289375731,
          39.04717072375055,
          19.915768446124567,
          4.969539666957177,
          26.13754398219758,
          5.060825119551153,
          10.903949867191342,
          5.638231831153309,
          34.81177359357186,
          7.1481216306778865,
          9.559963315422001,
          33.99357996421474,
          43.807448920034965,
          5.306719266195205,
          35.508060104469706,
          4.901161397810156,
          17.102162026615247,
          5.8624449704574335,
          25.713137595088625,
          5.059886883999374,
          25.608972828262573,
          4.24208407643891,
          21.75851747608837,
          4.407749770487573,
          17.984821086661874,
          3.753994692754225,
          49.20151859135275,
          3.891917295973278,
          29.80656384449737,
          6.150480787957818,
          20.218927879071323,
          3.757948480520872,
          19.413268284355144,
          5.600321609685826,
          18.400839208113428,
          4.231980786217077,
          46.975259850772865,
          4.366197714736199,
          37.87779721712364,
          5.512734428075479,
          24.029790769806397,
          1.7443135007796347,
          35.34392548316494,
          3.375710073964344,
          32.22768038386902,
          1.7541797412399964,
          24.882835536562396,
          3.728537119989099,
          37.3700860033023,
          16.964015498016668,
          41.77449928783458,
          6.051114945749611,
          0.6639032180353059,
          5.076174034873511,
          -11.865962999101471,
          -2.115864272483294,
          16.604790048470598,
          2.209301221677603,
          -9.155394722354133,
          -2.5246218996396137,
          38.88430684959314,
          5.329898612515326,
          10.320978536568017,
          30.627138669293487,
          -21.31382174546462,
          0.0012291862831566025,
          22.142867211673654,
          5.183428779371557,
          20.52018433202381,
          5.094517167919353,
          11.924810619701708,
          -1.7430732867158722,
          47.75307038657617,
          6.4297624370659445,
          44.19303901023472,
          40.16422627138486,
          28.90452442222799,
          2.1390544057810406,
          3.482451934143132,
          4.281138033567757,
          32.48152512858191,
          1.7642351771150055,
          13.704650746635709,
          0.5644121020808097,
          2.612082945401532,
          4.659515306023305,
          29.527495732871948,
          29.189322945032398,
          22.60487022471917,
          5.744400008733502,
          2.148485258899953,
          1.3565170673978417,
          27.39748191543366,
          -0.11022674931040344,
          -3.4901804239053664,
          -0.8608495142003121,
          19.83729859274394,
          0.9951375946796372,
          35.34392548316494,
          3.73086789644218,
          41.53486460223274,
          5.851053295466933,
          25.989175059004133,
          2.813434906388462,
          49.37502254491642,
          4.68351543747271,
          6.645870149816674,
          11.169708162602467,
          28.945420398138165,
          2.886756808527233,
          4.6563922126803545,
          -1.2350166206988087,
          5.864732251477919,
          3.9244831048694833,
          25.16233528925881,
          5.258630787882637,
          -5.124601415242448,
          -2.3925801824370945,
          29.01816868983984,
          36.62868109542013,
          26.03059696975485,
          1.7415327255445403,
          25.713137595088625,
          7.406744292055661,
          2.4163269732978407,
          3.487560077861481,
          24.169965986602005,
          4.681896844615185,
          35.16391375538224,
          4.620495473800375,
          46.051564427017844,
          2.095015802223716,
          7.253611355855223,
          1.776942112696129,
          29.2928884183112,
          2.8982239198074247,
          25.10810659951322,
          4.762886441524499,
          -8.868819288304769,
          -0.630763084048001,
          9.973173950794944,
          6.456612871489526
         ],
         "yaxis": "y"
        }
       ],
       "layout": {
        "coloraxis": {
         "colorbar": {
          "ticks": "outside",
          "x": -0.2,
          "y": 1,
          "yanchor": "top"
         }
        },
        "height": 700,
        "legend": {
         "title": {
          "text": "label, data_type"
         },
         "tracegroupgap": 0
        },
        "margin": {
         "t": 60
        },
        "template": {
         "data": {
          "bar": [
           {
            "error_x": {
             "color": "#2a3f5f"
            },
            "error_y": {
             "color": "#2a3f5f"
            },
            "marker": {
             "line": {
              "color": "#E5ECF6",
              "width": 0.5
             },
             "pattern": {
              "fillmode": "overlay",
              "size": 10,
              "solidity": 0.2
             }
            },
            "type": "bar"
           }
          ],
          "barpolar": [
           {
            "marker": {
             "line": {
              "color": "#E5ECF6",
              "width": 0.5
             },
             "pattern": {
              "fillmode": "overlay",
              "size": 10,
              "solidity": 0.2
             }
            },
            "type": "barpolar"
           }
          ],
          "carpet": [
           {
            "aaxis": {
             "endlinecolor": "#2a3f5f",
             "gridcolor": "white",
             "linecolor": "white",
             "minorgridcolor": "white",
             "startlinecolor": "#2a3f5f"
            },
            "baxis": {
             "endlinecolor": "#2a3f5f",
             "gridcolor": "white",
             "linecolor": "white",
             "minorgridcolor": "white",
             "startlinecolor": "#2a3f5f"
            },
            "type": "carpet"
           }
          ],
          "choropleth": [
           {
            "colorbar": {
             "outlinewidth": 0,
             "ticks": ""
            },
            "type": "choropleth"
           }
          ],
          "contour": [
           {
            "colorbar": {
             "outlinewidth": 0,
             "ticks": ""
            },
            "colorscale": [
             [
              0,
              "#0d0887"
             ],
             [
              0.1111111111111111,
              "#46039f"
             ],
             [
              0.2222222222222222,
              "#7201a8"
             ],
             [
              0.3333333333333333,
              "#9c179e"
             ],
             [
              0.4444444444444444,
              "#bd3786"
             ],
             [
              0.5555555555555556,
              "#d8576b"
             ],
             [
              0.6666666666666666,
              "#ed7953"
             ],
             [
              0.7777777777777778,
              "#fb9f3a"
             ],
             [
              0.8888888888888888,
              "#fdca26"
             ],
             [
              1,
              "#f0f921"
             ]
            ],
            "type": "contour"
           }
          ],
          "contourcarpet": [
           {
            "colorbar": {
             "outlinewidth": 0,
             "ticks": ""
            },
            "type": "contourcarpet"
           }
          ],
          "heatmap": [
           {
            "colorbar": {
             "outlinewidth": 0,
             "ticks": ""
            },
            "colorscale": [
             [
              0,
              "#0d0887"
             ],
             [
              0.1111111111111111,
              "#46039f"
             ],
             [
              0.2222222222222222,
              "#7201a8"
             ],
             [
              0.3333333333333333,
              "#9c179e"
             ],
             [
              0.4444444444444444,
              "#bd3786"
             ],
             [
              0.5555555555555556,
              "#d8576b"
             ],
             [
              0.6666666666666666,
              "#ed7953"
             ],
             [
              0.7777777777777778,
              "#fb9f3a"
             ],
             [
              0.8888888888888888,
              "#fdca26"
             ],
             [
              1,
              "#f0f921"
             ]
            ],
            "type": "heatmap"
           }
          ],
          "heatmapgl": [
           {
            "colorbar": {
             "outlinewidth": 0,
             "ticks": ""
            },
            "colorscale": [
             [
              0,
              "#0d0887"
             ],
             [
              0.1111111111111111,
              "#46039f"
             ],
             [
              0.2222222222222222,
              "#7201a8"
             ],
             [
              0.3333333333333333,
              "#9c179e"
             ],
             [
              0.4444444444444444,
              "#bd3786"
             ],
             [
              0.5555555555555556,
              "#d8576b"
             ],
             [
              0.6666666666666666,
              "#ed7953"
             ],
             [
              0.7777777777777778,
              "#fb9f3a"
             ],
             [
              0.8888888888888888,
              "#fdca26"
             ],
             [
              1,
              "#f0f921"
             ]
            ],
            "type": "heatmapgl"
           }
          ],
          "histogram": [
           {
            "marker": {
             "pattern": {
              "fillmode": "overlay",
              "size": 10,
              "solidity": 0.2
             }
            },
            "type": "histogram"
           }
          ],
          "histogram2d": [
           {
            "colorbar": {
             "outlinewidth": 0,
             "ticks": ""
            },
            "colorscale": [
             [
              0,
              "#0d0887"
             ],
             [
              0.1111111111111111,
              "#46039f"
             ],
             [
              0.2222222222222222,
              "#7201a8"
             ],
             [
              0.3333333333333333,
              "#9c179e"
             ],
             [
              0.4444444444444444,
              "#bd3786"
             ],
             [
              0.5555555555555556,
              "#d8576b"
             ],
             [
              0.6666666666666666,
              "#ed7953"
             ],
             [
              0.7777777777777778,
              "#fb9f3a"
             ],
             [
              0.8888888888888888,
              "#fdca26"
             ],
             [
              1,
              "#f0f921"
             ]
            ],
            "type": "histogram2d"
           }
          ],
          "histogram2dcontour": [
           {
            "colorbar": {
             "outlinewidth": 0,
             "ticks": ""
            },
            "colorscale": [
             [
              0,
              "#0d0887"
             ],
             [
              0.1111111111111111,
              "#46039f"
             ],
             [
              0.2222222222222222,
              "#7201a8"
             ],
             [
              0.3333333333333333,
              "#9c179e"
             ],
             [
              0.4444444444444444,
              "#bd3786"
             ],
             [
              0.5555555555555556,
              "#d8576b"
             ],
             [
              0.6666666666666666,
              "#ed7953"
             ],
             [
              0.7777777777777778,
              "#fb9f3a"
             ],
             [
              0.8888888888888888,
              "#fdca26"
             ],
             [
              1,
              "#f0f921"
             ]
            ],
            "type": "histogram2dcontour"
           }
          ],
          "mesh3d": [
           {
            "colorbar": {
             "outlinewidth": 0,
             "ticks": ""
            },
            "type": "mesh3d"
           }
          ],
          "parcoords": [
           {
            "line": {
             "colorbar": {
              "outlinewidth": 0,
              "ticks": ""
             }
            },
            "type": "parcoords"
           }
          ],
          "pie": [
           {
            "automargin": true,
            "type": "pie"
           }
          ],
          "scatter": [
           {
            "fillpattern": {
             "fillmode": "overlay",
             "size": 10,
             "solidity": 0.2
            },
            "type": "scatter"
           }
          ],
          "scatter3d": [
           {
            "line": {
             "colorbar": {
              "outlinewidth": 0,
              "ticks": ""
             }
            },
            "marker": {
             "colorbar": {
              "outlinewidth": 0,
              "ticks": ""
             }
            },
            "type": "scatter3d"
           }
          ],
          "scattercarpet": [
           {
            "marker": {
             "colorbar": {
              "outlinewidth": 0,
              "ticks": ""
             }
            },
            "type": "scattercarpet"
           }
          ],
          "scattergeo": [
           {
            "marker": {
             "colorbar": {
              "outlinewidth": 0,
              "ticks": ""
             }
            },
            "type": "scattergeo"
           }
          ],
          "scattergl": [
           {
            "marker": {
             "colorbar": {
              "outlinewidth": 0,
              "ticks": ""
             }
            },
            "type": "scattergl"
           }
          ],
          "scattermapbox": [
           {
            "marker": {
             "colorbar": {
              "outlinewidth": 0,
              "ticks": ""
             }
            },
            "type": "scattermapbox"
           }
          ],
          "scatterpolar": [
           {
            "marker": {
             "colorbar": {
              "outlinewidth": 0,
              "ticks": ""
             }
            },
            "type": "scatterpolar"
           }
          ],
          "scatterpolargl": [
           {
            "marker": {
             "colorbar": {
              "outlinewidth": 0,
              "ticks": ""
             }
            },
            "type": "scatterpolargl"
           }
          ],
          "scatterternary": [
           {
            "marker": {
             "colorbar": {
              "outlinewidth": 0,
              "ticks": ""
             }
            },
            "type": "scatterternary"
           }
          ],
          "surface": [
           {
            "colorbar": {
             "outlinewidth": 0,
             "ticks": ""
            },
            "colorscale": [
             [
              0,
              "#0d0887"
             ],
             [
              0.1111111111111111,
              "#46039f"
             ],
             [
              0.2222222222222222,
              "#7201a8"
             ],
             [
              0.3333333333333333,
              "#9c179e"
             ],
             [
              0.4444444444444444,
              "#bd3786"
             ],
             [
              0.5555555555555556,
              "#d8576b"
             ],
             [
              0.6666666666666666,
              "#ed7953"
             ],
             [
              0.7777777777777778,
              "#fb9f3a"
             ],
             [
              0.8888888888888888,
              "#fdca26"
             ],
             [
              1,
              "#f0f921"
             ]
            ],
            "type": "surface"
           }
          ],
          "table": [
           {
            "cells": {
             "fill": {
              "color": "#EBF0F8"
             },
             "line": {
              "color": "white"
             }
            },
            "header": {
             "fill": {
              "color": "#C8D4E3"
             },
             "line": {
              "color": "white"
             }
            },
            "type": "table"
           }
          ]
         },
         "layout": {
          "annotationdefaults": {
           "arrowcolor": "#2a3f5f",
           "arrowhead": 0,
           "arrowwidth": 1
          },
          "autotypenumbers": "strict",
          "coloraxis": {
           "colorbar": {
            "outlinewidth": 0,
            "ticks": ""
           }
          },
          "colorscale": {
           "diverging": [
            [
             0,
             "#8e0152"
            ],
            [
             0.1,
             "#c51b7d"
            ],
            [
             0.2,
             "#de77ae"
            ],
            [
             0.3,
             "#f1b6da"
            ],
            [
             0.4,
             "#fde0ef"
            ],
            [
             0.5,
             "#f7f7f7"
            ],
            [
             0.6,
             "#e6f5d0"
            ],
            [
             0.7,
             "#b8e186"
            ],
            [
             0.8,
             "#7fbc41"
            ],
            [
             0.9,
             "#4d9221"
            ],
            [
             1,
             "#276419"
            ]
           ],
           "sequential": [
            [
             0,
             "#0d0887"
            ],
            [
             0.1111111111111111,
             "#46039f"
            ],
            [
             0.2222222222222222,
             "#7201a8"
            ],
            [
             0.3333333333333333,
             "#9c179e"
            ],
            [
             0.4444444444444444,
             "#bd3786"
            ],
            [
             0.5555555555555556,
             "#d8576b"
            ],
            [
             0.6666666666666666,
             "#ed7953"
            ],
            [
             0.7777777777777778,
             "#fb9f3a"
            ],
            [
             0.8888888888888888,
             "#fdca26"
            ],
            [
             1,
             "#f0f921"
            ]
           ],
           "sequentialminus": [
            [
             0,
             "#0d0887"
            ],
            [
             0.1111111111111111,
             "#46039f"
            ],
            [
             0.2222222222222222,
             "#7201a8"
            ],
            [
             0.3333333333333333,
             "#9c179e"
            ],
            [
             0.4444444444444444,
             "#bd3786"
            ],
            [
             0.5555555555555556,
             "#d8576b"
            ],
            [
             0.6666666666666666,
             "#ed7953"
            ],
            [
             0.7777777777777778,
             "#fb9f3a"
            ],
            [
             0.8888888888888888,
             "#fdca26"
            ],
            [
             1,
             "#f0f921"
            ]
           ]
          },
          "colorway": [
           "#636efa",
           "#EF553B",
           "#00cc96",
           "#ab63fa",
           "#FFA15A",
           "#19d3f3",
           "#FF6692",
           "#B6E880",
           "#FF97FF",
           "#FECB52"
          ],
          "font": {
           "color": "#2a3f5f"
          },
          "geo": {
           "bgcolor": "white",
           "lakecolor": "white",
           "landcolor": "#E5ECF6",
           "showlakes": true,
           "showland": true,
           "subunitcolor": "white"
          },
          "hoverlabel": {
           "align": "left"
          },
          "hovermode": "closest",
          "mapbox": {
           "style": "light"
          },
          "paper_bgcolor": "white",
          "plot_bgcolor": "#E5ECF6",
          "polar": {
           "angularaxis": {
            "gridcolor": "white",
            "linecolor": "white",
            "ticks": ""
           },
           "bgcolor": "#E5ECF6",
           "radialaxis": {
            "gridcolor": "white",
            "linecolor": "white",
            "ticks": ""
           }
          },
          "scene": {
           "xaxis": {
            "backgroundcolor": "#E5ECF6",
            "gridcolor": "white",
            "gridwidth": 2,
            "linecolor": "white",
            "showbackground": true,
            "ticks": "",
            "zerolinecolor": "white"
           },
           "yaxis": {
            "backgroundcolor": "#E5ECF6",
            "gridcolor": "white",
            "gridwidth": 2,
            "linecolor": "white",
            "showbackground": true,
            "ticks": "",
            "zerolinecolor": "white"
           },
           "zaxis": {
            "backgroundcolor": "#E5ECF6",
            "gridcolor": "white",
            "gridwidth": 2,
            "linecolor": "white",
            "showbackground": true,
            "ticks": "",
            "zerolinecolor": "white"
           }
          },
          "shapedefaults": {
           "line": {
            "color": "#2a3f5f"
           }
          },
          "ternary": {
           "aaxis": {
            "gridcolor": "white",
            "linecolor": "white",
            "ticks": ""
           },
           "baxis": {
            "gridcolor": "white",
            "linecolor": "white",
            "ticks": ""
           },
           "bgcolor": "#E5ECF6",
           "caxis": {
            "gridcolor": "white",
            "linecolor": "white",
            "ticks": ""
           }
          },
          "title": {
           "x": 0.05
          },
          "xaxis": {
           "automargin": true,
           "gridcolor": "white",
           "linecolor": "white",
           "ticks": "",
           "title": {
            "standoff": 15
           },
           "zerolinecolor": "white",
           "zerolinewidth": 2
          },
          "yaxis": {
           "automargin": true,
           "gridcolor": "white",
           "linecolor": "white",
           "ticks": "",
           "title": {
            "standoff": 15
           },
           "zerolinecolor": "white",
           "zerolinewidth": 2
          }
         }
        },
        "width": 1000,
        "xaxis": {
         "anchor": "y",
         "domain": [
          0,
          1
         ],
         "title": {
          "text": "random_value"
         }
        },
        "yaxis": {
         "anchor": "x",
         "domain": [
          0,
          1
         ],
         "title": {
          "text": "pca2"
         }
        }
       }
      },
      "text/html": [
       "<div>                            <div id=\"f780ad04-4d76-4158-b8d9-e8eedd54664f\" class=\"plotly-graph-div\" style=\"height:700px; width:1000px;\"></div>            <script type=\"text/javascript\">                require([\"plotly\"], function(Plotly) {                    window.PLOTLYENV=window.PLOTLYENV || {};                                    if (document.getElementById(\"f780ad04-4d76-4158-b8d9-e8eedd54664f\")) {                    Plotly.newPlot(                        \"f780ad04-4d76-4158-b8d9-e8eedd54664f\",                        [{\"customdata\":[[\"Leonardo da Vinci\",16.0,4,null],[\"Leonardo da Vinci\",16.0,197,null],[\"Napoleon Bonaparte\",16.0,4,null],[\"Napoleon Bonaparte\",16.0,203,null],[\"Mahatma Gandhi\",16.0,4,null],[\"Mahatma Gandhi\",16.0,182,null],[\"Albert Einstein\",16.0,4,null],[\"Albert Einstein\",16.0,169,null],[\"Marilyn Monroe\",16.0,4,null],[\"Marilyn Monroe\",16.0,149,null],[\"Queen Elizabeth I\",16.0,4,null],[\"Queen Elizabeth I\",16.0,181,null],[\"Nelson Mandela\",16.0,4,null],[\"Nelson Mandela\",16.0,194,null],[\"Mother Teresa\",16.0,4,null],[\"Mother Teresa\",16.0,151,null],[\"Wolfgang Amadeus Mozart\",16.0,4,null],[\"Wolfgang Amadeus Mozart\",16.0,181,null],[\"Michelangelo\",16.0,4,null],[\"Michelangelo\",16.0,206,null],[\"Karl Marx\",16.0,4,null],[\"Karl Marx\",16.0,182,null],[\"Martin Luther King Jr.\",16.0,4,null],[\"Martin Luther King Jr.\",16.0,206,null],[\"Alexander Hamilton\",16.0,4,null],[\"Alexander Hamilton\",16.0,197,null],[\"Thomas Edison\",16.0,4,null],[\"Thomas Edison\",16.0,184,null],[\"Charles Darwin\",16.0,4,null],[\"Charles Darwin\",16.0,194,null],[\"Marie Curie\",16.0,4,null],[\"Marie Curie\",16.0,206,null],[\"Vincent van Gogh\",16.0,4,null],[\"Vincent van Gogh\",16.0,202,null],[\"Galileo Galilei\",16.0,4,null],[\"Galileo Galilei\",16.0,156,null],[\"Benjamin Franklin\",16.0,4,null],[\"Benjamin Franklin\",16.0,147,null],[\"Queen Victoria\",16.0,4,null],[\"Queen Victoria\",16.0,153,null],[\"Pablo Picasso\",16.0,4,null],[\"Pablo Picasso\",16.0,191,null],[\"Winston Churchill\",16.0,4,null],[\"Winston Churchill\",16.0,221,null],[\"Adolf Hitler\",16.0,4,null],[\"Adolf Hitler\",16.0,209,null],[\"Catherine the Great\",16.0,4,null],[\"Catherine the Great\",16.0,209,null],[\"Joan of Arc\",16.0,4,null],[\"Joan of Arc\",16.0,143,null],[\"George Washington\",16.0,4,null],[\"George Washington\",16.0,157,null],[\"John F. Kennedy\",16.0,4,null],[\"John F. Kennedy\",16.0,174,null],[\"Frida Kahlo\",16.0,4,null],[\"Frida Kahlo\",16.0,229,null],[\"Johann Sebastian Bach\",16.0,4,null],[\"Johann Sebastian Bach\",16.0,171,null],[\"Napoleon III\",16.0,4,null],[\"Napoleon III\",16.0,148,null],[\"Thomas Jefferson\",16.0,4,null],[\"Thomas Jefferson\",16.0,191,null],[\"Isaac Newton\",16.0,4,null],[\"Isaac Newton\",16.0,211,null],[\"Elizabeth Taylor\",16.0,4,null],[\"Elizabeth Taylor\",16.0,138,null],[\"Michael Jordan\",16.0,4,null],[\"Michael Jordan\",16.0,234,null],[\"Neil Armstrong\",16.0,4,null],[\"Neil Armstrong\",16.0,147,null],[\"Bruce Lee\",16.0,4,null],[\"Bruce Lee\",16.0,183,null],[\"Tupac Shakur\",16.0,4,null],[\"Tupac Shakur\",16.0,202,null],[\"Elvis Presley\",16.0,4,null],[\"Elvis Presley\",16.0,158,null],[\"Walt Disney\",16.0,4,null],[\"Walt Disney\",16.0,198,null],[\"Cristiano Ronaldo\",16.0,4,null],[\"Cristiano Ronaldo\",16.0,183,null],[\"Abraham Lincoln\",16.0,4,null],[\"Abraham Lincoln\",16.0,151,null],[\"Mao Zedong\",16.0,4,null],[\"Mao Zedong\",16.0,195,null],[\"Anne Frank\",16.0,4,null],[\"Anne Frank\",16.0,140,null],[\"Stephen Hawking\",16.0,4,null],[\"Stephen Hawking\",16.0,182,null],[\"Fidel Castro\",16.0,4,null],[\"Fidel Castro\",16.0,216,null],[\"James Cook\",16.0,4,null],[\"James Cook\",16.0,193,null],[\"Henry Ford\",16.0,4,null],[\"Henry Ford\",16.0,182,null],[\"Salvador Dal\\u00ed\",16.0,4,null],[\"Salvador Dal\\u00ed\",16.0,162,null],[\"Queen Isabella I of Castile\",16.0,4,null],[\"Queen Isabella I of Castile\",16.0,173,null],[\"Pope Francis\",16.0,4,null],[\"Pope Francis\",16.0,131,null],[\"Stephen King\",16.0,4,null],[\"Stephen King\",16.0,142,null],[\"Amelia Earhart\",16.0,4,null],[\"Amelia Earhart\",16.0,193,null],[\"Emily Dickinson\",16.0,4,null],[\"Emily Dickinson\",16.0,205,null],[\"Alfred Nobel\",16.0,4,null],[\"Alfred Nobel\",16.0,206,null],[\"Gustave Eiffel\",16.0,4,null],[\"Gustave Eiffel\",16.0,133,null],[\"Al Capone\",16.0,4,null],[\"Al Capone\",16.0,139,null],[\"Jackie Robinson\",16.0,4,null],[\"Jackie Robinson\",16.0,174,null],[\"Margaret Thatcher\",16.0,4,null],[\"Margaret Thatcher\",16.0,179,null],[\"Vladimir Lenin\",16.0,4,null],[\"Vladimir Lenin\",16.0,153,null],[\"Babe Ruth\",16.0,4,null],[\"Babe Ruth\",16.0,172,null],[\"Rosa Parks\",16.0,4,null],[\"Rosa Parks\",16.0,195,null],[\"Che Guevara\",16.0,4,null],[\"Che Guevara\",16.0,175,null],[\"Sigmund Freud\",16.0,4,null],[\"Sigmund Freud\",16.0,158,null],[\"Christopher Columbus\",16.0,4,null],[\"Christopher Columbus\",16.0,166,null],[\"Mark Twain\",16.0,4,null],[\"Mark Twain\",16.0,154,null],[\"Alexander Graham Bell\",16.0,4,null],[\"Alexander Graham Bell\",16.0,126,null],[\"Paul McCartney\",16.0,4,null],[\"Paul McCartney\",16.0,152,null],[\"Nikola Tesla\",16.0,4,null],[\"Nikola Tesla\",16.0,175,null],[\"Bruce Springsteen\",16.0,4,null],[\"Bruce Springsteen\",16.0,149,null],[\"Emily Bront\\u00eb\",16.0,4,null],[\"Emily Bront\\u00eb\",16.0,197,null],[\"Teresa of \\u00c1vila\",16.0,4,null],[\"Teresa of \\u00c1vila\",16.0,172,null],[\"John Lennon\",16.0,4,null],[\"John Lennon\",16.0,158,null],[\"Charlie Chaplin\",16.0,4,null],[\"Charlie Chaplin\",16.0,171,null],[\"Kurt Cobain\",16.0,4,null],[\"Kurt Cobain\",16.0,165,null],[\"Oscar Wilde\",16.0,4,null],[\"Oscar Wilde\",16.0,198,null],[\"Richard Nixon\",16.0,4,null],[\"Richard Nixon\",16.0,146,null],[\"Muhammad Ali\",16.0,4,null],[\"Muhammad Ali\",16.0,166,null],[\"Helen Keller\",16.0,4,null],[\"Helen Keller\",16.0,189,null],[\"Steve Jobs\",16.0,4,null],[\"Steve Jobs\",16.0,196,null],[\"Oprah Winfrey\",16.0,4,null],[\"Oprah Winfrey\",16.0,219,null],[\"Barack Obama\",16.0,4,null],[\"Barack Obama\",16.0,163,null],[\"Xi Jinping\",16.0,4,null],[\"Xi Jinping\",16.0,154,null],[\"Kim Jong Un\",16.0,4,null],[\"Kim Jong Un\",16.0,132,null],[\"Narendra Modi\",16.0,4,null],[\"Narendra Modi\",16.0,149,null],[\"Aung San Suu Kyi\",16.0,4,null],[\"Aung San Suu Kyi\",16.0,201,null]],\"hovertemplate\":\"label=0\\u003cbr\\u003edata_type=celebrity\\u003cbr\\u003erandom_value=%{x}\\u003cbr\\u003epca2=%{y}\\u003cbr\\u003einput\\u002foutput=%{customdata[0]}\\u003cbr\\u003elayer_id=%{customdata[1]}\\u003cbr\\u003eoutput_length=%{customdata[2]}\\u003cbr\\u003eswitch=%{customdata[3]}\\u003cextra\\u003e\\u003c\\u002fextra\\u003e\",\"legendgroup\":\"0, celebrity\",\"marker\":{\"color\":\"#ef6c00\",\"symbol\":\"circle\"},\"mode\":\"markers\",\"name\":\"0, celebrity\",\"orientation\":\"v\",\"showlegend\":true,\"x\":[0.6861009700993546,0.9945889408893054,0.03740054318927066,0.8036584256877324,0.6649565853222286,0.47743318399239776,0.6458388617468334,0.7140277500863286,0.9558313771385376,0.45839314634801076,0.9397499518895205,0.1880719285022857,0.01818242125335323,0.8965517737284177,0.5518931567446265,0.8522206120821069,0.8627718186876878,0.6568603937948635,0.4226295823492532,0.3905136462669426,0.45760968090898224,0.09836684679875707,0.19397648102667386,0.7997680894036978,0.44591737608411597,0.4946034610154989,0.7834978867703531,0.7849336694879135,0.9521480147202571,0.007748497731595916,0.3854421079319721,0.3398178272779817,0.045028128524313704,0.771967537924127,0.31274492552997535,0.9684499740155892,0.5294835931178019,0.45258563442088295,0.8381972269299311,0.19143290150383663,0.019249395119135038,0.5786881720759426,0.48700300127899665,0.5974365912357715,0.42311481870644096,0.4854883276378805,0.3749252832170642,0.10315366630263556,0.8082943685458388,0.0679806758600805,0.5922818736860532,0.870157252168628,0.8721983341149061,0.4721119893396645,0.5141195021501763,0.05803522493751756,0.9066931347852725,0.1223065084174787,0.6004984790358299,0.22267307908378198,0.11666983057292024,0.7451871830133876,0.8674143986182643,0.6963708313752589,0.6328635426541351,0.06536080336179251,0.7701877308260556,0.009124671826116648,0.2750420179678904,0.6150420340456194,0.38753869781495554,0.19460909442950258,0.31775993246092615,0.10632265231391891,0.9650229172318994,0.301110654346778,0.3289003573160165,0.9920624922119451,0.6143689781273293,0.6899083110883248,0.37434343769676026,0.32371167701876846,0.14917595357215785,0.3874376547718563,0.8190605675219316,0.8942159516960227,0.2690786623839222,0.5565570687613021,0.9089415794635878,0.8989261590895553,0.24115743126617306,0.6502746870450039,0.6641236903402324,0.009633526137626247,0.38085856158948617,0.908896074334277,0.8785464695513167,0.8013999788723154,0.7146043141571155,0.9704536755710872,0.009732170649288885,0.6829514260736972,0.5507629577274755,0.26895741145546437,0.5614273485206379,0.756648699449593,0.05618534153937582,0.5265984635073836,0.0053159275022083285,0.3589891391122463,0.5242279339450635,0.9369608665337789,0.992107016196315,0.36177051748246714,0.25438597317900236,0.6253131829660858,0.1400775637060524,0.12365025641909455,0.615798928990802,0.9822931627931673,0.991054625116662,0.8120207570349489,0.9439594003218158,0.3278936417716777,0.9493495483513286,0.1971254675927714,0.878056443905858,0.8687641197711806,0.6001405819809833,0.02230986579484895,0.6441371723029554,0.7494486120706572,0.5220837589685801,0.7836014064770945,0.9975350836893226,0.5825441080625455,0.8067930912059857,0.021652131749854586,0.0005812796300846967,0.43121157884161765,0.46470343535834024,0.5311964956728743,0.5148606718457515,0.6516516186164156,0.3865097129481102,0.2246304049631902,0.7489004975054357,0.8008507007547747,0.3165243483876148,0.5580791160324022,0.18446057707630636,0.4257966401517099,0.07184543541446065,0.3751843907217679,0.666046742145045,0.49939758951633717,0.6250974216341292,0.6669737054420491,0.14998487007414818,0.10836208169561867,0.21169718433166607,0.04054220304508227,0.4006584898585537,0.5864922444470908,0.24963490554759393,0.7658321269917575,0.5599289455155125,0.4185361016697755,0.8160302266703761,0.6735929296664395],\"xaxis\":\"x\",\"y\":[-3.7307506841076084,2.8964227470937587,-8.427013457229345,1.8541738253856905,-7.658831191127462,1.4283241168686172,-9.901316107020316,2.147603199667115,-6.81206529593495,3.2793741509902645,-3.5583957048421597,2.3105911554320135,-6.33552206713776,1.6882624907382509,-4.026012962024093,2.2597372398998137,-10.09437058081968,1.995881091140907,-2.391595513185103,2.9312837891162324,-7.737037795319138,2.463341298044904,-6.078634773493546,2.5152115209330614,-4.617793699279792,2.2423607137737744,-9.461226391080196,2.934366174309877,-9.179375678842927,3.0840041036312322,-8.580109404977515,2.1256334857903134,-8.713382807535474,3.457867074393998,-8.685705396999614,2.453835095592753,-6.57958384396963,2.200035556515035,-7.416544092309596,2.291013017774807,-8.816631768588685,2.4178572900199278,-8.356577506278128,3.7918052704834646,-6.5607703089815335,5.005390537180956,-5.523671590999364,2.579796854702689,-5.522594110632,2.4746907702911267,-4.968029486421909,2.6092972699572115,-7.33414303360904,3.014395954454814,-8.568459327956134,1.8314911944218462,-6.21756036126126,2.1791579661829457,-4.367907663780704,3.074166228430763,-8.590276666489356,1.7373050527140994,-6.131674030789343,1.9745032233322142,-7.143829879995883,2.5505805667820542,-6.113066133615632,3.5937422889570136,-3.5377037320476687,1.9695891452381062,-6.846119024754169,2.273967625242774,-6.247187524298097,3.015449952604711,-7.654397543747634,2.6059997697748365,-8.221669412356144,1.99817457624735,-6.1103060155649604,3.7752108727501295,-9.64691475170169,2.3070282067017445,-4.377012214509088,2.565004599844693,-2.458361979715097,2.3266697094880815,-8.724465639822993,2.5196391161309606,-7.061967830536631,2.3870463742288006,-5.758072415976899,3.0426598815088752,-8.282949473536442,2.630536253959811,-7.715610957029119,2.9715549093484075,-2.3210697848033437,2.7810827795036843,-3.9822463203268796,2.8000659873111537,-7.419362954593955,3.691336527426286,-7.167038239334897,2.4751832252283914,-6.4052650344394975,1.6794259710810213,-5.880651100021653,3.104108298150197,-7.496963218921578,4.018808919689537,-6.450336796575208,2.7948350386054903,-5.704178478543662,2.7546172836172413,-5.925542632411089,2.5267358142460403,-5.152226849059381,2.268769208514102,-5.760445614666429,2.5214765488201065,-6.7347809013299775,2.8203537618971897,-6.526722160874711,2.7188540584951846,-7.935295907611709,2.134775139095286,-2.2844371954066562,2.6390321572947437,-7.808734105632677,3.4692567500031766,-9.063934890643647,2.893726062682111,-7.649104856245755,2.3015104230653183,-8.450812718056987,3.2639172645867713,-7.402488346678329,2.980645002147345,-9.02482992798109,3.5257845490349746,-2.939845910535754,3.0177522688347405,-5.10361574483686,3.055129021274482,-8.161032764200572,2.1387295294747735,-7.391416095861068,3.036111839002443,-8.070158773320987,3.2518502985503313,-6.202057512365819,3.1958713711301723,-8.046318366430587,2.661073827156104,-7.886186241183398,1.7942757655005441,-5.830722973566973,2.4445596685835786,-6.682971036210452,3.487109085686628,-7.5910726659424705,2.7019449339698802,-5.363056785383151,3.4976446930769614,-5.273953500764657,3.8979783882402677,-4.293058828246119,3.405913510638017,-3.7311923608042195,3.583978187928283],\"yaxis\":\"y\",\"type\":\"scatter\"},{\"customdata\":[[\"Darien Hawthorne\",16.0,4,null],[\"Darien Hawthorne\",16.0,160,null],[\"Leandra Rivers\",16.0,4,null],[\"Leandra Rivers\",16.0,189,null],[\"Elara Meadows\",16.0,4,null],[\"Elara Meadows\",16.0,165,null],[\"Liora Ashby\",16.0,4,null],[\"Liora Ashby\",16.0,193,null],[\"Thaddeus Sterling\",16.0,4,null],[\"Thaddeus Sterling\",16.0,210,null],[\"Seraphina Winter\",16.0,4,null],[\"Seraphina Winter\",16.0,157,null],[\"Declan Monroe\",16.0,4,null],[\"Declan Monroe\",16.0,142,null],[\"Zephyr Callahan\",16.0,4,null],[\"Zephyr Callahan\",16.0,174,null],[\"Lyra Whitaker\",16.0,4,null],[\"Lyra Whitaker\",16.0,191,null],[\"Boris kovelev\",16.0,4,null],[\"Boris kovelev\",16.0,138,null],[\"Alessia Rossi\",16.0,4,null],[\"Alessia Rossi\",16.0,178,null],[\"Henrik Bergstr\\u00f6m\",16.0,4,null],[\"Henrik Bergstr\\u00f6m\",16.0,173,null],[\"Isabella Nov\\u00e1k\",16.0,4,null],[\"Isabella Nov\\u00e1k\",16.0,159,null],[\"Lucas M\\u00fcller\",16.0,4,null],[\"Lucas M\\u00fcller\",16.0,184,null],[\"Sofia Kostas\",16.0,4,null],[\"Sofia Kostas\",16.0,154,null],[\"jean-pierre Perrez\",16.0,4,null],[\"jean-pierre Perrez\",16.0,191,null],[\"Haruki Suzuki\",16.0,4,null],[\"Haruki Suzuki\",16.0,139,null],[\"Mei Pin\",16.0,4,null],[\"Mei Pin\",16.0,137,null],[\"Haeki Wei\",16.0,4,null],[\"Haeki Wei\",16.0,138,null],[\"Thibault Ricard\",16.0,4,null],[\"Thibault Ricard\",16.0,191,null],[\"Li Yamamoto\",16.0,4,null],[\"Li Yamamoto\",16.0,168,null],[\"Surya Gupta\",16.0,4,null],[\"Surya Gupta\",16.0,184,null],[\"Yann Fujimoto\",16.0,4,null],[\"Yann Fujimoto\",16.0,197,null],[\"Camila Santos\",16.0,4,null],[\"Camila Santos\",16.0,154,null],[\"Mateo Rodriguez\",16.0,4,null],[\"Mateo Rodriguez\",16.0,159,null],[\"Gabriel Herrera\",16.0,4,null],[\"Gabriel Herrera\",16.0,156,null],[\"Valentina Silva\",16.0,4,null],[\"Valentina Silva\",16.0,140,null],[\"Alejandro chavez\",16.0,4,null],[\"Alejandro chavez\",16.0,184,null],[\"Adamma Nwosu\",16.0,4,null],[\"Adamma Nwosu\",16.0,184,null],[\"Kwame Osei\",16.0,4,null],[\"Kwame Osei\",16.0,174,null],[\"Asha Nkrumah\",16.0,4,null],[\"Asha Nkrumah\",16.0,146,null],[\"Jabari Mbeki\",16.0,4,null],[\"Jabari Mbeki\",16.0,206,null],[\"Sanaa Diop\",16.0,4,null],[\"Sanaa Diop\",16.0,156,null],[\"Oluwa Adeyemi\",16.0,4,null],[\"Oluwa Adeyemi\",16.0,178,null],[\"Tafari Asante\",16.0,4,null],[\"Tafari Asante\",16.0,223,null],[\"Amina Dube\",16.0,4,null],[\"Amina Dube\",16.0,134,null],[\"Kofi Abimbola\",16.0,4,null],[\"Kofi Abimbola\",16.0,126,null],[\"Tane Ngata\",16.0,4,null],[\"Tane Ngata\",16.0,140,null],[\"Moana Mahana\",16.0,4,null],[\"Moana Mahana\",16.0,143,null],[\"Aroha Tamati\",16.0,4,null],[\"Aroha Tamati\",16.0,160,null],[\"Kai Tehei\",16.0,4,null],[\"Kai Tehei\",16.0,166,null],[\"Marama P\\u014dtiki\",16.0,4,null],[\"Marama P\\u014dtiki\",16.0,127,null],[\"Rangi Tavita\",16.0,4,null],[\"Rangi Tavita\",16.0,167,null],[\"Hine Rehua\",16.0,4,null],[\"Hine Rehua\",16.0,165,null],[\"Manaia Whakarua\",16.0,4,null],[\"Manaia Whakarua\",16.0,157,null],[\"Kiri Waimarie\",16.0,4,null],[\"Kiri Waimarie\",16.0,146,null],[\"John Ngaio\",16.0,4,null],[\"John Ngaio\",16.0,154,null],[\"Amir al-Farsi\",16.0,3,null],[\"Amir al-Farsi\",16.0,173,null],[\"Layla Nassar\",16.0,4,null],[\"Layla Nassar\",16.0,126,null],[\"Farid Khoury\",16.0,4,null],[\"Farid Khoury\",16.0,149,null],[\"Samira Alawi\",16.0,4,null],[\"Samira Alawi\",16.0,167,null],[\"Karim Hassan\",16.0,4,null],[\"Karim Hassan\",16.0,150,null],[\"Leila Rizvi\",16.0,4,null],[\"Leila Rizvi\",16.0,175,null],[\"Zahir Mansour\",16.0,4,null],[\"Zahir Mansour\",16.0,144,null],[\"Aisha Qadri\",16.0,4,null],[\"Aisha Qadri\",16.0,150,null],[\"Alfred Abbasi\",16.0,4,null],[\"Alfred Abbasi\",16.0,185,null],[\"Yousef Khalid\",16.0,4,null],[\"Yousef Khalid\",16.0,163,null],[\"Arjuna Tan\",16.0,4,null],[\"Arjuna Tan\",16.0,221,null],[\"Hera Nurul\",16.0,4,null],[\"Hera Nurul\",16.0,206,null],[\"Christopher Nguyen\",16.0,4,null],[\"Christopher Nguyen\",16.0,144,null],[\"Aisha Ebrahim\",16.0,4,null],[\"Aisha Ebrahim\",16.0,163,null],[\"Prabhu Rajan\",16.0,4,null],[\"Prabhu Rajan\",16.0,168,null],[\"Surya Dewi\",16.0,4,null],[\"Surya Dewi\",16.0,188,null],[\"Kritika Sharma\",16.0,4,null],[\"Kritika Sharma\",16.0,140,null],[\"Somchai Pong\",16.0,4,null],[\"Somchai Pong\",16.0,164,null],[\"Patrik Sari\",16.0,4,null],[\"Patrik Sari\",16.0,153,null]],\"hovertemplate\":\"label=1\\u003cbr\\u003edata_type=celebrity\\u003cbr\\u003erandom_value=%{x}\\u003cbr\\u003epca2=%{y}\\u003cbr\\u003einput\\u002foutput=%{customdata[0]}\\u003cbr\\u003elayer_id=%{customdata[1]}\\u003cbr\\u003eoutput_length=%{customdata[2]}\\u003cbr\\u003eswitch=%{customdata[3]}\\u003cextra\\u003e\\u003c\\u002fextra\\u003e\",\"legendgroup\":\"1, celebrity\",\"marker\":{\"color\":\"#eeff41\",\"symbol\":\"circle\"},\"mode\":\"markers\",\"name\":\"1, celebrity\",\"orientation\":\"v\",\"showlegend\":true,\"x\":[0.0013099539341344668,0.249486659402696,0.8984962142954043,0.45188852374278954,0.30015269044628023,0.6234194590445924,0.7780142474090448,0.8340240664894207,0.1490499603257479,0.2757437524830971,0.39483142257613824,0.3336123243518412,0.19022924105307604,0.06438634121119746,0.29528774846034145,0.4103499205382175,0.8252606470823163,0.8758851925450073,0.1314785895640903,0.07066574562022465,0.8872279773947347,0.25115861798865435,0.5466543345975812,0.3390192265085249,0.21388311303441254,0.5730177728495202,0.16703166448887496,0.8705736009412516,0.9843126501491172,0.06648405277156388,0.8480375974678204,0.19192197354774676,0.6457000878341517,0.6554964853652107,0.03598182555823759,0.3108897040333696,0.43748341882284225,0.3072664793141743,0.7712244256272502,0.46256301604418393,0.6619215801648015,0.7018082645466736,0.30939556103608645,0.9309745355833887,0.8529644237161258,0.8077963570739881,0.8694384141962028,0.8323676243489796,0.0942354476844468,0.8349093566961369,0.7187727793129147,0.7831964799630794,0.45221344728211077,0.5350886761281635,0.23423884319045163,0.03741109641039997,0.9098790472369617,0.9505937198746292,0.6050742803757836,0.30754124750373146,0.4014939948386419,0.15578702820889,0.5175056575490038,0.596916233444353,0.776957511456475,0.0386818883041703,0.22378966327450212,0.7585415987235018,0.7513620265303492,0.9917421257575256,0.32562460736903,0.8599916983254436,0.20864321304432254,0.5536194281436034,0.2890046246974959,0.6875162366344781,0.9461981330105108,0.19912778227962158,0.5791176876837366,0.8216370966943489,0.7528619021200417,0.21133286156796127,0.18526475437236556,0.7892090160193102,0.879892356475644,0.939183768058747,0.08569406909218646,0.9511115434707802,0.5641662952207325,0.04302813506166492,0.14751370241065354,0.2595681838633266,0.09319026267690045,0.8045267816782949,0.37620046980235666,0.7334604671842538,0.9983009996677412,0.9850427365157365,0.6656056566410299,0.19699729461583615,0.4228127527208331,0.5931091065916793,0.0883518837963897,0.4607400373030368,0.11690758523274836,0.9004977300047712,0.39736392954644384,0.6276498716465017,0.7044929658224051,0.9815201339960247,0.650953180886825,0.8338112037935207,0.7675163604523042,0.1751893056860393,0.07536001458375186,0.5008132649238226,0.8590152328401249,0.05112993792017162,0.5783983602285118,0.883553361060781,0.4599725452059913,0.7555051311292047,0.8235376034335964,0.9795017908415763,0.643709420809228,0.9714661358729179,0.4422260661049632,0.7692129410415511,0.6938278029300585,0.6952815541859997,0.12470927535803267,0.799727612240526],\"xaxis\":\"x\",\"y\":[2.4535730811285887,5.876944253261109,0.16263213620555472,4.661733141117811,1.1947094384076729,5.514082009204509,-0.21501415091167786,6.0155218920852915,-3.8104882438755636,6.195786320409381,2.0491525170461826,4.933586529517535,0.8736204819372013,5.3421326024012075,2.445155752918684,6.490257945150091,0.0931254814954765,6.548529754981033,-1.4326407340215925,6.937091080850442,-2.4759384565423463,4.517543234210942,-3.7921931933955104,5.831354641078566,-0.22620472715494788,5.077890833885283,4.893596121976227,4.927055149125522,-1.2398554145496017,6.176445862515185,-1.5692550511755456,5.945919124812547,-0.6073308602411944,6.265357997351703,-0.3181296833987919,5.583750387737092,-1.6813025182943433,6.066220472080206,-3.530727267869435,5.246080576372142,-4.497055781497276,4.98564437268783,-2.881485502821565,5.047937330395997,-1.7872707563555772,5.273389030110256,-3.0090102147061617,7.021368241008037,-1.566916913208349,4.813884418378903,-2.853982402310675,5.620014457766207,-1.7695423572477067,5.8555210087179965,3.216444858446115,5.792321478581736,-1.454518042418556,5.376903616745635,-2.159787784110588,6.596323676190098,-4.454001799894389,5.347436305551028,-4.553694464029423,5.6956834525642455,-3.0657992665827862,5.890399606452807,-1.6973309511360628,5.222713859382232,-1.061312141329914,5.046065412449703,-1.082911178797898,7.735520583372157,-2.186579084283538,6.2218987387917535,-4.199571204820724,6.09825705267492,6.110340661413252,5.915381873334848,-2.7954446632249477,5.263107960232883,-0.6527901941781837,5.6811796686928675,-0.010319535367818933,6.0700396180100675,3.1151233888369982,5.998245216173754,0.3850121351023965,6.266837856285534,-1.198391305207623,6.1005164510425915,2.415248622230693,6.321169738489553,-5.974499255807849,5.36048388102064,6.113808208999954,4.780299831946701,4.779196133311455,6.467017588678386,-3.9666639588041193,7.959310435206835,-3.1486536111568926,4.987957510602134,-1.4757742414038368,5.176394104663631,-0.6049779633445653,5.682757490184349,-1.216683901376793,7.09346508744861,-1.6595847657584066,6.252460688518024,-2.5651519106180167,5.545445959233447,-2.576841133007079,7.573038064930149,1.3221441531564344,6.016128565868739,-0.2628443663560218,6.192594072354986,-3.1950825469376953,5.753838881943785,-1.4155856691692508,5.241289689521702,-1.5154745318539482,7.0285049527847185,0.14669693944168727,5.36328590960151,-1.5900984025729223,8.61094689370377,2.3010308189785675,5.720086602410435,-1.8226560908303582,7.380475178499671],\"yaxis\":\"y\",\"type\":\"scatter\"},{\"customdata\":[[\"Time\",16.0,4,null],[\"Time\",16.0,131,null],[\"Year\",16.0,5,null],[\"Year\",16.0,109,null],[\"People\",16.0,7,null],[\"People\",16.0,105,null],[\"Way\",16.0,5,null],[\"Way\",16.0,93,null],[\"Day\",16.0,7,null],[\"Day\",16.0,93,null],[\"Man\",16.0,6,null],[\"Man\",16.0,29,null],[\"Thing\",16.0,6,null],[\"Thing\",16.0,87,null],[\"Woman\",16.0,6,null],[\"Woman\",16.0,22,null],[\"Life\",16.0,9,null],[\"Life\",16.0,118,null],[\"Child\",16.0,5,null],[\"Child\",16.0,115,null],[\"World\",16.0,5,null],[\"World\",16.0,85,null],[\"School\",16.0,7,null],[\"School\",16.0,140,null],[\"State\",16.0,9,null],[\"State\",16.0,68,null],[\"Family\",16.0,3,null],[\"Family\",16.0,107,null],[\"Student\",16.0,5,null],[\"Student\",16.0,87,null],[\"Group\",16.0,7,null],[\"Group\",16.0,91,null],[\"Country\",16.0,6,null],[\"Country\",16.0,82,null],[\"Problem\",16.0,5,null],[\"Problem\",16.0,94,null],[\"Hand\",16.0,4,null],[\"Hand\",16.0,84,null],[\"Part\",16.0,7,null],[\"Part\",16.0,91,null],[\"Place\",16.0,8,null],[\"Place\",16.0,63,null],[\"Case\",16.0,8,null],[\"Case\",16.0,133,null],[\"Week\",16.0,8,null],[\"Week\",16.0,45,null],[\"Company\",16.0,11,null],[\"Company\",16.0,101,null],[\"System\",16.0,7,null],[\"System\",16.0,103,null],[\"Program\",16.0,6,null],[\"Program\",16.0,137,null],[\"Question\",16.0,7,null],[\"Question\",16.0,68,null],[\"Work\",16.0,6,null],[\"Work\",16.0,103,null],[\"Government\",16.0,9,null],[\"Government\",16.0,128,null],[\"Number\",16.0,5,null],[\"Number\",16.0,95,null],[\"Night\",16.0,8,null],[\"Night\",16.0,50,null],[\"Point\",16.0,3,null],[\"Point\",16.0,99,null],[\"Home\",16.0,5,null],[\"Home\",16.0,135,null],[\"Water\",16.0,6,null],[\"Water\",16.0,139,null],[\"Room\",16.0,7,null],[\"Room\",16.0,144,null],[\"Mother\",16.0,6,null],[\"Mother\",16.0,66,null],[\"Area\",16.0,6,null],[\"Area\",16.0,94,null],[\"Money\",16.0,4,null],[\"Money\",16.0,71,null],[\"Story\",16.0,4,null],[\"Story\",16.0,124,null],[\"Fact\",16.0,5,null],[\"Fact\",16.0,68,null],[\"Month\",16.0,6,null],[\"Month\",16.0,99,null],[\"Lot\",16.0,5,null],[\"Lot\",16.0,111,null],[\"Right\",16.0,7,null],[\"Right\",16.0,51,null],[\"Study\",16.0,11,null],[\"Study\",16.0,98,null],[\"Book\",16.0,4,null],[\"Book\",16.0,114,null],[\"Eye\",16.0,4,null],[\"Eye\",16.0,112,null],[\"Job\",16.0,10,null],[\"Job\",16.0,108,null],[\"Word\",16.0,6,null],[\"Word\",16.0,25,null],[\"Business\",16.0,8,null],[\"Business\",16.0,166,null],[\"Issue\",16.0,7,null],[\"Issue\",16.0,62,null],[\"Side\",16.0,5,null],[\"Side\",16.0,51,null],[\"Kind\",16.0,6,null],[\"Kind\",16.0,69,null],[\"Head\",16.0,5,null],[\"Head\",16.0,96,null],[\"House\",16.0,5,null],[\"House\",16.0,170,null],[\"Service\",16.0,3,null],[\"Service\",16.0,116,null],[\"Friend\",16.0,9,null],[\"Friend\",16.0,86,null],[\"Father\",16.0,9,null],[\"Father\",16.0,80,null],[\"Power\",16.0,5,null],[\"Power\",16.0,74,null],[\"Hour\",16.0,6,null],[\"Hour\",16.0,73,null],[\"Game\",16.0,5,null],[\"Game\",16.0,121,null],[\"Line\",16.0,6,null],[\"Line\",16.0,121,null],[\"End\",16.0,6,null],[\"End\",16.0,98,null],[\"Member\",16.0,6,null],[\"Member\",16.0,94,null],[\"Law\",16.0,4,null],[\"Law\",16.0,148,null],[\"Car\",16.0,7,null],[\"Car\",16.0,151,null],[\"City\",16.0,10,null],[\"City\",16.0,132,null],[\"Community\",16.0,7,null],[\"Community\",16.0,116,null],[\"Name\",16.0,5,null],[\"Name\",16.0,93,null],[\"President\",16.0,6,null],[\"President\",16.0,140,null],[\"Team\",16.0,5,null],[\"Team\",16.0,80,null],[\"Minute\",16.0,6,null],[\"Minute\",16.0,47,null],[\"Idea\",16.0,7,null],[\"Idea\",16.0,139,null],[\"Kid\",16.0,8,null],[\"Kid\",16.0,56,null],[\"Body\",16.0,6,null],[\"Body\",16.0,110,null],[\"Information\",16.0,4,null],[\"Information\",16.0,90,null],[\"Back\",16.0,4,null],[\"Back\",16.0,103,null],[\"Parent\",16.0,6,null],[\"Parent\",16.0,101,null],[\"Face\",16.0,6,null],[\"Face\",16.0,149,null],[\"Level\",16.0,5,null],[\"Level\",16.0,120,null],[\"Office\",16.0,6,null],[\"Office\",16.0,171,null],[\"Door\",16.0,8,null],[\"Door\",16.0,96,null],[\"Health\",16.0,8,null],[\"Health\",16.0,138,null],[\"Person\",16.0,10,null],[\"Person\",16.0,97,null],[\"Art\",16.0,5,null],[\"Art\",16.0,145,null],[\"War\",16.0,8,null],[\"War\",16.0,77,null],[\"History\",16.0,4,null],[\"History\",16.0,113,null],[\"Party\",16.0,9,null],[\"Party\",16.0,95,null],[\"Result\",16.0,7,null],[\"Result\",16.0,94,null],[\"Change\",16.0,5,null],[\"Change\",16.0,53,null],[\"Morning\",16.0,6,null],[\"Morning\",16.0,154,null],[\"Reason\",16.0,5,null],[\"Reason\",16.0,135,null],[\"Research\",16.0,5,null],[\"Research\",16.0,131,null],[\"Girl\",16.0,4,null],[\"Girl\",16.0,30,null],[\"Guy\",16.0,3,null],[\"Guy\",16.0,56,null],[\"Moment\",16.0,7,null],[\"Moment\",16.0,75,null],[\"Air\",16.0,10,null],[\"Air\",16.0,114,null],[\"Teacher\",16.0,10,null],[\"Teacher\",16.0,88,null],[\"Force\",16.0,5,null],[\"Force\",16.0,87,null],[\"Education\",16.0,11,null],[\"Education\",16.0,92,null]],\"hovertemplate\":\"label=4\\u003cbr\\u003edata_type=english_word\\u003cbr\\u003erandom_value=%{x}\\u003cbr\\u003epca2=%{y}\\u003cbr\\u003einput\\u002foutput=%{customdata[0]}\\u003cbr\\u003elayer_id=%{customdata[1]}\\u003cbr\\u003eoutput_length=%{customdata[2]}\\u003cbr\\u003eswitch=%{customdata[3]}\\u003cextra\\u003e\\u003c\\u002fextra\\u003e\",\"legendgroup\":\"4, english_word\",\"marker\":{\"color\":\"#009668\",\"symbol\":\"diamond\"},\"mode\":\"markers\",\"name\":\"4, english_word\",\"orientation\":\"v\",\"showlegend\":true,\"x\":[0.2759730377759241,0.02780805622689675,0.3968342277694028,0.1078645534337952,0.8718188881683888,0.7141656259212518,0.145873018693918,0.3958405227828652,0.08894205466677318,0.08751777598167942,0.7563622139396932,0.5004149325382444,0.9412958813012645,0.9458548624195178,0.2979219069487057,0.2818024240100898,0.912941202400235,0.005649071294495545,0.3921983317480894,0.08578920111992727,0.0633984964787887,0.8395002260247023,0.2538280588869525,0.8554256280191753,0.15790094985056535,0.8777121617420713,0.1113250087491251,0.34946821505990844,0.9297038957157628,0.708754195742738,0.9153661976502295,0.987055082866945,0.41108521277608956,0.7147300851296823,0.1542150362102439,0.030720514664933307,0.6796281438675177,0.4664027244004997,0.4913183656134481,0.5741654680157842,0.4209621534598611,0.5454023459168508,0.7218200495726601,0.6537146191894639,0.07739483113269086,0.39694350719887117,0.0016002307493988566,0.8914890053638932,0.9505459498907088,0.27191808721894895,0.7204946425428185,0.13346845901599735,0.9606983838114708,0.7186252807281694,0.4356472656158905,0.21199467056145482,0.7530779503677293,0.9736549740390292,0.21762560579469348,0.26525905461739796,0.7844509417228861,0.4734708437567341,0.4283537988819728,0.48995120763637734,0.47802983419116496,0.34398154142863724,0.2888675694810775,0.34795031040586766,0.9134798800580827,0.11259312557247769,0.9905660112020763,0.7389310017509172,0.5974511876435066,0.4969943258960169,0.5423138453011515,0.13451918319217981,0.3398151170568977,0.31245044537615474,0.6946414655122397,0.5536008085902087,0.48951129777840074,0.8639808127164069,0.6147082030099517,0.2362178950270355,0.9141664277141945,0.29775961325613554,0.9971278769286014,0.07793572294090267,0.7669017055927245,0.8433234301123118,0.1348911591996237,0.964188679961219,0.581870538349968,0.6526663969449403,0.8444478824743273,0.19331785148399927,0.8669193616468251,0.6307895564239164,0.06530625772456744,0.7230238017390899,0.9003020629699167,0.4441166133713279,0.5983807006593658,0.6569327705319269,0.17889005208889452,0.32463492030675534,0.5275511598373317,0.6052910197042883,0.7991639471392917,0.7797337886327851,0.47775773966473567,0.7708233023706296,0.8786538639754449,0.5626494512580357,0.29884216746242065,0.6767937186343618,0.3020141254839851,0.2557785033351997,0.4322863673721544,0.9752486934611287,0.6198881539025773,0.6160581643827738,0.4929631836068209,0.7573985643670542,0.8345642699766288,0.433620463286548,0.2406349303245623,0.4850774218596401,0.3819118150261228,0.6435078276676187,0.420306757397231,0.9587287151245314,0.9577721798052882,0.35760528195174857,0.6737273611920479,0.7383224641670023,0.45801120518086424,0.9351366965787044,0.24619416618878787,0.20528310950878959,0.6606047873452493,0.8737199370494123,0.7749879201840925,0.01824173419771269,0.9985310052367211,0.24283310637373623,0.15068379383186847,0.6603372408715814,0.9772986177577356,0.8035324465070595,0.6209643072034791,0.5578798181777288,0.9542182769496371,0.6230752008906525,0.11990020900635834,0.12639663477794494,0.24287745746195522,0.6074524515537828,0.062403734052180804,0.04279697573783925,0.9543054031421019,0.11559867551921732,0.9637016858149252,0.7017335981825462,0.604936144701968,0.9933292253393466,0.6012819348128626,0.8767353899303738,0.17759349123816137,0.11787358352891764,0.454883707393119,0.022746448921671214,0.934625713040966,0.292441495422778,0.7998572984760972,0.44057123480772553,0.816355055480338,0.1998895030638923,0.35111412442607115,0.6603201970401962,0.2950912865486839,0.3073445628254846,0.5269182811765464,0.37898893889851726,0.16870080512771746,0.2590902835275205,0.700527785764888,0.42701524650896094,0.01324519373325117,0.6725323516095026,0.4916185484882357,0.42228292752964147,0.5471159861422947,0.924779102740258,0.7475197763070418,0.3866138227110395,0.24641772988950927,0.949591760721164],\"xaxis\":\"x\",\"y\":[-27.077008586570567,-3.913122534130407,-33.25314138389336,-3.5561074349081574,-25.284503282229174,-3.925295776734566,-26.271544068164967,-3.1911344932610732,-26.64076440643507,-3.4145922740287,-16.694103749140634,-5.488535322348268,-33.73927602886192,-2.2274687669311954,-29.780691465091397,-6.571247263782828,-38.33932806236955,-4.4545329808169,-25.171528561358322,-4.730934726188133,-32.764167286354365,-3.251578582546883,-39.2592193252718,-5.7134762475031255,-22.598610826525764,-3.7732317350739772,-29.20778514548784,-5.884045797038782,-27.087589247648644,-3.8762344006741207,-13.749736945497846,-4.2354262222088765,-40.49083758976937,-4.913709907821078,-29.332494506859458,-4.383738860474915,-5.111322588612152,-3.5520547267812987,-22.953781032267415,-3.7355663149565164,-39.79869701073882,-3.52656702731804,-25.93285215211236,-3.5380700723986145,-21.514440732292552,-3.857569661795251,-40.17239511629648,-4.930192450918212,-21.623200110974125,-3.5701962175766155,-24.31447414367409,-4.735947621609672,-23.57527151574539,-3.904665151311872,-26.91897883409674,-4.165245779934123,-36.55908456226968,-4.456207685714817,-22.51562161628586,-3.1235701911030174,-26.77077741325043,-5.483602791564326,-11.528594550960817,-3.7237328474025486,-33.11112937896034,-4.290855383509912,-28.322668971235576,-3.912127932130278,-34.13849175208894,-4.233938519044074,-26.90356071499536,-4.45179831038125,-38.366568509561624,-3.160500896294773,-28.313382246764473,-2.5376875463849893,-17.768210289485047,-4.545020854771426,-26.362174389071477,-3.2591403323359973,-28.344065086426294,-3.3786955641986616,-11.649226548987142,-2.640028762192837,-7.081430246529947,0.04725358186737738,-26.930939043106534,-4.746390504888497,-28.984249357749402,-3.0670776591761326,-13.771131660956966,-3.7790733699520045,-37.97886146746711,-4.670942096445482,-7.189139624244161,29.120581224319533,-34.42246494996956,-5.3226050492823775,-25.053050427966287,-4.1873481623568845,-11.143615362017988,-3.7716858012882097,-10.219655782454533,-4.504516603855919,-22.860845447450114,-4.337557816820867,-34.06152202061778,-3.3982388793337988,-29.15492431700359,-3.590642386891661,-34.20312300518495,-4.278818557451296,-31.70983864483464,-5.1171936977250265,-19.54196771189584,-3.402313272883596,-25.0476831867609,-3.611984543205134,-4.154223649746976,-4.5568490328864595,5.162606235676138,-3.2403606733884054,-18.25797691533205,-3.3869164355152104,-13.750715322928679,-4.8199910051196095,-13.24990060946189,-4.190874819597895,-37.61313626720365,-4.382667061863605,-36.65025706774011,-4.233008066884661,-35.878750722430595,-4.490778178077629,-15.154582882141641,-2.942419808740155,-32.79645012384467,-5.065752650566818,-22.608145035366327,-4.718086007548113,-17.02431594993027,-3.502403075943289,-35.3683181306704,-4.755072985608535,-27.04028699414296,-4.156213505111848,-30.189055193054543,-4.06016752856762,-33.51050865260449,-3.4670562863506134,-10.247977126190731,-3.63237544803063,-21.37764386487612,-4.324218026594176,-27.70201254698607,-4.590976121167957,-19.71544776968937,-3.8167291421532283,-28.884908576117347,-4.352446278048593,-29.295142451979437,-3.7012561194115756,-30.72754296289614,-3.712022544724582,-39.17559429960887,-3.8728045532106874,-14.937785654259446,-3.120339447601542,-29.687712268633785,-3.825776167907425,-33.383228904396304,-4.088667324882465,-17.497535303271047,-3.6695468401935964,-21.274139874218818,-3.3819639270841346,-16.637729998082158,-2.4633901184278635,-23.079874630797462,-3.5055293963161467,-27.300290583259915,-4.3085165543342345,-20.393395542502837,-4.273074073336833,-13.071216980205525,-5.5101506694826,-27.233188006278393,-2.6506720407071933,-21.398977506952253,-2.455026094972165,-31.319573952905905,-4.1334860703746035,-34.88109068716984,-4.967955279125745,-26.903225154001944,-4.1158046243552775,-26.787241672785704,-2.8982527023528677],\"yaxis\":\"y\",\"type\":\"scatter\"},{\"customdata\":[[\"Blorble\",16.0,6,null],[\"Blorble\",16.0,137,null],[\"Flynth\",16.0,5,null],[\"Flynth\",16.0,74,null],[\"Quindle\",16.0,6,null],[\"Quindle\",16.0,100,null],[\"Wimbish\",16.0,6,null],[\"Wimbish\",16.0,105,null],[\"Trindle\",16.0,6,null],[\"Trindle\",16.0,129,null],[\"Flaxet\",16.0,5,null],[\"Flaxet\",16.0,80,null],[\"Snorfle\",16.0,5,null],[\"Snorfle\",16.0,114,null],[\"Glimmeron\",16.0,5,null],[\"Glimmeron\",16.0,91,null],[\"Jorkle\",16.0,8,null],[\"Jorkle\",16.0,88,null],[\"Bramblet\",16.0,5,null],[\"Bramblet\",16.0,112,null],[\"Sproon\",16.0,6,null],[\"Sproon\",16.0,72,null],[\"Veltor\",16.0,6,null],[\"Veltor\",16.0,92,null],[\"Crimble\",16.0,7,null],[\"Crimble\",16.0,114,null],[\"Zindle\",16.0,7,null],[\"Zindle\",16.0,111,null],[\"Blorple\",16.0,8,null],[\"Blorple\",16.0,103,null],[\"Fizzet\",16.0,7,null],[\"Fizzet\",16.0,104,null],[\"Dronth\",16.0,6,null],[\"Dronth\",16.0,86,null],[\"Wobblet\",16.0,7,null],[\"Wobblet\",16.0,121,null],[\"Ploomish\",16.0,6,null],[\"Ploomish\",16.0,76,null],[\"Glaiveon\",16.0,5,null],[\"Glaiveon\",16.0,106,null],[\"Quorble\",16.0,6,null],[\"Quorble\",16.0,86,null],[\"Strindle\",16.0,5,null],[\"Strindle\",16.0,88,null],[\"Plimble\",16.0,6,null],[\"Plimble\",16.0,102,null],[\"Brindish\",16.0,4,null],[\"Brindish\",16.0,73,null],[\"Flizet\",16.0,6,null],[\"Flizet\",16.0,77,null],[\"Chorkle\",16.0,6,null],[\"Chorkle\",16.0,152,null],[\"Glomble\",16.0,6,null],[\"Glomble\",16.0,103,null],[\"Tindle\",16.0,5,null],[\"Tindle\",16.0,150,null],[\"Framble\",16.0,7,null],[\"Framble\",16.0,108,null],[\"Vextron\",16.0,4,null],[\"Vextron\",16.0,86,null],[\"Snindle\",16.0,5,null],[\"Snindle\",16.0,104,null],[\"Brimpet\",16.0,11,null],[\"Brimpet\",16.0,84,null],[\"Zorble\",16.0,9,null],[\"Zorble\",16.0,116,null],[\"Blinter\",16.0,7,null],[\"Blinter\",16.0,86,null],[\"Floomish\",16.0,6,null],[\"Floomish\",16.0,105,null],[\"Drindle\",16.0,6,null],[\"Drindle\",16.0,93,null],[\"Plicket\",16.0,5,null],[\"Plicket\",16.0,70,null],[\"Glompel\",16.0,5,null],[\"Glompel\",16.0,93,null],[\"Jindle\",16.0,5,null],[\"Jindle\",16.0,103,null],[\"Wramble\",16.0,7,null],[\"Wramble\",16.0,71,null],[\"Crindle\",16.0,6,null],[\"Crindle\",16.0,60,null],[\"Vornish\",16.0,8,null],[\"Vornish\",16.0,89,null],[\"Blimble\",16.0,7,null],[\"Blimble\",16.0,81,null],[\"Flumble\",16.0,6,null],[\"Flumble\",16.0,74,null],[\"Snorple\",16.0,6,null],[\"Snorple\",16.0,93,null],[\"Zintle\",16.0,4,null],[\"Zintle\",16.0,73,null],[\"Glimble\",16.0,7,null],[\"Glimble\",16.0,120,null],[\"Plindle\",16.0,6,null],[\"Plindle\",16.0,113,null],[\"Quorlet\",16.0,3,null],[\"Quorlet\",16.0,98,null],[\"Thrumble\",16.0,6,null],[\"Thrumble\",16.0,139,null],[\"Brinkle\",16.0,6,null],[\"Brinkle\",16.0,135,null],[\"Fuzzle\",16.0,5,null],[\"Fuzzle\",16.0,108,null],[\"Wimbel\",16.0,6,null],[\"Wimbel\",16.0,100,null],[\"Flonkle\",16.0,8,null],[\"Flonkle\",16.0,91,null],[\"Glindle\",16.0,5,null],[\"Glindle\",16.0,90,null],[\"Zorlet\",16.0,8,null],[\"Zorlet\",16.0,100,null],[\"Bramble\",16.0,7,null],[\"Bramble\",16.0,138,null],[\"Dribblet\",16.0,7,null],[\"Dribblet\",16.0,100,null],[\"Crumple\",16.0,7,null],[\"Crumple\",16.0,112,null],[\"Splimble\",16.0,6,null],[\"Splimble\",16.0,95,null],[\"Vlimp\",16.0,4,null],[\"Vlimp\",16.0,84,null],[\"Frindle\",16.0,9,null],[\"Frindle\",16.0,146,null],[\"Quomp\",16.0,4,null],[\"Quomp\",16.0,76,null],[\"Blimblet\",16.0,7,null],[\"Blimblet\",16.0,100,null],[\"Womble\",16.0,8,null],[\"Womble\",16.0,153,null],[\"Glimmeret\",16.0,7,null],[\"Glimmeret\",16.0,87,null],[\"Jorple\",16.0,6,null],[\"Jorple\",16.0,35,null],[\"Snibble\",16.0,7,null],[\"Snibble\",16.0,110,null],[\"Plumble\",16.0,7,null],[\"Plumble\",16.0,76,null],[\"Brumble\",16.0,6,null],[\"Brumble\",16.0,108,null],[\"Crimple\",16.0,6,null],[\"Crimple\",16.0,136,null],[\"Vindle\",16.0,4,null],[\"Vindle\",16.0,117,null],[\"Blorkle\",16.0,8,null],[\"Blorkle\",16.0,111,null],[\"Strindle\",16.0,6,null],[\"Strindle\",16.0,99,null],[\"Wornish\",16.0,5,null],[\"Wornish\",16.0,102,null],[\"Quizzle\",16.0,6,null],[\"Quizzle\",16.0,135,null],[\"Drimple\",16.0,6,null],[\"Drimple\",16.0,123,null],[\"Glomplet\",16.0,7,null],[\"Glomplet\",16.0,126,null],[\"Brinkle\",16.0,6,null],[\"Brinkle\",16.0,127,null],[\"Flindle\",16.0,6,null],[\"Flindle\",16.0,98,null],[\"Snorble\",16.0,7,null],[\"Snorble\",16.0,132,null],[\"Plimblet\",16.0,6,null],[\"Plimblet\",16.0,107,null],[\"Vortle\",16.0,7,null],[\"Vortle\",16.0,123,null],[\"Tindle\",16.0,7,null],[\"Tindle\",16.0,105,null],[\"Wamble\",16.0,7,null],[\"Wamble\",16.0,78,null],[\"Quornet\",16.0,6,null],[\"Quornet\",16.0,123,null],[\"Fumblet\",16.0,6,null],[\"Fumblet\",16.0,70,null],[\"Brindle\",16.0,7,null],[\"Brindle\",16.0,170,null],[\"Crimblet\",16.0,7,null],[\"Crimblet\",16.0,96,null],[\"Wromble\",16.0,6,null],[\"Wromble\",16.0,152,null],[\"Jindle\",16.0,5,null],[\"Jindle\",16.0,88,null],[\"Snizzle\",16.0,6,null],[\"Snizzle\",16.0,90,null],[\"Plomish\",16.0,6,null],[\"Plomish\",16.0,81,null],[\"Brantle\",16.0,6,null],[\"Brantle\",16.0,66,null],[\"Framblet\",16.0,6,null],[\"Framblet\",16.0,112,null],[\"Bimble\",16.0,5,null],[\"Bimble\",16.0,86,null],[\"Chindle\",16.0,5,null],[\"Chindle\",16.0,89,null],[\"Dronkle\",16.0,5,null],[\"Dronkle\",16.0,108,null],[\"Elint\",16.0,12,null],[\"Elint\",16.0,162,null],[\"Friblet\",16.0,6,null],[\"Friblet\",16.0,98,null]],\"hovertemplate\":\"label=5\\u003cbr\\u003edata_type=english_word\\u003cbr\\u003erandom_value=%{x}\\u003cbr\\u003epca2=%{y}\\u003cbr\\u003einput\\u002foutput=%{customdata[0]}\\u003cbr\\u003elayer_id=%{customdata[1]}\\u003cbr\\u003eoutput_length=%{customdata[2]}\\u003cbr\\u003eswitch=%{customdata[3]}\\u003cextra\\u003e\\u003c\\u002fextra\\u003e\",\"legendgroup\":\"5, english_word\",\"marker\":{\"color\":\"#ce93d8\",\"symbol\":\"diamond\"},\"mode\":\"markers\",\"name\":\"5, english_word\",\"orientation\":\"v\",\"showlegend\":true,\"x\":[0.3227664299872316,0.3485329832954054,0.12812938211251068,0.2940417975487378,0.814736143479501,0.23508637398690324,0.10187455520057376,0.4510512598592501,0.8460380019071253,0.16125508389038823,0.15326207211690357,0.22219596002589836,0.9573825360886768,0.07883942841890113,0.32921550567401736,0.6152170650041215,0.7867977248865393,0.19118337625526272,0.08929354680326773,0.6976215225076264,0.08743519528968224,0.7829582477377471,0.8866540678463638,0.15058504104252102,0.9602199563070273,0.24399854102190155,0.09825533454028845,0.5521146000582821,0.4697423927751676,0.2202550087079339,0.456701225026405,0.5815869457304148,0.8502933817603179,0.7980153831483286,0.10761955252109967,0.4215298800062046,0.4278095959528987,0.40692204847353475,0.04824700783490343,0.2222118516087369,0.1456902792221303,0.2486962912463091,0.19486109618112735,0.07894846841193537,0.06680975574430736,0.6374641178199846,0.5825412414081625,0.30114310559715407,0.2558125428503365,0.5213324512388456,0.9679117547124081,0.15060395441324126,0.25944300346593663,0.08151141840368215,0.5226349590798335,0.8809447622828919,0.9361147696253824,0.4029647701706365,0.07069397267504396,0.5423313016017711,0.2652192315029357,0.3070906443556367,0.5508128720127891,0.8461823731974663,0.8453280511860861,0.8244821524920224,0.18010120723930234,0.4801888857945741,0.8591310615266229,0.6026773246701629,0.47123539886668775,0.7088961316647571,0.16247708974251185,0.883972733106489,0.907483924548722,0.7930163961492346,0.467779413519545,0.8729256094160762,0.3374828653903048,0.3013892171417003,0.7275947427650741,0.8561747208823681,0.5512506189952969,0.8781921655586622,0.27500843649063433,0.38504078395199937,0.16579809923185318,0.09409271598030333,0.6181415855808119,0.6043289233691943,0.3072248736848058,0.7432872285482207,0.9756266657934511,0.7261770320720551,0.5807886133992137,0.6882731152057824,0.5617292291845476,0.8823715668167085,0.9187542581468539,0.6987979082697807,0.06196430056802649,0.527842426284205,0.04289210834379886,0.08464005599504609,0.9508309229568351,0.4991981545559506,0.1255060357976724,0.5959508099681512,0.36835271723190866,0.8506829194962068,0.0061156501264939545,0.44957153101652003,0.4230811839033344,0.36619066704713765,0.7260083257854992,0.2587292256902495,0.1392862462314386,0.593574065326321,0.7441054240473326,0.10675814972860975,0.5372110823327663,0.7184778203556824,0.8858950646990255,0.8689098943382747,0.06496576166350321,0.002717832345785598,0.9102941760848615,0.6093587970538549,0.6837388869368921,0.003913217774475508,0.9188291697629648,0.9140344348769391,0.13340814162908288,0.4828855186139823,0.3296521751775442,0.4494261726339991,0.31778624729409,0.4300927554038285,0.40826124796576,0.13961274349279973,0.5288342776444427,0.6933500250873577,0.19575931092509635,0.6885172679464033,0.09387000651070632,0.6464147879049796,0.3850687695129269,0.7087101112286769,0.2652678081386356,0.9192120913837084,0.9493582760168369,0.7309686447813212,0.833143558471337,0.5337070334134277,0.7133358617692404,0.6432502411663301,0.4977755145453312,0.9857839672735145,0.2395444353036662,0.05789413655695541,0.03124936205255535,0.46125650244919025,0.21445329760790666,0.6062372505309688,0.14982481575291562,0.7363599867760927,0.6714382995215874,0.04919980641904975,0.9543940965320894,0.029046693467275397,0.42298714009603655,0.13045776522984853,0.4101174962885217,0.1969512715237155,0.23734962530317905,0.22168202193861275,0.8976138801936205,0.02610885848274891,0.9606300507770168,0.8102039633097108,0.05511278286045729,0.07103463820071088,0.3079703979752233,0.35385179646752596,0.2558845200788138,0.5716620513028188,0.9386759845848804,0.683643624590519,0.2618253707971271,0.46390108799704044,0.5103571857086854,0.5300969173602829,0.1276689677708992,0.847842837857876,0.6702906067288162,0.888155678128596,0.25862330713994186,0.3802063665669966,0.7088228029722571,0.1516135211611933],\"xaxis\":\"x\",\"y\":[27.41122625513528,5.88741126252943,58.06741404335373,6.420249918542791,9.290129716741887,4.283300246227364,31.51592581153585,2.4228807723130847,38.57972500571517,2.2631244727707323,-3.7586377064757976,5.430062386918223,42.80323712426228,1.5862952148903333,17.182667814375478,6.377328787755458,33.84318004531999,5.771123537876888,14.394481968948611,0.6097174029353858,11.601053745544922,4.215084452738432,9.421043686349845,6.429523613142679,35.915680959104506,3.3679734561732615,26.103346131995877,6.137706335839413,33.51122411288924,4.296722905128047,20.50928267083316,6.87249520404235,46.32156865593207,7.4080889135880925,40.10091863088663,3.462783539781035,10.060756496885158,7.203722504894752,-3.2213745658056565,3.485991920836315,41.044253681507485,5.089863212020937,7.747532755869282,4.8452351845729495,39.053535565954085,4.435226900530387,21.736844691911454,6.1001046124189555,11.532966120177806,7.736694260921476,22.458246055653092,3.288669445447269,42.714843532580154,3.420979861711875,19.20953354245146,2.521650045339585,37.28132186453346,2.320056505316768,5.189028289375731,39.04717072375055,19.915768446124567,4.969539666957177,26.13754398219758,5.060825119551153,10.903949867191342,5.638231831153309,34.81177359357186,7.1481216306778865,9.559963315422001,33.99357996421474,43.807448920034965,5.306719266195205,35.508060104469706,4.901161397810156,17.102162026615247,5.8624449704574335,25.713137595088625,5.059886883999374,25.608972828262573,4.24208407643891,21.75851747608837,4.407749770487573,17.984821086661874,3.753994692754225,49.20151859135275,3.891917295973278,29.80656384449737,6.150480787957818,20.218927879071323,3.757948480520872,19.413268284355144,5.600321609685826,18.400839208113428,4.231980786217077,46.975259850772865,4.366197714736199,37.87779721712364,5.512734428075479,24.029790769806397,1.7443135007796347,35.34392548316494,3.375710073964344,32.22768038386902,1.7541797412399964,24.882835536562396,3.728537119989099,37.3700860033023,16.964015498016668,41.77449928783458,6.051114945749611,0.6639032180353059,5.076174034873511,-11.865962999101471,-2.115864272483294,16.604790048470598,2.209301221677603,-9.155394722354133,-2.5246218996396137,38.88430684959314,5.329898612515326,10.320978536568017,30.627138669293487,-21.31382174546462,0.0012291862831566025,22.142867211673654,5.183428779371557,20.52018433202381,5.094517167919353,11.924810619701708,-1.7430732867158722,47.75307038657617,6.4297624370659445,44.19303901023472,40.16422627138486,28.90452442222799,2.1390544057810406,3.482451934143132,4.281138033567757,32.48152512858191,1.7642351771150055,13.704650746635709,0.5644121020808097,2.612082945401532,4.659515306023305,29.527495732871948,29.189322945032398,22.60487022471917,5.744400008733502,2.148485258899953,1.3565170673978417,27.39748191543366,-0.11022674931040344,-3.4901804239053664,-0.8608495142003121,19.83729859274394,0.9951375946796372,35.34392548316494,3.73086789644218,41.53486460223274,5.851053295466933,25.989175059004133,2.813434906388462,49.37502254491642,4.68351543747271,6.645870149816674,11.169708162602467,28.945420398138165,2.886756808527233,4.6563922126803545,-1.2350166206988087,5.864732251477919,3.9244831048694833,25.16233528925881,5.258630787882637,-5.124601415242448,-2.3925801824370945,29.01816868983984,36.62868109542013,26.03059696975485,1.7415327255445403,25.713137595088625,7.406744292055661,2.4163269732978407,3.487560077861481,24.169965986602005,4.681896844615185,35.16391375538224,4.620495473800375,46.051564427017844,2.095015802223716,7.253611355855223,1.776942112696129,29.2928884183112,2.8982239198074247,25.10810659951322,4.762886441524499,-8.868819288304769,-0.630763084048001,9.973173950794944,6.456612871489526],\"yaxis\":\"y\",\"type\":\"scatter\"}],                        {\"template\":{\"data\":{\"histogram2dcontour\":[{\"type\":\"histogram2dcontour\",\"colorbar\":{\"outlinewidth\":0,\"ticks\":\"\"},\"colorscale\":[[0.0,\"#0d0887\"],[0.1111111111111111,\"#46039f\"],[0.2222222222222222,\"#7201a8\"],[0.3333333333333333,\"#9c179e\"],[0.4444444444444444,\"#bd3786\"],[0.5555555555555556,\"#d8576b\"],[0.6666666666666666,\"#ed7953\"],[0.7777777777777778,\"#fb9f3a\"],[0.8888888888888888,\"#fdca26\"],[1.0,\"#f0f921\"]]}],\"choropleth\":[{\"type\":\"choropleth\",\"colorbar\":{\"outlinewidth\":0,\"ticks\":\"\"}}],\"histogram2d\":[{\"type\":\"histogram2d\",\"colorbar\":{\"outlinewidth\":0,\"ticks\":\"\"},\"colorscale\":[[0.0,\"#0d0887\"],[0.1111111111111111,\"#46039f\"],[0.2222222222222222,\"#7201a8\"],[0.3333333333333333,\"#9c179e\"],[0.4444444444444444,\"#bd3786\"],[0.5555555555555556,\"#d8576b\"],[0.6666666666666666,\"#ed7953\"],[0.7777777777777778,\"#fb9f3a\"],[0.8888888888888888,\"#fdca26\"],[1.0,\"#f0f921\"]]}],\"heatmap\":[{\"type\":\"heatmap\",\"colorbar\":{\"outlinewidth\":0,\"ticks\":\"\"},\"colorscale\":[[0.0,\"#0d0887\"],[0.1111111111111111,\"#46039f\"],[0.2222222222222222,\"#7201a8\"],[0.3333333333333333,\"#9c179e\"],[0.4444444444444444,\"#bd3786\"],[0.5555555555555556,\"#d8576b\"],[0.6666666666666666,\"#ed7953\"],[0.7777777777777778,\"#fb9f3a\"],[0.8888888888888888,\"#fdca26\"],[1.0,\"#f0f921\"]]}],\"heatmapgl\":[{\"type\":\"heatmapgl\",\"colorbar\":{\"outlinewidth\":0,\"ticks\":\"\"},\"colorscale\":[[0.0,\"#0d0887\"],[0.1111111111111111,\"#46039f\"],[0.2222222222222222,\"#7201a8\"],[0.3333333333333333,\"#9c179e\"],[0.4444444444444444,\"#bd3786\"],[0.5555555555555556,\"#d8576b\"],[0.6666666666666666,\"#ed7953\"],[0.7777777777777778,\"#fb9f3a\"],[0.8888888888888888,\"#fdca26\"],[1.0,\"#f0f921\"]]}],\"contourcarpet\":[{\"type\":\"contourcarpet\",\"colorbar\":{\"outlinewidth\":0,\"ticks\":\"\"}}],\"contour\":[{\"type\":\"contour\",\"colorbar\":{\"outlinewidth\":0,\"ticks\":\"\"},\"colorscale\":[[0.0,\"#0d0887\"],[0.1111111111111111,\"#46039f\"],[0.2222222222222222,\"#7201a8\"],[0.3333333333333333,\"#9c179e\"],[0.4444444444444444,\"#bd3786\"],[0.5555555555555556,\"#d8576b\"],[0.6666666666666666,\"#ed7953\"],[0.7777777777777778,\"#fb9f3a\"],[0.8888888888888888,\"#fdca26\"],[1.0,\"#f0f921\"]]}],\"surface\":[{\"type\":\"surface\",\"colorbar\":{\"outlinewidth\":0,\"ticks\":\"\"},\"colorscale\":[[0.0,\"#0d0887\"],[0.1111111111111111,\"#46039f\"],[0.2222222222222222,\"#7201a8\"],[0.3333333333333333,\"#9c179e\"],[0.4444444444444444,\"#bd3786\"],[0.5555555555555556,\"#d8576b\"],[0.6666666666666666,\"#ed7953\"],[0.7777777777777778,\"#fb9f3a\"],[0.8888888888888888,\"#fdca26\"],[1.0,\"#f0f921\"]]}],\"mesh3d\":[{\"type\":\"mesh3d\",\"colorbar\":{\"outlinewidth\":0,\"ticks\":\"\"}}],\"scatter\":[{\"fillpattern\":{\"fillmode\":\"overlay\",\"size\":10,\"solidity\":0.2},\"type\":\"scatter\"}],\"parcoords\":[{\"type\":\"parcoords\",\"line\":{\"colorbar\":{\"outlinewidth\":0,\"ticks\":\"\"}}}],\"scatterpolargl\":[{\"type\":\"scatterpolargl\",\"marker\":{\"colorbar\":{\"outlinewidth\":0,\"ticks\":\"\"}}}],\"bar\":[{\"error_x\":{\"color\":\"#2a3f5f\"},\"error_y\":{\"color\":\"#2a3f5f\"},\"marker\":{\"line\":{\"color\":\"#E5ECF6\",\"width\":0.5},\"pattern\":{\"fillmode\":\"overlay\",\"size\":10,\"solidity\":0.2}},\"type\":\"bar\"}],\"scattergeo\":[{\"type\":\"scattergeo\",\"marker\":{\"colorbar\":{\"outlinewidth\":0,\"ticks\":\"\"}}}],\"scatterpolar\":[{\"type\":\"scatterpolar\",\"marker\":{\"colorbar\":{\"outlinewidth\":0,\"ticks\":\"\"}}}],\"histogram\":[{\"marker\":{\"pattern\":{\"fillmode\":\"overlay\",\"size\":10,\"solidity\":0.2}},\"type\":\"histogram\"}],\"scattergl\":[{\"type\":\"scattergl\",\"marker\":{\"colorbar\":{\"outlinewidth\":0,\"ticks\":\"\"}}}],\"scatter3d\":[{\"type\":\"scatter3d\",\"line\":{\"colorbar\":{\"outlinewidth\":0,\"ticks\":\"\"}},\"marker\":{\"colorbar\":{\"outlinewidth\":0,\"ticks\":\"\"}}}],\"scattermapbox\":[{\"type\":\"scattermapbox\",\"marker\":{\"colorbar\":{\"outlinewidth\":0,\"ticks\":\"\"}}}],\"scatterternary\":[{\"type\":\"scatterternary\",\"marker\":{\"colorbar\":{\"outlinewidth\":0,\"ticks\":\"\"}}}],\"scattercarpet\":[{\"type\":\"scattercarpet\",\"marker\":{\"colorbar\":{\"outlinewidth\":0,\"ticks\":\"\"}}}],\"carpet\":[{\"aaxis\":{\"endlinecolor\":\"#2a3f5f\",\"gridcolor\":\"white\",\"linecolor\":\"white\",\"minorgridcolor\":\"white\",\"startlinecolor\":\"#2a3f5f\"},\"baxis\":{\"endlinecolor\":\"#2a3f5f\",\"gridcolor\":\"white\",\"linecolor\":\"white\",\"minorgridcolor\":\"white\",\"startlinecolor\":\"#2a3f5f\"},\"type\":\"carpet\"}],\"table\":[{\"cells\":{\"fill\":{\"color\":\"#EBF0F8\"},\"line\":{\"color\":\"white\"}},\"header\":{\"fill\":{\"color\":\"#C8D4E3\"},\"line\":{\"color\":\"white\"}},\"type\":\"table\"}],\"barpolar\":[{\"marker\":{\"line\":{\"color\":\"#E5ECF6\",\"width\":0.5},\"pattern\":{\"fillmode\":\"overlay\",\"size\":10,\"solidity\":0.2}},\"type\":\"barpolar\"}],\"pie\":[{\"automargin\":true,\"type\":\"pie\"}]},\"layout\":{\"autotypenumbers\":\"strict\",\"colorway\":[\"#636efa\",\"#EF553B\",\"#00cc96\",\"#ab63fa\",\"#FFA15A\",\"#19d3f3\",\"#FF6692\",\"#B6E880\",\"#FF97FF\",\"#FECB52\"],\"font\":{\"color\":\"#2a3f5f\"},\"hovermode\":\"closest\",\"hoverlabel\":{\"align\":\"left\"},\"paper_bgcolor\":\"white\",\"plot_bgcolor\":\"#E5ECF6\",\"polar\":{\"bgcolor\":\"#E5ECF6\",\"angularaxis\":{\"gridcolor\":\"white\",\"linecolor\":\"white\",\"ticks\":\"\"},\"radialaxis\":{\"gridcolor\":\"white\",\"linecolor\":\"white\",\"ticks\":\"\"}},\"ternary\":{\"bgcolor\":\"#E5ECF6\",\"aaxis\":{\"gridcolor\":\"white\",\"linecolor\":\"white\",\"ticks\":\"\"},\"baxis\":{\"gridcolor\":\"white\",\"linecolor\":\"white\",\"ticks\":\"\"},\"caxis\":{\"gridcolor\":\"white\",\"linecolor\":\"white\",\"ticks\":\"\"}},\"coloraxis\":{\"colorbar\":{\"outlinewidth\":0,\"ticks\":\"\"}},\"colorscale\":{\"sequential\":[[0.0,\"#0d0887\"],[0.1111111111111111,\"#46039f\"],[0.2222222222222222,\"#7201a8\"],[0.3333333333333333,\"#9c179e\"],[0.4444444444444444,\"#bd3786\"],[0.5555555555555556,\"#d8576b\"],[0.6666666666666666,\"#ed7953\"],[0.7777777777777778,\"#fb9f3a\"],[0.8888888888888888,\"#fdca26\"],[1.0,\"#f0f921\"]],\"sequentialminus\":[[0.0,\"#0d0887\"],[0.1111111111111111,\"#46039f\"],[0.2222222222222222,\"#7201a8\"],[0.3333333333333333,\"#9c179e\"],[0.4444444444444444,\"#bd3786\"],[0.5555555555555556,\"#d8576b\"],[0.6666666666666666,\"#ed7953\"],[0.7777777777777778,\"#fb9f3a\"],[0.8888888888888888,\"#fdca26\"],[1.0,\"#f0f921\"]],\"diverging\":[[0,\"#8e0152\"],[0.1,\"#c51b7d\"],[0.2,\"#de77ae\"],[0.3,\"#f1b6da\"],[0.4,\"#fde0ef\"],[0.5,\"#f7f7f7\"],[0.6,\"#e6f5d0\"],[0.7,\"#b8e186\"],[0.8,\"#7fbc41\"],[0.9,\"#4d9221\"],[1,\"#276419\"]]},\"xaxis\":{\"gridcolor\":\"white\",\"linecolor\":\"white\",\"ticks\":\"\",\"title\":{\"standoff\":15},\"zerolinecolor\":\"white\",\"automargin\":true,\"zerolinewidth\":2},\"yaxis\":{\"gridcolor\":\"white\",\"linecolor\":\"white\",\"ticks\":\"\",\"title\":{\"standoff\":15},\"zerolinecolor\":\"white\",\"automargin\":true,\"zerolinewidth\":2},\"scene\":{\"xaxis\":{\"backgroundcolor\":\"#E5ECF6\",\"gridcolor\":\"white\",\"linecolor\":\"white\",\"showbackground\":true,\"ticks\":\"\",\"zerolinecolor\":\"white\",\"gridwidth\":2},\"yaxis\":{\"backgroundcolor\":\"#E5ECF6\",\"gridcolor\":\"white\",\"linecolor\":\"white\",\"showbackground\":true,\"ticks\":\"\",\"zerolinecolor\":\"white\",\"gridwidth\":2},\"zaxis\":{\"backgroundcolor\":\"#E5ECF6\",\"gridcolor\":\"white\",\"linecolor\":\"white\",\"showbackground\":true,\"ticks\":\"\",\"zerolinecolor\":\"white\",\"gridwidth\":2}},\"shapedefaults\":{\"line\":{\"color\":\"#2a3f5f\"}},\"annotationdefaults\":{\"arrowcolor\":\"#2a3f5f\",\"arrowhead\":0,\"arrowwidth\":1},\"geo\":{\"bgcolor\":\"white\",\"landcolor\":\"#E5ECF6\",\"subunitcolor\":\"white\",\"showland\":true,\"showlakes\":true,\"lakecolor\":\"white\"},\"title\":{\"x\":0.05},\"mapbox\":{\"style\":\"light\"}}},\"xaxis\":{\"anchor\":\"y\",\"domain\":[0.0,1.0],\"title\":{\"text\":\"random_value\"}},\"yaxis\":{\"anchor\":\"x\",\"domain\":[0.0,1.0],\"title\":{\"text\":\"pca2\"}},\"legend\":{\"title\":{\"text\":\"label, data_type\"},\"tracegroupgap\":0},\"margin\":{\"t\":60},\"width\":1000,\"height\":700,\"coloraxis\":{\"colorbar\":{\"yanchor\":\"top\",\"y\":1,\"x\":-0.2,\"ticks\":\"outside\"}}},                        {\"responsive\": true}                    ).then(function(){\n",
       "                            \n",
       "var gd = document.getElementById('f780ad04-4d76-4158-b8d9-e8eedd54664f');\n",
       "var x = new MutationObserver(function (mutations, observer) {{\n",
       "        var display = window.getComputedStyle(gd).display;\n",
       "        if (!display || display === 'none') {{\n",
       "            console.log([gd, 'removed!']);\n",
       "            Plotly.purge(gd);\n",
       "            observer.disconnect();\n",
       "        }}\n",
       "}});\n",
       "\n",
       "// Listen for the removal of the full notebook cells\n",
       "var notebookContainer = gd.closest('#notebook-container');\n",
       "if (notebookContainer) {{\n",
       "    x.observe(notebookContainer, {childList: true});\n",
       "}}\n",
       "\n",
       "// Listen for the clearing of the current output cell\n",
       "var outputEl = gd.closest('.output');\n",
       "if (outputEl) {{\n",
       "    x.observe(outputEl, {childList: true});\n",
       "}}\n",
       "\n",
       "                        })                };                });            </script>        </div>"
      ]
     },
     "metadata": {},
     "output_type": "display_data"
    }
   ],
   "source": [
    "\n",
    "# df_modified = df[df[\"label\"] ]\n",
    "df_modified = df[df[\"layer_id\"] == 16]\n",
    "# df_modified = df_modified[(df_modified[\"label\"] < 2) | (df_modified[\"label\"] > 3)]\n",
    "# df_modified = df_modified[df_modified[\"sufix\"] == 1]\n",
    "# df_modified = df_modified[df_modified[\"output_length\"] < 20]\n",
    "# print(df_modified.head()[\"label\"])\n",
    "# print(set(df_modified[data_type]))\n",
    "df_modified[\"label\"] = df_modified[\"label\"].astype(str)\n",
    "df_modified[\"random_value\"] = np.random.rand(len(df_modified))\n",
    "\n",
    "scatter = px.scatter(df_modified, x='random_value', y='pca2', \n",
    "                     color=\"label\",\n",
    "                    #  size='output_length', \n",
    "                     symbol= \"data_type\",\n",
    "                     hover_data=[\"input/output\", \"layer_id\", \"output_length\", \"switch\"],\n",
    "                     color_discrete_sequence=color_selction)\n",
    "\n",
    "scatter.update_layout(\n",
    "    # autosize=True,\n",
    "    width=1000,\n",
    "    height=700,)\n",
    "\n",
    "scatter.update_layout(coloraxis_colorbar=dict(yanchor=\"top\", y=1, x=-0.2,\n",
    "                                          ticks=\"outside\"))\n",
    "\n",
    "scatter.show()"
   ]
  },
  {
   "cell_type": "markdown",
   "metadata": {},
   "source": [
    "## Use probes for quantitative evaluation"
   ]
  },
  {
   "cell_type": "code",
   "execution_count": 68,
   "metadata": {},
   "outputs": [
    {
     "data": {
      "text/plain": [
       "<module 'probes' from '/home/thibaua25/Documents/Prog/LLMs/mri_llm/notebooks/../probes.py'>"
      ]
     },
     "execution_count": 68,
     "metadata": {},
     "output_type": "execute_result"
    }
   ],
   "source": [
    "import probes\n",
    "reload(probes)"
   ]
  },
  {
   "cell_type": "code",
   "execution_count": 70,
   "metadata": {},
   "outputs": [],
   "source": [
    "# split data\n",
    "split_condition1 = df[\"data_type\"]==\"english_word\"\n",
    "split_condition2 = df[\"output_length\"] < 10\n",
    "train_df = df[split_condition1]\n",
    "eval_df = df[~split_condition1]\n",
    "\n",
    "layernb = 16\n",
    "train_df = train_df[train_df[\"layer_id\"] == layernb]\n",
    "eval_df = eval_df[eval_df[\"layer_id\"] == layernb]\n",
    "\n",
    "\n",
    "# format for training\n",
    "x = train_df[['pca1']].to_numpy()\n",
    "y = train_df['label'].to_numpy()\n",
    "y = y - np.min(y)\n",
    "\n",
    "# train probe\n",
    "p = probes.MMProbe.from_data(x, y)"
   ]
  },
  {
   "cell_type": "code",
   "execution_count": 81,
   "metadata": {},
   "outputs": [
    {
     "name": "stdout",
     "output_type": "stream",
     "text": [
      "[3 3 3 3 3 3 3 3 3 3 3 3 3 3 3 3 3 3 3 3 3 3 3 3 3 3 3 3 3 3 3 3 3 3 3 3 3\n",
      " 3 3 3 3 3 3 3 3 3 3 3 3 3 3 3 3 3 3 3 3 3 3 3 3 3 3 3 3 3 3 3 3 3 3 3 3 3\n",
      " 3 3 3 3 3 3 3 3 3 3 3 3 3 3 3 3 3 3 3 3 3 3 3 3 3 3 3 3 3 3 3 3 3 3 3 3 3\n",
      " 3 3 3 3 3 3 3 3 3 3 3 3 3 3 3 3 3 3 3 3 3 3 3 3 3 3 3 3 3 3 3 3 3 3 3 3 3\n",
      " 3 3 3 3 3 3 3 3 3 3 3 3 3 3 3 3 3 3 3 3 3 3 4 4 4 4 4 4 4 4 4 4 4 4 4 4 4\n",
      " 4 4 4 4 4 4 4 4 4 4 4 4 4 4 4 4 4 4 4 4 4 4 4 4 4 4 4 4 4 4 4 4 4 4 4 4 4\n",
      " 4 4 4 4 4 4 4 4 4 4 4 4 4 4 4 4 4 4 4 4 4 4 4 4 4 4 4 4 4 4 4 4 4 4 4 4 4\n",
      " 4 4 4 4 4 4 4 4 4 4 4 4 4 4 4 4 4 4 4 4 4 4 4 4 4 4 4 4 4 4 4 4 4 4 4 4 4\n",
      " 4 4 4 4 4 4]\n",
      "[0. 0. 0. 0. 0. 1. 0. 0. 0. 0. 0. 0. 0. 0. 0. 0. 0. 0. 0. 0. 0. 1. 0. 0.\n",
      " 0. 0. 0. 0. 0. 1. 0. 1. 0. 0. 0. 0. 0. 0. 0. 0. 0. 0. 0. 0. 0. 1. 0. 1.\n",
      " 0. 0. 0. 0. 0. 0. 0. 1. 0. 0. 0. 1. 0. 0. 0. 0. 0. 0. 0. 0. 0. 0. 0. 0.\n",
      " 0. 1. 0. 0. 0. 0. 0. 0. 0. 0. 0. 1. 0. 1. 0. 0. 0. 0. 0. 1. 0. 0. 0. 1.\n",
      " 0. 1. 0. 0. 0. 1. 0. 0. 0. 0. 0. 1. 0. 1. 0. 0. 0. 1. 0. 0. 0. 0. 0. 0.\n",
      " 0. 1. 0. 0. 0. 0. 0. 0. 0. 1. 0. 1. 0. 0. 0. 1. 0. 0. 0. 1. 0. 1. 0. 0.\n",
      " 0. 1. 0. 0. 0. 1. 0. 0. 0. 0. 0. 1. 0. 0. 0. 0. 0. 0. 0. 0. 0. 0. 0. 0.\n",
      " 0. 1. 1. 1. 1. 1. 1. 1. 1. 1. 0. 1. 1. 1. 1. 1. 1. 1. 1. 1. 1. 1. 1. 1.\n",
      " 1. 1. 1. 1. 0. 1. 1. 1. 1. 1. 1. 1. 1. 1. 1. 1. 0. 1. 1. 1. 1. 1. 1. 1.\n",
      " 1. 1. 1. 1. 1. 1. 1. 1. 1. 1. 1. 1. 1. 1. 1. 1. 1. 1. 1. 1. 1. 1. 1. 1.\n",
      " 1. 1. 1. 1. 1. 1. 1. 1. 1. 1. 1. 1. 1. 1. 0. 1. 1. 1. 1. 1. 1. 1. 0. 1.\n",
      " 0. 1. 0. 1. 0. 1. 1. 1. 0. 1. 1. 1. 1. 1. 1. 1. 1. 1. 1. 1. 1. 1. 0. 1.\n",
      " 1. 1. 1. 1. 1. 1. 1. 1. 1. 1. 0. 1. 1. 1.]\n"
     ]
    }
   ],
   "source": [
    "# eval data\n",
    "x = eval_df[['pca1']].to_numpy()\n",
    "y = eval_df['label'].to_numpy()\n",
    "\n",
    "print(y)\n",
    "\n",
    "prediction = p.pred(x)\n",
    "print(prediction.numpy())\n",
    "\n",
    "eval_df[\"prediction\"] = prediction.numpy()"
   ]
  },
  {
   "cell_type": "code",
   "execution_count": 91,
   "metadata": {},
   "outputs": [
    {
     "data": {
      "application/vnd.plotly.v1+json": {
       "config": {
        "plotlyServerURL": "https://plot.ly"
       },
       "data": [
        {
         "customdata": [
          [
           "Leonardo da Vinci",
           16,
           4,
           null
          ],
          [
           "Leonardo da Vinci",
           16,
           197,
           null
          ],
          [
           "Napoleon Bonaparte",
           16,
           4,
           null
          ],
          [
           "Napoleon Bonaparte",
           16,
           203,
           null
          ],
          [
           "Mahatma Gandhi",
           16,
           4,
           null
          ],
          [
           "Albert Einstein",
           16,
           4,
           null
          ],
          [
           "Albert Einstein",
           16,
           169,
           null
          ],
          [
           "Marilyn Monroe",
           16,
           4,
           null
          ],
          [
           "Marilyn Monroe",
           16,
           149,
           null
          ],
          [
           "Queen Elizabeth I",
           16,
           4,
           null
          ],
          [
           "Queen Elizabeth I",
           16,
           181,
           null
          ],
          [
           "Nelson Mandela",
           16,
           4,
           null
          ],
          [
           "Nelson Mandela",
           16,
           194,
           null
          ],
          [
           "Mother Teresa",
           16,
           4,
           null
          ],
          [
           "Mother Teresa",
           16,
           151,
           null
          ],
          [
           "Wolfgang Amadeus Mozart",
           16,
           4,
           null
          ],
          [
           "Wolfgang Amadeus Mozart",
           16,
           181,
           null
          ],
          [
           "Michelangelo",
           16,
           4,
           null
          ],
          [
           "Michelangelo",
           16,
           206,
           null
          ],
          [
           "Karl Marx",
           16,
           4,
           null
          ],
          [
           "Martin Luther King Jr.",
           16,
           4,
           null
          ],
          [
           "Martin Luther King Jr.",
           16,
           206,
           null
          ],
          [
           "Alexander Hamilton",
           16,
           4,
           null
          ],
          [
           "Alexander Hamilton",
           16,
           197,
           null
          ],
          [
           "Thomas Edison",
           16,
           4,
           null
          ],
          [
           "Thomas Edison",
           16,
           184,
           null
          ],
          [
           "Charles Darwin",
           16,
           4,
           null
          ],
          [
           "Marie Curie",
           16,
           4,
           null
          ],
          [
           "Vincent van Gogh",
           16,
           4,
           null
          ],
          [
           "Vincent van Gogh",
           16,
           202,
           null
          ],
          [
           "Galileo Galilei",
           16,
           4,
           null
          ],
          [
           "Galileo Galilei",
           16,
           156,
           null
          ],
          [
           "Benjamin Franklin",
           16,
           4,
           null
          ],
          [
           "Benjamin Franklin",
           16,
           147,
           null
          ],
          [
           "Queen Victoria",
           16,
           4,
           null
          ],
          [
           "Queen Victoria",
           16,
           153,
           null
          ],
          [
           "Pablo Picasso",
           16,
           4,
           null
          ],
          [
           "Pablo Picasso",
           16,
           191,
           null
          ],
          [
           "Winston Churchill",
           16,
           4,
           null
          ],
          [
           "Winston Churchill",
           16,
           221,
           null
          ],
          [
           "Adolf Hitler",
           16,
           4,
           null
          ],
          [
           "Catherine the Great",
           16,
           4,
           null
          ],
          [
           "Joan of Arc",
           16,
           4,
           null
          ],
          [
           "Joan of Arc",
           16,
           143,
           null
          ],
          [
           "George Washington",
           16,
           4,
           null
          ],
          [
           "George Washington",
           16,
           157,
           null
          ],
          [
           "John F. Kennedy",
           16,
           4,
           null
          ],
          [
           "John F. Kennedy",
           16,
           174,
           null
          ],
          [
           "Frida Kahlo",
           16,
           4,
           null
          ],
          [
           "Johann Sebastian Bach",
           16,
           4,
           null
          ],
          [
           "Johann Sebastian Bach",
           16,
           171,
           null
          ],
          [
           "Napoleon III",
           16,
           4,
           null
          ],
          [
           "Thomas Jefferson",
           16,
           4,
           null
          ],
          [
           "Thomas Jefferson",
           16,
           191,
           null
          ],
          [
           "Isaac Newton",
           16,
           4,
           null
          ],
          [
           "Isaac Newton",
           16,
           211,
           null
          ],
          [
           "Elizabeth Taylor",
           16,
           4,
           null
          ],
          [
           "Elizabeth Taylor",
           16,
           138,
           null
          ],
          [
           "Michael Jordan",
           16,
           4,
           null
          ],
          [
           "Michael Jordan",
           16,
           234,
           null
          ],
          [
           "Neil Armstrong",
           16,
           4,
           null
          ],
          [
           "Neil Armstrong",
           16,
           147,
           null
          ],
          [
           "Bruce Lee",
           16,
           4,
           null
          ],
          [
           "Bruce Lee",
           16,
           183,
           null
          ],
          [
           "Tupac Shakur",
           16,
           4,
           null
          ],
          [
           "Elvis Presley",
           16,
           4,
           null
          ],
          [
           "Elvis Presley",
           16,
           158,
           null
          ],
          [
           "Walt Disney",
           16,
           4,
           null
          ],
          [
           "Walt Disney",
           16,
           198,
           null
          ],
          [
           "Cristiano Ronaldo",
           16,
           4,
           null
          ],
          [
           "Cristiano Ronaldo",
           16,
           183,
           null
          ],
          [
           "Abraham Lincoln",
           16,
           4,
           null
          ],
          [
           "Abraham Lincoln",
           16,
           151,
           null
          ],
          [
           "Mao Zedong",
           16,
           4,
           null
          ],
          [
           "Anne Frank",
           16,
           4,
           null
          ],
          [
           "Stephen Hawking",
           16,
           4,
           null
          ],
          [
           "Stephen Hawking",
           16,
           182,
           null
          ],
          [
           "Fidel Castro",
           16,
           4,
           null
          ],
          [
           "Fidel Castro",
           16,
           216,
           null
          ],
          [
           "James Cook",
           16,
           4,
           null
          ],
          [
           "Henry Ford",
           16,
           4,
           null
          ],
          [
           "Henry Ford",
           16,
           182,
           null
          ],
          [
           "Salvador Dalí",
           16,
           4,
           null
          ],
          [
           "Queen Isabella I of Castile",
           16,
           4,
           null
          ],
          [
           "Pope Francis",
           16,
           4,
           null
          ],
          [
           "Pope Francis",
           16,
           131,
           null
          ],
          [
           "Stephen King",
           16,
           4,
           null
          ],
          [
           "Amelia Earhart",
           16,
           4,
           null
          ],
          [
           "Amelia Earhart",
           16,
           193,
           null
          ],
          [
           "Emily Dickinson",
           16,
           4,
           null
          ],
          [
           "Emily Dickinson",
           16,
           205,
           null
          ],
          [
           "Alfred Nobel",
           16,
           4,
           null
          ],
          [
           "Gustave Eiffel",
           16,
           4,
           null
          ],
          [
           "Al Capone",
           16,
           4,
           null
          ],
          [
           "Al Capone",
           16,
           139,
           null
          ],
          [
           "Jackie Robinson",
           16,
           4,
           null
          ],
          [
           "Margaret Thatcher",
           16,
           4,
           null
          ],
          [
           "Margaret Thatcher",
           16,
           179,
           null
          ],
          [
           "Vladimir Lenin",
           16,
           4,
           null
          ],
          [
           "Vladimir Lenin",
           16,
           153,
           null
          ],
          [
           "Babe Ruth",
           16,
           4,
           null
          ],
          [
           "Babe Ruth",
           16,
           172,
           null
          ],
          [
           "Rosa Parks",
           16,
           4,
           null
          ],
          [
           "Che Guevara",
           16,
           4,
           null
          ],
          [
           "Che Guevara",
           16,
           175,
           null
          ],
          [
           "Sigmund Freud",
           16,
           4,
           null
          ],
          [
           "Sigmund Freud",
           16,
           158,
           null
          ],
          [
           "Christopher Columbus",
           16,
           4,
           null
          ],
          [
           "Christopher Columbus",
           16,
           166,
           null
          ],
          [
           "Mark Twain",
           16,
           4,
           null
          ],
          [
           "Alexander Graham Bell",
           16,
           4,
           null
          ],
          [
           "Paul McCartney",
           16,
           4,
           null
          ],
          [
           "Paul McCartney",
           16,
           152,
           null
          ],
          [
           "Nikola Tesla",
           16,
           4,
           null
          ],
          [
           "Bruce Springsteen",
           16,
           4,
           null
          ],
          [
           "Bruce Springsteen",
           16,
           149,
           null
          ],
          [
           "Emily Brontë",
           16,
           4,
           null
          ],
          [
           "Teresa of Ávila",
           16,
           4,
           null
          ],
          [
           "John Lennon",
           16,
           4,
           null
          ],
          [
           "John Lennon",
           16,
           158,
           null
          ],
          [
           "Charlie Chaplin",
           16,
           4,
           null
          ],
          [
           "Kurt Cobain",
           16,
           4,
           null
          ],
          [
           "Kurt Cobain",
           16,
           165,
           null
          ],
          [
           "Oscar Wilde",
           16,
           4,
           null
          ],
          [
           "Richard Nixon",
           16,
           4,
           null
          ],
          [
           "Richard Nixon",
           16,
           146,
           null
          ],
          [
           "Muhammad Ali",
           16,
           4,
           null
          ],
          [
           "Muhammad Ali",
           16,
           166,
           null
          ],
          [
           "Helen Keller",
           16,
           4,
           null
          ],
          [
           "Steve Jobs",
           16,
           4,
           null
          ],
          [
           "Steve Jobs",
           16,
           196,
           null
          ],
          [
           "Oprah Winfrey",
           16,
           4,
           null
          ],
          [
           "Oprah Winfrey",
           16,
           219,
           null
          ],
          [
           "Barack Obama",
           16,
           4,
           null
          ],
          [
           "Barack Obama",
           16,
           163,
           null
          ],
          [
           "Xi Jinping",
           16,
           4,
           null
          ],
          [
           "Xi Jinping",
           16,
           154,
           null
          ],
          [
           "Kim Jong Un",
           16,
           4,
           null
          ],
          [
           "Kim Jong Un",
           16,
           132,
           null
          ],
          [
           "Narendra Modi",
           16,
           4,
           null
          ],
          [
           "Narendra Modi",
           16,
           149,
           null
          ],
          [
           "Aung San Suu Kyi",
           16,
           4,
           null
          ],
          [
           "Thaddeus Sterling",
           16,
           4,
           null
          ],
          [
           "Lucas Müller",
           16,
           4,
           null
          ],
          [
           "Thibault Ricard",
           16,
           4,
           null
          ],
          [
           "Rangi Tavita",
           16,
           4,
           null
          ],
          [
           "John Ngaio",
           16,
           4,
           null
          ],
          [
           "Amir al-Farsi",
           16,
           3,
           null
          ],
          [
           "Layla Nassar",
           16,
           4,
           null
          ],
          [
           "Farid Khoury",
           16,
           4,
           null
          ],
          [
           "Karim Hassan",
           16,
           4,
           null
          ],
          [
           "Hera Nurul",
           16,
           4,
           null
          ],
          [
           "Somchai Pong",
           16,
           4,
           null
          ]
         ],
         "hovertemplate": "prediction=0.0<br>pca1=%{x}<br>random_value=%{y}<br>label=%{marker.color}<br>input/output=%{customdata[0]}<br>layer_id=%{customdata[1]}<br>output_length=%{customdata[2]}<br>switch=%{customdata[3]}<extra></extra>",
         "legendgroup": "0.0",
         "marker": {
          "color": [
           12,
           12,
           12,
           12,
           12,
           12,
           12,
           12,
           12,
           12,
           12,
           12,
           12,
           12,
           12,
           12,
           12,
           12,
           12,
           12,
           12,
           12,
           12,
           12,
           12,
           12,
           12,
           12,
           12,
           12,
           12,
           12,
           12,
           12,
           12,
           12,
           12,
           12,
           12,
           12,
           12,
           12,
           12,
           12,
           12,
           12,
           12,
           12,
           12,
           12,
           12,
           12,
           12,
           12,
           12,
           12,
           12,
           12,
           12,
           12,
           12,
           12,
           12,
           12,
           12,
           12,
           12,
           12,
           12,
           12,
           12,
           12,
           12,
           12,
           12,
           12,
           12,
           12,
           12,
           12,
           12,
           12,
           12,
           12,
           12,
           12,
           12,
           12,
           12,
           12,
           12,
           12,
           12,
           12,
           12,
           12,
           12,
           12,
           12,
           12,
           12,
           12,
           12,
           12,
           12,
           12,
           12,
           12,
           12,
           12,
           12,
           12,
           12,
           12,
           12,
           12,
           12,
           12,
           12,
           12,
           12,
           12,
           12,
           12,
           12,
           12,
           12,
           12,
           12,
           12,
           12,
           12,
           12,
           12,
           12,
           12,
           12,
           12,
           12,
           12,
           12,
           12,
           13,
           13,
           13,
           13,
           13,
           13,
           13,
           13,
           13,
           13,
           13
          ],
          "coloraxis": "coloraxis",
          "size": [
           12,
           12,
           12,
           12,
           12,
           12,
           12,
           12,
           12,
           12,
           12,
           12,
           12,
           12,
           12,
           12,
           12,
           12,
           12,
           12,
           12,
           12,
           12,
           12,
           12,
           12,
           12,
           12,
           12,
           12,
           12,
           12,
           12,
           12,
           12,
           12,
           12,
           12,
           12,
           12,
           12,
           12,
           12,
           12,
           12,
           12,
           12,
           12,
           12,
           12,
           12,
           12,
           12,
           12,
           12,
           12,
           12,
           12,
           12,
           12,
           12,
           12,
           12,
           12,
           12,
           12,
           12,
           12,
           12,
           12,
           12,
           12,
           12,
           12,
           12,
           12,
           12,
           12,
           12,
           12,
           12,
           12,
           12,
           12,
           12,
           12,
           12,
           12,
           12,
           12,
           12,
           12,
           12,
           12,
           12,
           12,
           12,
           12,
           12,
           12,
           12,
           12,
           12,
           12,
           12,
           12,
           12,
           12,
           12,
           12,
           12,
           12,
           12,
           12,
           12,
           12,
           12,
           12,
           12,
           12,
           12,
           12,
           12,
           12,
           12,
           12,
           12,
           12,
           12,
           12,
           12,
           12,
           12,
           12,
           12,
           12,
           12,
           12,
           12,
           12,
           12,
           12,
           13,
           13,
           13,
           13,
           13,
           13,
           13,
           13,
           13,
           13,
           13
          ],
          "sizemode": "area",
          "sizeref": 0.0325,
          "symbol": "circle"
         },
         "mode": "markers",
         "name": "0.0",
         "orientation": "v",
         "showlegend": true,
         "type": "scatter",
         "x": [
          -6.952716854998208,
          -2.758100454139905,
          -7.59513503318936,
          -0.6972699713209254,
          -4.823911444287728,
          -4.517035699927277,
          -4.689837348903652,
          -3.9172084838530195,
          -2.2304092575210994,
          -8.587116015376093,
          -1.830197422429514,
          -8.918415635336185,
          -0.5251739719656092,
          -4.127536090705453,
          -2.5683009102684777,
          -4.658328059001136,
          -0.10747392699380354,
          -1.5925986314598948,
          -0.6364524298166049,
          -7.046515227113412,
          -5.525994298889541,
          -2.090093433902582,
          -2.058540910649617,
          -1.4239339088458824,
          -4.268978506319108,
          -1.5629622610053364,
          -4.11672783759718,
          -4.31425448099848,
          -2.9460864659034933,
          -0.3675745115450102,
          -7.689536378728359,
          -0.31333615803095083,
          -2.0492914933523814,
          -2.427556203019858,
          -9.101028441738691,
          -0.9780221983080646,
          -0.6803538540495095,
          -0.2427408507170018,
          -5.108076859758072,
          -0.5532607755963528,
          -6.568092378284575,
          -4.675330811596356,
          -8.288516062212526,
          -0.31782477495465006,
          -5.766577668396387,
          -3.2130323501902733,
          -8.53535312635444,
          -2.0094553100128074,
          -1.8522992008778785,
          -3.3779300724091876,
          -0.16124337581370995,
          -4.8430495280501065,
          -5.831420603944592,
          -3.390185117890323,
          -7.658802585909935,
          -2.2076419580802744,
          -4.917104830451635,
          -1.1964182140400421,
          -4.161201867910326,
          -1.8708041929977877,
          -7.518628030392131,
          -1.0141203524693598,
          -5.375913059433358,
          -1.3700438026402488,
          -1.4756147747045136,
          -3.2686993032796794,
          -1.4880847960622057,
          -4.701612740790674,
          -0.8286410915614467,
          -0.07143654497448337,
          -2.15012352134118,
          -6.442958594628426,
          -1.8702504316856476,
          -4.4295926516558985,
          -3.8107933645455763,
          -4.006299940621819,
          -1.692837905634208,
          -3.422477878880164,
          -0.9129587140633122,
          -5.8789225404389995,
          -6.7509908306903,
          -1.5011852259029075,
          -0.9011119182887347,
          -6.7455355780158754,
          -2.5501081422854677,
          -3.6898915714193286,
          -1.4461056222541435,
          -6.477345384159531,
          -0.7900617909268696,
          -3.155333392327355,
          -1.1332423354496244,
          -3.4599864068600397,
          -0.2469350656748055,
          -4.387275734019228,
          -0.9159872251780398,
          -6.144510090784008,
          -4.019497925524771,
          -0.15061030646552476,
          -7.311450124041473,
          -0.07550049998202424,
          -3.375140040682937,
          -0.8187720487159833,
          -4.60022925012567,
          -4.443746820600937,
          -0.8853621406004022,
          -3.501925205764341,
          -0.9429766584887795,
          -5.95064549338443,
          -1.4656536273066365,
          -2.4651259315041547,
          -4.262173787352616,
          -6.016849620847746,
          -0.24733558884112816,
          -3.1864059903814805,
          -0.10011881546062296,
          -1.1474153144389785,
          -6.145360069248798,
          -3.3661613698196913,
          -8.451883873323576,
          -2.0665528708717638,
          -3.033100636731275,
          -3.650379895946072,
          -0.4027858420450404,
          -5.615879125549464,
          -6.726314131218656,
          -1.122321349978563,
          -5.024037804712594,
          -0.6684044211292199,
          -3.6993120769472916,
          -4.568249890695041,
          -1.6011416272559846,
          -4.2261073632331865,
          -0.07248145654897442,
          -6.215469047608287,
          -2.134674455529937,
          -3.75827918327449,
          -0.9656790149435213,
          -0.9844363538652068,
          -0.7115675413960911,
          -1.5157876263110737,
          -1.2779896977244347,
          -2.8947104507123216,
          -0.1194879390904604,
          -6.012265038964726,
          -0.11811300126505209,
          -5.048969726598421,
          -0.7225005028106718,
          -0.6716824833310668,
          -4.825523669745705,
          -0.7722157619155272,
          -0.3043834574693237,
          -0.03542249541367082,
          -5.209952685770238
         ],
         "xaxis": "x",
         "y": [
          0.7767138172851433,
          0.9517654138116763,
          0.20494291303305812,
          0.36401980427914193,
          0.9406727507659282,
          0.9594579408134399,
          0.07688637802072917,
          0.44794754389672076,
          0.3502853371070469,
          0.71264555492332,
          0.3448175240767124,
          0.8214364179438975,
          0.7809994296970084,
          0.6509185544501072,
          0.09488792297852289,
          0.9476327089968859,
          0.09269963303278683,
          0.14626318888112477,
          0.675091844976908,
          0.6096514946763427,
          0.6448791534262212,
          0.16908534399622233,
          0.11708679983992454,
          0.8265590693083651,
          0.8736149612329952,
          0.3132473839751784,
          0.5577924325341362,
          0.07565352371210532,
          0.5612840871346807,
          0.500122638610743,
          0.46922109797530953,
          0.06519031975545442,
          0.10638511054227073,
          0.2833789680961054,
          0.6750385038781433,
          0.03668426163943106,
          0.5901454048356972,
          0.9106139983396437,
          0.5563323427979843,
          0.8099788279375459,
          0.3132486734129545,
          0.9328434506384098,
          0.3718655041784251,
          0.7987617768266472,
          0.879899893266472,
          0.4848923626888282,
          0.6403344660076514,
          0.3844266567095269,
          0.8075518399516625,
          0.3323307248268853,
          0.645340523657742,
          0.2751664859815032,
          0.31102206503729224,
          0.4494670916236502,
          0.9248981990124691,
          0.3858426778271622,
          0.7651606333152696,
          0.39759072327523126,
          0.3010923896212079,
          0.4898726507018245,
          0.16574182572511864,
          0.3038236993310557,
          0.3950026339129197,
          0.8478117775886412,
          0.1353443136967939,
          0.9364014206981691,
          0.8413787396115423,
          0.15181668546888927,
          0.7237148937181039,
          0.29323657939464554,
          0.05055392793119118,
          0.3778353930594338,
          0.4654819731258302,
          0.20893016316674373,
          0.5260846860011892,
          0.029680475938263173,
          0.6062099583545774,
          0.8410998258101087,
          0.7997290290690122,
          0.11226283592094621,
          0.5059224428178758,
          0.8659927806010025,
          0.2581788529247915,
          0.8589192339766053,
          0.7230665665286483,
          0.6873639658010958,
          0.6291740488064904,
          0.7374090567869556,
          0.6200817472248569,
          0.8266792814112437,
          0.2947221799832399,
          0.7266322366872185,
          0.4328036327813255,
          0.09443062990557505,
          0.36065695029659584,
          0.7478804543875699,
          0.9711821128582931,
          0.9350788768187401,
          0.12067530275651539,
          0.1424230770733368,
          0.6072585338460227,
          0.7467617113416556,
          0.7799288773031621,
          0.37035078510043706,
          0.2991112016316182,
          0.16294477722886347,
          0.8432703723609433,
          0.13457646260056733,
          0.024536091673113547,
          0.3336644284717606,
          0.2692635679878097,
          0.9473952743879362,
          0.3860770104971968,
          0.47796109207516857,
          0.2638183495948663,
          0.3093068756303481,
          0.7975934742086677,
          0.96494187242187,
          0.6696941387424663,
          0.03667567330620991,
          0.1568509484609234,
          0.17985674063855261,
          0.9397379747205745,
          0.3165828719312288,
          0.8641042834396766,
          0.8048564161852613,
          0.9043457131452903,
          0.6420876328427721,
          0.7872003071214342,
          0.972854325473662,
          0.41661858469364077,
          0.7669765070921782,
          0.9056985440994341,
          0.5084734352479436,
          0.6017209385305563,
          0.19449399186162397,
          0.8795910499164199,
          0.9329380033623111,
          0.42199823286011595,
          0.6577222052661518,
          0.7859606430705509,
          0.8154662210188368,
          0.5958172671150624,
          0.4857055514972246,
          0.5312114470105889,
          0.549791911373843,
          0.4343339677649416,
          0.15154830198799052,
          0.3291375387123434,
          0.031523522006852045,
          0.609125815238051,
          0.0845131579477677,
          0.3196107119769799
         ],
         "yaxis": "y"
        },
        {
         "customdata": [
          [
           "Mahatma Gandhi",
           16,
           182,
           null
          ],
          [
           "Karl Marx",
           16,
           182,
           null
          ],
          [
           "Charles Darwin",
           16,
           194,
           null
          ],
          [
           "Marie Curie",
           16,
           206,
           null
          ],
          [
           "Adolf Hitler",
           16,
           209,
           null
          ],
          [
           "Catherine the Great",
           16,
           209,
           null
          ],
          [
           "Frida Kahlo",
           16,
           229,
           null
          ],
          [
           "Napoleon III",
           16,
           148,
           null
          ],
          [
           "Tupac Shakur",
           16,
           202,
           null
          ],
          [
           "Mao Zedong",
           16,
           195,
           null
          ],
          [
           "Anne Frank",
           16,
           140,
           null
          ],
          [
           "James Cook",
           16,
           193,
           null
          ],
          [
           "Salvador Dalí",
           16,
           162,
           null
          ],
          [
           "Queen Isabella I of Castile",
           16,
           173,
           null
          ],
          [
           "Stephen King",
           16,
           142,
           null
          ],
          [
           "Alfred Nobel",
           16,
           206,
           null
          ],
          [
           "Gustave Eiffel",
           16,
           133,
           null
          ],
          [
           "Jackie Robinson",
           16,
           174,
           null
          ],
          [
           "Rosa Parks",
           16,
           195,
           null
          ],
          [
           "Mark Twain",
           16,
           154,
           null
          ],
          [
           "Alexander Graham Bell",
           16,
           126,
           null
          ],
          [
           "Nikola Tesla",
           16,
           175,
           null
          ],
          [
           "Emily Brontë",
           16,
           197,
           null
          ],
          [
           "Teresa of Ávila",
           16,
           172,
           null
          ],
          [
           "Charlie Chaplin",
           16,
           171,
           null
          ],
          [
           "Oscar Wilde",
           16,
           198,
           null
          ],
          [
           "Helen Keller",
           16,
           189,
           null
          ],
          [
           "Aung San Suu Kyi",
           16,
           201,
           null
          ],
          [
           "Darien Hawthorne",
           16,
           4,
           null
          ],
          [
           "Darien Hawthorne",
           16,
           160,
           null
          ],
          [
           "Leandra Rivers",
           16,
           4,
           null
          ],
          [
           "Leandra Rivers",
           16,
           189,
           null
          ],
          [
           "Elara Meadows",
           16,
           4,
           null
          ],
          [
           "Elara Meadows",
           16,
           165,
           null
          ],
          [
           "Liora Ashby",
           16,
           4,
           null
          ],
          [
           "Liora Ashby",
           16,
           193,
           null
          ],
          [
           "Thaddeus Sterling",
           16,
           210,
           null
          ],
          [
           "Seraphina Winter",
           16,
           4,
           null
          ],
          [
           "Seraphina Winter",
           16,
           157,
           null
          ],
          [
           "Declan Monroe",
           16,
           4,
           null
          ],
          [
           "Declan Monroe",
           16,
           142,
           null
          ],
          [
           "Zephyr Callahan",
           16,
           4,
           null
          ],
          [
           "Zephyr Callahan",
           16,
           174,
           null
          ],
          [
           "Lyra Whitaker",
           16,
           4,
           null
          ],
          [
           "Lyra Whitaker",
           16,
           191,
           null
          ],
          [
           "Boris kovelev",
           16,
           4,
           null
          ],
          [
           "Boris kovelev",
           16,
           138,
           null
          ],
          [
           "Alessia Rossi",
           16,
           4,
           null
          ],
          [
           "Alessia Rossi",
           16,
           178,
           null
          ],
          [
           "Henrik Bergström",
           16,
           4,
           null
          ],
          [
           "Henrik Bergström",
           16,
           173,
           null
          ],
          [
           "Isabella Novák",
           16,
           4,
           null
          ],
          [
           "Isabella Novák",
           16,
           159,
           null
          ],
          [
           "Lucas Müller",
           16,
           184,
           null
          ],
          [
           "Sofia Kostas",
           16,
           4,
           null
          ],
          [
           "Sofia Kostas",
           16,
           154,
           null
          ],
          [
           "jean-pierre Perrez",
           16,
           4,
           null
          ],
          [
           "jean-pierre Perrez",
           16,
           191,
           null
          ],
          [
           "Haruki Suzuki",
           16,
           4,
           null
          ],
          [
           "Haruki Suzuki",
           16,
           139,
           null
          ],
          [
           "Mei Pin",
           16,
           4,
           null
          ],
          [
           "Mei Pin",
           16,
           137,
           null
          ],
          [
           "Haeki Wei",
           16,
           4,
           null
          ],
          [
           "Haeki Wei",
           16,
           138,
           null
          ],
          [
           "Thibault Ricard",
           16,
           191,
           null
          ],
          [
           "Li Yamamoto",
           16,
           4,
           null
          ],
          [
           "Li Yamamoto",
           16,
           168,
           null
          ],
          [
           "Surya Gupta",
           16,
           4,
           null
          ],
          [
           "Surya Gupta",
           16,
           184,
           null
          ],
          [
           "Yann Fujimoto",
           16,
           4,
           null
          ],
          [
           "Yann Fujimoto",
           16,
           197,
           null
          ],
          [
           "Camila Santos",
           16,
           4,
           null
          ],
          [
           "Camila Santos",
           16,
           154,
           null
          ],
          [
           "Mateo Rodriguez",
           16,
           4,
           null
          ],
          [
           "Mateo Rodriguez",
           16,
           159,
           null
          ],
          [
           "Gabriel Herrera",
           16,
           4,
           null
          ],
          [
           "Gabriel Herrera",
           16,
           156,
           null
          ],
          [
           "Valentina Silva",
           16,
           4,
           null
          ],
          [
           "Valentina Silva",
           16,
           140,
           null
          ],
          [
           "Alejandro chavez",
           16,
           4,
           null
          ],
          [
           "Alejandro chavez",
           16,
           184,
           null
          ],
          [
           "Adamma Nwosu",
           16,
           4,
           null
          ],
          [
           "Adamma Nwosu",
           16,
           184,
           null
          ],
          [
           "Kwame Osei",
           16,
           4,
           null
          ],
          [
           "Kwame Osei",
           16,
           174,
           null
          ],
          [
           "Asha Nkrumah",
           16,
           4,
           null
          ],
          [
           "Asha Nkrumah",
           16,
           146,
           null
          ],
          [
           "Jabari Mbeki",
           16,
           4,
           null
          ],
          [
           "Jabari Mbeki",
           16,
           206,
           null
          ],
          [
           "Sanaa Diop",
           16,
           4,
           null
          ],
          [
           "Sanaa Diop",
           16,
           156,
           null
          ],
          [
           "Oluwa Adeyemi",
           16,
           4,
           null
          ],
          [
           "Oluwa Adeyemi",
           16,
           178,
           null
          ],
          [
           "Tafari Asante",
           16,
           4,
           null
          ],
          [
           "Tafari Asante",
           16,
           223,
           null
          ],
          [
           "Amina Dube",
           16,
           4,
           null
          ],
          [
           "Amina Dube",
           16,
           134,
           null
          ],
          [
           "Kofi Abimbola",
           16,
           4,
           null
          ],
          [
           "Kofi Abimbola",
           16,
           126,
           null
          ],
          [
           "Tane Ngata",
           16,
           4,
           null
          ],
          [
           "Tane Ngata",
           16,
           140,
           null
          ],
          [
           "Moana Mahana",
           16,
           4,
           null
          ],
          [
           "Moana Mahana",
           16,
           143,
           null
          ],
          [
           "Aroha Tamati",
           16,
           4,
           null
          ],
          [
           "Aroha Tamati",
           16,
           160,
           null
          ],
          [
           "Kai Tehei",
           16,
           4,
           null
          ],
          [
           "Kai Tehei",
           16,
           166,
           null
          ],
          [
           "Marama Pōtiki",
           16,
           4,
           null
          ],
          [
           "Marama Pōtiki",
           16,
           127,
           null
          ],
          [
           "Rangi Tavita",
           16,
           167,
           null
          ],
          [
           "Hine Rehua",
           16,
           4,
           null
          ],
          [
           "Hine Rehua",
           16,
           165,
           null
          ],
          [
           "Manaia Whakarua",
           16,
           4,
           null
          ],
          [
           "Manaia Whakarua",
           16,
           157,
           null
          ],
          [
           "Kiri Waimarie",
           16,
           4,
           null
          ],
          [
           "Kiri Waimarie",
           16,
           146,
           null
          ],
          [
           "John Ngaio",
           16,
           154,
           null
          ],
          [
           "Amir al-Farsi",
           16,
           173,
           null
          ],
          [
           "Layla Nassar",
           16,
           126,
           null
          ],
          [
           "Farid Khoury",
           16,
           149,
           null
          ],
          [
           "Samira Alawi",
           16,
           4,
           null
          ],
          [
           "Samira Alawi",
           16,
           167,
           null
          ],
          [
           "Karim Hassan",
           16,
           150,
           null
          ],
          [
           "Leila Rizvi",
           16,
           4,
           null
          ],
          [
           "Leila Rizvi",
           16,
           175,
           null
          ],
          [
           "Zahir Mansour",
           16,
           4,
           null
          ],
          [
           "Zahir Mansour",
           16,
           144,
           null
          ],
          [
           "Aisha Qadri",
           16,
           4,
           null
          ],
          [
           "Aisha Qadri",
           16,
           150,
           null
          ],
          [
           "Alfred Abbasi",
           16,
           4,
           null
          ],
          [
           "Alfred Abbasi",
           16,
           185,
           null
          ],
          [
           "Yousef Khalid",
           16,
           4,
           null
          ],
          [
           "Yousef Khalid",
           16,
           163,
           null
          ],
          [
           "Arjuna Tan",
           16,
           4,
           null
          ],
          [
           "Arjuna Tan",
           16,
           221,
           null
          ],
          [
           "Hera Nurul",
           16,
           206,
           null
          ],
          [
           "Christopher Nguyen",
           16,
           4,
           null
          ],
          [
           "Christopher Nguyen",
           16,
           144,
           null
          ],
          [
           "Aisha Ebrahim",
           16,
           4,
           null
          ],
          [
           "Aisha Ebrahim",
           16,
           163,
           null
          ],
          [
           "Prabhu Rajan",
           16,
           4,
           null
          ],
          [
           "Prabhu Rajan",
           16,
           168,
           null
          ],
          [
           "Surya Dewi",
           16,
           4,
           null
          ],
          [
           "Surya Dewi",
           16,
           188,
           null
          ],
          [
           "Kritika Sharma",
           16,
           4,
           null
          ],
          [
           "Kritika Sharma",
           16,
           140,
           null
          ],
          [
           "Somchai Pong",
           16,
           164,
           null
          ],
          [
           "Patrik Sari",
           16,
           4,
           null
          ],
          [
           "Patrik Sari",
           16,
           153,
           null
          ]
         ],
         "hovertemplate": "prediction=1.0<br>pca1=%{x}<br>random_value=%{y}<br>label=%{marker.color}<br>input/output=%{customdata[0]}<br>layer_id=%{customdata[1]}<br>output_length=%{customdata[2]}<br>switch=%{customdata[3]}<extra></extra>",
         "legendgroup": "1.0",
         "marker": {
          "color": [
           12,
           12,
           12,
           12,
           12,
           12,
           12,
           12,
           12,
           12,
           12,
           12,
           12,
           12,
           12,
           12,
           12,
           12,
           12,
           12,
           12,
           12,
           12,
           12,
           12,
           12,
           12,
           12,
           13,
           13,
           13,
           13,
           13,
           13,
           13,
           13,
           13,
           13,
           13,
           13,
           13,
           13,
           13,
           13,
           13,
           13,
           13,
           13,
           13,
           13,
           13,
           13,
           13,
           13,
           13,
           13,
           13,
           13,
           13,
           13,
           13,
           13,
           13,
           13,
           13,
           13,
           13,
           13,
           13,
           13,
           13,
           13,
           13,
           13,
           13,
           13,
           13,
           13,
           13,
           13,
           13,
           13,
           13,
           13,
           13,
           13,
           13,
           13,
           13,
           13,
           13,
           13,
           13,
           13,
           13,
           13,
           13,
           13,
           13,
           13,
           13,
           13,
           13,
           13,
           13,
           13,
           13,
           13,
           13,
           13,
           13,
           13,
           13,
           13,
           13,
           13,
           13,
           13,
           13,
           13,
           13,
           13,
           13,
           13,
           13,
           13,
           13,
           13,
           13,
           13,
           13,
           13,
           13,
           13,
           13,
           13,
           13,
           13,
           13,
           13,
           13,
           13,
           13,
           13,
           13,
           13,
           13,
           13,
           13
          ],
          "coloraxis": "coloraxis",
          "size": [
           12,
           12,
           12,
           12,
           12,
           12,
           12,
           12,
           12,
           12,
           12,
           12,
           12,
           12,
           12,
           12,
           12,
           12,
           12,
           12,
           12,
           12,
           12,
           12,
           12,
           12,
           12,
           12,
           13,
           13,
           13,
           13,
           13,
           13,
           13,
           13,
           13,
           13,
           13,
           13,
           13,
           13,
           13,
           13,
           13,
           13,
           13,
           13,
           13,
           13,
           13,
           13,
           13,
           13,
           13,
           13,
           13,
           13,
           13,
           13,
           13,
           13,
           13,
           13,
           13,
           13,
           13,
           13,
           13,
           13,
           13,
           13,
           13,
           13,
           13,
           13,
           13,
           13,
           13,
           13,
           13,
           13,
           13,
           13,
           13,
           13,
           13,
           13,
           13,
           13,
           13,
           13,
           13,
           13,
           13,
           13,
           13,
           13,
           13,
           13,
           13,
           13,
           13,
           13,
           13,
           13,
           13,
           13,
           13,
           13,
           13,
           13,
           13,
           13,
           13,
           13,
           13,
           13,
           13,
           13,
           13,
           13,
           13,
           13,
           13,
           13,
           13,
           13,
           13,
           13,
           13,
           13,
           13,
           13,
           13,
           13,
           13,
           13,
           13,
           13,
           13,
           13,
           13,
           13,
           13,
           13,
           13,
           13,
           13
          ],
          "sizemode": "area",
          "sizeref": 0.0325,
          "symbol": "diamond"
         },
         "mode": "markers",
         "name": "1.0",
         "orientation": "v",
         "showlegend": true,
         "type": "scatter",
         "x": [
          0.24027930740007974,
          1.4164311355043187,
          0.3159099591496184,
          0.04055132264453171,
          0.642626927200372,
          0.4297907225370228,
          2.594439559591162,
          1.1306265886661058,
          0.22095025757970077,
          0.13475270021327246,
          0.20172298879147643,
          1.4198400833053872,
          2.208856871149839,
          1.8689523777976471,
          0.45021324082597036,
          2.5263986615063403,
          1.9909663812765759,
          1.6811740965336976,
          0.4120624978140045,
          1.2940123320188015,
          0.4863190471967237,
          1.7579884879386312,
          2.223976795319713,
          3.4459079877823866,
          0.04200127692585098,
          1.232941681329189,
          0.5306389174955589,
          0.406704059581658,
          2.3500990466613376,
          2.3185151111438236,
          2.2710467782342256,
          4.605629345676191,
          3.36524197392309,
          1.8135954938132204,
          1.4492312903595315,
          2.9709447235144535,
          1.8744956149623455,
          2.368099130700511,
          1.8472430744423085,
          1.055569896592731,
          1.3232906414284695,
          2.5027789773908267,
          3.1391177856926813,
          2.1117385720525896,
          2.39986559500499,
          1.824645518701355,
          7.3495435268749265,
          2.492461699060762,
          3.7205625671839964,
          3.2422792106084373,
          3.257632867861502,
          2.005044645833361,
          1.852471199036084,
          1.7662011755272147,
          2.8133603767040016,
          5.865513366642562,
          0.47962710950948106,
          7.6310165481727195,
          1.5570485497694153,
          10.648277304941438,
          2.1675379745256795,
          2.872439009094375,
          0.2313571664764127,
          4.147689429691095,
          3.8675352945607435,
          0.44866565971641337,
          3.034021777617543,
          1.7369785267817321,
          4.2198358751684975,
          2.0270232138553252,
          4.774243387054713,
          1.5731621706368757,
          7.329128895306717,
          1.5606452598400817,
          3.0477969546280983,
          0.5774204496499732,
          4.623714733549284,
          0.2502002356819316,
          4.897723489312767,
          0.22214177833522508,
          6.1108685391270505,
          2.642862005884991,
          4.5175244696806915,
          2.5480260316391465,
          7.178229397976281,
          1.79308731093177,
          6.27858145801088,
          0.10519119928701981,
          8.402623490118097,
          1.753649624866957,
          3.861165094331387,
          2.5530861192205325,
          4.364052983177787,
          5.312992913870504,
          4.578920564205884,
          3.0289305762815664,
          7.0499476788280475,
          0.3726536472771006,
          7.059894441537858,
          1.403109046865488,
          5.416750429612532,
          3.874596160347129,
          4.972895164755241,
          1.6025833409866397,
          6.25196725238552,
          1.6923747206259356,
          6.2971437703421795,
          1.5438368972843688,
          5.422825742106073,
          8.001398120100001,
          5.209508726084843,
          7.613886439648967,
          4.451328809668215,
          8.604195532317133,
          6.071652986706281,
          7.25788760548371,
          5.801339112688355,
          4.6306642952593124,
          6.964010957470171,
          7.868129785844112,
          1.9287033237739797,
          4.224097835940499,
          3.3175993470156167,
          1.4974259895059219,
          4.6407044259335235,
          0.8366022855889692,
          7.732007243494583,
          2.6590804549713396,
          5.136871354574982,
          1.254525167369064,
          4.64727520496541,
          0.8573958691967903,
          9.179879180605806,
          3.9369804682253906,
          7.9375139451570345,
          6.1227064008139624,
          2.3374628889610998,
          3.7149890214052665,
          2.1403521201740716,
          3.1410966392180177,
          2.6826548035376607,
          4.786402665416098,
          2.295167648311401,
          4.7670677917747,
          3.184884281567443,
          8.154466120141603,
          4.378982272193297,
          3.807862336495291,
          6.178886417743185
         ],
         "xaxis": "x",
         "y": [
          0.13921562387163655,
          0.22123242066258464,
          0.03297137015032425,
          0.6884763089622907,
          0.49751833097857756,
          0.999526515547933,
          0.6655219573373803,
          0.8768035757501973,
          0.9270086887181942,
          0.4489690575176227,
          0.6053214554414551,
          0.4032083004383272,
          0.6447447715138225,
          0.4452461134439608,
          0.6320154189444327,
          0.4027189218712718,
          0.1590214306459723,
          0.4015849958677169,
          0.5361780662697536,
          0.08371911033767432,
          0.03296227678995289,
          0.4546880870465616,
          0.04630249829516109,
          0.5056626263544908,
          0.5738686025198511,
          0.13345694427424915,
          0.9120449171669667,
          0.7234713652043395,
          0.5013271843062168,
          0.0808486957107688,
          0.5310367104194821,
          0.8537656911469184,
          0.75695645805946,
          0.7721937602919668,
          0.4556163814998281,
          0.9856071806745242,
          0.060989861047105354,
          0.6916215674464314,
          0.03894591049671703,
          0.20958868305036282,
          0.530055348754685,
          0.9800433251355016,
          0.23250009741133681,
          0.42872239902463005,
          0.6558194209674123,
          0.7585935372202494,
          0.6830038308603916,
          0.36363800661871803,
          0.9547264932572982,
          0.2660617715934783,
          0.8635959503025744,
          0.5885383804350647,
          0.9289347830706799,
          0.06064130762932185,
          0.6461049506458723,
          0.3328236581891969,
          0.3991213550761714,
          0.05086031374757238,
          0.11878327866922755,
          0.05658324748598398,
          0.10424674891734764,
          0.4702440336387703,
          0.15133864248903073,
          0.7091928380457303,
          0.26818835400174146,
          0.765839826497885,
          0.07370868370601946,
          0.8845415973024596,
          0.4969256807558986,
          0.6800978827648828,
          0.2974290326801421,
          0.6104622497381798,
          0.7469908395362254,
          0.9779438282983962,
          0.9708509680795846,
          0.8583972809990115,
          0.33789406076028616,
          0.4968624443280819,
          0.4846987220953243,
          0.6198361456583565,
          0.6907503976920761,
          0.5590344018434492,
          0.34760450695843625,
          0.6079623975872529,
          0.13212784943916545,
          0.2415315271740326,
          0.8892258294676103,
          0.04059181552620572,
          0.1305699809211841,
          0.3484393200697484,
          0.9023994235354359,
          0.3568043133908583,
          0.5767720678530847,
          0.4221819466661567,
          0.8682717198047142,
          0.2509550298824914,
          0.841377756383875,
          0.6704391959522662,
          0.9690129682509149,
          0.37836885742816995,
          0.7931316694225818,
          0.0813491111077107,
          0.17104651704976315,
          0.5587887325650591,
          0.24822127269513383,
          0.7340099202596765,
          0.509038862032769,
          0.5914490953058027,
          0.6605828973592296,
          0.5453991056139446,
          0.17383390535726018,
          0.07114089490350306,
          0.2711424323366425,
          0.8764923211849402,
          0.9172687166190613,
          0.8438064378277959,
          0.8490911325728613,
          0.7385358090552362,
          0.6672769095687521,
          0.047641872150228415,
          0.4307252732284176,
          0.1391058305397037,
          0.7950204851908385,
          0.9131796947031761,
          0.9218964986589014,
          0.2463322854769071,
          0.18918302399386655,
          0.9729726653901493,
          0.66094389631171,
          0.4828234448924482,
          0.024522271200799417,
          0.10220237146336231,
          0.5018339375668198,
          0.5224032720057035,
          0.41051298980537176,
          0.2184842085617854,
          0.8877108426982137,
          0.5632937944464156,
          0.8773112184145825,
          0.66888740681606,
          0.8150334327408805,
          0.6044085021995904,
          0.46510396542843635,
          0.5067249559988475,
          0.7374716148151663,
          0.4435602443209242,
          0.8255768471145185,
          0.10009538052565581,
          0.32347809923460735
         ],
         "yaxis": "y"
        }
       ],
       "layout": {
        "coloraxis": {
         "colorbar": {
          "ticks": "outside",
          "title": {
           "text": "label"
          },
          "x": -0.2,
          "y": 1,
          "yanchor": "top"
         },
         "colorscale": [
          [
           0,
           "#0d0887"
          ],
          [
           0.1111111111111111,
           "#46039f"
          ],
          [
           0.2222222222222222,
           "#7201a8"
          ],
          [
           0.3333333333333333,
           "#9c179e"
          ],
          [
           0.4444444444444444,
           "#bd3786"
          ],
          [
           0.5555555555555556,
           "#d8576b"
          ],
          [
           0.6666666666666666,
           "#ed7953"
          ],
          [
           0.7777777777777778,
           "#fb9f3a"
          ],
          [
           0.8888888888888888,
           "#fdca26"
          ],
          [
           1,
           "#f0f921"
          ]
         ]
        },
        "height": 700,
        "legend": {
         "itemsizing": "constant",
         "title": {
          "text": "prediction"
         },
         "tracegroupgap": 0
        },
        "margin": {
         "t": 60
        },
        "shapes": [
         {
          "line": {
           "color": "red",
           "dash": "dash"
          },
          "type": "line",
          "x0": 0,
          "x1": 0,
          "xref": "x",
          "y0": 0,
          "y1": 1,
          "yref": "y domain"
         }
        ],
        "template": {
         "data": {
          "bar": [
           {
            "error_x": {
             "color": "#2a3f5f"
            },
            "error_y": {
             "color": "#2a3f5f"
            },
            "marker": {
             "line": {
              "color": "#E5ECF6",
              "width": 0.5
             },
             "pattern": {
              "fillmode": "overlay",
              "size": 10,
              "solidity": 0.2
             }
            },
            "type": "bar"
           }
          ],
          "barpolar": [
           {
            "marker": {
             "line": {
              "color": "#E5ECF6",
              "width": 0.5
             },
             "pattern": {
              "fillmode": "overlay",
              "size": 10,
              "solidity": 0.2
             }
            },
            "type": "barpolar"
           }
          ],
          "carpet": [
           {
            "aaxis": {
             "endlinecolor": "#2a3f5f",
             "gridcolor": "white",
             "linecolor": "white",
             "minorgridcolor": "white",
             "startlinecolor": "#2a3f5f"
            },
            "baxis": {
             "endlinecolor": "#2a3f5f",
             "gridcolor": "white",
             "linecolor": "white",
             "minorgridcolor": "white",
             "startlinecolor": "#2a3f5f"
            },
            "type": "carpet"
           }
          ],
          "choropleth": [
           {
            "colorbar": {
             "outlinewidth": 0,
             "ticks": ""
            },
            "type": "choropleth"
           }
          ],
          "contour": [
           {
            "colorbar": {
             "outlinewidth": 0,
             "ticks": ""
            },
            "colorscale": [
             [
              0,
              "#0d0887"
             ],
             [
              0.1111111111111111,
              "#46039f"
             ],
             [
              0.2222222222222222,
              "#7201a8"
             ],
             [
              0.3333333333333333,
              "#9c179e"
             ],
             [
              0.4444444444444444,
              "#bd3786"
             ],
             [
              0.5555555555555556,
              "#d8576b"
             ],
             [
              0.6666666666666666,
              "#ed7953"
             ],
             [
              0.7777777777777778,
              "#fb9f3a"
             ],
             [
              0.8888888888888888,
              "#fdca26"
             ],
             [
              1,
              "#f0f921"
             ]
            ],
            "type": "contour"
           }
          ],
          "contourcarpet": [
           {
            "colorbar": {
             "outlinewidth": 0,
             "ticks": ""
            },
            "type": "contourcarpet"
           }
          ],
          "heatmap": [
           {
            "colorbar": {
             "outlinewidth": 0,
             "ticks": ""
            },
            "colorscale": [
             [
              0,
              "#0d0887"
             ],
             [
              0.1111111111111111,
              "#46039f"
             ],
             [
              0.2222222222222222,
              "#7201a8"
             ],
             [
              0.3333333333333333,
              "#9c179e"
             ],
             [
              0.4444444444444444,
              "#bd3786"
             ],
             [
              0.5555555555555556,
              "#d8576b"
             ],
             [
              0.6666666666666666,
              "#ed7953"
             ],
             [
              0.7777777777777778,
              "#fb9f3a"
             ],
             [
              0.8888888888888888,
              "#fdca26"
             ],
             [
              1,
              "#f0f921"
             ]
            ],
            "type": "heatmap"
           }
          ],
          "heatmapgl": [
           {
            "colorbar": {
             "outlinewidth": 0,
             "ticks": ""
            },
            "colorscale": [
             [
              0,
              "#0d0887"
             ],
             [
              0.1111111111111111,
              "#46039f"
             ],
             [
              0.2222222222222222,
              "#7201a8"
             ],
             [
              0.3333333333333333,
              "#9c179e"
             ],
             [
              0.4444444444444444,
              "#bd3786"
             ],
             [
              0.5555555555555556,
              "#d8576b"
             ],
             [
              0.6666666666666666,
              "#ed7953"
             ],
             [
              0.7777777777777778,
              "#fb9f3a"
             ],
             [
              0.8888888888888888,
              "#fdca26"
             ],
             [
              1,
              "#f0f921"
             ]
            ],
            "type": "heatmapgl"
           }
          ],
          "histogram": [
           {
            "marker": {
             "pattern": {
              "fillmode": "overlay",
              "size": 10,
              "solidity": 0.2
             }
            },
            "type": "histogram"
           }
          ],
          "histogram2d": [
           {
            "colorbar": {
             "outlinewidth": 0,
             "ticks": ""
            },
            "colorscale": [
             [
              0,
              "#0d0887"
             ],
             [
              0.1111111111111111,
              "#46039f"
             ],
             [
              0.2222222222222222,
              "#7201a8"
             ],
             [
              0.3333333333333333,
              "#9c179e"
             ],
             [
              0.4444444444444444,
              "#bd3786"
             ],
             [
              0.5555555555555556,
              "#d8576b"
             ],
             [
              0.6666666666666666,
              "#ed7953"
             ],
             [
              0.7777777777777778,
              "#fb9f3a"
             ],
             [
              0.8888888888888888,
              "#fdca26"
             ],
             [
              1,
              "#f0f921"
             ]
            ],
            "type": "histogram2d"
           }
          ],
          "histogram2dcontour": [
           {
            "colorbar": {
             "outlinewidth": 0,
             "ticks": ""
            },
            "colorscale": [
             [
              0,
              "#0d0887"
             ],
             [
              0.1111111111111111,
              "#46039f"
             ],
             [
              0.2222222222222222,
              "#7201a8"
             ],
             [
              0.3333333333333333,
              "#9c179e"
             ],
             [
              0.4444444444444444,
              "#bd3786"
             ],
             [
              0.5555555555555556,
              "#d8576b"
             ],
             [
              0.6666666666666666,
              "#ed7953"
             ],
             [
              0.7777777777777778,
              "#fb9f3a"
             ],
             [
              0.8888888888888888,
              "#fdca26"
             ],
             [
              1,
              "#f0f921"
             ]
            ],
            "type": "histogram2dcontour"
           }
          ],
          "mesh3d": [
           {
            "colorbar": {
             "outlinewidth": 0,
             "ticks": ""
            },
            "type": "mesh3d"
           }
          ],
          "parcoords": [
           {
            "line": {
             "colorbar": {
              "outlinewidth": 0,
              "ticks": ""
             }
            },
            "type": "parcoords"
           }
          ],
          "pie": [
           {
            "automargin": true,
            "type": "pie"
           }
          ],
          "scatter": [
           {
            "fillpattern": {
             "fillmode": "overlay",
             "size": 10,
             "solidity": 0.2
            },
            "type": "scatter"
           }
          ],
          "scatter3d": [
           {
            "line": {
             "colorbar": {
              "outlinewidth": 0,
              "ticks": ""
             }
            },
            "marker": {
             "colorbar": {
              "outlinewidth": 0,
              "ticks": ""
             }
            },
            "type": "scatter3d"
           }
          ],
          "scattercarpet": [
           {
            "marker": {
             "colorbar": {
              "outlinewidth": 0,
              "ticks": ""
             }
            },
            "type": "scattercarpet"
           }
          ],
          "scattergeo": [
           {
            "marker": {
             "colorbar": {
              "outlinewidth": 0,
              "ticks": ""
             }
            },
            "type": "scattergeo"
           }
          ],
          "scattergl": [
           {
            "marker": {
             "colorbar": {
              "outlinewidth": 0,
              "ticks": ""
             }
            },
            "type": "scattergl"
           }
          ],
          "scattermapbox": [
           {
            "marker": {
             "colorbar": {
              "outlinewidth": 0,
              "ticks": ""
             }
            },
            "type": "scattermapbox"
           }
          ],
          "scatterpolar": [
           {
            "marker": {
             "colorbar": {
              "outlinewidth": 0,
              "ticks": ""
             }
            },
            "type": "scatterpolar"
           }
          ],
          "scatterpolargl": [
           {
            "marker": {
             "colorbar": {
              "outlinewidth": 0,
              "ticks": ""
             }
            },
            "type": "scatterpolargl"
           }
          ],
          "scatterternary": [
           {
            "marker": {
             "colorbar": {
              "outlinewidth": 0,
              "ticks": ""
             }
            },
            "type": "scatterternary"
           }
          ],
          "surface": [
           {
            "colorbar": {
             "outlinewidth": 0,
             "ticks": ""
            },
            "colorscale": [
             [
              0,
              "#0d0887"
             ],
             [
              0.1111111111111111,
              "#46039f"
             ],
             [
              0.2222222222222222,
              "#7201a8"
             ],
             [
              0.3333333333333333,
              "#9c179e"
             ],
             [
              0.4444444444444444,
              "#bd3786"
             ],
             [
              0.5555555555555556,
              "#d8576b"
             ],
             [
              0.6666666666666666,
              "#ed7953"
             ],
             [
              0.7777777777777778,
              "#fb9f3a"
             ],
             [
              0.8888888888888888,
              "#fdca26"
             ],
             [
              1,
              "#f0f921"
             ]
            ],
            "type": "surface"
           }
          ],
          "table": [
           {
            "cells": {
             "fill": {
              "color": "#EBF0F8"
             },
             "line": {
              "color": "white"
             }
            },
            "header": {
             "fill": {
              "color": "#C8D4E3"
             },
             "line": {
              "color": "white"
             }
            },
            "type": "table"
           }
          ]
         },
         "layout": {
          "annotationdefaults": {
           "arrowcolor": "#2a3f5f",
           "arrowhead": 0,
           "arrowwidth": 1
          },
          "autotypenumbers": "strict",
          "coloraxis": {
           "colorbar": {
            "outlinewidth": 0,
            "ticks": ""
           }
          },
          "colorscale": {
           "diverging": [
            [
             0,
             "#8e0152"
            ],
            [
             0.1,
             "#c51b7d"
            ],
            [
             0.2,
             "#de77ae"
            ],
            [
             0.3,
             "#f1b6da"
            ],
            [
             0.4,
             "#fde0ef"
            ],
            [
             0.5,
             "#f7f7f7"
            ],
            [
             0.6,
             "#e6f5d0"
            ],
            [
             0.7,
             "#b8e186"
            ],
            [
             0.8,
             "#7fbc41"
            ],
            [
             0.9,
             "#4d9221"
            ],
            [
             1,
             "#276419"
            ]
           ],
           "sequential": [
            [
             0,
             "#0d0887"
            ],
            [
             0.1111111111111111,
             "#46039f"
            ],
            [
             0.2222222222222222,
             "#7201a8"
            ],
            [
             0.3333333333333333,
             "#9c179e"
            ],
            [
             0.4444444444444444,
             "#bd3786"
            ],
            [
             0.5555555555555556,
             "#d8576b"
            ],
            [
             0.6666666666666666,
             "#ed7953"
            ],
            [
             0.7777777777777778,
             "#fb9f3a"
            ],
            [
             0.8888888888888888,
             "#fdca26"
            ],
            [
             1,
             "#f0f921"
            ]
           ],
           "sequentialminus": [
            [
             0,
             "#0d0887"
            ],
            [
             0.1111111111111111,
             "#46039f"
            ],
            [
             0.2222222222222222,
             "#7201a8"
            ],
            [
             0.3333333333333333,
             "#9c179e"
            ],
            [
             0.4444444444444444,
             "#bd3786"
            ],
            [
             0.5555555555555556,
             "#d8576b"
            ],
            [
             0.6666666666666666,
             "#ed7953"
            ],
            [
             0.7777777777777778,
             "#fb9f3a"
            ],
            [
             0.8888888888888888,
             "#fdca26"
            ],
            [
             1,
             "#f0f921"
            ]
           ]
          },
          "colorway": [
           "#636efa",
           "#EF553B",
           "#00cc96",
           "#ab63fa",
           "#FFA15A",
           "#19d3f3",
           "#FF6692",
           "#B6E880",
           "#FF97FF",
           "#FECB52"
          ],
          "font": {
           "color": "#2a3f5f"
          },
          "geo": {
           "bgcolor": "white",
           "lakecolor": "white",
           "landcolor": "#E5ECF6",
           "showlakes": true,
           "showland": true,
           "subunitcolor": "white"
          },
          "hoverlabel": {
           "align": "left"
          },
          "hovermode": "closest",
          "mapbox": {
           "style": "light"
          },
          "paper_bgcolor": "white",
          "plot_bgcolor": "#E5ECF6",
          "polar": {
           "angularaxis": {
            "gridcolor": "white",
            "linecolor": "white",
            "ticks": ""
           },
           "bgcolor": "#E5ECF6",
           "radialaxis": {
            "gridcolor": "white",
            "linecolor": "white",
            "ticks": ""
           }
          },
          "scene": {
           "xaxis": {
            "backgroundcolor": "#E5ECF6",
            "gridcolor": "white",
            "gridwidth": 2,
            "linecolor": "white",
            "showbackground": true,
            "ticks": "",
            "zerolinecolor": "white"
           },
           "yaxis": {
            "backgroundcolor": "#E5ECF6",
            "gridcolor": "white",
            "gridwidth": 2,
            "linecolor": "white",
            "showbackground": true,
            "ticks": "",
            "zerolinecolor": "white"
           },
           "zaxis": {
            "backgroundcolor": "#E5ECF6",
            "gridcolor": "white",
            "gridwidth": 2,
            "linecolor": "white",
            "showbackground": true,
            "ticks": "",
            "zerolinecolor": "white"
           }
          },
          "shapedefaults": {
           "line": {
            "color": "#2a3f5f"
           }
          },
          "ternary": {
           "aaxis": {
            "gridcolor": "white",
            "linecolor": "white",
            "ticks": ""
           },
           "baxis": {
            "gridcolor": "white",
            "linecolor": "white",
            "ticks": ""
           },
           "bgcolor": "#E5ECF6",
           "caxis": {
            "gridcolor": "white",
            "linecolor": "white",
            "ticks": ""
           }
          },
          "title": {
           "x": 0.05
          },
          "xaxis": {
           "automargin": true,
           "gridcolor": "white",
           "linecolor": "white",
           "ticks": "",
           "title": {
            "standoff": 15
           },
           "zerolinecolor": "white",
           "zerolinewidth": 2
          },
          "yaxis": {
           "automargin": true,
           "gridcolor": "white",
           "linecolor": "white",
           "ticks": "",
           "title": {
            "standoff": 15
           },
           "zerolinecolor": "white",
           "zerolinewidth": 2
          }
         }
        },
        "width": 1000,
        "xaxis": {
         "anchor": "y",
         "domain": [
          0,
          1
         ],
         "title": {
          "text": "pca1"
         }
        },
        "yaxis": {
         "anchor": "x",
         "domain": [
          0,
          1
         ],
         "title": {
          "text": "random_value"
         }
        }
       }
      },
      "text/html": [
       "<div>                            <div id=\"f92cffa3-6f23-4d92-89d2-c1b74fccabb6\" class=\"plotly-graph-div\" style=\"height:700px; width:1000px;\"></div>            <script type=\"text/javascript\">                require([\"plotly\"], function(Plotly) {                    window.PLOTLYENV=window.PLOTLYENV || {};                                    if (document.getElementById(\"f92cffa3-6f23-4d92-89d2-c1b74fccabb6\")) {                    Plotly.newPlot(                        \"f92cffa3-6f23-4d92-89d2-c1b74fccabb6\",                        [{\"customdata\":[[\"Leonardo da Vinci\",16.0,4,null],[\"Leonardo da Vinci\",16.0,197,null],[\"Napoleon Bonaparte\",16.0,4,null],[\"Napoleon Bonaparte\",16.0,203,null],[\"Mahatma Gandhi\",16.0,4,null],[\"Albert Einstein\",16.0,4,null],[\"Albert Einstein\",16.0,169,null],[\"Marilyn Monroe\",16.0,4,null],[\"Marilyn Monroe\",16.0,149,null],[\"Queen Elizabeth I\",16.0,4,null],[\"Queen Elizabeth I\",16.0,181,null],[\"Nelson Mandela\",16.0,4,null],[\"Nelson Mandela\",16.0,194,null],[\"Mother Teresa\",16.0,4,null],[\"Mother Teresa\",16.0,151,null],[\"Wolfgang Amadeus Mozart\",16.0,4,null],[\"Wolfgang Amadeus Mozart\",16.0,181,null],[\"Michelangelo\",16.0,4,null],[\"Michelangelo\",16.0,206,null],[\"Karl Marx\",16.0,4,null],[\"Martin Luther King Jr.\",16.0,4,null],[\"Martin Luther King Jr.\",16.0,206,null],[\"Alexander Hamilton\",16.0,4,null],[\"Alexander Hamilton\",16.0,197,null],[\"Thomas Edison\",16.0,4,null],[\"Thomas Edison\",16.0,184,null],[\"Charles Darwin\",16.0,4,null],[\"Marie Curie\",16.0,4,null],[\"Vincent van Gogh\",16.0,4,null],[\"Vincent van Gogh\",16.0,202,null],[\"Galileo Galilei\",16.0,4,null],[\"Galileo Galilei\",16.0,156,null],[\"Benjamin Franklin\",16.0,4,null],[\"Benjamin Franklin\",16.0,147,null],[\"Queen Victoria\",16.0,4,null],[\"Queen Victoria\",16.0,153,null],[\"Pablo Picasso\",16.0,4,null],[\"Pablo Picasso\",16.0,191,null],[\"Winston Churchill\",16.0,4,null],[\"Winston Churchill\",16.0,221,null],[\"Adolf Hitler\",16.0,4,null],[\"Catherine the Great\",16.0,4,null],[\"Joan of Arc\",16.0,4,null],[\"Joan of Arc\",16.0,143,null],[\"George Washington\",16.0,4,null],[\"George Washington\",16.0,157,null],[\"John F. Kennedy\",16.0,4,null],[\"John F. Kennedy\",16.0,174,null],[\"Frida Kahlo\",16.0,4,null],[\"Johann Sebastian Bach\",16.0,4,null],[\"Johann Sebastian Bach\",16.0,171,null],[\"Napoleon III\",16.0,4,null],[\"Thomas Jefferson\",16.0,4,null],[\"Thomas Jefferson\",16.0,191,null],[\"Isaac Newton\",16.0,4,null],[\"Isaac Newton\",16.0,211,null],[\"Elizabeth Taylor\",16.0,4,null],[\"Elizabeth Taylor\",16.0,138,null],[\"Michael Jordan\",16.0,4,null],[\"Michael Jordan\",16.0,234,null],[\"Neil Armstrong\",16.0,4,null],[\"Neil Armstrong\",16.0,147,null],[\"Bruce Lee\",16.0,4,null],[\"Bruce Lee\",16.0,183,null],[\"Tupac Shakur\",16.0,4,null],[\"Elvis Presley\",16.0,4,null],[\"Elvis Presley\",16.0,158,null],[\"Walt Disney\",16.0,4,null],[\"Walt Disney\",16.0,198,null],[\"Cristiano Ronaldo\",16.0,4,null],[\"Cristiano Ronaldo\",16.0,183,null],[\"Abraham Lincoln\",16.0,4,null],[\"Abraham Lincoln\",16.0,151,null],[\"Mao Zedong\",16.0,4,null],[\"Anne Frank\",16.0,4,null],[\"Stephen Hawking\",16.0,4,null],[\"Stephen Hawking\",16.0,182,null],[\"Fidel Castro\",16.0,4,null],[\"Fidel Castro\",16.0,216,null],[\"James Cook\",16.0,4,null],[\"Henry Ford\",16.0,4,null],[\"Henry Ford\",16.0,182,null],[\"Salvador Dal\\u00ed\",16.0,4,null],[\"Queen Isabella I of Castile\",16.0,4,null],[\"Pope Francis\",16.0,4,null],[\"Pope Francis\",16.0,131,null],[\"Stephen King\",16.0,4,null],[\"Amelia Earhart\",16.0,4,null],[\"Amelia Earhart\",16.0,193,null],[\"Emily Dickinson\",16.0,4,null],[\"Emily Dickinson\",16.0,205,null],[\"Alfred Nobel\",16.0,4,null],[\"Gustave Eiffel\",16.0,4,null],[\"Al Capone\",16.0,4,null],[\"Al Capone\",16.0,139,null],[\"Jackie Robinson\",16.0,4,null],[\"Margaret Thatcher\",16.0,4,null],[\"Margaret Thatcher\",16.0,179,null],[\"Vladimir Lenin\",16.0,4,null],[\"Vladimir Lenin\",16.0,153,null],[\"Babe Ruth\",16.0,4,null],[\"Babe Ruth\",16.0,172,null],[\"Rosa Parks\",16.0,4,null],[\"Che Guevara\",16.0,4,null],[\"Che Guevara\",16.0,175,null],[\"Sigmund Freud\",16.0,4,null],[\"Sigmund Freud\",16.0,158,null],[\"Christopher Columbus\",16.0,4,null],[\"Christopher Columbus\",16.0,166,null],[\"Mark Twain\",16.0,4,null],[\"Alexander Graham Bell\",16.0,4,null],[\"Paul McCartney\",16.0,4,null],[\"Paul McCartney\",16.0,152,null],[\"Nikola Tesla\",16.0,4,null],[\"Bruce Springsteen\",16.0,4,null],[\"Bruce Springsteen\",16.0,149,null],[\"Emily Bront\\u00eb\",16.0,4,null],[\"Teresa of \\u00c1vila\",16.0,4,null],[\"John Lennon\",16.0,4,null],[\"John Lennon\",16.0,158,null],[\"Charlie Chaplin\",16.0,4,null],[\"Kurt Cobain\",16.0,4,null],[\"Kurt Cobain\",16.0,165,null],[\"Oscar Wilde\",16.0,4,null],[\"Richard Nixon\",16.0,4,null],[\"Richard Nixon\",16.0,146,null],[\"Muhammad Ali\",16.0,4,null],[\"Muhammad Ali\",16.0,166,null],[\"Helen Keller\",16.0,4,null],[\"Steve Jobs\",16.0,4,null],[\"Steve Jobs\",16.0,196,null],[\"Oprah Winfrey\",16.0,4,null],[\"Oprah Winfrey\",16.0,219,null],[\"Barack Obama\",16.0,4,null],[\"Barack Obama\",16.0,163,null],[\"Xi Jinping\",16.0,4,null],[\"Xi Jinping\",16.0,154,null],[\"Kim Jong Un\",16.0,4,null],[\"Kim Jong Un\",16.0,132,null],[\"Narendra Modi\",16.0,4,null],[\"Narendra Modi\",16.0,149,null],[\"Aung San Suu Kyi\",16.0,4,null],[\"Thaddeus Sterling\",16.0,4,null],[\"Lucas M\\u00fcller\",16.0,4,null],[\"Thibault Ricard\",16.0,4,null],[\"Rangi Tavita\",16.0,4,null],[\"John Ngaio\",16.0,4,null],[\"Amir al-Farsi\",16.0,3,null],[\"Layla Nassar\",16.0,4,null],[\"Farid Khoury\",16.0,4,null],[\"Karim Hassan\",16.0,4,null],[\"Hera Nurul\",16.0,4,null],[\"Somchai Pong\",16.0,4,null]],\"hovertemplate\":\"prediction=0.0\\u003cbr\\u003epca1=%{x}\\u003cbr\\u003erandom_value=%{y}\\u003cbr\\u003elabel=%{marker.color}\\u003cbr\\u003einput\\u002foutput=%{customdata[0]}\\u003cbr\\u003elayer_id=%{customdata[1]}\\u003cbr\\u003eoutput_length=%{customdata[2]}\\u003cbr\\u003eswitch=%{customdata[3]}\\u003cextra\\u003e\\u003c\\u002fextra\\u003e\",\"legendgroup\":\"0.0\",\"marker\":{\"color\":[12,12,12,12,12,12,12,12,12,12,12,12,12,12,12,12,12,12,12,12,12,12,12,12,12,12,12,12,12,12,12,12,12,12,12,12,12,12,12,12,12,12,12,12,12,12,12,12,12,12,12,12,12,12,12,12,12,12,12,12,12,12,12,12,12,12,12,12,12,12,12,12,12,12,12,12,12,12,12,12,12,12,12,12,12,12,12,12,12,12,12,12,12,12,12,12,12,12,12,12,12,12,12,12,12,12,12,12,12,12,12,12,12,12,12,12,12,12,12,12,12,12,12,12,12,12,12,12,12,12,12,12,12,12,12,12,12,12,12,12,12,12,13,13,13,13,13,13,13,13,13,13,13],\"coloraxis\":\"coloraxis\",\"size\":[12,12,12,12,12,12,12,12,12,12,12,12,12,12,12,12,12,12,12,12,12,12,12,12,12,12,12,12,12,12,12,12,12,12,12,12,12,12,12,12,12,12,12,12,12,12,12,12,12,12,12,12,12,12,12,12,12,12,12,12,12,12,12,12,12,12,12,12,12,12,12,12,12,12,12,12,12,12,12,12,12,12,12,12,12,12,12,12,12,12,12,12,12,12,12,12,12,12,12,12,12,12,12,12,12,12,12,12,12,12,12,12,12,12,12,12,12,12,12,12,12,12,12,12,12,12,12,12,12,12,12,12,12,12,12,12,12,12,12,12,12,12,13,13,13,13,13,13,13,13,13,13,13],\"sizemode\":\"area\",\"sizeref\":0.0325,\"symbol\":\"circle\"},\"mode\":\"markers\",\"name\":\"0.0\",\"orientation\":\"v\",\"showlegend\":true,\"x\":[-6.952716854998208,-2.758100454139905,-7.59513503318936,-0.6972699713209254,-4.823911444287728,-4.517035699927277,-4.689837348903652,-3.9172084838530195,-2.2304092575210994,-8.587116015376093,-1.830197422429514,-8.918415635336185,-0.5251739719656092,-4.127536090705453,-2.5683009102684777,-4.658328059001136,-0.10747392699380354,-1.5925986314598948,-0.6364524298166049,-7.046515227113412,-5.525994298889541,-2.090093433902582,-2.058540910649617,-1.4239339088458824,-4.268978506319108,-1.5629622610053364,-4.11672783759718,-4.31425448099848,-2.9460864659034933,-0.3675745115450102,-7.689536378728359,-0.31333615803095083,-2.0492914933523814,-2.427556203019858,-9.101028441738691,-0.9780221983080646,-0.6803538540495095,-0.2427408507170018,-5.108076859758072,-0.5532607755963528,-6.568092378284575,-4.675330811596356,-8.288516062212526,-0.31782477495465006,-5.766577668396387,-3.2130323501902733,-8.53535312635444,-2.0094553100128074,-1.8522992008778785,-3.3779300724091876,-0.16124337581370995,-4.8430495280501065,-5.831420603944592,-3.390185117890323,-7.658802585909935,-2.2076419580802744,-4.917104830451635,-1.1964182140400421,-4.161201867910326,-1.8708041929977877,-7.518628030392131,-1.0141203524693598,-5.375913059433358,-1.3700438026402488,-1.4756147747045136,-3.2686993032796794,-1.4880847960622057,-4.701612740790674,-0.8286410915614467,-0.07143654497448337,-2.15012352134118,-6.442958594628426,-1.8702504316856476,-4.4295926516558985,-3.8107933645455763,-4.006299940621819,-1.692837905634208,-3.422477878880164,-0.9129587140633122,-5.8789225404389995,-6.7509908306903,-1.5011852259029075,-0.9011119182887347,-6.7455355780158754,-2.5501081422854677,-3.6898915714193286,-1.4461056222541435,-6.477345384159531,-0.7900617909268696,-3.155333392327355,-1.1332423354496244,-3.4599864068600397,-0.2469350656748055,-4.387275734019228,-0.9159872251780398,-6.144510090784008,-4.019497925524771,-0.15061030646552476,-7.311450124041473,-0.07550049998202424,-3.375140040682937,-0.8187720487159833,-4.60022925012567,-4.443746820600937,-0.8853621406004022,-3.501925205764341,-0.9429766584887795,-5.95064549338443,-1.4656536273066365,-2.4651259315041547,-4.262173787352616,-6.016849620847746,-0.24733558884112816,-3.1864059903814805,-0.10011881546062296,-1.1474153144389785,-6.145360069248798,-3.3661613698196913,-8.451883873323576,-2.0665528708717638,-3.033100636731275,-3.650379895946072,-0.4027858420450404,-5.615879125549464,-6.726314131218656,-1.122321349978563,-5.024037804712594,-0.6684044211292199,-3.6993120769472916,-4.568249890695041,-1.6011416272559846,-4.2261073632331865,-0.07248145654897442,-6.215469047608287,-2.134674455529937,-3.75827918327449,-0.9656790149435213,-0.9844363538652068,-0.7115675413960911,-1.5157876263110737,-1.2779896977244347,-2.8947104507123216,-0.1194879390904604,-6.012265038964726,-0.11811300126505209,-5.048969726598421,-0.7225005028106718,-0.6716824833310668,-4.825523669745705,-0.7722157619155272,-0.3043834574693237,-0.03542249541367082,-5.209952685770238],\"xaxis\":\"x\",\"y\":[0.7767138172851433,0.9517654138116763,0.20494291303305812,0.36401980427914193,0.9406727507659282,0.9594579408134399,0.07688637802072917,0.44794754389672076,0.3502853371070469,0.71264555492332,0.3448175240767124,0.8214364179438975,0.7809994296970084,0.6509185544501072,0.09488792297852289,0.9476327089968859,0.09269963303278683,0.14626318888112477,0.675091844976908,0.6096514946763427,0.6448791534262212,0.16908534399622233,0.11708679983992454,0.8265590693083651,0.8736149612329952,0.3132473839751784,0.5577924325341362,0.07565352371210532,0.5612840871346807,0.500122638610743,0.46922109797530953,0.06519031975545442,0.10638511054227073,0.2833789680961054,0.6750385038781433,0.03668426163943106,0.5901454048356972,0.9106139983396437,0.5563323427979843,0.8099788279375459,0.3132486734129545,0.9328434506384098,0.3718655041784251,0.7987617768266472,0.879899893266472,0.4848923626888282,0.6403344660076514,0.3844266567095269,0.8075518399516625,0.3323307248268853,0.645340523657742,0.2751664859815032,0.31102206503729224,0.4494670916236502,0.9248981990124691,0.3858426778271622,0.7651606333152696,0.39759072327523126,0.3010923896212079,0.4898726507018245,0.16574182572511864,0.3038236993310557,0.3950026339129197,0.8478117775886412,0.1353443136967939,0.9364014206981691,0.8413787396115423,0.15181668546888927,0.7237148937181039,0.29323657939464554,0.05055392793119118,0.3778353930594338,0.4654819731258302,0.20893016316674373,0.5260846860011892,0.029680475938263173,0.6062099583545774,0.8410998258101087,0.7997290290690122,0.11226283592094621,0.5059224428178758,0.8659927806010025,0.2581788529247915,0.8589192339766053,0.7230665665286483,0.6873639658010958,0.6291740488064904,0.7374090567869556,0.6200817472248569,0.8266792814112437,0.2947221799832399,0.7266322366872185,0.4328036327813255,0.09443062990557505,0.36065695029659584,0.7478804543875699,0.9711821128582931,0.9350788768187401,0.12067530275651539,0.1424230770733368,0.6072585338460227,0.7467617113416556,0.7799288773031621,0.37035078510043706,0.2991112016316182,0.16294477722886347,0.8432703723609433,0.13457646260056733,0.024536091673113547,0.3336644284717606,0.2692635679878097,0.9473952743879362,0.3860770104971968,0.47796109207516857,0.2638183495948663,0.3093068756303481,0.7975934742086677,0.96494187242187,0.6696941387424663,0.03667567330620991,0.1568509484609234,0.17985674063855261,0.9397379747205745,0.3165828719312288,0.8641042834396766,0.8048564161852613,0.9043457131452903,0.6420876328427721,0.7872003071214342,0.972854325473662,0.41661858469364077,0.7669765070921782,0.9056985440994341,0.5084734352479436,0.6017209385305563,0.19449399186162397,0.8795910499164199,0.9329380033623111,0.42199823286011595,0.6577222052661518,0.7859606430705509,0.8154662210188368,0.5958172671150624,0.4857055514972246,0.5312114470105889,0.549791911373843,0.4343339677649416,0.15154830198799052,0.3291375387123434,0.031523522006852045,0.609125815238051,0.0845131579477677,0.3196107119769799],\"yaxis\":\"y\",\"type\":\"scatter\"},{\"customdata\":[[\"Mahatma Gandhi\",16.0,182,null],[\"Karl Marx\",16.0,182,null],[\"Charles Darwin\",16.0,194,null],[\"Marie Curie\",16.0,206,null],[\"Adolf Hitler\",16.0,209,null],[\"Catherine the Great\",16.0,209,null],[\"Frida Kahlo\",16.0,229,null],[\"Napoleon III\",16.0,148,null],[\"Tupac Shakur\",16.0,202,null],[\"Mao Zedong\",16.0,195,null],[\"Anne Frank\",16.0,140,null],[\"James Cook\",16.0,193,null],[\"Salvador Dal\\u00ed\",16.0,162,null],[\"Queen Isabella I of Castile\",16.0,173,null],[\"Stephen King\",16.0,142,null],[\"Alfred Nobel\",16.0,206,null],[\"Gustave Eiffel\",16.0,133,null],[\"Jackie Robinson\",16.0,174,null],[\"Rosa Parks\",16.0,195,null],[\"Mark Twain\",16.0,154,null],[\"Alexander Graham Bell\",16.0,126,null],[\"Nikola Tesla\",16.0,175,null],[\"Emily Bront\\u00eb\",16.0,197,null],[\"Teresa of \\u00c1vila\",16.0,172,null],[\"Charlie Chaplin\",16.0,171,null],[\"Oscar Wilde\",16.0,198,null],[\"Helen Keller\",16.0,189,null],[\"Aung San Suu Kyi\",16.0,201,null],[\"Darien Hawthorne\",16.0,4,null],[\"Darien Hawthorne\",16.0,160,null],[\"Leandra Rivers\",16.0,4,null],[\"Leandra Rivers\",16.0,189,null],[\"Elara Meadows\",16.0,4,null],[\"Elara Meadows\",16.0,165,null],[\"Liora Ashby\",16.0,4,null],[\"Liora Ashby\",16.0,193,null],[\"Thaddeus Sterling\",16.0,210,null],[\"Seraphina Winter\",16.0,4,null],[\"Seraphina Winter\",16.0,157,null],[\"Declan Monroe\",16.0,4,null],[\"Declan Monroe\",16.0,142,null],[\"Zephyr Callahan\",16.0,4,null],[\"Zephyr Callahan\",16.0,174,null],[\"Lyra Whitaker\",16.0,4,null],[\"Lyra Whitaker\",16.0,191,null],[\"Boris kovelev\",16.0,4,null],[\"Boris kovelev\",16.0,138,null],[\"Alessia Rossi\",16.0,4,null],[\"Alessia Rossi\",16.0,178,null],[\"Henrik Bergstr\\u00f6m\",16.0,4,null],[\"Henrik Bergstr\\u00f6m\",16.0,173,null],[\"Isabella Nov\\u00e1k\",16.0,4,null],[\"Isabella Nov\\u00e1k\",16.0,159,null],[\"Lucas M\\u00fcller\",16.0,184,null],[\"Sofia Kostas\",16.0,4,null],[\"Sofia Kostas\",16.0,154,null],[\"jean-pierre Perrez\",16.0,4,null],[\"jean-pierre Perrez\",16.0,191,null],[\"Haruki Suzuki\",16.0,4,null],[\"Haruki Suzuki\",16.0,139,null],[\"Mei Pin\",16.0,4,null],[\"Mei Pin\",16.0,137,null],[\"Haeki Wei\",16.0,4,null],[\"Haeki Wei\",16.0,138,null],[\"Thibault Ricard\",16.0,191,null],[\"Li Yamamoto\",16.0,4,null],[\"Li Yamamoto\",16.0,168,null],[\"Surya Gupta\",16.0,4,null],[\"Surya Gupta\",16.0,184,null],[\"Yann Fujimoto\",16.0,4,null],[\"Yann Fujimoto\",16.0,197,null],[\"Camila Santos\",16.0,4,null],[\"Camila Santos\",16.0,154,null],[\"Mateo Rodriguez\",16.0,4,null],[\"Mateo Rodriguez\",16.0,159,null],[\"Gabriel Herrera\",16.0,4,null],[\"Gabriel Herrera\",16.0,156,null],[\"Valentina Silva\",16.0,4,null],[\"Valentina Silva\",16.0,140,null],[\"Alejandro chavez\",16.0,4,null],[\"Alejandro chavez\",16.0,184,null],[\"Adamma Nwosu\",16.0,4,null],[\"Adamma Nwosu\",16.0,184,null],[\"Kwame Osei\",16.0,4,null],[\"Kwame Osei\",16.0,174,null],[\"Asha Nkrumah\",16.0,4,null],[\"Asha Nkrumah\",16.0,146,null],[\"Jabari Mbeki\",16.0,4,null],[\"Jabari Mbeki\",16.0,206,null],[\"Sanaa Diop\",16.0,4,null],[\"Sanaa Diop\",16.0,156,null],[\"Oluwa Adeyemi\",16.0,4,null],[\"Oluwa Adeyemi\",16.0,178,null],[\"Tafari Asante\",16.0,4,null],[\"Tafari Asante\",16.0,223,null],[\"Amina Dube\",16.0,4,null],[\"Amina Dube\",16.0,134,null],[\"Kofi Abimbola\",16.0,4,null],[\"Kofi Abimbola\",16.0,126,null],[\"Tane Ngata\",16.0,4,null],[\"Tane Ngata\",16.0,140,null],[\"Moana Mahana\",16.0,4,null],[\"Moana Mahana\",16.0,143,null],[\"Aroha Tamati\",16.0,4,null],[\"Aroha Tamati\",16.0,160,null],[\"Kai Tehei\",16.0,4,null],[\"Kai Tehei\",16.0,166,null],[\"Marama P\\u014dtiki\",16.0,4,null],[\"Marama P\\u014dtiki\",16.0,127,null],[\"Rangi Tavita\",16.0,167,null],[\"Hine Rehua\",16.0,4,null],[\"Hine Rehua\",16.0,165,null],[\"Manaia Whakarua\",16.0,4,null],[\"Manaia Whakarua\",16.0,157,null],[\"Kiri Waimarie\",16.0,4,null],[\"Kiri Waimarie\",16.0,146,null],[\"John Ngaio\",16.0,154,null],[\"Amir al-Farsi\",16.0,173,null],[\"Layla Nassar\",16.0,126,null],[\"Farid Khoury\",16.0,149,null],[\"Samira Alawi\",16.0,4,null],[\"Samira Alawi\",16.0,167,null],[\"Karim Hassan\",16.0,150,null],[\"Leila Rizvi\",16.0,4,null],[\"Leila Rizvi\",16.0,175,null],[\"Zahir Mansour\",16.0,4,null],[\"Zahir Mansour\",16.0,144,null],[\"Aisha Qadri\",16.0,4,null],[\"Aisha Qadri\",16.0,150,null],[\"Alfred Abbasi\",16.0,4,null],[\"Alfred Abbasi\",16.0,185,null],[\"Yousef Khalid\",16.0,4,null],[\"Yousef Khalid\",16.0,163,null],[\"Arjuna Tan\",16.0,4,null],[\"Arjuna Tan\",16.0,221,null],[\"Hera Nurul\",16.0,206,null],[\"Christopher Nguyen\",16.0,4,null],[\"Christopher Nguyen\",16.0,144,null],[\"Aisha Ebrahim\",16.0,4,null],[\"Aisha Ebrahim\",16.0,163,null],[\"Prabhu Rajan\",16.0,4,null],[\"Prabhu Rajan\",16.0,168,null],[\"Surya Dewi\",16.0,4,null],[\"Surya Dewi\",16.0,188,null],[\"Kritika Sharma\",16.0,4,null],[\"Kritika Sharma\",16.0,140,null],[\"Somchai Pong\",16.0,164,null],[\"Patrik Sari\",16.0,4,null],[\"Patrik Sari\",16.0,153,null]],\"hovertemplate\":\"prediction=1.0\\u003cbr\\u003epca1=%{x}\\u003cbr\\u003erandom_value=%{y}\\u003cbr\\u003elabel=%{marker.color}\\u003cbr\\u003einput\\u002foutput=%{customdata[0]}\\u003cbr\\u003elayer_id=%{customdata[1]}\\u003cbr\\u003eoutput_length=%{customdata[2]}\\u003cbr\\u003eswitch=%{customdata[3]}\\u003cextra\\u003e\\u003c\\u002fextra\\u003e\",\"legendgroup\":\"1.0\",\"marker\":{\"color\":[12,12,12,12,12,12,12,12,12,12,12,12,12,12,12,12,12,12,12,12,12,12,12,12,12,12,12,12,13,13,13,13,13,13,13,13,13,13,13,13,13,13,13,13,13,13,13,13,13,13,13,13,13,13,13,13,13,13,13,13,13,13,13,13,13,13,13,13,13,13,13,13,13,13,13,13,13,13,13,13,13,13,13,13,13,13,13,13,13,13,13,13,13,13,13,13,13,13,13,13,13,13,13,13,13,13,13,13,13,13,13,13,13,13,13,13,13,13,13,13,13,13,13,13,13,13,13,13,13,13,13,13,13,13,13,13,13,13,13,13,13,13,13,13,13,13,13,13,13],\"coloraxis\":\"coloraxis\",\"size\":[12,12,12,12,12,12,12,12,12,12,12,12,12,12,12,12,12,12,12,12,12,12,12,12,12,12,12,12,13,13,13,13,13,13,13,13,13,13,13,13,13,13,13,13,13,13,13,13,13,13,13,13,13,13,13,13,13,13,13,13,13,13,13,13,13,13,13,13,13,13,13,13,13,13,13,13,13,13,13,13,13,13,13,13,13,13,13,13,13,13,13,13,13,13,13,13,13,13,13,13,13,13,13,13,13,13,13,13,13,13,13,13,13,13,13,13,13,13,13,13,13,13,13,13,13,13,13,13,13,13,13,13,13,13,13,13,13,13,13,13,13,13,13,13,13,13,13,13,13],\"sizemode\":\"area\",\"sizeref\":0.0325,\"symbol\":\"diamond\"},\"mode\":\"markers\",\"name\":\"1.0\",\"orientation\":\"v\",\"showlegend\":true,\"x\":[0.24027930740007974,1.4164311355043187,0.3159099591496184,0.04055132264453171,0.642626927200372,0.4297907225370228,2.594439559591162,1.1306265886661058,0.22095025757970077,0.13475270021327246,0.20172298879147643,1.4198400833053872,2.208856871149839,1.8689523777976471,0.45021324082597036,2.5263986615063403,1.9909663812765759,1.6811740965336976,0.4120624978140045,1.2940123320188015,0.4863190471967237,1.7579884879386312,2.223976795319713,3.4459079877823866,0.04200127692585098,1.232941681329189,0.5306389174955589,0.406704059581658,2.3500990466613376,2.3185151111438236,2.2710467782342256,4.605629345676191,3.36524197392309,1.8135954938132204,1.4492312903595315,2.9709447235144535,1.8744956149623455,2.368099130700511,1.8472430744423085,1.055569896592731,1.3232906414284695,2.5027789773908267,3.1391177856926813,2.1117385720525896,2.39986559500499,1.824645518701355,7.3495435268749265,2.492461699060762,3.7205625671839964,3.2422792106084373,3.257632867861502,2.005044645833361,1.852471199036084,1.7662011755272147,2.8133603767040016,5.865513366642562,0.47962710950948106,7.6310165481727195,1.5570485497694153,10.648277304941438,2.1675379745256795,2.872439009094375,0.2313571664764127,4.147689429691095,3.8675352945607435,0.44866565971641337,3.034021777617543,1.7369785267817321,4.2198358751684975,2.0270232138553252,4.774243387054713,1.5731621706368757,7.329128895306717,1.5606452598400817,3.0477969546280983,0.5774204496499732,4.623714733549284,0.2502002356819316,4.897723489312767,0.22214177833522508,6.1108685391270505,2.642862005884991,4.5175244696806915,2.5480260316391465,7.178229397976281,1.79308731093177,6.27858145801088,0.10519119928701981,8.402623490118097,1.753649624866957,3.861165094331387,2.5530861192205325,4.364052983177787,5.312992913870504,4.578920564205884,3.0289305762815664,7.0499476788280475,0.3726536472771006,7.059894441537858,1.403109046865488,5.416750429612532,3.874596160347129,4.972895164755241,1.6025833409866397,6.25196725238552,1.6923747206259356,6.2971437703421795,1.5438368972843688,5.422825742106073,8.001398120100001,5.209508726084843,7.613886439648967,4.451328809668215,8.604195532317133,6.071652986706281,7.25788760548371,5.801339112688355,4.6306642952593124,6.964010957470171,7.868129785844112,1.9287033237739797,4.224097835940499,3.3175993470156167,1.4974259895059219,4.6407044259335235,0.8366022855889692,7.732007243494583,2.6590804549713396,5.136871354574982,1.254525167369064,4.64727520496541,0.8573958691967903,9.179879180605806,3.9369804682253906,7.9375139451570345,6.1227064008139624,2.3374628889610998,3.7149890214052665,2.1403521201740716,3.1410966392180177,2.6826548035376607,4.786402665416098,2.295167648311401,4.7670677917747,3.184884281567443,8.154466120141603,4.378982272193297,3.807862336495291,6.178886417743185],\"xaxis\":\"x\",\"y\":[0.13921562387163655,0.22123242066258464,0.03297137015032425,0.6884763089622907,0.49751833097857756,0.999526515547933,0.6655219573373803,0.8768035757501973,0.9270086887181942,0.4489690575176227,0.6053214554414551,0.4032083004383272,0.6447447715138225,0.4452461134439608,0.6320154189444327,0.4027189218712718,0.1590214306459723,0.4015849958677169,0.5361780662697536,0.08371911033767432,0.03296227678995289,0.4546880870465616,0.04630249829516109,0.5056626263544908,0.5738686025198511,0.13345694427424915,0.9120449171669667,0.7234713652043395,0.5013271843062168,0.0808486957107688,0.5310367104194821,0.8537656911469184,0.75695645805946,0.7721937602919668,0.4556163814998281,0.9856071806745242,0.060989861047105354,0.6916215674464314,0.03894591049671703,0.20958868305036282,0.530055348754685,0.9800433251355016,0.23250009741133681,0.42872239902463005,0.6558194209674123,0.7585935372202494,0.6830038308603916,0.36363800661871803,0.9547264932572982,0.2660617715934783,0.8635959503025744,0.5885383804350647,0.9289347830706799,0.06064130762932185,0.6461049506458723,0.3328236581891969,0.3991213550761714,0.05086031374757238,0.11878327866922755,0.05658324748598398,0.10424674891734764,0.4702440336387703,0.15133864248903073,0.7091928380457303,0.26818835400174146,0.765839826497885,0.07370868370601946,0.8845415973024596,0.4969256807558986,0.6800978827648828,0.2974290326801421,0.6104622497381798,0.7469908395362254,0.9779438282983962,0.9708509680795846,0.8583972809990115,0.33789406076028616,0.4968624443280819,0.4846987220953243,0.6198361456583565,0.6907503976920761,0.5590344018434492,0.34760450695843625,0.6079623975872529,0.13212784943916545,0.2415315271740326,0.8892258294676103,0.04059181552620572,0.1305699809211841,0.3484393200697484,0.9023994235354359,0.3568043133908583,0.5767720678530847,0.4221819466661567,0.8682717198047142,0.2509550298824914,0.841377756383875,0.6704391959522662,0.9690129682509149,0.37836885742816995,0.7931316694225818,0.0813491111077107,0.17104651704976315,0.5587887325650591,0.24822127269513383,0.7340099202596765,0.509038862032769,0.5914490953058027,0.6605828973592296,0.5453991056139446,0.17383390535726018,0.07114089490350306,0.2711424323366425,0.8764923211849402,0.9172687166190613,0.8438064378277959,0.8490911325728613,0.7385358090552362,0.6672769095687521,0.047641872150228415,0.4307252732284176,0.1391058305397037,0.7950204851908385,0.9131796947031761,0.9218964986589014,0.2463322854769071,0.18918302399386655,0.9729726653901493,0.66094389631171,0.4828234448924482,0.024522271200799417,0.10220237146336231,0.5018339375668198,0.5224032720057035,0.41051298980537176,0.2184842085617854,0.8877108426982137,0.5632937944464156,0.8773112184145825,0.66888740681606,0.8150334327408805,0.6044085021995904,0.46510396542843635,0.5067249559988475,0.7374716148151663,0.4435602443209242,0.8255768471145185,0.10009538052565581,0.32347809923460735],\"yaxis\":\"y\",\"type\":\"scatter\"}],                        {\"template\":{\"data\":{\"histogram2dcontour\":[{\"type\":\"histogram2dcontour\",\"colorbar\":{\"outlinewidth\":0,\"ticks\":\"\"},\"colorscale\":[[0.0,\"#0d0887\"],[0.1111111111111111,\"#46039f\"],[0.2222222222222222,\"#7201a8\"],[0.3333333333333333,\"#9c179e\"],[0.4444444444444444,\"#bd3786\"],[0.5555555555555556,\"#d8576b\"],[0.6666666666666666,\"#ed7953\"],[0.7777777777777778,\"#fb9f3a\"],[0.8888888888888888,\"#fdca26\"],[1.0,\"#f0f921\"]]}],\"choropleth\":[{\"type\":\"choropleth\",\"colorbar\":{\"outlinewidth\":0,\"ticks\":\"\"}}],\"histogram2d\":[{\"type\":\"histogram2d\",\"colorbar\":{\"outlinewidth\":0,\"ticks\":\"\"},\"colorscale\":[[0.0,\"#0d0887\"],[0.1111111111111111,\"#46039f\"],[0.2222222222222222,\"#7201a8\"],[0.3333333333333333,\"#9c179e\"],[0.4444444444444444,\"#bd3786\"],[0.5555555555555556,\"#d8576b\"],[0.6666666666666666,\"#ed7953\"],[0.7777777777777778,\"#fb9f3a\"],[0.8888888888888888,\"#fdca26\"],[1.0,\"#f0f921\"]]}],\"heatmap\":[{\"type\":\"heatmap\",\"colorbar\":{\"outlinewidth\":0,\"ticks\":\"\"},\"colorscale\":[[0.0,\"#0d0887\"],[0.1111111111111111,\"#46039f\"],[0.2222222222222222,\"#7201a8\"],[0.3333333333333333,\"#9c179e\"],[0.4444444444444444,\"#bd3786\"],[0.5555555555555556,\"#d8576b\"],[0.6666666666666666,\"#ed7953\"],[0.7777777777777778,\"#fb9f3a\"],[0.8888888888888888,\"#fdca26\"],[1.0,\"#f0f921\"]]}],\"heatmapgl\":[{\"type\":\"heatmapgl\",\"colorbar\":{\"outlinewidth\":0,\"ticks\":\"\"},\"colorscale\":[[0.0,\"#0d0887\"],[0.1111111111111111,\"#46039f\"],[0.2222222222222222,\"#7201a8\"],[0.3333333333333333,\"#9c179e\"],[0.4444444444444444,\"#bd3786\"],[0.5555555555555556,\"#d8576b\"],[0.6666666666666666,\"#ed7953\"],[0.7777777777777778,\"#fb9f3a\"],[0.8888888888888888,\"#fdca26\"],[1.0,\"#f0f921\"]]}],\"contourcarpet\":[{\"type\":\"contourcarpet\",\"colorbar\":{\"outlinewidth\":0,\"ticks\":\"\"}}],\"contour\":[{\"type\":\"contour\",\"colorbar\":{\"outlinewidth\":0,\"ticks\":\"\"},\"colorscale\":[[0.0,\"#0d0887\"],[0.1111111111111111,\"#46039f\"],[0.2222222222222222,\"#7201a8\"],[0.3333333333333333,\"#9c179e\"],[0.4444444444444444,\"#bd3786\"],[0.5555555555555556,\"#d8576b\"],[0.6666666666666666,\"#ed7953\"],[0.7777777777777778,\"#fb9f3a\"],[0.8888888888888888,\"#fdca26\"],[1.0,\"#f0f921\"]]}],\"surface\":[{\"type\":\"surface\",\"colorbar\":{\"outlinewidth\":0,\"ticks\":\"\"},\"colorscale\":[[0.0,\"#0d0887\"],[0.1111111111111111,\"#46039f\"],[0.2222222222222222,\"#7201a8\"],[0.3333333333333333,\"#9c179e\"],[0.4444444444444444,\"#bd3786\"],[0.5555555555555556,\"#d8576b\"],[0.6666666666666666,\"#ed7953\"],[0.7777777777777778,\"#fb9f3a\"],[0.8888888888888888,\"#fdca26\"],[1.0,\"#f0f921\"]]}],\"mesh3d\":[{\"type\":\"mesh3d\",\"colorbar\":{\"outlinewidth\":0,\"ticks\":\"\"}}],\"scatter\":[{\"fillpattern\":{\"fillmode\":\"overlay\",\"size\":10,\"solidity\":0.2},\"type\":\"scatter\"}],\"parcoords\":[{\"type\":\"parcoords\",\"line\":{\"colorbar\":{\"outlinewidth\":0,\"ticks\":\"\"}}}],\"scatterpolargl\":[{\"type\":\"scatterpolargl\",\"marker\":{\"colorbar\":{\"outlinewidth\":0,\"ticks\":\"\"}}}],\"bar\":[{\"error_x\":{\"color\":\"#2a3f5f\"},\"error_y\":{\"color\":\"#2a3f5f\"},\"marker\":{\"line\":{\"color\":\"#E5ECF6\",\"width\":0.5},\"pattern\":{\"fillmode\":\"overlay\",\"size\":10,\"solidity\":0.2}},\"type\":\"bar\"}],\"scattergeo\":[{\"type\":\"scattergeo\",\"marker\":{\"colorbar\":{\"outlinewidth\":0,\"ticks\":\"\"}}}],\"scatterpolar\":[{\"type\":\"scatterpolar\",\"marker\":{\"colorbar\":{\"outlinewidth\":0,\"ticks\":\"\"}}}],\"histogram\":[{\"marker\":{\"pattern\":{\"fillmode\":\"overlay\",\"size\":10,\"solidity\":0.2}},\"type\":\"histogram\"}],\"scattergl\":[{\"type\":\"scattergl\",\"marker\":{\"colorbar\":{\"outlinewidth\":0,\"ticks\":\"\"}}}],\"scatter3d\":[{\"type\":\"scatter3d\",\"line\":{\"colorbar\":{\"outlinewidth\":0,\"ticks\":\"\"}},\"marker\":{\"colorbar\":{\"outlinewidth\":0,\"ticks\":\"\"}}}],\"scattermapbox\":[{\"type\":\"scattermapbox\",\"marker\":{\"colorbar\":{\"outlinewidth\":0,\"ticks\":\"\"}}}],\"scatterternary\":[{\"type\":\"scatterternary\",\"marker\":{\"colorbar\":{\"outlinewidth\":0,\"ticks\":\"\"}}}],\"scattercarpet\":[{\"type\":\"scattercarpet\",\"marker\":{\"colorbar\":{\"outlinewidth\":0,\"ticks\":\"\"}}}],\"carpet\":[{\"aaxis\":{\"endlinecolor\":\"#2a3f5f\",\"gridcolor\":\"white\",\"linecolor\":\"white\",\"minorgridcolor\":\"white\",\"startlinecolor\":\"#2a3f5f\"},\"baxis\":{\"endlinecolor\":\"#2a3f5f\",\"gridcolor\":\"white\",\"linecolor\":\"white\",\"minorgridcolor\":\"white\",\"startlinecolor\":\"#2a3f5f\"},\"type\":\"carpet\"}],\"table\":[{\"cells\":{\"fill\":{\"color\":\"#EBF0F8\"},\"line\":{\"color\":\"white\"}},\"header\":{\"fill\":{\"color\":\"#C8D4E3\"},\"line\":{\"color\":\"white\"}},\"type\":\"table\"}],\"barpolar\":[{\"marker\":{\"line\":{\"color\":\"#E5ECF6\",\"width\":0.5},\"pattern\":{\"fillmode\":\"overlay\",\"size\":10,\"solidity\":0.2}},\"type\":\"barpolar\"}],\"pie\":[{\"automargin\":true,\"type\":\"pie\"}]},\"layout\":{\"autotypenumbers\":\"strict\",\"colorway\":[\"#636efa\",\"#EF553B\",\"#00cc96\",\"#ab63fa\",\"#FFA15A\",\"#19d3f3\",\"#FF6692\",\"#B6E880\",\"#FF97FF\",\"#FECB52\"],\"font\":{\"color\":\"#2a3f5f\"},\"hovermode\":\"closest\",\"hoverlabel\":{\"align\":\"left\"},\"paper_bgcolor\":\"white\",\"plot_bgcolor\":\"#E5ECF6\",\"polar\":{\"bgcolor\":\"#E5ECF6\",\"angularaxis\":{\"gridcolor\":\"white\",\"linecolor\":\"white\",\"ticks\":\"\"},\"radialaxis\":{\"gridcolor\":\"white\",\"linecolor\":\"white\",\"ticks\":\"\"}},\"ternary\":{\"bgcolor\":\"#E5ECF6\",\"aaxis\":{\"gridcolor\":\"white\",\"linecolor\":\"white\",\"ticks\":\"\"},\"baxis\":{\"gridcolor\":\"white\",\"linecolor\":\"white\",\"ticks\":\"\"},\"caxis\":{\"gridcolor\":\"white\",\"linecolor\":\"white\",\"ticks\":\"\"}},\"coloraxis\":{\"colorbar\":{\"outlinewidth\":0,\"ticks\":\"\"}},\"colorscale\":{\"sequential\":[[0.0,\"#0d0887\"],[0.1111111111111111,\"#46039f\"],[0.2222222222222222,\"#7201a8\"],[0.3333333333333333,\"#9c179e\"],[0.4444444444444444,\"#bd3786\"],[0.5555555555555556,\"#d8576b\"],[0.6666666666666666,\"#ed7953\"],[0.7777777777777778,\"#fb9f3a\"],[0.8888888888888888,\"#fdca26\"],[1.0,\"#f0f921\"]],\"sequentialminus\":[[0.0,\"#0d0887\"],[0.1111111111111111,\"#46039f\"],[0.2222222222222222,\"#7201a8\"],[0.3333333333333333,\"#9c179e\"],[0.4444444444444444,\"#bd3786\"],[0.5555555555555556,\"#d8576b\"],[0.6666666666666666,\"#ed7953\"],[0.7777777777777778,\"#fb9f3a\"],[0.8888888888888888,\"#fdca26\"],[1.0,\"#f0f921\"]],\"diverging\":[[0,\"#8e0152\"],[0.1,\"#c51b7d\"],[0.2,\"#de77ae\"],[0.3,\"#f1b6da\"],[0.4,\"#fde0ef\"],[0.5,\"#f7f7f7\"],[0.6,\"#e6f5d0\"],[0.7,\"#b8e186\"],[0.8,\"#7fbc41\"],[0.9,\"#4d9221\"],[1,\"#276419\"]]},\"xaxis\":{\"gridcolor\":\"white\",\"linecolor\":\"white\",\"ticks\":\"\",\"title\":{\"standoff\":15},\"zerolinecolor\":\"white\",\"automargin\":true,\"zerolinewidth\":2},\"yaxis\":{\"gridcolor\":\"white\",\"linecolor\":\"white\",\"ticks\":\"\",\"title\":{\"standoff\":15},\"zerolinecolor\":\"white\",\"automargin\":true,\"zerolinewidth\":2},\"scene\":{\"xaxis\":{\"backgroundcolor\":\"#E5ECF6\",\"gridcolor\":\"white\",\"linecolor\":\"white\",\"showbackground\":true,\"ticks\":\"\",\"zerolinecolor\":\"white\",\"gridwidth\":2},\"yaxis\":{\"backgroundcolor\":\"#E5ECF6\",\"gridcolor\":\"white\",\"linecolor\":\"white\",\"showbackground\":true,\"ticks\":\"\",\"zerolinecolor\":\"white\",\"gridwidth\":2},\"zaxis\":{\"backgroundcolor\":\"#E5ECF6\",\"gridcolor\":\"white\",\"linecolor\":\"white\",\"showbackground\":true,\"ticks\":\"\",\"zerolinecolor\":\"white\",\"gridwidth\":2}},\"shapedefaults\":{\"line\":{\"color\":\"#2a3f5f\"}},\"annotationdefaults\":{\"arrowcolor\":\"#2a3f5f\",\"arrowhead\":0,\"arrowwidth\":1},\"geo\":{\"bgcolor\":\"white\",\"landcolor\":\"#E5ECF6\",\"subunitcolor\":\"white\",\"showland\":true,\"showlakes\":true,\"lakecolor\":\"white\"},\"title\":{\"x\":0.05},\"mapbox\":{\"style\":\"light\"}}},\"xaxis\":{\"anchor\":\"y\",\"domain\":[0.0,1.0],\"title\":{\"text\":\"pca1\"}},\"yaxis\":{\"anchor\":\"x\",\"domain\":[0.0,1.0],\"title\":{\"text\":\"random_value\"}},\"coloraxis\":{\"colorbar\":{\"title\":{\"text\":\"label\"},\"yanchor\":\"top\",\"y\":1,\"x\":-0.2,\"ticks\":\"outside\"},\"colorscale\":[[0.0,\"#0d0887\"],[0.1111111111111111,\"#46039f\"],[0.2222222222222222,\"#7201a8\"],[0.3333333333333333,\"#9c179e\"],[0.4444444444444444,\"#bd3786\"],[0.5555555555555556,\"#d8576b\"],[0.6666666666666666,\"#ed7953\"],[0.7777777777777778,\"#fb9f3a\"],[0.8888888888888888,\"#fdca26\"],[1.0,\"#f0f921\"]]},\"legend\":{\"title\":{\"text\":\"prediction\"},\"tracegroupgap\":0,\"itemsizing\":\"constant\"},\"margin\":{\"t\":60},\"width\":1000,\"height\":700,\"shapes\":[{\"line\":{\"color\":\"red\",\"dash\":\"dash\"},\"type\":\"line\",\"x0\":0,\"x1\":0,\"xref\":\"x\",\"y0\":0,\"y1\":1,\"yref\":\"y domain\"}]},                        {\"responsive\": true}                    ).then(function(){\n",
       "                            \n",
       "var gd = document.getElementById('f92cffa3-6f23-4d92-89d2-c1b74fccabb6');\n",
       "var x = new MutationObserver(function (mutations, observer) {{\n",
       "        var display = window.getComputedStyle(gd).display;\n",
       "        if (!display || display === 'none') {{\n",
       "            console.log([gd, 'removed!']);\n",
       "            Plotly.purge(gd);\n",
       "            observer.disconnect();\n",
       "        }}\n",
       "}});\n",
       "\n",
       "// Listen for the removal of the full notebook cells\n",
       "var notebookContainer = gd.closest('#notebook-container');\n",
       "if (notebookContainer) {{\n",
       "    x.observe(notebookContainer, {childList: true});\n",
       "}}\n",
       "\n",
       "// Listen for the clearing of the current output cell\n",
       "var outputEl = gd.closest('.output');\n",
       "if (outputEl) {{\n",
       "    x.observe(outputEl, {childList: true});\n",
       "}}\n",
       "\n",
       "                        })                };                });            </script>        </div>"
      ]
     },
     "metadata": {},
     "output_type": "display_data"
    }
   ],
   "source": [
    "eval_df[\"random_value\"] = np.random.rand(len(eval_df))\n",
    "eval_df[\"label\"] = eval_df[\"label\"] + 1\n",
    "\n",
    "scatter = px.scatter(eval_df, x='pca1', y='random_value', \n",
    "                     color=\"label\",\n",
    "                     size='label', \n",
    "                     symbol= \"prediction\",\n",
    "                     hover_data=[\"input/output\", \"layer_id\", \"output_length\", \"switch\"],\n",
    "                     color_discrete_sequence=color_selction)\n",
    "\n",
    "scatter.update_layout(\n",
    "    # autosize=True,\n",
    "    width=1000,\n",
    "    height=700,)\n",
    "\n",
    "scatter.update_layout(coloraxis_colorbar=dict(yanchor=\"top\", y=1, x=-0.2,\n",
    "                                          ticks=\"outside\"))\n",
    "\n",
    "scatter.add_vline(x=0, line_dash=\"dash\", line_color=\"red\")\n",
    "\n",
    "scatter.show()"
   ]
  },
  {
   "cell_type": "code",
   "execution_count": null,
   "metadata": {},
   "outputs": [],
   "source": []
  },
  {
   "cell_type": "code",
   "execution_count": null,
   "metadata": {},
   "outputs": [],
   "source": []
  },
  {
   "cell_type": "code",
   "execution_count": null,
   "metadata": {},
   "outputs": [],
   "source": []
  },
  {
   "cell_type": "code",
   "execution_count": null,
   "metadata": {},
   "outputs": [],
   "source": []
  }
 ],
 "metadata": {
  "kernelspec": {
   "display_name": "base",
   "language": "python",
   "name": "python3"
  },
  "language_info": {
   "codemirror_mode": {
    "name": "ipython",
    "version": 3
   },
   "file_extension": ".py",
   "mimetype": "text/x-python",
   "name": "python",
   "nbconvert_exporter": "python",
   "pygments_lexer": "ipython3",
   "version": "3.10.14"
  }
 },
 "nbformat": 4,
 "nbformat_minor": 2
}
